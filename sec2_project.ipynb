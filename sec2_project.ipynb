{
  "nbformat": 4,
  "nbformat_minor": 0,
  "metadata": {
    "colab": {
      "name": "sec2_project.ipynb",
      "provenance": [],
      "collapsed_sections": [
        "QW_CbE7AKG0b",
        "j8aGxH1cKIZr",
        "R0TxSABzBxL0",
        "CKPsIi1TCASr"
      ],
      "authorship_tag": "ABX9TyMXxQgA8jmHQ5pGGKErCXAj"
    },
    "kernelspec": {
      "name": "python3",
      "display_name": "Python 3"
    },
    "language_info": {
      "name": "python"
    }
  },
  "cells": [
    {
      "cell_type": "markdown",
      "metadata": {
        "id": "QW_CbE7AKG0b"
      },
      "source": [
        "# 프로젝트 개요:"
      ]
    },
    {
      "cell_type": "markdown",
      "metadata": {
        "id": "urUiL73_Bn0C"
      },
      "source": [
        "안경호님은 Section 2에서 머신러닝 파이프라인을 구축하는 방법에 대해 공부하셨습니다.  \n",
        "Section 2에서 다양한 데이터셋을 통해 머신러닝 방법론을 공부했습니다. 데이터셋은 익숙한 데이터부터 전혀 도메인 지식이 없는 데이터까지 모두 다뤄봤습니다.  \n",
        "이번 프로젝트에선 안경호님이 직접 선택한 데이터셋을 사용해서 만든 머신러닝 예측 모델을 통한 성능 및 인사이트를 도출/공유하는 것이 목표 입니다."
      ]
    },
    {
      "cell_type": "markdown",
      "metadata": {
        "id": "j8aGxH1cKIZr"
      },
      "source": [
        "# 프로젝트 목표:"
      ]
    },
    {
      "cell_type": "markdown",
      "metadata": {
        "id": "IfcPo0yBBqQ_"
      },
      "source": [
        "Section 2 프로젝트의 목표는 개요에서 알려드린대로\n",
        "\n",
        "데이터셋을 사용하여 머신러능 모델을 만든 후 성능 및 인사이트를 도출 / 공유하는 것\n",
        "\n",
        "을 데이터셋 선정부터 모델 해석까지의 결과로 보여주는 것이 목표입니다.\n",
        "\n",
        "이러한 데이터셋 전처리/EDA부터 모델을 해석하는 과정을 colab을 사용하여 작성하고, 해당 내용을 기반으로 설명하는 영상을 작성하는 것이 이번 프로젝트 기간 동안 안경호님이 수행하셔야 하는 태스크입니다.\n",
        "\n",
        "당연히 어떠한 코드, 분석, 라이브러리 혹은 목표를 가지는지는 온전히 안경호님의 자유 입니다.\n",
        "\n",
        "그러나, Section 2 Project인 만큼 해당 기간 동안 배운 내용을 위주로 설정하는 것이 권장됩니다.\n",
        "\n",
        "추가로, 안경호님의 발표를 듣는 사람은 비데이터 직군이라 가정합니다.\n",
        "\n",
        "즉 안경호님의 생각이나 가정들을 설명하는 과정에서 최대한 배경지식이 없는 사람들도 이해할 수 있도록 노력하셔야 할 겁니다."
      ]
    },
    {
      "cell_type": "markdown",
      "metadata": {
        "id": "0oeXY18yKKTs"
      },
      "source": [
        "# 프로젝트 절차:"
      ]
    },
    {
      "cell_type": "markdown",
      "metadata": {
        "id": "R0TxSABzBxL0"
      },
      "source": [
        "프로젝트 노트북 및 발표 영상의 흐름을 정하는 것은 자유이나 아래의 내용이 포함이 되어야 합니다.\n",
        "\n",
        "## 1) 데이터 선정 이유 및 문제 정의"
      ]
    },
    {
      "cell_type": "markdown",
      "metadata": {
        "id": "69BD-_iCB90L"
      },
      "source": [
        "데이터를 선정할 때에는 반드시 왜 해당 데이터를 선택했는지에 대해 안경호님의 이유를 자세히 설명해주셔야 합니다. 데이터셋 선정이 끝났다면 어떤 유형의 문제로 (분류 / 회귀) 접근할지도 결정합니다."
      ]
    },
    {
      "cell_type": "markdown",
      "metadata": {
        "id": "CKPsIi1TCASr"
      },
      "source": [
        "## 2) 데이터를 이용한 가설 및 평가지표, 베이스라인 선택"
      ]
    },
    {
      "cell_type": "markdown",
      "metadata": {
        "id": "qP41rACQCCO8"
      },
      "source": [
        "데이터를 선정함과 동시에 데이터를 통해서 내가 무엇을 해볼 수 있을지 가설을 세우는 것이 중요합니다. 가설은 쓸모 있어야 한다는 사실을 잊지마시길 바랍니다.\n",
        "데이터 기반의 사고방식, data-driven의 마음가짐을 section1과 2에서 배웠습니다. 이번에는 그것들을 심화시켜서 문제 해결을 시도 해봅니다.\n",
        "\n",
        "**태스크를 수행한 후, 다음 질문에 대답할 수 있어야 합니다.**\n",
        "1. 해당 특성을 target으로 지정한 이유를 설명하세요\n",
        "\n",
        "2. 해당 베이스라인 모델과 평가지표를 선택한 이유를 설명하세요"
      ]
    },
    {
      "cell_type": "markdown",
      "metadata": {
        "id": "DGSqRBkzCEAY"
      },
      "source": [
        "## 3) EDA와 데이터 전처리"
      ]
    },
    {
      "cell_type": "markdown",
      "metadata": {
        "id": "swMg-Ci8CFTz"
      },
      "source": [
        "가설을 정했고 베이스라인을 만들었다면 데이터의 탐색 및 가공을 시작해봅니다. 바로 적용이 될 수 있는 데이터도 있겠지만, 대부분의 데이터는 전처리 작업이 필요합니다.\n",
        "데이터 전처리를 통해 할 수 있는 것은 다양하지만 다음을 시도해볼 수 있습니다.\n",
        "\n",
        "- EDA\n",
        "\n",
        "- Feature Engineering\n",
        "\n",
        "- 데이터의 정규화\n",
        "\n",
        "- 노이즈 제거\n",
        "\n",
        "- 결측치 제거 혹은 대체\n",
        "\n",
        "- 데이터 밸런스\n",
        "\n",
        "- 그 외\n",
        "\n",
        "**태스크를 수행한 후, 다음 질문에 대답할 수 있어야 합니다**\n",
        "1. Data Leakage가 있었나요? 없었다면 어떻게 방지했나요?\n",
        "\n",
        "2. 안경호님이 만들고자 하는 모델은 언제 유용한가요? 어떤 한계를 가지고 있나요?"
      ]
    },
    {
      "cell_type": "markdown",
      "metadata": {
        "id": "-Sea35JJCLoY"
      },
      "source": [
        "## 4) 머신러닝 방식 적용 및 교차검증"
      ]
    },
    {
      "cell_type": "markdown",
      "metadata": {
        "id": "J02wFU2hCM6X"
      },
      "source": [
        "데이터의 탐색과 전처리 작업이 끝났다면 모델링을 통해 베이스라인과의 성능 비교를 해봅니다.\n",
        "\n",
        "- Linear / Tree-based / Ensemble 모델을 학습하세요. (다양하게 시도해보시는 걸 추천합니다.)\n",
        "\n",
        "- 평가지표를 계산 후 베이스라인과 비교해보세요.\n",
        "\n",
        "- 어느정도 성능이 나왔다면, 교차 검증 (이하 CV)을 통해서 일반화될 가능성이 있는지 확인해봅니다.\n",
        "\n",
        "- 모델 성능을 개선하기 위한 다양한 방법을 적용해보세요.\n",
        "\n",
        "  - Hyperparameter tuning, etc.\n",
        "- 최소 2개 이상의 모델을 만들어서 validation 점수를 보고하세요.\n",
        "\n",
        "- 최종 모델의 test 점수를 보고하세요.\n",
        "\n",
        "**태스크를 수행한 후, 다음 질문에 대답할 수 있어야 합니다.**\n",
        "1. 모델을 학습한 후에 베이스라인보다 잘 나왔나요? 그렇지 않다면 그 이유는 무엇일까요?\n",
        "2. 모델 성능 개선을 위해 어떤 방법을 적용했나요? 그 방법을 선택한 이유는 무엇인가요?\n",
        "3. 최종 모델에 관해 설명하세요."
      ]
    },
    {
      "cell_type": "markdown",
      "metadata": {
        "id": "rszpQPo1COMm"
      },
      "source": [
        "## 5) 머신러닝 모델 해석"
      ]
    },
    {
      "cell_type": "markdown",
      "metadata": {
        "id": "RaV0fCBBCOUy"
      },
      "source": [
        "프로젝트에서 가장 중요하다고 볼 수 있는 부분 입니다. 우리는 SHAP, PDP 등을 통해서 모델이 관측치를 어떤 특성을 활용했거나, 어떤 특성이 타겟에 영향을 끼쳤는지 등을 해석하는 방법에 대해서 배웠습니다.\n",
        "여러분의 프로젝트에도 이러한 해석 방법을 활용해 머신러닝 모델을 비전문가라도 조금 더 쉽게 이해하고 접근할 수 있도록 해주셔야 합니다.\n",
        "\n",
        "- PDP, SHAP을 활용하여 최종 모델을 설명합니다\n",
        "- 시각화는 \"설명\"이 제일 중요합니다.\n",
        "\n",
        "**태스크를 수행한 후, 다음 질문에 대답할 수 있어야 합니다.**\n",
        "1. 모델이 관측치를 예측하기 위해서 어떤 특성을 활용했나요?\n",
        "2. 어떤 특성이 있다면 모델의 예측에 도움이 될까요? 해당 특성은 어떻게 구할 수 있을까요?"
      ]
    },
    {
      "cell_type": "markdown",
      "metadata": {
        "id": "V5gB9netCSCZ"
      },
      "source": [
        "# 1. 데이터 선정 이유 및 문제 정의"
      ]
    },
    {
      "cell_type": "markdown",
      "metadata": {
        "id": "9MtdPxDyCX1E"
      },
      "source": [
        "2011년부터 2021년까지의 서울 부동산 실거래가 데이터를 선택하였음.  \n",
        "\n",
        "뉴스나 인터넷 신문 기사 등 다양한 매체에서 끊임없이 언급되는 **서울 아파트 가격 문제**를 머신 러닝을 통해 다루어보면 좋겠다고 생각했음.  \n",
        "그리하여 최근 10년 간의 서울 부동산 실거래가 데이터를 토대로 2021년 그리고 그 이후의 아파트 가격이 어떻게 흘러갈지 알아보고 싶어졌음.  \n",
        "또한 현재 법적으로 고가주택의 가격 기준이 9억원인데(2008년~), 계속해서 아파트 가격이 오르고 있는 상황에서 이 기준이 과연 그대로 유지될 수 있을지 궁금해졌고, 이를 알아보기 위해 고가주택 비율의 흐름을 분석 및 예측해보고자 함.  \n",
        "(고가주택 기준 참고 : https://www.chosun.com/economy/real_estate/2021/02/11/T3CAJH7P6VEWJDI4FNKGESJVDE/)\n",
        "\n",
        "2011년~2020년 데이터는 서울특별시 부동산 실거래가 정보에서 완전한 데이터로 구할 수 있었으나, 2021년은 아직 끝나지 않았기에 완전한 데이터가 없었음.\n",
        "대신 국토교통부 실거래가 공개시스템을 통해서 2021년 1월부터 지난달 말일인 10월 31일까지의 실거래가 데이터를 가져옴.\n",
        "\n",
        "가격 예측은 회귀 문제, 고가주택 분류는 말 그대로 분류 문제이다.  \n",
        "따라서 가격 예측을 위해서 릿지 회귀를, 분류 예측을 위해서 로지스틱 회귀를,  \n",
        "그리고 두 예측 공통으로 결정 트리, 랜덤 포레스트 및 그라디언트 부스팅 모델을 사용하여 성능 비교 후 최종 모델을 결정한다."
      ]
    },
    {
      "cell_type": "code",
      "metadata": {
        "id": "QulVm8DSLrOG"
      },
      "source": [
        "# ! pip install category_encoders\n",
        "# ! pip install eli5\n",
        "# ! pip install shap\n",
        "# ! pip install pdpbox"
      ],
      "execution_count": 1,
      "outputs": []
    },
    {
      "cell_type": "code",
      "metadata": {
        "colab": {
          "base_uri": "https://localhost:8080/"
        },
        "id": "TWZYv2qrJ5Ox",
        "outputId": "20bd70f1-b0cc-4a88-d259-e3ecb624f63e"
      },
      "source": [
        "import pandas as pd\n",
        "import numpy as np\n",
        "import seaborn as sns\n",
        "import matplotlib.pyplot as plt\n",
        "\n",
        "from category_encoders import TargetEncoder, OrdinalEncoder\n",
        "from sklearn.impute import SimpleImputer\n",
        "from sklearn.preprocessing import StandardScaler\n",
        "from sklearn.compose import TransformedTargetRegressor\n",
        "\n",
        "from sklearn.linear_model import RidgeCV, LogisticRegression\n",
        "from sklearn.tree import DecisionTreeRegressor, DecisionTreeClassifier\n",
        "from sklearn.ensemble import RandomForestRegressor, RandomForestClassifier\n",
        "from xgboost import XGBRegressor, XGBClassifier\n",
        "\n",
        "from sklearn.model_selection import train_test_split, RandomizedSearchCV, GridSearchCV\n",
        "from sklearn.pipeline import make_pipeline\n",
        "from sklearn.metrics import mean_absolute_error, r2_score, f1_score, roc_curve, classification_report, plot_confusion_matrix, roc_auc_score\n",
        "from scipy.stats import randint, uniform\n",
        "\n",
        "import eli5\n",
        "from eli5.sklearn import PermutationImportance\n",
        "from pdpbox.pdp import pdp_isolate, pdp_plot, pdp_interact, pdp_interact_plot\n",
        "import shap"
      ],
      "execution_count": 2,
      "outputs": [
        {
          "output_type": "stream",
          "name": "stderr",
          "text": [
            "/usr/local/lib/python3.7/dist-packages/statsmodels/tools/_testing.py:19: FutureWarning: pandas.util.testing is deprecated. Use the functions in the public API at pandas.testing instead.\n",
            "  import pandas.util.testing as tm\n",
            "/usr/local/lib/python3.7/dist-packages/sklearn/utils/deprecation.py:144: FutureWarning: The sklearn.feature_selection.base module is  deprecated in version 0.22 and will be removed in version 0.24. The corresponding classes / functions should instead be imported from sklearn.feature_selection. Anything that cannot be imported from sklearn.feature_selection is now part of the private API.\n",
            "  warnings.warn(message, FutureWarning)\n"
          ]
        }
      ]
    },
    {
      "cell_type": "code",
      "metadata": {
        "id": "v9BYBUDAhcuk"
      },
      "source": [
        "# 자료 출처 : 서울 열린데이터 광장 - 서울특별시 부동산 실거래가 정보(2011~2020)\n",
        "# https://data.seoul.go.kr/dataList/OA-15548/S/1/datasetView.do\n",
        "# 국토교통부 실거래가 공개시스템(2021)\n",
        "# http://rtdown.molit.go.kr/\n",
        "\n",
        "data2020 = pd.read_csv('https://docs.google.com/uc?export=download&id=1WyeDe2Ry4ohJobcbnQJXHxFEAtcg-CC_', encoding='cp949')\n",
        "data2019 = pd.read_csv('https://docs.google.com/uc?export=download&id=1tlNazFOkcYJVeiDlLM5ZtnVUGP3PTqt3', encoding='cp949')\n",
        "data2018 = pd.read_csv('https://docs.google.com/uc?export=download&id=1bYkV3RBfrPftGoCdNw0vKZiNoiVr6itJ', encoding='cp949')\n",
        "data2017 = pd.read_csv('https://docs.google.com/uc?export=download&id=1mbtBM_8_wYNEICXp_TdLNrV2yBLfAGEe', encoding='cp949')\n",
        "data2016 = pd.read_csv('https://docs.google.com/uc?export=download&id=1z0TL75ZFdkp4aRizfKFViRCnpNh3uQ8q', encoding='cp949')\n",
        "data2015 = pd.read_csv('https://docs.google.com/uc?export=download&id=1YV6tdqtTS0mHdtSa6wRvhX38oxPrGZl1', encoding='cp949')\n",
        "data2014 = pd.read_csv('https://docs.google.com/uc?export=download&id=1OMyoaGR7YT9zw5ktzKG2TxpAO18wRUQW', encoding='cp949')\n",
        "data2013 = pd.read_csv('https://docs.google.com/uc?export=download&id=1FLH6VWaJkqNlnpBnucPwfcikiV5eYFg0', encoding='cp949')\n",
        "data2012 = pd.read_csv('https://docs.google.com/uc?export=download&id=1dUZyipoi41XpkqBZv6-pfsRXTk6zeGTQ', encoding='cp949')\n",
        "data2011 = pd.read_csv('https://docs.google.com/uc?export=download&id=1on12abOzvUDUftjpyAC9Wq-SjusWxYJd', encoding='cp949')\n",
        "\n",
        "data2021 = pd.read_csv('https://docs.google.com/uc?export=download&id=1ooZBZfgqUgxlKhefrWwaFGvaP1-zu3SA', encoding='cp949') # 아파트\n",
        "# villa_2021 = pd.read_csv('https://docs.google.com/uc?export=download&id=1mT83_q13K1-6Z3zXyRRE6z07NIsPcvjH', encoding='cp949') # 연립/다세대\n",
        "# house_2021 = pd.read_csv('https://docs.google.com/uc?export=download&id=1AIEwJEOKp9xSfPUXqjt8Y5Kj4UgrgpPZ', encoding='cp949') # 단독/다가구\n",
        "# officetel_2021 = pd.read_csv('https://docs.google.com/uc?export=download&id=12CT84sZo0NXMRlR3O_7wzAmmHW4Wzi_i', encoding='cp949') # 오피스텔\n",
        "\n",
        "addr_code = pd.read_csv('https://docs.google.com/uc?export=download&id=1NyrxzBSUOoCPBcIxKfQtZAMiL9hqaLe9', encoding='cp949') # 법정동코드\n",
        "\n",
        "# 서울 부동산 물건금액 예측해보기\n",
        "# 2011~2020년 실거래가를 토대로 2021년 부동산 물건금액 예측 테스트\n",
        "# 그리고 이후의 가격 변동 알아보기\n",
        "# 1) 가격 예측\n",
        "# 2) 고가 주택(9억 초과)과 고가 주택 아닌 것으로 분류('물건금액' 특성을 이용하여 '고가주택 여부' 만든 후 각각 회귀/분류 타겟 특성으로 분리하여 정보 누수 예방하기)"
      ],
      "execution_count": 3,
      "outputs": []
    },
    {
      "cell_type": "markdown",
      "metadata": {
        "id": "bC_WjpTRE1U7"
      },
      "source": [
        "# 2. 데이터를 이용한 가설 및 평가지표, 베이스라인 선택"
      ]
    },
    {
      "cell_type": "markdown",
      "metadata": {
        "id": "SEGKAPWxE4Jj"
      },
      "source": [
        "1) 타겟\n",
        "  - 회귀 문제 : 물건금액  \n",
        "    - 서울 부동산 가격의 흐름을 알아보고 예측하는 것이 목적\n",
        "  - 분류 문제 : 고가주택 여부(새로 만들 특성)  \n",
        "    - 고가주택의 비율의 변화 양상을 알아보고 예측하기 위함\n",
        "    - 현재 고가주택 기준인 9억원이 앞으로도 적절한 기준인지 판단하는 것이 목적\n",
        "\n",
        "2) 가설(물건금액 / 고가주택 여부)\n",
        "  1. 건물면적이 클수록 물건금액은 높을 것이다. \n",
        "  / 고가주택일 확률이 높을 것이다.\n",
        "  2. 층정보가 클수록(층이 높을수록) 물건금액은 높을 것이다.\n",
        "  / 고가주택일 확률이 높을 것이다.\n",
        "  3. 건축년도가 최신일수록 물건금액은 높을 것이다.\n",
        "  / 고가주택일 확률이 높을 것이다.\n",
        "  4. 자치구명(지역구)에 따라서 물건금액의 평균값, 중위값이 다를 것이다.\n",
        "  / 고가주택 비율이 다를 것이다.\n",
        "  5. 자치구명(지역구)에 따라서 물건금액의 매해 가격 상승률 평균이 다를 것이다.\n",
        "  / 고가주택 비율의 증감률이 다를 것이다.\n",
        "\n",
        "3) 베이스라인 모델\n",
        "  - 회귀 문제 : 2011년~2021년 '물건금액'의 평균값, 중위값 각각에 대한 MAE, R Squared\n",
        "  - 분류 문제 : 2011년~2021년의 고가주택 분류 비율\n",
        "\n",
        "4) 평가지표\n",
        "  - 회귀 문제 평가지표 : \n",
        "    - MAE : 예측값과 실제 값 차이가 얼마나 되는지 대략적으로 확인\n",
        "    - R Squared(예측 성능을 숫자 하나로 쉽게 확인\n",
        "  - 분류 문제 평가 지표 : \n",
        "    - F1 Score : 예측 성능을 숫자 하나로 쉽게 확인\n",
        "    - ROC-AUC Score : 임계값 설정을 통한 예측 성능 향상 목적\n",
        "    - Confusion matrix : 예측의 정확도, 정밀도, 재현율 확인  \n"
      ]
    },
    {
      "cell_type": "markdown",
      "metadata": {
        "id": "q0TWdrQHTOPo"
      },
      "source": [
        "# 3. EDA와 데이터 전처리 및 베이스라인 시각화"
      ]
    },
    {
      "cell_type": "markdown",
      "metadata": {
        "id": "fJ9JgFAIUyxI"
      },
      "source": [
        "## 1) EDA(데이터 확인하기)"
      ]
    },
    {
      "cell_type": "code",
      "metadata": {
        "colab": {
          "base_uri": "https://localhost:8080/",
          "height": 465
        },
        "id": "TRAB4E2gBHbk",
        "outputId": "14f65f0b-9da7-47ae-8d4e-e30825047173"
      },
      "source": [
        "# 2011 ~ 2020년\n",
        "past = pd.concat([data2020, data2019, data2018, data2017, data2016, data2015, data2014, data2013, data2012, data2011], axis=0)\n",
        "print(past.shape)\n",
        "display(pd.DataFrame([past.dtypes, past.isna().sum()], index=['dtypes', 'isna']))\n",
        "past.head()"
      ],
      "execution_count": 4,
      "outputs": [
        {
          "output_type": "stream",
          "name": "stdout",
          "text": [
            "(1524766, 20)\n"
          ]
        },
        {
          "output_type": "display_data",
          "data": {
            "text/html": [
              "<div>\n",
              "<style scoped>\n",
              "    .dataframe tbody tr th:only-of-type {\n",
              "        vertical-align: middle;\n",
              "    }\n",
              "\n",
              "    .dataframe tbody tr th {\n",
              "        vertical-align: top;\n",
              "    }\n",
              "\n",
              "    .dataframe thead th {\n",
              "        text-align: right;\n",
              "    }\n",
              "</style>\n",
              "<table border=\"1\" class=\"dataframe\">\n",
              "  <thead>\n",
              "    <tr style=\"text-align: right;\">\n",
              "      <th></th>\n",
              "      <th>실거래가아이디</th>\n",
              "      <th>지번코드</th>\n",
              "      <th>시군구코드</th>\n",
              "      <th>자치구명</th>\n",
              "      <th>법정동코드</th>\n",
              "      <th>법정동명</th>\n",
              "      <th>신고년도</th>\n",
              "      <th>업무구분코드</th>\n",
              "      <th>업무구분</th>\n",
              "      <th>물건번호</th>\n",
              "      <th>대지권면적</th>\n",
              "      <th>건물면적</th>\n",
              "      <th>관리구분코드</th>\n",
              "      <th>층정보</th>\n",
              "      <th>건물주용도코드</th>\n",
              "      <th>건물주용도</th>\n",
              "      <th>물건금액</th>\n",
              "      <th>건축년도</th>\n",
              "      <th>건물명</th>\n",
              "      <th>실거래가아이디\"</th>\n",
              "    </tr>\n",
              "  </thead>\n",
              "  <tbody>\n",
              "    <tr>\n",
              "      <th>dtypes</th>\n",
              "      <td>object</td>\n",
              "      <td>object</td>\n",
              "      <td>int64</td>\n",
              "      <td>object</td>\n",
              "      <td>int64</td>\n",
              "      <td>object</td>\n",
              "      <td>int64</td>\n",
              "      <td>int64</td>\n",
              "      <td>object</td>\n",
              "      <td>int64</td>\n",
              "      <td>float64</td>\n",
              "      <td>float64</td>\n",
              "      <td>object</td>\n",
              "      <td>float64</td>\n",
              "      <td>int64</td>\n",
              "      <td>object</td>\n",
              "      <td>int64</td>\n",
              "      <td>float64</td>\n",
              "      <td>object</td>\n",
              "      <td>object</td>\n",
              "    </tr>\n",
              "    <tr>\n",
              "      <th>isna</th>\n",
              "      <td>130272</td>\n",
              "      <td>0</td>\n",
              "      <td>0</td>\n",
              "      <td>0</td>\n",
              "      <td>0</td>\n",
              "      <td>0</td>\n",
              "      <td>0</td>\n",
              "      <td>0</td>\n",
              "      <td>0</td>\n",
              "      <td>0</td>\n",
              "      <td>761527</td>\n",
              "      <td>0</td>\n",
              "      <td>1</td>\n",
              "      <td>120400</td>\n",
              "      <td>0</td>\n",
              "      <td>0</td>\n",
              "      <td>0</td>\n",
              "      <td>1880</td>\n",
              "      <td>120400</td>\n",
              "      <td>1394494</td>\n",
              "    </tr>\n",
              "  </tbody>\n",
              "</table>\n",
              "</div>"
            ],
            "text/plain": [
              "       실거래가아이디    지번코드  시군구코드    자치구명  ...   물건금액     건축년도     건물명 실거래가아이디\"\n",
              "dtypes  object  object  int64  object  ...  int64  float64  object   object\n",
              "isna    130272       0      0       0  ...      0     1880  120400  1394494\n",
              "\n",
              "[2 rows x 20 columns]"
            ]
          },
          "metadata": {}
        },
        {
          "output_type": "execute_result",
          "data": {
            "text/html": [
              "<div>\n",
              "<style scoped>\n",
              "    .dataframe tbody tr th:only-of-type {\n",
              "        vertical-align: middle;\n",
              "    }\n",
              "\n",
              "    .dataframe tbody tr th {\n",
              "        vertical-align: top;\n",
              "    }\n",
              "\n",
              "    .dataframe thead th {\n",
              "        text-align: right;\n",
              "    }\n",
              "</style>\n",
              "<table border=\"1\" class=\"dataframe\">\n",
              "  <thead>\n",
              "    <tr style=\"text-align: right;\">\n",
              "      <th></th>\n",
              "      <th>실거래가아이디</th>\n",
              "      <th>지번코드</th>\n",
              "      <th>시군구코드</th>\n",
              "      <th>자치구명</th>\n",
              "      <th>법정동코드</th>\n",
              "      <th>법정동명</th>\n",
              "      <th>신고년도</th>\n",
              "      <th>업무구분코드</th>\n",
              "      <th>업무구분</th>\n",
              "      <th>물건번호</th>\n",
              "      <th>대지권면적</th>\n",
              "      <th>건물면적</th>\n",
              "      <th>관리구분코드</th>\n",
              "      <th>층정보</th>\n",
              "      <th>건물주용도코드</th>\n",
              "      <th>건물주용도</th>\n",
              "      <th>물건금액</th>\n",
              "      <th>건축년도</th>\n",
              "      <th>건물명</th>\n",
              "      <th>실거래가아이디\"</th>\n",
              "    </tr>\n",
              "  </thead>\n",
              "  <tbody>\n",
              "    <tr>\n",
              "      <th>0</th>\n",
              "      <td>11290-2020-4-0000066-1</td>\n",
              "      <td>1129013800101440024</td>\n",
              "      <td>11290</td>\n",
              "      <td>성북구</td>\n",
              "      <td>1129013800</td>\n",
              "      <td>장위동</td>\n",
              "      <td>2020</td>\n",
              "      <td>4</td>\n",
              "      <td>신고</td>\n",
              "      <td>1</td>\n",
              "      <td>0.0</td>\n",
              "      <td>59.92</td>\n",
              "      <td>2</td>\n",
              "      <td>5.0</td>\n",
              "      <td>2001</td>\n",
              "      <td>아파트</td>\n",
              "      <td>749000000</td>\n",
              "      <td>0.0</td>\n",
              "      <td>래미안 장위포레카운티</td>\n",
              "      <td>NaN</td>\n",
              "    </tr>\n",
              "    <tr>\n",
              "      <th>1</th>\n",
              "      <td>11290-2020-4-0000628-1</td>\n",
              "      <td>1129013400105080016</td>\n",
              "      <td>11290</td>\n",
              "      <td>성북구</td>\n",
              "      <td>1129013400</td>\n",
              "      <td>길음동</td>\n",
              "      <td>2020</td>\n",
              "      <td>4</td>\n",
              "      <td>신고</td>\n",
              "      <td>1</td>\n",
              "      <td>0.0</td>\n",
              "      <td>84.77</td>\n",
              "      <td>2</td>\n",
              "      <td>18.0</td>\n",
              "      <td>2001</td>\n",
              "      <td>아파트</td>\n",
              "      <td>1200000000</td>\n",
              "      <td>0.0</td>\n",
              "      <td>롯데캐슬 클라시아</td>\n",
              "      <td>NaN</td>\n",
              "    </tr>\n",
              "    <tr>\n",
              "      <th>2</th>\n",
              "      <td>11530-2020-4-0014284-1</td>\n",
              "      <td>1153010200107400029</td>\n",
              "      <td>11530</td>\n",
              "      <td>구로구</td>\n",
              "      <td>1153010200</td>\n",
              "      <td>구로동</td>\n",
              "      <td>2020</td>\n",
              "      <td>4</td>\n",
              "      <td>신고</td>\n",
              "      <td>1</td>\n",
              "      <td>NaN</td>\n",
              "      <td>36.90</td>\n",
              "      <td>0</td>\n",
              "      <td>1.0</td>\n",
              "      <td>2001</td>\n",
              "      <td>아파트</td>\n",
              "      <td>105000000</td>\n",
              "      <td>1994.0</td>\n",
              "      <td>궁전아트빌라</td>\n",
              "      <td>NaN</td>\n",
              "    </tr>\n",
              "    <tr>\n",
              "      <th>3</th>\n",
              "      <td>11170-2020-4-0005040-1</td>\n",
              "      <td>1117011500101930000</td>\n",
              "      <td>11170</td>\n",
              "      <td>용산구</td>\n",
              "      <td>1117011500</td>\n",
              "      <td>산천동</td>\n",
              "      <td>2020</td>\n",
              "      <td>4</td>\n",
              "      <td>신고</td>\n",
              "      <td>1</td>\n",
              "      <td>NaN</td>\n",
              "      <td>59.55</td>\n",
              "      <td>0</td>\n",
              "      <td>2.0</td>\n",
              "      <td>2001</td>\n",
              "      <td>아파트</td>\n",
              "      <td>830000000</td>\n",
              "      <td>2001.0</td>\n",
              "      <td>리버힐삼성</td>\n",
              "      <td>NaN</td>\n",
              "    </tr>\n",
              "    <tr>\n",
              "      <th>4</th>\n",
              "      <td>11170-2020-4-0001553-1</td>\n",
              "      <td>1117012900101930003</td>\n",
              "      <td>11170</td>\n",
              "      <td>용산구</td>\n",
              "      <td>1117012900</td>\n",
              "      <td>이촌동</td>\n",
              "      <td>2020</td>\n",
              "      <td>4</td>\n",
              "      <td>신고</td>\n",
              "      <td>1</td>\n",
              "      <td>NaN</td>\n",
              "      <td>64.43</td>\n",
              "      <td>0</td>\n",
              "      <td>5.0</td>\n",
              "      <td>2001</td>\n",
              "      <td>아파트</td>\n",
              "      <td>735000000</td>\n",
              "      <td>1971.0</td>\n",
              "      <td>강변</td>\n",
              "      <td>NaN</td>\n",
              "    </tr>\n",
              "  </tbody>\n",
              "</table>\n",
              "</div>"
            ],
            "text/plain": [
              "                  실거래가아이디                 지번코드  ...          건물명 실거래가아이디\"\n",
              "0  11290-2020-4-0000066-1  1129013800101440024  ...  래미안 장위포레카운티      NaN\n",
              "1  11290-2020-4-0000628-1  1129013400105080016  ...   롯데캐슬 클라시아       NaN\n",
              "2  11530-2020-4-0014284-1  1153010200107400029  ...       궁전아트빌라      NaN\n",
              "3  11170-2020-4-0005040-1  1117011500101930000  ...        리버힐삼성      NaN\n",
              "4  11170-2020-4-0001553-1  1117012900101930003  ...           강변      NaN\n",
              "\n",
              "[5 rows x 20 columns]"
            ]
          },
          "metadata": {},
          "execution_count": 4
        }
      ]
    },
    {
      "cell_type": "code",
      "metadata": {
        "colab": {
          "base_uri": "https://localhost:8080/",
          "height": 314
        },
        "id": "5M8C0Xq1X4tN",
        "outputId": "f13e8693-aad7-494e-fd50-95371ab3b30b"
      },
      "source": [
        "# 2021년\n",
        "print(data2021.shape)\n",
        "display(pd.DataFrame([data2021.dtypes, data2021.isna().sum()], index=['dtypes', 'isna']))\n",
        "data2021.head()"
      ],
      "execution_count": 5,
      "outputs": [
        {
          "output_type": "stream",
          "name": "stdout",
          "text": [
            "(40122, 15)\n"
          ]
        },
        {
          "output_type": "display_data",
          "data": {
            "text/html": [
              "<div>\n",
              "<style scoped>\n",
              "    .dataframe tbody tr th:only-of-type {\n",
              "        vertical-align: middle;\n",
              "    }\n",
              "\n",
              "    .dataframe tbody tr th {\n",
              "        vertical-align: top;\n",
              "    }\n",
              "\n",
              "    .dataframe thead th {\n",
              "        text-align: right;\n",
              "    }\n",
              "</style>\n",
              "<table border=\"1\" class=\"dataframe\">\n",
              "  <thead>\n",
              "    <tr style=\"text-align: right;\">\n",
              "      <th></th>\n",
              "      <th>시군구</th>\n",
              "      <th>번지</th>\n",
              "      <th>본번</th>\n",
              "      <th>부번</th>\n",
              "      <th>단지명</th>\n",
              "      <th>전용면적(㎡)</th>\n",
              "      <th>계약년월</th>\n",
              "      <th>계약일</th>\n",
              "      <th>거래금액(만원)</th>\n",
              "      <th>층</th>\n",
              "      <th>건축년도</th>\n",
              "      <th>도로명</th>\n",
              "      <th>해제사유발생일</th>\n",
              "      <th>거래유형</th>\n",
              "      <th>중개사소재지</th>\n",
              "    </tr>\n",
              "  </thead>\n",
              "  <tbody>\n",
              "    <tr>\n",
              "      <th>dtypes</th>\n",
              "      <td>object</td>\n",
              "      <td>object</td>\n",
              "      <td>float64</td>\n",
              "      <td>float64</td>\n",
              "      <td>object</td>\n",
              "      <td>float64</td>\n",
              "      <td>int64</td>\n",
              "      <td>int64</td>\n",
              "      <td>object</td>\n",
              "      <td>int64</td>\n",
              "      <td>int64</td>\n",
              "      <td>object</td>\n",
              "      <td>float64</td>\n",
              "      <td>object</td>\n",
              "      <td>object</td>\n",
              "    </tr>\n",
              "    <tr>\n",
              "      <th>isna</th>\n",
              "      <td>0</td>\n",
              "      <td>12</td>\n",
              "      <td>5</td>\n",
              "      <td>5</td>\n",
              "      <td>0</td>\n",
              "      <td>0</td>\n",
              "      <td>0</td>\n",
              "      <td>0</td>\n",
              "      <td>0</td>\n",
              "      <td>0</td>\n",
              "      <td>0</td>\n",
              "      <td>0</td>\n",
              "      <td>39106</td>\n",
              "      <td>0</td>\n",
              "      <td>0</td>\n",
              "    </tr>\n",
              "  </tbody>\n",
              "</table>\n",
              "</div>"
            ],
            "text/plain": [
              "           시군구      번지       본번       부번  ...     도로명  해제사유발생일    거래유형  중개사소재지\n",
              "dtypes  object  object  float64  float64  ...  object  float64  object  object\n",
              "isna         0      12        5        5  ...       0    39106       0       0\n",
              "\n",
              "[2 rows x 15 columns]"
            ]
          },
          "metadata": {}
        },
        {
          "output_type": "execute_result",
          "data": {
            "text/html": [
              "<div>\n",
              "<style scoped>\n",
              "    .dataframe tbody tr th:only-of-type {\n",
              "        vertical-align: middle;\n",
              "    }\n",
              "\n",
              "    .dataframe tbody tr th {\n",
              "        vertical-align: top;\n",
              "    }\n",
              "\n",
              "    .dataframe thead th {\n",
              "        text-align: right;\n",
              "    }\n",
              "</style>\n",
              "<table border=\"1\" class=\"dataframe\">\n",
              "  <thead>\n",
              "    <tr style=\"text-align: right;\">\n",
              "      <th></th>\n",
              "      <th>시군구</th>\n",
              "      <th>번지</th>\n",
              "      <th>본번</th>\n",
              "      <th>부번</th>\n",
              "      <th>단지명</th>\n",
              "      <th>전용면적(㎡)</th>\n",
              "      <th>계약년월</th>\n",
              "      <th>계약일</th>\n",
              "      <th>거래금액(만원)</th>\n",
              "      <th>층</th>\n",
              "      <th>건축년도</th>\n",
              "      <th>도로명</th>\n",
              "      <th>해제사유발생일</th>\n",
              "      <th>거래유형</th>\n",
              "      <th>중개사소재지</th>\n",
              "    </tr>\n",
              "  </thead>\n",
              "  <tbody>\n",
              "    <tr>\n",
              "      <th>0</th>\n",
              "      <td>서울특별시 강남구 개포동</td>\n",
              "      <td>655-2</td>\n",
              "      <td>655.0</td>\n",
              "      <td>2.0</td>\n",
              "      <td>개포2차현대아파트(220)</td>\n",
              "      <td>77.75</td>\n",
              "      <td>202104</td>\n",
              "      <td>15</td>\n",
              "      <td>174,000</td>\n",
              "      <td>9</td>\n",
              "      <td>1988</td>\n",
              "      <td>언주로 103</td>\n",
              "      <td>NaN</td>\n",
              "      <td>-</td>\n",
              "      <td>-</td>\n",
              "    </tr>\n",
              "    <tr>\n",
              "      <th>1</th>\n",
              "      <td>서울특별시 강남구 개포동</td>\n",
              "      <td>658-1</td>\n",
              "      <td>658.0</td>\n",
              "      <td>1.0</td>\n",
              "      <td>개포6차우성아파트1동~8동</td>\n",
              "      <td>79.97</td>\n",
              "      <td>202105</td>\n",
              "      <td>15</td>\n",
              "      <td>195,000</td>\n",
              "      <td>5</td>\n",
              "      <td>1987</td>\n",
              "      <td>언주로 3</td>\n",
              "      <td>NaN</td>\n",
              "      <td>-</td>\n",
              "      <td>-</td>\n",
              "    </tr>\n",
              "    <tr>\n",
              "      <th>2</th>\n",
              "      <td>서울특별시 강남구 개포동</td>\n",
              "      <td>658-1</td>\n",
              "      <td>658.0</td>\n",
              "      <td>1.0</td>\n",
              "      <td>개포6차우성아파트1동~8동</td>\n",
              "      <td>79.97</td>\n",
              "      <td>202108</td>\n",
              "      <td>11</td>\n",
              "      <td>200,000</td>\n",
              "      <td>3</td>\n",
              "      <td>1987</td>\n",
              "      <td>언주로 3</td>\n",
              "      <td>NaN</td>\n",
              "      <td>-</td>\n",
              "      <td>-</td>\n",
              "    </tr>\n",
              "    <tr>\n",
              "      <th>3</th>\n",
              "      <td>서울특별시 강남구 개포동</td>\n",
              "      <td>658-1</td>\n",
              "      <td>658.0</td>\n",
              "      <td>1.0</td>\n",
              "      <td>개포6차우성아파트1동~8동</td>\n",
              "      <td>79.97</td>\n",
              "      <td>202109</td>\n",
              "      <td>2</td>\n",
              "      <td>220,000</td>\n",
              "      <td>2</td>\n",
              "      <td>1987</td>\n",
              "      <td>언주로 3</td>\n",
              "      <td>NaN</td>\n",
              "      <td>-</td>\n",
              "      <td>-</td>\n",
              "    </tr>\n",
              "    <tr>\n",
              "      <th>4</th>\n",
              "      <td>서울특별시 강남구 개포동</td>\n",
              "      <td>1282</td>\n",
              "      <td>1282.0</td>\n",
              "      <td>0.0</td>\n",
              "      <td>개포래미안포레스트</td>\n",
              "      <td>74.66</td>\n",
              "      <td>202101</td>\n",
              "      <td>17</td>\n",
              "      <td>245,000</td>\n",
              "      <td>7</td>\n",
              "      <td>2020</td>\n",
              "      <td>개포로 264</td>\n",
              "      <td>NaN</td>\n",
              "      <td>-</td>\n",
              "      <td>-</td>\n",
              "    </tr>\n",
              "  </tbody>\n",
              "</table>\n",
              "</div>"
            ],
            "text/plain": [
              "             시군구     번지      본번   부번  ...      도로명  해제사유발생일  거래유형  중개사소재지\n",
              "0  서울특별시 강남구 개포동  655-2   655.0  2.0  ...  언주로 103      NaN     -       -\n",
              "1  서울특별시 강남구 개포동  658-1   658.0  1.0  ...    언주로 3      NaN     -       -\n",
              "2  서울특별시 강남구 개포동  658-1   658.0  1.0  ...    언주로 3      NaN     -       -\n",
              "3  서울특별시 강남구 개포동  658-1   658.0  1.0  ...    언주로 3      NaN     -       -\n",
              "4  서울특별시 강남구 개포동   1282  1282.0  0.0  ...  개포로 264      NaN     -       -\n",
              "\n",
              "[5 rows x 15 columns]"
            ]
          },
          "metadata": {},
          "execution_count": 5
        }
      ]
    },
    {
      "cell_type": "markdown",
      "metadata": {
        "id": "og2F3PjvT1L5"
      },
      "source": [
        "## 2) 2011~2020년 데이터와 2021년 데이터 형식 맞추기\n",
        "2011\\~2020년 데이터와 2021년 데이터의 출처가 달라 형식도 다름  \n",
        "이들을 2011~2020년 데이터 형식에 맞춰준다."
      ]
    },
    {
      "cell_type": "markdown",
      "metadata": {
        "id": "I1oXn5ikUwYf"
      },
      "source": [
        "### 2-1) 불필요한 컬럼 및 데이터 제거하기\n",
        "먼저 2011\\~2020년 데이터와 2021년 데이터 각각에서 불필요한 컬럼을 제거한다.\n",
        "\n",
        "또한 아파트가 아닌 데이터를 제거한다."
      ]
    },
    {
      "cell_type": "markdown",
      "metadata": {
        "id": "KSrSo6K9yDGG"
      },
      "source": [
        "#### 2-1-1) 2011~2020 데이터 불필요한 컬럼 및 데이터 제거"
      ]
    },
    {
      "cell_type": "code",
      "metadata": {
        "id": "7j-aCV7Nt6dB"
      },
      "source": [
        "# 2011~2020 데이터 불필요한 컬럼 제거\n",
        "\n",
        "# 대지권면적은 결측치가 대다수이므로 제거\n",
        "# 실제 아파트 거주 면적이 아닌 그 외의 것을 포함한 면적이므로 불필요함\n",
        "# 참고 : https://m.blog.naver.com/PostView.naver?isHttpsRedirect=true&blogId=ctrfindit&logNo=221272287733\n",
        "past = past.drop('대지권면적', axis=1)\n",
        "\n",
        "# 실제로는 건물명이 가격에 영향을 줄 것이라는 심증이 있으나(브랜드 가치 등의 이유),\n",
        "# 현재로서는 처리할 방법을 모르기 때문에 건물명 컬럼은 제거\n",
        "past = past.drop('건물명', axis=1)\n",
        "\n",
        "# 실거래가아이디는 거래 자체의 고유 번호이므로 가격과 관련없다고 판단하여 컬럼 제거\n",
        "past = past.drop('실거래가아이디', axis=1)\n",
        "past = past.drop('실거래가아이디\"', axis=1)\n",
        "\n",
        "# 업무구분 모두 '신고'이고, 업무구분코드도 모두 이에 해당하는 '4'임\n",
        "# 그 이전에 컬럼 자체도 불필요하다고 판단함. 따라서 컬럼 제거\n",
        "past = past.drop(['업무구분', '업무구분코드'], axis=1)\n",
        "\n",
        "# 물건번호는 경매에서 각 물건에 붙는 번호를 의미함\n",
        "# 예를 들어 한 사건에 한 개 물건이면 물건번호는 1임.\n",
        "# 일종의 고유 번호이므로 물건가격과 상관없다고 판단하여 컬럼 제거\n",
        "# 참고 : https://m.blog.naver.com/maestron1/221534254422\n",
        "past = past.drop('물건번호', axis=1)\n",
        "\n",
        "# 관리구분코드는 공공기관 내부적으로 사용하는 것으로 추정\n",
        "# 자세한 내용은 확인할 수 없었음\n",
        "# 명칭으로 보아 물건가격과는 관련이 없다고 보고 컬럼 제거\n",
        "past = past.drop('관리구분코드', axis=1)"
      ],
      "execution_count": 6,
      "outputs": []
    },
    {
      "cell_type": "code",
      "metadata": {
        "id": "RvRv34OGve-r"
      },
      "source": [
        "# 데이터 중 '건물주용도'가 아파트가 아닌 데이터를 제거\n",
        "past = past.loc[past['건물주용도'] == '아파트', :]"
      ],
      "execution_count": 7,
      "outputs": []
    },
    {
      "cell_type": "code",
      "metadata": {
        "colab": {
          "base_uri": "https://localhost:8080/"
        },
        "id": "Gmkxf44evwUO",
        "outputId": "e47ac8a8-7051-463b-c9ad-486579e5478d"
      },
      "source": [
        "past['건물주용도'].unique()"
      ],
      "execution_count": 8,
      "outputs": [
        {
          "output_type": "execute_result",
          "data": {
            "text/plain": [
              "array(['아파트'], dtype=object)"
            ]
          },
          "metadata": {},
          "execution_count": 8
        }
      ]
    },
    {
      "cell_type": "code",
      "metadata": {
        "id": "RhtL-R_dJX6n"
      },
      "source": [
        "# 건물주용도가 아파트뿐이므로 건물주용도, 건물주용도코드 컬럼 제거\n",
        "past = past.drop(['건물주용도', '건물주용도코드'], axis=1)"
      ],
      "execution_count": 9,
      "outputs": []
    },
    {
      "cell_type": "code",
      "metadata": {
        "colab": {
          "base_uri": "https://localhost:8080/"
        },
        "id": "Z9jcdQngJqTM",
        "outputId": "9980fa4f-424f-439f-a46c-cb527b835ab7"
      },
      "source": [
        "past['건축년도'].unique()\n",
        "# 건축년도가 nan 또는 0인 데이터가 있다"
      ],
      "execution_count": 10,
      "outputs": [
        {
          "output_type": "execute_result",
          "data": {
            "text/plain": [
              "array([   0., 1994., 2001., 1971., 1982., 2002., 1998., 2000., 2018.,\n",
              "       1997., 2003., 2017., 1996., 2013., 2016., 2019., 1977., 1989.,\n",
              "       2006., 1999., 1986., 2012., 1990., 2004., 2007., 2005., 1992.,\n",
              "       1983., 2014., 1987., 1995., 2011., 1984., 1991., 2010., 2009.,\n",
              "       2015., 2008., 1978., 1985., 2020., 1972., 1993., 1981., 1976.,\n",
              "       1969., 1988., 1979., 1975., 1974., 1961., 1980., 1973., 1970.,\n",
              "       1966., 1968., 1965., 1967.])"
            ]
          },
          "metadata": {},
          "execution_count": 10
        }
      ]
    },
    {
      "cell_type": "code",
      "metadata": {
        "colab": {
          "base_uri": "https://localhost:8080/"
        },
        "id": "56EyDMz4JtXB",
        "outputId": "78cf2349-b331-44af-f843-fe83b9115ea6"
      },
      "source": [
        "print(past.shape)\n",
        "len(past[(past['건축년도'] == 0) | (past['건축년도'].isna())])"
      ],
      "execution_count": 11,
      "outputs": [
        {
          "output_type": "stream",
          "name": "stdout",
          "text": [
            "(867180, 10)\n"
          ]
        },
        {
          "output_type": "execute_result",
          "data": {
            "text/plain": [
              "43618"
            ]
          },
          "metadata": {},
          "execution_count": 11
        }
      ]
    },
    {
      "cell_type": "code",
      "metadata": {
        "colab": {
          "base_uri": "https://localhost:8080/"
        },
        "id": "DA6t9n0NJ3g0",
        "outputId": "34f2ff93-fbb9-440e-a5a8-8fb1fab4b628"
      },
      "source": [
        "# 전체 데이터의 약 5% 이므로 제거\n",
        "past = past[(past['건축년도'] != 0) & ~(past['건축년도'].isna())]\n",
        "len(past[(past['건축년도'] == 0) | (past['건축년도'].isna())])"
      ],
      "execution_count": 12,
      "outputs": [
        {
          "output_type": "execute_result",
          "data": {
            "text/plain": [
              "0"
            ]
          },
          "metadata": {},
          "execution_count": 12
        }
      ]
    },
    {
      "cell_type": "code",
      "metadata": {
        "colab": {
          "base_uri": "https://localhost:8080/",
          "height": 314
        },
        "id": "ZtfNRwuhvWRV",
        "outputId": "de68c018-779f-4d71-b34d-b427788ce17b"
      },
      "source": [
        "print(past.shape)\n",
        "display(pd.DataFrame([past.dtypes, past.isna().sum()], index=['dtypes', 'isna']))\n",
        "past.head()"
      ],
      "execution_count": 13,
      "outputs": [
        {
          "output_type": "stream",
          "name": "stdout",
          "text": [
            "(823562, 10)\n"
          ]
        },
        {
          "output_type": "display_data",
          "data": {
            "text/html": [
              "<div>\n",
              "<style scoped>\n",
              "    .dataframe tbody tr th:only-of-type {\n",
              "        vertical-align: middle;\n",
              "    }\n",
              "\n",
              "    .dataframe tbody tr th {\n",
              "        vertical-align: top;\n",
              "    }\n",
              "\n",
              "    .dataframe thead th {\n",
              "        text-align: right;\n",
              "    }\n",
              "</style>\n",
              "<table border=\"1\" class=\"dataframe\">\n",
              "  <thead>\n",
              "    <tr style=\"text-align: right;\">\n",
              "      <th></th>\n",
              "      <th>지번코드</th>\n",
              "      <th>시군구코드</th>\n",
              "      <th>자치구명</th>\n",
              "      <th>법정동코드</th>\n",
              "      <th>법정동명</th>\n",
              "      <th>신고년도</th>\n",
              "      <th>건물면적</th>\n",
              "      <th>층정보</th>\n",
              "      <th>물건금액</th>\n",
              "      <th>건축년도</th>\n",
              "    </tr>\n",
              "  </thead>\n",
              "  <tbody>\n",
              "    <tr>\n",
              "      <th>dtypes</th>\n",
              "      <td>object</td>\n",
              "      <td>int64</td>\n",
              "      <td>object</td>\n",
              "      <td>int64</td>\n",
              "      <td>object</td>\n",
              "      <td>int64</td>\n",
              "      <td>float64</td>\n",
              "      <td>float64</td>\n",
              "      <td>int64</td>\n",
              "      <td>float64</td>\n",
              "    </tr>\n",
              "    <tr>\n",
              "      <th>isna</th>\n",
              "      <td>0</td>\n",
              "      <td>0</td>\n",
              "      <td>0</td>\n",
              "      <td>0</td>\n",
              "      <td>0</td>\n",
              "      <td>0</td>\n",
              "      <td>0</td>\n",
              "      <td>0</td>\n",
              "      <td>0</td>\n",
              "      <td>0</td>\n",
              "    </tr>\n",
              "  </tbody>\n",
              "</table>\n",
              "</div>"
            ],
            "text/plain": [
              "          지번코드  시군구코드    자치구명  법정동코드  ...     건물면적      층정보   물건금액     건축년도\n",
              "dtypes  object  int64  object  int64  ...  float64  float64  int64  float64\n",
              "isna         0      0       0      0  ...        0        0      0        0\n",
              "\n",
              "[2 rows x 10 columns]"
            ]
          },
          "metadata": {}
        },
        {
          "output_type": "execute_result",
          "data": {
            "text/html": [
              "<div>\n",
              "<style scoped>\n",
              "    .dataframe tbody tr th:only-of-type {\n",
              "        vertical-align: middle;\n",
              "    }\n",
              "\n",
              "    .dataframe tbody tr th {\n",
              "        vertical-align: top;\n",
              "    }\n",
              "\n",
              "    .dataframe thead th {\n",
              "        text-align: right;\n",
              "    }\n",
              "</style>\n",
              "<table border=\"1\" class=\"dataframe\">\n",
              "  <thead>\n",
              "    <tr style=\"text-align: right;\">\n",
              "      <th></th>\n",
              "      <th>지번코드</th>\n",
              "      <th>시군구코드</th>\n",
              "      <th>자치구명</th>\n",
              "      <th>법정동코드</th>\n",
              "      <th>법정동명</th>\n",
              "      <th>신고년도</th>\n",
              "      <th>건물면적</th>\n",
              "      <th>층정보</th>\n",
              "      <th>물건금액</th>\n",
              "      <th>건축년도</th>\n",
              "    </tr>\n",
              "  </thead>\n",
              "  <tbody>\n",
              "    <tr>\n",
              "      <th>2</th>\n",
              "      <td>1153010200107400029</td>\n",
              "      <td>11530</td>\n",
              "      <td>구로구</td>\n",
              "      <td>1153010200</td>\n",
              "      <td>구로동</td>\n",
              "      <td>2020</td>\n",
              "      <td>36.90</td>\n",
              "      <td>1.0</td>\n",
              "      <td>105000000</td>\n",
              "      <td>1994.0</td>\n",
              "    </tr>\n",
              "    <tr>\n",
              "      <th>3</th>\n",
              "      <td>1117011500101930000</td>\n",
              "      <td>11170</td>\n",
              "      <td>용산구</td>\n",
              "      <td>1117011500</td>\n",
              "      <td>산천동</td>\n",
              "      <td>2020</td>\n",
              "      <td>59.55</td>\n",
              "      <td>2.0</td>\n",
              "      <td>830000000</td>\n",
              "      <td>2001.0</td>\n",
              "    </tr>\n",
              "    <tr>\n",
              "      <th>4</th>\n",
              "      <td>1117012900101930003</td>\n",
              "      <td>11170</td>\n",
              "      <td>용산구</td>\n",
              "      <td>1117012900</td>\n",
              "      <td>이촌동</td>\n",
              "      <td>2020</td>\n",
              "      <td>64.43</td>\n",
              "      <td>5.0</td>\n",
              "      <td>735000000</td>\n",
              "      <td>1971.0</td>\n",
              "    </tr>\n",
              "    <tr>\n",
              "      <th>5</th>\n",
              "      <td>1117013000100220002</td>\n",
              "      <td>11170</td>\n",
              "      <td>용산구</td>\n",
              "      <td>1117013000</td>\n",
              "      <td>이태원동</td>\n",
              "      <td>2020</td>\n",
              "      <td>105.75</td>\n",
              "      <td>9.0</td>\n",
              "      <td>1430000000</td>\n",
              "      <td>1982.0</td>\n",
              "    </tr>\n",
              "    <tr>\n",
              "      <th>7</th>\n",
              "      <td>1117010100102440088</td>\n",
              "      <td>11170</td>\n",
              "      <td>용산구</td>\n",
              "      <td>1117010100</td>\n",
              "      <td>후암동</td>\n",
              "      <td>2020</td>\n",
              "      <td>150.08</td>\n",
              "      <td>4.0</td>\n",
              "      <td>875000000</td>\n",
              "      <td>2002.0</td>\n",
              "    </tr>\n",
              "  </tbody>\n",
              "</table>\n",
              "</div>"
            ],
            "text/plain": [
              "                  지번코드  시군구코드 자치구명       법정동코드  ...    건물면적  층정보        물건금액    건축년도\n",
              "2  1153010200107400029  11530  구로구  1153010200  ...   36.90  1.0   105000000  1994.0\n",
              "3  1117011500101930000  11170  용산구  1117011500  ...   59.55  2.0   830000000  2001.0\n",
              "4  1117012900101930003  11170  용산구  1117012900  ...   64.43  5.0   735000000  1971.0\n",
              "5  1117013000100220002  11170  용산구  1117013000  ...  105.75  9.0  1430000000  1982.0\n",
              "7  1117010100102440088  11170  용산구  1117010100  ...  150.08  4.0   875000000  2002.0\n",
              "\n",
              "[5 rows x 10 columns]"
            ]
          },
          "metadata": {},
          "execution_count": 13
        }
      ]
    },
    {
      "cell_type": "markdown",
      "metadata": {
        "id": "qdAe7M5_yQKt"
      },
      "source": [
        "#### 2-1-2) 2021 데이터 불필요한 컬럼 및 데이터 제거"
      ]
    },
    {
      "cell_type": "code",
      "metadata": {
        "id": "Y9M2lmzhyicw"
      },
      "source": [
        "# 실제로는 단지명이 가격에 영향을 줄 것이라는 심증이 있으나(브랜드 가치 등의 이유),\n",
        "# 현재로서는 처리할 방법을 모르기 때문에 단지명 컬럼은 제거\n",
        "data2021 = data2021.drop('단지명', axis=1)\n",
        "\n",
        "# 계약년월과 계약일은 past 데이터프레임에 있는 '신고년도' 컬럼과 동일한 형식으로 대체\n",
        "# 계약일 컬럼 제거 및 계약년월 컬럼명 변경, 그리고 계약년월 컬럼의 데이터 값 전체 2021로 대체\n",
        "# 그 외 past 데이터프레임과 불일치하는 컬럼명을 일치시키기\n",
        "data2021 = data2021.drop('계약일', axis=1)\n",
        "data2021['계약년월'] = 2021\n",
        "data2021.rename(columns={'계약년월':'신고년도', '전용면적(㎡)':'건물면적', '층':'층정보', '거래금액(만원)':'물건금액'}, inplace=True)\n",
        "\n",
        "# past 데이터의 형식처럼 지번 주소를 기준으로 할 것이기 때문에 '도로명' 컬럼은 제거\n",
        "data2021 = data2021.drop('도로명', axis=1)\n",
        "\n",
        "# 해제사유발생일, 거래유형, 중개사소재지는 부동산 가격과 관련 없는 것으로 판단하여 제거\n",
        "data2021 = data2021.drop(['해제사유발생일', '거래유형', '중개사소재지'], axis=1)"
      ],
      "execution_count": 14,
      "outputs": []
    },
    {
      "cell_type": "code",
      "metadata": {
        "colab": {
          "base_uri": "https://localhost:8080/",
          "height": 314
        },
        "id": "AeLVz1Fiztgm",
        "outputId": "43708363-f0e7-495c-999e-534ed3cb62a0"
      },
      "source": [
        "print(data2021.shape)\n",
        "display(pd.DataFrame([data2021.dtypes, data2021.isna().sum()], index=['dtypes', 'isna']))\n",
        "data2021.head()"
      ],
      "execution_count": 15,
      "outputs": [
        {
          "output_type": "stream",
          "name": "stdout",
          "text": [
            "(40122, 9)\n"
          ]
        },
        {
          "output_type": "display_data",
          "data": {
            "text/html": [
              "<div>\n",
              "<style scoped>\n",
              "    .dataframe tbody tr th:only-of-type {\n",
              "        vertical-align: middle;\n",
              "    }\n",
              "\n",
              "    .dataframe tbody tr th {\n",
              "        vertical-align: top;\n",
              "    }\n",
              "\n",
              "    .dataframe thead th {\n",
              "        text-align: right;\n",
              "    }\n",
              "</style>\n",
              "<table border=\"1\" class=\"dataframe\">\n",
              "  <thead>\n",
              "    <tr style=\"text-align: right;\">\n",
              "      <th></th>\n",
              "      <th>시군구</th>\n",
              "      <th>번지</th>\n",
              "      <th>본번</th>\n",
              "      <th>부번</th>\n",
              "      <th>건물면적</th>\n",
              "      <th>신고년도</th>\n",
              "      <th>물건금액</th>\n",
              "      <th>층정보</th>\n",
              "      <th>건축년도</th>\n",
              "    </tr>\n",
              "  </thead>\n",
              "  <tbody>\n",
              "    <tr>\n",
              "      <th>dtypes</th>\n",
              "      <td>object</td>\n",
              "      <td>object</td>\n",
              "      <td>float64</td>\n",
              "      <td>float64</td>\n",
              "      <td>float64</td>\n",
              "      <td>int64</td>\n",
              "      <td>object</td>\n",
              "      <td>int64</td>\n",
              "      <td>int64</td>\n",
              "    </tr>\n",
              "    <tr>\n",
              "      <th>isna</th>\n",
              "      <td>0</td>\n",
              "      <td>12</td>\n",
              "      <td>5</td>\n",
              "      <td>5</td>\n",
              "      <td>0</td>\n",
              "      <td>0</td>\n",
              "      <td>0</td>\n",
              "      <td>0</td>\n",
              "      <td>0</td>\n",
              "    </tr>\n",
              "  </tbody>\n",
              "</table>\n",
              "</div>"
            ],
            "text/plain": [
              "           시군구      번지       본번       부번     건물면적   신고년도    물건금액    층정보   건축년도\n",
              "dtypes  object  object  float64  float64  float64  int64  object  int64  int64\n",
              "isna         0      12        5        5        0      0       0      0      0"
            ]
          },
          "metadata": {}
        },
        {
          "output_type": "execute_result",
          "data": {
            "text/html": [
              "<div>\n",
              "<style scoped>\n",
              "    .dataframe tbody tr th:only-of-type {\n",
              "        vertical-align: middle;\n",
              "    }\n",
              "\n",
              "    .dataframe tbody tr th {\n",
              "        vertical-align: top;\n",
              "    }\n",
              "\n",
              "    .dataframe thead th {\n",
              "        text-align: right;\n",
              "    }\n",
              "</style>\n",
              "<table border=\"1\" class=\"dataframe\">\n",
              "  <thead>\n",
              "    <tr style=\"text-align: right;\">\n",
              "      <th></th>\n",
              "      <th>시군구</th>\n",
              "      <th>번지</th>\n",
              "      <th>본번</th>\n",
              "      <th>부번</th>\n",
              "      <th>건물면적</th>\n",
              "      <th>신고년도</th>\n",
              "      <th>물건금액</th>\n",
              "      <th>층정보</th>\n",
              "      <th>건축년도</th>\n",
              "    </tr>\n",
              "  </thead>\n",
              "  <tbody>\n",
              "    <tr>\n",
              "      <th>0</th>\n",
              "      <td>서울특별시 강남구 개포동</td>\n",
              "      <td>655-2</td>\n",
              "      <td>655.0</td>\n",
              "      <td>2.0</td>\n",
              "      <td>77.75</td>\n",
              "      <td>2021</td>\n",
              "      <td>174,000</td>\n",
              "      <td>9</td>\n",
              "      <td>1988</td>\n",
              "    </tr>\n",
              "    <tr>\n",
              "      <th>1</th>\n",
              "      <td>서울특별시 강남구 개포동</td>\n",
              "      <td>658-1</td>\n",
              "      <td>658.0</td>\n",
              "      <td>1.0</td>\n",
              "      <td>79.97</td>\n",
              "      <td>2021</td>\n",
              "      <td>195,000</td>\n",
              "      <td>5</td>\n",
              "      <td>1987</td>\n",
              "    </tr>\n",
              "    <tr>\n",
              "      <th>2</th>\n",
              "      <td>서울특별시 강남구 개포동</td>\n",
              "      <td>658-1</td>\n",
              "      <td>658.0</td>\n",
              "      <td>1.0</td>\n",
              "      <td>79.97</td>\n",
              "      <td>2021</td>\n",
              "      <td>200,000</td>\n",
              "      <td>3</td>\n",
              "      <td>1987</td>\n",
              "    </tr>\n",
              "    <tr>\n",
              "      <th>3</th>\n",
              "      <td>서울특별시 강남구 개포동</td>\n",
              "      <td>658-1</td>\n",
              "      <td>658.0</td>\n",
              "      <td>1.0</td>\n",
              "      <td>79.97</td>\n",
              "      <td>2021</td>\n",
              "      <td>220,000</td>\n",
              "      <td>2</td>\n",
              "      <td>1987</td>\n",
              "    </tr>\n",
              "    <tr>\n",
              "      <th>4</th>\n",
              "      <td>서울특별시 강남구 개포동</td>\n",
              "      <td>1282</td>\n",
              "      <td>1282.0</td>\n",
              "      <td>0.0</td>\n",
              "      <td>74.66</td>\n",
              "      <td>2021</td>\n",
              "      <td>245,000</td>\n",
              "      <td>7</td>\n",
              "      <td>2020</td>\n",
              "    </tr>\n",
              "  </tbody>\n",
              "</table>\n",
              "</div>"
            ],
            "text/plain": [
              "             시군구     번지      본번   부번   건물면적  신고년도     물건금액  층정보  건축년도\n",
              "0  서울특별시 강남구 개포동  655-2   655.0  2.0  77.75  2021  174,000    9  1988\n",
              "1  서울특별시 강남구 개포동  658-1   658.0  1.0  79.97  2021  195,000    5  1987\n",
              "2  서울특별시 강남구 개포동  658-1   658.0  1.0  79.97  2021  200,000    3  1987\n",
              "3  서울특별시 강남구 개포동  658-1   658.0  1.0  79.97  2021  220,000    2  1987\n",
              "4  서울특별시 강남구 개포동   1282  1282.0  0.0  74.66  2021  245,000    7  2020"
            ]
          },
          "metadata": {},
          "execution_count": 15
        }
      ]
    },
    {
      "cell_type": "markdown",
      "metadata": {
        "id": "e7d2dx5T09qO"
      },
      "source": [
        "### 2-2) 컬럼명 및 데이터 형식 맞추기\n",
        "\n",
        "같은 내용이지만 컬럼명이 다른 경우,  \n",
        "있어야 할 컬럼이 없는 경우,  \n",
        "데이터의 의미는 같지만 표시 방식이 다른 경우 등  \n",
        "불일치하는 형식을 일치시킨다.\n",
        "\n",
        "기준은 past 데이터프레임이므로, 2021년 데이터를 이에 맞게끔 가공한다."
      ]
    },
    {
      "cell_type": "code",
      "metadata": {
        "id": "xENNY0b41ap9"
      },
      "source": [
        "# 결측치가 소수이므로 제거\n",
        "data2021 = data2021.dropna(axis=0)"
      ],
      "execution_count": 16,
      "outputs": []
    },
    {
      "cell_type": "code",
      "metadata": {
        "colab": {
          "base_uri": "https://localhost:8080/",
          "height": 314
        },
        "id": "ugWf5qKv120P",
        "outputId": "62d04dfb-872b-4f8c-c40c-2ae851b967ad"
      },
      "source": [
        "print(data2021.shape)\n",
        "display(pd.DataFrame([data2021.dtypes, data2021.isna().sum()], index=['dtypes', 'isna']))\n",
        "data2021.head()"
      ],
      "execution_count": 17,
      "outputs": [
        {
          "output_type": "stream",
          "name": "stdout",
          "text": [
            "(40110, 9)\n"
          ]
        },
        {
          "output_type": "display_data",
          "data": {
            "text/html": [
              "<div>\n",
              "<style scoped>\n",
              "    .dataframe tbody tr th:only-of-type {\n",
              "        vertical-align: middle;\n",
              "    }\n",
              "\n",
              "    .dataframe tbody tr th {\n",
              "        vertical-align: top;\n",
              "    }\n",
              "\n",
              "    .dataframe thead th {\n",
              "        text-align: right;\n",
              "    }\n",
              "</style>\n",
              "<table border=\"1\" class=\"dataframe\">\n",
              "  <thead>\n",
              "    <tr style=\"text-align: right;\">\n",
              "      <th></th>\n",
              "      <th>시군구</th>\n",
              "      <th>번지</th>\n",
              "      <th>본번</th>\n",
              "      <th>부번</th>\n",
              "      <th>건물면적</th>\n",
              "      <th>신고년도</th>\n",
              "      <th>물건금액</th>\n",
              "      <th>층정보</th>\n",
              "      <th>건축년도</th>\n",
              "    </tr>\n",
              "  </thead>\n",
              "  <tbody>\n",
              "    <tr>\n",
              "      <th>dtypes</th>\n",
              "      <td>object</td>\n",
              "      <td>object</td>\n",
              "      <td>float64</td>\n",
              "      <td>float64</td>\n",
              "      <td>float64</td>\n",
              "      <td>int64</td>\n",
              "      <td>object</td>\n",
              "      <td>int64</td>\n",
              "      <td>int64</td>\n",
              "    </tr>\n",
              "    <tr>\n",
              "      <th>isna</th>\n",
              "      <td>0</td>\n",
              "      <td>0</td>\n",
              "      <td>0</td>\n",
              "      <td>0</td>\n",
              "      <td>0</td>\n",
              "      <td>0</td>\n",
              "      <td>0</td>\n",
              "      <td>0</td>\n",
              "      <td>0</td>\n",
              "    </tr>\n",
              "  </tbody>\n",
              "</table>\n",
              "</div>"
            ],
            "text/plain": [
              "           시군구      번지       본번       부번     건물면적   신고년도    물건금액    층정보   건축년도\n",
              "dtypes  object  object  float64  float64  float64  int64  object  int64  int64\n",
              "isna         0       0        0        0        0      0       0      0      0"
            ]
          },
          "metadata": {}
        },
        {
          "output_type": "execute_result",
          "data": {
            "text/html": [
              "<div>\n",
              "<style scoped>\n",
              "    .dataframe tbody tr th:only-of-type {\n",
              "        vertical-align: middle;\n",
              "    }\n",
              "\n",
              "    .dataframe tbody tr th {\n",
              "        vertical-align: top;\n",
              "    }\n",
              "\n",
              "    .dataframe thead th {\n",
              "        text-align: right;\n",
              "    }\n",
              "</style>\n",
              "<table border=\"1\" class=\"dataframe\">\n",
              "  <thead>\n",
              "    <tr style=\"text-align: right;\">\n",
              "      <th></th>\n",
              "      <th>시군구</th>\n",
              "      <th>번지</th>\n",
              "      <th>본번</th>\n",
              "      <th>부번</th>\n",
              "      <th>건물면적</th>\n",
              "      <th>신고년도</th>\n",
              "      <th>물건금액</th>\n",
              "      <th>층정보</th>\n",
              "      <th>건축년도</th>\n",
              "    </tr>\n",
              "  </thead>\n",
              "  <tbody>\n",
              "    <tr>\n",
              "      <th>0</th>\n",
              "      <td>서울특별시 강남구 개포동</td>\n",
              "      <td>655-2</td>\n",
              "      <td>655.0</td>\n",
              "      <td>2.0</td>\n",
              "      <td>77.75</td>\n",
              "      <td>2021</td>\n",
              "      <td>174,000</td>\n",
              "      <td>9</td>\n",
              "      <td>1988</td>\n",
              "    </tr>\n",
              "    <tr>\n",
              "      <th>1</th>\n",
              "      <td>서울특별시 강남구 개포동</td>\n",
              "      <td>658-1</td>\n",
              "      <td>658.0</td>\n",
              "      <td>1.0</td>\n",
              "      <td>79.97</td>\n",
              "      <td>2021</td>\n",
              "      <td>195,000</td>\n",
              "      <td>5</td>\n",
              "      <td>1987</td>\n",
              "    </tr>\n",
              "    <tr>\n",
              "      <th>2</th>\n",
              "      <td>서울특별시 강남구 개포동</td>\n",
              "      <td>658-1</td>\n",
              "      <td>658.0</td>\n",
              "      <td>1.0</td>\n",
              "      <td>79.97</td>\n",
              "      <td>2021</td>\n",
              "      <td>200,000</td>\n",
              "      <td>3</td>\n",
              "      <td>1987</td>\n",
              "    </tr>\n",
              "    <tr>\n",
              "      <th>3</th>\n",
              "      <td>서울특별시 강남구 개포동</td>\n",
              "      <td>658-1</td>\n",
              "      <td>658.0</td>\n",
              "      <td>1.0</td>\n",
              "      <td>79.97</td>\n",
              "      <td>2021</td>\n",
              "      <td>220,000</td>\n",
              "      <td>2</td>\n",
              "      <td>1987</td>\n",
              "    </tr>\n",
              "    <tr>\n",
              "      <th>4</th>\n",
              "      <td>서울특별시 강남구 개포동</td>\n",
              "      <td>1282</td>\n",
              "      <td>1282.0</td>\n",
              "      <td>0.0</td>\n",
              "      <td>74.66</td>\n",
              "      <td>2021</td>\n",
              "      <td>245,000</td>\n",
              "      <td>7</td>\n",
              "      <td>2020</td>\n",
              "    </tr>\n",
              "  </tbody>\n",
              "</table>\n",
              "</div>"
            ],
            "text/plain": [
              "             시군구     번지      본번   부번   건물면적  신고년도     물건금액  층정보  건축년도\n",
              "0  서울특별시 강남구 개포동  655-2   655.0  2.0  77.75  2021  174,000    9  1988\n",
              "1  서울특별시 강남구 개포동  658-1   658.0  1.0  79.97  2021  195,000    5  1987\n",
              "2  서울특별시 강남구 개포동  658-1   658.0  1.0  79.97  2021  200,000    3  1987\n",
              "3  서울특별시 강남구 개포동  658-1   658.0  1.0  79.97  2021  220,000    2  1987\n",
              "4  서울특별시 강남구 개포동   1282  1282.0  0.0  74.66  2021  245,000    7  2020"
            ]
          },
          "metadata": {},
          "execution_count": 17
        }
      ]
    },
    {
      "cell_type": "code",
      "metadata": {
        "colab": {
          "base_uri": "https://localhost:8080/",
          "height": 203
        },
        "id": "3w--1VSh2Afi",
        "outputId": "b8da8dcf-494a-42d0-8741-ccff81cc7a05"
      },
      "source": [
        "# 지번코드를 만들기 위해서 법정동코드 데이터와 함께 '시군구', '본번', '부번' 컬럼 사용\n",
        "addr_code.head()"
      ],
      "execution_count": 18,
      "outputs": [
        {
          "output_type": "execute_result",
          "data": {
            "text/html": [
              "<div>\n",
              "<style scoped>\n",
              "    .dataframe tbody tr th:only-of-type {\n",
              "        vertical-align: middle;\n",
              "    }\n",
              "\n",
              "    .dataframe tbody tr th {\n",
              "        vertical-align: top;\n",
              "    }\n",
              "\n",
              "    .dataframe thead th {\n",
              "        text-align: right;\n",
              "    }\n",
              "</style>\n",
              "<table border=\"1\" class=\"dataframe\">\n",
              "  <thead>\n",
              "    <tr style=\"text-align: right;\">\n",
              "      <th></th>\n",
              "      <th>법정동코드</th>\n",
              "      <th>법정동명</th>\n",
              "    </tr>\n",
              "  </thead>\n",
              "  <tbody>\n",
              "    <tr>\n",
              "      <th>0</th>\n",
              "      <td>1111000000</td>\n",
              "      <td>종로구</td>\n",
              "    </tr>\n",
              "    <tr>\n",
              "      <th>1</th>\n",
              "      <td>1111010100</td>\n",
              "      <td>종로구 청운동</td>\n",
              "    </tr>\n",
              "    <tr>\n",
              "      <th>2</th>\n",
              "      <td>1111010200</td>\n",
              "      <td>종로구 신교동</td>\n",
              "    </tr>\n",
              "    <tr>\n",
              "      <th>3</th>\n",
              "      <td>1111010300</td>\n",
              "      <td>종로구 궁정동</td>\n",
              "    </tr>\n",
              "    <tr>\n",
              "      <th>4</th>\n",
              "      <td>1111010400</td>\n",
              "      <td>종로구 효자동</td>\n",
              "    </tr>\n",
              "  </tbody>\n",
              "</table>\n",
              "</div>"
            ],
            "text/plain": [
              "        법정동코드     법정동명\n",
              "0  1111000000      종로구\n",
              "1  1111010100  종로구 청운동\n",
              "2  1111010200  종로구 신교동\n",
              "3  1111010300  종로구 궁정동\n",
              "4  1111010400  종로구 효자동"
            ]
          },
          "metadata": {},
          "execution_count": 18
        }
      ]
    },
    {
      "cell_type": "code",
      "metadata": {
        "id": "tHd16ck45wPy"
      },
      "source": [
        "data2021['자치구명'] = data2021['시군구'].str.split(' ').str[1]\n",
        "data2021['법정동명'] = data2021['시군구'].str.split(' ').str[2]\n",
        "data2021['자치구법정동'] = data2021['자치구명'] + ' ' + data2021['법정동명']"
      ],
      "execution_count": 19,
      "outputs": []
    },
    {
      "cell_type": "code",
      "metadata": {
        "id": "4tjyw-ek8VVr"
      },
      "source": [
        "# 계산 속도 향상을 위해 법정동명:법정동코드 쌍으로 dict를 만듦\n",
        "addr_map = dict([(addr_str,code) for code, addr_str in zip(addr_code['법정동코드'], addr_code['법정동명'])])\n",
        "\n",
        "def findAddrCode(input):\n",
        "  return addr_map[input]"
      ],
      "execution_count": 20,
      "outputs": []
    },
    {
      "cell_type": "code",
      "metadata": {
        "id": "OguMumbi6aKv"
      },
      "source": [
        "# 자치구와 법정동 이름을 통해 법정동코드 가져오기\n",
        "# 문자열로 형변환(지번코드 만들기 위한 목적)\n",
        "data2021['법정동코드'] = data2021['자치구법정동'].apply(findAddrCode).astype(str)"
      ],
      "execution_count": 21,
      "outputs": []
    },
    {
      "cell_type": "code",
      "metadata": {
        "id": "7ZZiM-bKFWe8"
      },
      "source": [
        "# 지번코드 컬럼을 만들기 위해 필지구분(1)+본번(4)+부번(4)을 법정동코드 뒤에 이어붙여야 함\n",
        "# 먼저 '본번'과 '부번' 컬럼을 정수형으로 변환하여 소수점 제거 후 문자열로 형변환(지번코드 만들기 위한 목적)\n",
        "data2021[['본번', '부번']] = data2021[['본번', '부번']].astype(int).astype(str)"
      ],
      "execution_count": 22,
      "outputs": []
    },
    {
      "cell_type": "code",
      "metadata": {
        "id": "hWLxaUExGHBK"
      },
      "source": [
        "# '필지구분' 컬럼을 만들기 위해 '번지' 컬럼에 \"산\"이 포함된 데이터 찾아내기\n",
        "# \"산\"이 있는 경우 2, 없으면 1\n",
        "# 문자열로 형변환(지번코드 만들기 위한 목적)\n",
        "data2021['필지구분'] = data2021['번지'].apply(lambda x: 2 if '산' in x else 1).astype(str)"
      ],
      "execution_count": 23,
      "outputs": []
    },
    {
      "cell_type": "code",
      "metadata": {
        "id": "Me9yNQs3HEIs"
      },
      "source": [
        "# 본번과 부번 각각 4자리를 기준으로, 뒤에서부터 숫자 채운 후 모자라는 자리는 0으로 대체\n",
        "data2021['본번'] = data2021['본번'].apply(lambda x: x.zfill(4))\n",
        "data2021['부번'] = data2021['부번'].apply(lambda x: x.zfill(4))"
      ],
      "execution_count": 24,
      "outputs": []
    },
    {
      "cell_type": "code",
      "metadata": {
        "id": "nWpUfd-sIZ1M"
      },
      "source": [
        "# 지번코드 컬럼 만들기(법정동코드(10) + 필지구분(1) + 본번(4) + 부번(4) = 19자리)\n",
        "data2021['지번코드'] = data2021['법정동코드'] + data2021['필지구분'] + data2021['본번'] + data2021['부번']"
      ],
      "execution_count": 25,
      "outputs": []
    },
    {
      "cell_type": "code",
      "metadata": {
        "id": "lhCGrO8wL-kP"
      },
      "source": [
        "# 시군구코드 만들기\n",
        "data2021['시군구코드'] = data2021['법정동코드'].str.slice(stop=5)"
      ],
      "execution_count": 26,
      "outputs": []
    },
    {
      "cell_type": "code",
      "metadata": {
        "id": "6A7ZL1kTKI3D"
      },
      "source": [
        "# 거래금액 형식 맞추기\n",
        "def moneyFormMatch(input):\n",
        "  return int(input.replace(',', ''))*10000\n",
        "\n",
        "data2021['물건금액'] = data2021['물건금액'].apply(moneyFormMatch)"
      ],
      "execution_count": 27,
      "outputs": []
    },
    {
      "cell_type": "code",
      "metadata": {
        "id": "SU3KE6rIJHn-"
      },
      "source": [
        "# past 데이터와의 형식을 맞추기 위해서 불필요한 컬럼 제거하기\n",
        "data2021 = data2021.drop(['시군구', '번지', '본번', '부번', '자치구법정동', '필지구분'], axis=1)"
      ],
      "execution_count": 28,
      "outputs": []
    },
    {
      "cell_type": "code",
      "metadata": {
        "id": "MBuvZH1DLv-G"
      },
      "source": [
        "# 컬럼 순서 맞추기\n",
        "data2021 = data2021[['지번코드', '시군구코드', '자치구명', '법정동코드', '법정동명', '신고년도', '건물면적', '층정보', '물건금액', '건축년도']]"
      ],
      "execution_count": 29,
      "outputs": []
    },
    {
      "cell_type": "code",
      "metadata": {
        "colab": {
          "base_uri": "https://localhost:8080/",
          "height": 110
        },
        "id": "-SLWX9OOLtaj",
        "outputId": "f548a600-1f90-421a-ac2c-c5edbaf681e4"
      },
      "source": [
        "display(pd.DataFrame([past.columns, data2021.columns], index=['past', '2021']))"
      ],
      "execution_count": 30,
      "outputs": [
        {
          "output_type": "display_data",
          "data": {
            "text/html": [
              "<div>\n",
              "<style scoped>\n",
              "    .dataframe tbody tr th:only-of-type {\n",
              "        vertical-align: middle;\n",
              "    }\n",
              "\n",
              "    .dataframe tbody tr th {\n",
              "        vertical-align: top;\n",
              "    }\n",
              "\n",
              "    .dataframe thead th {\n",
              "        text-align: right;\n",
              "    }\n",
              "</style>\n",
              "<table border=\"1\" class=\"dataframe\">\n",
              "  <thead>\n",
              "    <tr style=\"text-align: right;\">\n",
              "      <th></th>\n",
              "      <th>0</th>\n",
              "      <th>1</th>\n",
              "      <th>2</th>\n",
              "      <th>3</th>\n",
              "      <th>4</th>\n",
              "      <th>5</th>\n",
              "      <th>6</th>\n",
              "      <th>7</th>\n",
              "      <th>8</th>\n",
              "      <th>9</th>\n",
              "    </tr>\n",
              "  </thead>\n",
              "  <tbody>\n",
              "    <tr>\n",
              "      <th>past</th>\n",
              "      <td>지번코드</td>\n",
              "      <td>시군구코드</td>\n",
              "      <td>자치구명</td>\n",
              "      <td>법정동코드</td>\n",
              "      <td>법정동명</td>\n",
              "      <td>신고년도</td>\n",
              "      <td>건물면적</td>\n",
              "      <td>층정보</td>\n",
              "      <td>물건금액</td>\n",
              "      <td>건축년도</td>\n",
              "    </tr>\n",
              "    <tr>\n",
              "      <th>2021</th>\n",
              "      <td>지번코드</td>\n",
              "      <td>시군구코드</td>\n",
              "      <td>자치구명</td>\n",
              "      <td>법정동코드</td>\n",
              "      <td>법정동명</td>\n",
              "      <td>신고년도</td>\n",
              "      <td>건물면적</td>\n",
              "      <td>층정보</td>\n",
              "      <td>물건금액</td>\n",
              "      <td>건축년도</td>\n",
              "    </tr>\n",
              "  </tbody>\n",
              "</table>\n",
              "</div>"
            ],
            "text/plain": [
              "         0      1     2      3     4     5     6    7     8     9\n",
              "past  지번코드  시군구코드  자치구명  법정동코드  법정동명  신고년도  건물면적  층정보  물건금액  건축년도\n",
              "2021  지번코드  시군구코드  자치구명  법정동코드  법정동명  신고년도  건물면적  층정보  물건금액  건축년도"
            ]
          },
          "metadata": {}
        }
      ]
    },
    {
      "cell_type": "code",
      "metadata": {
        "colab": {
          "base_uri": "https://localhost:8080/",
          "height": 110
        },
        "id": "tlg66l3B6Rsz",
        "outputId": "c1f340f0-5db1-4711-9845-d846053aeb0f"
      },
      "source": [
        "display(pd.DataFrame([past.dtypes, data2021.dtypes], index=['past', '2021']))"
      ],
      "execution_count": 31,
      "outputs": [
        {
          "output_type": "display_data",
          "data": {
            "text/html": [
              "<div>\n",
              "<style scoped>\n",
              "    .dataframe tbody tr th:only-of-type {\n",
              "        vertical-align: middle;\n",
              "    }\n",
              "\n",
              "    .dataframe tbody tr th {\n",
              "        vertical-align: top;\n",
              "    }\n",
              "\n",
              "    .dataframe thead th {\n",
              "        text-align: right;\n",
              "    }\n",
              "</style>\n",
              "<table border=\"1\" class=\"dataframe\">\n",
              "  <thead>\n",
              "    <tr style=\"text-align: right;\">\n",
              "      <th></th>\n",
              "      <th>지번코드</th>\n",
              "      <th>시군구코드</th>\n",
              "      <th>자치구명</th>\n",
              "      <th>법정동코드</th>\n",
              "      <th>법정동명</th>\n",
              "      <th>신고년도</th>\n",
              "      <th>건물면적</th>\n",
              "      <th>층정보</th>\n",
              "      <th>물건금액</th>\n",
              "      <th>건축년도</th>\n",
              "    </tr>\n",
              "  </thead>\n",
              "  <tbody>\n",
              "    <tr>\n",
              "      <th>past</th>\n",
              "      <td>object</td>\n",
              "      <td>int64</td>\n",
              "      <td>object</td>\n",
              "      <td>int64</td>\n",
              "      <td>object</td>\n",
              "      <td>int64</td>\n",
              "      <td>float64</td>\n",
              "      <td>float64</td>\n",
              "      <td>int64</td>\n",
              "      <td>float64</td>\n",
              "    </tr>\n",
              "    <tr>\n",
              "      <th>2021</th>\n",
              "      <td>object</td>\n",
              "      <td>object</td>\n",
              "      <td>object</td>\n",
              "      <td>object</td>\n",
              "      <td>object</td>\n",
              "      <td>int64</td>\n",
              "      <td>float64</td>\n",
              "      <td>int64</td>\n",
              "      <td>int64</td>\n",
              "      <td>int64</td>\n",
              "    </tr>\n",
              "  </tbody>\n",
              "</table>\n",
              "</div>"
            ],
            "text/plain": [
              "        지번코드   시군구코드    자치구명   법정동코드  ...     건물면적      층정보   물건금액     건축년도\n",
              "past  object   int64  object   int64  ...  float64  float64  int64  float64\n",
              "2021  object  object  object  object  ...  float64    int64  int64    int64\n",
              "\n",
              "[2 rows x 10 columns]"
            ]
          },
          "metadata": {}
        }
      ]
    },
    {
      "cell_type": "code",
      "metadata": {
        "colab": {
          "base_uri": "https://localhost:8080/",
          "height": 204
        },
        "id": "GyuYuKSbPO6t",
        "outputId": "af0ff961-2959-4304-c3f9-97a62f8cf720"
      },
      "source": [
        "display(past.head(2))\n",
        "display(data2021.head(2))"
      ],
      "execution_count": 32,
      "outputs": [
        {
          "output_type": "display_data",
          "data": {
            "text/html": [
              "<div>\n",
              "<style scoped>\n",
              "    .dataframe tbody tr th:only-of-type {\n",
              "        vertical-align: middle;\n",
              "    }\n",
              "\n",
              "    .dataframe tbody tr th {\n",
              "        vertical-align: top;\n",
              "    }\n",
              "\n",
              "    .dataframe thead th {\n",
              "        text-align: right;\n",
              "    }\n",
              "</style>\n",
              "<table border=\"1\" class=\"dataframe\">\n",
              "  <thead>\n",
              "    <tr style=\"text-align: right;\">\n",
              "      <th></th>\n",
              "      <th>지번코드</th>\n",
              "      <th>시군구코드</th>\n",
              "      <th>자치구명</th>\n",
              "      <th>법정동코드</th>\n",
              "      <th>법정동명</th>\n",
              "      <th>신고년도</th>\n",
              "      <th>건물면적</th>\n",
              "      <th>층정보</th>\n",
              "      <th>물건금액</th>\n",
              "      <th>건축년도</th>\n",
              "    </tr>\n",
              "  </thead>\n",
              "  <tbody>\n",
              "    <tr>\n",
              "      <th>2</th>\n",
              "      <td>1153010200107400029</td>\n",
              "      <td>11530</td>\n",
              "      <td>구로구</td>\n",
              "      <td>1153010200</td>\n",
              "      <td>구로동</td>\n",
              "      <td>2020</td>\n",
              "      <td>36.90</td>\n",
              "      <td>1.0</td>\n",
              "      <td>105000000</td>\n",
              "      <td>1994.0</td>\n",
              "    </tr>\n",
              "    <tr>\n",
              "      <th>3</th>\n",
              "      <td>1117011500101930000</td>\n",
              "      <td>11170</td>\n",
              "      <td>용산구</td>\n",
              "      <td>1117011500</td>\n",
              "      <td>산천동</td>\n",
              "      <td>2020</td>\n",
              "      <td>59.55</td>\n",
              "      <td>2.0</td>\n",
              "      <td>830000000</td>\n",
              "      <td>2001.0</td>\n",
              "    </tr>\n",
              "  </tbody>\n",
              "</table>\n",
              "</div>"
            ],
            "text/plain": [
              "                  지번코드  시군구코드 자치구명       법정동코드  ...   건물면적  층정보       물건금액    건축년도\n",
              "2  1153010200107400029  11530  구로구  1153010200  ...  36.90  1.0  105000000  1994.0\n",
              "3  1117011500101930000  11170  용산구  1117011500  ...  59.55  2.0  830000000  2001.0\n",
              "\n",
              "[2 rows x 10 columns]"
            ]
          },
          "metadata": {}
        },
        {
          "output_type": "display_data",
          "data": {
            "text/html": [
              "<div>\n",
              "<style scoped>\n",
              "    .dataframe tbody tr th:only-of-type {\n",
              "        vertical-align: middle;\n",
              "    }\n",
              "\n",
              "    .dataframe tbody tr th {\n",
              "        vertical-align: top;\n",
              "    }\n",
              "\n",
              "    .dataframe thead th {\n",
              "        text-align: right;\n",
              "    }\n",
              "</style>\n",
              "<table border=\"1\" class=\"dataframe\">\n",
              "  <thead>\n",
              "    <tr style=\"text-align: right;\">\n",
              "      <th></th>\n",
              "      <th>지번코드</th>\n",
              "      <th>시군구코드</th>\n",
              "      <th>자치구명</th>\n",
              "      <th>법정동코드</th>\n",
              "      <th>법정동명</th>\n",
              "      <th>신고년도</th>\n",
              "      <th>건물면적</th>\n",
              "      <th>층정보</th>\n",
              "      <th>물건금액</th>\n",
              "      <th>건축년도</th>\n",
              "    </tr>\n",
              "  </thead>\n",
              "  <tbody>\n",
              "    <tr>\n",
              "      <th>0</th>\n",
              "      <td>1168010300106550002</td>\n",
              "      <td>11680</td>\n",
              "      <td>강남구</td>\n",
              "      <td>1168010300</td>\n",
              "      <td>개포동</td>\n",
              "      <td>2021</td>\n",
              "      <td>77.75</td>\n",
              "      <td>9</td>\n",
              "      <td>1740000000</td>\n",
              "      <td>1988</td>\n",
              "    </tr>\n",
              "    <tr>\n",
              "      <th>1</th>\n",
              "      <td>1168010300106580001</td>\n",
              "      <td>11680</td>\n",
              "      <td>강남구</td>\n",
              "      <td>1168010300</td>\n",
              "      <td>개포동</td>\n",
              "      <td>2021</td>\n",
              "      <td>79.97</td>\n",
              "      <td>5</td>\n",
              "      <td>1950000000</td>\n",
              "      <td>1987</td>\n",
              "    </tr>\n",
              "  </tbody>\n",
              "</table>\n",
              "</div>"
            ],
            "text/plain": [
              "                  지번코드  시군구코드 자치구명       법정동코드  ...   건물면적  층정보        물건금액  건축년도\n",
              "0  1168010300106550002  11680  강남구  1168010300  ...  77.75    9  1740000000  1988\n",
              "1  1168010300106580001  11680  강남구  1168010300  ...  79.97    5  1950000000  1987\n",
              "\n",
              "[2 rows x 10 columns]"
            ]
          },
          "metadata": {}
        }
      ]
    },
    {
      "cell_type": "code",
      "metadata": {
        "id": "XK9rCg4nPKIa"
      },
      "source": [
        "# 데이터 타입 및 표시 형식 맞추기\n",
        "# 주소와 관련된 것은 모두 범주형으로 취급\n",
        "past[['시군구코드', '법정동코드']] = past[['시군구코드', '법정동코드']].astype(str)\n",
        "\n",
        "# 층정보와 건축년도는 정수형으로 맞추기\n",
        "past[['층정보', '건축년도']] = past[['층정보', '건축년도']].astype(int)"
      ],
      "execution_count": 33,
      "outputs": []
    },
    {
      "cell_type": "code",
      "metadata": {
        "colab": {
          "base_uri": "https://localhost:8080/",
          "height": 298
        },
        "id": "FS2lsIqPQIh1",
        "outputId": "663628f1-b842-4dc7-efcf-a3f4cbfb7141"
      },
      "source": [
        "display(pd.DataFrame([past.dtypes, data2021.dtypes], index=['past', '2021']))\n",
        "\n",
        "display(past.head(2))\n",
        "display(data2021.head(2))"
      ],
      "execution_count": 34,
      "outputs": [
        {
          "output_type": "display_data",
          "data": {
            "text/html": [
              "<div>\n",
              "<style scoped>\n",
              "    .dataframe tbody tr th:only-of-type {\n",
              "        vertical-align: middle;\n",
              "    }\n",
              "\n",
              "    .dataframe tbody tr th {\n",
              "        vertical-align: top;\n",
              "    }\n",
              "\n",
              "    .dataframe thead th {\n",
              "        text-align: right;\n",
              "    }\n",
              "</style>\n",
              "<table border=\"1\" class=\"dataframe\">\n",
              "  <thead>\n",
              "    <tr style=\"text-align: right;\">\n",
              "      <th></th>\n",
              "      <th>지번코드</th>\n",
              "      <th>시군구코드</th>\n",
              "      <th>자치구명</th>\n",
              "      <th>법정동코드</th>\n",
              "      <th>법정동명</th>\n",
              "      <th>신고년도</th>\n",
              "      <th>건물면적</th>\n",
              "      <th>층정보</th>\n",
              "      <th>물건금액</th>\n",
              "      <th>건축년도</th>\n",
              "    </tr>\n",
              "  </thead>\n",
              "  <tbody>\n",
              "    <tr>\n",
              "      <th>past</th>\n",
              "      <td>object</td>\n",
              "      <td>object</td>\n",
              "      <td>object</td>\n",
              "      <td>object</td>\n",
              "      <td>object</td>\n",
              "      <td>int64</td>\n",
              "      <td>float64</td>\n",
              "      <td>int64</td>\n",
              "      <td>int64</td>\n",
              "      <td>int64</td>\n",
              "    </tr>\n",
              "    <tr>\n",
              "      <th>2021</th>\n",
              "      <td>object</td>\n",
              "      <td>object</td>\n",
              "      <td>object</td>\n",
              "      <td>object</td>\n",
              "      <td>object</td>\n",
              "      <td>int64</td>\n",
              "      <td>float64</td>\n",
              "      <td>int64</td>\n",
              "      <td>int64</td>\n",
              "      <td>int64</td>\n",
              "    </tr>\n",
              "  </tbody>\n",
              "</table>\n",
              "</div>"
            ],
            "text/plain": [
              "        지번코드   시군구코드    자치구명   법정동코드  ...     건물면적    층정보   물건금액   건축년도\n",
              "past  object  object  object  object  ...  float64  int64  int64  int64\n",
              "2021  object  object  object  object  ...  float64  int64  int64  int64\n",
              "\n",
              "[2 rows x 10 columns]"
            ]
          },
          "metadata": {}
        },
        {
          "output_type": "display_data",
          "data": {
            "text/html": [
              "<div>\n",
              "<style scoped>\n",
              "    .dataframe tbody tr th:only-of-type {\n",
              "        vertical-align: middle;\n",
              "    }\n",
              "\n",
              "    .dataframe tbody tr th {\n",
              "        vertical-align: top;\n",
              "    }\n",
              "\n",
              "    .dataframe thead th {\n",
              "        text-align: right;\n",
              "    }\n",
              "</style>\n",
              "<table border=\"1\" class=\"dataframe\">\n",
              "  <thead>\n",
              "    <tr style=\"text-align: right;\">\n",
              "      <th></th>\n",
              "      <th>지번코드</th>\n",
              "      <th>시군구코드</th>\n",
              "      <th>자치구명</th>\n",
              "      <th>법정동코드</th>\n",
              "      <th>법정동명</th>\n",
              "      <th>신고년도</th>\n",
              "      <th>건물면적</th>\n",
              "      <th>층정보</th>\n",
              "      <th>물건금액</th>\n",
              "      <th>건축년도</th>\n",
              "    </tr>\n",
              "  </thead>\n",
              "  <tbody>\n",
              "    <tr>\n",
              "      <th>2</th>\n",
              "      <td>1153010200107400029</td>\n",
              "      <td>11530</td>\n",
              "      <td>구로구</td>\n",
              "      <td>1153010200</td>\n",
              "      <td>구로동</td>\n",
              "      <td>2020</td>\n",
              "      <td>36.90</td>\n",
              "      <td>1</td>\n",
              "      <td>105000000</td>\n",
              "      <td>1994</td>\n",
              "    </tr>\n",
              "    <tr>\n",
              "      <th>3</th>\n",
              "      <td>1117011500101930000</td>\n",
              "      <td>11170</td>\n",
              "      <td>용산구</td>\n",
              "      <td>1117011500</td>\n",
              "      <td>산천동</td>\n",
              "      <td>2020</td>\n",
              "      <td>59.55</td>\n",
              "      <td>2</td>\n",
              "      <td>830000000</td>\n",
              "      <td>2001</td>\n",
              "    </tr>\n",
              "  </tbody>\n",
              "</table>\n",
              "</div>"
            ],
            "text/plain": [
              "                  지번코드  시군구코드 자치구명       법정동코드  ...   건물면적  층정보       물건금액  건축년도\n",
              "2  1153010200107400029  11530  구로구  1153010200  ...  36.90    1  105000000  1994\n",
              "3  1117011500101930000  11170  용산구  1117011500  ...  59.55    2  830000000  2001\n",
              "\n",
              "[2 rows x 10 columns]"
            ]
          },
          "metadata": {}
        },
        {
          "output_type": "display_data",
          "data": {
            "text/html": [
              "<div>\n",
              "<style scoped>\n",
              "    .dataframe tbody tr th:only-of-type {\n",
              "        vertical-align: middle;\n",
              "    }\n",
              "\n",
              "    .dataframe tbody tr th {\n",
              "        vertical-align: top;\n",
              "    }\n",
              "\n",
              "    .dataframe thead th {\n",
              "        text-align: right;\n",
              "    }\n",
              "</style>\n",
              "<table border=\"1\" class=\"dataframe\">\n",
              "  <thead>\n",
              "    <tr style=\"text-align: right;\">\n",
              "      <th></th>\n",
              "      <th>지번코드</th>\n",
              "      <th>시군구코드</th>\n",
              "      <th>자치구명</th>\n",
              "      <th>법정동코드</th>\n",
              "      <th>법정동명</th>\n",
              "      <th>신고년도</th>\n",
              "      <th>건물면적</th>\n",
              "      <th>층정보</th>\n",
              "      <th>물건금액</th>\n",
              "      <th>건축년도</th>\n",
              "    </tr>\n",
              "  </thead>\n",
              "  <tbody>\n",
              "    <tr>\n",
              "      <th>0</th>\n",
              "      <td>1168010300106550002</td>\n",
              "      <td>11680</td>\n",
              "      <td>강남구</td>\n",
              "      <td>1168010300</td>\n",
              "      <td>개포동</td>\n",
              "      <td>2021</td>\n",
              "      <td>77.75</td>\n",
              "      <td>9</td>\n",
              "      <td>1740000000</td>\n",
              "      <td>1988</td>\n",
              "    </tr>\n",
              "    <tr>\n",
              "      <th>1</th>\n",
              "      <td>1168010300106580001</td>\n",
              "      <td>11680</td>\n",
              "      <td>강남구</td>\n",
              "      <td>1168010300</td>\n",
              "      <td>개포동</td>\n",
              "      <td>2021</td>\n",
              "      <td>79.97</td>\n",
              "      <td>5</td>\n",
              "      <td>1950000000</td>\n",
              "      <td>1987</td>\n",
              "    </tr>\n",
              "  </tbody>\n",
              "</table>\n",
              "</div>"
            ],
            "text/plain": [
              "                  지번코드  시군구코드 자치구명       법정동코드  ...   건물면적  층정보        물건금액  건축년도\n",
              "0  1168010300106550002  11680  강남구  1168010300  ...  77.75    9  1740000000  1988\n",
              "1  1168010300106580001  11680  강남구  1168010300  ...  79.97    5  1950000000  1987\n",
              "\n",
              "[2 rows x 10 columns]"
            ]
          },
          "metadata": {}
        }
      ]
    },
    {
      "cell_type": "markdown",
      "metadata": {
        "id": "mN4c4lx1QXRW"
      },
      "source": [
        "### 2-3) 데이터 합치기\n",
        "\n",
        "후에 2021년 데이터는 다시 테스트셋으로 분리할 예정이지만,  \n",
        "베이스라인 모델(물건금액 평균값, 중위값 및 고가주택 여부 클래스 비율) 확인을 위해서 일시적으로 합침"
      ]
    },
    {
      "cell_type": "code",
      "metadata": {
        "colab": {
          "base_uri": "https://localhost:8080/",
          "height": 314
        },
        "id": "-I3O1xqmQPtE",
        "outputId": "d932814a-c336-402b-a08a-cbf2fcf220fe"
      },
      "source": [
        "df = pd.concat([past, data2021], axis=0)\n",
        "print(df.shape)\n",
        "display(pd.DataFrame([df.dtypes, df.isna().sum()], index=['dtypes', 'isna']))\n",
        "df.head()"
      ],
      "execution_count": 50,
      "outputs": [
        {
          "output_type": "stream",
          "name": "stdout",
          "text": [
            "(863672, 10)\n"
          ]
        },
        {
          "output_type": "display_data",
          "data": {
            "text/html": [
              "<div>\n",
              "<style scoped>\n",
              "    .dataframe tbody tr th:only-of-type {\n",
              "        vertical-align: middle;\n",
              "    }\n",
              "\n",
              "    .dataframe tbody tr th {\n",
              "        vertical-align: top;\n",
              "    }\n",
              "\n",
              "    .dataframe thead th {\n",
              "        text-align: right;\n",
              "    }\n",
              "</style>\n",
              "<table border=\"1\" class=\"dataframe\">\n",
              "  <thead>\n",
              "    <tr style=\"text-align: right;\">\n",
              "      <th></th>\n",
              "      <th>지번코드</th>\n",
              "      <th>시군구코드</th>\n",
              "      <th>자치구명</th>\n",
              "      <th>법정동코드</th>\n",
              "      <th>법정동명</th>\n",
              "      <th>신고년도</th>\n",
              "      <th>건물면적</th>\n",
              "      <th>층정보</th>\n",
              "      <th>물건금액</th>\n",
              "      <th>건축년도</th>\n",
              "    </tr>\n",
              "  </thead>\n",
              "  <tbody>\n",
              "    <tr>\n",
              "      <th>dtypes</th>\n",
              "      <td>object</td>\n",
              "      <td>object</td>\n",
              "      <td>object</td>\n",
              "      <td>object</td>\n",
              "      <td>object</td>\n",
              "      <td>int64</td>\n",
              "      <td>float64</td>\n",
              "      <td>int64</td>\n",
              "      <td>int64</td>\n",
              "      <td>int64</td>\n",
              "    </tr>\n",
              "    <tr>\n",
              "      <th>isna</th>\n",
              "      <td>0</td>\n",
              "      <td>0</td>\n",
              "      <td>0</td>\n",
              "      <td>0</td>\n",
              "      <td>0</td>\n",
              "      <td>0</td>\n",
              "      <td>0</td>\n",
              "      <td>0</td>\n",
              "      <td>0</td>\n",
              "      <td>0</td>\n",
              "    </tr>\n",
              "  </tbody>\n",
              "</table>\n",
              "</div>"
            ],
            "text/plain": [
              "          지번코드   시군구코드    자치구명   법정동코드  ...     건물면적    층정보   물건금액   건축년도\n",
              "dtypes  object  object  object  object  ...  float64  int64  int64  int64\n",
              "isna         0       0       0       0  ...        0      0      0      0\n",
              "\n",
              "[2 rows x 10 columns]"
            ]
          },
          "metadata": {}
        },
        {
          "output_type": "execute_result",
          "data": {
            "text/html": [
              "<div>\n",
              "<style scoped>\n",
              "    .dataframe tbody tr th:only-of-type {\n",
              "        vertical-align: middle;\n",
              "    }\n",
              "\n",
              "    .dataframe tbody tr th {\n",
              "        vertical-align: top;\n",
              "    }\n",
              "\n",
              "    .dataframe thead th {\n",
              "        text-align: right;\n",
              "    }\n",
              "</style>\n",
              "<table border=\"1\" class=\"dataframe\">\n",
              "  <thead>\n",
              "    <tr style=\"text-align: right;\">\n",
              "      <th></th>\n",
              "      <th>지번코드</th>\n",
              "      <th>시군구코드</th>\n",
              "      <th>자치구명</th>\n",
              "      <th>법정동코드</th>\n",
              "      <th>법정동명</th>\n",
              "      <th>신고년도</th>\n",
              "      <th>건물면적</th>\n",
              "      <th>층정보</th>\n",
              "      <th>물건금액</th>\n",
              "      <th>건축년도</th>\n",
              "    </tr>\n",
              "  </thead>\n",
              "  <tbody>\n",
              "    <tr>\n",
              "      <th>2</th>\n",
              "      <td>1153010200107400029</td>\n",
              "      <td>11530</td>\n",
              "      <td>구로구</td>\n",
              "      <td>1153010200</td>\n",
              "      <td>구로동</td>\n",
              "      <td>2020</td>\n",
              "      <td>36.90</td>\n",
              "      <td>1</td>\n",
              "      <td>105000000</td>\n",
              "      <td>1994</td>\n",
              "    </tr>\n",
              "    <tr>\n",
              "      <th>3</th>\n",
              "      <td>1117011500101930000</td>\n",
              "      <td>11170</td>\n",
              "      <td>용산구</td>\n",
              "      <td>1117011500</td>\n",
              "      <td>산천동</td>\n",
              "      <td>2020</td>\n",
              "      <td>59.55</td>\n",
              "      <td>2</td>\n",
              "      <td>830000000</td>\n",
              "      <td>2001</td>\n",
              "    </tr>\n",
              "    <tr>\n",
              "      <th>4</th>\n",
              "      <td>1117012900101930003</td>\n",
              "      <td>11170</td>\n",
              "      <td>용산구</td>\n",
              "      <td>1117012900</td>\n",
              "      <td>이촌동</td>\n",
              "      <td>2020</td>\n",
              "      <td>64.43</td>\n",
              "      <td>5</td>\n",
              "      <td>735000000</td>\n",
              "      <td>1971</td>\n",
              "    </tr>\n",
              "    <tr>\n",
              "      <th>5</th>\n",
              "      <td>1117013000100220002</td>\n",
              "      <td>11170</td>\n",
              "      <td>용산구</td>\n",
              "      <td>1117013000</td>\n",
              "      <td>이태원동</td>\n",
              "      <td>2020</td>\n",
              "      <td>105.75</td>\n",
              "      <td>9</td>\n",
              "      <td>1430000000</td>\n",
              "      <td>1982</td>\n",
              "    </tr>\n",
              "    <tr>\n",
              "      <th>7</th>\n",
              "      <td>1117010100102440088</td>\n",
              "      <td>11170</td>\n",
              "      <td>용산구</td>\n",
              "      <td>1117010100</td>\n",
              "      <td>후암동</td>\n",
              "      <td>2020</td>\n",
              "      <td>150.08</td>\n",
              "      <td>4</td>\n",
              "      <td>875000000</td>\n",
              "      <td>2002</td>\n",
              "    </tr>\n",
              "  </tbody>\n",
              "</table>\n",
              "</div>"
            ],
            "text/plain": [
              "                  지번코드  시군구코드 자치구명       법정동코드  ...    건물면적  층정보        물건금액  건축년도\n",
              "2  1153010200107400029  11530  구로구  1153010200  ...   36.90    1   105000000  1994\n",
              "3  1117011500101930000  11170  용산구  1117011500  ...   59.55    2   830000000  2001\n",
              "4  1117012900101930003  11170  용산구  1117012900  ...   64.43    5   735000000  1971\n",
              "5  1117013000100220002  11170  용산구  1117013000  ...  105.75    9  1430000000  1982\n",
              "7  1117010100102440088  11170  용산구  1117010100  ...  150.08    4   875000000  2002\n",
              "\n",
              "[5 rows x 10 columns]"
            ]
          },
          "metadata": {},
          "execution_count": 50
        }
      ]
    },
    {
      "cell_type": "code",
      "metadata": {
        "colab": {
          "base_uri": "https://localhost:8080/",
          "height": 203
        },
        "id": "cgrU-9SpStyS",
        "outputId": "a046ef56-a25a-47a0-d05e-f20b8ad04e34"
      },
      "source": [
        "# 컬럼명 변경하기\n",
        "df.columns = ['addr_code', 'city_code', 'city_name', 'area_code', 'area_name', 'report_year', 'size', 'floor', 'price', 'built_year']\n",
        "df.head()"
      ],
      "execution_count": 51,
      "outputs": [
        {
          "output_type": "execute_result",
          "data": {
            "text/html": [
              "<div>\n",
              "<style scoped>\n",
              "    .dataframe tbody tr th:only-of-type {\n",
              "        vertical-align: middle;\n",
              "    }\n",
              "\n",
              "    .dataframe tbody tr th {\n",
              "        vertical-align: top;\n",
              "    }\n",
              "\n",
              "    .dataframe thead th {\n",
              "        text-align: right;\n",
              "    }\n",
              "</style>\n",
              "<table border=\"1\" class=\"dataframe\">\n",
              "  <thead>\n",
              "    <tr style=\"text-align: right;\">\n",
              "      <th></th>\n",
              "      <th>addr_code</th>\n",
              "      <th>city_code</th>\n",
              "      <th>city_name</th>\n",
              "      <th>area_code</th>\n",
              "      <th>area_name</th>\n",
              "      <th>report_year</th>\n",
              "      <th>size</th>\n",
              "      <th>floor</th>\n",
              "      <th>price</th>\n",
              "      <th>built_year</th>\n",
              "    </tr>\n",
              "  </thead>\n",
              "  <tbody>\n",
              "    <tr>\n",
              "      <th>2</th>\n",
              "      <td>1153010200107400029</td>\n",
              "      <td>11530</td>\n",
              "      <td>구로구</td>\n",
              "      <td>1153010200</td>\n",
              "      <td>구로동</td>\n",
              "      <td>2020</td>\n",
              "      <td>36.90</td>\n",
              "      <td>1</td>\n",
              "      <td>105000000</td>\n",
              "      <td>1994</td>\n",
              "    </tr>\n",
              "    <tr>\n",
              "      <th>3</th>\n",
              "      <td>1117011500101930000</td>\n",
              "      <td>11170</td>\n",
              "      <td>용산구</td>\n",
              "      <td>1117011500</td>\n",
              "      <td>산천동</td>\n",
              "      <td>2020</td>\n",
              "      <td>59.55</td>\n",
              "      <td>2</td>\n",
              "      <td>830000000</td>\n",
              "      <td>2001</td>\n",
              "    </tr>\n",
              "    <tr>\n",
              "      <th>4</th>\n",
              "      <td>1117012900101930003</td>\n",
              "      <td>11170</td>\n",
              "      <td>용산구</td>\n",
              "      <td>1117012900</td>\n",
              "      <td>이촌동</td>\n",
              "      <td>2020</td>\n",
              "      <td>64.43</td>\n",
              "      <td>5</td>\n",
              "      <td>735000000</td>\n",
              "      <td>1971</td>\n",
              "    </tr>\n",
              "    <tr>\n",
              "      <th>5</th>\n",
              "      <td>1117013000100220002</td>\n",
              "      <td>11170</td>\n",
              "      <td>용산구</td>\n",
              "      <td>1117013000</td>\n",
              "      <td>이태원동</td>\n",
              "      <td>2020</td>\n",
              "      <td>105.75</td>\n",
              "      <td>9</td>\n",
              "      <td>1430000000</td>\n",
              "      <td>1982</td>\n",
              "    </tr>\n",
              "    <tr>\n",
              "      <th>7</th>\n",
              "      <td>1117010100102440088</td>\n",
              "      <td>11170</td>\n",
              "      <td>용산구</td>\n",
              "      <td>1117010100</td>\n",
              "      <td>후암동</td>\n",
              "      <td>2020</td>\n",
              "      <td>150.08</td>\n",
              "      <td>4</td>\n",
              "      <td>875000000</td>\n",
              "      <td>2002</td>\n",
              "    </tr>\n",
              "  </tbody>\n",
              "</table>\n",
              "</div>"
            ],
            "text/plain": [
              "             addr_code city_code city_name  ... floor       price  built_year\n",
              "2  1153010200107400029     11530       구로구  ...     1   105000000        1994\n",
              "3  1117011500101930000     11170       용산구  ...     2   830000000        2001\n",
              "4  1117012900101930003     11170       용산구  ...     5   735000000        1971\n",
              "5  1117013000100220002     11170       용산구  ...     9  1430000000        1982\n",
              "7  1117010100102440088     11170       용산구  ...     4   875000000        2002\n",
              "\n",
              "[5 rows x 10 columns]"
            ]
          },
          "metadata": {},
          "execution_count": 51
        }
      ]
    },
    {
      "cell_type": "markdown",
      "metadata": {
        "id": "8ZFfwwn7RFbJ"
      },
      "source": [
        "## 3) 데이터 분포 확인 및 이상치 제거하기 "
      ]
    },
    {
      "cell_type": "markdown",
      "metadata": {
        "id": "--LvzohsR_wZ"
      },
      "source": [
        "3-1) 수치형 데이터들의 분포 확인\n",
        "\n",
        "신고년도, 건물면적, 층정보, 물건금액(타겟), 건축년도의 분포를 확인"
      ]
    },
    {
      "cell_type": "code",
      "metadata": {
        "colab": {
          "base_uri": "https://localhost:8080/",
          "height": 295
        },
        "id": "BGkYA55SSO95",
        "outputId": "977bcac9-9b4d-4ee2-c9d3-2639da805925"
      },
      "source": [
        "df.describe()"
      ],
      "execution_count": 52,
      "outputs": [
        {
          "output_type": "execute_result",
          "data": {
            "text/html": [
              "<div>\n",
              "<style scoped>\n",
              "    .dataframe tbody tr th:only-of-type {\n",
              "        vertical-align: middle;\n",
              "    }\n",
              "\n",
              "    .dataframe tbody tr th {\n",
              "        vertical-align: top;\n",
              "    }\n",
              "\n",
              "    .dataframe thead th {\n",
              "        text-align: right;\n",
              "    }\n",
              "</style>\n",
              "<table border=\"1\" class=\"dataframe\">\n",
              "  <thead>\n",
              "    <tr style=\"text-align: right;\">\n",
              "      <th></th>\n",
              "      <th>report_year</th>\n",
              "      <th>size</th>\n",
              "      <th>floor</th>\n",
              "      <th>price</th>\n",
              "      <th>built_year</th>\n",
              "    </tr>\n",
              "  </thead>\n",
              "  <tbody>\n",
              "    <tr>\n",
              "      <th>count</th>\n",
              "      <td>863672.000000</td>\n",
              "      <td>863672.000000</td>\n",
              "      <td>863672.000000</td>\n",
              "      <td>8.636720e+05</td>\n",
              "      <td>863672.000000</td>\n",
              "    </tr>\n",
              "    <tr>\n",
              "      <th>mean</th>\n",
              "      <td>2016.108384</td>\n",
              "      <td>77.917043</td>\n",
              "      <td>8.954072</td>\n",
              "      <td>5.983606e+08</td>\n",
              "      <td>1999.167141</td>\n",
              "    </tr>\n",
              "    <tr>\n",
              "      <th>std</th>\n",
              "      <td>2.762852</td>\n",
              "      <td>29.633832</td>\n",
              "      <td>6.043808</td>\n",
              "      <td>4.565934e+08</td>\n",
              "      <td>9.408142</td>\n",
              "    </tr>\n",
              "    <tr>\n",
              "      <th>min</th>\n",
              "      <td>2011.000000</td>\n",
              "      <td>10.020000</td>\n",
              "      <td>-4.000000</td>\n",
              "      <td>7.000000e+06</td>\n",
              "      <td>1961.000000</td>\n",
              "    </tr>\n",
              "    <tr>\n",
              "      <th>25%</th>\n",
              "      <td>2014.000000</td>\n",
              "      <td>59.740000</td>\n",
              "      <td>4.000000</td>\n",
              "      <td>3.250000e+08</td>\n",
              "      <td>1993.000000</td>\n",
              "    </tr>\n",
              "    <tr>\n",
              "      <th>50%</th>\n",
              "      <td>2016.000000</td>\n",
              "      <td>83.540000</td>\n",
              "      <td>8.000000</td>\n",
              "      <td>4.700000e+08</td>\n",
              "      <td>2000.000000</td>\n",
              "    </tr>\n",
              "    <tr>\n",
              "      <th>75%</th>\n",
              "      <td>2018.000000</td>\n",
              "      <td>84.970000</td>\n",
              "      <td>13.000000</td>\n",
              "      <td>7.150000e+08</td>\n",
              "      <td>2006.000000</td>\n",
              "    </tr>\n",
              "    <tr>\n",
              "      <th>max</th>\n",
              "      <td>2021.000000</td>\n",
              "      <td>424.320000</td>\n",
              "      <td>69.000000</td>\n",
              "      <td>1.150000e+10</td>\n",
              "      <td>2021.000000</td>\n",
              "    </tr>\n",
              "  </tbody>\n",
              "</table>\n",
              "</div>"
            ],
            "text/plain": [
              "         report_year           size          floor         price     built_year\n",
              "count  863672.000000  863672.000000  863672.000000  8.636720e+05  863672.000000\n",
              "mean     2016.108384      77.917043       8.954072  5.983606e+08    1999.167141\n",
              "std         2.762852      29.633832       6.043808  4.565934e+08       9.408142\n",
              "min      2011.000000      10.020000      -4.000000  7.000000e+06    1961.000000\n",
              "25%      2014.000000      59.740000       4.000000  3.250000e+08    1993.000000\n",
              "50%      2016.000000      83.540000       8.000000  4.700000e+08    2000.000000\n",
              "75%      2018.000000      84.970000      13.000000  7.150000e+08    2006.000000\n",
              "max      2021.000000     424.320000      69.000000  1.150000e+10    2021.000000"
            ]
          },
          "metadata": {},
          "execution_count": 52
        }
      ]
    },
    {
      "cell_type": "code",
      "metadata": {
        "colab": {
          "base_uri": "https://localhost:8080/",
          "height": 295
        },
        "id": "TdoYu_25TdSb",
        "outputId": "f402976c-71e6-4b0f-e97c-943d22316b91"
      },
      "source": [
        "# 가장 먼저 눈에 띄는 것으로 층정보의 최소값이 -4이다.\n",
        "# 아파트의 층수가 음수인 경우는 지하주차장뿐이므로 층정보가 0 이하인 데이터 제거\n",
        "df = df[df['floor'] > 0]\n",
        "df.describe()"
      ],
      "execution_count": 53,
      "outputs": [
        {
          "output_type": "execute_result",
          "data": {
            "text/html": [
              "<div>\n",
              "<style scoped>\n",
              "    .dataframe tbody tr th:only-of-type {\n",
              "        vertical-align: middle;\n",
              "    }\n",
              "\n",
              "    .dataframe tbody tr th {\n",
              "        vertical-align: top;\n",
              "    }\n",
              "\n",
              "    .dataframe thead th {\n",
              "        text-align: right;\n",
              "    }\n",
              "</style>\n",
              "<table border=\"1\" class=\"dataframe\">\n",
              "  <thead>\n",
              "    <tr style=\"text-align: right;\">\n",
              "      <th></th>\n",
              "      <th>report_year</th>\n",
              "      <th>size</th>\n",
              "      <th>floor</th>\n",
              "      <th>price</th>\n",
              "      <th>built_year</th>\n",
              "    </tr>\n",
              "  </thead>\n",
              "  <tbody>\n",
              "    <tr>\n",
              "      <th>count</th>\n",
              "      <td>863489.000000</td>\n",
              "      <td>863489.000000</td>\n",
              "      <td>863489.000000</td>\n",
              "      <td>8.634890e+05</td>\n",
              "      <td>863489.000000</td>\n",
              "    </tr>\n",
              "    <tr>\n",
              "      <th>mean</th>\n",
              "      <td>2016.108293</td>\n",
              "      <td>77.911189</td>\n",
              "      <td>8.956255</td>\n",
              "      <td>5.982515e+08</td>\n",
              "      <td>1999.166336</td>\n",
              "    </tr>\n",
              "    <tr>\n",
              "      <th>std</th>\n",
              "      <td>2.762763</td>\n",
              "      <td>29.621695</td>\n",
              "      <td>6.042578</td>\n",
              "      <td>4.559153e+08</td>\n",
              "      <td>9.406871</td>\n",
              "    </tr>\n",
              "    <tr>\n",
              "      <th>min</th>\n",
              "      <td>2011.000000</td>\n",
              "      <td>10.156000</td>\n",
              "      <td>1.000000</td>\n",
              "      <td>7.000000e+06</td>\n",
              "      <td>1961.000000</td>\n",
              "    </tr>\n",
              "    <tr>\n",
              "      <th>25%</th>\n",
              "      <td>2014.000000</td>\n",
              "      <td>59.740000</td>\n",
              "      <td>4.000000</td>\n",
              "      <td>3.250000e+08</td>\n",
              "      <td>1993.000000</td>\n",
              "    </tr>\n",
              "    <tr>\n",
              "      <th>50%</th>\n",
              "      <td>2016.000000</td>\n",
              "      <td>83.540000</td>\n",
              "      <td>8.000000</td>\n",
              "      <td>4.700000e+08</td>\n",
              "      <td>2000.000000</td>\n",
              "    </tr>\n",
              "    <tr>\n",
              "      <th>75%</th>\n",
              "      <td>2018.000000</td>\n",
              "      <td>84.970000</td>\n",
              "      <td>13.000000</td>\n",
              "      <td>7.150000e+08</td>\n",
              "      <td>2006.000000</td>\n",
              "    </tr>\n",
              "    <tr>\n",
              "      <th>max</th>\n",
              "      <td>2021.000000</td>\n",
              "      <td>424.320000</td>\n",
              "      <td>69.000000</td>\n",
              "      <td>1.150000e+10</td>\n",
              "      <td>2021.000000</td>\n",
              "    </tr>\n",
              "  </tbody>\n",
              "</table>\n",
              "</div>"
            ],
            "text/plain": [
              "         report_year           size          floor         price     built_year\n",
              "count  863489.000000  863489.000000  863489.000000  8.634890e+05  863489.000000\n",
              "mean     2016.108293      77.911189       8.956255  5.982515e+08    1999.166336\n",
              "std         2.762763      29.621695       6.042578  4.559153e+08       9.406871\n",
              "min      2011.000000      10.156000       1.000000  7.000000e+06    1961.000000\n",
              "25%      2014.000000      59.740000       4.000000  3.250000e+08    1993.000000\n",
              "50%      2016.000000      83.540000       8.000000  4.700000e+08    2000.000000\n",
              "75%      2018.000000      84.970000      13.000000  7.150000e+08    2006.000000\n",
              "max      2021.000000     424.320000      69.000000  1.150000e+10    2021.000000"
            ]
          },
          "metadata": {},
          "execution_count": 53
        }
      ]
    },
    {
      "cell_type": "code",
      "metadata": {
        "colab": {
          "base_uri": "https://localhost:8080/",
          "height": 335
        },
        "id": "S_ISx1BBScNc",
        "outputId": "820f034c-511e-4781-8083-bf7ec64066df"
      },
      "source": [
        "col_list = ['report_year', 'size', 'floor', 'price', 'built_year']\n",
        "\n",
        "def checkOutlier(df, cols):\n",
        "  fig, axes = plt.subplots(1, 5, figsize=(25, 5))\n",
        "  for i, col in enumerate(col_list):\n",
        "    sns.boxplot(x=col, data=df, ax=axes[i])\n",
        "\n",
        "checkOutlier(df, col_list)"
      ],
      "execution_count": 54,
      "outputs": [
        {
          "output_type": "display_data",
          "data": {
            "image/png": "[encoded data removed]",
            "text/plain": [
              "<Figure size 1800x360 with 5 Axes>"
            ]
          },
          "metadata": {
            "needs_background": "light"
          }
        }
      ]
    },
    {
      "cell_type": "code",
      "metadata": {
        "colab": {
          "base_uri": "https://localhost:8080/",
          "height": 614
        },
        "id": "F3qfE7CnUG-c",
        "outputId": "7bb0a6a9-6499-402e-e116-6367d3c73e35"
      },
      "source": [
        "# 건물면적(size)에서 유난히 큰 값들이 존재하므로, size 상위 0.5%를 제거\n",
        "# 또한 최소값이 10제곱미터(약 3평)으로 나오는데, 이 또한 비현실적. 따라서 size 하위 0.5% 제거\n",
        "df = df[(df['size'] < np.percentile(df['size'], 95.5)) & (df['size'] > np.percentile(df['size'], 0.5))]\n",
        "\n",
        "# 물건금액(price)도 마찬가지로 과도하게 큰 값들이 존재하므로 상위 0.5%를 제거\n",
        "df = df[df['price'] < np.percentile(df['price'], 95.5)]\n",
        "\n",
        "# 층(floor)이 너무 높은 경우는 비교적 일반적이지 않은 경우로 간주하여 상위 0.5%를 제거\n",
        "df = df[df['floor'] < np.percentile(df['floor'], 95.5)]\n",
        "\n",
        "checkOutlier(df, col_list)\n",
        "df.describe()"
      ],
      "execution_count": 55,
      "outputs": [
        {
          "output_type": "execute_result",
          "data": {
            "text/html": [
              "<div>\n",
              "<style scoped>\n",
              "    .dataframe tbody tr th:only-of-type {\n",
              "        vertical-align: middle;\n",
              "    }\n",
              "\n",
              "    .dataframe tbody tr th {\n",
              "        vertical-align: top;\n",
              "    }\n",
              "\n",
              "    .dataframe thead th {\n",
              "        text-align: right;\n",
              "    }\n",
              "</style>\n",
              "<table border=\"1\" class=\"dataframe\">\n",
              "  <thead>\n",
              "    <tr style=\"text-align: right;\">\n",
              "      <th></th>\n",
              "      <th>report_year</th>\n",
              "      <th>size</th>\n",
              "      <th>floor</th>\n",
              "      <th>price</th>\n",
              "      <th>built_year</th>\n",
              "    </tr>\n",
              "  </thead>\n",
              "  <tbody>\n",
              "    <tr>\n",
              "      <th>count</th>\n",
              "      <td>746578.000000</td>\n",
              "      <td>746578.000000</td>\n",
              "      <td>746578.000000</td>\n",
              "      <td>7.465780e+05</td>\n",
              "      <td>746578.000000</td>\n",
              "    </tr>\n",
              "    <tr>\n",
              "      <th>mean</th>\n",
              "      <td>2015.966742</td>\n",
              "      <td>73.039172</td>\n",
              "      <td>8.050707</td>\n",
              "      <td>4.958748e+08</td>\n",
              "      <td>1998.853846</td>\n",
              "    </tr>\n",
              "    <tr>\n",
              "      <th>std</th>\n",
              "      <td>2.733034</td>\n",
              "      <td>22.493600</td>\n",
              "      <td>4.792887</td>\n",
              "      <td>2.498593e+08</td>\n",
              "      <td>9.106190</td>\n",
              "    </tr>\n",
              "    <tr>\n",
              "      <th>min</th>\n",
              "      <td>2011.000000</td>\n",
              "      <td>13.534600</td>\n",
              "      <td>1.000000</td>\n",
              "      <td>7.000000e+06</td>\n",
              "      <td>1961.000000</td>\n",
              "    </tr>\n",
              "    <tr>\n",
              "      <th>25%</th>\n",
              "      <td>2014.000000</td>\n",
              "      <td>59.540000</td>\n",
              "      <td>4.000000</td>\n",
              "      <td>3.110000e+08</td>\n",
              "      <td>1992.000000</td>\n",
              "    </tr>\n",
              "    <tr>\n",
              "      <th>50%</th>\n",
              "      <td>2016.000000</td>\n",
              "      <td>77.910000</td>\n",
              "      <td>7.000000</td>\n",
              "      <td>4.350000e+08</td>\n",
              "      <td>2000.000000</td>\n",
              "    </tr>\n",
              "    <tr>\n",
              "      <th>75%</th>\n",
              "      <td>2018.000000</td>\n",
              "      <td>84.940000</td>\n",
              "      <td>12.000000</td>\n",
              "      <td>6.265000e+08</td>\n",
              "      <td>2005.000000</td>\n",
              "    </tr>\n",
              "    <tr>\n",
              "      <th>max</th>\n",
              "      <td>2021.000000</td>\n",
              "      <td>134.530000</td>\n",
              "      <td>19.000000</td>\n",
              "      <td>1.327000e+09</td>\n",
              "      <td>2021.000000</td>\n",
              "    </tr>\n",
              "  </tbody>\n",
              "</table>\n",
              "</div>"
            ],
            "text/plain": [
              "         report_year           size          floor         price     built_year\n",
              "count  746578.000000  746578.000000  746578.000000  7.465780e+05  746578.000000\n",
              "mean     2015.966742      73.039172       8.050707  4.958748e+08    1998.853846\n",
              "std         2.733034      22.493600       4.792887  2.498593e+08       9.106190\n",
              "min      2011.000000      13.534600       1.000000  7.000000e+06    1961.000000\n",
              "25%      2014.000000      59.540000       4.000000  3.110000e+08    1992.000000\n",
              "50%      2016.000000      77.910000       7.000000  4.350000e+08    2000.000000\n",
              "75%      2018.000000      84.940000      12.000000  6.265000e+08    2005.000000\n",
              "max      2021.000000     134.530000      19.000000  1.327000e+09    2021.000000"
            ]
          },
          "metadata": {},
          "execution_count": 55
        },
        {
          "output_type": "display_data",
          "data": {
            "image/png": "[encoded data removed]",
            "text/plain": [
              "<Figure size 1800x360 with 5 Axes>"
            ]
          },
          "metadata": {
            "needs_background": "light"
          }
        }
      ]
    },
    {
      "cell_type": "code",
      "metadata": {
        "colab": {
          "base_uri": "https://localhost:8080/",
          "height": 203
        },
        "id": "9lL9K7ONWXhK",
        "outputId": "008e0e5b-a886-47f6-d41e-fcbd6ad7c4a0"
      },
      "source": [
        "# 그 외 boxplot 상에는 이상치로 보이는 수치들은 실제로 존재 가능한 경우이므로 유지\n",
        "# 인덱스 재정렬\n",
        "df = df.sort_values(by='report_year', ascending=True).reset_index(drop=True)\n",
        "\n",
        "df.head()"
      ],
      "execution_count": 56,
      "outputs": [
        {
          "output_type": "execute_result",
          "data": {
            "text/html": [
              "<div>\n",
              "<style scoped>\n",
              "    .dataframe tbody tr th:only-of-type {\n",
              "        vertical-align: middle;\n",
              "    }\n",
              "\n",
              "    .dataframe tbody tr th {\n",
              "        vertical-align: top;\n",
              "    }\n",
              "\n",
              "    .dataframe thead th {\n",
              "        text-align: right;\n",
              "    }\n",
              "</style>\n",
              "<table border=\"1\" class=\"dataframe\">\n",
              "  <thead>\n",
              "    <tr style=\"text-align: right;\">\n",
              "      <th></th>\n",
              "      <th>addr_code</th>\n",
              "      <th>city_code</th>\n",
              "      <th>city_name</th>\n",
              "      <th>area_code</th>\n",
              "      <th>area_name</th>\n",
              "      <th>report_year</th>\n",
              "      <th>size</th>\n",
              "      <th>floor</th>\n",
              "      <th>price</th>\n",
              "      <th>built_year</th>\n",
              "    </tr>\n",
              "  </thead>\n",
              "  <tbody>\n",
              "    <tr>\n",
              "      <th>0</th>\n",
              "      <td>1154510300110130000</td>\n",
              "      <td>11545</td>\n",
              "      <td>금천구</td>\n",
              "      <td>1154510300</td>\n",
              "      <td>시흥동</td>\n",
              "      <td>2011</td>\n",
              "      <td>84.97</td>\n",
              "      <td>17</td>\n",
              "      <td>305000000</td>\n",
              "      <td>2004</td>\n",
              "    </tr>\n",
              "    <tr>\n",
              "      <th>1</th>\n",
              "      <td>1114016500125450000</td>\n",
              "      <td>11140</td>\n",
              "      <td>중구</td>\n",
              "      <td>1114016500</td>\n",
              "      <td>황학동</td>\n",
              "      <td>2011</td>\n",
              "      <td>59.94</td>\n",
              "      <td>10</td>\n",
              "      <td>387000000</td>\n",
              "      <td>2008</td>\n",
              "    </tr>\n",
              "    <tr>\n",
              "      <th>2</th>\n",
              "      <td>1154510300110130000</td>\n",
              "      <td>11545</td>\n",
              "      <td>금천구</td>\n",
              "      <td>1154510300</td>\n",
              "      <td>시흥동</td>\n",
              "      <td>2011</td>\n",
              "      <td>59.34</td>\n",
              "      <td>3</td>\n",
              "      <td>225000000</td>\n",
              "      <td>2004</td>\n",
              "    </tr>\n",
              "    <tr>\n",
              "      <th>3</th>\n",
              "      <td>1154510300110130000</td>\n",
              "      <td>11545</td>\n",
              "      <td>금천구</td>\n",
              "      <td>1154510300</td>\n",
              "      <td>시흥동</td>\n",
              "      <td>2011</td>\n",
              "      <td>59.34</td>\n",
              "      <td>13</td>\n",
              "      <td>249000000</td>\n",
              "      <td>2004</td>\n",
              "    </tr>\n",
              "    <tr>\n",
              "      <th>4</th>\n",
              "      <td>1154510300110100000</td>\n",
              "      <td>11545</td>\n",
              "      <td>금천구</td>\n",
              "      <td>1154510300</td>\n",
              "      <td>시흥동</td>\n",
              "      <td>2011</td>\n",
              "      <td>84.99</td>\n",
              "      <td>8</td>\n",
              "      <td>288000000</td>\n",
              "      <td>2000</td>\n",
              "    </tr>\n",
              "  </tbody>\n",
              "</table>\n",
              "</div>"
            ],
            "text/plain": [
              "             addr_code city_code city_name  ... floor      price  built_year\n",
              "0  1154510300110130000     11545       금천구  ...    17  305000000        2004\n",
              "1  1114016500125450000     11140        중구  ...    10  387000000        2008\n",
              "2  1154510300110130000     11545       금천구  ...     3  225000000        2004\n",
              "3  1154510300110130000     11545       금천구  ...    13  249000000        2004\n",
              "4  1154510300110100000     11545       금천구  ...     8  288000000        2000\n",
              "\n",
              "[5 rows x 10 columns]"
            ]
          },
          "metadata": {},
          "execution_count": 56
        }
      ]
    },
    {
      "cell_type": "markdown",
      "metadata": {
        "id": "w4bTj3RqXF8F"
      },
      "source": [
        "## 4) 컬럼 추가하기"
      ]
    },
    {
      "cell_type": "markdown",
      "metadata": {
        "id": "Z_ldMn32XI7Z"
      },
      "source": [
        "데이터 분석 및 모델 성능 향상에 도움이 될 것으로 기대되는 컬럼 추가  "
      ]
    },
    {
      "cell_type": "code",
      "metadata": {
        "colab": {
          "base_uri": "https://localhost:8080/",
          "height": 203
        },
        "id": "iMCa_FeLXvUX",
        "outputId": "c121530f-3374-46a9-df36-44e5b58d52a7"
      },
      "source": [
        "# 건축년도를 그대로 사용하기보다는 몇 년이나 오래 되었는지 나타내는 컬럼이 필요하지 않을까?\n",
        "df['years'] = (2020 - df['built_year']).astype(int)\n",
        "df.head()"
      ],
      "execution_count": 57,
      "outputs": [
        {
          "output_type": "execute_result",
          "data": {
            "text/html": [
              "<div>\n",
              "<style scoped>\n",
              "    .dataframe tbody tr th:only-of-type {\n",
              "        vertical-align: middle;\n",
              "    }\n",
              "\n",
              "    .dataframe tbody tr th {\n",
              "        vertical-align: top;\n",
              "    }\n",
              "\n",
              "    .dataframe thead th {\n",
              "        text-align: right;\n",
              "    }\n",
              "</style>\n",
              "<table border=\"1\" class=\"dataframe\">\n",
              "  <thead>\n",
              "    <tr style=\"text-align: right;\">\n",
              "      <th></th>\n",
              "      <th>addr_code</th>\n",
              "      <th>city_code</th>\n",
              "      <th>city_name</th>\n",
              "      <th>area_code</th>\n",
              "      <th>area_name</th>\n",
              "      <th>report_year</th>\n",
              "      <th>size</th>\n",
              "      <th>floor</th>\n",
              "      <th>price</th>\n",
              "      <th>built_year</th>\n",
              "      <th>years</th>\n",
              "    </tr>\n",
              "  </thead>\n",
              "  <tbody>\n",
              "    <tr>\n",
              "      <th>0</th>\n",
              "      <td>1154510300110130000</td>\n",
              "      <td>11545</td>\n",
              "      <td>금천구</td>\n",
              "      <td>1154510300</td>\n",
              "      <td>시흥동</td>\n",
              "      <td>2011</td>\n",
              "      <td>84.97</td>\n",
              "      <td>17</td>\n",
              "      <td>305000000</td>\n",
              "      <td>2004</td>\n",
              "      <td>16</td>\n",
              "    </tr>\n",
              "    <tr>\n",
              "      <th>1</th>\n",
              "      <td>1114016500125450000</td>\n",
              "      <td>11140</td>\n",
              "      <td>중구</td>\n",
              "      <td>1114016500</td>\n",
              "      <td>황학동</td>\n",
              "      <td>2011</td>\n",
              "      <td>59.94</td>\n",
              "      <td>10</td>\n",
              "      <td>387000000</td>\n",
              "      <td>2008</td>\n",
              "      <td>12</td>\n",
              "    </tr>\n",
              "    <tr>\n",
              "      <th>2</th>\n",
              "      <td>1154510300110130000</td>\n",
              "      <td>11545</td>\n",
              "      <td>금천구</td>\n",
              "      <td>1154510300</td>\n",
              "      <td>시흥동</td>\n",
              "      <td>2011</td>\n",
              "      <td>59.34</td>\n",
              "      <td>3</td>\n",
              "      <td>225000000</td>\n",
              "      <td>2004</td>\n",
              "      <td>16</td>\n",
              "    </tr>\n",
              "    <tr>\n",
              "      <th>3</th>\n",
              "      <td>1154510300110130000</td>\n",
              "      <td>11545</td>\n",
              "      <td>금천구</td>\n",
              "      <td>1154510300</td>\n",
              "      <td>시흥동</td>\n",
              "      <td>2011</td>\n",
              "      <td>59.34</td>\n",
              "      <td>13</td>\n",
              "      <td>249000000</td>\n",
              "      <td>2004</td>\n",
              "      <td>16</td>\n",
              "    </tr>\n",
              "    <tr>\n",
              "      <th>4</th>\n",
              "      <td>1154510300110100000</td>\n",
              "      <td>11545</td>\n",
              "      <td>금천구</td>\n",
              "      <td>1154510300</td>\n",
              "      <td>시흥동</td>\n",
              "      <td>2011</td>\n",
              "      <td>84.99</td>\n",
              "      <td>8</td>\n",
              "      <td>288000000</td>\n",
              "      <td>2000</td>\n",
              "      <td>20</td>\n",
              "    </tr>\n",
              "  </tbody>\n",
              "</table>\n",
              "</div>"
            ],
            "text/plain": [
              "             addr_code city_code city_name  ...      price built_year  years\n",
              "0  1154510300110130000     11545       금천구  ...  305000000       2004     16\n",
              "1  1114016500125450000     11140        중구  ...  387000000       2008     12\n",
              "2  1154510300110130000     11545       금천구  ...  225000000       2004     16\n",
              "3  1154510300110130000     11545       금천구  ...  249000000       2004     16\n",
              "4  1154510300110100000     11545       금천구  ...  288000000       2000     20\n",
              "\n",
              "[5 rows x 11 columns]"
            ]
          },
          "metadata": {},
          "execution_count": 57
        }
      ]
    },
    {
      "cell_type": "code",
      "metadata": {
        "colab": {
          "base_uri": "https://localhost:8080/",
          "height": 203
        },
        "id": "cHO5uCz5XwsR",
        "outputId": "3be379f4-a300-4863-de02-6bf998e8dd04"
      },
      "source": [
        "# 건물면적을 통해 집을 소형/중형/대형으로 구분하면 어떨까?\n",
        "# 기준 : 60㎡ 이하 = 소형 / 60㎡ 초과~85㎡ 이하 = 중형 / 85㎡ 초과 = 대형\n",
        "# 참고 : https://www.hani.co.kr/arti/economy/property/689578.html\n",
        "df['size_grade'] = df['size'].apply(lambda x: 'S' if x <= 60 else 'L' if x > 85 else 'M')\n",
        "df.head()"
      ],
      "execution_count": 58,
      "outputs": [
        {
          "output_type": "execute_result",
          "data": {
            "text/html": [
              "<div>\n",
              "<style scoped>\n",
              "    .dataframe tbody tr th:only-of-type {\n",
              "        vertical-align: middle;\n",
              "    }\n",
              "\n",
              "    .dataframe tbody tr th {\n",
              "        vertical-align: top;\n",
              "    }\n",
              "\n",
              "    .dataframe thead th {\n",
              "        text-align: right;\n",
              "    }\n",
              "</style>\n",
              "<table border=\"1\" class=\"dataframe\">\n",
              "  <thead>\n",
              "    <tr style=\"text-align: right;\">\n",
              "      <th></th>\n",
              "      <th>addr_code</th>\n",
              "      <th>city_code</th>\n",
              "      <th>city_name</th>\n",
              "      <th>area_code</th>\n",
              "      <th>area_name</th>\n",
              "      <th>report_year</th>\n",
              "      <th>size</th>\n",
              "      <th>floor</th>\n",
              "      <th>price</th>\n",
              "      <th>built_year</th>\n",
              "      <th>years</th>\n",
              "      <th>size_grade</th>\n",
              "    </tr>\n",
              "  </thead>\n",
              "  <tbody>\n",
              "    <tr>\n",
              "      <th>0</th>\n",
              "      <td>1154510300110130000</td>\n",
              "      <td>11545</td>\n",
              "      <td>금천구</td>\n",
              "      <td>1154510300</td>\n",
              "      <td>시흥동</td>\n",
              "      <td>2011</td>\n",
              "      <td>84.97</td>\n",
              "      <td>17</td>\n",
              "      <td>305000000</td>\n",
              "      <td>2004</td>\n",
              "      <td>16</td>\n",
              "      <td>M</td>\n",
              "    </tr>\n",
              "    <tr>\n",
              "      <th>1</th>\n",
              "      <td>1114016500125450000</td>\n",
              "      <td>11140</td>\n",
              "      <td>중구</td>\n",
              "      <td>1114016500</td>\n",
              "      <td>황학동</td>\n",
              "      <td>2011</td>\n",
              "      <td>59.94</td>\n",
              "      <td>10</td>\n",
              "      <td>387000000</td>\n",
              "      <td>2008</td>\n",
              "      <td>12</td>\n",
              "      <td>S</td>\n",
              "    </tr>\n",
              "    <tr>\n",
              "      <th>2</th>\n",
              "      <td>1154510300110130000</td>\n",
              "      <td>11545</td>\n",
              "      <td>금천구</td>\n",
              "      <td>1154510300</td>\n",
              "      <td>시흥동</td>\n",
              "      <td>2011</td>\n",
              "      <td>59.34</td>\n",
              "      <td>3</td>\n",
              "      <td>225000000</td>\n",
              "      <td>2004</td>\n",
              "      <td>16</td>\n",
              "      <td>S</td>\n",
              "    </tr>\n",
              "    <tr>\n",
              "      <th>3</th>\n",
              "      <td>1154510300110130000</td>\n",
              "      <td>11545</td>\n",
              "      <td>금천구</td>\n",
              "      <td>1154510300</td>\n",
              "      <td>시흥동</td>\n",
              "      <td>2011</td>\n",
              "      <td>59.34</td>\n",
              "      <td>13</td>\n",
              "      <td>249000000</td>\n",
              "      <td>2004</td>\n",
              "      <td>16</td>\n",
              "      <td>S</td>\n",
              "    </tr>\n",
              "    <tr>\n",
              "      <th>4</th>\n",
              "      <td>1154510300110100000</td>\n",
              "      <td>11545</td>\n",
              "      <td>금천구</td>\n",
              "      <td>1154510300</td>\n",
              "      <td>시흥동</td>\n",
              "      <td>2011</td>\n",
              "      <td>84.99</td>\n",
              "      <td>8</td>\n",
              "      <td>288000000</td>\n",
              "      <td>2000</td>\n",
              "      <td>20</td>\n",
              "      <td>M</td>\n",
              "    </tr>\n",
              "  </tbody>\n",
              "</table>\n",
              "</div>"
            ],
            "text/plain": [
              "             addr_code city_code city_name  ... built_year years  size_grade\n",
              "0  1154510300110130000     11545       금천구  ...       2004    16           M\n",
              "1  1114016500125450000     11140        중구  ...       2008    12           S\n",
              "2  1154510300110130000     11545       금천구  ...       2004    16           S\n",
              "3  1154510300110130000     11545       금천구  ...       2004    16           S\n",
              "4  1154510300110100000     11545       금천구  ...       2000    20           M\n",
              "\n",
              "[5 rows x 12 columns]"
            ]
          },
          "metadata": {},
          "execution_count": 58
        }
      ]
    },
    {
      "cell_type": "code",
      "metadata": {
        "colab": {
          "base_uri": "https://localhost:8080/",
          "height": 203
        },
        "id": "ib18aBR-Xyss",
        "outputId": "8d349103-94e4-426b-cca6-6763312dfca6"
      },
      "source": [
        "# 물건금액 9억 초과를 기준으로 고가주택과 고가주택이 아닌 물건으로 구분(분류 문제 타겟)\n",
        "# 참고 : https://m.post.naver.com/viewer/postView.nhn?volumeNo=32576102&memberNo=36833282\n",
        "df['is_high_price'] = df['price'].apply(lambda x: 1 if x > 900000000 else 0)\n",
        "df.head()"
      ],
      "execution_count": 59,
      "outputs": [
        {
          "output_type": "execute_result",
          "data": {
            "text/html": [
              "<div>\n",
              "<style scoped>\n",
              "    .dataframe tbody tr th:only-of-type {\n",
              "        vertical-align: middle;\n",
              "    }\n",
              "\n",
              "    .dataframe tbody tr th {\n",
              "        vertical-align: top;\n",
              "    }\n",
              "\n",
              "    .dataframe thead th {\n",
              "        text-align: right;\n",
              "    }\n",
              "</style>\n",
              "<table border=\"1\" class=\"dataframe\">\n",
              "  <thead>\n",
              "    <tr style=\"text-align: right;\">\n",
              "      <th></th>\n",
              "      <th>addr_code</th>\n",
              "      <th>city_code</th>\n",
              "      <th>city_name</th>\n",
              "      <th>area_code</th>\n",
              "      <th>area_name</th>\n",
              "      <th>report_year</th>\n",
              "      <th>size</th>\n",
              "      <th>floor</th>\n",
              "      <th>price</th>\n",
              "      <th>built_year</th>\n",
              "      <th>years</th>\n",
              "      <th>size_grade</th>\n",
              "      <th>is_high_price</th>\n",
              "    </tr>\n",
              "  </thead>\n",
              "  <tbody>\n",
              "    <tr>\n",
              "      <th>0</th>\n",
              "      <td>1154510300110130000</td>\n",
              "      <td>11545</td>\n",
              "      <td>금천구</td>\n",
              "      <td>1154510300</td>\n",
              "      <td>시흥동</td>\n",
              "      <td>2011</td>\n",
              "      <td>84.97</td>\n",
              "      <td>17</td>\n",
              "      <td>305000000</td>\n",
              "      <td>2004</td>\n",
              "      <td>16</td>\n",
              "      <td>M</td>\n",
              "      <td>0</td>\n",
              "    </tr>\n",
              "    <tr>\n",
              "      <th>1</th>\n",
              "      <td>1114016500125450000</td>\n",
              "      <td>11140</td>\n",
              "      <td>중구</td>\n",
              "      <td>1114016500</td>\n",
              "      <td>황학동</td>\n",
              "      <td>2011</td>\n",
              "      <td>59.94</td>\n",
              "      <td>10</td>\n",
              "      <td>387000000</td>\n",
              "      <td>2008</td>\n",
              "      <td>12</td>\n",
              "      <td>S</td>\n",
              "      <td>0</td>\n",
              "    </tr>\n",
              "    <tr>\n",
              "      <th>2</th>\n",
              "      <td>1154510300110130000</td>\n",
              "      <td>11545</td>\n",
              "      <td>금천구</td>\n",
              "      <td>1154510300</td>\n",
              "      <td>시흥동</td>\n",
              "      <td>2011</td>\n",
              "      <td>59.34</td>\n",
              "      <td>3</td>\n",
              "      <td>225000000</td>\n",
              "      <td>2004</td>\n",
              "      <td>16</td>\n",
              "      <td>S</td>\n",
              "      <td>0</td>\n",
              "    </tr>\n",
              "    <tr>\n",
              "      <th>3</th>\n",
              "      <td>1154510300110130000</td>\n",
              "      <td>11545</td>\n",
              "      <td>금천구</td>\n",
              "      <td>1154510300</td>\n",
              "      <td>시흥동</td>\n",
              "      <td>2011</td>\n",
              "      <td>59.34</td>\n",
              "      <td>13</td>\n",
              "      <td>249000000</td>\n",
              "      <td>2004</td>\n",
              "      <td>16</td>\n",
              "      <td>S</td>\n",
              "      <td>0</td>\n",
              "    </tr>\n",
              "    <tr>\n",
              "      <th>4</th>\n",
              "      <td>1154510300110100000</td>\n",
              "      <td>11545</td>\n",
              "      <td>금천구</td>\n",
              "      <td>1154510300</td>\n",
              "      <td>시흥동</td>\n",
              "      <td>2011</td>\n",
              "      <td>84.99</td>\n",
              "      <td>8</td>\n",
              "      <td>288000000</td>\n",
              "      <td>2000</td>\n",
              "      <td>20</td>\n",
              "      <td>M</td>\n",
              "      <td>0</td>\n",
              "    </tr>\n",
              "  </tbody>\n",
              "</table>\n",
              "</div>"
            ],
            "text/plain": [
              "             addr_code city_code city_name  ... years size_grade  is_high_price\n",
              "0  1154510300110130000     11545       금천구  ...    16          M              0\n",
              "1  1114016500125450000     11140        중구  ...    12          S              0\n",
              "2  1154510300110130000     11545       금천구  ...    16          S              0\n",
              "3  1154510300110130000     11545       금천구  ...    16          S              0\n",
              "4  1154510300110100000     11545       금천구  ...    20          M              0\n",
              "\n",
              "[5 rows x 13 columns]"
            ]
          },
          "metadata": {},
          "execution_count": 59
        }
      ]
    },
    {
      "cell_type": "markdown",
      "metadata": {
        "id": "SaW-4Ss3YKOa"
      },
      "source": [
        "## 5) 베이스라인 모델 시각화 및 기준 성능 확인"
      ]
    },
    {
      "cell_type": "markdown",
      "metadata": {
        "id": "WgxctT81YMw6"
      },
      "source": [
        "회귀 문제 해결을 위한 베이스라인 모델로 물건금액(price)의 평균값과 중위값 확인\n",
        "\n",
        "분류 문제 해결을 위한 베이스라인 모델로 고가주택 여부(is_high_price)의 클래스 비율 확인\n",
        "\n",
        "이후 각각의 베이스라인 모델에 적합한 평가지표의 값 확인해보기"
      ]
    },
    {
      "cell_type": "code",
      "metadata": {
        "colab": {
          "base_uri": "https://localhost:8080/",
          "height": 265
        },
        "id": "JZpjgP4cYal1",
        "outputId": "212857da-bf72-4914-fafd-962de92261e9"
      },
      "source": [
        "# 특성과 타겟(price)의 상관관계 보기\n",
        "df.corr()"
      ],
      "execution_count": 60,
      "outputs": [
        {
          "output_type": "execute_result",
          "data": {
            "text/html": [
              "<div>\n",
              "<style scoped>\n",
              "    .dataframe tbody tr th:only-of-type {\n",
              "        vertical-align: middle;\n",
              "    }\n",
              "\n",
              "    .dataframe tbody tr th {\n",
              "        vertical-align: top;\n",
              "    }\n",
              "\n",
              "    .dataframe thead th {\n",
              "        text-align: right;\n",
              "    }\n",
              "</style>\n",
              "<table border=\"1\" class=\"dataframe\">\n",
              "  <thead>\n",
              "    <tr style=\"text-align: right;\">\n",
              "      <th></th>\n",
              "      <th>report_year</th>\n",
              "      <th>size</th>\n",
              "      <th>floor</th>\n",
              "      <th>price</th>\n",
              "      <th>built_year</th>\n",
              "      <th>years</th>\n",
              "      <th>is_high_price</th>\n",
              "    </tr>\n",
              "  </thead>\n",
              "  <tbody>\n",
              "    <tr>\n",
              "      <th>report_year</th>\n",
              "      <td>1.000000</td>\n",
              "      <td>-0.046031</td>\n",
              "      <td>0.010353</td>\n",
              "      <td>0.356565</td>\n",
              "      <td>0.102102</td>\n",
              "      <td>-0.102102</td>\n",
              "      <td>0.203033</td>\n",
              "    </tr>\n",
              "    <tr>\n",
              "      <th>size</th>\n",
              "      <td>-0.046031</td>\n",
              "      <td>1.000000</td>\n",
              "      <td>0.042505</td>\n",
              "      <td>0.475788</td>\n",
              "      <td>0.120036</td>\n",
              "      <td>-0.120036</td>\n",
              "      <td>0.194337</td>\n",
              "    </tr>\n",
              "    <tr>\n",
              "      <th>floor</th>\n",
              "      <td>0.010353</td>\n",
              "      <td>0.042505</td>\n",
              "      <td>1.000000</td>\n",
              "      <td>0.075790</td>\n",
              "      <td>0.119770</td>\n",
              "      <td>-0.119770</td>\n",
              "      <td>0.032839</td>\n",
              "    </tr>\n",
              "    <tr>\n",
              "      <th>price</th>\n",
              "      <td>0.356565</td>\n",
              "      <td>0.475788</td>\n",
              "      <td>0.075790</td>\n",
              "      <td>1.000000</td>\n",
              "      <td>0.104771</td>\n",
              "      <td>-0.104771</td>\n",
              "      <td>0.674340</td>\n",
              "    </tr>\n",
              "    <tr>\n",
              "      <th>built_year</th>\n",
              "      <td>0.102102</td>\n",
              "      <td>0.120036</td>\n",
              "      <td>0.119770</td>\n",
              "      <td>0.104771</td>\n",
              "      <td>1.000000</td>\n",
              "      <td>-1.000000</td>\n",
              "      <td>0.024860</td>\n",
              "    </tr>\n",
              "    <tr>\n",
              "      <th>years</th>\n",
              "      <td>-0.102102</td>\n",
              "      <td>-0.120036</td>\n",
              "      <td>-0.119770</td>\n",
              "      <td>-0.104771</td>\n",
              "      <td>-1.000000</td>\n",
              "      <td>1.000000</td>\n",
              "      <td>-0.024860</td>\n",
              "    </tr>\n",
              "    <tr>\n",
              "      <th>is_high_price</th>\n",
              "      <td>0.203033</td>\n",
              "      <td>0.194337</td>\n",
              "      <td>0.032839</td>\n",
              "      <td>0.674340</td>\n",
              "      <td>0.024860</td>\n",
              "      <td>-0.024860</td>\n",
              "      <td>1.000000</td>\n",
              "    </tr>\n",
              "  </tbody>\n",
              "</table>\n",
              "</div>"
            ],
            "text/plain": [
              "               report_year      size  ...     years  is_high_price\n",
              "report_year       1.000000 -0.046031  ... -0.102102       0.203033\n",
              "size             -0.046031  1.000000  ... -0.120036       0.194337\n",
              "floor             0.010353  0.042505  ... -0.119770       0.032839\n",
              "price             0.356565  0.475788  ... -0.104771       0.674340\n",
              "built_year        0.102102  0.120036  ... -1.000000       0.024860\n",
              "years            -0.102102 -0.120036  ...  1.000000      -0.024860\n",
              "is_high_price     0.203033  0.194337  ... -0.024860       1.000000\n",
              "\n",
              "[7 rows x 7 columns]"
            ]
          },
          "metadata": {},
          "execution_count": 60
        }
      ]
    },
    {
      "cell_type": "code",
      "metadata": {
        "colab": {
          "base_uri": "https://localhost:8080/",
          "height": 308
        },
        "id": "4szPzbxjYl_6",
        "outputId": "c7766f36-92b3-4f21-dde0-9aa0d72b46f2"
      },
      "source": [
        "# 가장 상관관계가 높은 size와 타겟(price)의 관계 시각화해보기\n",
        "baseline_mean = df.price.mean() # 기준 모델 : 타겟(price)의 평균값\n",
        "baseline_median = df.price.median() # 기준 모델 : 타겟(price)의 중위값\n",
        "print(baseline_mean, baseline_median)\n",
        "\n",
        "sns.scatterplot(x='size', y='price', data=df)\n",
        "plt.axhline(baseline_mean, color='red'); # 기준 모델(평균값) 시각화\n",
        "plt.axhline(baseline_median, color='green'); # 기준 모델(중위값) 시각화"
      ],
      "execution_count": 61,
      "outputs": [
        {
          "output_type": "stream",
          "name": "stdout",
          "text": [
            "495874817.5676219 435000000.0\n"
          ]
        },
        {
          "output_type": "display_data",
          "data": {
            "image/png": "[encoded data removed]",
            "text/plain": [
              "<Figure size 432x288 with 1 Axes>"
            ]
          },
          "metadata": {
            "needs_background": "light"
          }
        }
      ]
    },
    {
      "cell_type": "code",
      "metadata": {
        "colab": {
          "base_uri": "https://localhost:8080/",
          "height": 279
        },
        "id": "NhpI0le4aztd",
        "outputId": "1fcb194f-9f8e-4972-9c2a-8d898aedb2fe"
      },
      "source": [
        "# 타겟(price)의 분포 확인해보기\n",
        "sns.histplot(df.price, kde=False);\n",
        "plt.axvline(baseline_mean, color='red'); # 기준 모델 시각화\n",
        "plt.axvline(baseline_median, color='green'); # 기준 모델 시각화\n",
        "# price는 right-skewed이므로 로그 변환이 필요해보임"
      ],
      "execution_count": 62,
      "outputs": [
        {
          "output_type": "display_data",
          "data": {
            "image/png": "[encoded data removed]",
            "text/plain": [
              "<Figure size 432x288 with 1 Axes>"
            ]
          },
          "metadata": {
            "needs_background": "light"
          }
        }
      ]
    },
    {
      "cell_type": "code",
      "metadata": {
        "colab": {
          "base_uri": "https://localhost:8080/"
        },
        "id": "BTMJCjZQcRnC",
        "outputId": "c3742bfd-43e4-4c63-a8ea-0dca6936fb12"
      },
      "source": [
        "# 기준 성능(회귀)\n",
        "errors_mean = baseline_mean - df.price\n",
        "errors_median = baseline_median - df.price\n",
        "baseline_mean_mae = errors_mean.abs().mean()\n",
        "baseline_median_mae = errors_median.abs().mean()\n",
        "baseline_mean_mae, baseline_median_mae"
      ],
      "execution_count": 63,
      "outputs": [
        {
          "output_type": "execute_result",
          "data": {
            "text/plain": [
              "(197104164.13910708, 191258784.84230718)"
            ]
          },
          "metadata": {},
          "execution_count": 63
        }
      ]
    },
    {
      "cell_type": "code",
      "metadata": {
        "colab": {
          "base_uri": "https://localhost:8080/",
          "height": 333
        },
        "id": "EZnNqcj7cUz-",
        "outputId": "a6ea737e-df65-437d-a959-1cf627ea8e8e"
      },
      "source": [
        "# 타겟(is_high_price)의 클래스 비율 확인해보기 - 기준 성능(분류)\n",
        "sns.countplot(x=df.is_high_price);\n",
        "df.is_high_price.value_counts(normalize=True)\n",
        "# is_high_price는 클래스 비율이 불균형하므로 학습 시 class_weight 관련 설정이 필요"
      ],
      "execution_count": 64,
      "outputs": [
        {
          "output_type": "execute_result",
          "data": {
            "text/plain": [
              "0    0.923759\n",
              "1    0.076241\n",
              "Name: is_high_price, dtype: float64"
            ]
          },
          "metadata": {},
          "execution_count": 64
        },
        {
          "output_type": "display_data",
          "data": {
            "image/png": "[encoded data removed]",
            "text/plain": [
              "<Figure size 432x288 with 1 Axes>"
            ]
          },
          "metadata": {
            "needs_background": "light"
          }
        }
      ]
    }
  ]
}