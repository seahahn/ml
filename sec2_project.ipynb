{
  "nbformat": 4,
  "nbformat_minor": 0,
  "metadata": {
    "colab": {
      "name": "sec2_project.ipynb",
      "provenance": [],
      "collapsed_sections": [
        "QW_CbE7AKG0b",
        "j8aGxH1cKIZr",
        "R0TxSABzBxL0",
        "CKPsIi1TCASr"
      ],
      "authorship_tag": "ABX9TyPRyzrdnIyps6DWJC0Drp5C"
    },
    "kernelspec": {
      "name": "python3",
      "display_name": "Python 3"
    },
    "language_info": {
      "name": "python"
    }
  },
  "cells": [
    {
      "cell_type": "markdown",
      "metadata": {
        "id": "QW_CbE7AKG0b"
      },
      "source": [
        "# 프로젝트 개요:"
      ]
    },
    {
      "cell_type": "markdown",
      "metadata": {
        "id": "urUiL73_Bn0C"
      },
      "source": [
        "안경호님은 Section 2에서 머신러닝 파이프라인을 구축하는 방법에 대해 공부하셨습니다.  \n",
        "Section 2에서 다양한 데이터셋을 통해 머신러닝 방법론을 공부했습니다. 데이터셋은 익숙한 데이터부터 전혀 도메인 지식이 없는 데이터까지 모두 다뤄봤습니다.  \n",
        "이번 프로젝트에선 안경호님이 직접 선택한 데이터셋을 사용해서 만든 머신러닝 예측 모델을 통한 성능 및 인사이트를 도출/공유하는 것이 목표 입니다."
      ]
    },
    {
      "cell_type": "markdown",
      "metadata": {
        "id": "j8aGxH1cKIZr"
      },
      "source": [
        "# 프로젝트 목표:"
      ]
    },
    {
      "cell_type": "markdown",
      "metadata": {
        "id": "IfcPo0yBBqQ_"
      },
      "source": [
        "Section 2 프로젝트의 목표는 개요에서 알려드린대로\n",
        "\n",
        "데이터셋을 사용하여 머신러능 모델을 만든 후 성능 및 인사이트를 도출 / 공유하는 것\n",
        "\n",
        "을 데이터셋 선정부터 모델 해석까지의 결과로 보여주는 것이 목표입니다.\n",
        "\n",
        "이러한 데이터셋 전처리/EDA부터 모델을 해석하는 과정을 colab을 사용하여 작성하고, 해당 내용을 기반으로 설명하는 영상을 작성하는 것이 이번 프로젝트 기간 동안 안경호님이 수행하셔야 하는 태스크입니다.\n",
        "\n",
        "당연히 어떠한 코드, 분석, 라이브러리 혹은 목표를 가지는지는 온전히 안경호님의 자유 입니다.\n",
        "\n",
        "그러나, Section 2 Project인 만큼 해당 기간 동안 배운 내용을 위주로 설정하는 것이 권장됩니다.\n",
        "\n",
        "추가로, 안경호님의 발표를 듣는 사람은 비데이터 직군이라 가정합니다.\n",
        "\n",
        "즉 안경호님의 생각이나 가정들을 설명하는 과정에서 최대한 배경지식이 없는 사람들도 이해할 수 있도록 노력하셔야 할 겁니다."
      ]
    },
    {
      "cell_type": "markdown",
      "metadata": {
        "id": "0oeXY18yKKTs"
      },
      "source": [
        "# 프로젝트 절차:"
      ]
    },
    {
      "cell_type": "markdown",
      "metadata": {
        "id": "R0TxSABzBxL0"
      },
      "source": [
        "프로젝트 노트북 및 발표 영상의 흐름을 정하는 것은 자유이나 아래의 내용이 포함이 되어야 합니다.\n",
        "\n",
        "## 1) 데이터 선정 이유 및 문제 정의"
      ]
    },
    {
      "cell_type": "markdown",
      "metadata": {
        "id": "69BD-_iCB90L"
      },
      "source": [
        "데이터를 선정할 때에는 반드시 왜 해당 데이터를 선택했는지에 대해 안경호님의 이유를 자세히 설명해주셔야 합니다. 데이터셋 선정이 끝났다면 어떤 유형의 문제로 (분류 / 회귀) 접근할지도 결정합니다."
      ]
    },
    {
      "cell_type": "markdown",
      "metadata": {
        "id": "CKPsIi1TCASr"
      },
      "source": [
        "## 2) 데이터를 이용한 가설 및 평가지표, 베이스라인 선택"
      ]
    },
    {
      "cell_type": "markdown",
      "metadata": {
        "id": "qP41rACQCCO8"
      },
      "source": [
        "데이터를 선정함과 동시에 데이터를 통해서 내가 무엇을 해볼 수 있을지 가설을 세우는 것이 중요합니다. 가설은 쓸모 있어야 한다는 사실을 잊지마시길 바랍니다.\n",
        "데이터 기반의 사고방식, data-driven의 마음가짐을 section1과 2에서 배웠습니다. 이번에는 그것들을 심화시켜서 문제 해결을 시도 해봅니다.\n",
        "\n",
        "**태스크를 수행한 후, 다음 질문에 대답할 수 있어야 합니다.**\n",
        "1. 해당 특성을 target으로 지정한 이유를 설명하세요\n",
        "\n",
        "2. 해당 베이스라인 모델과 평가지표를 선택한 이유를 설명하세요"
      ]
    },
    {
      "cell_type": "markdown",
      "metadata": {
        "id": "DGSqRBkzCEAY"
      },
      "source": [
        "## 3) EDA와 데이터 전처리"
      ]
    },
    {
      "cell_type": "markdown",
      "metadata": {
        "id": "swMg-Ci8CFTz"
      },
      "source": [
        "가설을 정했고 베이스라인을 만들었다면 데이터의 탐색 및 가공을 시작해봅니다. 바로 적용이 될 수 있는 데이터도 있겠지만, 대부분의 데이터는 전처리 작업이 필요합니다.\n",
        "데이터 전처리를 통해 할 수 있는 것은 다양하지만 다음을 시도해볼 수 있습니다.\n",
        "\n",
        "- EDA\n",
        "\n",
        "- Feature Engineering\n",
        "\n",
        "- 데이터의 정규화\n",
        "\n",
        "- 노이즈 제거\n",
        "\n",
        "- 결측치 제거 혹은 대체\n",
        "\n",
        "- 데이터 밸런스\n",
        "\n",
        "- 그 외\n",
        "\n",
        "**태스크를 수행한 후, 다음 질문에 대답할 수 있어야 합니다**\n",
        "1. Data Leakage가 있었나요? 없었다면 어떻게 방지했나요?\n",
        "\n",
        "2. 안경호님이 만들고자 하는 모델은 언제 유용한가요? 어떤 한계를 가지고 있나요?"
      ]
    },
    {
      "cell_type": "markdown",
      "metadata": {
        "id": "-Sea35JJCLoY"
      },
      "source": [
        "## 4) 머신러닝 방식 적용 및 교차검증"
      ]
    },
    {
      "cell_type": "markdown",
      "metadata": {
        "id": "J02wFU2hCM6X"
      },
      "source": [
        "데이터의 탐색과 전처리 작업이 끝났다면 모델링을 통해 베이스라인과의 성능 비교를 해봅니다.\n",
        "\n",
        "- Linear / Tree-based / Ensemble 모델을 학습하세요. (다양하게 시도해보시는 걸 추천합니다.)\n",
        "\n",
        "- 평가지표를 계산 후 베이스라인과 비교해보세요.\n",
        "\n",
        "- 어느정도 성능이 나왔다면, 교차 검증 (이하 CV)을 통해서 일반화될 가능성이 있는지 확인해봅니다.\n",
        "\n",
        "- 모델 성능을 개선하기 위한 다양한 방법을 적용해보세요.\n",
        "\n",
        "  - Hyperparameter tuning, etc.\n",
        "- 최소 2개 이상의 모델을 만들어서 validation 점수를 보고하세요.\n",
        "\n",
        "- 최종 모델의 test 점수를 보고하세요.\n",
        "\n",
        "**태스크를 수행한 후, 다음 질문에 대답할 수 있어야 합니다.**\n",
        "1. 모델을 학습한 후에 베이스라인보다 잘 나왔나요? 그렇지 않다면 그 이유는 무엇일까요?\n",
        "2. 모델 성능 개선을 위해 어떤 방법을 적용했나요? 그 방법을 선택한 이유는 무엇인가요?\n",
        "3. 최종 모델에 관해 설명하세요."
      ]
    },
    {
      "cell_type": "markdown",
      "metadata": {
        "id": "rszpQPo1COMm"
      },
      "source": [
        "## 5) 머신러닝 모델 해석"
      ]
    },
    {
      "cell_type": "markdown",
      "metadata": {
        "id": "RaV0fCBBCOUy"
      },
      "source": [
        "프로젝트에서 가장 중요하다고 볼 수 있는 부분 입니다. 우리는 SHAP, PDP 등을 통해서 모델이 관측치를 어떤 특성을 활용했거나, 어떤 특성이 타겟에 영향을 끼쳤는지 등을 해석하는 방법에 대해서 배웠습니다.\n",
        "여러분의 프로젝트에도 이러한 해석 방법을 활용해 머신러닝 모델을 비전문가라도 조금 더 쉽게 이해하고 접근할 수 있도록 해주셔야 합니다.\n",
        "\n",
        "- PDP, SHAP을 활용하여 최종 모델을 설명합니다\n",
        "- 시각화는 \"설명\"이 제일 중요합니다.\n",
        "\n",
        "**태스크를 수행한 후, 다음 질문에 대답할 수 있어야 합니다.**\n",
        "1. 모델이 관측치를 예측하기 위해서 어떤 특성을 활용했나요?\n",
        "2. 어떤 특성이 있다면 모델의 예측에 도움이 될까요? 해당 특성은 어떻게 구할 수 있을까요?"
      ]
    },
    {
      "cell_type": "markdown",
      "metadata": {
        "id": "V5gB9netCSCZ"
      },
      "source": [
        "# 1. 데이터 선정 이유 및 문제 정의"
      ]
    },
    {
      "cell_type": "markdown",
      "metadata": {
        "id": "9MtdPxDyCX1E"
      },
      "source": [
        "2011년부터 2021년까지의 서울 부동산 실거래가 데이터를 선택하였음.  \n",
        "\n",
        "뉴스나 인터넷 신문 기사 등 다양한 매체에서 끊임없이 언급되는 **서울 아파트 가격 문제**를 머신 러닝을 통해 다루어보면 좋겠다고 생각했음.  \n",
        "그리하여 최근 10년 간의 서울 부동산 실거래가 데이터를 토대로 2021년 그리고 그 이후의 아파트 가격이 어떻게 흘러갈지 알아보고 싶어졌음.  \n",
        "또한 현재 법적으로 고가주택의 가격 기준이 9억원인데(2008년~), 계속해서 아파트 가격이 오르고 있는 상황에서 이 기준이 과연 그대로 유지될 수 있을지 궁금해졌고, 이를 알아보기 위해 고가주택 비율의 흐름을 분석 및 예측해보고자 함.  \n",
        "(고가주택 기준 참고 : https://www.chosun.com/economy/real_estate/2021/02/11/T3CAJH7P6VEWJDI4FNKGESJVDE/)\n",
        "\n",
        "2011년~2020년 데이터는 서울특별시 부동산 실거래가 정보에서 완전한 데이터로 구할 수 있었으나, 2021년은 아직 끝나지 않았기에 완전한 데이터가 없었음.\n",
        "대신 국토교통부 실거래가 공개시스템을 통해서 2021년 1월부터 지난달 말일인 10월 31일까지의 실거래가 데이터를 가져옴.\n",
        "\n",
        "가격 예측은 회귀 문제, 고가주택 분류는 말 그대로 분류 문제이다.  \n",
        "따라서 가격 예측을 위해서 릿지 회귀를, 분류 예측을 위해서 로지스틱 회귀를,  \n",
        "그리고 두 예측 공통으로 결정 트리, 랜덤 포레스트 및 그라디언트 부스팅 모델을 사용하여 성능 비교 후 최종 모델을 결정한다."
      ]
    },
    {
      "cell_type": "code",
      "metadata": {
        "colab": {
          "base_uri": "https://localhost:8080/"
        },
        "id": "mJ2cwwdeIhTl",
        "outputId": "5f6b36e1-4660-41b3-9c28-832c521a88b1"
      },
      "source": [
        "# from google.colab import drive\n",
        "# drive.mount('/content/gdrive')"
      ],
      "execution_count": 513,
      "outputs": [
        {
          "output_type": "stream",
          "name": "stdout",
          "text": [
            "Mounted at /content/gdrive\n"
          ]
        }
      ]
    },
    {
      "cell_type": "code",
      "metadata": {
        "id": "QulVm8DSLrOG"
      },
      "source": [
        "# ! pip install category_encoders\n",
        "# ! pip install eli5\n",
        "# ! pip install shap\n",
        "# ! pip install pdpbox"
      ],
      "execution_count": 434,
      "outputs": []
    },
    {
      "cell_type": "code",
      "metadata": {
        "id": "BXSqtfx2LhPg"
      },
      "source": [
        "from joblib import dump, load"
      ],
      "execution_count": 516,
      "outputs": []
    },
    {
      "cell_type": "code",
      "metadata": {
        "id": "TWZYv2qrJ5Ox"
      },
      "source": [
        "import pandas as pd\n",
        "import numpy as np\n",
        "import seaborn as sns\n",
        "import matplotlib.pyplot as plt\n",
        "\n",
        "from category_encoders import TargetEncoder, OrdinalEncoder, LeaveOneOutEncoder\n",
        "from sklearn.impute import SimpleImputer\n",
        "from sklearn.preprocessing import StandardScaler\n",
        "from sklearn.compose import TransformedTargetRegressor\n",
        "\n",
        "from sklearn.linear_model import RidgeCV, LogisticRegression\n",
        "from sklearn.tree import DecisionTreeRegressor, DecisionTreeClassifier\n",
        "from sklearn.ensemble import RandomForestRegressor, RandomForestClassifier\n",
        "from xgboost import XGBRegressor, XGBClassifier\n",
        "\n",
        "from sklearn.model_selection import train_test_split, RandomizedSearchCV, GridSearchCV\n",
        "from sklearn.pipeline import make_pipeline\n",
        "from sklearn.metrics import mean_absolute_error, r2_score, f1_score, roc_curve, classification_report, plot_confusion_matrix, roc_auc_score\n",
        "from scipy.stats import randint, uniform\n",
        "\n",
        "import eli5\n",
        "from eli5.sklearn import PermutationImportance\n",
        "from pdpbox.pdp import pdp_isolate, pdp_plot, pdp_interact, pdp_interact_plot\n",
        "import shap"
      ],
      "execution_count": 507,
      "outputs": []
    },
    {
      "cell_type": "code",
      "metadata": {
        "id": "v9BYBUDAhcuk"
      },
      "source": [
        "# 자료 출처 : 서울 열린데이터 광장 - 서울특별시 부동산 실거래가 정보(2011~2020)\n",
        "# https://data.seoul.go.kr/dataList/OA-15548/S/1/datasetView.do\n",
        "# 국토교통부 실거래가 공개시스템(2021)\n",
        "# http://rtdown.molit.go.kr/\n",
        "\n",
        "data2020 = pd.read_csv('https://docs.google.com/uc?export=download&id=1WyeDe2Ry4ohJobcbnQJXHxFEAtcg-CC_', encoding='cp949')\n",
        "data2019 = pd.read_csv('https://docs.google.com/uc?export=download&id=1tlNazFOkcYJVeiDlLM5ZtnVUGP3PTqt3', encoding='cp949')\n",
        "data2018 = pd.read_csv('https://docs.google.com/uc?export=download&id=1bYkV3RBfrPftGoCdNw0vKZiNoiVr6itJ', encoding='cp949')\n",
        "data2017 = pd.read_csv('https://docs.google.com/uc?export=download&id=1mbtBM_8_wYNEICXp_TdLNrV2yBLfAGEe', encoding='cp949')\n",
        "data2016 = pd.read_csv('https://docs.google.com/uc?export=download&id=1z0TL75ZFdkp4aRizfKFViRCnpNh3uQ8q', encoding='cp949')\n",
        "data2015 = pd.read_csv('https://docs.google.com/uc?export=download&id=1YV6tdqtTS0mHdtSa6wRvhX38oxPrGZl1', encoding='cp949')\n",
        "data2014 = pd.read_csv('https://docs.google.com/uc?export=download&id=1OMyoaGR7YT9zw5ktzKG2TxpAO18wRUQW', encoding='cp949')\n",
        "data2013 = pd.read_csv('https://docs.google.com/uc?export=download&id=1FLH6VWaJkqNlnpBnucPwfcikiV5eYFg0', encoding='cp949')\n",
        "data2012 = pd.read_csv('https://docs.google.com/uc?export=download&id=1dUZyipoi41XpkqBZv6-pfsRXTk6zeGTQ', encoding='cp949')\n",
        "data2011 = pd.read_csv('https://docs.google.com/uc?export=download&id=1on12abOzvUDUftjpyAC9Wq-SjusWxYJd', encoding='cp949')\n",
        "\n",
        "data2021 = pd.read_csv('https://docs.google.com/uc?export=download&id=1ooZBZfgqUgxlKhefrWwaFGvaP1-zu3SA', encoding='cp949') # 아파트\n",
        "# villa_2021 = pd.read_csv('https://docs.google.com/uc?export=download&id=1mT83_q13K1-6Z3zXyRRE6z07NIsPcvjH', encoding='cp949') # 연립/다세대\n",
        "# house_2021 = pd.read_csv('https://docs.google.com/uc?export=download&id=1AIEwJEOKp9xSfPUXqjt8Y5Kj4UgrgpPZ', encoding='cp949') # 단독/다가구\n",
        "# officetel_2021 = pd.read_csv('https://docs.google.com/uc?export=download&id=12CT84sZo0NXMRlR3O_7wzAmmHW4Wzi_i', encoding='cp949') # 오피스텔\n",
        "\n",
        "addr_code = pd.read_csv('https://docs.google.com/uc?export=download&id=1NyrxzBSUOoCPBcIxKfQtZAMiL9hqaLe9', encoding='cp949') # 법정동코드\n",
        "\n",
        "# 서울 부동산 물건금액 예측해보기\n",
        "# 2011~2020년 실거래가를 토대로 2021년 부동산 물건금액 예측 테스트\n",
        "# 그리고 이후의 가격 변동 알아보기\n",
        "# 1) 가격 예측\n",
        "# 2) 고가 주택(9억 초과)과 고가 주택 아닌 것으로 분류('물건금액' 특성을 이용하여 '고가주택 여부' 만든 후 각각 회귀/분류 타겟 특성으로 분리하여 정보 누수 예방하기)"
      ],
      "execution_count": 436,
      "outputs": []
    },
    {
      "cell_type": "markdown",
      "metadata": {
        "id": "bC_WjpTRE1U7"
      },
      "source": [
        "# 2. 데이터를 이용한 가설 및 평가지표, 베이스라인 선택"
      ]
    },
    {
      "cell_type": "markdown",
      "metadata": {
        "id": "SEGKAPWxE4Jj"
      },
      "source": [
        "1) 타겟\n",
        "  - 회귀 문제 : 물건금액  \n",
        "    - 서울 부동산 가격의 흐름을 알아보고 예측하는 것이 목적\n",
        "  - 분류 문제 : 고가주택 여부(새로 만들 특성)  \n",
        "    - 고가주택의 비율의 변화 양상을 알아보고 예측하기 위함\n",
        "    - 현재 고가주택 기준인 9억원이 앞으로도 적절한 기준인지 판단하는 것이 목적\n",
        "\n",
        "2) 가설(물건금액 / 고가주택 여부)\n",
        "  1. 건물면적이 클수록 물건금액은 높을 것이다. \n",
        "  / 고가주택일 확률이 높을 것이다.\n",
        "  2. 층정보가 클수록(층이 높을수록) 물건금액은 높을 것이다.\n",
        "  / 고가주택일 확률이 높을 것이다.\n",
        "  3. 건축년도가 최신일수록 물건금액은 높을 것이다.\n",
        "  / 고가주택일 확률이 높을 것이다.\n",
        "  4. 자치구명(지역구)에 따라서 물건금액의 평균값, 중위값이 다를 것이다.\n",
        "  / 고가주택 비율이 다를 것이다.\n",
        "  5. 자치구명(지역구)에 따라서 물건금액의 매해 가격 상승률 평균이 다를 것이다.\n",
        "  / 고가주택 비율의 증감률이 다를 것이다.\n",
        "\n",
        "3) 베이스라인 모델\n",
        "  - 회귀 문제 : 2011년~2021년 '물건금액'의 평균값, 중위값 각각에 대한 MAE, R Squared\n",
        "  - 분류 문제 : 2011년~2021년의 고가주택 분류 비율\n",
        "\n",
        "4) 평가지표\n",
        "  - 회귀 문제 평가지표 : \n",
        "    - MAE : 예측값과 실제 값 차이가 얼마나 되는지 대략적으로 확인\n",
        "    - R Squared(예측 성능을 숫자 하나로 쉽게 확인\n",
        "  - 분류 문제 평가 지표 : \n",
        "    - F1 Score : 예측 성능을 숫자 하나로 쉽게 확인\n",
        "    - ROC-AUC Score : 임계값 설정을 통한 예측 성능 향상 목적\n",
        "    - Confusion matrix : 예측의 정확도, 정밀도, 재현율 확인  \n"
      ]
    },
    {
      "cell_type": "markdown",
      "metadata": {
        "id": "q0TWdrQHTOPo"
      },
      "source": [
        "# 3. EDA와 데이터 전처리 및 베이스라인 시각화"
      ]
    },
    {
      "cell_type": "markdown",
      "metadata": {
        "id": "fJ9JgFAIUyxI"
      },
      "source": [
        "## 1) EDA(데이터 확인하기)"
      ]
    },
    {
      "cell_type": "code",
      "metadata": {
        "colab": {
          "base_uri": "https://localhost:8080/",
          "height": 902
        },
        "id": "TRAB4E2gBHbk",
        "outputId": "e17d797c-3ee2-4825-f054-dc7812a6ef46"
      },
      "source": [
        "# 2017 ~ 2020년\n",
        "past = pd.concat([data2020, data2019, data2018, data2017], axis=0)\n",
        "print(past.shape)\n",
        "display(pd.DataFrame([past.dtypes, past.isna().sum()], index=['dtypes', 'isna']))\n",
        "past.head()"
      ],
      "execution_count": 437,
      "outputs": [
        {
          "output_type": "stream",
          "name": "stdout",
          "text": [
            "(659636, 20)\n"
          ]
        },
        {
          "output_type": "display_data",
          "data": {
            "text/html": [
              "<div>\n",
              "<style scoped>\n",
              "    .dataframe tbody tr th:only-of-type {\n",
              "        vertical-align: middle;\n",
              "    }\n",
              "\n",
              "    .dataframe tbody tr th {\n",
              "        vertical-align: top;\n",
              "    }\n",
              "\n",
              "    .dataframe thead th {\n",
              "        text-align: right;\n",
              "    }\n",
              "</style>\n",
              "<table border=\"1\" class=\"dataframe\">\n",
              "  <thead>\n",
              "    <tr style=\"text-align: right;\">\n",
              "      <th></th>\n",
              "      <th>실거래가아이디</th>\n",
              "      <th>지번코드</th>\n",
              "      <th>시군구코드</th>\n",
              "      <th>자치구명</th>\n",
              "      <th>법정동코드</th>\n",
              "      <th>법정동명</th>\n",
              "      <th>신고년도</th>\n",
              "      <th>업무구분코드</th>\n",
              "      <th>업무구분</th>\n",
              "      <th>물건번호</th>\n",
              "      <th>대지권면적</th>\n",
              "      <th>건물면적</th>\n",
              "      <th>관리구분코드</th>\n",
              "      <th>층정보</th>\n",
              "      <th>건물주용도코드</th>\n",
              "      <th>건물주용도</th>\n",
              "      <th>물건금액</th>\n",
              "      <th>건축년도</th>\n",
              "      <th>건물명</th>\n",
              "      <th>실거래가아이디\"</th>\n",
              "    </tr>\n",
              "  </thead>\n",
              "  <tbody>\n",
              "    <tr>\n",
              "      <th>dtypes</th>\n",
              "      <td>object</td>\n",
              "      <td>object</td>\n",
              "      <td>int64</td>\n",
              "      <td>object</td>\n",
              "      <td>int64</td>\n",
              "      <td>object</td>\n",
              "      <td>int64</td>\n",
              "      <td>int64</td>\n",
              "      <td>object</td>\n",
              "      <td>int64</td>\n",
              "      <td>float64</td>\n",
              "      <td>float64</td>\n",
              "      <td>object</td>\n",
              "      <td>float64</td>\n",
              "      <td>int64</td>\n",
              "      <td>object</td>\n",
              "      <td>int64</td>\n",
              "      <td>float64</td>\n",
              "      <td>object</td>\n",
              "      <td>object</td>\n",
              "    </tr>\n",
              "    <tr>\n",
              "      <th>isna</th>\n",
              "      <td>130272</td>\n",
              "      <td>0</td>\n",
              "      <td>0</td>\n",
              "      <td>0</td>\n",
              "      <td>0</td>\n",
              "      <td>0</td>\n",
              "      <td>0</td>\n",
              "      <td>0</td>\n",
              "      <td>0</td>\n",
              "      <td>0</td>\n",
              "      <td>282052</td>\n",
              "      <td>0</td>\n",
              "      <td>0</td>\n",
              "      <td>52490</td>\n",
              "      <td>0</td>\n",
              "      <td>0</td>\n",
              "      <td>0</td>\n",
              "      <td>1220</td>\n",
              "      <td>52490</td>\n",
              "      <td>529364</td>\n",
              "    </tr>\n",
              "  </tbody>\n",
              "</table>\n",
              "</div>"
            ],
            "text/plain": [
              "       실거래가아이디    지번코드  시군구코드    자치구명  ...   물건금액     건축년도     건물명 실거래가아이디\"\n",
              "dtypes  object  object  int64  object  ...  int64  float64  object   object\n",
              "isna    130272       0      0       0  ...      0     1220   52490   529364\n",
              "\n",
              "[2 rows x 20 columns]"
            ]
          },
          "metadata": {}
        },
        {
          "output_type": "execute_result",
          "data": {
            "text/html": [
              "<div>\n",
              "<style scoped>\n",
              "    .dataframe tbody tr th:only-of-type {\n",
              "        vertical-align: middle;\n",
              "    }\n",
              "\n",
              "    .dataframe tbody tr th {\n",
              "        vertical-align: top;\n",
              "    }\n",
              "\n",
              "    .dataframe thead th {\n",
              "        text-align: right;\n",
              "    }\n",
              "</style>\n",
              "<table border=\"1\" class=\"dataframe\">\n",
              "  <thead>\n",
              "    <tr style=\"text-align: right;\">\n",
              "      <th></th>\n",
              "      <th>실거래가아이디</th>\n",
              "      <th>지번코드</th>\n",
              "      <th>시군구코드</th>\n",
              "      <th>자치구명</th>\n",
              "      <th>법정동코드</th>\n",
              "      <th>법정동명</th>\n",
              "      <th>신고년도</th>\n",
              "      <th>업무구분코드</th>\n",
              "      <th>업무구분</th>\n",
              "      <th>물건번호</th>\n",
              "      <th>대지권면적</th>\n",
              "      <th>건물면적</th>\n",
              "      <th>관리구분코드</th>\n",
              "      <th>층정보</th>\n",
              "      <th>건물주용도코드</th>\n",
              "      <th>건물주용도</th>\n",
              "      <th>물건금액</th>\n",
              "      <th>건축년도</th>\n",
              "      <th>건물명</th>\n",
              "      <th>실거래가아이디\"</th>\n",
              "    </tr>\n",
              "  </thead>\n",
              "  <tbody>\n",
              "    <tr>\n",
              "      <th>0</th>\n",
              "      <td>11290-2020-4-0000066-1</td>\n",
              "      <td>1129013800101440024</td>\n",
              "      <td>11290</td>\n",
              "      <td>성북구</td>\n",
              "      <td>1129013800</td>\n",
              "      <td>장위동</td>\n",
              "      <td>2020</td>\n",
              "      <td>4</td>\n",
              "      <td>신고</td>\n",
              "      <td>1</td>\n",
              "      <td>0.0</td>\n",
              "      <td>59.92</td>\n",
              "      <td>2</td>\n",
              "      <td>5.0</td>\n",
              "      <td>2001</td>\n",
              "      <td>아파트</td>\n",
              "      <td>749000000</td>\n",
              "      <td>0.0</td>\n",
              "      <td>래미안 장위포레카운티</td>\n",
              "      <td>NaN</td>\n",
              "    </tr>\n",
              "    <tr>\n",
              "      <th>1</th>\n",
              "      <td>11290-2020-4-0000628-1</td>\n",
              "      <td>1129013400105080016</td>\n",
              "      <td>11290</td>\n",
              "      <td>성북구</td>\n",
              "      <td>1129013400</td>\n",
              "      <td>길음동</td>\n",
              "      <td>2020</td>\n",
              "      <td>4</td>\n",
              "      <td>신고</td>\n",
              "      <td>1</td>\n",
              "      <td>0.0</td>\n",
              "      <td>84.77</td>\n",
              "      <td>2</td>\n",
              "      <td>18.0</td>\n",
              "      <td>2001</td>\n",
              "      <td>아파트</td>\n",
              "      <td>1200000000</td>\n",
              "      <td>0.0</td>\n",
              "      <td>롯데캐슬 클라시아</td>\n",
              "      <td>NaN</td>\n",
              "    </tr>\n",
              "    <tr>\n",
              "      <th>2</th>\n",
              "      <td>11530-2020-4-0014284-1</td>\n",
              "      <td>1153010200107400029</td>\n",
              "      <td>11530</td>\n",
              "      <td>구로구</td>\n",
              "      <td>1153010200</td>\n",
              "      <td>구로동</td>\n",
              "      <td>2020</td>\n",
              "      <td>4</td>\n",
              "      <td>신고</td>\n",
              "      <td>1</td>\n",
              "      <td>NaN</td>\n",
              "      <td>36.90</td>\n",
              "      <td>0</td>\n",
              "      <td>1.0</td>\n",
              "      <td>2001</td>\n",
              "      <td>아파트</td>\n",
              "      <td>105000000</td>\n",
              "      <td>1994.0</td>\n",
              "      <td>궁전아트빌라</td>\n",
              "      <td>NaN</td>\n",
              "    </tr>\n",
              "    <tr>\n",
              "      <th>3</th>\n",
              "      <td>11170-2020-4-0005040-1</td>\n",
              "      <td>1117011500101930000</td>\n",
              "      <td>11170</td>\n",
              "      <td>용산구</td>\n",
              "      <td>1117011500</td>\n",
              "      <td>산천동</td>\n",
              "      <td>2020</td>\n",
              "      <td>4</td>\n",
              "      <td>신고</td>\n",
              "      <td>1</td>\n",
              "      <td>NaN</td>\n",
              "      <td>59.55</td>\n",
              "      <td>0</td>\n",
              "      <td>2.0</td>\n",
              "      <td>2001</td>\n",
              "      <td>아파트</td>\n",
              "      <td>830000000</td>\n",
              "      <td>2001.0</td>\n",
              "      <td>리버힐삼성</td>\n",
              "      <td>NaN</td>\n",
              "    </tr>\n",
              "    <tr>\n",
              "      <th>4</th>\n",
              "      <td>11170-2020-4-0001553-1</td>\n",
              "      <td>1117012900101930003</td>\n",
              "      <td>11170</td>\n",
              "      <td>용산구</td>\n",
              "      <td>1117012900</td>\n",
              "      <td>이촌동</td>\n",
              "      <td>2020</td>\n",
              "      <td>4</td>\n",
              "      <td>신고</td>\n",
              "      <td>1</td>\n",
              "      <td>NaN</td>\n",
              "      <td>64.43</td>\n",
              "      <td>0</td>\n",
              "      <td>5.0</td>\n",
              "      <td>2001</td>\n",
              "      <td>아파트</td>\n",
              "      <td>735000000</td>\n",
              "      <td>1971.0</td>\n",
              "      <td>강변</td>\n",
              "      <td>NaN</td>\n",
              "    </tr>\n",
              "  </tbody>\n",
              "</table>\n",
              "</div>"
            ],
            "text/plain": [
              "                  실거래가아이디                 지번코드  ...          건물명 실거래가아이디\"\n",
              "0  11290-2020-4-0000066-1  1129013800101440024  ...  래미안 장위포레카운티      NaN\n",
              "1  11290-2020-4-0000628-1  1129013400105080016  ...   롯데캐슬 클라시아       NaN\n",
              "2  11530-2020-4-0014284-1  1153010200107400029  ...       궁전아트빌라      NaN\n",
              "3  11170-2020-4-0005040-1  1117011500101930000  ...        리버힐삼성      NaN\n",
              "4  11170-2020-4-0001553-1  1117012900101930003  ...           강변      NaN\n",
              "\n",
              "[5 rows x 20 columns]"
            ]
          },
          "metadata": {},
          "execution_count": 437
        }
      ]
    },
    {
      "cell_type": "code",
      "metadata": {
        "colab": {
          "base_uri": "https://localhost:8080/",
          "height": 431
        },
        "id": "5M8C0Xq1X4tN",
        "outputId": "a8fd1516-a306-4032-f136-b4a814564809"
      },
      "source": [
        "# 2021년\n",
        "print(data2021.shape)\n",
        "display(pd.DataFrame([data2021.dtypes, data2021.isna().sum()], index=['dtypes', 'isna']))\n",
        "data2021.head()"
      ],
      "execution_count": 438,
      "outputs": [
        {
          "output_type": "stream",
          "name": "stdout",
          "text": [
            "(40122, 15)\n"
          ]
        },
        {
          "output_type": "display_data",
          "data": {
            "text/html": [
              "<div>\n",
              "<style scoped>\n",
              "    .dataframe tbody tr th:only-of-type {\n",
              "        vertical-align: middle;\n",
              "    }\n",
              "\n",
              "    .dataframe tbody tr th {\n",
              "        vertical-align: top;\n",
              "    }\n",
              "\n",
              "    .dataframe thead th {\n",
              "        text-align: right;\n",
              "    }\n",
              "</style>\n",
              "<table border=\"1\" class=\"dataframe\">\n",
              "  <thead>\n",
              "    <tr style=\"text-align: right;\">\n",
              "      <th></th>\n",
              "      <th>시군구</th>\n",
              "      <th>번지</th>\n",
              "      <th>본번</th>\n",
              "      <th>부번</th>\n",
              "      <th>단지명</th>\n",
              "      <th>전용면적(㎡)</th>\n",
              "      <th>계약년월</th>\n",
              "      <th>계약일</th>\n",
              "      <th>거래금액(만원)</th>\n",
              "      <th>층</th>\n",
              "      <th>건축년도</th>\n",
              "      <th>도로명</th>\n",
              "      <th>해제사유발생일</th>\n",
              "      <th>거래유형</th>\n",
              "      <th>중개사소재지</th>\n",
              "    </tr>\n",
              "  </thead>\n",
              "  <tbody>\n",
              "    <tr>\n",
              "      <th>dtypes</th>\n",
              "      <td>object</td>\n",
              "      <td>object</td>\n",
              "      <td>float64</td>\n",
              "      <td>float64</td>\n",
              "      <td>object</td>\n",
              "      <td>float64</td>\n",
              "      <td>int64</td>\n",
              "      <td>int64</td>\n",
              "      <td>object</td>\n",
              "      <td>int64</td>\n",
              "      <td>int64</td>\n",
              "      <td>object</td>\n",
              "      <td>float64</td>\n",
              "      <td>object</td>\n",
              "      <td>object</td>\n",
              "    </tr>\n",
              "    <tr>\n",
              "      <th>isna</th>\n",
              "      <td>0</td>\n",
              "      <td>12</td>\n",
              "      <td>5</td>\n",
              "      <td>5</td>\n",
              "      <td>0</td>\n",
              "      <td>0</td>\n",
              "      <td>0</td>\n",
              "      <td>0</td>\n",
              "      <td>0</td>\n",
              "      <td>0</td>\n",
              "      <td>0</td>\n",
              "      <td>0</td>\n",
              "      <td>39106</td>\n",
              "      <td>0</td>\n",
              "      <td>0</td>\n",
              "    </tr>\n",
              "  </tbody>\n",
              "</table>\n",
              "</div>"
            ],
            "text/plain": [
              "           시군구      번지       본번       부번  ...     도로명  해제사유발생일    거래유형  중개사소재지\n",
              "dtypes  object  object  float64  float64  ...  object  float64  object  object\n",
              "isna         0      12        5        5  ...       0    39106       0       0\n",
              "\n",
              "[2 rows x 15 columns]"
            ]
          },
          "metadata": {}
        },
        {
          "output_type": "execute_result",
          "data": {
            "text/html": [
              "<div>\n",
              "<style scoped>\n",
              "    .dataframe tbody tr th:only-of-type {\n",
              "        vertical-align: middle;\n",
              "    }\n",
              "\n",
              "    .dataframe tbody tr th {\n",
              "        vertical-align: top;\n",
              "    }\n",
              "\n",
              "    .dataframe thead th {\n",
              "        text-align: right;\n",
              "    }\n",
              "</style>\n",
              "<table border=\"1\" class=\"dataframe\">\n",
              "  <thead>\n",
              "    <tr style=\"text-align: right;\">\n",
              "      <th></th>\n",
              "      <th>시군구</th>\n",
              "      <th>번지</th>\n",
              "      <th>본번</th>\n",
              "      <th>부번</th>\n",
              "      <th>단지명</th>\n",
              "      <th>전용면적(㎡)</th>\n",
              "      <th>계약년월</th>\n",
              "      <th>계약일</th>\n",
              "      <th>거래금액(만원)</th>\n",
              "      <th>층</th>\n",
              "      <th>건축년도</th>\n",
              "      <th>도로명</th>\n",
              "      <th>해제사유발생일</th>\n",
              "      <th>거래유형</th>\n",
              "      <th>중개사소재지</th>\n",
              "    </tr>\n",
              "  </thead>\n",
              "  <tbody>\n",
              "    <tr>\n",
              "      <th>0</th>\n",
              "      <td>서울특별시 강남구 개포동</td>\n",
              "      <td>655-2</td>\n",
              "      <td>655.0</td>\n",
              "      <td>2.0</td>\n",
              "      <td>개포2차현대아파트(220)</td>\n",
              "      <td>77.75</td>\n",
              "      <td>202104</td>\n",
              "      <td>15</td>\n",
              "      <td>174,000</td>\n",
              "      <td>9</td>\n",
              "      <td>1988</td>\n",
              "      <td>언주로 103</td>\n",
              "      <td>NaN</td>\n",
              "      <td>-</td>\n",
              "      <td>-</td>\n",
              "    </tr>\n",
              "    <tr>\n",
              "      <th>1</th>\n",
              "      <td>서울특별시 강남구 개포동</td>\n",
              "      <td>658-1</td>\n",
              "      <td>658.0</td>\n",
              "      <td>1.0</td>\n",
              "      <td>개포6차우성아파트1동~8동</td>\n",
              "      <td>79.97</td>\n",
              "      <td>202105</td>\n",
              "      <td>15</td>\n",
              "      <td>195,000</td>\n",
              "      <td>5</td>\n",
              "      <td>1987</td>\n",
              "      <td>언주로 3</td>\n",
              "      <td>NaN</td>\n",
              "      <td>-</td>\n",
              "      <td>-</td>\n",
              "    </tr>\n",
              "    <tr>\n",
              "      <th>2</th>\n",
              "      <td>서울특별시 강남구 개포동</td>\n",
              "      <td>658-1</td>\n",
              "      <td>658.0</td>\n",
              "      <td>1.0</td>\n",
              "      <td>개포6차우성아파트1동~8동</td>\n",
              "      <td>79.97</td>\n",
              "      <td>202108</td>\n",
              "      <td>11</td>\n",
              "      <td>200,000</td>\n",
              "      <td>3</td>\n",
              "      <td>1987</td>\n",
              "      <td>언주로 3</td>\n",
              "      <td>NaN</td>\n",
              "      <td>-</td>\n",
              "      <td>-</td>\n",
              "    </tr>\n",
              "    <tr>\n",
              "      <th>3</th>\n",
              "      <td>서울특별시 강남구 개포동</td>\n",
              "      <td>658-1</td>\n",
              "      <td>658.0</td>\n",
              "      <td>1.0</td>\n",
              "      <td>개포6차우성아파트1동~8동</td>\n",
              "      <td>79.97</td>\n",
              "      <td>202109</td>\n",
              "      <td>2</td>\n",
              "      <td>220,000</td>\n",
              "      <td>2</td>\n",
              "      <td>1987</td>\n",
              "      <td>언주로 3</td>\n",
              "      <td>NaN</td>\n",
              "      <td>-</td>\n",
              "      <td>-</td>\n",
              "    </tr>\n",
              "    <tr>\n",
              "      <th>4</th>\n",
              "      <td>서울특별시 강남구 개포동</td>\n",
              "      <td>1282</td>\n",
              "      <td>1282.0</td>\n",
              "      <td>0.0</td>\n",
              "      <td>개포래미안포레스트</td>\n",
              "      <td>74.66</td>\n",
              "      <td>202101</td>\n",
              "      <td>17</td>\n",
              "      <td>245,000</td>\n",
              "      <td>7</td>\n",
              "      <td>2020</td>\n",
              "      <td>개포로 264</td>\n",
              "      <td>NaN</td>\n",
              "      <td>-</td>\n",
              "      <td>-</td>\n",
              "    </tr>\n",
              "  </tbody>\n",
              "</table>\n",
              "</div>"
            ],
            "text/plain": [
              "             시군구     번지      본번   부번  ...      도로명  해제사유발생일  거래유형  중개사소재지\n",
              "0  서울특별시 강남구 개포동  655-2   655.0  2.0  ...  언주로 103      NaN     -       -\n",
              "1  서울특별시 강남구 개포동  658-1   658.0  1.0  ...    언주로 3      NaN     -       -\n",
              "2  서울특별시 강남구 개포동  658-1   658.0  1.0  ...    언주로 3      NaN     -       -\n",
              "3  서울특별시 강남구 개포동  658-1   658.0  1.0  ...    언주로 3      NaN     -       -\n",
              "4  서울특별시 강남구 개포동   1282  1282.0  0.0  ...  개포로 264      NaN     -       -\n",
              "\n",
              "[5 rows x 15 columns]"
            ]
          },
          "metadata": {},
          "execution_count": 438
        }
      ]
    },
    {
      "cell_type": "markdown",
      "metadata": {
        "id": "og2F3PjvT1L5"
      },
      "source": [
        "## 2) 2011~2020년 데이터와 2021년 데이터 형식 맞추기\n",
        "2011\\~2020년 데이터와 2021년 데이터의 출처가 달라 형식도 다름  \n",
        "이들을 2011~2020년 데이터 형식에 맞춰준다."
      ]
    },
    {
      "cell_type": "markdown",
      "metadata": {
        "id": "I1oXn5ikUwYf"
      },
      "source": [
        "### 2-1) 불필요한 컬럼 및 데이터 제거하기\n",
        "먼저 2011\\~2020년 데이터와 2021년 데이터 각각에서 불필요한 컬럼을 제거한다.\n",
        "\n",
        "또한 아파트가 아닌 데이터를 제거한다."
      ]
    },
    {
      "cell_type": "markdown",
      "metadata": {
        "id": "KSrSo6K9yDGG"
      },
      "source": [
        "#### 2-1-1) 2011~2020 데이터 불필요한 컬럼 및 데이터 제거"
      ]
    },
    {
      "cell_type": "code",
      "metadata": {
        "id": "7j-aCV7Nt6dB"
      },
      "source": [
        "# 2011~2020 데이터 불필요한 컬럼 제거\n",
        "\n",
        "# 대지권면적은 결측치가 대다수이므로 제거\n",
        "# 실제 아파트 거주 면적이 아닌 그 외의 것을 포함한 면적이므로 불필요함\n",
        "# 참고 : https://m.blog.naver.com/PostView.naver?isHttpsRedirect=true&blogId=ctrfindit&logNo=221272287733\n",
        "past = past.drop('대지권면적', axis=1)\n",
        "\n",
        "# 실제로는 건물명이 가격에 영향을 줄 것이라는 심증이 있으나(브랜드 가치 등의 이유),\n",
        "# 현재로서는 처리할 방법을 모르기 때문에 건물명 컬럼은 제거\n",
        "past = past.drop('건물명', axis=1)\n",
        "\n",
        "# 실거래가아이디는 거래 자체의 고유 번호이므로 가격과 관련없다고 판단하여 컬럼 제거\n",
        "past = past.drop('실거래가아이디', axis=1)\n",
        "past = past.drop('실거래가아이디\"', axis=1)\n",
        "\n",
        "# 업무구분 모두 '신고'이고, 업무구분코드도 모두 이에 해당하는 '4'임\n",
        "# 그 이전에 컬럼 자체도 불필요하다고 판단함. 따라서 컬럼 제거\n",
        "past = past.drop(['업무구분', '업무구분코드'], axis=1)\n",
        "\n",
        "# 물건번호는 경매에서 각 물건에 붙는 번호를 의미함\n",
        "# 예를 들어 한 사건에 한 개 물건이면 물건번호는 1임.\n",
        "# 일종의 고유 번호이므로 물건가격과 상관없다고 판단하여 컬럼 제거\n",
        "# 참고 : https://m.blog.naver.com/maestron1/221534254422\n",
        "past = past.drop('물건번호', axis=1)\n",
        "\n",
        "# 관리구분코드는 공공기관 내부적으로 사용하는 것으로 추정\n",
        "# 자세한 내용은 확인할 수 없었음\n",
        "# 명칭으로 보아 물건가격과는 관련이 없다고 보고 컬럼 제거\n",
        "past = past.drop('관리구분코드', axis=1)"
      ],
      "execution_count": 439,
      "outputs": []
    },
    {
      "cell_type": "code",
      "metadata": {
        "id": "RvRv34OGve-r"
      },
      "source": [
        "# 데이터 중 '건물주용도'가 아파트가 아닌 데이터를 제거\n",
        "past = past.loc[past['건물주용도'] == '아파트', :]"
      ],
      "execution_count": 440,
      "outputs": []
    },
    {
      "cell_type": "code",
      "metadata": {
        "colab": {
          "base_uri": "https://localhost:8080/"
        },
        "id": "Gmkxf44evwUO",
        "outputId": "df1cbcb3-513b-46b5-9dca-a21d85b651da"
      },
      "source": [
        "past['건물주용도'].unique()"
      ],
      "execution_count": 441,
      "outputs": [
        {
          "output_type": "execute_result",
          "data": {
            "text/plain": [
              "array(['아파트'], dtype=object)"
            ]
          },
          "metadata": {},
          "execution_count": 441
        }
      ]
    },
    {
      "cell_type": "code",
      "metadata": {
        "id": "RhtL-R_dJX6n"
      },
      "source": [
        "# 건물주용도가 아파트뿐이므로 건물주용도, 건물주용도코드 컬럼 제거\n",
        "past = past.drop(['건물주용도', '건물주용도코드'], axis=1)"
      ],
      "execution_count": 442,
      "outputs": []
    },
    {
      "cell_type": "code",
      "metadata": {
        "colab": {
          "base_uri": "https://localhost:8080/"
        },
        "id": "Z9jcdQngJqTM",
        "outputId": "5a0929ba-7c68-437d-9b21-4922142255aa"
      },
      "source": [
        "past['건축년도'].unique()\n",
        "# 건축년도가 nan 또는 0인 데이터가 있다"
      ],
      "execution_count": 443,
      "outputs": [
        {
          "output_type": "execute_result",
          "data": {
            "text/plain": [
              "array([   0., 1994., 2001., 1971., 1982., 2002., 1998., 2000., 2018.,\n",
              "       1997., 2003., 2017., 1996., 2013., 2016., 2019., 1977., 1989.,\n",
              "       2006., 1999., 1986., 2012., 1990., 2004., 2007., 2005., 1992.,\n",
              "       1983., 2014., 1987., 1995., 2011., 1984., 1991., 2010., 2009.,\n",
              "       2015., 2008., 1978., 1985., 2020., 1972., 1993., 1981., 1976.,\n",
              "       1969., 1988., 1979., 1975., 1974., 1961., 1980., 1973., 1970.,\n",
              "       1966., 1968., 1965., 1967.])"
            ]
          },
          "metadata": {},
          "execution_count": 443
        }
      ]
    },
    {
      "cell_type": "code",
      "metadata": {
        "colab": {
          "base_uri": "https://localhost:8080/"
        },
        "id": "56EyDMz4JtXB",
        "outputId": "1441d0a5-1773-4509-de8d-efa19b7311d6"
      },
      "source": [
        "print(past.shape)\n",
        "len(past[(past['건축년도'] == 0) | (past['건축년도'].isna())])"
      ],
      "execution_count": 444,
      "outputs": [
        {
          "output_type": "stream",
          "name": "stdout",
          "text": [
            "(358741, 10)\n"
          ]
        },
        {
          "output_type": "execute_result",
          "data": {
            "text/plain": [
              "14732"
            ]
          },
          "metadata": {},
          "execution_count": 444
        }
      ]
    },
    {
      "cell_type": "code",
      "metadata": {
        "colab": {
          "base_uri": "https://localhost:8080/"
        },
        "id": "DA6t9n0NJ3g0",
        "outputId": "7d80c983-6e9b-4035-893c-ade64524518b"
      },
      "source": [
        "# 전체 데이터의 약 5% 이므로 제거\n",
        "past = past[(past['건축년도'] != 0) & ~(past['건축년도'].isna())]\n",
        "len(past[(past['건축년도'] == 0) | (past['건축년도'].isna())])"
      ],
      "execution_count": 445,
      "outputs": [
        {
          "output_type": "execute_result",
          "data": {
            "text/plain": [
              "0"
            ]
          },
          "metadata": {},
          "execution_count": 445
        }
      ]
    },
    {
      "cell_type": "code",
      "metadata": {
        "colab": {
          "base_uri": "https://localhost:8080/",
          "height": 314
        },
        "id": "ZtfNRwuhvWRV",
        "outputId": "7bd6b6d2-aa5c-44a3-ccc1-d9008835e5bf"
      },
      "source": [
        "print(past.shape)\n",
        "display(pd.DataFrame([past.dtypes, past.isna().sum()], index=['dtypes', 'isna']))\n",
        "past.head()"
      ],
      "execution_count": 446,
      "outputs": [
        {
          "output_type": "stream",
          "name": "stdout",
          "text": [
            "(344009, 10)\n"
          ]
        },
        {
          "output_type": "display_data",
          "data": {
            "text/html": [
              "<div>\n",
              "<style scoped>\n",
              "    .dataframe tbody tr th:only-of-type {\n",
              "        vertical-align: middle;\n",
              "    }\n",
              "\n",
              "    .dataframe tbody tr th {\n",
              "        vertical-align: top;\n",
              "    }\n",
              "\n",
              "    .dataframe thead th {\n",
              "        text-align: right;\n",
              "    }\n",
              "</style>\n",
              "<table border=\"1\" class=\"dataframe\">\n",
              "  <thead>\n",
              "    <tr style=\"text-align: right;\">\n",
              "      <th></th>\n",
              "      <th>지번코드</th>\n",
              "      <th>시군구코드</th>\n",
              "      <th>자치구명</th>\n",
              "      <th>법정동코드</th>\n",
              "      <th>법정동명</th>\n",
              "      <th>신고년도</th>\n",
              "      <th>건물면적</th>\n",
              "      <th>층정보</th>\n",
              "      <th>물건금액</th>\n",
              "      <th>건축년도</th>\n",
              "    </tr>\n",
              "  </thead>\n",
              "  <tbody>\n",
              "    <tr>\n",
              "      <th>dtypes</th>\n",
              "      <td>object</td>\n",
              "      <td>int64</td>\n",
              "      <td>object</td>\n",
              "      <td>int64</td>\n",
              "      <td>object</td>\n",
              "      <td>int64</td>\n",
              "      <td>float64</td>\n",
              "      <td>float64</td>\n",
              "      <td>int64</td>\n",
              "      <td>float64</td>\n",
              "    </tr>\n",
              "    <tr>\n",
              "      <th>isna</th>\n",
              "      <td>0</td>\n",
              "      <td>0</td>\n",
              "      <td>0</td>\n",
              "      <td>0</td>\n",
              "      <td>0</td>\n",
              "      <td>0</td>\n",
              "      <td>0</td>\n",
              "      <td>0</td>\n",
              "      <td>0</td>\n",
              "      <td>0</td>\n",
              "    </tr>\n",
              "  </tbody>\n",
              "</table>\n",
              "</div>"
            ],
            "text/plain": [
              "          지번코드  시군구코드    자치구명  법정동코드  ...     건물면적      층정보   물건금액     건축년도\n",
              "dtypes  object  int64  object  int64  ...  float64  float64  int64  float64\n",
              "isna         0      0       0      0  ...        0        0      0        0\n",
              "\n",
              "[2 rows x 10 columns]"
            ]
          },
          "metadata": {}
        },
        {
          "output_type": "execute_result",
          "data": {
            "text/html": [
              "<div>\n",
              "<style scoped>\n",
              "    .dataframe tbody tr th:only-of-type {\n",
              "        vertical-align: middle;\n",
              "    }\n",
              "\n",
              "    .dataframe tbody tr th {\n",
              "        vertical-align: top;\n",
              "    }\n",
              "\n",
              "    .dataframe thead th {\n",
              "        text-align: right;\n",
              "    }\n",
              "</style>\n",
              "<table border=\"1\" class=\"dataframe\">\n",
              "  <thead>\n",
              "    <tr style=\"text-align: right;\">\n",
              "      <th></th>\n",
              "      <th>지번코드</th>\n",
              "      <th>시군구코드</th>\n",
              "      <th>자치구명</th>\n",
              "      <th>법정동코드</th>\n",
              "      <th>법정동명</th>\n",
              "      <th>신고년도</th>\n",
              "      <th>건물면적</th>\n",
              "      <th>층정보</th>\n",
              "      <th>물건금액</th>\n",
              "      <th>건축년도</th>\n",
              "    </tr>\n",
              "  </thead>\n",
              "  <tbody>\n",
              "    <tr>\n",
              "      <th>2</th>\n",
              "      <td>1153010200107400029</td>\n",
              "      <td>11530</td>\n",
              "      <td>구로구</td>\n",
              "      <td>1153010200</td>\n",
              "      <td>구로동</td>\n",
              "      <td>2020</td>\n",
              "      <td>36.90</td>\n",
              "      <td>1.0</td>\n",
              "      <td>105000000</td>\n",
              "      <td>1994.0</td>\n",
              "    </tr>\n",
              "    <tr>\n",
              "      <th>3</th>\n",
              "      <td>1117011500101930000</td>\n",
              "      <td>11170</td>\n",
              "      <td>용산구</td>\n",
              "      <td>1117011500</td>\n",
              "      <td>산천동</td>\n",
              "      <td>2020</td>\n",
              "      <td>59.55</td>\n",
              "      <td>2.0</td>\n",
              "      <td>830000000</td>\n",
              "      <td>2001.0</td>\n",
              "    </tr>\n",
              "    <tr>\n",
              "      <th>4</th>\n",
              "      <td>1117012900101930003</td>\n",
              "      <td>11170</td>\n",
              "      <td>용산구</td>\n",
              "      <td>1117012900</td>\n",
              "      <td>이촌동</td>\n",
              "      <td>2020</td>\n",
              "      <td>64.43</td>\n",
              "      <td>5.0</td>\n",
              "      <td>735000000</td>\n",
              "      <td>1971.0</td>\n",
              "    </tr>\n",
              "    <tr>\n",
              "      <th>5</th>\n",
              "      <td>1117013000100220002</td>\n",
              "      <td>11170</td>\n",
              "      <td>용산구</td>\n",
              "      <td>1117013000</td>\n",
              "      <td>이태원동</td>\n",
              "      <td>2020</td>\n",
              "      <td>105.75</td>\n",
              "      <td>9.0</td>\n",
              "      <td>1430000000</td>\n",
              "      <td>1982.0</td>\n",
              "    </tr>\n",
              "    <tr>\n",
              "      <th>7</th>\n",
              "      <td>1117010100102440088</td>\n",
              "      <td>11170</td>\n",
              "      <td>용산구</td>\n",
              "      <td>1117010100</td>\n",
              "      <td>후암동</td>\n",
              "      <td>2020</td>\n",
              "      <td>150.08</td>\n",
              "      <td>4.0</td>\n",
              "      <td>875000000</td>\n",
              "      <td>2002.0</td>\n",
              "    </tr>\n",
              "  </tbody>\n",
              "</table>\n",
              "</div>"
            ],
            "text/plain": [
              "                  지번코드  시군구코드 자치구명       법정동코드  ...    건물면적  층정보        물건금액    건축년도\n",
              "2  1153010200107400029  11530  구로구  1153010200  ...   36.90  1.0   105000000  1994.0\n",
              "3  1117011500101930000  11170  용산구  1117011500  ...   59.55  2.0   830000000  2001.0\n",
              "4  1117012900101930003  11170  용산구  1117012900  ...   64.43  5.0   735000000  1971.0\n",
              "5  1117013000100220002  11170  용산구  1117013000  ...  105.75  9.0  1430000000  1982.0\n",
              "7  1117010100102440088  11170  용산구  1117010100  ...  150.08  4.0   875000000  2002.0\n",
              "\n",
              "[5 rows x 10 columns]"
            ]
          },
          "metadata": {},
          "execution_count": 446
        }
      ]
    },
    {
      "cell_type": "markdown",
      "metadata": {
        "id": "qdAe7M5_yQKt"
      },
      "source": [
        "#### 2-1-2) 2021 데이터 불필요한 컬럼 및 데이터 제거"
      ]
    },
    {
      "cell_type": "code",
      "metadata": {
        "id": "Y9M2lmzhyicw"
      },
      "source": [
        "# 실제로는 단지명이 가격에 영향을 줄 것이라는 심증이 있으나(브랜드 가치 등의 이유),\n",
        "# 현재로서는 처리할 방법을 모르기 때문에 단지명 컬럼은 제거\n",
        "data2021 = data2021.drop('단지명', axis=1)\n",
        "\n",
        "# 계약년월과 계약일은 past 데이터프레임에 있는 '신고년도' 컬럼과 동일한 형식으로 대체\n",
        "# 계약일 컬럼 제거 및 계약년월 컬럼명 변경, 그리고 계약년월 컬럼의 데이터 값 전체 2021로 대체\n",
        "# 그 외 past 데이터프레임과 불일치하는 컬럼명을 일치시키기\n",
        "data2021 = data2021.drop('계약일', axis=1)\n",
        "data2021['계약년월'] = 2021\n",
        "data2021.rename(columns={'계약년월':'신고년도', '전용면적(㎡)':'건물면적', '층':'층정보', '거래금액(만원)':'물건금액'}, inplace=True)\n",
        "\n",
        "# past 데이터의 형식처럼 지번 주소를 기준으로 할 것이기 때문에 '도로명' 컬럼은 제거\n",
        "data2021 = data2021.drop('도로명', axis=1)\n",
        "\n",
        "# 해제사유발생일, 거래유형, 중개사소재지는 부동산 가격과 관련 없는 것으로 판단하여 제거\n",
        "data2021 = data2021.drop(['해제사유발생일', '거래유형', '중개사소재지'], axis=1)"
      ],
      "execution_count": 447,
      "outputs": []
    },
    {
      "cell_type": "code",
      "metadata": {
        "colab": {
          "base_uri": "https://localhost:8080/",
          "height": 314
        },
        "id": "AeLVz1Fiztgm",
        "outputId": "776a7064-e0b4-4344-e354-e1347d300234"
      },
      "source": [
        "print(data2021.shape)\n",
        "display(pd.DataFrame([data2021.dtypes, data2021.isna().sum()], index=['dtypes', 'isna']))\n",
        "data2021.head()"
      ],
      "execution_count": 448,
      "outputs": [
        {
          "output_type": "stream",
          "name": "stdout",
          "text": [
            "(40122, 9)\n"
          ]
        },
        {
          "output_type": "display_data",
          "data": {
            "text/html": [
              "<div>\n",
              "<style scoped>\n",
              "    .dataframe tbody tr th:only-of-type {\n",
              "        vertical-align: middle;\n",
              "    }\n",
              "\n",
              "    .dataframe tbody tr th {\n",
              "        vertical-align: top;\n",
              "    }\n",
              "\n",
              "    .dataframe thead th {\n",
              "        text-align: right;\n",
              "    }\n",
              "</style>\n",
              "<table border=\"1\" class=\"dataframe\">\n",
              "  <thead>\n",
              "    <tr style=\"text-align: right;\">\n",
              "      <th></th>\n",
              "      <th>시군구</th>\n",
              "      <th>번지</th>\n",
              "      <th>본번</th>\n",
              "      <th>부번</th>\n",
              "      <th>건물면적</th>\n",
              "      <th>신고년도</th>\n",
              "      <th>물건금액</th>\n",
              "      <th>층정보</th>\n",
              "      <th>건축년도</th>\n",
              "    </tr>\n",
              "  </thead>\n",
              "  <tbody>\n",
              "    <tr>\n",
              "      <th>dtypes</th>\n",
              "      <td>object</td>\n",
              "      <td>object</td>\n",
              "      <td>float64</td>\n",
              "      <td>float64</td>\n",
              "      <td>float64</td>\n",
              "      <td>int64</td>\n",
              "      <td>object</td>\n",
              "      <td>int64</td>\n",
              "      <td>int64</td>\n",
              "    </tr>\n",
              "    <tr>\n",
              "      <th>isna</th>\n",
              "      <td>0</td>\n",
              "      <td>12</td>\n",
              "      <td>5</td>\n",
              "      <td>5</td>\n",
              "      <td>0</td>\n",
              "      <td>0</td>\n",
              "      <td>0</td>\n",
              "      <td>0</td>\n",
              "      <td>0</td>\n",
              "    </tr>\n",
              "  </tbody>\n",
              "</table>\n",
              "</div>"
            ],
            "text/plain": [
              "           시군구      번지       본번       부번     건물면적   신고년도    물건금액    층정보   건축년도\n",
              "dtypes  object  object  float64  float64  float64  int64  object  int64  int64\n",
              "isna         0      12        5        5        0      0       0      0      0"
            ]
          },
          "metadata": {}
        },
        {
          "output_type": "execute_result",
          "data": {
            "text/html": [
              "<div>\n",
              "<style scoped>\n",
              "    .dataframe tbody tr th:only-of-type {\n",
              "        vertical-align: middle;\n",
              "    }\n",
              "\n",
              "    .dataframe tbody tr th {\n",
              "        vertical-align: top;\n",
              "    }\n",
              "\n",
              "    .dataframe thead th {\n",
              "        text-align: right;\n",
              "    }\n",
              "</style>\n",
              "<table border=\"1\" class=\"dataframe\">\n",
              "  <thead>\n",
              "    <tr style=\"text-align: right;\">\n",
              "      <th></th>\n",
              "      <th>시군구</th>\n",
              "      <th>번지</th>\n",
              "      <th>본번</th>\n",
              "      <th>부번</th>\n",
              "      <th>건물면적</th>\n",
              "      <th>신고년도</th>\n",
              "      <th>물건금액</th>\n",
              "      <th>층정보</th>\n",
              "      <th>건축년도</th>\n",
              "    </tr>\n",
              "  </thead>\n",
              "  <tbody>\n",
              "    <tr>\n",
              "      <th>0</th>\n",
              "      <td>서울특별시 강남구 개포동</td>\n",
              "      <td>655-2</td>\n",
              "      <td>655.0</td>\n",
              "      <td>2.0</td>\n",
              "      <td>77.75</td>\n",
              "      <td>2021</td>\n",
              "      <td>174,000</td>\n",
              "      <td>9</td>\n",
              "      <td>1988</td>\n",
              "    </tr>\n",
              "    <tr>\n",
              "      <th>1</th>\n",
              "      <td>서울특별시 강남구 개포동</td>\n",
              "      <td>658-1</td>\n",
              "      <td>658.0</td>\n",
              "      <td>1.0</td>\n",
              "      <td>79.97</td>\n",
              "      <td>2021</td>\n",
              "      <td>195,000</td>\n",
              "      <td>5</td>\n",
              "      <td>1987</td>\n",
              "    </tr>\n",
              "    <tr>\n",
              "      <th>2</th>\n",
              "      <td>서울특별시 강남구 개포동</td>\n",
              "      <td>658-1</td>\n",
              "      <td>658.0</td>\n",
              "      <td>1.0</td>\n",
              "      <td>79.97</td>\n",
              "      <td>2021</td>\n",
              "      <td>200,000</td>\n",
              "      <td>3</td>\n",
              "      <td>1987</td>\n",
              "    </tr>\n",
              "    <tr>\n",
              "      <th>3</th>\n",
              "      <td>서울특별시 강남구 개포동</td>\n",
              "      <td>658-1</td>\n",
              "      <td>658.0</td>\n",
              "      <td>1.0</td>\n",
              "      <td>79.97</td>\n",
              "      <td>2021</td>\n",
              "      <td>220,000</td>\n",
              "      <td>2</td>\n",
              "      <td>1987</td>\n",
              "    </tr>\n",
              "    <tr>\n",
              "      <th>4</th>\n",
              "      <td>서울특별시 강남구 개포동</td>\n",
              "      <td>1282</td>\n",
              "      <td>1282.0</td>\n",
              "      <td>0.0</td>\n",
              "      <td>74.66</td>\n",
              "      <td>2021</td>\n",
              "      <td>245,000</td>\n",
              "      <td>7</td>\n",
              "      <td>2020</td>\n",
              "    </tr>\n",
              "  </tbody>\n",
              "</table>\n",
              "</div>"
            ],
            "text/plain": [
              "             시군구     번지      본번   부번   건물면적  신고년도     물건금액  층정보  건축년도\n",
              "0  서울특별시 강남구 개포동  655-2   655.0  2.0  77.75  2021  174,000    9  1988\n",
              "1  서울특별시 강남구 개포동  658-1   658.0  1.0  79.97  2021  195,000    5  1987\n",
              "2  서울특별시 강남구 개포동  658-1   658.0  1.0  79.97  2021  200,000    3  1987\n",
              "3  서울특별시 강남구 개포동  658-1   658.0  1.0  79.97  2021  220,000    2  1987\n",
              "4  서울특별시 강남구 개포동   1282  1282.0  0.0  74.66  2021  245,000    7  2020"
            ]
          },
          "metadata": {},
          "execution_count": 448
        }
      ]
    },
    {
      "cell_type": "markdown",
      "metadata": {
        "id": "e7d2dx5T09qO"
      },
      "source": [
        "### 2-2) 컬럼명 및 데이터 형식 맞추기\n",
        "\n",
        "같은 내용이지만 컬럼명이 다른 경우,  \n",
        "있어야 할 컬럼이 없는 경우,  \n",
        "데이터의 의미는 같지만 표시 방식이 다른 경우 등  \n",
        "불일치하는 형식을 일치시킨다.\n",
        "\n",
        "기준은 past 데이터프레임이므로, 2021년 데이터를 이에 맞게끔 가공한다."
      ]
    },
    {
      "cell_type": "code",
      "metadata": {
        "id": "xENNY0b41ap9"
      },
      "source": [
        "# 결측치가 소수이므로 제거\n",
        "data2021 = data2021.dropna(axis=0)"
      ],
      "execution_count": 449,
      "outputs": []
    },
    {
      "cell_type": "code",
      "metadata": {
        "colab": {
          "base_uri": "https://localhost:8080/",
          "height": 314
        },
        "id": "ugWf5qKv120P",
        "outputId": "9b9fdcb9-1b5d-4cca-c650-fe6c1f3625d7"
      },
      "source": [
        "print(data2021.shape)\n",
        "display(pd.DataFrame([data2021.dtypes, data2021.isna().sum()], index=['dtypes', 'isna']))\n",
        "data2021.head()"
      ],
      "execution_count": 450,
      "outputs": [
        {
          "output_type": "stream",
          "name": "stdout",
          "text": [
            "(40110, 9)\n"
          ]
        },
        {
          "output_type": "display_data",
          "data": {
            "text/html": [
              "<div>\n",
              "<style scoped>\n",
              "    .dataframe tbody tr th:only-of-type {\n",
              "        vertical-align: middle;\n",
              "    }\n",
              "\n",
              "    .dataframe tbody tr th {\n",
              "        vertical-align: top;\n",
              "    }\n",
              "\n",
              "    .dataframe thead th {\n",
              "        text-align: right;\n",
              "    }\n",
              "</style>\n",
              "<table border=\"1\" class=\"dataframe\">\n",
              "  <thead>\n",
              "    <tr style=\"text-align: right;\">\n",
              "      <th></th>\n",
              "      <th>시군구</th>\n",
              "      <th>번지</th>\n",
              "      <th>본번</th>\n",
              "      <th>부번</th>\n",
              "      <th>건물면적</th>\n",
              "      <th>신고년도</th>\n",
              "      <th>물건금액</th>\n",
              "      <th>층정보</th>\n",
              "      <th>건축년도</th>\n",
              "    </tr>\n",
              "  </thead>\n",
              "  <tbody>\n",
              "    <tr>\n",
              "      <th>dtypes</th>\n",
              "      <td>object</td>\n",
              "      <td>object</td>\n",
              "      <td>float64</td>\n",
              "      <td>float64</td>\n",
              "      <td>float64</td>\n",
              "      <td>int64</td>\n",
              "      <td>object</td>\n",
              "      <td>int64</td>\n",
              "      <td>int64</td>\n",
              "    </tr>\n",
              "    <tr>\n",
              "      <th>isna</th>\n",
              "      <td>0</td>\n",
              "      <td>0</td>\n",
              "      <td>0</td>\n",
              "      <td>0</td>\n",
              "      <td>0</td>\n",
              "      <td>0</td>\n",
              "      <td>0</td>\n",
              "      <td>0</td>\n",
              "      <td>0</td>\n",
              "    </tr>\n",
              "  </tbody>\n",
              "</table>\n",
              "</div>"
            ],
            "text/plain": [
              "           시군구      번지       본번       부번     건물면적   신고년도    물건금액    층정보   건축년도\n",
              "dtypes  object  object  float64  float64  float64  int64  object  int64  int64\n",
              "isna         0       0        0        0        0      0       0      0      0"
            ]
          },
          "metadata": {}
        },
        {
          "output_type": "execute_result",
          "data": {
            "text/html": [
              "<div>\n",
              "<style scoped>\n",
              "    .dataframe tbody tr th:only-of-type {\n",
              "        vertical-align: middle;\n",
              "    }\n",
              "\n",
              "    .dataframe tbody tr th {\n",
              "        vertical-align: top;\n",
              "    }\n",
              "\n",
              "    .dataframe thead th {\n",
              "        text-align: right;\n",
              "    }\n",
              "</style>\n",
              "<table border=\"1\" class=\"dataframe\">\n",
              "  <thead>\n",
              "    <tr style=\"text-align: right;\">\n",
              "      <th></th>\n",
              "      <th>시군구</th>\n",
              "      <th>번지</th>\n",
              "      <th>본번</th>\n",
              "      <th>부번</th>\n",
              "      <th>건물면적</th>\n",
              "      <th>신고년도</th>\n",
              "      <th>물건금액</th>\n",
              "      <th>층정보</th>\n",
              "      <th>건축년도</th>\n",
              "    </tr>\n",
              "  </thead>\n",
              "  <tbody>\n",
              "    <tr>\n",
              "      <th>0</th>\n",
              "      <td>서울특별시 강남구 개포동</td>\n",
              "      <td>655-2</td>\n",
              "      <td>655.0</td>\n",
              "      <td>2.0</td>\n",
              "      <td>77.75</td>\n",
              "      <td>2021</td>\n",
              "      <td>174,000</td>\n",
              "      <td>9</td>\n",
              "      <td>1988</td>\n",
              "    </tr>\n",
              "    <tr>\n",
              "      <th>1</th>\n",
              "      <td>서울특별시 강남구 개포동</td>\n",
              "      <td>658-1</td>\n",
              "      <td>658.0</td>\n",
              "      <td>1.0</td>\n",
              "      <td>79.97</td>\n",
              "      <td>2021</td>\n",
              "      <td>195,000</td>\n",
              "      <td>5</td>\n",
              "      <td>1987</td>\n",
              "    </tr>\n",
              "    <tr>\n",
              "      <th>2</th>\n",
              "      <td>서울특별시 강남구 개포동</td>\n",
              "      <td>658-1</td>\n",
              "      <td>658.0</td>\n",
              "      <td>1.0</td>\n",
              "      <td>79.97</td>\n",
              "      <td>2021</td>\n",
              "      <td>200,000</td>\n",
              "      <td>3</td>\n",
              "      <td>1987</td>\n",
              "    </tr>\n",
              "    <tr>\n",
              "      <th>3</th>\n",
              "      <td>서울특별시 강남구 개포동</td>\n",
              "      <td>658-1</td>\n",
              "      <td>658.0</td>\n",
              "      <td>1.0</td>\n",
              "      <td>79.97</td>\n",
              "      <td>2021</td>\n",
              "      <td>220,000</td>\n",
              "      <td>2</td>\n",
              "      <td>1987</td>\n",
              "    </tr>\n",
              "    <tr>\n",
              "      <th>4</th>\n",
              "      <td>서울특별시 강남구 개포동</td>\n",
              "      <td>1282</td>\n",
              "      <td>1282.0</td>\n",
              "      <td>0.0</td>\n",
              "      <td>74.66</td>\n",
              "      <td>2021</td>\n",
              "      <td>245,000</td>\n",
              "      <td>7</td>\n",
              "      <td>2020</td>\n",
              "    </tr>\n",
              "  </tbody>\n",
              "</table>\n",
              "</div>"
            ],
            "text/plain": [
              "             시군구     번지      본번   부번   건물면적  신고년도     물건금액  층정보  건축년도\n",
              "0  서울특별시 강남구 개포동  655-2   655.0  2.0  77.75  2021  174,000    9  1988\n",
              "1  서울특별시 강남구 개포동  658-1   658.0  1.0  79.97  2021  195,000    5  1987\n",
              "2  서울특별시 강남구 개포동  658-1   658.0  1.0  79.97  2021  200,000    3  1987\n",
              "3  서울특별시 강남구 개포동  658-1   658.0  1.0  79.97  2021  220,000    2  1987\n",
              "4  서울특별시 강남구 개포동   1282  1282.0  0.0  74.66  2021  245,000    7  2020"
            ]
          },
          "metadata": {},
          "execution_count": 450
        }
      ]
    },
    {
      "cell_type": "code",
      "metadata": {
        "colab": {
          "base_uri": "https://localhost:8080/",
          "height": 203
        },
        "id": "3w--1VSh2Afi",
        "outputId": "6fa40637-3b94-468d-c47c-20087c6682fe"
      },
      "source": [
        "# 지번코드를 만들기 위해서 법정동코드 데이터와 함께 '시군구', '본번', '부번' 컬럼 사용\n",
        "addr_code.head()"
      ],
      "execution_count": 451,
      "outputs": [
        {
          "output_type": "execute_result",
          "data": {
            "text/html": [
              "<div>\n",
              "<style scoped>\n",
              "    .dataframe tbody tr th:only-of-type {\n",
              "        vertical-align: middle;\n",
              "    }\n",
              "\n",
              "    .dataframe tbody tr th {\n",
              "        vertical-align: top;\n",
              "    }\n",
              "\n",
              "    .dataframe thead th {\n",
              "        text-align: right;\n",
              "    }\n",
              "</style>\n",
              "<table border=\"1\" class=\"dataframe\">\n",
              "  <thead>\n",
              "    <tr style=\"text-align: right;\">\n",
              "      <th></th>\n",
              "      <th>법정동코드</th>\n",
              "      <th>법정동명</th>\n",
              "    </tr>\n",
              "  </thead>\n",
              "  <tbody>\n",
              "    <tr>\n",
              "      <th>0</th>\n",
              "      <td>1111000000</td>\n",
              "      <td>종로구</td>\n",
              "    </tr>\n",
              "    <tr>\n",
              "      <th>1</th>\n",
              "      <td>1111010100</td>\n",
              "      <td>종로구 청운동</td>\n",
              "    </tr>\n",
              "    <tr>\n",
              "      <th>2</th>\n",
              "      <td>1111010200</td>\n",
              "      <td>종로구 신교동</td>\n",
              "    </tr>\n",
              "    <tr>\n",
              "      <th>3</th>\n",
              "      <td>1111010300</td>\n",
              "      <td>종로구 궁정동</td>\n",
              "    </tr>\n",
              "    <tr>\n",
              "      <th>4</th>\n",
              "      <td>1111010400</td>\n",
              "      <td>종로구 효자동</td>\n",
              "    </tr>\n",
              "  </tbody>\n",
              "</table>\n",
              "</div>"
            ],
            "text/plain": [
              "        법정동코드     법정동명\n",
              "0  1111000000      종로구\n",
              "1  1111010100  종로구 청운동\n",
              "2  1111010200  종로구 신교동\n",
              "3  1111010300  종로구 궁정동\n",
              "4  1111010400  종로구 효자동"
            ]
          },
          "metadata": {},
          "execution_count": 451
        }
      ]
    },
    {
      "cell_type": "code",
      "metadata": {
        "id": "tHd16ck45wPy"
      },
      "source": [
        "data2021['자치구명'] = data2021['시군구'].str.split(' ').str[1]\n",
        "data2021['법정동명'] = data2021['시군구'].str.split(' ').str[2]\n",
        "data2021['자치구법정동'] = data2021['자치구명'] + ' ' + data2021['법정동명']"
      ],
      "execution_count": 452,
      "outputs": []
    },
    {
      "cell_type": "code",
      "metadata": {
        "id": "4tjyw-ek8VVr"
      },
      "source": [
        "# 계산 속도 향상을 위해 법정동명:법정동코드 쌍으로 dict를 만듦\n",
        "addr_map = dict([(addr_str,code) for code, addr_str in zip(addr_code['법정동코드'], addr_code['법정동명'])])\n",
        "\n",
        "def findAddrCode(input):\n",
        "  return addr_map[input]"
      ],
      "execution_count": 453,
      "outputs": []
    },
    {
      "cell_type": "code",
      "metadata": {
        "id": "OguMumbi6aKv"
      },
      "source": [
        "# 자치구와 법정동 이름을 통해 법정동코드 가져오기\n",
        "# 문자열로 형변환(지번코드 만들기 위한 목적)\n",
        "data2021['법정동코드'] = data2021['자치구법정동'].apply(findAddrCode).astype(str)"
      ],
      "execution_count": 454,
      "outputs": []
    },
    {
      "cell_type": "code",
      "metadata": {
        "id": "7ZZiM-bKFWe8"
      },
      "source": [
        "# 지번코드 컬럼을 만들기 위해 필지구분(1)+본번(4)+부번(4)을 법정동코드 뒤에 이어붙여야 함\n",
        "# 먼저 '본번'과 '부번' 컬럼을 정수형으로 변환하여 소수점 제거 후 문자열로 형변환(지번코드 만들기 위한 목적)\n",
        "data2021[['본번', '부번']] = data2021[['본번', '부번']].astype(int).astype(str)"
      ],
      "execution_count": 455,
      "outputs": []
    },
    {
      "cell_type": "code",
      "metadata": {
        "id": "hWLxaUExGHBK"
      },
      "source": [
        "# '필지구분' 컬럼을 만들기 위해 '번지' 컬럼에 \"산\"이 포함된 데이터 찾아내기\n",
        "# \"산\"이 있는 경우 2, 없으면 1\n",
        "# 문자열로 형변환(지번코드 만들기 위한 목적)\n",
        "data2021['필지구분'] = data2021['번지'].apply(lambda x: 2 if '산' in x else 1).astype(str)"
      ],
      "execution_count": 456,
      "outputs": []
    },
    {
      "cell_type": "code",
      "metadata": {
        "id": "Me9yNQs3HEIs"
      },
      "source": [
        "# 본번과 부번 각각 4자리를 기준으로, 뒤에서부터 숫자 채운 후 모자라는 자리는 0으로 대체\n",
        "data2021['본번'] = data2021['본번'].apply(lambda x: x.zfill(4))\n",
        "data2021['부번'] = data2021['부번'].apply(lambda x: x.zfill(4))"
      ],
      "execution_count": 457,
      "outputs": []
    },
    {
      "cell_type": "code",
      "metadata": {
        "id": "nWpUfd-sIZ1M"
      },
      "source": [
        "# 지번코드 컬럼 만들기(법정동코드(10) + 필지구분(1) + 본번(4) + 부번(4) = 19자리)\n",
        "data2021['지번코드'] = data2021['법정동코드'] + data2021['필지구분'] + data2021['본번'] + data2021['부번']"
      ],
      "execution_count": 458,
      "outputs": []
    },
    {
      "cell_type": "code",
      "metadata": {
        "id": "lhCGrO8wL-kP"
      },
      "source": [
        "# 시군구코드 만들기\n",
        "data2021['시군구코드'] = data2021['법정동코드'].str.slice(stop=5)"
      ],
      "execution_count": 459,
      "outputs": []
    },
    {
      "cell_type": "code",
      "metadata": {
        "id": "6A7ZL1kTKI3D"
      },
      "source": [
        "# 거래금액 형식 맞추기\n",
        "def moneyFormMatch(input):\n",
        "  return int(input.replace(',', ''))*10000\n",
        "\n",
        "data2021['물건금액'] = data2021['물건금액'].apply(moneyFormMatch)"
      ],
      "execution_count": 460,
      "outputs": []
    },
    {
      "cell_type": "code",
      "metadata": {
        "id": "SU3KE6rIJHn-"
      },
      "source": [
        "# past 데이터와의 형식을 맞추기 위해서 불필요한 컬럼 제거하기\n",
        "data2021 = data2021.drop(['시군구', '번지', '본번', '부번', '자치구법정동', '필지구분'], axis=1)"
      ],
      "execution_count": 461,
      "outputs": []
    },
    {
      "cell_type": "code",
      "metadata": {
        "id": "MBuvZH1DLv-G"
      },
      "source": [
        "# 컬럼 순서 맞추기\n",
        "data2021 = data2021[['지번코드', '시군구코드', '자치구명', '법정동코드', '법정동명', '신고년도', '건물면적', '층정보', '물건금액', '건축년도']]"
      ],
      "execution_count": 462,
      "outputs": []
    },
    {
      "cell_type": "code",
      "metadata": {
        "colab": {
          "base_uri": "https://localhost:8080/",
          "height": 110
        },
        "id": "-SLWX9OOLtaj",
        "outputId": "95af9e51-8ff4-4824-af3d-cbc2921b646a"
      },
      "source": [
        "display(pd.DataFrame([past.columns, data2021.columns], index=['past', '2021']))"
      ],
      "execution_count": 463,
      "outputs": [
        {
          "output_type": "display_data",
          "data": {
            "text/html": [
              "<div>\n",
              "<style scoped>\n",
              "    .dataframe tbody tr th:only-of-type {\n",
              "        vertical-align: middle;\n",
              "    }\n",
              "\n",
              "    .dataframe tbody tr th {\n",
              "        vertical-align: top;\n",
              "    }\n",
              "\n",
              "    .dataframe thead th {\n",
              "        text-align: right;\n",
              "    }\n",
              "</style>\n",
              "<table border=\"1\" class=\"dataframe\">\n",
              "  <thead>\n",
              "    <tr style=\"text-align: right;\">\n",
              "      <th></th>\n",
              "      <th>0</th>\n",
              "      <th>1</th>\n",
              "      <th>2</th>\n",
              "      <th>3</th>\n",
              "      <th>4</th>\n",
              "      <th>5</th>\n",
              "      <th>6</th>\n",
              "      <th>7</th>\n",
              "      <th>8</th>\n",
              "      <th>9</th>\n",
              "    </tr>\n",
              "  </thead>\n",
              "  <tbody>\n",
              "    <tr>\n",
              "      <th>past</th>\n",
              "      <td>지번코드</td>\n",
              "      <td>시군구코드</td>\n",
              "      <td>자치구명</td>\n",
              "      <td>법정동코드</td>\n",
              "      <td>법정동명</td>\n",
              "      <td>신고년도</td>\n",
              "      <td>건물면적</td>\n",
              "      <td>층정보</td>\n",
              "      <td>물건금액</td>\n",
              "      <td>건축년도</td>\n",
              "    </tr>\n",
              "    <tr>\n",
              "      <th>2021</th>\n",
              "      <td>지번코드</td>\n",
              "      <td>시군구코드</td>\n",
              "      <td>자치구명</td>\n",
              "      <td>법정동코드</td>\n",
              "      <td>법정동명</td>\n",
              "      <td>신고년도</td>\n",
              "      <td>건물면적</td>\n",
              "      <td>층정보</td>\n",
              "      <td>물건금액</td>\n",
              "      <td>건축년도</td>\n",
              "    </tr>\n",
              "  </tbody>\n",
              "</table>\n",
              "</div>"
            ],
            "text/plain": [
              "         0      1     2      3     4     5     6    7     8     9\n",
              "past  지번코드  시군구코드  자치구명  법정동코드  법정동명  신고년도  건물면적  층정보  물건금액  건축년도\n",
              "2021  지번코드  시군구코드  자치구명  법정동코드  법정동명  신고년도  건물면적  층정보  물건금액  건축년도"
            ]
          },
          "metadata": {}
        }
      ]
    },
    {
      "cell_type": "code",
      "metadata": {
        "colab": {
          "base_uri": "https://localhost:8080/",
          "height": 110
        },
        "id": "tlg66l3B6Rsz",
        "outputId": "c99a017f-a349-492b-f618-17498dd79085"
      },
      "source": [
        "display(pd.DataFrame([past.dtypes, data2021.dtypes], index=['past', '2021']))"
      ],
      "execution_count": 464,
      "outputs": [
        {
          "output_type": "display_data",
          "data": {
            "text/html": [
              "<div>\n",
              "<style scoped>\n",
              "    .dataframe tbody tr th:only-of-type {\n",
              "        vertical-align: middle;\n",
              "    }\n",
              "\n",
              "    .dataframe tbody tr th {\n",
              "        vertical-align: top;\n",
              "    }\n",
              "\n",
              "    .dataframe thead th {\n",
              "        text-align: right;\n",
              "    }\n",
              "</style>\n",
              "<table border=\"1\" class=\"dataframe\">\n",
              "  <thead>\n",
              "    <tr style=\"text-align: right;\">\n",
              "      <th></th>\n",
              "      <th>지번코드</th>\n",
              "      <th>시군구코드</th>\n",
              "      <th>자치구명</th>\n",
              "      <th>법정동코드</th>\n",
              "      <th>법정동명</th>\n",
              "      <th>신고년도</th>\n",
              "      <th>건물면적</th>\n",
              "      <th>층정보</th>\n",
              "      <th>물건금액</th>\n",
              "      <th>건축년도</th>\n",
              "    </tr>\n",
              "  </thead>\n",
              "  <tbody>\n",
              "    <tr>\n",
              "      <th>past</th>\n",
              "      <td>object</td>\n",
              "      <td>int64</td>\n",
              "      <td>object</td>\n",
              "      <td>int64</td>\n",
              "      <td>object</td>\n",
              "      <td>int64</td>\n",
              "      <td>float64</td>\n",
              "      <td>float64</td>\n",
              "      <td>int64</td>\n",
              "      <td>float64</td>\n",
              "    </tr>\n",
              "    <tr>\n",
              "      <th>2021</th>\n",
              "      <td>object</td>\n",
              "      <td>object</td>\n",
              "      <td>object</td>\n",
              "      <td>object</td>\n",
              "      <td>object</td>\n",
              "      <td>int64</td>\n",
              "      <td>float64</td>\n",
              "      <td>int64</td>\n",
              "      <td>int64</td>\n",
              "      <td>int64</td>\n",
              "    </tr>\n",
              "  </tbody>\n",
              "</table>\n",
              "</div>"
            ],
            "text/plain": [
              "        지번코드   시군구코드    자치구명   법정동코드  ...     건물면적      층정보   물건금액     건축년도\n",
              "past  object   int64  object   int64  ...  float64  float64  int64  float64\n",
              "2021  object  object  object  object  ...  float64    int64  int64    int64\n",
              "\n",
              "[2 rows x 10 columns]"
            ]
          },
          "metadata": {}
        }
      ]
    },
    {
      "cell_type": "code",
      "metadata": {
        "colab": {
          "base_uri": "https://localhost:8080/",
          "height": 204
        },
        "id": "GyuYuKSbPO6t",
        "outputId": "24ded831-f192-4181-91e6-660baab1189e"
      },
      "source": [
        "display(past.head(2))\n",
        "display(data2021.head(2))"
      ],
      "execution_count": 465,
      "outputs": [
        {
          "output_type": "display_data",
          "data": {
            "text/html": [
              "<div>\n",
              "<style scoped>\n",
              "    .dataframe tbody tr th:only-of-type {\n",
              "        vertical-align: middle;\n",
              "    }\n",
              "\n",
              "    .dataframe tbody tr th {\n",
              "        vertical-align: top;\n",
              "    }\n",
              "\n",
              "    .dataframe thead th {\n",
              "        text-align: right;\n",
              "    }\n",
              "</style>\n",
              "<table border=\"1\" class=\"dataframe\">\n",
              "  <thead>\n",
              "    <tr style=\"text-align: right;\">\n",
              "      <th></th>\n",
              "      <th>지번코드</th>\n",
              "      <th>시군구코드</th>\n",
              "      <th>자치구명</th>\n",
              "      <th>법정동코드</th>\n",
              "      <th>법정동명</th>\n",
              "      <th>신고년도</th>\n",
              "      <th>건물면적</th>\n",
              "      <th>층정보</th>\n",
              "      <th>물건금액</th>\n",
              "      <th>건축년도</th>\n",
              "    </tr>\n",
              "  </thead>\n",
              "  <tbody>\n",
              "    <tr>\n",
              "      <th>2</th>\n",
              "      <td>1153010200107400029</td>\n",
              "      <td>11530</td>\n",
              "      <td>구로구</td>\n",
              "      <td>1153010200</td>\n",
              "      <td>구로동</td>\n",
              "      <td>2020</td>\n",
              "      <td>36.90</td>\n",
              "      <td>1.0</td>\n",
              "      <td>105000000</td>\n",
              "      <td>1994.0</td>\n",
              "    </tr>\n",
              "    <tr>\n",
              "      <th>3</th>\n",
              "      <td>1117011500101930000</td>\n",
              "      <td>11170</td>\n",
              "      <td>용산구</td>\n",
              "      <td>1117011500</td>\n",
              "      <td>산천동</td>\n",
              "      <td>2020</td>\n",
              "      <td>59.55</td>\n",
              "      <td>2.0</td>\n",
              "      <td>830000000</td>\n",
              "      <td>2001.0</td>\n",
              "    </tr>\n",
              "  </tbody>\n",
              "</table>\n",
              "</div>"
            ],
            "text/plain": [
              "                  지번코드  시군구코드 자치구명       법정동코드  ...   건물면적  층정보       물건금액    건축년도\n",
              "2  1153010200107400029  11530  구로구  1153010200  ...  36.90  1.0  105000000  1994.0\n",
              "3  1117011500101930000  11170  용산구  1117011500  ...  59.55  2.0  830000000  2001.0\n",
              "\n",
              "[2 rows x 10 columns]"
            ]
          },
          "metadata": {}
        },
        {
          "output_type": "display_data",
          "data": {
            "text/html": [
              "<div>\n",
              "<style scoped>\n",
              "    .dataframe tbody tr th:only-of-type {\n",
              "        vertical-align: middle;\n",
              "    }\n",
              "\n",
              "    .dataframe tbody tr th {\n",
              "        vertical-align: top;\n",
              "    }\n",
              "\n",
              "    .dataframe thead th {\n",
              "        text-align: right;\n",
              "    }\n",
              "</style>\n",
              "<table border=\"1\" class=\"dataframe\">\n",
              "  <thead>\n",
              "    <tr style=\"text-align: right;\">\n",
              "      <th></th>\n",
              "      <th>지번코드</th>\n",
              "      <th>시군구코드</th>\n",
              "      <th>자치구명</th>\n",
              "      <th>법정동코드</th>\n",
              "      <th>법정동명</th>\n",
              "      <th>신고년도</th>\n",
              "      <th>건물면적</th>\n",
              "      <th>층정보</th>\n",
              "      <th>물건금액</th>\n",
              "      <th>건축년도</th>\n",
              "    </tr>\n",
              "  </thead>\n",
              "  <tbody>\n",
              "    <tr>\n",
              "      <th>0</th>\n",
              "      <td>1168010300106550002</td>\n",
              "      <td>11680</td>\n",
              "      <td>강남구</td>\n",
              "      <td>1168010300</td>\n",
              "      <td>개포동</td>\n",
              "      <td>2021</td>\n",
              "      <td>77.75</td>\n",
              "      <td>9</td>\n",
              "      <td>1740000000</td>\n",
              "      <td>1988</td>\n",
              "    </tr>\n",
              "    <tr>\n",
              "      <th>1</th>\n",
              "      <td>1168010300106580001</td>\n",
              "      <td>11680</td>\n",
              "      <td>강남구</td>\n",
              "      <td>1168010300</td>\n",
              "      <td>개포동</td>\n",
              "      <td>2021</td>\n",
              "      <td>79.97</td>\n",
              "      <td>5</td>\n",
              "      <td>1950000000</td>\n",
              "      <td>1987</td>\n",
              "    </tr>\n",
              "  </tbody>\n",
              "</table>\n",
              "</div>"
            ],
            "text/plain": [
              "                  지번코드  시군구코드 자치구명       법정동코드  ...   건물면적  층정보        물건금액  건축년도\n",
              "0  1168010300106550002  11680  강남구  1168010300  ...  77.75    9  1740000000  1988\n",
              "1  1168010300106580001  11680  강남구  1168010300  ...  79.97    5  1950000000  1987\n",
              "\n",
              "[2 rows x 10 columns]"
            ]
          },
          "metadata": {}
        }
      ]
    },
    {
      "cell_type": "code",
      "metadata": {
        "id": "XK9rCg4nPKIa"
      },
      "source": [
        "# 데이터 타입 및 표시 형식 맞추기\n",
        "# 주소와 관련된 것은 모두 범주형으로 취급\n",
        "past[['시군구코드', '법정동코드']] = past[['시군구코드', '법정동코드']].astype(str)\n",
        "\n",
        "# 층정보와 건축년도는 정수형으로 형변환하여 소수점 제거\n",
        "past[['층정보', '건축년도']] = past[['층정보', '건축년도']].astype(int)"
      ],
      "execution_count": 466,
      "outputs": []
    },
    {
      "cell_type": "code",
      "metadata": {
        "colab": {
          "base_uri": "https://localhost:8080/",
          "height": 298
        },
        "id": "FS2lsIqPQIh1",
        "outputId": "211fe4d7-b6fc-4864-da53-2f9da50ce150"
      },
      "source": [
        "display(pd.DataFrame([past.dtypes, data2021.dtypes], index=['past', '2021']))\n",
        "\n",
        "display(past.head(2))\n",
        "display(data2021.head(2))"
      ],
      "execution_count": 467,
      "outputs": [
        {
          "output_type": "display_data",
          "data": {
            "text/html": [
              "<div>\n",
              "<style scoped>\n",
              "    .dataframe tbody tr th:only-of-type {\n",
              "        vertical-align: middle;\n",
              "    }\n",
              "\n",
              "    .dataframe tbody tr th {\n",
              "        vertical-align: top;\n",
              "    }\n",
              "\n",
              "    .dataframe thead th {\n",
              "        text-align: right;\n",
              "    }\n",
              "</style>\n",
              "<table border=\"1\" class=\"dataframe\">\n",
              "  <thead>\n",
              "    <tr style=\"text-align: right;\">\n",
              "      <th></th>\n",
              "      <th>지번코드</th>\n",
              "      <th>시군구코드</th>\n",
              "      <th>자치구명</th>\n",
              "      <th>법정동코드</th>\n",
              "      <th>법정동명</th>\n",
              "      <th>신고년도</th>\n",
              "      <th>건물면적</th>\n",
              "      <th>층정보</th>\n",
              "      <th>물건금액</th>\n",
              "      <th>건축년도</th>\n",
              "    </tr>\n",
              "  </thead>\n",
              "  <tbody>\n",
              "    <tr>\n",
              "      <th>past</th>\n",
              "      <td>object</td>\n",
              "      <td>object</td>\n",
              "      <td>object</td>\n",
              "      <td>object</td>\n",
              "      <td>object</td>\n",
              "      <td>int64</td>\n",
              "      <td>float64</td>\n",
              "      <td>int64</td>\n",
              "      <td>int64</td>\n",
              "      <td>int64</td>\n",
              "    </tr>\n",
              "    <tr>\n",
              "      <th>2021</th>\n",
              "      <td>object</td>\n",
              "      <td>object</td>\n",
              "      <td>object</td>\n",
              "      <td>object</td>\n",
              "      <td>object</td>\n",
              "      <td>int64</td>\n",
              "      <td>float64</td>\n",
              "      <td>int64</td>\n",
              "      <td>int64</td>\n",
              "      <td>int64</td>\n",
              "    </tr>\n",
              "  </tbody>\n",
              "</table>\n",
              "</div>"
            ],
            "text/plain": [
              "        지번코드   시군구코드    자치구명   법정동코드  ...     건물면적    층정보   물건금액   건축년도\n",
              "past  object  object  object  object  ...  float64  int64  int64  int64\n",
              "2021  object  object  object  object  ...  float64  int64  int64  int64\n",
              "\n",
              "[2 rows x 10 columns]"
            ]
          },
          "metadata": {}
        },
        {
          "output_type": "display_data",
          "data": {
            "text/html": [
              "<div>\n",
              "<style scoped>\n",
              "    .dataframe tbody tr th:only-of-type {\n",
              "        vertical-align: middle;\n",
              "    }\n",
              "\n",
              "    .dataframe tbody tr th {\n",
              "        vertical-align: top;\n",
              "    }\n",
              "\n",
              "    .dataframe thead th {\n",
              "        text-align: right;\n",
              "    }\n",
              "</style>\n",
              "<table border=\"1\" class=\"dataframe\">\n",
              "  <thead>\n",
              "    <tr style=\"text-align: right;\">\n",
              "      <th></th>\n",
              "      <th>지번코드</th>\n",
              "      <th>시군구코드</th>\n",
              "      <th>자치구명</th>\n",
              "      <th>법정동코드</th>\n",
              "      <th>법정동명</th>\n",
              "      <th>신고년도</th>\n",
              "      <th>건물면적</th>\n",
              "      <th>층정보</th>\n",
              "      <th>물건금액</th>\n",
              "      <th>건축년도</th>\n",
              "    </tr>\n",
              "  </thead>\n",
              "  <tbody>\n",
              "    <tr>\n",
              "      <th>2</th>\n",
              "      <td>1153010200107400029</td>\n",
              "      <td>11530</td>\n",
              "      <td>구로구</td>\n",
              "      <td>1153010200</td>\n",
              "      <td>구로동</td>\n",
              "      <td>2020</td>\n",
              "      <td>36.90</td>\n",
              "      <td>1</td>\n",
              "      <td>105000000</td>\n",
              "      <td>1994</td>\n",
              "    </tr>\n",
              "    <tr>\n",
              "      <th>3</th>\n",
              "      <td>1117011500101930000</td>\n",
              "      <td>11170</td>\n",
              "      <td>용산구</td>\n",
              "      <td>1117011500</td>\n",
              "      <td>산천동</td>\n",
              "      <td>2020</td>\n",
              "      <td>59.55</td>\n",
              "      <td>2</td>\n",
              "      <td>830000000</td>\n",
              "      <td>2001</td>\n",
              "    </tr>\n",
              "  </tbody>\n",
              "</table>\n",
              "</div>"
            ],
            "text/plain": [
              "                  지번코드  시군구코드 자치구명       법정동코드  ...   건물면적  층정보       물건금액  건축년도\n",
              "2  1153010200107400029  11530  구로구  1153010200  ...  36.90    1  105000000  1994\n",
              "3  1117011500101930000  11170  용산구  1117011500  ...  59.55    2  830000000  2001\n",
              "\n",
              "[2 rows x 10 columns]"
            ]
          },
          "metadata": {}
        },
        {
          "output_type": "display_data",
          "data": {
            "text/html": [
              "<div>\n",
              "<style scoped>\n",
              "    .dataframe tbody tr th:only-of-type {\n",
              "        vertical-align: middle;\n",
              "    }\n",
              "\n",
              "    .dataframe tbody tr th {\n",
              "        vertical-align: top;\n",
              "    }\n",
              "\n",
              "    .dataframe thead th {\n",
              "        text-align: right;\n",
              "    }\n",
              "</style>\n",
              "<table border=\"1\" class=\"dataframe\">\n",
              "  <thead>\n",
              "    <tr style=\"text-align: right;\">\n",
              "      <th></th>\n",
              "      <th>지번코드</th>\n",
              "      <th>시군구코드</th>\n",
              "      <th>자치구명</th>\n",
              "      <th>법정동코드</th>\n",
              "      <th>법정동명</th>\n",
              "      <th>신고년도</th>\n",
              "      <th>건물면적</th>\n",
              "      <th>층정보</th>\n",
              "      <th>물건금액</th>\n",
              "      <th>건축년도</th>\n",
              "    </tr>\n",
              "  </thead>\n",
              "  <tbody>\n",
              "    <tr>\n",
              "      <th>0</th>\n",
              "      <td>1168010300106550002</td>\n",
              "      <td>11680</td>\n",
              "      <td>강남구</td>\n",
              "      <td>1168010300</td>\n",
              "      <td>개포동</td>\n",
              "      <td>2021</td>\n",
              "      <td>77.75</td>\n",
              "      <td>9</td>\n",
              "      <td>1740000000</td>\n",
              "      <td>1988</td>\n",
              "    </tr>\n",
              "    <tr>\n",
              "      <th>1</th>\n",
              "      <td>1168010300106580001</td>\n",
              "      <td>11680</td>\n",
              "      <td>강남구</td>\n",
              "      <td>1168010300</td>\n",
              "      <td>개포동</td>\n",
              "      <td>2021</td>\n",
              "      <td>79.97</td>\n",
              "      <td>5</td>\n",
              "      <td>1950000000</td>\n",
              "      <td>1987</td>\n",
              "    </tr>\n",
              "  </tbody>\n",
              "</table>\n",
              "</div>"
            ],
            "text/plain": [
              "                  지번코드  시군구코드 자치구명       법정동코드  ...   건물면적  층정보        물건금액  건축년도\n",
              "0  1168010300106550002  11680  강남구  1168010300  ...  77.75    9  1740000000  1988\n",
              "1  1168010300106580001  11680  강남구  1168010300  ...  79.97    5  1950000000  1987\n",
              "\n",
              "[2 rows x 10 columns]"
            ]
          },
          "metadata": {}
        }
      ]
    },
    {
      "cell_type": "markdown",
      "metadata": {
        "id": "mN4c4lx1QXRW"
      },
      "source": [
        "### 2-3) 데이터 합치기 & 불필요한 컬럼 제거\n",
        "\n",
        "후에 2021년 데이터는 다시 테스트셋으로 분리할 예정이지만,  \n",
        "feature engineering을 위해서 일시적으로 합침\n",
        "\n",
        "시군구코드, 법정동코드 컬럼은 각각 자치구명, 법정동명과 동일한 역할이므로 제거"
      ]
    },
    {
      "cell_type": "code",
      "metadata": {
        "colab": {
          "base_uri": "https://localhost:8080/",
          "height": 314
        },
        "id": "-I3O1xqmQPtE",
        "outputId": "f07ecb6f-981e-4f3e-ca89-323c2c7cacdf"
      },
      "source": [
        "df = pd.concat([past, data2021], axis=0)\n",
        "print(df.shape)\n",
        "display(pd.DataFrame([df.dtypes, df.isna().sum()], index=['dtypes', 'isna']))\n",
        "df.head()"
      ],
      "execution_count": 468,
      "outputs": [
        {
          "output_type": "stream",
          "name": "stdout",
          "text": [
            "(384119, 10)\n"
          ]
        },
        {
          "output_type": "display_data",
          "data": {
            "text/html": [
              "<div>\n",
              "<style scoped>\n",
              "    .dataframe tbody tr th:only-of-type {\n",
              "        vertical-align: middle;\n",
              "    }\n",
              "\n",
              "    .dataframe tbody tr th {\n",
              "        vertical-align: top;\n",
              "    }\n",
              "\n",
              "    .dataframe thead th {\n",
              "        text-align: right;\n",
              "    }\n",
              "</style>\n",
              "<table border=\"1\" class=\"dataframe\">\n",
              "  <thead>\n",
              "    <tr style=\"text-align: right;\">\n",
              "      <th></th>\n",
              "      <th>지번코드</th>\n",
              "      <th>시군구코드</th>\n",
              "      <th>자치구명</th>\n",
              "      <th>법정동코드</th>\n",
              "      <th>법정동명</th>\n",
              "      <th>신고년도</th>\n",
              "      <th>건물면적</th>\n",
              "      <th>층정보</th>\n",
              "      <th>물건금액</th>\n",
              "      <th>건축년도</th>\n",
              "    </tr>\n",
              "  </thead>\n",
              "  <tbody>\n",
              "    <tr>\n",
              "      <th>dtypes</th>\n",
              "      <td>object</td>\n",
              "      <td>object</td>\n",
              "      <td>object</td>\n",
              "      <td>object</td>\n",
              "      <td>object</td>\n",
              "      <td>int64</td>\n",
              "      <td>float64</td>\n",
              "      <td>int64</td>\n",
              "      <td>int64</td>\n",
              "      <td>int64</td>\n",
              "    </tr>\n",
              "    <tr>\n",
              "      <th>isna</th>\n",
              "      <td>0</td>\n",
              "      <td>0</td>\n",
              "      <td>0</td>\n",
              "      <td>0</td>\n",
              "      <td>0</td>\n",
              "      <td>0</td>\n",
              "      <td>0</td>\n",
              "      <td>0</td>\n",
              "      <td>0</td>\n",
              "      <td>0</td>\n",
              "    </tr>\n",
              "  </tbody>\n",
              "</table>\n",
              "</div>"
            ],
            "text/plain": [
              "          지번코드   시군구코드    자치구명   법정동코드  ...     건물면적    층정보   물건금액   건축년도\n",
              "dtypes  object  object  object  object  ...  float64  int64  int64  int64\n",
              "isna         0       0       0       0  ...        0      0      0      0\n",
              "\n",
              "[2 rows x 10 columns]"
            ]
          },
          "metadata": {}
        },
        {
          "output_type": "execute_result",
          "data": {
            "text/html": [
              "<div>\n",
              "<style scoped>\n",
              "    .dataframe tbody tr th:only-of-type {\n",
              "        vertical-align: middle;\n",
              "    }\n",
              "\n",
              "    .dataframe tbody tr th {\n",
              "        vertical-align: top;\n",
              "    }\n",
              "\n",
              "    .dataframe thead th {\n",
              "        text-align: right;\n",
              "    }\n",
              "</style>\n",
              "<table border=\"1\" class=\"dataframe\">\n",
              "  <thead>\n",
              "    <tr style=\"text-align: right;\">\n",
              "      <th></th>\n",
              "      <th>지번코드</th>\n",
              "      <th>시군구코드</th>\n",
              "      <th>자치구명</th>\n",
              "      <th>법정동코드</th>\n",
              "      <th>법정동명</th>\n",
              "      <th>신고년도</th>\n",
              "      <th>건물면적</th>\n",
              "      <th>층정보</th>\n",
              "      <th>물건금액</th>\n",
              "      <th>건축년도</th>\n",
              "    </tr>\n",
              "  </thead>\n",
              "  <tbody>\n",
              "    <tr>\n",
              "      <th>2</th>\n",
              "      <td>1153010200107400029</td>\n",
              "      <td>11530</td>\n",
              "      <td>구로구</td>\n",
              "      <td>1153010200</td>\n",
              "      <td>구로동</td>\n",
              "      <td>2020</td>\n",
              "      <td>36.90</td>\n",
              "      <td>1</td>\n",
              "      <td>105000000</td>\n",
              "      <td>1994</td>\n",
              "    </tr>\n",
              "    <tr>\n",
              "      <th>3</th>\n",
              "      <td>1117011500101930000</td>\n",
              "      <td>11170</td>\n",
              "      <td>용산구</td>\n",
              "      <td>1117011500</td>\n",
              "      <td>산천동</td>\n",
              "      <td>2020</td>\n",
              "      <td>59.55</td>\n",
              "      <td>2</td>\n",
              "      <td>830000000</td>\n",
              "      <td>2001</td>\n",
              "    </tr>\n",
              "    <tr>\n",
              "      <th>4</th>\n",
              "      <td>1117012900101930003</td>\n",
              "      <td>11170</td>\n",
              "      <td>용산구</td>\n",
              "      <td>1117012900</td>\n",
              "      <td>이촌동</td>\n",
              "      <td>2020</td>\n",
              "      <td>64.43</td>\n",
              "      <td>5</td>\n",
              "      <td>735000000</td>\n",
              "      <td>1971</td>\n",
              "    </tr>\n",
              "    <tr>\n",
              "      <th>5</th>\n",
              "      <td>1117013000100220002</td>\n",
              "      <td>11170</td>\n",
              "      <td>용산구</td>\n",
              "      <td>1117013000</td>\n",
              "      <td>이태원동</td>\n",
              "      <td>2020</td>\n",
              "      <td>105.75</td>\n",
              "      <td>9</td>\n",
              "      <td>1430000000</td>\n",
              "      <td>1982</td>\n",
              "    </tr>\n",
              "    <tr>\n",
              "      <th>7</th>\n",
              "      <td>1117010100102440088</td>\n",
              "      <td>11170</td>\n",
              "      <td>용산구</td>\n",
              "      <td>1117010100</td>\n",
              "      <td>후암동</td>\n",
              "      <td>2020</td>\n",
              "      <td>150.08</td>\n",
              "      <td>4</td>\n",
              "      <td>875000000</td>\n",
              "      <td>2002</td>\n",
              "    </tr>\n",
              "  </tbody>\n",
              "</table>\n",
              "</div>"
            ],
            "text/plain": [
              "                  지번코드  시군구코드 자치구명       법정동코드  ...    건물면적  층정보        물건금액  건축년도\n",
              "2  1153010200107400029  11530  구로구  1153010200  ...   36.90    1   105000000  1994\n",
              "3  1117011500101930000  11170  용산구  1117011500  ...   59.55    2   830000000  2001\n",
              "4  1117012900101930003  11170  용산구  1117012900  ...   64.43    5   735000000  1971\n",
              "5  1117013000100220002  11170  용산구  1117013000  ...  105.75    9  1430000000  1982\n",
              "7  1117010100102440088  11170  용산구  1117010100  ...  150.08    4   875000000  2002\n",
              "\n",
              "[5 rows x 10 columns]"
            ]
          },
          "metadata": {},
          "execution_count": 468
        }
      ]
    },
    {
      "cell_type": "code",
      "metadata": {
        "colab": {
          "base_uri": "https://localhost:8080/",
          "height": 203
        },
        "id": "8fCcidQJ5HrL",
        "outputId": "c194030a-5f6d-4d80-8c77-35b6c4386309"
      },
      "source": [
        "df = df.drop(['시군구코드', '법정동코드'], axis=1)\n",
        "df.head()"
      ],
      "execution_count": 469,
      "outputs": [
        {
          "output_type": "execute_result",
          "data": {
            "text/html": [
              "<div>\n",
              "<style scoped>\n",
              "    .dataframe tbody tr th:only-of-type {\n",
              "        vertical-align: middle;\n",
              "    }\n",
              "\n",
              "    .dataframe tbody tr th {\n",
              "        vertical-align: top;\n",
              "    }\n",
              "\n",
              "    .dataframe thead th {\n",
              "        text-align: right;\n",
              "    }\n",
              "</style>\n",
              "<table border=\"1\" class=\"dataframe\">\n",
              "  <thead>\n",
              "    <tr style=\"text-align: right;\">\n",
              "      <th></th>\n",
              "      <th>지번코드</th>\n",
              "      <th>자치구명</th>\n",
              "      <th>법정동명</th>\n",
              "      <th>신고년도</th>\n",
              "      <th>건물면적</th>\n",
              "      <th>층정보</th>\n",
              "      <th>물건금액</th>\n",
              "      <th>건축년도</th>\n",
              "    </tr>\n",
              "  </thead>\n",
              "  <tbody>\n",
              "    <tr>\n",
              "      <th>2</th>\n",
              "      <td>1153010200107400029</td>\n",
              "      <td>구로구</td>\n",
              "      <td>구로동</td>\n",
              "      <td>2020</td>\n",
              "      <td>36.90</td>\n",
              "      <td>1</td>\n",
              "      <td>105000000</td>\n",
              "      <td>1994</td>\n",
              "    </tr>\n",
              "    <tr>\n",
              "      <th>3</th>\n",
              "      <td>1117011500101930000</td>\n",
              "      <td>용산구</td>\n",
              "      <td>산천동</td>\n",
              "      <td>2020</td>\n",
              "      <td>59.55</td>\n",
              "      <td>2</td>\n",
              "      <td>830000000</td>\n",
              "      <td>2001</td>\n",
              "    </tr>\n",
              "    <tr>\n",
              "      <th>4</th>\n",
              "      <td>1117012900101930003</td>\n",
              "      <td>용산구</td>\n",
              "      <td>이촌동</td>\n",
              "      <td>2020</td>\n",
              "      <td>64.43</td>\n",
              "      <td>5</td>\n",
              "      <td>735000000</td>\n",
              "      <td>1971</td>\n",
              "    </tr>\n",
              "    <tr>\n",
              "      <th>5</th>\n",
              "      <td>1117013000100220002</td>\n",
              "      <td>용산구</td>\n",
              "      <td>이태원동</td>\n",
              "      <td>2020</td>\n",
              "      <td>105.75</td>\n",
              "      <td>9</td>\n",
              "      <td>1430000000</td>\n",
              "      <td>1982</td>\n",
              "    </tr>\n",
              "    <tr>\n",
              "      <th>7</th>\n",
              "      <td>1117010100102440088</td>\n",
              "      <td>용산구</td>\n",
              "      <td>후암동</td>\n",
              "      <td>2020</td>\n",
              "      <td>150.08</td>\n",
              "      <td>4</td>\n",
              "      <td>875000000</td>\n",
              "      <td>2002</td>\n",
              "    </tr>\n",
              "  </tbody>\n",
              "</table>\n",
              "</div>"
            ],
            "text/plain": [
              "                  지번코드 자치구명  법정동명  신고년도    건물면적  층정보        물건금액  건축년도\n",
              "2  1153010200107400029  구로구   구로동  2020   36.90    1   105000000  1994\n",
              "3  1117011500101930000  용산구   산천동  2020   59.55    2   830000000  2001\n",
              "4  1117012900101930003  용산구   이촌동  2020   64.43    5   735000000  1971\n",
              "5  1117013000100220002  용산구  이태원동  2020  105.75    9  1430000000  1982\n",
              "7  1117010100102440088  용산구   후암동  2020  150.08    4   875000000  2002"
            ]
          },
          "metadata": {},
          "execution_count": 469
        }
      ]
    },
    {
      "cell_type": "markdown",
      "metadata": {
        "id": "w4bTj3RqXF8F"
      },
      "source": [
        "## 3) 컬럼 추가하기"
      ]
    },
    {
      "cell_type": "markdown",
      "metadata": {
        "id": "Z_ldMn32XI7Z"
      },
      "source": [
        "데이터 분석 및 모델 성능 향상에 도움이 될 것으로 기대되는 컬럼 추가  "
      ]
    },
    {
      "cell_type": "code",
      "metadata": {
        "colab": {
          "base_uri": "https://localhost:8080/",
          "height": 203
        },
        "id": "iMCa_FeLXvUX",
        "outputId": "70103b9c-01c7-4fb9-ec98-1c68f5c17bd4"
      },
      "source": [
        "# 건축년도를 그대로 사용하기보다는 거래가 이루어진 해로부터 몇 년이나 오래 되었는지 나타내는 컬럼이 필요하지 않을까?\n",
        "df['연식'] = (df['신고년도'] - df['건축년도']).astype(int)\n",
        "df.head()"
      ],
      "execution_count": 470,
      "outputs": [
        {
          "output_type": "execute_result",
          "data": {
            "text/html": [
              "<div>\n",
              "<style scoped>\n",
              "    .dataframe tbody tr th:only-of-type {\n",
              "        vertical-align: middle;\n",
              "    }\n",
              "\n",
              "    .dataframe tbody tr th {\n",
              "        vertical-align: top;\n",
              "    }\n",
              "\n",
              "    .dataframe thead th {\n",
              "        text-align: right;\n",
              "    }\n",
              "</style>\n",
              "<table border=\"1\" class=\"dataframe\">\n",
              "  <thead>\n",
              "    <tr style=\"text-align: right;\">\n",
              "      <th></th>\n",
              "      <th>지번코드</th>\n",
              "      <th>자치구명</th>\n",
              "      <th>법정동명</th>\n",
              "      <th>신고년도</th>\n",
              "      <th>건물면적</th>\n",
              "      <th>층정보</th>\n",
              "      <th>물건금액</th>\n",
              "      <th>건축년도</th>\n",
              "      <th>연식</th>\n",
              "    </tr>\n",
              "  </thead>\n",
              "  <tbody>\n",
              "    <tr>\n",
              "      <th>2</th>\n",
              "      <td>1153010200107400029</td>\n",
              "      <td>구로구</td>\n",
              "      <td>구로동</td>\n",
              "      <td>2020</td>\n",
              "      <td>36.90</td>\n",
              "      <td>1</td>\n",
              "      <td>105000000</td>\n",
              "      <td>1994</td>\n",
              "      <td>26</td>\n",
              "    </tr>\n",
              "    <tr>\n",
              "      <th>3</th>\n",
              "      <td>1117011500101930000</td>\n",
              "      <td>용산구</td>\n",
              "      <td>산천동</td>\n",
              "      <td>2020</td>\n",
              "      <td>59.55</td>\n",
              "      <td>2</td>\n",
              "      <td>830000000</td>\n",
              "      <td>2001</td>\n",
              "      <td>19</td>\n",
              "    </tr>\n",
              "    <tr>\n",
              "      <th>4</th>\n",
              "      <td>1117012900101930003</td>\n",
              "      <td>용산구</td>\n",
              "      <td>이촌동</td>\n",
              "      <td>2020</td>\n",
              "      <td>64.43</td>\n",
              "      <td>5</td>\n",
              "      <td>735000000</td>\n",
              "      <td>1971</td>\n",
              "      <td>49</td>\n",
              "    </tr>\n",
              "    <tr>\n",
              "      <th>5</th>\n",
              "      <td>1117013000100220002</td>\n",
              "      <td>용산구</td>\n",
              "      <td>이태원동</td>\n",
              "      <td>2020</td>\n",
              "      <td>105.75</td>\n",
              "      <td>9</td>\n",
              "      <td>1430000000</td>\n",
              "      <td>1982</td>\n",
              "      <td>38</td>\n",
              "    </tr>\n",
              "    <tr>\n",
              "      <th>7</th>\n",
              "      <td>1117010100102440088</td>\n",
              "      <td>용산구</td>\n",
              "      <td>후암동</td>\n",
              "      <td>2020</td>\n",
              "      <td>150.08</td>\n",
              "      <td>4</td>\n",
              "      <td>875000000</td>\n",
              "      <td>2002</td>\n",
              "      <td>18</td>\n",
              "    </tr>\n",
              "  </tbody>\n",
              "</table>\n",
              "</div>"
            ],
            "text/plain": [
              "                  지번코드 자치구명  법정동명  신고년도    건물면적  층정보        물건금액  건축년도  연식\n",
              "2  1153010200107400029  구로구   구로동  2020   36.90    1   105000000  1994  26\n",
              "3  1117011500101930000  용산구   산천동  2020   59.55    2   830000000  2001  19\n",
              "4  1117012900101930003  용산구   이촌동  2020   64.43    5   735000000  1971  49\n",
              "5  1117013000100220002  용산구  이태원동  2020  105.75    9  1430000000  1982  38\n",
              "7  1117010100102440088  용산구   후암동  2020  150.08    4   875000000  2002  18"
            ]
          },
          "metadata": {},
          "execution_count": 470
        }
      ]
    },
    {
      "cell_type": "code",
      "metadata": {
        "colab": {
          "base_uri": "https://localhost:8080/",
          "height": 203
        },
        "id": "cHO5uCz5XwsR",
        "outputId": "9f5e1a66-2654-449c-db6e-a920d34061f5"
      },
      "source": [
        "# 건물면적을 통해 집을 소형/중형/대형으로 구분하면 어떨까?\n",
        "# 기준 : 60㎡ 이하 = 소형 / 60㎡ 초과~85㎡ 이하 = 중형 / 85㎡ 초과 = 대형\n",
        "# 참고 : https://www.hani.co.kr/arti/economy/property/689578.html\n",
        "df['주택규모'] = df['건물면적'].apply(lambda x: 'S' if x <= 60 else 'L' if x > 85 else 'M')\n",
        "df.head()"
      ],
      "execution_count": 471,
      "outputs": [
        {
          "output_type": "execute_result",
          "data": {
            "text/html": [
              "<div>\n",
              "<style scoped>\n",
              "    .dataframe tbody tr th:only-of-type {\n",
              "        vertical-align: middle;\n",
              "    }\n",
              "\n",
              "    .dataframe tbody tr th {\n",
              "        vertical-align: top;\n",
              "    }\n",
              "\n",
              "    .dataframe thead th {\n",
              "        text-align: right;\n",
              "    }\n",
              "</style>\n",
              "<table border=\"1\" class=\"dataframe\">\n",
              "  <thead>\n",
              "    <tr style=\"text-align: right;\">\n",
              "      <th></th>\n",
              "      <th>지번코드</th>\n",
              "      <th>자치구명</th>\n",
              "      <th>법정동명</th>\n",
              "      <th>신고년도</th>\n",
              "      <th>건물면적</th>\n",
              "      <th>층정보</th>\n",
              "      <th>물건금액</th>\n",
              "      <th>건축년도</th>\n",
              "      <th>연식</th>\n",
              "      <th>주택규모</th>\n",
              "    </tr>\n",
              "  </thead>\n",
              "  <tbody>\n",
              "    <tr>\n",
              "      <th>2</th>\n",
              "      <td>1153010200107400029</td>\n",
              "      <td>구로구</td>\n",
              "      <td>구로동</td>\n",
              "      <td>2020</td>\n",
              "      <td>36.90</td>\n",
              "      <td>1</td>\n",
              "      <td>105000000</td>\n",
              "      <td>1994</td>\n",
              "      <td>26</td>\n",
              "      <td>S</td>\n",
              "    </tr>\n",
              "    <tr>\n",
              "      <th>3</th>\n",
              "      <td>1117011500101930000</td>\n",
              "      <td>용산구</td>\n",
              "      <td>산천동</td>\n",
              "      <td>2020</td>\n",
              "      <td>59.55</td>\n",
              "      <td>2</td>\n",
              "      <td>830000000</td>\n",
              "      <td>2001</td>\n",
              "      <td>19</td>\n",
              "      <td>S</td>\n",
              "    </tr>\n",
              "    <tr>\n",
              "      <th>4</th>\n",
              "      <td>1117012900101930003</td>\n",
              "      <td>용산구</td>\n",
              "      <td>이촌동</td>\n",
              "      <td>2020</td>\n",
              "      <td>64.43</td>\n",
              "      <td>5</td>\n",
              "      <td>735000000</td>\n",
              "      <td>1971</td>\n",
              "      <td>49</td>\n",
              "      <td>M</td>\n",
              "    </tr>\n",
              "    <tr>\n",
              "      <th>5</th>\n",
              "      <td>1117013000100220002</td>\n",
              "      <td>용산구</td>\n",
              "      <td>이태원동</td>\n",
              "      <td>2020</td>\n",
              "      <td>105.75</td>\n",
              "      <td>9</td>\n",
              "      <td>1430000000</td>\n",
              "      <td>1982</td>\n",
              "      <td>38</td>\n",
              "      <td>L</td>\n",
              "    </tr>\n",
              "    <tr>\n",
              "      <th>7</th>\n",
              "      <td>1117010100102440088</td>\n",
              "      <td>용산구</td>\n",
              "      <td>후암동</td>\n",
              "      <td>2020</td>\n",
              "      <td>150.08</td>\n",
              "      <td>4</td>\n",
              "      <td>875000000</td>\n",
              "      <td>2002</td>\n",
              "      <td>18</td>\n",
              "      <td>L</td>\n",
              "    </tr>\n",
              "  </tbody>\n",
              "</table>\n",
              "</div>"
            ],
            "text/plain": [
              "                  지번코드 자치구명  법정동명  신고년도    건물면적  층정보        물건금액  건축년도  연식 주택규모\n",
              "2  1153010200107400029  구로구   구로동  2020   36.90    1   105000000  1994  26    S\n",
              "3  1117011500101930000  용산구   산천동  2020   59.55    2   830000000  2001  19    S\n",
              "4  1117012900101930003  용산구   이촌동  2020   64.43    5   735000000  1971  49    M\n",
              "5  1117013000100220002  용산구  이태원동  2020  105.75    9  1430000000  1982  38    L\n",
              "7  1117010100102440088  용산구   후암동  2020  150.08    4   875000000  2002  18    L"
            ]
          },
          "metadata": {},
          "execution_count": 471
        }
      ]
    },
    {
      "cell_type": "code",
      "metadata": {
        "colab": {
          "base_uri": "https://localhost:8080/",
          "height": 203
        },
        "id": "ib18aBR-Xyss",
        "outputId": "2d6ca14f-b41d-4ab7-f633-a842f8e5acc1"
      },
      "source": [
        "# 물건금액 9억 초과를 기준으로 고가주택과 고가주택이 아닌 물건으로 구분(분류 문제 타겟)\n",
        "# 참고 : https://m.post.naver.com/viewer/postView.nhn?volumeNo=32576102&memberNo=36833282\n",
        "df['고가주택여부'] = df['물건금액'].apply(lambda x: 1 if x > 900000000 else 0)\n",
        "df.head()"
      ],
      "execution_count": 472,
      "outputs": [
        {
          "output_type": "execute_result",
          "data": {
            "text/html": [
              "<div>\n",
              "<style scoped>\n",
              "    .dataframe tbody tr th:only-of-type {\n",
              "        vertical-align: middle;\n",
              "    }\n",
              "\n",
              "    .dataframe tbody tr th {\n",
              "        vertical-align: top;\n",
              "    }\n",
              "\n",
              "    .dataframe thead th {\n",
              "        text-align: right;\n",
              "    }\n",
              "</style>\n",
              "<table border=\"1\" class=\"dataframe\">\n",
              "  <thead>\n",
              "    <tr style=\"text-align: right;\">\n",
              "      <th></th>\n",
              "      <th>지번코드</th>\n",
              "      <th>자치구명</th>\n",
              "      <th>법정동명</th>\n",
              "      <th>신고년도</th>\n",
              "      <th>건물면적</th>\n",
              "      <th>층정보</th>\n",
              "      <th>물건금액</th>\n",
              "      <th>건축년도</th>\n",
              "      <th>연식</th>\n",
              "      <th>주택규모</th>\n",
              "      <th>고가주택여부</th>\n",
              "    </tr>\n",
              "  </thead>\n",
              "  <tbody>\n",
              "    <tr>\n",
              "      <th>2</th>\n",
              "      <td>1153010200107400029</td>\n",
              "      <td>구로구</td>\n",
              "      <td>구로동</td>\n",
              "      <td>2020</td>\n",
              "      <td>36.90</td>\n",
              "      <td>1</td>\n",
              "      <td>105000000</td>\n",
              "      <td>1994</td>\n",
              "      <td>26</td>\n",
              "      <td>S</td>\n",
              "      <td>0</td>\n",
              "    </tr>\n",
              "    <tr>\n",
              "      <th>3</th>\n",
              "      <td>1117011500101930000</td>\n",
              "      <td>용산구</td>\n",
              "      <td>산천동</td>\n",
              "      <td>2020</td>\n",
              "      <td>59.55</td>\n",
              "      <td>2</td>\n",
              "      <td>830000000</td>\n",
              "      <td>2001</td>\n",
              "      <td>19</td>\n",
              "      <td>S</td>\n",
              "      <td>0</td>\n",
              "    </tr>\n",
              "    <tr>\n",
              "      <th>4</th>\n",
              "      <td>1117012900101930003</td>\n",
              "      <td>용산구</td>\n",
              "      <td>이촌동</td>\n",
              "      <td>2020</td>\n",
              "      <td>64.43</td>\n",
              "      <td>5</td>\n",
              "      <td>735000000</td>\n",
              "      <td>1971</td>\n",
              "      <td>49</td>\n",
              "      <td>M</td>\n",
              "      <td>0</td>\n",
              "    </tr>\n",
              "    <tr>\n",
              "      <th>5</th>\n",
              "      <td>1117013000100220002</td>\n",
              "      <td>용산구</td>\n",
              "      <td>이태원동</td>\n",
              "      <td>2020</td>\n",
              "      <td>105.75</td>\n",
              "      <td>9</td>\n",
              "      <td>1430000000</td>\n",
              "      <td>1982</td>\n",
              "      <td>38</td>\n",
              "      <td>L</td>\n",
              "      <td>1</td>\n",
              "    </tr>\n",
              "    <tr>\n",
              "      <th>7</th>\n",
              "      <td>1117010100102440088</td>\n",
              "      <td>용산구</td>\n",
              "      <td>후암동</td>\n",
              "      <td>2020</td>\n",
              "      <td>150.08</td>\n",
              "      <td>4</td>\n",
              "      <td>875000000</td>\n",
              "      <td>2002</td>\n",
              "      <td>18</td>\n",
              "      <td>L</td>\n",
              "      <td>0</td>\n",
              "    </tr>\n",
              "  </tbody>\n",
              "</table>\n",
              "</div>"
            ],
            "text/plain": [
              "                  지번코드 자치구명  법정동명  신고년도  ...  건축년도  연식  주택규모  고가주택여부\n",
              "2  1153010200107400029  구로구   구로동  2020  ...  1994  26     S       0\n",
              "3  1117011500101930000  용산구   산천동  2020  ...  2001  19     S       0\n",
              "4  1117012900101930003  용산구   이촌동  2020  ...  1971  49     M       0\n",
              "5  1117013000100220002  용산구  이태원동  2020  ...  1982  38     L       1\n",
              "7  1117010100102440088  용산구   후암동  2020  ...  2002  18     L       0\n",
              "\n",
              "[5 rows x 11 columns]"
            ]
          },
          "metadata": {},
          "execution_count": 472
        }
      ]
    },
    {
      "cell_type": "code",
      "metadata": {
        "colab": {
          "base_uri": "https://localhost:8080/",
          "height": 203
        },
        "id": "cgrU-9SpStyS",
        "outputId": "e0ba3115-6d34-4506-d94e-b7245de552e3"
      },
      "source": [
        "# 컬럼명 변경하기\n",
        "df.columns = ['addr_code', 'city_name', 'area_name', 'report_year', 'size', 'floor', 'price', 'built_year', 'years', 'size_grade', 'is_high_price']\n",
        "df.head()"
      ],
      "execution_count": 473,
      "outputs": [
        {
          "output_type": "execute_result",
          "data": {
            "text/html": [
              "<div>\n",
              "<style scoped>\n",
              "    .dataframe tbody tr th:only-of-type {\n",
              "        vertical-align: middle;\n",
              "    }\n",
              "\n",
              "    .dataframe tbody tr th {\n",
              "        vertical-align: top;\n",
              "    }\n",
              "\n",
              "    .dataframe thead th {\n",
              "        text-align: right;\n",
              "    }\n",
              "</style>\n",
              "<table border=\"1\" class=\"dataframe\">\n",
              "  <thead>\n",
              "    <tr style=\"text-align: right;\">\n",
              "      <th></th>\n",
              "      <th>addr_code</th>\n",
              "      <th>city_name</th>\n",
              "      <th>area_name</th>\n",
              "      <th>report_year</th>\n",
              "      <th>size</th>\n",
              "      <th>floor</th>\n",
              "      <th>price</th>\n",
              "      <th>built_year</th>\n",
              "      <th>years</th>\n",
              "      <th>size_grade</th>\n",
              "      <th>is_high_price</th>\n",
              "    </tr>\n",
              "  </thead>\n",
              "  <tbody>\n",
              "    <tr>\n",
              "      <th>2</th>\n",
              "      <td>1153010200107400029</td>\n",
              "      <td>구로구</td>\n",
              "      <td>구로동</td>\n",
              "      <td>2020</td>\n",
              "      <td>36.90</td>\n",
              "      <td>1</td>\n",
              "      <td>105000000</td>\n",
              "      <td>1994</td>\n",
              "      <td>26</td>\n",
              "      <td>S</td>\n",
              "      <td>0</td>\n",
              "    </tr>\n",
              "    <tr>\n",
              "      <th>3</th>\n",
              "      <td>1117011500101930000</td>\n",
              "      <td>용산구</td>\n",
              "      <td>산천동</td>\n",
              "      <td>2020</td>\n",
              "      <td>59.55</td>\n",
              "      <td>2</td>\n",
              "      <td>830000000</td>\n",
              "      <td>2001</td>\n",
              "      <td>19</td>\n",
              "      <td>S</td>\n",
              "      <td>0</td>\n",
              "    </tr>\n",
              "    <tr>\n",
              "      <th>4</th>\n",
              "      <td>1117012900101930003</td>\n",
              "      <td>용산구</td>\n",
              "      <td>이촌동</td>\n",
              "      <td>2020</td>\n",
              "      <td>64.43</td>\n",
              "      <td>5</td>\n",
              "      <td>735000000</td>\n",
              "      <td>1971</td>\n",
              "      <td>49</td>\n",
              "      <td>M</td>\n",
              "      <td>0</td>\n",
              "    </tr>\n",
              "    <tr>\n",
              "      <th>5</th>\n",
              "      <td>1117013000100220002</td>\n",
              "      <td>용산구</td>\n",
              "      <td>이태원동</td>\n",
              "      <td>2020</td>\n",
              "      <td>105.75</td>\n",
              "      <td>9</td>\n",
              "      <td>1430000000</td>\n",
              "      <td>1982</td>\n",
              "      <td>38</td>\n",
              "      <td>L</td>\n",
              "      <td>1</td>\n",
              "    </tr>\n",
              "    <tr>\n",
              "      <th>7</th>\n",
              "      <td>1117010100102440088</td>\n",
              "      <td>용산구</td>\n",
              "      <td>후암동</td>\n",
              "      <td>2020</td>\n",
              "      <td>150.08</td>\n",
              "      <td>4</td>\n",
              "      <td>875000000</td>\n",
              "      <td>2002</td>\n",
              "      <td>18</td>\n",
              "      <td>L</td>\n",
              "      <td>0</td>\n",
              "    </tr>\n",
              "  </tbody>\n",
              "</table>\n",
              "</div>"
            ],
            "text/plain": [
              "             addr_code city_name area_name  ...  years  size_grade  is_high_price\n",
              "2  1153010200107400029       구로구       구로동  ...     26           S              0\n",
              "3  1117011500101930000       용산구       산천동  ...     19           S              0\n",
              "4  1117012900101930003       용산구       이촌동  ...     49           M              0\n",
              "5  1117013000100220002       용산구      이태원동  ...     38           L              1\n",
              "7  1117010100102440088       용산구       후암동  ...     18           L              0\n",
              "\n",
              "[5 rows x 11 columns]"
            ]
          },
          "metadata": {},
          "execution_count": 473
        }
      ]
    },
    {
      "cell_type": "markdown",
      "metadata": {
        "id": "8ZFfwwn7RFbJ"
      },
      "source": [
        "## 4) 데이터 분포 확인 및 이상치 제거하기 "
      ]
    },
    {
      "cell_type": "markdown",
      "metadata": {
        "id": "--LvzohsR_wZ"
      },
      "source": [
        "3-1) 수치형 데이터들의 분포 확인\n",
        "\n",
        "건물면적, 물건금액(타겟)의 분포를 확인  \n",
        "년도, 층수에 대해서는 상식적이지 않은 수치 확인하여 제거"
      ]
    },
    {
      "cell_type": "code",
      "metadata": {
        "colab": {
          "base_uri": "https://localhost:8080/",
          "height": 295
        },
        "id": "BGkYA55SSO95",
        "outputId": "d2b3d08a-af96-4fe2-f369-c17729ff0c5c"
      },
      "source": [
        "df.describe()"
      ],
      "execution_count": 474,
      "outputs": [
        {
          "output_type": "execute_result",
          "data": {
            "text/html": [
              "<div>\n",
              "<style scoped>\n",
              "    .dataframe tbody tr th:only-of-type {\n",
              "        vertical-align: middle;\n",
              "    }\n",
              "\n",
              "    .dataframe tbody tr th {\n",
              "        vertical-align: top;\n",
              "    }\n",
              "\n",
              "    .dataframe thead th {\n",
              "        text-align: right;\n",
              "    }\n",
              "</style>\n",
              "<table border=\"1\" class=\"dataframe\">\n",
              "  <thead>\n",
              "    <tr style=\"text-align: right;\">\n",
              "      <th></th>\n",
              "      <th>report_year</th>\n",
              "      <th>size</th>\n",
              "      <th>floor</th>\n",
              "      <th>price</th>\n",
              "      <th>built_year</th>\n",
              "      <th>years</th>\n",
              "      <th>is_high_price</th>\n",
              "    </tr>\n",
              "  </thead>\n",
              "  <tbody>\n",
              "    <tr>\n",
              "      <th>count</th>\n",
              "      <td>384119.000000</td>\n",
              "      <td>384119.000000</td>\n",
              "      <td>384119.000000</td>\n",
              "      <td>3.841190e+05</td>\n",
              "      <td>384119.000000</td>\n",
              "      <td>384119.000000</td>\n",
              "      <td>384119.000000</td>\n",
              "    </tr>\n",
              "    <tr>\n",
              "      <th>mean</th>\n",
              "      <td>2018.680974</td>\n",
              "      <td>78.109188</td>\n",
              "      <td>9.126060</td>\n",
              "      <td>7.522145e+08</td>\n",
              "      <td>2000.086119</td>\n",
              "      <td>18.594855</td>\n",
              "      <td>0.241839</td>\n",
              "    </tr>\n",
              "    <tr>\n",
              "      <th>std</th>\n",
              "      <td>1.350430</td>\n",
              "      <td>30.502753</td>\n",
              "      <td>6.163629</td>\n",
              "      <td>5.460032e+08</td>\n",
              "      <td>9.745248</td>\n",
              "      <td>9.736739</td>\n",
              "      <td>0.428198</td>\n",
              "    </tr>\n",
              "    <tr>\n",
              "      <th>min</th>\n",
              "      <td>2017.000000</td>\n",
              "      <td>10.020000</td>\n",
              "      <td>-3.000000</td>\n",
              "      <td>5.400000e+07</td>\n",
              "      <td>1961.000000</td>\n",
              "      <td>-1.000000</td>\n",
              "      <td>0.000000</td>\n",
              "    </tr>\n",
              "    <tr>\n",
              "      <th>25%</th>\n",
              "      <td>2017.000000</td>\n",
              "      <td>59.730000</td>\n",
              "      <td>4.000000</td>\n",
              "      <td>4.100000e+08</td>\n",
              "      <td>1993.000000</td>\n",
              "      <td>12.000000</td>\n",
              "      <td>0.000000</td>\n",
              "    </tr>\n",
              "    <tr>\n",
              "      <th>50%</th>\n",
              "      <td>2019.000000</td>\n",
              "      <td>83.690000</td>\n",
              "      <td>8.000000</td>\n",
              "      <td>6.000000e+08</td>\n",
              "      <td>2001.000000</td>\n",
              "      <td>18.000000</td>\n",
              "      <td>0.000000</td>\n",
              "    </tr>\n",
              "    <tr>\n",
              "      <th>75%</th>\n",
              "      <td>2020.000000</td>\n",
              "      <td>84.970000</td>\n",
              "      <td>13.000000</td>\n",
              "      <td>8.990000e+08</td>\n",
              "      <td>2007.000000</td>\n",
              "      <td>25.000000</td>\n",
              "      <td>0.000000</td>\n",
              "    </tr>\n",
              "    <tr>\n",
              "      <th>max</th>\n",
              "      <td>2021.000000</td>\n",
              "      <td>395.060000</td>\n",
              "      <td>69.000000</td>\n",
              "      <td>1.150000e+10</td>\n",
              "      <td>2021.000000</td>\n",
              "      <td>60.000000</td>\n",
              "      <td>1.000000</td>\n",
              "    </tr>\n",
              "  </tbody>\n",
              "</table>\n",
              "</div>"
            ],
            "text/plain": [
              "         report_year           size  ...          years  is_high_price\n",
              "count  384119.000000  384119.000000  ...  384119.000000  384119.000000\n",
              "mean     2018.680974      78.109188  ...      18.594855       0.241839\n",
              "std         1.350430      30.502753  ...       9.736739       0.428198\n",
              "min      2017.000000      10.020000  ...      -1.000000       0.000000\n",
              "25%      2017.000000      59.730000  ...      12.000000       0.000000\n",
              "50%      2019.000000      83.690000  ...      18.000000       0.000000\n",
              "75%      2020.000000      84.970000  ...      25.000000       0.000000\n",
              "max      2021.000000     395.060000  ...      60.000000       1.000000\n",
              "\n",
              "[8 rows x 7 columns]"
            ]
          },
          "metadata": {},
          "execution_count": 474
        }
      ]
    },
    {
      "cell_type": "code",
      "metadata": {
        "colab": {
          "base_uri": "https://localhost:8080/",
          "height": 295
        },
        "id": "TdoYu_25TdSb",
        "outputId": "dae6003a-e7c4-4273-ba32-fc75fb44b78a"
      },
      "source": [
        "# 아파트의 층수가 음수인 경우는 지하주차장뿐이므로 층정보가 0 이하인 데이터 제거\n",
        "df = df[df.floor > 0]\n",
        "df.describe()"
      ],
      "execution_count": 475,
      "outputs": [
        {
          "output_type": "execute_result",
          "data": {
            "text/html": [
              "<div>\n",
              "<style scoped>\n",
              "    .dataframe tbody tr th:only-of-type {\n",
              "        vertical-align: middle;\n",
              "    }\n",
              "\n",
              "    .dataframe tbody tr th {\n",
              "        vertical-align: top;\n",
              "    }\n",
              "\n",
              "    .dataframe thead th {\n",
              "        text-align: right;\n",
              "    }\n",
              "</style>\n",
              "<table border=\"1\" class=\"dataframe\">\n",
              "  <thead>\n",
              "    <tr style=\"text-align: right;\">\n",
              "      <th></th>\n",
              "      <th>report_year</th>\n",
              "      <th>size</th>\n",
              "      <th>floor</th>\n",
              "      <th>price</th>\n",
              "      <th>built_year</th>\n",
              "      <th>years</th>\n",
              "      <th>is_high_price</th>\n",
              "    </tr>\n",
              "  </thead>\n",
              "  <tbody>\n",
              "    <tr>\n",
              "      <th>count</th>\n",
              "      <td>384025.000000</td>\n",
              "      <td>384025.000000</td>\n",
              "      <td>384025.000000</td>\n",
              "      <td>3.840250e+05</td>\n",
              "      <td>384025.000000</td>\n",
              "      <td>384025.000000</td>\n",
              "      <td>384025.00000</td>\n",
              "    </tr>\n",
              "    <tr>\n",
              "      <th>mean</th>\n",
              "      <td>2018.680857</td>\n",
              "      <td>78.102637</td>\n",
              "      <td>9.128606</td>\n",
              "      <td>7.520291e+08</td>\n",
              "      <td>2000.085588</td>\n",
              "      <td>18.595269</td>\n",
              "      <td>0.24181</td>\n",
              "    </tr>\n",
              "    <tr>\n",
              "      <th>std</th>\n",
              "      <td>1.350412</td>\n",
              "      <td>30.485755</td>\n",
              "      <td>6.162227</td>\n",
              "      <td>5.450589e+08</td>\n",
              "      <td>9.743535</td>\n",
              "      <td>9.735078</td>\n",
              "      <td>0.42818</td>\n",
              "    </tr>\n",
              "    <tr>\n",
              "      <th>min</th>\n",
              "      <td>2017.000000</td>\n",
              "      <td>10.156000</td>\n",
              "      <td>1.000000</td>\n",
              "      <td>5.400000e+07</td>\n",
              "      <td>1961.000000</td>\n",
              "      <td>-1.000000</td>\n",
              "      <td>0.00000</td>\n",
              "    </tr>\n",
              "    <tr>\n",
              "      <th>25%</th>\n",
              "      <td>2017.000000</td>\n",
              "      <td>59.730000</td>\n",
              "      <td>4.000000</td>\n",
              "      <td>4.100000e+08</td>\n",
              "      <td>1993.000000</td>\n",
              "      <td>12.000000</td>\n",
              "      <td>0.00000</td>\n",
              "    </tr>\n",
              "    <tr>\n",
              "      <th>50%</th>\n",
              "      <td>2019.000000</td>\n",
              "      <td>83.690000</td>\n",
              "      <td>8.000000</td>\n",
              "      <td>6.000000e+08</td>\n",
              "      <td>2001.000000</td>\n",
              "      <td>18.000000</td>\n",
              "      <td>0.00000</td>\n",
              "    </tr>\n",
              "    <tr>\n",
              "      <th>75%</th>\n",
              "      <td>2020.000000</td>\n",
              "      <td>84.970000</td>\n",
              "      <td>13.000000</td>\n",
              "      <td>8.990000e+08</td>\n",
              "      <td>2007.000000</td>\n",
              "      <td>25.000000</td>\n",
              "      <td>0.00000</td>\n",
              "    </tr>\n",
              "    <tr>\n",
              "      <th>max</th>\n",
              "      <td>2021.000000</td>\n",
              "      <td>395.060000</td>\n",
              "      <td>69.000000</td>\n",
              "      <td>1.150000e+10</td>\n",
              "      <td>2021.000000</td>\n",
              "      <td>60.000000</td>\n",
              "      <td>1.00000</td>\n",
              "    </tr>\n",
              "  </tbody>\n",
              "</table>\n",
              "</div>"
            ],
            "text/plain": [
              "         report_year           size  ...          years  is_high_price\n",
              "count  384025.000000  384025.000000  ...  384025.000000   384025.00000\n",
              "mean     2018.680857      78.102637  ...      18.595269        0.24181\n",
              "std         1.350412      30.485755  ...       9.735078        0.42818\n",
              "min      2017.000000      10.156000  ...      -1.000000        0.00000\n",
              "25%      2017.000000      59.730000  ...      12.000000        0.00000\n",
              "50%      2019.000000      83.690000  ...      18.000000        0.00000\n",
              "75%      2020.000000      84.970000  ...      25.000000        0.00000\n",
              "max      2021.000000     395.060000  ...      60.000000        1.00000\n",
              "\n",
              "[8 rows x 7 columns]"
            ]
          },
          "metadata": {},
          "execution_count": 475
        }
      ]
    },
    {
      "cell_type": "code",
      "metadata": {
        "colab": {
          "base_uri": "https://localhost:8080/",
          "height": 295
        },
        "id": "N5ax54VyeFMg",
        "outputId": "62994227-ae43-4086-c582-1d449581846d"
      },
      "source": [
        "# 연식이 음수인 경우가 있다. 건축이 끝나기 몇 년 전에 거래를 한 경우일까?\n",
        "# 불가능한 경우는 아니겠지만, 그렇다고 흔한 경우는 아니라고 판단함\n",
        "# 이 경우에 해당하는 데이터는 소수이므로 제거함\n",
        "df = df[df.years >= 0]\n",
        "df.describe()"
      ],
      "execution_count": 476,
      "outputs": [
        {
          "output_type": "execute_result",
          "data": {
            "text/html": [
              "<div>\n",
              "<style scoped>\n",
              "    .dataframe tbody tr th:only-of-type {\n",
              "        vertical-align: middle;\n",
              "    }\n",
              "\n",
              "    .dataframe tbody tr th {\n",
              "        vertical-align: top;\n",
              "    }\n",
              "\n",
              "    .dataframe thead th {\n",
              "        text-align: right;\n",
              "    }\n",
              "</style>\n",
              "<table border=\"1\" class=\"dataframe\">\n",
              "  <thead>\n",
              "    <tr style=\"text-align: right;\">\n",
              "      <th></th>\n",
              "      <th>report_year</th>\n",
              "      <th>size</th>\n",
              "      <th>floor</th>\n",
              "      <th>price</th>\n",
              "      <th>built_year</th>\n",
              "      <th>years</th>\n",
              "      <th>is_high_price</th>\n",
              "    </tr>\n",
              "  </thead>\n",
              "  <tbody>\n",
              "    <tr>\n",
              "      <th>count</th>\n",
              "      <td>383978.000000</td>\n",
              "      <td>383978.000000</td>\n",
              "      <td>383978.000000</td>\n",
              "      <td>3.839780e+05</td>\n",
              "      <td>383978.000000</td>\n",
              "      <td>383978.000000</td>\n",
              "      <td>383978.000000</td>\n",
              "    </tr>\n",
              "    <tr>\n",
              "      <th>mean</th>\n",
              "      <td>2018.680984</td>\n",
              "      <td>78.105325</td>\n",
              "      <td>9.128539</td>\n",
              "      <td>7.520739e+08</td>\n",
              "      <td>2000.083317</td>\n",
              "      <td>18.597667</td>\n",
              "      <td>0.241839</td>\n",
              "    </tr>\n",
              "    <tr>\n",
              "      <th>std</th>\n",
              "      <td>1.350406</td>\n",
              "      <td>30.484309</td>\n",
              "      <td>6.162324</td>\n",
              "      <td>5.450716e+08</td>\n",
              "      <td>9.741963</td>\n",
              "      <td>9.733259</td>\n",
              "      <td>0.428198</td>\n",
              "    </tr>\n",
              "    <tr>\n",
              "      <th>min</th>\n",
              "      <td>2017.000000</td>\n",
              "      <td>10.156000</td>\n",
              "      <td>1.000000</td>\n",
              "      <td>5.400000e+07</td>\n",
              "      <td>1961.000000</td>\n",
              "      <td>0.000000</td>\n",
              "      <td>0.000000</td>\n",
              "    </tr>\n",
              "    <tr>\n",
              "      <th>25%</th>\n",
              "      <td>2017.000000</td>\n",
              "      <td>59.730000</td>\n",
              "      <td>4.000000</td>\n",
              "      <td>4.100000e+08</td>\n",
              "      <td>1993.000000</td>\n",
              "      <td>12.000000</td>\n",
              "      <td>0.000000</td>\n",
              "    </tr>\n",
              "    <tr>\n",
              "      <th>50%</th>\n",
              "      <td>2019.000000</td>\n",
              "      <td>83.690000</td>\n",
              "      <td>8.000000</td>\n",
              "      <td>6.000000e+08</td>\n",
              "      <td>2001.000000</td>\n",
              "      <td>18.000000</td>\n",
              "      <td>0.000000</td>\n",
              "    </tr>\n",
              "    <tr>\n",
              "      <th>75%</th>\n",
              "      <td>2020.000000</td>\n",
              "      <td>84.970000</td>\n",
              "      <td>13.000000</td>\n",
              "      <td>8.990000e+08</td>\n",
              "      <td>2007.000000</td>\n",
              "      <td>25.000000</td>\n",
              "      <td>0.000000</td>\n",
              "    </tr>\n",
              "    <tr>\n",
              "      <th>max</th>\n",
              "      <td>2021.000000</td>\n",
              "      <td>395.060000</td>\n",
              "      <td>69.000000</td>\n",
              "      <td>1.150000e+10</td>\n",
              "      <td>2021.000000</td>\n",
              "      <td>60.000000</td>\n",
              "      <td>1.000000</td>\n",
              "    </tr>\n",
              "  </tbody>\n",
              "</table>\n",
              "</div>"
            ],
            "text/plain": [
              "         report_year           size  ...          years  is_high_price\n",
              "count  383978.000000  383978.000000  ...  383978.000000  383978.000000\n",
              "mean     2018.680984      78.105325  ...      18.597667       0.241839\n",
              "std         1.350406      30.484309  ...       9.733259       0.428198\n",
              "min      2017.000000      10.156000  ...       0.000000       0.000000\n",
              "25%      2017.000000      59.730000  ...      12.000000       0.000000\n",
              "50%      2019.000000      83.690000  ...      18.000000       0.000000\n",
              "75%      2020.000000      84.970000  ...      25.000000       0.000000\n",
              "max      2021.000000     395.060000  ...      60.000000       1.000000\n",
              "\n",
              "[8 rows x 7 columns]"
            ]
          },
          "metadata": {},
          "execution_count": 476
        }
      ]
    },
    {
      "cell_type": "code",
      "metadata": {
        "colab": {
          "base_uri": "https://localhost:8080/",
          "height": 334
        },
        "id": "S_ISx1BBScNc",
        "outputId": "ff4140bc-7095-4be4-bb6f-90d4501924d8"
      },
      "source": [
        "# 연속적인 수치형 컬럼인 건물면적과 물건금액(타겟)에 대해서 분포 확인해보기\n",
        "col_list = ['size', 'price']\n",
        "\n",
        "def checkOutlier(df, cols):\n",
        "  fig, axes = plt.subplots(1, 2, figsize=(16, 5))\n",
        "  for i, col in enumerate(col_list):\n",
        "    sns.boxplot(x=col, data=df, ax=axes[i])\n",
        "\n",
        "checkOutlier(df, col_list)"
      ],
      "execution_count": 477,
      "outputs": [
        {
          "output_type": "display_data",
          "data": {
            "image/png": "[encoded data removed]",
            "text/plain": [
              "<Figure size 1152x360 with 2 Axes>"
            ]
          },
          "metadata": {
            "needs_background": "light"
          }
        }
      ]
    },
    {
      "cell_type": "code",
      "metadata": {
        "colab": {
          "base_uri": "https://localhost:8080/",
          "height": 612
        },
        "id": "F3qfE7CnUG-c",
        "outputId": "9ed3efb6-2ece-42b3-d0a3-defac898f8d6"
      },
      "source": [
        "# 건물면적(size) 300을 초과하는 값들이 극소수 존재하므로 제거\n",
        "# 또한 최소값이 10제곱미터(약 3평)으로 나오는데, 2011년 개정된 주택법 기준 1인당 최소 주거면적은 14제곱미터이다. 따라서 14 미만의 값 제거\n",
        "# df = df[(df['size'] <= 300) & (df['size'] >= 14)]\n",
        "df = df[(df['size'] < np.percentile(df['size'], 99)) & (df['size'] >np.percentile(df['size'], 1))] # 상하 1%씩 제거\n",
        "\n",
        "checkOutlier(df, col_list)\n",
        "df.describe()"
      ],
      "execution_count": 478,
      "outputs": [
        {
          "output_type": "execute_result",
          "data": {
            "text/html": [
              "<div>\n",
              "<style scoped>\n",
              "    .dataframe tbody tr th:only-of-type {\n",
              "        vertical-align: middle;\n",
              "    }\n",
              "\n",
              "    .dataframe tbody tr th {\n",
              "        vertical-align: top;\n",
              "    }\n",
              "\n",
              "    .dataframe thead th {\n",
              "        text-align: right;\n",
              "    }\n",
              "</style>\n",
              "<table border=\"1\" class=\"dataframe\">\n",
              "  <thead>\n",
              "    <tr style=\"text-align: right;\">\n",
              "      <th></th>\n",
              "      <th>report_year</th>\n",
              "      <th>size</th>\n",
              "      <th>floor</th>\n",
              "      <th>price</th>\n",
              "      <th>built_year</th>\n",
              "      <th>years</th>\n",
              "      <th>is_high_price</th>\n",
              "    </tr>\n",
              "  </thead>\n",
              "  <tbody>\n",
              "    <tr>\n",
              "      <th>count</th>\n",
              "      <td>376292.000000</td>\n",
              "      <td>376292.000000</td>\n",
              "      <td>376292.000000</td>\n",
              "      <td>3.762920e+05</td>\n",
              "      <td>376292.000000</td>\n",
              "      <td>376292.000000</td>\n",
              "      <td>376292.000000</td>\n",
              "    </tr>\n",
              "    <tr>\n",
              "      <th>mean</th>\n",
              "      <td>2018.675396</td>\n",
              "      <td>77.440978</td>\n",
              "      <td>9.108179</td>\n",
              "      <td>7.393733e+08</td>\n",
              "      <td>1999.931006</td>\n",
              "      <td>18.744390</td>\n",
              "      <td>0.237071</td>\n",
              "    </tr>\n",
              "    <tr>\n",
              "      <th>std</th>\n",
              "      <td>1.348699</td>\n",
              "      <td>26.961035</td>\n",
              "      <td>6.117134</td>\n",
              "      <td>4.934645e+08</td>\n",
              "      <td>9.672047</td>\n",
              "      <td>9.670277</td>\n",
              "      <td>0.425287</td>\n",
              "    </tr>\n",
              "    <tr>\n",
              "      <th>min</th>\n",
              "      <td>2017.000000</td>\n",
              "      <td>14.495000</td>\n",
              "      <td>1.000000</td>\n",
              "      <td>5.400000e+07</td>\n",
              "      <td>1961.000000</td>\n",
              "      <td>0.000000</td>\n",
              "      <td>0.000000</td>\n",
              "    </tr>\n",
              "    <tr>\n",
              "      <th>25%</th>\n",
              "      <td>2017.000000</td>\n",
              "      <td>59.760000</td>\n",
              "      <td>4.000000</td>\n",
              "      <td>4.160000e+08</td>\n",
              "      <td>1993.000000</td>\n",
              "      <td>12.000000</td>\n",
              "      <td>0.000000</td>\n",
              "    </tr>\n",
              "    <tr>\n",
              "      <th>50%</th>\n",
              "      <td>2019.000000</td>\n",
              "      <td>83.690000</td>\n",
              "      <td>8.000000</td>\n",
              "      <td>6.000000e+08</td>\n",
              "      <td>2000.000000</td>\n",
              "      <td>18.000000</td>\n",
              "      <td>0.000000</td>\n",
              "    </tr>\n",
              "    <tr>\n",
              "      <th>75%</th>\n",
              "      <td>2020.000000</td>\n",
              "      <td>84.970000</td>\n",
              "      <td>13.000000</td>\n",
              "      <td>8.950000e+08</td>\n",
              "      <td>2006.000000</td>\n",
              "      <td>25.000000</td>\n",
              "      <td>0.000000</td>\n",
              "    </tr>\n",
              "    <tr>\n",
              "      <th>max</th>\n",
              "      <td>2021.000000</td>\n",
              "      <td>176.560000</td>\n",
              "      <td>69.000000</td>\n",
              "      <td>6.300000e+09</td>\n",
              "      <td>2021.000000</td>\n",
              "      <td>60.000000</td>\n",
              "      <td>1.000000</td>\n",
              "    </tr>\n",
              "  </tbody>\n",
              "</table>\n",
              "</div>"
            ],
            "text/plain": [
              "         report_year           size  ...          years  is_high_price\n",
              "count  376292.000000  376292.000000  ...  376292.000000  376292.000000\n",
              "mean     2018.675396      77.440978  ...      18.744390       0.237071\n",
              "std         1.348699      26.961035  ...       9.670277       0.425287\n",
              "min      2017.000000      14.495000  ...       0.000000       0.000000\n",
              "25%      2017.000000      59.760000  ...      12.000000       0.000000\n",
              "50%      2019.000000      83.690000  ...      18.000000       0.000000\n",
              "75%      2020.000000      84.970000  ...      25.000000       0.000000\n",
              "max      2021.000000     176.560000  ...      60.000000       1.000000\n",
              "\n",
              "[8 rows x 7 columns]"
            ]
          },
          "metadata": {},
          "execution_count": 478
        },
        {
          "output_type": "display_data",
          "data": {
            "image/png": "[encoded data removed]",
            "text/plain": [
              "<Figure size 1152x360 with 2 Axes>"
            ]
          },
          "metadata": {
            "needs_background": "light"
          }
        }
      ]
    },
    {
      "cell_type": "code",
      "metadata": {
        "colab": {
          "base_uri": "https://localhost:8080/",
          "height": 612
        },
        "id": "1MsMlPzwf5S8",
        "outputId": "ccb8b3b2-02d8-43df-f444-a6aa0d94ae32"
      },
      "source": [
        "# 물건금액(price) 9000000000(90억)을 초과하는 데이터는 극소수이므로 제거\n",
        "# df = df[df.price < 9000000000]\n",
        "df = df[(df.price < np.percentile(df.price, 99)) & (df.price > np.percentile(df.price, 1))] # 상하 1% 제거\n",
        "\n",
        "checkOutlier(df, col_list)\n",
        "df.describe()"
      ],
      "execution_count": 479,
      "outputs": [
        {
          "output_type": "execute_result",
          "data": {
            "text/html": [
              "<div>\n",
              "<style scoped>\n",
              "    .dataframe tbody tr th:only-of-type {\n",
              "        vertical-align: middle;\n",
              "    }\n",
              "\n",
              "    .dataframe tbody tr th {\n",
              "        vertical-align: top;\n",
              "    }\n",
              "\n",
              "    .dataframe thead th {\n",
              "        text-align: right;\n",
              "    }\n",
              "</style>\n",
              "<table border=\"1\" class=\"dataframe\">\n",
              "  <thead>\n",
              "    <tr style=\"text-align: right;\">\n",
              "      <th></th>\n",
              "      <th>report_year</th>\n",
              "      <th>size</th>\n",
              "      <th>floor</th>\n",
              "      <th>price</th>\n",
              "      <th>built_year</th>\n",
              "      <th>years</th>\n",
              "      <th>is_high_price</th>\n",
              "    </tr>\n",
              "  </thead>\n",
              "  <tbody>\n",
              "    <tr>\n",
              "      <th>count</th>\n",
              "      <td>368681.000000</td>\n",
              "      <td>368681.000000</td>\n",
              "      <td>368681.000000</td>\n",
              "      <td>3.686810e+05</td>\n",
              "      <td>368681.000000</td>\n",
              "      <td>368681.000000</td>\n",
              "      <td>368681.000000</td>\n",
              "    </tr>\n",
              "    <tr>\n",
              "      <th>mean</th>\n",
              "      <td>2018.663628</td>\n",
              "      <td>77.487756</td>\n",
              "      <td>9.087859</td>\n",
              "      <td>7.210654e+08</td>\n",
              "      <td>1999.880531</td>\n",
              "      <td>18.783097</td>\n",
              "      <td>0.231664</td>\n",
              "    </tr>\n",
              "    <tr>\n",
              "      <th>std</th>\n",
              "      <td>1.345566</td>\n",
              "      <td>26.025850</td>\n",
              "      <td>6.055382</td>\n",
              "      <td>4.273172e+08</td>\n",
              "      <td>9.528356</td>\n",
              "      <td>9.528667</td>\n",
              "      <td>0.421896</td>\n",
              "    </tr>\n",
              "    <tr>\n",
              "      <th>min</th>\n",
              "      <td>2017.000000</td>\n",
              "      <td>14.520000</td>\n",
              "      <td>1.000000</td>\n",
              "      <td>1.535000e+08</td>\n",
              "      <td>1961.000000</td>\n",
              "      <td>0.000000</td>\n",
              "      <td>0.000000</td>\n",
              "    </tr>\n",
              "    <tr>\n",
              "      <th>25%</th>\n",
              "      <td>2017.000000</td>\n",
              "      <td>59.760000</td>\n",
              "      <td>4.000000</td>\n",
              "      <td>4.200000e+08</td>\n",
              "      <td>1993.000000</td>\n",
              "      <td>12.000000</td>\n",
              "      <td>0.000000</td>\n",
              "    </tr>\n",
              "    <tr>\n",
              "      <th>50%</th>\n",
              "      <td>2019.000000</td>\n",
              "      <td>83.710000</td>\n",
              "      <td>8.000000</td>\n",
              "      <td>6.000000e+08</td>\n",
              "      <td>2000.000000</td>\n",
              "      <td>18.000000</td>\n",
              "      <td>0.000000</td>\n",
              "    </tr>\n",
              "    <tr>\n",
              "      <th>75%</th>\n",
              "      <td>2020.000000</td>\n",
              "      <td>84.970000</td>\n",
              "      <td>13.000000</td>\n",
              "      <td>8.900000e+08</td>\n",
              "      <td>2006.000000</td>\n",
              "      <td>25.000000</td>\n",
              "      <td>0.000000</td>\n",
              "    </tr>\n",
              "    <tr>\n",
              "      <th>max</th>\n",
              "      <td>2021.000000</td>\n",
              "      <td>176.560000</td>\n",
              "      <td>69.000000</td>\n",
              "      <td>2.599980e+09</td>\n",
              "      <td>2021.000000</td>\n",
              "      <td>60.000000</td>\n",
              "      <td>1.000000</td>\n",
              "    </tr>\n",
              "  </tbody>\n",
              "</table>\n",
              "</div>"
            ],
            "text/plain": [
              "         report_year           size  ...          years  is_high_price\n",
              "count  368681.000000  368681.000000  ...  368681.000000  368681.000000\n",
              "mean     2018.663628      77.487756  ...      18.783097       0.231664\n",
              "std         1.345566      26.025850  ...       9.528667       0.421896\n",
              "min      2017.000000      14.520000  ...       0.000000       0.000000\n",
              "25%      2017.000000      59.760000  ...      12.000000       0.000000\n",
              "50%      2019.000000      83.710000  ...      18.000000       0.000000\n",
              "75%      2020.000000      84.970000  ...      25.000000       0.000000\n",
              "max      2021.000000     176.560000  ...      60.000000       1.000000\n",
              "\n",
              "[8 rows x 7 columns]"
            ]
          },
          "metadata": {},
          "execution_count": 479
        },
        {
          "output_type": "display_data",
          "data": {
            "image/png": "[encoded data removed]",
            "text/plain": [
              "<Figure size 1152x360 with 2 Axes>"
            ]
          },
          "metadata": {
            "needs_background": "light"
          }
        }
      ]
    },
    {
      "cell_type": "code",
      "metadata": {
        "id": "Tj1N27EWylRe"
      },
      "source": [
        "# 지번코드 자릿수가 19가 아닌 것을 제거\n",
        "df = df[df['addr_code'].map(str).apply(len) == 19]"
      ],
      "execution_count": 481,
      "outputs": []
    },
    {
      "cell_type": "code",
      "metadata": {
        "colab": {
          "base_uri": "https://localhost:8080/",
          "height": 49
        },
        "id": "lxgIyI6Gyvnj",
        "outputId": "e3da0b08-04cc-44dd-bde7-80685cd58296"
      },
      "source": [
        "df[df['addr_code'].map(str).apply(len) != 19]"
      ],
      "execution_count": 482,
      "outputs": [
        {
          "output_type": "execute_result",
          "data": {
            "text/html": [
              "<div>\n",
              "<style scoped>\n",
              "    .dataframe tbody tr th:only-of-type {\n",
              "        vertical-align: middle;\n",
              "    }\n",
              "\n",
              "    .dataframe tbody tr th {\n",
              "        vertical-align: top;\n",
              "    }\n",
              "\n",
              "    .dataframe thead th {\n",
              "        text-align: right;\n",
              "    }\n",
              "</style>\n",
              "<table border=\"1\" class=\"dataframe\">\n",
              "  <thead>\n",
              "    <tr style=\"text-align: right;\">\n",
              "      <th></th>\n",
              "      <th>addr_code</th>\n",
              "      <th>city_name</th>\n",
              "      <th>area_name</th>\n",
              "      <th>report_year</th>\n",
              "      <th>size</th>\n",
              "      <th>floor</th>\n",
              "      <th>price</th>\n",
              "      <th>built_year</th>\n",
              "      <th>years</th>\n",
              "      <th>size_grade</th>\n",
              "      <th>is_high_price</th>\n",
              "    </tr>\n",
              "  </thead>\n",
              "  <tbody>\n",
              "  </tbody>\n",
              "</table>\n",
              "</div>"
            ],
            "text/plain": [
              "Empty DataFrame\n",
              "Columns: [addr_code, city_name, area_name, report_year, size, floor, price, built_year, years, size_grade, is_high_price]\n",
              "Index: []"
            ]
          },
          "metadata": {},
          "execution_count": 482
        }
      ]
    },
    {
      "cell_type": "code",
      "metadata": {
        "colab": {
          "base_uri": "https://localhost:8080/",
          "height": 203
        },
        "id": "9lL9K7ONWXhK",
        "outputId": "ddcb25d4-386d-44f5-eae9-99071ed055eb"
      },
      "source": [
        "# 인덱스 재정렬\n",
        "df = df.sort_values(by='report_year', ascending=True).reset_index(drop=True)\n",
        "\n",
        "df.head()"
      ],
      "execution_count": 483,
      "outputs": [
        {
          "output_type": "execute_result",
          "data": {
            "text/html": [
              "<div>\n",
              "<style scoped>\n",
              "    .dataframe tbody tr th:only-of-type {\n",
              "        vertical-align: middle;\n",
              "    }\n",
              "\n",
              "    .dataframe tbody tr th {\n",
              "        vertical-align: top;\n",
              "    }\n",
              "\n",
              "    .dataframe thead th {\n",
              "        text-align: right;\n",
              "    }\n",
              "</style>\n",
              "<table border=\"1\" class=\"dataframe\">\n",
              "  <thead>\n",
              "    <tr style=\"text-align: right;\">\n",
              "      <th></th>\n",
              "      <th>addr_code</th>\n",
              "      <th>city_name</th>\n",
              "      <th>area_name</th>\n",
              "      <th>report_year</th>\n",
              "      <th>size</th>\n",
              "      <th>floor</th>\n",
              "      <th>price</th>\n",
              "      <th>built_year</th>\n",
              "      <th>years</th>\n",
              "      <th>size_grade</th>\n",
              "      <th>is_high_price</th>\n",
              "    </tr>\n",
              "  </thead>\n",
              "  <tbody>\n",
              "    <tr>\n",
              "      <th>0</th>\n",
              "      <td>1165010800113120003</td>\n",
              "      <td>서초구</td>\n",
              "      <td>서초동</td>\n",
              "      <td>2017</td>\n",
              "      <td>84.98</td>\n",
              "      <td>6</td>\n",
              "      <td>1180000000</td>\n",
              "      <td>2006</td>\n",
              "      <td>11</td>\n",
              "      <td>M</td>\n",
              "      <td>1</td>\n",
              "    </tr>\n",
              "    <tr>\n",
              "      <th>1</th>\n",
              "      <td>1174010800105940000</td>\n",
              "      <td>강동구</td>\n",
              "      <td>성내동</td>\n",
              "      <td>2017</td>\n",
              "      <td>84.91</td>\n",
              "      <td>6</td>\n",
              "      <td>500000000</td>\n",
              "      <td>2002</td>\n",
              "      <td>15</td>\n",
              "      <td>M</td>\n",
              "      <td>0</td>\n",
              "    </tr>\n",
              "    <tr>\n",
              "      <th>2</th>\n",
              "      <td>1174010100103550000</td>\n",
              "      <td>강동구</td>\n",
              "      <td>명일동</td>\n",
              "      <td>2017</td>\n",
              "      <td>84.76</td>\n",
              "      <td>5</td>\n",
              "      <td>395000000</td>\n",
              "      <td>2004</td>\n",
              "      <td>13</td>\n",
              "      <td>M</td>\n",
              "      <td>0</td>\n",
              "    </tr>\n",
              "    <tr>\n",
              "      <th>3</th>\n",
              "      <td>1174010600101740001</td>\n",
              "      <td>강동구</td>\n",
              "      <td>둔촌동</td>\n",
              "      <td>2017</td>\n",
              "      <td>88.26</td>\n",
              "      <td>4</td>\n",
              "      <td>1015000000</td>\n",
              "      <td>1980</td>\n",
              "      <td>37</td>\n",
              "      <td>L</td>\n",
              "      <td>1</td>\n",
              "    </tr>\n",
              "    <tr>\n",
              "      <th>4</th>\n",
              "      <td>1174010900105640000</td>\n",
              "      <td>강동구</td>\n",
              "      <td>천호동</td>\n",
              "      <td>2017</td>\n",
              "      <td>83.15</td>\n",
              "      <td>13</td>\n",
              "      <td>378000000</td>\n",
              "      <td>1998</td>\n",
              "      <td>19</td>\n",
              "      <td>M</td>\n",
              "      <td>0</td>\n",
              "    </tr>\n",
              "  </tbody>\n",
              "</table>\n",
              "</div>"
            ],
            "text/plain": [
              "             addr_code city_name area_name  ...  years  size_grade  is_high_price\n",
              "0  1165010800113120003       서초구       서초동  ...     11           M              1\n",
              "1  1174010800105940000       강동구       성내동  ...     15           M              0\n",
              "2  1174010100103550000       강동구       명일동  ...     13           M              0\n",
              "3  1174010600101740001       강동구       둔촌동  ...     37           L              1\n",
              "4  1174010900105640000       강동구       천호동  ...     19           M              0\n",
              "\n",
              "[5 rows x 11 columns]"
            ]
          },
          "metadata": {},
          "execution_count": 483
        }
      ]
    },
    {
      "cell_type": "markdown",
      "metadata": {
        "id": "UOy61seezb-v"
      },
      "source": [
        "## 5) 범주형으로 간주할 컬럼 선정 후 형변환"
      ]
    },
    {
      "cell_type": "code",
      "metadata": {
        "id": "h4dAEyImzrRQ"
      },
      "source": [
        "# 신고년도, 층수, 건축년도는 범주형으로 간주하여 형변환\n",
        "# 연속적인 수치형이 아님\n",
        "# 각 년도 및 층수에 따라 어떤 차이가 있는지 구분하기 위함(인코딩 사용)\n",
        "# df[['report_year', 'floor', 'built_year']] = df[['report_year', 'floor', 'built_year']].astype(str)"
      ],
      "execution_count": 406,
      "outputs": []
    },
    {
      "cell_type": "code",
      "metadata": {
        "colab": {
          "base_uri": "https://localhost:8080/"
        },
        "id": "etfyUV180EPd",
        "outputId": "a68532ea-b718-4ff7-d3cf-ba37dacc1441"
      },
      "source": [
        "df.dtypes"
      ],
      "execution_count": 484,
      "outputs": [
        {
          "output_type": "execute_result",
          "data": {
            "text/plain": [
              "addr_code         object\n",
              "city_name         object\n",
              "area_name         object\n",
              "report_year        int64\n",
              "size             float64\n",
              "floor              int64\n",
              "price              int64\n",
              "built_year         int64\n",
              "years              int64\n",
              "size_grade        object\n",
              "is_high_price      int64\n",
              "dtype: object"
            ]
          },
          "metadata": {},
          "execution_count": 484
        }
      ]
    },
    {
      "cell_type": "markdown",
      "metadata": {
        "id": "SaW-4Ss3YKOa"
      },
      "source": [
        "## 6) 베이스라인 모델 시각화 및 기준 성능 확인"
      ]
    },
    {
      "cell_type": "markdown",
      "metadata": {
        "id": "WgxctT81YMw6"
      },
      "source": [
        "회귀 문제 해결을 위한 베이스라인 모델로 물건금액(price)의 평균값과 중위값 확인\n",
        "\n",
        "분류 문제 해결을 위한 베이스라인 모델로 고가주택 여부(is_high_price)의 클래스 비율 확인\n",
        "\n",
        "이후 각각의 베이스라인 모델에 적합한 평가지표의 값 확인해보기"
      ]
    },
    {
      "cell_type": "code",
      "metadata": {
        "colab": {
          "base_uri": "https://localhost:8080/",
          "height": 265
        },
        "id": "JZpjgP4cYal1",
        "outputId": "1b9d504b-3e34-4a70-bcfe-41626bf9b25d"
      },
      "source": [
        "# 특성과 타겟(price)의 상관관계 보기\n",
        "df.corr()"
      ],
      "execution_count": 485,
      "outputs": [
        {
          "output_type": "execute_result",
          "data": {
            "text/html": [
              "<div>\n",
              "<style scoped>\n",
              "    .dataframe tbody tr th:only-of-type {\n",
              "        vertical-align: middle;\n",
              "    }\n",
              "\n",
              "    .dataframe tbody tr th {\n",
              "        vertical-align: top;\n",
              "    }\n",
              "\n",
              "    .dataframe thead th {\n",
              "        text-align: right;\n",
              "    }\n",
              "</style>\n",
              "<table border=\"1\" class=\"dataframe\">\n",
              "  <thead>\n",
              "    <tr style=\"text-align: right;\">\n",
              "      <th></th>\n",
              "      <th>report_year</th>\n",
              "      <th>size</th>\n",
              "      <th>floor</th>\n",
              "      <th>price</th>\n",
              "      <th>built_year</th>\n",
              "      <th>years</th>\n",
              "      <th>is_high_price</th>\n",
              "    </tr>\n",
              "  </thead>\n",
              "  <tbody>\n",
              "    <tr>\n",
              "      <th>report_year</th>\n",
              "      <td>1.000000</td>\n",
              "      <td>-0.078782</td>\n",
              "      <td>-0.006317</td>\n",
              "      <td>0.260802</td>\n",
              "      <td>0.070337</td>\n",
              "      <td>0.070880</td>\n",
              "      <td>0.213283</td>\n",
              "    </tr>\n",
              "    <tr>\n",
              "      <th>size</th>\n",
              "      <td>-0.078782</td>\n",
              "      <td>1.000000</td>\n",
              "      <td>0.110560</td>\n",
              "      <td>0.494603</td>\n",
              "      <td>0.093117</td>\n",
              "      <td>-0.104238</td>\n",
              "      <td>0.362415</td>\n",
              "    </tr>\n",
              "    <tr>\n",
              "      <th>floor</th>\n",
              "      <td>-0.006317</td>\n",
              "      <td>0.110560</td>\n",
              "      <td>1.000000</td>\n",
              "      <td>0.162913</td>\n",
              "      <td>0.180183</td>\n",
              "      <td>-0.181068</td>\n",
              "      <td>0.124460</td>\n",
              "    </tr>\n",
              "    <tr>\n",
              "      <th>price</th>\n",
              "      <td>0.260802</td>\n",
              "      <td>0.494603</td>\n",
              "      <td>0.162913</td>\n",
              "      <td>1.000000</td>\n",
              "      <td>0.084837</td>\n",
              "      <td>-0.048005</td>\n",
              "      <td>0.817549</td>\n",
              "    </tr>\n",
              "    <tr>\n",
              "      <th>built_year</th>\n",
              "      <td>0.070337</td>\n",
              "      <td>0.093117</td>\n",
              "      <td>0.180183</td>\n",
              "      <td>0.084837</td>\n",
              "      <td>1.000000</td>\n",
              "      <td>-0.990029</td>\n",
              "      <td>0.066583</td>\n",
              "    </tr>\n",
              "    <tr>\n",
              "      <th>years</th>\n",
              "      <td>0.070880</td>\n",
              "      <td>-0.104238</td>\n",
              "      <td>-0.181068</td>\n",
              "      <td>-0.048005</td>\n",
              "      <td>-0.990029</td>\n",
              "      <td>1.000000</td>\n",
              "      <td>-0.036462</td>\n",
              "    </tr>\n",
              "    <tr>\n",
              "      <th>is_high_price</th>\n",
              "      <td>0.213283</td>\n",
              "      <td>0.362415</td>\n",
              "      <td>0.124460</td>\n",
              "      <td>0.817549</td>\n",
              "      <td>0.066583</td>\n",
              "      <td>-0.036462</td>\n",
              "      <td>1.000000</td>\n",
              "    </tr>\n",
              "  </tbody>\n",
              "</table>\n",
              "</div>"
            ],
            "text/plain": [
              "               report_year      size  ...     years  is_high_price\n",
              "report_year       1.000000 -0.078782  ...  0.070880       0.213283\n",
              "size             -0.078782  1.000000  ... -0.104238       0.362415\n",
              "floor            -0.006317  0.110560  ... -0.181068       0.124460\n",
              "price             0.260802  0.494603  ... -0.048005       0.817549\n",
              "built_year        0.070337  0.093117  ... -0.990029       0.066583\n",
              "years             0.070880 -0.104238  ...  1.000000      -0.036462\n",
              "is_high_price     0.213283  0.362415  ... -0.036462       1.000000\n",
              "\n",
              "[7 rows x 7 columns]"
            ]
          },
          "metadata": {},
          "execution_count": 485
        }
      ]
    },
    {
      "cell_type": "code",
      "metadata": {
        "colab": {
          "base_uri": "https://localhost:8080/",
          "height": 308
        },
        "id": "4szPzbxjYl_6",
        "outputId": "eb6bb237-51da-4efe-dcab-e2e0a6e700c0"
      },
      "source": [
        "# 가장 상관관계가 높은 size와 타겟(price)의 관계 시각화해보기\n",
        "# is_high_price는 분류 문제를 위한 별도의 타겟이므로 상관 관계 고려 대상 아님\n",
        "baseline_mean = df.price.mean() # 기준 모델 : 타겟(price)의 평균값\n",
        "baseline_median = df.price.median() # 기준 모델 : 타겟(price)의 중위값\n",
        "print(baseline_mean, baseline_median)\n",
        "\n",
        "sns.scatterplot(x='size', y='price', data=df)\n",
        "plt.axhline(baseline_mean, color='red'); # 기준 모델(평균값) 시각화\n",
        "plt.axhline(baseline_median, color='green'); # 기준 모델(중위값) 시각화"
      ],
      "execution_count": 486,
      "outputs": [
        {
          "output_type": "stream",
          "name": "stdout",
          "text": [
            "721039891.5832587 600000000.0\n"
          ]
        },
        {
          "output_type": "display_data",
          "data": {
            "image/png": "[encoded data removed]",
            "text/plain": [
              "<Figure size 432x288 with 1 Axes>"
            ]
          },
          "metadata": {
            "needs_background": "light"
          }
        }
      ]
    },
    {
      "cell_type": "code",
      "metadata": {
        "colab": {
          "base_uri": "https://localhost:8080/",
          "height": 279
        },
        "id": "NhpI0le4aztd",
        "outputId": "f6138760-c6fc-40da-e82a-08aa1cc07f90"
      },
      "source": [
        "# 타겟(price)의 분포 확인해보기\n",
        "sns.histplot(df.price, kde=False);\n",
        "plt.axvline(baseline_mean, color='red'); # 기준 모델(평균값) 시각화\n",
        "plt.axvline(baseline_median, color='green'); # 기준 모델(중위값) 시각화\n",
        "# price는 right-skewed이므로 로그 변환이 필요해보임"
      ],
      "execution_count": 487,
      "outputs": [
        {
          "output_type": "display_data",
          "data": {
            "image/png": "[encoded data removed]",
            "text/plain": [
              "<Figure size 432x288 with 1 Axes>"
            ]
          },
          "metadata": {
            "needs_background": "light"
          }
        }
      ]
    },
    {
      "cell_type": "code",
      "metadata": {
        "colab": {
          "base_uri": "https://localhost:8080/"
        },
        "id": "BTMJCjZQcRnC",
        "outputId": "bec85493-ccfe-41f3-a5ef-14cff237744e"
      },
      "source": [
        "# 기준 성능(회귀)\n",
        "errors_mean = baseline_mean - df.price\n",
        "errors_median = baseline_median - df.price\n",
        "baseline_mean_mae = errors_mean.abs().mean()\n",
        "baseline_median_mae = errors_median.abs().mean()\n",
        "baseline_mean_mae, baseline_median_mae"
      ],
      "execution_count": 488,
      "outputs": [
        {
          "output_type": "execute_result",
          "data": {
            "text/plain": [
              "(321236959.3107223, 306242762.9858681)"
            ]
          },
          "metadata": {},
          "execution_count": 488
        }
      ]
    },
    {
      "cell_type": "code",
      "metadata": {
        "colab": {
          "base_uri": "https://localhost:8080/",
          "height": 333
        },
        "id": "EZnNqcj7cUz-",
        "outputId": "002d4eff-3316-4fd6-857c-5ec13d972fe6"
      },
      "source": [
        "# 타겟(is_high_price)의 클래스 비율 확인해보기 - 기준 성능(분류)\n",
        "sns.countplot(x=df.is_high_price);\n",
        "df.is_high_price.value_counts(normalize=True)\n",
        "# is_high_price는 클래스 비율이 불균형하므로 학습 시 class_weight 관련 설정이 필요"
      ],
      "execution_count": 489,
      "outputs": [
        {
          "output_type": "execute_result",
          "data": {
            "text/plain": [
              "0    0.768359\n",
              "1    0.231641\n",
              "Name: is_high_price, dtype: float64"
            ]
          },
          "metadata": {},
          "execution_count": 489
        },
        {
          "output_type": "display_data",
          "data": {
            "image/png": "[encoded data removed]",
            "text/plain": [
              "<Figure size 432x288 with 1 Axes>"
            ]
          },
          "metadata": {
            "needs_background": "light"
          }
        }
      ]
    },
    {
      "cell_type": "markdown",
      "metadata": {
        "id": "aerxd8yKvvyY"
      },
      "source": [
        "# 4. 머신러닝 방식 적용 및 교차검증"
      ]
    },
    {
      "cell_type": "code",
      "metadata": {
        "id": "drwLBAe4v9g9"
      },
      "source": [
        "# 훈련 / 검증 / 테스트 데이터 셋으로 나누기\n",
        "# 신고년도(report_year) 기준으로 테스트 셋은 2021년, 검증 셋은 2020년, 나머지는 훈련 데이터로 지정\n",
        "test = df[df.report_year.astype(int) == 2021]\n",
        "val = df[df.report_year.astype(int) == 2020]\n",
        "train = df[df.report_year.astype(int) <= 2019]"
      ],
      "execution_count": 493,
      "outputs": []
    },
    {
      "cell_type": "code",
      "metadata": {
        "colab": {
          "base_uri": "https://localhost:8080/"
        },
        "id": "6Rb7bhgzwdqT",
        "outputId": "fe5b1cfb-ee68-44cb-be84-cbbcf33d8b41"
      },
      "source": [
        "train.shape, val.shape, test.shape"
      ],
      "execution_count": 494,
      "outputs": [
        {
          "output_type": "execute_result",
          "data": {
            "text/plain": [
              "((247965, 11), (83748, 11), (36957, 11))"
            ]
          },
          "metadata": {},
          "execution_count": 494
        }
      ]
    },
    {
      "cell_type": "code",
      "metadata": {
        "colab": {
          "base_uri": "https://localhost:8080/",
          "height": 203
        },
        "id": "zpOzff1Ay64u",
        "outputId": "e8abe325-a3c9-4abf-8318-51ded1a542a6"
      },
      "source": [
        "# 특성과 타겟 분리하기\n",
        "target = 'price' # 회귀 문제 타겟\n",
        "target_cl = 'is_high_price' # 분류 문제 타겟\n",
        "targets = [target, target_cl]\n",
        "features = train.drop(columns=targets).columns\n",
        "\n",
        "X_train = train[features]\n",
        "y_train = train[target]\n",
        "y_train_cl = train[target_cl]\n",
        "X_val = val[features]\n",
        "y_val = val[target]\n",
        "y_val_cl = val[target_cl]\n",
        "X_test = test[features]\n",
        "y_test = test[target]\n",
        "y_test_cl = test[target_cl]\n",
        "\n",
        "X_train.head()"
      ],
      "execution_count": 495,
      "outputs": [
        {
          "output_type": "execute_result",
          "data": {
            "text/html": [
              "<div>\n",
              "<style scoped>\n",
              "    .dataframe tbody tr th:only-of-type {\n",
              "        vertical-align: middle;\n",
              "    }\n",
              "\n",
              "    .dataframe tbody tr th {\n",
              "        vertical-align: top;\n",
              "    }\n",
              "\n",
              "    .dataframe thead th {\n",
              "        text-align: right;\n",
              "    }\n",
              "</style>\n",
              "<table border=\"1\" class=\"dataframe\">\n",
              "  <thead>\n",
              "    <tr style=\"text-align: right;\">\n",
              "      <th></th>\n",
              "      <th>addr_code</th>\n",
              "      <th>city_name</th>\n",
              "      <th>area_name</th>\n",
              "      <th>report_year</th>\n",
              "      <th>size</th>\n",
              "      <th>floor</th>\n",
              "      <th>built_year</th>\n",
              "      <th>years</th>\n",
              "      <th>size_grade</th>\n",
              "    </tr>\n",
              "  </thead>\n",
              "  <tbody>\n",
              "    <tr>\n",
              "      <th>0</th>\n",
              "      <td>1165010800113120003</td>\n",
              "      <td>서초구</td>\n",
              "      <td>서초동</td>\n",
              "      <td>2017</td>\n",
              "      <td>84.98</td>\n",
              "      <td>6</td>\n",
              "      <td>2006</td>\n",
              "      <td>11</td>\n",
              "      <td>M</td>\n",
              "    </tr>\n",
              "    <tr>\n",
              "      <th>1</th>\n",
              "      <td>1174010800105940000</td>\n",
              "      <td>강동구</td>\n",
              "      <td>성내동</td>\n",
              "      <td>2017</td>\n",
              "      <td>84.91</td>\n",
              "      <td>6</td>\n",
              "      <td>2002</td>\n",
              "      <td>15</td>\n",
              "      <td>M</td>\n",
              "    </tr>\n",
              "    <tr>\n",
              "      <th>2</th>\n",
              "      <td>1174010100103550000</td>\n",
              "      <td>강동구</td>\n",
              "      <td>명일동</td>\n",
              "      <td>2017</td>\n",
              "      <td>84.76</td>\n",
              "      <td>5</td>\n",
              "      <td>2004</td>\n",
              "      <td>13</td>\n",
              "      <td>M</td>\n",
              "    </tr>\n",
              "    <tr>\n",
              "      <th>3</th>\n",
              "      <td>1174010600101740001</td>\n",
              "      <td>강동구</td>\n",
              "      <td>둔촌동</td>\n",
              "      <td>2017</td>\n",
              "      <td>88.26</td>\n",
              "      <td>4</td>\n",
              "      <td>1980</td>\n",
              "      <td>37</td>\n",
              "      <td>L</td>\n",
              "    </tr>\n",
              "    <tr>\n",
              "      <th>4</th>\n",
              "      <td>1174010900105640000</td>\n",
              "      <td>강동구</td>\n",
              "      <td>천호동</td>\n",
              "      <td>2017</td>\n",
              "      <td>83.15</td>\n",
              "      <td>13</td>\n",
              "      <td>1998</td>\n",
              "      <td>19</td>\n",
              "      <td>M</td>\n",
              "    </tr>\n",
              "  </tbody>\n",
              "</table>\n",
              "</div>"
            ],
            "text/plain": [
              "             addr_code city_name area_name  ...  built_year  years  size_grade\n",
              "0  1165010800113120003       서초구       서초동  ...        2006     11           M\n",
              "1  1174010800105940000       강동구       성내동  ...        2002     15           M\n",
              "2  1174010100103550000       강동구       명일동  ...        2004     13           M\n",
              "3  1174010600101740001       강동구       둔촌동  ...        1980     37           L\n",
              "4  1174010900105640000       강동구       천호동  ...        1998     19           M\n",
              "\n",
              "[5 rows x 9 columns]"
            ]
          },
          "metadata": {},
          "execution_count": 495
        }
      ]
    },
    {
      "cell_type": "code",
      "metadata": {
        "id": "U16aS85t8RMW"
      },
      "source": [
        "eval_set = [(X_train, y_train), \n",
        "            (X_val, y_val)]"
      ],
      "execution_count": 496,
      "outputs": []
    },
    {
      "cell_type": "code",
      "metadata": {
        "id": "ml0UGMUIB_vd"
      },
      "source": [
        "# addr_code, type, built_year : TargetEncoder\n",
        "tge_col = ['addr_code', 'city_name', 'area_name']\n",
        "# size_grade : OrdinalEncoder\n",
        "ord_col = ['size_grade']"
      ],
      "execution_count": 497,
      "outputs": []
    },
    {
      "cell_type": "code",
      "metadata": {
        "id": "gYRZ_8n8CZ6p"
      },
      "source": [
        "### 분류 문제 평가 함수\n",
        "def clf_eval(model):\n",
        "  fig, ax = plt.subplots(1, 2, figsize=(16, 8))\n",
        "  pcm = plot_confusion_matrix(model, X_val, y_val_cl,\n",
        "                              cmap=plt.cm.Blues,\n",
        "                              ax=ax[0]);\n",
        "  plt.title(f'Confusion matrix, n = {len(y_val_cl)}', fontsize=15)\n",
        "\n",
        "  y_val_pred = model.predict(X_val)\n",
        "  print(classification_report(y_val_cl, y_val_pred))\n",
        "\n",
        "  y_val_pred_proba = model.predict_proba(X_val)[:, -1]\n",
        "  print('AUC score: ', roc_auc_score(y_val_cl, y_val_pred_proba))\n",
        "  fpr, tpr, thresholds = roc_curve(y_val_cl, y_val_pred_proba)\n",
        "  plt.scatter(fpr, tpr, color='blue')\n",
        "  plt.plot(fpr, tpr, color='green')\n",
        "  plt.title('ROC curve')\n",
        "  plt.xlabel('FPR')\n",
        "  plt.ylabel('TPR')\n",
        "\n",
        "  # threshold 최대값의 인덱스, np.argmax()\n",
        "  optimal_idx = np.argmax(tpr - fpr) # 재현율은 최대로, 위양성률은 최소로 하는 데이터의 인덱스 값 찾기\n",
        "  optimal_threshold = thresholds[optimal_idx] # 해당 값의 임계값 가져오기\n",
        "\n",
        "  print('idx:', optimal_idx, ', threshold:', optimal_threshold)\n",
        "\n",
        "  # 최적 임계값 적용\n",
        "  y_pred_proba = model.predict_proba(X_test)[:, 1] # 타겟이 1(True)일 확률 가져오기\n",
        "  y_pred = y_pred_proba > optimal_threshold\n",
        "\n",
        "  f1 = f1_score(y_test_cl, y_pred)\n",
        "  print(f'Test F1: {f1}')"
      ],
      "execution_count": 498,
      "outputs": []
    },
    {
      "cell_type": "code",
      "metadata": {
        "colab": {
          "base_uri": "https://localhost:8080/"
        },
        "id": "lB1gteobBd9n",
        "outputId": "868b42bc-66eb-481a-dc10-6f3dd1790596"
      },
      "source": [
        "# 2. 분류\n",
        "# 2-1. 로지스틱 회귀\n",
        "\n",
        "# class weights 계산\n",
        "# n_samples / (n_classes * np.bincount(y))\n",
        "custom = len(y_train_cl)/(2*np.bincount(y_train_cl))\n",
        "\n",
        "pipe_logis = make_pipeline(\n",
        "    TargetEncoder(cols=tge_col),\n",
        "    OrdinalEncoder(cols=ord_col),\n",
        "    StandardScaler(),    # 각 특성별 스케일을 통일시켜줌\n",
        "    LogisticRegression(class_weight={False:custom[0],True:custom[1]}, random_state=2)\n",
        ")\n",
        "\n",
        "pipe_logis.fit(X_train, y_train_cl)\n",
        "print('훈련 정확도: ', pipe_logis.score(X_train, y_train_cl))\n",
        "print('검증 정확도: ', pipe_logis.score(X_val, y_val_cl))\n",
        "\n",
        "y_pred_logis = pipe_logis.predict(X_test)\n",
        "\n",
        "f1_logis = f1_score(y_test_cl, y_pred_logis)\n",
        "print(f'Test F1: {f1_logis}')"
      ],
      "execution_count": 499,
      "outputs": [
        {
          "output_type": "stream",
          "name": "stdout",
          "text": [
            "훈련 정확도:  0.951033411973464\n",
            "검증 정확도:  0.8018698954004871\n",
            "Test F1: 0.6929497183958744\n"
          ]
        }
      ]
    },
    {
      "cell_type": "code",
      "metadata": {
        "colab": {
          "base_uri": "https://localhost:8080/",
          "height": 724
        },
        "id": "npMJWt6uCefH",
        "outputId": "35e63b0d-4aef-4eb6-cf52-47c1c799104f"
      },
      "source": [
        "clf_eval(pipe_logis)"
      ],
      "execution_count": 500,
      "outputs": [
        {
          "output_type": "stream",
          "name": "stdout",
          "text": [
            "              precision    recall  f1-score   support\n",
            "\n",
            "           0       0.95      0.76      0.84     59138\n",
            "           1       0.61      0.91      0.73     24610\n",
            "\n",
            "    accuracy                           0.80     83748\n",
            "   macro avg       0.78      0.83      0.79     83748\n",
            "weighted avg       0.85      0.80      0.81     83748\n",
            "\n",
            "AUC score:  0.9327573249321359\n",
            "idx: 12893 , threshold: 0.5833721653545659\n",
            "Test F1: 0.7049046385134347\n"
          ]
        },
        {
          "output_type": "display_data",
          "data": {
            "image/png": "[encoded data removed]",
            "text/plain": [
              "<Figure size 1152x576 with 3 Axes>"
            ]
          },
          "metadata": {
            "needs_background": "light"
          }
        }
      ]
    },
    {
      "cell_type": "code",
      "metadata": {
        "colab": {
          "base_uri": "https://localhost:8080/"
        },
        "id": "ojRaUssuCnww",
        "outputId": "28a0c20d-1ed6-4655-9d85-e888379b8547"
      },
      "source": [
        "# 2-2. 결정 트리\n",
        "\n",
        "pipe_dt = make_pipeline(\n",
        "    TargetEncoder(cols=tge_col),\n",
        "    OrdinalEncoder(cols=ord_col),\n",
        "    DecisionTreeClassifier(class_weight={False:custom[0],True:custom[1]}, random_state=2)\n",
        ")\n",
        "\n",
        "pipe_dt.fit(X_train, y_train_cl)\n",
        "print('훈련 정확도: ', pipe_dt.score(X_train, y_train_cl))\n",
        "print('검증 정확도: ', pipe_dt.score(X_val, y_val_cl))\n",
        "\n",
        "y_pred_dt = pipe_dt.predict(X_test)\n",
        "\n",
        "f1_dt = f1_score(y_test_cl, y_pred_dt)\n",
        "print(f'Test F1: {f1_dt}')"
      ],
      "execution_count": 501,
      "outputs": [
        {
          "output_type": "stream",
          "name": "stdout",
          "text": [
            "훈련 정확도:  0.9900106869921158\n",
            "검증 정확도:  0.8750179108754836\n",
            "Test F1: 0.6001637436980223\n"
          ]
        }
      ]
    },
    {
      "cell_type": "code",
      "metadata": {
        "colab": {
          "base_uri": "https://localhost:8080/"
        },
        "id": "FCbTwM2bCtVn",
        "outputId": "f54b010e-758d-4507-a948-d7f98d2dedb6"
      },
      "source": [
        "# 과적합 줄이기 및 최적화\n",
        "dists = {\n",
        "    'decisiontreeclassifier__splitter': ['best', 'random'],\n",
        "    'decisiontreeclassifier__max_depth': [5, 10, 15, 20, None],\n",
        "    'decisiontreeclassifier__min_samples_split': randint(2, 50),\n",
        "    'decisiontreeclassifier__min_samples_leaf': randint(1, 50),\n",
        "    'decisiontreeclassifier__max_features': uniform(0, 1)\n",
        "}\n",
        "\n",
        "clf = RandomizedSearchCV(\n",
        "    pipe_dt, \n",
        "    param_distributions=dists, \n",
        "    n_iter=30, \n",
        "    cv=3, \n",
        "    scoring='f1',  \n",
        "    verbose=1,\n",
        "    n_jobs=-1\n",
        ")\n",
        "\n",
        "clf.fit(X_train, y_train_cl);\n",
        "\n",
        "print('최적 하이퍼파라미터: ', clf.best_params_)\n",
        "print('f1: ', clf.best_score_)\n",
        "\n",
        "pipe_dt = clf.best_estimator_"
      ],
      "execution_count": 502,
      "outputs": [
        {
          "output_type": "stream",
          "name": "stdout",
          "text": [
            "Fitting 3 folds for each of 30 candidates, totalling 90 fits\n"
          ]
        },
        {
          "output_type": "stream",
          "name": "stderr",
          "text": [
            "[Parallel(n_jobs=-1)]: Using backend LokyBackend with 2 concurrent workers.\n",
            "[Parallel(n_jobs=-1)]: Done  46 tasks      | elapsed:   29.6s\n",
            "[Parallel(n_jobs=-1)]: Done  90 out of  90 | elapsed:   56.1s finished\n"
          ]
        },
        {
          "output_type": "stream",
          "name": "stdout",
          "text": [
            "최적 하이퍼파라미터:  {'decisiontreeclassifier__max_depth': 15, 'decisiontreeclassifier__max_features': 0.8209315982955299, 'decisiontreeclassifier__min_samples_leaf': 32, 'decisiontreeclassifier__min_samples_split': 4, 'decisiontreeclassifier__splitter': 'best'}\n",
            "f1:  0.7527878594453726\n"
          ]
        }
      ]
    },
    {
      "cell_type": "code",
      "metadata": {
        "colab": {
          "base_uri": "https://localhost:8080/",
          "height": 724
        },
        "id": "x7ELY4rRCxGI",
        "outputId": "fdb3f59a-a9aa-4841-d825-abd142718233"
      },
      "source": [
        "clf_eval(pipe_dt)"
      ],
      "execution_count": 503,
      "outputs": [
        {
          "output_type": "stream",
          "name": "stdout",
          "text": [
            "              precision    recall  f1-score   support\n",
            "\n",
            "           0       0.89      0.97      0.93     59138\n",
            "           1       0.91      0.72      0.80     24610\n",
            "\n",
            "    accuracy                           0.90     83748\n",
            "   macro avg       0.90      0.84      0.87     83748\n",
            "weighted avg       0.90      0.90      0.89     83748\n",
            "\n",
            "AUC score:  0.8829169399561015\n",
            "idx: 212 , threshold: 0.09112805867666815\n",
            "Test F1: 0.7080700487452608\n"
          ]
        },
        {
          "output_type": "display_data",
          "data": {
            "image/png": "[encoded data removed]",
            "text/plain": [
              "<Figure size 1152x576 with 3 Axes>"
            ]
          },
          "metadata": {
            "needs_background": "light"
          }
        }
      ]
    },
    {
      "cell_type": "code",
      "metadata": {
        "colab": {
          "base_uri": "https://localhost:8080/"
        },
        "id": "ch44j3EQC05E",
        "outputId": "fa77ca90-a08e-4eee-f096-747fc210bd95"
      },
      "source": [
        "# 2-3. 랜덤 포레스트\n",
        "pipe_rf = make_pipeline(\n",
        "    TargetEncoder(cols=tge_col),\n",
        "    OrdinalEncoder(cols=ord_col),\n",
        "    RandomForestClassifier(class_weight={False:custom[0],True:custom[1]}, n_jobs=-1, random_state=2)\n",
        ")\n",
        "\n",
        "pipe_rf.fit(X_train, y_train_cl)\n",
        "print('훈련 정확도: ', pipe_rf.score(X_train, y_train_cl))\n",
        "print('검증 정확도: ', pipe_rf.score(X_val, y_val_cl))\n",
        "\n",
        "y_pred_rf = pipe_rf.predict(X_test)\n",
        "\n",
        "f1_rf = f1_score(y_test_cl, y_pred_rf)\n",
        "print(f'Test F1: {f1_rf}')"
      ],
      "execution_count": 504,
      "outputs": [
        {
          "output_type": "stream",
          "name": "stdout",
          "text": [
            "훈련 정확도:  0.9914221765168472\n",
            "검증 정확도:  0.8795792138319721\n",
            "Test F1: 0.5869726451725492\n"
          ]
        }
      ]
    },
    {
      "cell_type": "code",
      "metadata": {
        "colab": {
          "base_uri": "https://localhost:8080/"
        },
        "id": "EJ83ZDkRC4go",
        "outputId": "c3999bb7-513e-42bc-82a3-2a76350a8f98"
      },
      "source": [
        "# 과적합 줄이기 및 최적화\n",
        "dists_rf = {\n",
        "    'randomforestclassifier__n_estimators': randint(50, 500),\n",
        "    'randomforestclassifier__max_depth': [5, 10, 15, 20, None],\n",
        "    'randomforestclassifier__min_samples_split': randint(2, 50),\n",
        "    'randomforestclassifier__min_samples_leaf': randint(1, 50),\n",
        "    'randomforestclassifier__max_features': uniform(0, 1)\n",
        "}\n",
        "\n",
        "clf_rf = RandomizedSearchCV(\n",
        "    pipe_rf, \n",
        "    param_distributions=dists_rf, \n",
        "    n_iter=30, \n",
        "    cv=3, \n",
        "    scoring='f1',  \n",
        "    verbose=1,\n",
        "    n_jobs=-1\n",
        ")\n",
        "\n",
        "clf_rf.fit(X_train, y_train_cl);\n",
        "\n",
        "print('최적 하이퍼파라미터: ', clf_rf.best_params_)\n",
        "print('f1: ', clf_rf.best_score_)\n",
        "\n",
        "pipe_rf = clf_rf.best_estimator_"
      ],
      "execution_count": 505,
      "outputs": [
        {
          "output_type": "stream",
          "name": "stdout",
          "text": [
            "Fitting 3 folds for each of 30 candidates, totalling 90 fits\n"
          ]
        },
        {
          "output_type": "stream",
          "name": "stderr",
          "text": [
            "[Parallel(n_jobs=-1)]: Using backend LokyBackend with 2 concurrent workers.\n",
            "[Parallel(n_jobs=-1)]: Done  46 tasks      | elapsed: 23.9min\n",
            "[Parallel(n_jobs=-1)]: Done  90 out of  90 | elapsed: 48.7min finished\n"
          ]
        },
        {
          "output_type": "stream",
          "name": "stdout",
          "text": [
            "최적 하이퍼파라미터:  {'randomforestclassifier__max_depth': None, 'randomforestclassifier__max_features': 0.28516323455836023, 'randomforestclassifier__min_samples_leaf': 48, 'randomforestclassifier__min_samples_split': 42, 'randomforestclassifier__n_estimators': 155}\n",
            "f1:  0.7688338782077091\n"
          ]
        }
      ]
    },
    {
      "cell_type": "code",
      "metadata": {
        "colab": {
          "base_uri": "https://localhost:8080/",
          "height": 724
        },
        "id": "63qN7F2EC6I0",
        "outputId": "98632917-e342-4538-f493-2a5fe097ded9"
      },
      "source": [
        "clf_eval(pipe_rf)"
      ],
      "execution_count": 506,
      "outputs": [
        {
          "output_type": "stream",
          "name": "stdout",
          "text": [
            "              precision    recall  f1-score   support\n",
            "\n",
            "           0       0.89      0.98      0.93     59138\n",
            "           1       0.94      0.71      0.81     24610\n",
            "\n",
            "    accuracy                           0.90     83748\n",
            "   macro avg       0.92      0.84      0.87     83748\n",
            "weighted avg       0.91      0.90      0.90     83748\n",
            "\n",
            "AUC score:  0.9520371599928206\n",
            "idx: 11435 , threshold: 0.08408560133344006\n",
            "Test F1: 0.7317878731227021\n"
          ]
        },
        {
          "output_type": "display_data",
          "data": {
            "image/png": "[encoded data removed]",
            "text/plain": [
              "<Figure size 1152x576 with 3 Axes>"
            ]
          },
          "metadata": {
            "needs_background": "light"
          }
        }
      ]
    },
    {
      "cell_type": "code",
      "metadata": {
        "colab": {
          "base_uri": "https://localhost:8080/"
        },
        "id": "uFasBYI2D4v6",
        "outputId": "fdb6793a-e1e1-4a8d-8487-654b32a238b8"
      },
      "source": [
        "# 2-4. 부스팅\n",
        "pipe_xgb_cl = make_pipeline(\n",
        "    TargetEncoder(cols=tge_col),\n",
        "    OrdinalEncoder(cols=ord_col),\n",
        "    XGBClassifier(n_estimators=1000\n",
        "              , random_state=2\n",
        "              , n_jobs=-1\n",
        "              , eval_set=eval_set\n",
        "              , eval_metric='error'\n",
        "              , scale_pos_weight=(custom[0]/custom[1])\n",
        "              , early_stopping_rounds=20) # 20 rounds 동안 스코어의 개선이 없으면 멈춤\n",
        ")\n",
        "\n",
        "pipe_xgb_cl.fit(X_train, y_train_cl);\n",
        "\n",
        "y_pred_xgb_cl_train = pipe_xgb_cl.predict(X_train)\n",
        "f1_rf_cl = f1_score(y_train_cl, y_pred_xgb_cl_train)\n",
        "print(f'Train F1: {f1_rf_cl}')\n",
        "\n",
        "y_pred_xgb_cl_val = pipe_xgb_cl.predict(X_val)\n",
        "f1_rf_cl = f1_score(y_val_cl, y_pred_xgb_cl_val)\n",
        "print(f'Val F1: {f1_rf_cl}')\n",
        "\n",
        "y_pred_xgb_cl = pipe_xgb_cl.predict(X_test)\n",
        "f1_rf_cl = f1_score(y_test_cl, y_pred_xgb_cl)\n",
        "print(f'Test F1: {f1_rf_cl}')"
      ],
      "execution_count": 508,
      "outputs": [
        {
          "output_type": "stream",
          "name": "stdout",
          "text": [
            "Train F1: 0.8998199635093825\n",
            "Val F1: 0.6667382435044019\n",
            "Test F1: 0.5223982830266222\n"
          ]
        }
      ]
    },
    {
      "cell_type": "code",
      "metadata": {
        "colab": {
          "base_uri": "https://localhost:8080/"
        },
        "id": "52T1B2HnERwi",
        "outputId": "6b97d732-3f08-49de-cf78-5f801221f5c6"
      },
      "source": [
        "# 과적합 줄이기 및 최적화\n",
        "dists_xgb_cl = {\n",
        "    'xgbclassifier__max_depth': [5, 10, 15, 20, None],\n",
        "    'xgbclassifier__learning_rate': uniform(0.01, 0.2),\n",
        "    'xgbclassifier__subsample': uniform(0.5, 1),\n",
        "    'xgbclassifier__colsample_bytree': uniform(0.5, 1),\n",
        "    'xgbclassifier__max_features': uniform(0, 1)\n",
        "}\n",
        "\n",
        "clf_xgb_cl = RandomizedSearchCV(\n",
        "    pipe_xgb_cl, \n",
        "    param_distributions=dists_xgb_cl, \n",
        "    n_iter=30, \n",
        "    cv=3, \n",
        "    scoring='f1',  \n",
        "    verbose=1,\n",
        "    n_jobs=-1\n",
        ")\n",
        "\n",
        "clf_xgb_cl.fit(X_train, y_train_cl);"
      ],
      "execution_count": 509,
      "outputs": [
        {
          "output_type": "stream",
          "name": "stdout",
          "text": [
            "Fitting 3 folds for each of 30 candidates, totalling 90 fits\n"
          ]
        },
        {
          "output_type": "stream",
          "name": "stderr",
          "text": [
            "[Parallel(n_jobs=-1)]: Using backend LokyBackend with 2 concurrent workers.\n",
            "[Parallel(n_jobs=-1)]: Done  46 tasks      | elapsed: 46.6min\n",
            "[Parallel(n_jobs=-1)]: Done  90 out of  90 | elapsed: 99.3min finished\n"
          ]
        }
      ]
    },
    {
      "cell_type": "code",
      "metadata": {
        "colab": {
          "base_uri": "https://localhost:8080/"
        },
        "id": "Vok4il9EEjky",
        "outputId": "9d301995-5255-4b6e-f070-917531faceb7"
      },
      "source": [
        "pipe_xgb_cl = clf_xgb_cl.best_estimator_\n",
        "\n",
        "y_pred_xgb_cl_train = pipe_xgb_cl.predict(X_train)\n",
        "f1_rf_cl = f1_score(y_train_cl, y_pred_xgb_cl_train)\n",
        "print(f'Train F1: {f1_rf_cl}')\n",
        "\n",
        "y_pred_xgb_cl_val = pipe_xgb_cl.predict(X_val)\n",
        "f1_rf_cl = f1_score(y_val_cl, y_pred_xgb_cl_val)\n",
        "print(f'Val F1: {f1_rf_cl}')\n",
        "\n",
        "y_pred_xgb_cl = pipe_xgb_cl.predict(X_test)\n",
        "f1_rf_cl = f1_score(y_test_cl, y_pred_xgb_cl)\n",
        "print(f'Test F1: {f1_rf_cl}')"
      ],
      "execution_count": 511,
      "outputs": [
        {
          "output_type": "stream",
          "name": "stdout",
          "text": [
            "Train F1: 0.9709314952619367\n",
            "Val F1: 0.7403440523404147\n",
            "Test F1: 0.582145667570167\n"
          ]
        }
      ]
    },
    {
      "cell_type": "code",
      "metadata": {
        "colab": {
          "base_uri": "https://localhost:8080/",
          "height": 724
        },
        "id": "dG8LAAs5F5o1",
        "outputId": "12cd6d1d-bc10-49be-db55-e5dbe58c021a"
      },
      "source": [
        "clf_eval(pipe_xgb_cl)"
      ],
      "execution_count": 512,
      "outputs": [
        {
          "output_type": "stream",
          "name": "stdout",
          "text": [
            "              precision    recall  f1-score   support\n",
            "\n",
            "           0       0.86      0.99      0.92     59138\n",
            "           1       0.98      0.60      0.74     24610\n",
            "\n",
            "    accuracy                           0.88     83748\n",
            "   macro avg       0.92      0.79      0.83     83748\n",
            "weighted avg       0.89      0.88      0.87     83748\n",
            "\n",
            "AUC score:  0.9502611918439405\n",
            "idx: 7799 , threshold: 6.558867e-05\n",
            "Test F1: 0.7625338988943746\n"
          ]
        },
        {
          "output_type": "display_data",
          "data": {
            "image/png": "[encoded data removed]",
            "text/plain": [
              "<Figure size 1152x576 with 3 Axes>"
            ]
          },
          "metadata": {
            "needs_background": "light"
          }
        }
      ]
    },
    {
      "cell_type": "code",
      "metadata": {
        "id": "lsGtCmkBKDNV"
      },
      "source": [
        "# 모델 저장하기\n",
        "models = [pipe_dt, pipe_rf, pipe_xgb_cl]\n",
        "model_save_names = ['pipe_dt_0708', 'pipe_rf_731', 'pipe_xgb_cl_762']\n",
        "\n",
        "# for model, model_save_name in zip(models, model_save_names):\n",
        "#   path = F\"/content/gdrive/MyDrive/Colab Notebooks/section2/project_models/{model_save_name}.joblib\" \n",
        "#   dump(model, path) "
      ],
      "execution_count": 517,
      "outputs": []
    },
    {
      "cell_type": "code",
      "metadata": {
        "id": "e_12iWiSNkbf",
        "outputId": "54bc4d53-44f1-4833-82c2-7d1ca5af6aae",
        "colab": {
          "base_uri": "https://localhost:8080/",
          "height": 1000
        }
      },
      "source": [
        "# 모델 불러오기\n",
        "for model_save_name in model_save_names:\n",
        "  load_path = F\"/content/gdrive/MyDrive/Colab Notebooks/section2/project_models/{model_save_name}.joblib\" \n",
        "  test_model = load(load_path)\n",
        "  clf_eval(test_model)"
      ],
      "execution_count": 522,
      "outputs": [
        {
          "output_type": "stream",
          "name": "stdout",
          "text": [
            "              precision    recall  f1-score   support\n",
            "\n",
            "           0       0.89      0.97      0.93     59138\n",
            "           1       0.91      0.72      0.80     24610\n",
            "\n",
            "    accuracy                           0.90     83748\n",
            "   macro avg       0.90      0.84      0.87     83748\n",
            "weighted avg       0.90      0.90      0.89     83748\n",
            "\n",
            "AUC score:  0.8829169399561015\n",
            "idx: 212 , threshold: 0.09112805867666815\n",
            "Test F1: 0.7080700487452608\n",
            "              precision    recall  f1-score   support\n",
            "\n",
            "           0       0.89      0.98      0.93     59138\n",
            "           1       0.94      0.71      0.81     24610\n",
            "\n",
            "    accuracy                           0.90     83748\n",
            "   macro avg       0.92      0.84      0.87     83748\n",
            "weighted avg       0.91      0.90      0.90     83748\n",
            "\n",
            "AUC score:  0.9520371599928206\n",
            "idx: 11435 , threshold: 0.08408560133344006\n",
            "Test F1: 0.7317878731227021\n",
            "              precision    recall  f1-score   support\n",
            "\n",
            "           0       0.86      0.99      0.92     59138\n",
            "           1       0.98      0.60      0.74     24610\n",
            "\n",
            "    accuracy                           0.88     83748\n",
            "   macro avg       0.92      0.79      0.83     83748\n",
            "weighted avg       0.89      0.88      0.87     83748\n",
            "\n",
            "AUC score:  0.9502611918439405\n",
            "idx: 7799 , threshold: 6.558867e-05\n",
            "Test F1: 0.7625338988943746\n"
          ]
        },
        {
          "output_type": "display_data",
          "data": {
            "image/png": "[encoded data removed]",
            "text/plain": [
              "<Figure size 1152x576 with 3 Axes>"
            ]
          },
          "metadata": {
            "needs_background": "light"
          }
        },
        {
          "output_type": "display_data",
          "data": {
            "image/png": "[encoded data removed]",
            "text/plain": [
              "<Figure size 1152x576 with 3 Axes>"
            ]
          },
          "metadata": {
            "needs_background": "light"
          }
        },
        {
          "output_type": "display_data",
          "data": {
            "image/png": "[encoded data removed]",
            "text/plain": [
              "<Figure size 1152x576 with 3 Axes>"
            ]
          },
          "metadata": {
            "needs_background": "light"
          }
        }
      ]
    }
  ]
}