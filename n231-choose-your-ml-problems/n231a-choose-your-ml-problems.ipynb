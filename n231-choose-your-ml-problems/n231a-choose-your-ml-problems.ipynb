{
  "nbformat": 4,
  "nbformat_minor": 0,
  "metadata": {
    "kernelspec": {
      "display_name": "Python 3",
      "language": "python",
      "name": "python3"
    },
    "language_info": {
      "codemirror_mode": {
        "name": "ipython",
        "version": 3
      },
      "file_extension": ".py",
      "mimetype": "text/x-python",
      "name": "python",
      "nbconvert_exporter": "python",
      "pygments_lexer": "ipython3",
      "version": "3.7.7"
    },
    "colab": {
      "name": "n231a-choose-your-ml-problems.ipynb",
      "provenance": []
    }
  },
  "cells": [
    {
      "cell_type": "markdown",
      "metadata": {
        "id": "nCc3XZEyG3XV"
      },
      "source": [
        "<img align=\"right\" src=\"https://ds-cs-images.s3.ap-northeast-2.amazonaws.com/Codestates_Fulllogo_Color.png\" width=100>\n",
        "\n",
        "## *AIB / SECTION 2 / SPRINT 3 / NOTE 1*\n",
        "\n",
        "# 📝 Assignment\n",
        "---\n",
        "# Choose your ML problems\n",
        "\n",
        "이번 스프린트에서는 포트폴리오 프로젝트를 위해 수강생 각자가 정한 데이터셋을 사용하여 과제를 수행합니다. 프로젝트를 위한 데이터를 최종 선택하기 전에 여러 가능한 데이터세트를 살펴보고 간단한 모델까지 학습해 보는 것을 추천드립니다."
      ]
    },
    {
      "cell_type": "markdown",
      "metadata": {
        "id": "uzttpppT7SFD"
      },
      "source": [
        "### 1) 타겟으로 사용할 특성을 선택합니다.\n",
        "- **(객관식) 다음과 같은 상황에 대한 설명 중 맞는 설명을 고르세요.**\n",
        "    - 특성 3개를 사용해 가장 성능이 좋은 모델 A를 만들고 또 특성 5개를 사용해 최적의 모델 B를 학습하였습니다. 이때 모델 A에서 선택된 특성은 A1, A2, A3 입니다.\n",
        "    1. 최적의 모델 B에는 특성 A1, A2, A3가 항상 선택됩니다.\n",
        "    2. 최적의 모델 B 학습시 특성 A1, A2, A3는 전혀 사용되지 않습니다.\n",
        "    3. 최적의 모델 B에 특성 A1, A2, A3가 선택될지 알 수 없습니다."
      ]
    },
    {
      "cell_type": "code",
      "metadata": {
        "id": "pG5V87vLUoU9"
      },
      "source": [
        "# 답 : 3"
      ],
      "execution_count": null,
      "outputs": []
    },
    {
      "cell_type": "code",
      "metadata": {
        "id": "ln74fKZCImWd"
      },
      "source": [
        "import pandas as pd\n",
        "import numpy as np\n",
        "import seaborn as sns\n",
        "import matplotlib.pyplot as plt\n",
        "from sklearn.model_selection import train_test_split"
      ],
      "execution_count": null,
      "outputs": []
    },
    {
      "cell_type": "code",
      "metadata": {
        "id": "_wE9kzep7SFE"
      },
      "source": [
        "# 자료 출처 : 데이콘\n",
        "# gas_supply(공공데이터포털) : https://www.data.go.kr/data/15091497/fileData.do\n",
        "# weather(기상자료개방포털) : https://data.kma.go.kr/data/grnd/selectAsosRltmList.do?pgmNo=36\n",
        "# gas_supply는 가스 공급량, weather는 서울 기준으로 관측된 날씨 데이터\n",
        "\n",
        "gas_supply = pd.read_csv('https://docs.google.com/uc?export=download&id=1rqMv8BD_1ebKPfk7QxcpL6vxgeakzEz6', encoding='cp949')\n",
        "weather = pd.read_csv('https://docs.google.com/uc?export=download&id=11ZGfCOqYVNjwtfgVXKEhyC_LRLGDqFdp')\n",
        "\n",
        "target = 'gas_supply'"
      ],
      "execution_count": null,
      "outputs": []
    },
    {
      "cell_type": "code",
      "metadata": {
        "id": "UYb4maMYolsQ",
        "colab": {
          "base_uri": "https://localhost:8080/",
          "height": 203
        },
        "outputId": "b252022d-cfa8-46bf-c7e9-ef7908e24d3b"
      },
      "source": [
        "gas_supply.head()"
      ],
      "execution_count": null,
      "outputs": [
        {
          "output_type": "execute_result",
          "data": {
            "text/html": [
              "<div>\n",
              "<style scoped>\n",
              "    .dataframe tbody tr th:only-of-type {\n",
              "        vertical-align: middle;\n",
              "    }\n",
              "\n",
              "    .dataframe tbody tr th {\n",
              "        vertical-align: top;\n",
              "    }\n",
              "\n",
              "    .dataframe thead th {\n",
              "        text-align: right;\n",
              "    }\n",
              "</style>\n",
              "<table border=\"1\" class=\"dataframe\">\n",
              "  <thead>\n",
              "    <tr style=\"text-align: right;\">\n",
              "      <th></th>\n",
              "      <th>연월일</th>\n",
              "      <th>시간</th>\n",
              "      <th>구분</th>\n",
              "      <th>공급량</th>\n",
              "    </tr>\n",
              "  </thead>\n",
              "  <tbody>\n",
              "    <tr>\n",
              "      <th>0</th>\n",
              "      <td>2013-01-01</td>\n",
              "      <td>1</td>\n",
              "      <td>A</td>\n",
              "      <td>2497.129</td>\n",
              "    </tr>\n",
              "    <tr>\n",
              "      <th>1</th>\n",
              "      <td>2013-01-01</td>\n",
              "      <td>2</td>\n",
              "      <td>A</td>\n",
              "      <td>2363.265</td>\n",
              "    </tr>\n",
              "    <tr>\n",
              "      <th>2</th>\n",
              "      <td>2013-01-01</td>\n",
              "      <td>3</td>\n",
              "      <td>A</td>\n",
              "      <td>2258.505</td>\n",
              "    </tr>\n",
              "    <tr>\n",
              "      <th>3</th>\n",
              "      <td>2013-01-01</td>\n",
              "      <td>4</td>\n",
              "      <td>A</td>\n",
              "      <td>2243.969</td>\n",
              "    </tr>\n",
              "    <tr>\n",
              "      <th>4</th>\n",
              "      <td>2013-01-01</td>\n",
              "      <td>5</td>\n",
              "      <td>A</td>\n",
              "      <td>2344.105</td>\n",
              "    </tr>\n",
              "  </tbody>\n",
              "</table>\n",
              "</div>"
            ],
            "text/plain": [
              "          연월일  시간 구분       공급량\n",
              "0  2013-01-01   1  A  2497.129\n",
              "1  2013-01-01   2  A  2363.265\n",
              "2  2013-01-01   3  A  2258.505\n",
              "3  2013-01-01   4  A  2243.969\n",
              "4  2013-01-01   5  A  2344.105"
            ]
          },
          "metadata": {},
          "execution_count": 3
        }
      ]
    },
    {
      "cell_type": "code",
      "metadata": {
        "id": "PRNTXlu9FYLE",
        "colab": {
          "base_uri": "https://localhost:8080/",
          "height": 455
        },
        "outputId": "9c00a7b7-19f0-49d6-a852-bdaef7f72b9a"
      },
      "source": [
        "weather.head()"
      ],
      "execution_count": null,
      "outputs": [
        {
          "output_type": "execute_result",
          "data": {
            "text/html": [
              "<div>\n",
              "<style scoped>\n",
              "    .dataframe tbody tr th:only-of-type {\n",
              "        vertical-align: middle;\n",
              "    }\n",
              "\n",
              "    .dataframe tbody tr th {\n",
              "        vertical-align: top;\n",
              "    }\n",
              "\n",
              "    .dataframe thead th {\n",
              "        text-align: right;\n",
              "    }\n",
              "</style>\n",
              "<table border=\"1\" class=\"dataframe\">\n",
              "  <thead>\n",
              "    <tr style=\"text-align: right;\">\n",
              "      <th></th>\n",
              "      <th>지점</th>\n",
              "      <th>일시</th>\n",
              "      <th>기온(°C)</th>\n",
              "      <th>강수량(mm)</th>\n",
              "      <th>풍속(m/s)</th>\n",
              "      <th>풍향(16방위)</th>\n",
              "      <th>습도(%)</th>\n",
              "      <th>증기압(hPa)</th>\n",
              "      <th>이슬점온도(°C)</th>\n",
              "      <th>현지기압(hPa)</th>\n",
              "      <th>해면기압(hPa)</th>\n",
              "      <th>일조(hr)</th>\n",
              "      <th>일사(MJ/m2)</th>\n",
              "      <th>적설(cm)</th>\n",
              "      <th>3시간신적설(cm)</th>\n",
              "      <th>전운량(10분위)</th>\n",
              "      <th>중하층운량(10분위)</th>\n",
              "      <th>운형(운형약어)</th>\n",
              "      <th>최저운고(100m )</th>\n",
              "      <th>시정(10m)</th>\n",
              "      <th>지면상태(지면상태코드)</th>\n",
              "      <th>현상번호(국내식)</th>\n",
              "      <th>지면온도(°C)</th>\n",
              "      <th>5cm 지중온도(°C)</th>\n",
              "      <th>10cm 지중온도(°C)</th>\n",
              "      <th>20cm 지중온도(°C)</th>\n",
              "      <th>30cm 지중온도(°C)</th>\n",
              "    </tr>\n",
              "  </thead>\n",
              "  <tbody>\n",
              "    <tr>\n",
              "      <th>0</th>\n",
              "      <td>108</td>\n",
              "      <td>2013-01-01 0:00</td>\n",
              "      <td>-8.3</td>\n",
              "      <td>NaN</td>\n",
              "      <td>3.6</td>\n",
              "      <td>50.0</td>\n",
              "      <td>56.0</td>\n",
              "      <td>1.8</td>\n",
              "      <td>-15.5</td>\n",
              "      <td>1010.3</td>\n",
              "      <td>1021.5</td>\n",
              "      <td>NaN</td>\n",
              "      <td>NaN</td>\n",
              "      <td>6.4</td>\n",
              "      <td>NaN</td>\n",
              "      <td>3.0</td>\n",
              "      <td>3.0</td>\n",
              "      <td>Sc</td>\n",
              "      <td>10.0</td>\n",
              "      <td>2000.0</td>\n",
              "      <td>NaN</td>\n",
              "      <td>NaN</td>\n",
              "      <td>-3.3</td>\n",
              "      <td>-2.9</td>\n",
              "      <td>-1.6</td>\n",
              "      <td>-0.5</td>\n",
              "      <td>0.3</td>\n",
              "    </tr>\n",
              "    <tr>\n",
              "      <th>1</th>\n",
              "      <td>108</td>\n",
              "      <td>2013-01-01 1:00</td>\n",
              "      <td>-8.5</td>\n",
              "      <td>NaN</td>\n",
              "      <td>4.0</td>\n",
              "      <td>50.0</td>\n",
              "      <td>57.0</td>\n",
              "      <td>1.8</td>\n",
              "      <td>-15.5</td>\n",
              "      <td>1010.0</td>\n",
              "      <td>1021.2</td>\n",
              "      <td>NaN</td>\n",
              "      <td>NaN</td>\n",
              "      <td>6.4</td>\n",
              "      <td>NaN</td>\n",
              "      <td>NaN</td>\n",
              "      <td>NaN</td>\n",
              "      <td>NaN</td>\n",
              "      <td>NaN</td>\n",
              "      <td>NaN</td>\n",
              "      <td>NaN</td>\n",
              "      <td>NaN</td>\n",
              "      <td>-3.4</td>\n",
              "      <td>-2.9</td>\n",
              "      <td>-1.6</td>\n",
              "      <td>-0.5</td>\n",
              "      <td>0.3</td>\n",
              "    </tr>\n",
              "    <tr>\n",
              "      <th>2</th>\n",
              "      <td>108</td>\n",
              "      <td>2013-01-01 2:00</td>\n",
              "      <td>-8.4</td>\n",
              "      <td>NaN</td>\n",
              "      <td>4.0</td>\n",
              "      <td>70.0</td>\n",
              "      <td>60.0</td>\n",
              "      <td>2.0</td>\n",
              "      <td>-14.7</td>\n",
              "      <td>1009.4</td>\n",
              "      <td>1020.6</td>\n",
              "      <td>NaN</td>\n",
              "      <td>NaN</td>\n",
              "      <td>6.4</td>\n",
              "      <td>NaN</td>\n",
              "      <td>NaN</td>\n",
              "      <td>NaN</td>\n",
              "      <td>NaN</td>\n",
              "      <td>NaN</td>\n",
              "      <td>NaN</td>\n",
              "      <td>NaN</td>\n",
              "      <td>NaN</td>\n",
              "      <td>-3.4</td>\n",
              "      <td>-3.0</td>\n",
              "      <td>-1.6</td>\n",
              "      <td>-0.5</td>\n",
              "      <td>0.4</td>\n",
              "    </tr>\n",
              "    <tr>\n",
              "      <th>3</th>\n",
              "      <td>108</td>\n",
              "      <td>2013-01-01 3:00</td>\n",
              "      <td>-8.1</td>\n",
              "      <td>NaN</td>\n",
              "      <td>3.4</td>\n",
              "      <td>70.0</td>\n",
              "      <td>58.0</td>\n",
              "      <td>1.9</td>\n",
              "      <td>-14.9</td>\n",
              "      <td>1009.2</td>\n",
              "      <td>1020.4</td>\n",
              "      <td>NaN</td>\n",
              "      <td>NaN</td>\n",
              "      <td>6.4</td>\n",
              "      <td>NaN</td>\n",
              "      <td>6.0</td>\n",
              "      <td>6.0</td>\n",
              "      <td>Ac</td>\n",
              "      <td>35.0</td>\n",
              "      <td>2000.0</td>\n",
              "      <td>13.0</td>\n",
              "      <td>NaN</td>\n",
              "      <td>-3.4</td>\n",
              "      <td>-3.0</td>\n",
              "      <td>-1.6</td>\n",
              "      <td>-0.5</td>\n",
              "      <td>0.3</td>\n",
              "    </tr>\n",
              "    <tr>\n",
              "      <th>4</th>\n",
              "      <td>108</td>\n",
              "      <td>2013-01-01 4:00</td>\n",
              "      <td>-8.2</td>\n",
              "      <td>NaN</td>\n",
              "      <td>3.8</td>\n",
              "      <td>70.0</td>\n",
              "      <td>58.0</td>\n",
              "      <td>1.9</td>\n",
              "      <td>-15.0</td>\n",
              "      <td>1008.2</td>\n",
              "      <td>1019.4</td>\n",
              "      <td>NaN</td>\n",
              "      <td>NaN</td>\n",
              "      <td>6.4</td>\n",
              "      <td>NaN</td>\n",
              "      <td>6.0</td>\n",
              "      <td>6.0</td>\n",
              "      <td>Ac</td>\n",
              "      <td>35.0</td>\n",
              "      <td>2000.0</td>\n",
              "      <td>NaN</td>\n",
              "      <td>NaN</td>\n",
              "      <td>-3.4</td>\n",
              "      <td>-2.9</td>\n",
              "      <td>-1.7</td>\n",
              "      <td>-0.5</td>\n",
              "      <td>0.3</td>\n",
              "    </tr>\n",
              "  </tbody>\n",
              "</table>\n",
              "</div>"
            ],
            "text/plain": [
              "    지점               일시  기온(°C)  ...  10cm 지중온도(°C)  20cm 지중온도(°C)  30cm 지중온도(°C)\n",
              "0  108  2013-01-01 0:00    -8.3  ...           -1.6           -0.5            0.3\n",
              "1  108  2013-01-01 1:00    -8.5  ...           -1.6           -0.5            0.3\n",
              "2  108  2013-01-01 2:00    -8.4  ...           -1.6           -0.5            0.4\n",
              "3  108  2013-01-01 3:00    -8.1  ...           -1.6           -0.5            0.3\n",
              "4  108  2013-01-01 4:00    -8.2  ...           -1.7           -0.5            0.3\n",
              "\n",
              "[5 rows x 27 columns]"
            ]
          },
          "metadata": {},
          "execution_count": 4
        }
      ]
    },
    {
      "cell_type": "code",
      "metadata": {
        "id": "L5Kex1xTooxJ",
        "colab": {
          "base_uri": "https://localhost:8080/"
        },
        "outputId": "977f5738-2230-4c40-de9b-bd81130a132f"
      },
      "source": [
        "gas_supply.shape, weather.shape"
      ],
      "execution_count": null,
      "outputs": [
        {
          "output_type": "execute_result",
          "data": {
            "text/plain": [
              "((368088, 4), (52584, 27))"
            ]
          },
          "metadata": {},
          "execution_count": 5
        }
      ]
    },
    {
      "cell_type": "code",
      "metadata": {
        "id": "rz19eqvPr3oZ",
        "colab": {
          "base_uri": "https://localhost:8080/"
        },
        "outputId": "8c717cf2-c240-4503-95fd-6880337e1fdb"
      },
      "source": [
        "gas_supply.isna().sum()"
      ],
      "execution_count": null,
      "outputs": [
        {
          "output_type": "execute_result",
          "data": {
            "text/plain": [
              "연월일    0\n",
              "시간     0\n",
              "구분     0\n",
              "공급량    0\n",
              "dtype: int64"
            ]
          },
          "metadata": {},
          "execution_count": 6
        }
      ]
    },
    {
      "cell_type": "code",
      "metadata": {
        "id": "4Yz7xAH-FknN",
        "colab": {
          "base_uri": "https://localhost:8080/"
        },
        "outputId": "5ba415c8-548e-4cef-92da-1aa572ba3a31"
      },
      "source": [
        "weather.isna().sum()"
      ],
      "execution_count": null,
      "outputs": [
        {
          "output_type": "execute_result",
          "data": {
            "text/plain": [
              "지점                   0\n",
              "일시                   0\n",
              "기온(°C)               5\n",
              "강수량(mm)          47640\n",
              "풍속(m/s)             46\n",
              "풍향(16방위)            46\n",
              "습도(%)               21\n",
              "증기압(hPa)            12\n",
              "이슬점온도(°C)           12\n",
              "현지기압(hPa)            7\n",
              "해면기압(hPa)            4\n",
              "일조(hr)           23868\n",
              "일사(MJ/m2)        24055\n",
              "적설(cm)           50189\n",
              "3시간신적설(cm)       52431\n",
              "전운량(10분위)        10776\n",
              "중하층운량(10분위)       7126\n",
              "운형(운형약어)         23141\n",
              "최저운고(100m )      27557\n",
              "시정(10m)           4345\n",
              "지면상태(지면상태코드)     47468\n",
              "현상번호(국내식)        33724\n",
              "지면온도(°C)            54\n",
              "5cm 지중온도(°C)        57\n",
              "10cm 지중온도(°C)       51\n",
              "20cm 지중온도(°C)       71\n",
              "30cm 지중온도(°C)      136\n",
              "dtype: int64"
            ]
          },
          "metadata": {},
          "execution_count": 7
        }
      ]
    },
    {
      "cell_type": "code",
      "metadata": {
        "id": "OOtaZjM9GLAG",
        "colab": {
          "base_uri": "https://localhost:8080/",
          "height": 203
        },
        "outputId": "17d953da-3788-4566-a238-3d470c0d36b0"
      },
      "source": [
        "# 날씨 특성 중 가스 공급량에 직접적인 관계가 있다고 판단되는 특성만 남기고 나머지 제거\n",
        "# 남길 특성 : 일시, 기온, 강수량, 풍속, 습도\n",
        "# 그 외 특성들은 위 4개 특성 내에 반영되는 것으로 간주함\n",
        "cols = ['일시', '기온(°C)', '강수량(mm)', '풍속(m/s)', '습도(%)']\n",
        "\n",
        "weather = weather.loc[:, cols]\n",
        "weather.head()"
      ],
      "execution_count": null,
      "outputs": [
        {
          "output_type": "execute_result",
          "data": {
            "text/html": [
              "<div>\n",
              "<style scoped>\n",
              "    .dataframe tbody tr th:only-of-type {\n",
              "        vertical-align: middle;\n",
              "    }\n",
              "\n",
              "    .dataframe tbody tr th {\n",
              "        vertical-align: top;\n",
              "    }\n",
              "\n",
              "    .dataframe thead th {\n",
              "        text-align: right;\n",
              "    }\n",
              "</style>\n",
              "<table border=\"1\" class=\"dataframe\">\n",
              "  <thead>\n",
              "    <tr style=\"text-align: right;\">\n",
              "      <th></th>\n",
              "      <th>일시</th>\n",
              "      <th>기온(°C)</th>\n",
              "      <th>강수량(mm)</th>\n",
              "      <th>풍속(m/s)</th>\n",
              "      <th>습도(%)</th>\n",
              "    </tr>\n",
              "  </thead>\n",
              "  <tbody>\n",
              "    <tr>\n",
              "      <th>0</th>\n",
              "      <td>2013-01-01 0:00</td>\n",
              "      <td>-8.3</td>\n",
              "      <td>NaN</td>\n",
              "      <td>3.6</td>\n",
              "      <td>56.0</td>\n",
              "    </tr>\n",
              "    <tr>\n",
              "      <th>1</th>\n",
              "      <td>2013-01-01 1:00</td>\n",
              "      <td>-8.5</td>\n",
              "      <td>NaN</td>\n",
              "      <td>4.0</td>\n",
              "      <td>57.0</td>\n",
              "    </tr>\n",
              "    <tr>\n",
              "      <th>2</th>\n",
              "      <td>2013-01-01 2:00</td>\n",
              "      <td>-8.4</td>\n",
              "      <td>NaN</td>\n",
              "      <td>4.0</td>\n",
              "      <td>60.0</td>\n",
              "    </tr>\n",
              "    <tr>\n",
              "      <th>3</th>\n",
              "      <td>2013-01-01 3:00</td>\n",
              "      <td>-8.1</td>\n",
              "      <td>NaN</td>\n",
              "      <td>3.4</td>\n",
              "      <td>58.0</td>\n",
              "    </tr>\n",
              "    <tr>\n",
              "      <th>4</th>\n",
              "      <td>2013-01-01 4:00</td>\n",
              "      <td>-8.2</td>\n",
              "      <td>NaN</td>\n",
              "      <td>3.8</td>\n",
              "      <td>58.0</td>\n",
              "    </tr>\n",
              "  </tbody>\n",
              "</table>\n",
              "</div>"
            ],
            "text/plain": [
              "                일시  기온(°C)  강수량(mm)  풍속(m/s)  습도(%)\n",
              "0  2013-01-01 0:00    -8.3      NaN      3.6   56.0\n",
              "1  2013-01-01 1:00    -8.5      NaN      4.0   57.0\n",
              "2  2013-01-01 2:00    -8.4      NaN      4.0   60.0\n",
              "3  2013-01-01 3:00    -8.1      NaN      3.4   58.0\n",
              "4  2013-01-01 4:00    -8.2      NaN      3.8   58.0"
            ]
          },
          "metadata": {},
          "execution_count": 8
        }
      ]
    },
    {
      "cell_type": "code",
      "metadata": {
        "id": "0kkzGKQEJfvB"
      },
      "source": [
        "# 강수량은 0으로 대체(1년 중 비가 오지 않는 날이 더 많기 때문)\n",
        "weather['강수량(mm)'] = weather['강수량(mm)'].fillna(0)"
      ],
      "execution_count": null,
      "outputs": []
    },
    {
      "cell_type": "code",
      "metadata": {
        "id": "1QZPy-yBMnyn"
      },
      "source": [
        "# 기온, 풍속, 습도는 결측치 수가 적으므로 평균값으로 대체\n",
        "weather = weather.fillna(weather.mean())"
      ],
      "execution_count": null,
      "outputs": []
    },
    {
      "cell_type": "code",
      "metadata": {
        "id": "hRJ8dFJKNL9n",
        "colab": {
          "base_uri": "https://localhost:8080/"
        },
        "outputId": "38de67af-b885-4182-9ce8-0c4231a376d0"
      },
      "source": [
        "# 결측치 제거 여부 확인\n",
        "weather.isna().sum()"
      ],
      "execution_count": null,
      "outputs": [
        {
          "output_type": "execute_result",
          "data": {
            "text/plain": [
              "일시         0\n",
              "기온(°C)     0\n",
              "강수량(mm)    0\n",
              "풍속(m/s)    0\n",
              "습도(%)      0\n",
              "dtype: int64"
            ]
          },
          "metadata": {},
          "execution_count": 11
        }
      ]
    },
    {
      "cell_type": "code",
      "metadata": {
        "id": "cmO6lfZRNsiJ",
        "colab": {
          "base_uri": "https://localhost:8080/",
          "height": 203
        },
        "outputId": "80e65f57-f7d7-4d40-fe30-13d0e3903bf1"
      },
      "source": [
        "# 가스 공급량 데이터 중 구분 특성으로 인해 데이터의 개수가 늘어남\n",
        "# 구분 특성으로 인해 나누어진 데이터들을 '날짜:시간'으로 묶어서 합하기\n",
        "\n",
        "# 1) 연월일과 시간을 합친 특성 만들기\n",
        "tmp = gas_supply.copy()\n",
        "tmp['date_time'] = tmp['연월일'].astype(str) + ':' +tmp['시간'].astype(str)\n",
        "\n",
        "tmp.head()"
      ],
      "execution_count": null,
      "outputs": [
        {
          "output_type": "execute_result",
          "data": {
            "text/html": [
              "<div>\n",
              "<style scoped>\n",
              "    .dataframe tbody tr th:only-of-type {\n",
              "        vertical-align: middle;\n",
              "    }\n",
              "\n",
              "    .dataframe tbody tr th {\n",
              "        vertical-align: top;\n",
              "    }\n",
              "\n",
              "    .dataframe thead th {\n",
              "        text-align: right;\n",
              "    }\n",
              "</style>\n",
              "<table border=\"1\" class=\"dataframe\">\n",
              "  <thead>\n",
              "    <tr style=\"text-align: right;\">\n",
              "      <th></th>\n",
              "      <th>연월일</th>\n",
              "      <th>시간</th>\n",
              "      <th>구분</th>\n",
              "      <th>공급량</th>\n",
              "      <th>date_time</th>\n",
              "    </tr>\n",
              "  </thead>\n",
              "  <tbody>\n",
              "    <tr>\n",
              "      <th>0</th>\n",
              "      <td>2013-01-01</td>\n",
              "      <td>1</td>\n",
              "      <td>A</td>\n",
              "      <td>2497.129</td>\n",
              "      <td>2013-01-01:1</td>\n",
              "    </tr>\n",
              "    <tr>\n",
              "      <th>1</th>\n",
              "      <td>2013-01-01</td>\n",
              "      <td>2</td>\n",
              "      <td>A</td>\n",
              "      <td>2363.265</td>\n",
              "      <td>2013-01-01:2</td>\n",
              "    </tr>\n",
              "    <tr>\n",
              "      <th>2</th>\n",
              "      <td>2013-01-01</td>\n",
              "      <td>3</td>\n",
              "      <td>A</td>\n",
              "      <td>2258.505</td>\n",
              "      <td>2013-01-01:3</td>\n",
              "    </tr>\n",
              "    <tr>\n",
              "      <th>3</th>\n",
              "      <td>2013-01-01</td>\n",
              "      <td>4</td>\n",
              "      <td>A</td>\n",
              "      <td>2243.969</td>\n",
              "      <td>2013-01-01:4</td>\n",
              "    </tr>\n",
              "    <tr>\n",
              "      <th>4</th>\n",
              "      <td>2013-01-01</td>\n",
              "      <td>5</td>\n",
              "      <td>A</td>\n",
              "      <td>2344.105</td>\n",
              "      <td>2013-01-01:5</td>\n",
              "    </tr>\n",
              "  </tbody>\n",
              "</table>\n",
              "</div>"
            ],
            "text/plain": [
              "          연월일  시간 구분       공급량     date_time\n",
              "0  2013-01-01   1  A  2497.129  2013-01-01:1\n",
              "1  2013-01-01   2  A  2363.265  2013-01-01:2\n",
              "2  2013-01-01   3  A  2258.505  2013-01-01:3\n",
              "3  2013-01-01   4  A  2243.969  2013-01-01:4\n",
              "4  2013-01-01   5  A  2344.105  2013-01-01:5"
            ]
          },
          "metadata": {},
          "execution_count": 12
        }
      ]
    },
    {
      "cell_type": "code",
      "metadata": {
        "id": "LBjzG9CuPBqA",
        "colab": {
          "base_uri": "https://localhost:8080/",
          "height": 203
        },
        "outputId": "51018803-4541-402c-8c63-a10be4912524"
      },
      "source": [
        "# 2) 합친 특성을 사용하여 '날짜:시간'별 공급량 구하기\n",
        "tmp = tmp.groupby('date_time').sum().reset_index().drop('시간', axis=1)\n",
        "tmp.head()"
      ],
      "execution_count": null,
      "outputs": [
        {
          "output_type": "execute_result",
          "data": {
            "text/html": [
              "<div>\n",
              "<style scoped>\n",
              "    .dataframe tbody tr th:only-of-type {\n",
              "        vertical-align: middle;\n",
              "    }\n",
              "\n",
              "    .dataframe tbody tr th {\n",
              "        vertical-align: top;\n",
              "    }\n",
              "\n",
              "    .dataframe thead th {\n",
              "        text-align: right;\n",
              "    }\n",
              "</style>\n",
              "<table border=\"1\" class=\"dataframe\">\n",
              "  <thead>\n",
              "    <tr style=\"text-align: right;\">\n",
              "      <th></th>\n",
              "      <th>date_time</th>\n",
              "      <th>공급량</th>\n",
              "    </tr>\n",
              "  </thead>\n",
              "  <tbody>\n",
              "    <tr>\n",
              "      <th>0</th>\n",
              "      <td>2013-01-01:1</td>\n",
              "      <td>13723.082</td>\n",
              "    </tr>\n",
              "    <tr>\n",
              "      <th>1</th>\n",
              "      <td>2013-01-01:10</td>\n",
              "      <td>15665.922</td>\n",
              "    </tr>\n",
              "    <tr>\n",
              "      <th>2</th>\n",
              "      <td>2013-01-01:11</td>\n",
              "      <td>15761.498</td>\n",
              "    </tr>\n",
              "    <tr>\n",
              "      <th>3</th>\n",
              "      <td>2013-01-01:12</td>\n",
              "      <td>14532.586</td>\n",
              "    </tr>\n",
              "    <tr>\n",
              "      <th>4</th>\n",
              "      <td>2013-01-01:13</td>\n",
              "      <td>13150.738</td>\n",
              "    </tr>\n",
              "  </tbody>\n",
              "</table>\n",
              "</div>"
            ],
            "text/plain": [
              "       date_time        공급량\n",
              "0   2013-01-01:1  13723.082\n",
              "1  2013-01-01:10  15665.922\n",
              "2  2013-01-01:11  15761.498\n",
              "3  2013-01-01:12  14532.586\n",
              "4  2013-01-01:13  13150.738"
            ]
          },
          "metadata": {},
          "execution_count": 13
        }
      ]
    },
    {
      "cell_type": "code",
      "metadata": {
        "id": "W5pezdufQkr7",
        "colab": {
          "base_uri": "https://localhost:8080/",
          "height": 203
        },
        "outputId": "d03cdabf-a36f-4623-b14e-ee9d9869855f"
      },
      "source": [
        "# 3) 합쳤던 날짜와 시간을 분리\n",
        "tmp['date'] = tmp.date_time.str.split(':').str[0]\n",
        "tmp['time'] = tmp.date_time.str.split(':').str[1]\n",
        "tmp = tmp.drop('date_time', axis=1)\n",
        "tmp.head()"
      ],
      "execution_count": null,
      "outputs": [
        {
          "output_type": "execute_result",
          "data": {
            "text/html": [
              "<div>\n",
              "<style scoped>\n",
              "    .dataframe tbody tr th:only-of-type {\n",
              "        vertical-align: middle;\n",
              "    }\n",
              "\n",
              "    .dataframe tbody tr th {\n",
              "        vertical-align: top;\n",
              "    }\n",
              "\n",
              "    .dataframe thead th {\n",
              "        text-align: right;\n",
              "    }\n",
              "</style>\n",
              "<table border=\"1\" class=\"dataframe\">\n",
              "  <thead>\n",
              "    <tr style=\"text-align: right;\">\n",
              "      <th></th>\n",
              "      <th>공급량</th>\n",
              "      <th>date</th>\n",
              "      <th>time</th>\n",
              "    </tr>\n",
              "  </thead>\n",
              "  <tbody>\n",
              "    <tr>\n",
              "      <th>0</th>\n",
              "      <td>13723.082</td>\n",
              "      <td>2013-01-01</td>\n",
              "      <td>1</td>\n",
              "    </tr>\n",
              "    <tr>\n",
              "      <th>1</th>\n",
              "      <td>15665.922</td>\n",
              "      <td>2013-01-01</td>\n",
              "      <td>10</td>\n",
              "    </tr>\n",
              "    <tr>\n",
              "      <th>2</th>\n",
              "      <td>15761.498</td>\n",
              "      <td>2013-01-01</td>\n",
              "      <td>11</td>\n",
              "    </tr>\n",
              "    <tr>\n",
              "      <th>3</th>\n",
              "      <td>14532.586</td>\n",
              "      <td>2013-01-01</td>\n",
              "      <td>12</td>\n",
              "    </tr>\n",
              "    <tr>\n",
              "      <th>4</th>\n",
              "      <td>13150.738</td>\n",
              "      <td>2013-01-01</td>\n",
              "      <td>13</td>\n",
              "    </tr>\n",
              "  </tbody>\n",
              "</table>\n",
              "</div>"
            ],
            "text/plain": [
              "         공급량        date time\n",
              "0  13723.082  2013-01-01    1\n",
              "1  15665.922  2013-01-01   10\n",
              "2  15761.498  2013-01-01   11\n",
              "3  14532.586  2013-01-01   12\n",
              "4  13150.738  2013-01-01   13"
            ]
          },
          "metadata": {},
          "execution_count": 14
        }
      ]
    },
    {
      "cell_type": "code",
      "metadata": {
        "id": "1OdJ2YtlSo0a",
        "colab": {
          "base_uri": "https://localhost:8080/"
        },
        "outputId": "4493dfa9-bcaa-4385-ccf7-71ec8fc6f766"
      },
      "source": [
        "tmp.dtypes"
      ],
      "execution_count": null,
      "outputs": [
        {
          "output_type": "execute_result",
          "data": {
            "text/plain": [
              "공급량     float64\n",
              "date     object\n",
              "time     object\n",
              "dtype: object"
            ]
          },
          "metadata": {},
          "execution_count": 15
        }
      ]
    },
    {
      "cell_type": "code",
      "metadata": {
        "id": "5yJ3rQrUR7zK",
        "colab": {
          "base_uri": "https://localhost:8080/",
          "height": 203
        },
        "outputId": "3937578a-64fd-45a2-87f5-4775d989db22"
      },
      "source": [
        "# 4) 날짜, 시간 순으로 재정렬\n",
        "tmp.date = pd.to_datetime(tmp.date)\n",
        "tmp.time = pd.to_numeric(tmp.time)\n",
        "\n",
        "tmp = tmp.sort_values(by=['date', 'time']).reset_index(drop=True)\n",
        "tmp.head()"
      ],
      "execution_count": null,
      "outputs": [
        {
          "output_type": "execute_result",
          "data": {
            "text/html": [
              "<div>\n",
              "<style scoped>\n",
              "    .dataframe tbody tr th:only-of-type {\n",
              "        vertical-align: middle;\n",
              "    }\n",
              "\n",
              "    .dataframe tbody tr th {\n",
              "        vertical-align: top;\n",
              "    }\n",
              "\n",
              "    .dataframe thead th {\n",
              "        text-align: right;\n",
              "    }\n",
              "</style>\n",
              "<table border=\"1\" class=\"dataframe\">\n",
              "  <thead>\n",
              "    <tr style=\"text-align: right;\">\n",
              "      <th></th>\n",
              "      <th>공급량</th>\n",
              "      <th>date</th>\n",
              "      <th>time</th>\n",
              "    </tr>\n",
              "  </thead>\n",
              "  <tbody>\n",
              "    <tr>\n",
              "      <th>0</th>\n",
              "      <td>13723.082</td>\n",
              "      <td>2013-01-01</td>\n",
              "      <td>1</td>\n",
              "    </tr>\n",
              "    <tr>\n",
              "      <th>1</th>\n",
              "      <td>12919.010</td>\n",
              "      <td>2013-01-01</td>\n",
              "      <td>2</td>\n",
              "    </tr>\n",
              "    <tr>\n",
              "      <th>2</th>\n",
              "      <td>12174.490</td>\n",
              "      <td>2013-01-01</td>\n",
              "      <td>3</td>\n",
              "    </tr>\n",
              "    <tr>\n",
              "      <th>3</th>\n",
              "      <td>12146.658</td>\n",
              "      <td>2013-01-01</td>\n",
              "      <td>4</td>\n",
              "    </tr>\n",
              "    <tr>\n",
              "      <th>4</th>\n",
              "      <td>12667.666</td>\n",
              "      <td>2013-01-01</td>\n",
              "      <td>5</td>\n",
              "    </tr>\n",
              "  </tbody>\n",
              "</table>\n",
              "</div>"
            ],
            "text/plain": [
              "         공급량       date  time\n",
              "0  13723.082 2013-01-01     1\n",
              "1  12919.010 2013-01-01     2\n",
              "2  12174.490 2013-01-01     3\n",
              "3  12146.658 2013-01-01     4\n",
              "4  12667.666 2013-01-01     5"
            ]
          },
          "metadata": {},
          "execution_count": 16
        }
      ]
    },
    {
      "cell_type": "code",
      "metadata": {
        "id": "O1cyRXgXRrsD",
        "colab": {
          "base_uri": "https://localhost:8080/",
          "height": 203
        },
        "outputId": "74298763-8bd1-4f45-cd79-f09ddff8168f"
      },
      "source": [
        "# 가스 공급량 데이터와 날씨 데이터 합치기\n",
        "gas_supply = tmp\n",
        "\n",
        "df = pd.concat([gas_supply, weather], axis=1)\n",
        "df.head()"
      ],
      "execution_count": null,
      "outputs": [
        {
          "output_type": "execute_result",
          "data": {
            "text/html": [
              "<div>\n",
              "<style scoped>\n",
              "    .dataframe tbody tr th:only-of-type {\n",
              "        vertical-align: middle;\n",
              "    }\n",
              "\n",
              "    .dataframe tbody tr th {\n",
              "        vertical-align: top;\n",
              "    }\n",
              "\n",
              "    .dataframe thead th {\n",
              "        text-align: right;\n",
              "    }\n",
              "</style>\n",
              "<table border=\"1\" class=\"dataframe\">\n",
              "  <thead>\n",
              "    <tr style=\"text-align: right;\">\n",
              "      <th></th>\n",
              "      <th>공급량</th>\n",
              "      <th>date</th>\n",
              "      <th>time</th>\n",
              "      <th>일시</th>\n",
              "      <th>기온(°C)</th>\n",
              "      <th>강수량(mm)</th>\n",
              "      <th>풍속(m/s)</th>\n",
              "      <th>습도(%)</th>\n",
              "    </tr>\n",
              "  </thead>\n",
              "  <tbody>\n",
              "    <tr>\n",
              "      <th>0</th>\n",
              "      <td>13723.082</td>\n",
              "      <td>2013-01-01</td>\n",
              "      <td>1</td>\n",
              "      <td>2013-01-01 0:00</td>\n",
              "      <td>-8.3</td>\n",
              "      <td>0.0</td>\n",
              "      <td>3.6</td>\n",
              "      <td>56.0</td>\n",
              "    </tr>\n",
              "    <tr>\n",
              "      <th>1</th>\n",
              "      <td>12919.010</td>\n",
              "      <td>2013-01-01</td>\n",
              "      <td>2</td>\n",
              "      <td>2013-01-01 1:00</td>\n",
              "      <td>-8.5</td>\n",
              "      <td>0.0</td>\n",
              "      <td>4.0</td>\n",
              "      <td>57.0</td>\n",
              "    </tr>\n",
              "    <tr>\n",
              "      <th>2</th>\n",
              "      <td>12174.490</td>\n",
              "      <td>2013-01-01</td>\n",
              "      <td>3</td>\n",
              "      <td>2013-01-01 2:00</td>\n",
              "      <td>-8.4</td>\n",
              "      <td>0.0</td>\n",
              "      <td>4.0</td>\n",
              "      <td>60.0</td>\n",
              "    </tr>\n",
              "    <tr>\n",
              "      <th>3</th>\n",
              "      <td>12146.658</td>\n",
              "      <td>2013-01-01</td>\n",
              "      <td>4</td>\n",
              "      <td>2013-01-01 3:00</td>\n",
              "      <td>-8.1</td>\n",
              "      <td>0.0</td>\n",
              "      <td>3.4</td>\n",
              "      <td>58.0</td>\n",
              "    </tr>\n",
              "    <tr>\n",
              "      <th>4</th>\n",
              "      <td>12667.666</td>\n",
              "      <td>2013-01-01</td>\n",
              "      <td>5</td>\n",
              "      <td>2013-01-01 4:00</td>\n",
              "      <td>-8.2</td>\n",
              "      <td>0.0</td>\n",
              "      <td>3.8</td>\n",
              "      <td>58.0</td>\n",
              "    </tr>\n",
              "  </tbody>\n",
              "</table>\n",
              "</div>"
            ],
            "text/plain": [
              "         공급량       date  time               일시  기온(°C)  강수량(mm)  풍속(m/s)  습도(%)\n",
              "0  13723.082 2013-01-01     1  2013-01-01 0:00    -8.3      0.0      3.6   56.0\n",
              "1  12919.010 2013-01-01     2  2013-01-01 1:00    -8.5      0.0      4.0   57.0\n",
              "2  12174.490 2013-01-01     3  2013-01-01 2:00    -8.4      0.0      4.0   60.0\n",
              "3  12146.658 2013-01-01     4  2013-01-01 3:00    -8.1      0.0      3.4   58.0\n",
              "4  12667.666 2013-01-01     5  2013-01-01 4:00    -8.2      0.0      3.8   58.0"
            ]
          },
          "metadata": {},
          "execution_count": 17
        }
      ]
    },
    {
      "cell_type": "code",
      "metadata": {
        "id": "AMDP0SFWTXmI",
        "colab": {
          "base_uri": "https://localhost:8080/",
          "height": 203
        },
        "outputId": "85a2b836-c082-47d6-8a24-18978efe8650"
      },
      "source": [
        "# 가스 공급량과 날씨의 날짜 및 시간이 일치하도록 통합하였음\n",
        "# 그러나 날짜와 시간 그 자체로는 공급량과 직접적인 관련이 없는 것으로 판단함\n",
        "# 실질적으로 관계가 있는 것은 기온, 강수량 등의 날씨 정보라고 판단함\n",
        "# 따라서 날짜, 시간과 관련된 특성 제거\n",
        "dels = ['date', 'time', '일시']\n",
        "df = df.drop(dels, axis=1)\n",
        "\n",
        "# 컬럼명 변경\n",
        "# 공급량, 기온(°C),\t강수량(mm),\t풍속(m/s),\t습도(%)\n",
        "df.columns = ['gas_supply', 'temperature', 'precipitation', 'wind_speed', 'humidity']\n",
        "df.head()"
      ],
      "execution_count": null,
      "outputs": [
        {
          "output_type": "execute_result",
          "data": {
            "text/html": [
              "<div>\n",
              "<style scoped>\n",
              "    .dataframe tbody tr th:only-of-type {\n",
              "        vertical-align: middle;\n",
              "    }\n",
              "\n",
              "    .dataframe tbody tr th {\n",
              "        vertical-align: top;\n",
              "    }\n",
              "\n",
              "    .dataframe thead th {\n",
              "        text-align: right;\n",
              "    }\n",
              "</style>\n",
              "<table border=\"1\" class=\"dataframe\">\n",
              "  <thead>\n",
              "    <tr style=\"text-align: right;\">\n",
              "      <th></th>\n",
              "      <th>gas_supply</th>\n",
              "      <th>temperature</th>\n",
              "      <th>precipitation</th>\n",
              "      <th>wind_speed</th>\n",
              "      <th>humidity</th>\n",
              "    </tr>\n",
              "  </thead>\n",
              "  <tbody>\n",
              "    <tr>\n",
              "      <th>0</th>\n",
              "      <td>13723.082</td>\n",
              "      <td>-8.3</td>\n",
              "      <td>0.0</td>\n",
              "      <td>3.6</td>\n",
              "      <td>56.0</td>\n",
              "    </tr>\n",
              "    <tr>\n",
              "      <th>1</th>\n",
              "      <td>12919.010</td>\n",
              "      <td>-8.5</td>\n",
              "      <td>0.0</td>\n",
              "      <td>4.0</td>\n",
              "      <td>57.0</td>\n",
              "    </tr>\n",
              "    <tr>\n",
              "      <th>2</th>\n",
              "      <td>12174.490</td>\n",
              "      <td>-8.4</td>\n",
              "      <td>0.0</td>\n",
              "      <td>4.0</td>\n",
              "      <td>60.0</td>\n",
              "    </tr>\n",
              "    <tr>\n",
              "      <th>3</th>\n",
              "      <td>12146.658</td>\n",
              "      <td>-8.1</td>\n",
              "      <td>0.0</td>\n",
              "      <td>3.4</td>\n",
              "      <td>58.0</td>\n",
              "    </tr>\n",
              "    <tr>\n",
              "      <th>4</th>\n",
              "      <td>12667.666</td>\n",
              "      <td>-8.2</td>\n",
              "      <td>0.0</td>\n",
              "      <td>3.8</td>\n",
              "      <td>58.0</td>\n",
              "    </tr>\n",
              "  </tbody>\n",
              "</table>\n",
              "</div>"
            ],
            "text/plain": [
              "   gas_supply  temperature  precipitation  wind_speed  humidity\n",
              "0   13723.082         -8.3            0.0         3.6      56.0\n",
              "1   12919.010         -8.5            0.0         4.0      57.0\n",
              "2   12174.490         -8.4            0.0         4.0      60.0\n",
              "3   12146.658         -8.1            0.0         3.4      58.0\n",
              "4   12667.666         -8.2            0.0         3.8      58.0"
            ]
          },
          "metadata": {},
          "execution_count": 18
        }
      ]
    },
    {
      "cell_type": "code",
      "metadata": {
        "id": "uEVuAB6HelBu",
        "colab": {
          "base_uri": "https://localhost:8080/",
          "height": 295
        },
        "outputId": "9e78863a-5fba-4a96-bf35-497a8288ecd9"
      },
      "source": [
        "df.describe()"
      ],
      "execution_count": null,
      "outputs": [
        {
          "output_type": "execute_result",
          "data": {
            "text/html": [
              "<div>\n",
              "<style scoped>\n",
              "    .dataframe tbody tr th:only-of-type {\n",
              "        vertical-align: middle;\n",
              "    }\n",
              "\n",
              "    .dataframe tbody tr th {\n",
              "        vertical-align: top;\n",
              "    }\n",
              "\n",
              "    .dataframe thead th {\n",
              "        text-align: right;\n",
              "    }\n",
              "</style>\n",
              "<table border=\"1\" class=\"dataframe\">\n",
              "  <thead>\n",
              "    <tr style=\"text-align: right;\">\n",
              "      <th></th>\n",
              "      <th>gas_supply</th>\n",
              "      <th>temperature</th>\n",
              "      <th>precipitation</th>\n",
              "      <th>wind_speed</th>\n",
              "      <th>humidity</th>\n",
              "    </tr>\n",
              "  </thead>\n",
              "  <tbody>\n",
              "    <tr>\n",
              "      <th>count</th>\n",
              "      <td>52584.000000</td>\n",
              "      <td>52584.000000</td>\n",
              "      <td>52584.000000</td>\n",
              "      <td>52584.000000</td>\n",
              "      <td>52584.000000</td>\n",
              "    </tr>\n",
              "    <tr>\n",
              "      <th>mean</th>\n",
              "      <td>6636.700256</td>\n",
              "      <td>13.202486</td>\n",
              "      <td>0.123874</td>\n",
              "      <td>2.387641</td>\n",
              "      <td>59.519053</td>\n",
              "    </tr>\n",
              "    <tr>\n",
              "      <th>std</th>\n",
              "      <td>4074.303325</td>\n",
              "      <td>11.266960</td>\n",
              "      <td>1.090455</td>\n",
              "      <td>1.358259</td>\n",
              "      <td>19.928065</td>\n",
              "    </tr>\n",
              "    <tr>\n",
              "      <th>min</th>\n",
              "      <td>786.995000</td>\n",
              "      <td>-18.000000</td>\n",
              "      <td>0.000000</td>\n",
              "      <td>0.000000</td>\n",
              "      <td>7.000000</td>\n",
              "    </tr>\n",
              "    <tr>\n",
              "      <th>25%</th>\n",
              "      <td>3651.625000</td>\n",
              "      <td>3.700000</td>\n",
              "      <td>0.000000</td>\n",
              "      <td>1.400000</td>\n",
              "      <td>44.000000</td>\n",
              "    </tr>\n",
              "    <tr>\n",
              "      <th>50%</th>\n",
              "      <td>5011.122500</td>\n",
              "      <td>14.300000</td>\n",
              "      <td>0.000000</td>\n",
              "      <td>2.200000</td>\n",
              "      <td>59.000000</td>\n",
              "    </tr>\n",
              "    <tr>\n",
              "      <th>75%</th>\n",
              "      <td>9550.072750</td>\n",
              "      <td>22.900000</td>\n",
              "      <td>0.000000</td>\n",
              "      <td>3.200000</td>\n",
              "      <td>75.000000</td>\n",
              "    </tr>\n",
              "    <tr>\n",
              "      <th>max</th>\n",
              "      <td>23180.309000</td>\n",
              "      <td>39.400000</td>\n",
              "      <td>50.500000</td>\n",
              "      <td>10.600000</td>\n",
              "      <td>100.000000</td>\n",
              "    </tr>\n",
              "  </tbody>\n",
              "</table>\n",
              "</div>"
            ],
            "text/plain": [
              "         gas_supply   temperature  precipitation    wind_speed      humidity\n",
              "count  52584.000000  52584.000000   52584.000000  52584.000000  52584.000000\n",
              "mean    6636.700256     13.202486       0.123874      2.387641     59.519053\n",
              "std     4074.303325     11.266960       1.090455      1.358259     19.928065\n",
              "min      786.995000    -18.000000       0.000000      0.000000      7.000000\n",
              "25%     3651.625000      3.700000       0.000000      1.400000     44.000000\n",
              "50%     5011.122500     14.300000       0.000000      2.200000     59.000000\n",
              "75%     9550.072750     22.900000       0.000000      3.200000     75.000000\n",
              "max    23180.309000     39.400000      50.500000     10.600000    100.000000"
            ]
          },
          "metadata": {},
          "execution_count": 19
        }
      ]
    },
    {
      "cell_type": "code",
      "metadata": {
        "id": "y1wFr_6qepro",
        "colab": {
          "base_uri": "https://localhost:8080/",
          "height": 335
        },
        "outputId": "52a886c0-7b0b-4a30-b113-738562021753"
      },
      "source": [
        "col_list = df.columns\n",
        "\n",
        "def checkOutlier(df, cols):\n",
        "  fig, axes = plt.subplots(1, 5, figsize=(25, 5))\n",
        "  for i, col in enumerate(col_list):\n",
        "    sns.boxplot(x=col, data=df, ax=axes[i])\n",
        "\n",
        "checkOutlier(df, col_list)"
      ],
      "execution_count": null,
      "outputs": [
        {
          "output_type": "display_data",
          "data": {
            "image/png": "[encoded data removed]",
            "text/plain": [
              "<Figure size 1800x360 with 5 Axes>"
            ]
          },
          "metadata": {
            "needs_background": "light"
          }
        }
      ]
    },
    {
      "cell_type": "code",
      "metadata": {
        "id": "53tXeGCvjQkh",
        "colab": {
          "base_uri": "https://localhost:8080/",
          "height": 335
        },
        "outputId": "ce2da5e5-025e-41ef-b9cc-092818c66239"
      },
      "source": [
        "# 타겟 이상치 제거하기\n",
        "df = df[df[target] < np.percentile(df[target], 99.5)]\n",
        "checkOutlier(df, col_list)"
      ],
      "execution_count": null,
      "outputs": [
        {
          "output_type": "display_data",
          "data": {
            "image/png": "[encoded data removed]",
            "text/plain": [
              "<Figure size 1800x360 with 5 Axes>"
            ]
          },
          "metadata": {
            "needs_background": "light"
          }
        }
      ]
    },
    {
      "cell_type": "code",
      "metadata": {
        "id": "UtWAtx9pjuzf",
        "colab": {
          "base_uri": "https://localhost:8080/"
        },
        "outputId": "262d933f-5b5e-4d11-8949-d52d5722c79a"
      },
      "source": [
        "df.shape"
      ],
      "execution_count": null,
      "outputs": [
        {
          "output_type": "execute_result",
          "data": {
            "text/plain": [
              "(52321, 5)"
            ]
          },
          "metadata": {},
          "execution_count": 22
        }
      ]
    },
    {
      "cell_type": "code",
      "metadata": {
        "id": "J7uZ_lHcT4pS",
        "colab": {
          "base_uri": "https://localhost:8080/",
          "height": 203
        },
        "outputId": "f0077bc1-d703-4ce3-a7c1-27a28b7108a2"
      },
      "source": [
        "# 특성과 타겟의 상관관계 보기\n",
        "df.corr()"
      ],
      "execution_count": null,
      "outputs": [
        {
          "output_type": "execute_result",
          "data": {
            "text/html": [
              "<div>\n",
              "<style scoped>\n",
              "    .dataframe tbody tr th:only-of-type {\n",
              "        vertical-align: middle;\n",
              "    }\n",
              "\n",
              "    .dataframe tbody tr th {\n",
              "        vertical-align: top;\n",
              "    }\n",
              "\n",
              "    .dataframe thead th {\n",
              "        text-align: right;\n",
              "    }\n",
              "</style>\n",
              "<table border=\"1\" class=\"dataframe\">\n",
              "  <thead>\n",
              "    <tr style=\"text-align: right;\">\n",
              "      <th></th>\n",
              "      <th>gas_supply</th>\n",
              "      <th>temperature</th>\n",
              "      <th>precipitation</th>\n",
              "      <th>wind_speed</th>\n",
              "      <th>humidity</th>\n",
              "    </tr>\n",
              "  </thead>\n",
              "  <tbody>\n",
              "    <tr>\n",
              "      <th>gas_supply</th>\n",
              "      <td>1.000000</td>\n",
              "      <td>-0.852480</td>\n",
              "      <td>-0.060798</td>\n",
              "      <td>0.071952</td>\n",
              "      <td>-0.268800</td>\n",
              "    </tr>\n",
              "    <tr>\n",
              "      <th>temperature</th>\n",
              "      <td>-0.852480</td>\n",
              "      <td>1.000000</td>\n",
              "      <td>0.055976</td>\n",
              "      <td>0.016616</td>\n",
              "      <td>0.141540</td>\n",
              "    </tr>\n",
              "    <tr>\n",
              "      <th>precipitation</th>\n",
              "      <td>-0.060798</td>\n",
              "      <td>0.055976</td>\n",
              "      <td>1.000000</td>\n",
              "      <td>0.025802</td>\n",
              "      <td>0.194767</td>\n",
              "    </tr>\n",
              "    <tr>\n",
              "      <th>wind_speed</th>\n",
              "      <td>0.071952</td>\n",
              "      <td>0.016616</td>\n",
              "      <td>0.025802</td>\n",
              "      <td>1.000000</td>\n",
              "      <td>-0.212817</td>\n",
              "    </tr>\n",
              "    <tr>\n",
              "      <th>humidity</th>\n",
              "      <td>-0.268800</td>\n",
              "      <td>0.141540</td>\n",
              "      <td>0.194767</td>\n",
              "      <td>-0.212817</td>\n",
              "      <td>1.000000</td>\n",
              "    </tr>\n",
              "  </tbody>\n",
              "</table>\n",
              "</div>"
            ],
            "text/plain": [
              "               gas_supply  temperature  precipitation  wind_speed  humidity\n",
              "gas_supply       1.000000    -0.852480      -0.060798    0.071952 -0.268800\n",
              "temperature     -0.852480     1.000000       0.055976    0.016616  0.141540\n",
              "precipitation   -0.060798     0.055976       1.000000    0.025802  0.194767\n",
              "wind_speed       0.071952     0.016616       0.025802    1.000000 -0.212817\n",
              "humidity        -0.268800     0.141540       0.194767   -0.212817  1.000000"
            ]
          },
          "metadata": {},
          "execution_count": 23
        }
      ]
    },
    {
      "cell_type": "code",
      "metadata": {
        "id": "zLbnfVS7tLfQ",
        "colab": {
          "base_uri": "https://localhost:8080/",
          "height": 297
        },
        "outputId": "4f460e44-5c7f-41ac-b4ab-6f48400e2677"
      },
      "source": [
        "# 가장 상관관계가 높은 온도와 타겟의 관계 시각화해보기\n",
        "baseline = df.gas_supply.mean() # 기준 모델 : 타겟(gas_supply)의 평균값\n",
        "print(baseline)\n",
        "\n",
        "sns.scatterplot(x=df.temperature, y=df.gas_supply)\n",
        "sns.lineplot(x=df.temperature, y=baseline, color='red'); # 기준 모델 시각화"
      ],
      "execution_count": null,
      "outputs": [
        {
          "output_type": "stream",
          "name": "stdout",
          "text": [
            "6571.254523900522\n"
          ]
        },
        {
          "output_type": "display_data",
          "data": {
            "image/png": "[encoded data removed]",
            "text/plain": [
              "<Figure size 432x288 with 1 Axes>"
            ]
          },
          "metadata": {
            "needs_background": "light"
          }
        }
      ]
    },
    {
      "cell_type": "code",
      "metadata": {
        "id": "6qReyf35t7c8",
        "colab": {
          "base_uri": "https://localhost:8080/"
        },
        "outputId": "e46f54c6-938b-40af-9cd5-793a16083420"
      },
      "source": [
        "# 기준 성능\n",
        "errors = baseline - df['gas_supply']\n",
        "baseline_mae = errors.abs().mean()\n",
        "baseline_mae"
      ],
      "execution_count": null,
      "outputs": [
        {
          "output_type": "execute_result",
          "data": {
            "text/plain": [
              "3349.347001163708"
            ]
          },
          "metadata": {},
          "execution_count": 69
        }
      ]
    },
    {
      "cell_type": "markdown",
      "metadata": {
        "id": "AwwX_ZwN7SFF"
      },
      "source": [
        "### 2) 풀고자 하는 문제가 분류/회귀 문제인지 정합니다.\n",
        "- **(객관식) 다음 설명 중 가장 틀린 항목을 고르세요.**\n",
        "    1. 특정한 종목의 다음날 주식 종가를 예측하는 문제는 Supervised Learning 문제이다.\n",
        "    2. 다음날 KOSPI 지수가 증가할지 감소할지 예측하는 문제는 Classification 문제이다.\n",
        "    3. 축구 경기 도중에 승패를 예측하는 모델을 만들기 위해서는 실시간 통계 정보와 경기마다 승패 데이터가 필요하다.\n",
        "    4. 이번 시즌 토트넘 선수들의 개인 통계 데이터(슛, 도움, ...)를 사용해서 다음 토트넘 경기의 승패를 예측할 수 있다.\n",
        "   "
      ]
    },
    {
      "cell_type": "code",
      "metadata": {
        "id": "CBexmV5GUsfZ"
      },
      "source": [
        "# 답 : 4"
      ],
      "execution_count": null,
      "outputs": []
    },
    {
      "cell_type": "code",
      "metadata": {
        "id": "Tg8OgIROZ-5g",
        "colab": {
          "base_uri": "https://localhost:8080/"
        },
        "outputId": "2bf2aeb1-c233-4bcf-c8e2-48c4ea056dd9"
      },
      "source": [
        "# 가스 공급량은 수치형(연속적)이므로 회귀 문제\n",
        "# 사용 가능한 방법 : 선형 회귀, 릿지 회귀, 결정 트리, 랜덤 포레스트\n",
        "\n",
        "# 훈련 / 검증 / 테스트 셋으로 분리\n",
        "train, test = train_test_split(df, test_size=0.30, random_state=2)\n",
        "train, val = train_test_split(train, test_size=0.30, random_state=2)\n",
        "\n",
        "train.shape, val.shape, test.shape"
      ],
      "execution_count": null,
      "outputs": [
        {
          "output_type": "execute_result",
          "data": {
            "text/plain": [
              "((25636, 5), (10988, 5), (15697, 5))"
            ]
          },
          "metadata": {},
          "execution_count": 24
        }
      ]
    },
    {
      "cell_type": "code",
      "metadata": {
        "id": "S2TOc9akgRpS"
      },
      "source": [
        "# 특성과 타겟 분리하기\n",
        "features = train.drop(columns=[target]).columns\n",
        "\n",
        "X_train = train[features]\n",
        "y_train = train[target]\n",
        "X_val = val[features]\n",
        "y_val = val[target]\n",
        "X_test = test[features]\n",
        "y_test = test[target]"
      ],
      "execution_count": null,
      "outputs": []
    },
    {
      "cell_type": "markdown",
      "metadata": {
        "id": "B-PZ4Dq-7SFG"
      },
      "source": [
        "### 3) 타겟의 분포를 분석하고 사용할 평가지표를 선택합니다. 평가지표를 선택한 이유를 설명하세요.\n",
        "- 분류: 클래스가 몇 개인지? 클래스 비율이 어떤지(balance or imbalance)\n",
        "- 회귀: 타겟 분포가 right-skewed 인지? log-transform을 사용할 것인지?\n",
        "- 분류: 다수 클래스(majority class) 비율이 50%~70% 인 경우 정확도(accuracy)만 사용해도 무방합니다. 하지만 범위를 넘어설 경우 정확도만을 사용해서는 모델을 잘못 이해할 수 있습니다. 어떤 평가지표를 사용해야 할까요?\n",
        "- 회귀: MAE, RMSE, R^2 등을 사용할 수 있습니다.\n",
        "- **(객관식) 같은 데이터로 스팸을 예측하는 모델 A와 B를 만들었습니다. 다음 설명 중 가장 올바른 항목을 선택하고 과제 제출폼에 제출하세요.**\n",
        "    1. A의 재현율은 80%이고 B의 재현율은 60%일 때 A가 더 좋은 모델이다.\n",
        "    2. A의 정밀도는 80%이고 B의 정밀도는 60%일 때 A가 더 좋은 모델이다.\n",
        "    3. A는 B보다 정밀도는 높지만 재현율은 낮다. A가 더 좋은 모델이다.\n",
        "    4. A는 B보다 재현율은 높지만, 정밀도는 낮다. A가 더 좋은 모델이다.\n",
        "    5. A는 B보다 정밀도, 재현율 모두 높다. A가 더 좋은 모델이다."
      ]
    },
    {
      "cell_type": "code",
      "metadata": {
        "id": "-z3bgSFDUz_O"
      },
      "source": [
        "# 답 : 5"
      ],
      "execution_count": null,
      "outputs": []
    },
    {
      "cell_type": "code",
      "metadata": {
        "id": "8i3TNGG3hHCN"
      },
      "source": [
        "from sklearn.preprocessing import StandardScaler\n",
        "from sklearn.compose import TransformedTargetRegressor\n",
        "from sklearn.linear_model import LinearRegression, RidgeCV\n",
        "from sklearn.tree import DecisionTreeRegressor\n",
        "from sklearn.ensemble import RandomForestRegressor\n",
        "from sklearn.model_selection import RandomizedSearchCV, GridSearchCV\n",
        "from sklearn.pipeline import make_pipeline\n",
        "from sklearn.metrics import mean_absolute_error, r2_score\n",
        "from scipy.stats import randint, uniform"
      ],
      "execution_count": null,
      "outputs": []
    },
    {
      "cell_type": "code",
      "metadata": {
        "id": "03MRjGKvgsCA",
        "colab": {
          "base_uri": "https://localhost:8080/",
          "height": 369
        },
        "outputId": "01d80d70-37dd-4f9f-df9b-9ad1b82cf4b5"
      },
      "source": [
        "sns.displot(y_train, kde=False);"
      ],
      "execution_count": null,
      "outputs": [
        {
          "output_type": "display_data",
          "data": {
            "image/png": "[encoded data removed]",
            "text/plain": [
              "<Figure size 360x360 with 1 Axes>"
            ]
          },
          "metadata": {
            "needs_background": "light"
          }
        }
      ]
    },
    {
      "cell_type": "code",
      "metadata": {
        "id": "fI_FYSDzidUq",
        "colab": {
          "base_uri": "https://localhost:8080/"
        },
        "outputId": "773ca42a-e4da-419f-bcda-62694aab6537"
      },
      "source": [
        "# 분포 형태가 right-skewed임\n",
        "# 로그 변환을 사용하여 비대칭 분포 형태를 정규 분포 형태로 변환 필요\n",
        "\n",
        "# 1) 선형 회귀\n",
        "pipe = make_pipeline(\n",
        "    StandardScaler(),    # 각 특성별 스케일을 통일시켜줌\n",
        "    LinearRegression(n_jobs=-1)\n",
        ")\n",
        "\n",
        "tt = TransformedTargetRegressor(regressor=pipe,\n",
        "                                func=np.log1p, inverse_func=np.expm1)\n",
        "\n",
        "tt.fit(X_train, y_train)\n",
        "print(tt.score(X_val, y_val))\n",
        "\n",
        "y_pred = tt.predict(X_test)\n",
        "\n",
        "mae = mean_absolute_error(y_test, y_pred)\n",
        "r2 = r2_score(y_test, y_pred)\n",
        "print(f'Test MAE: {mae:,.0f}')\n",
        "print(f'R2 Score: {r2:,.4f}\\n')"
      ],
      "execution_count": null,
      "outputs": [
        {
          "output_type": "stream",
          "name": "stdout",
          "text": [
            "0.7594612405948745\n",
            "Test MAE: 1,501\n",
            "R2 Score: 0.7527\n",
            "\n"
          ]
        }
      ]
    },
    {
      "cell_type": "code",
      "metadata": {
        "id": "xcDVXhIf7SFG",
        "colab": {
          "base_uri": "https://localhost:8080/"
        },
        "outputId": "a600e36e-602a-4e0d-b163-3687e862ceaa"
      },
      "source": [
        "# 2) 릿지 회귀\n",
        "alphas = [0, 0.001, 0.01, 0.1, 1]\n",
        "\n",
        "pipe_ridge = make_pipeline(\n",
        "    StandardScaler(),    # 각 특성별 스케일을 통일시켜줌\n",
        "    RidgeCV(alphas=alphas, cv=5)\n",
        ")\n",
        "\n",
        "tt_ridge = TransformedTargetRegressor(regressor=pipe_ridge,\n",
        "                                func=np.log1p, inverse_func=np.expm1)\n",
        "\n",
        "tt_ridge.fit(X_train, y_train)\n",
        "print(tt_ridge.score(X_val, y_val))\n",
        "\n",
        "y_pred_ridge = tt_ridge.predict(X_test)\n",
        "\n",
        "mae_ridge = mean_absolute_error(y_test, y_pred_ridge)\n",
        "r2_ridge = r2_score(y_test, y_pred_ridge)\n",
        "print(f'Test MAE: {mae_ridge:,.0f}')\n",
        "print(f'R2 Score: {r2_ridge:,.4f}\\n')\n",
        "\n",
        "print(f'alpha: {tt_ridge.regressor_.named_steps.ridgecv.alpha_}')"
      ],
      "execution_count": null,
      "outputs": [
        {
          "output_type": "stream",
          "name": "stdout",
          "text": [
            "0.759462161786495\n",
            "Test MAE: 1,501\n",
            "R2 Score: 0.7527\n",
            "\n",
            "alpha: 1.0\n"
          ]
        }
      ]
    },
    {
      "cell_type": "code",
      "metadata": {
        "id": "EJGHekTfqzhP",
        "colab": {
          "base_uri": "https://localhost:8080/"
        },
        "outputId": "d2ee86da-efdf-4152-e50f-f93ba2a7413a"
      },
      "source": [
        "# 3) 결정 트리\n",
        "pipe_dt = make_pipeline(\n",
        "    DecisionTreeRegressor(random_state=2)\n",
        ")\n",
        "\n",
        "tt_dt = TransformedTargetRegressor(regressor=pipe_dt,\n",
        "                                func=np.log1p, inverse_func=np.expm1)\n",
        "\n",
        "tt_dt.fit(X_train, y_train)\n",
        "print('훈련 정확도: ', tt_dt.score(X_train, y_train))\n",
        "print('검증 정확도: ', tt_dt.score(X_val, y_val))\n",
        "\n",
        "y_pred_dt = tt_dt.predict(X_test)\n",
        "\n",
        "mae_dt = mean_absolute_error(y_test, y_pred_dt)\n",
        "r2_dt = r2_score(y_test, y_pred_dt)\n",
        "print(f'Test MAE: {mae_dt:,.0f}')\n",
        "print(f'R2 Score: {r2_dt:,.4f}\\n')"
      ],
      "execution_count": null,
      "outputs": [
        {
          "output_type": "stream",
          "name": "stdout",
          "text": [
            "훈련 정확도:  0.9985379743093347\n",
            "검증 정확도:  0.6591315701654124\n",
            "Test MAE: 1,734\n",
            "R2 Score: 0.6484\n",
            "\n"
          ]
        }
      ]
    },
    {
      "cell_type": "code",
      "metadata": {
        "id": "rqIxlQuouOfO",
        "colab": {
          "base_uri": "https://localhost:8080/"
        },
        "outputId": "b7b9ca3c-f7d6-4a78-cab2-87f97c02bcca"
      },
      "source": [
        "# 과적합 줄이기 및 최적화\n",
        "dists = {\n",
        "    'decisiontreeregressor__splitter': ['best', 'random'],\n",
        "    'decisiontreeregressor__max_depth': [5, 10, 15, 20, None],\n",
        "    'decisiontreeregressor__min_samples_split': randint(2, 50),\n",
        "    'decisiontreeregressor__min_samples_leaf': randint(1, 50),\n",
        "    'decisiontreeregressor__max_features': uniform(0, 1)\n",
        "}\n",
        "\n",
        "clf = RandomizedSearchCV(\n",
        "    pipe_dt, \n",
        "    param_distributions=dists, \n",
        "    n_iter=50, \n",
        "    cv=3, \n",
        "    scoring='r2',  \n",
        "    verbose=1,\n",
        "    n_jobs=-1\n",
        ")\n",
        "\n",
        "clf.fit(X_train, y_train);"
      ],
      "execution_count": null,
      "outputs": [
        {
          "output_type": "stream",
          "name": "stdout",
          "text": [
            "Fitting 3 folds for each of 50 candidates, totalling 150 fits\n"
          ]
        },
        {
          "output_type": "stream",
          "name": "stderr",
          "text": [
            "[Parallel(n_jobs=-1)]: Using backend LokyBackend with 2 concurrent workers.\n",
            "[Parallel(n_jobs=-1)]: Done 150 out of 150 | elapsed:    2.0s finished\n"
          ]
        }
      ]
    },
    {
      "cell_type": "code",
      "metadata": {
        "id": "ntdMMwfEyrrL",
        "colab": {
          "base_uri": "https://localhost:8080/"
        },
        "outputId": "5671ff28-9c24-46c4-9a2e-acc2f65d7db4"
      },
      "source": [
        "tt_dt_opt = TransformedTargetRegressor(regressor=clf.best_estimator_,\n",
        "                                func=np.log1p, inverse_func=np.expm1)\n",
        "\n",
        "tt_dt_opt.fit(X_train, y_train)\n",
        "print('훈련 정확도: ', tt_dt_opt.score(X_train, y_train))\n",
        "print('검증 정확도: ', tt_dt_opt.score(X_val, y_val))\n",
        "\n",
        "y_pred_dt_opt = tt_dt_opt.predict(X_test)\n",
        "\n",
        "mae_dt_opt = mean_absolute_error(y_test, y_pred_dt_opt)\n",
        "r2_dt_opt = r2_score(y_test, y_pred_dt_opt)\n",
        "print(f'Test MAE: {mae_dt_opt:,.0f}')\n",
        "print(f'R2 Score: {r2_dt_opt:,.4f}\\n')"
      ],
      "execution_count": null,
      "outputs": [
        {
          "output_type": "stream",
          "name": "stdout",
          "text": [
            "훈련 정확도:  0.8352720877536755\n",
            "검증 정확도:  0.8208041130537242\n",
            "Test MAE: 1,310\n",
            "R2 Score: 0.8128\n",
            "\n"
          ]
        }
      ]
    },
    {
      "cell_type": "code",
      "metadata": {
        "id": "kmJmYlmKuK9o",
        "colab": {
          "base_uri": "https://localhost:8080/"
        },
        "outputId": "32428fea-d445-4120-a322-91bf75701966"
      },
      "source": [
        "# 4) 랜덤 포레스트\n",
        "pipe_rf = make_pipeline(\n",
        "    RandomForestRegressor(n_jobs=-1, random_state=2)\n",
        ")\n",
        "\n",
        "tt_rf = TransformedTargetRegressor(regressor=pipe_rf,\n",
        "                                func=np.log1p, inverse_func=np.expm1)\n",
        "\n",
        "tt_rf.fit(X_train, y_train)\n",
        "print('훈련 정확도: ', tt_rf.score(X_train, y_train))\n",
        "print('검증 정확도: ', tt_rf.score(X_val, y_val))\n",
        "\n",
        "y_pred_rf = tt_rf.predict(X_test)\n",
        "\n",
        "mae_rf = mean_absolute_error(y_test, y_pred_rf)\n",
        "r2_rf = r2_score(y_test, y_pred_rf)\n",
        "print(f'Test MAE: {mae_rf:,.0f}')\n",
        "print(f'R2 Score: {r2_rf:,.4f}\\n')"
      ],
      "execution_count": null,
      "outputs": [
        {
          "output_type": "stream",
          "name": "stdout",
          "text": [
            "훈련 정확도:  0.9699506511604965\n",
            "검증 정확도:  0.805298449223222\n",
            "Test MAE: 1,334\n",
            "R2 Score: 0.8028\n",
            "\n"
          ]
        }
      ]
    },
    {
      "cell_type": "code",
      "metadata": {
        "id": "H_vE1-e-0AwD",
        "colab": {
          "base_uri": "https://localhost:8080/"
        },
        "outputId": "b60261da-7956-4501-ef66-9f4207e60cb9"
      },
      "source": [
        "# 과적합 줄이기 및 최적화\n",
        "dists_rf = {\n",
        "    'randomforestregressor__n_estimators': randint(50, 500),\n",
        "    'randomforestregressor__max_depth': [5, 10, 15, 20, None],\n",
        "    'randomforestregressor__min_samples_split': randint(2, 50),\n",
        "    'randomforestregressor__min_samples_leaf': randint(1, 50),\n",
        "    'randomforestregressor__max_features': uniform(0, 1)\n",
        "}\n",
        "\n",
        "clf_rf = RandomizedSearchCV(\n",
        "    pipe_rf, \n",
        "    param_distributions=dists_rf, \n",
        "    n_iter=50, \n",
        "    cv=3, \n",
        "    scoring='r2',  \n",
        "    verbose=1,\n",
        "    n_jobs=-1\n",
        ")\n",
        "\n",
        "clf_rf.fit(X_train, y_train);"
      ],
      "execution_count": null,
      "outputs": [
        {
          "output_type": "stream",
          "name": "stdout",
          "text": [
            "Fitting 3 folds for each of 50 candidates, totalling 150 fits\n"
          ]
        },
        {
          "output_type": "stream",
          "name": "stderr",
          "text": [
            "[Parallel(n_jobs=-1)]: Using backend LokyBackend with 2 concurrent workers.\n",
            "[Parallel(n_jobs=-1)]: Done  46 tasks      | elapsed:  2.6min\n",
            "[Parallel(n_jobs=-1)]: Done 150 out of 150 | elapsed:  6.8min finished\n"
          ]
        }
      ]
    },
    {
      "cell_type": "code",
      "metadata": {
        "id": "EUMzm2LqIR6R",
        "colab": {
          "base_uri": "https://localhost:8080/"
        },
        "outputId": "274b4710-6635-4870-bca8-64ef657cbd08"
      },
      "source": [
        "tt_rf_opt = TransformedTargetRegressor(regressor=clf_rf.best_estimator_,\n",
        "                                func=np.log1p, inverse_func=np.expm1)\n",
        "\n",
        "tt_rf_opt.fit(X_train, y_train)\n",
        "print('훈련 정확도: ', tt_rf_opt.score(X_train, y_train))\n",
        "print('검증 정확도: ', tt_rf_opt.score(X_val, y_val))\n",
        "\n",
        "y_pred_rf_opt = tt_rf_opt.predict(X_test)\n",
        "\n",
        "mae_rf_opt = mean_absolute_error(y_test, y_pred_rf_opt)\n",
        "r2_rf_opt = r2_score(y_test, y_pred_rf_opt)\n",
        "print(f'Test MAE: {mae_rf_opt:,.0f}')\n",
        "print(f'R2 Score: {r2_rf_opt:,.4f}\\n')"
      ],
      "execution_count": null,
      "outputs": [
        {
          "output_type": "stream",
          "name": "stdout",
          "text": [
            "훈련 정확도:  0.8413144168136925\n",
            "검증 정확도:  0.8297855489691037\n",
            "Test MAE: 1,275\n",
            "R2 Score: 0.8246\n",
            "\n"
          ]
        }
      ]
    },
    {
      "cell_type": "markdown",
      "metadata": {
        "id": "rj3B5CSs7SFH"
      },
      "source": [
        "## 🔥 도전과제"
      ]
    },
    {
      "cell_type": "markdown",
      "metadata": {
        "id": "yULVCwsc7SFH"
      },
      "source": [
        "### 4) 데이터를 훈련/검증/테스트 데이터로 나누고 전처리를 수행합니다. 그리고 간단한 모델을 사용해서 학습을 수행합니다.\n",
        "- 이상치(outliers)가 있다면 어떻게 처리할 것인지 설명합니다.\n",
        "- 무작위로 or 시간에 따라 데이터를 나눌 것인지 설명합니다.\n",
        "- 모델 학습 결과를 리포팅 합니다.\n",
        "- 정보 누수(leakage)가 있는지 확인해 봅니다."
      ]
    },
    {
      "cell_type": "code",
      "metadata": {
        "id": "idGL_2l17SFI"
      },
      "source": [
        "# 1) 이상치\n",
        "# 타겟 분포 확인 결과 right-skewed이며, 우측에 이상치로 간주되는 값들이 존재\n",
        "# 따라서 타겟값 상위 0.5%인 데이터는 제거하였음\n",
        "# 그 외 특성의 경우 boxplot으로 시각화하면 이상치로 간주되는 것들이 다수 있음\n",
        "# 그러나 현실에서 충분히 존재 가능한 경우들이기에 그대로 두었음"
      ],
      "execution_count": null,
      "outputs": []
    },
    {
      "cell_type": "code",
      "metadata": {
        "id": "Dn9te6a8JGwF"
      },
      "source": [
        "# 2) 무작위 or 시계열\n",
        "# 데이터셋에 날짜와 시간 특성이 있어 시계열로 볼 수도 있음\n",
        "# 그러나 타겟인 '가스 공급량'에 날짜와 시간이 직접적인 관련이 없다고 판단하였음\n",
        "# 따라서 날짜와 시간을 제외한 나머지 특성에 대해서 분석을 진행하였음\n",
        "# 그 결과 무작위 샘플링을 통해 훈련 / 검증 / 테스트 데이터를 나누었음"
      ],
      "execution_count": null,
      "outputs": []
    },
    {
      "cell_type": "code",
      "metadata": {
        "id": "yqEDZEdNJeQq",
        "colab": {
          "base_uri": "https://localhost:8080/"
        },
        "outputId": "2354cfdd-9198-4c10-d5a0-4215ad5220ce"
      },
      "source": [
        "# 3) 모델 학습 결과\n",
        "print('<선형 회귀>')\n",
        "print(f'Test MAE: {mae:,.0f}')\n",
        "print(f'R2 Score: {r2:,.4f}\\n')\n",
        "\n",
        "print('<릿지 회귀>')\n",
        "print(f'Test MAE: {mae_ridge:,.0f}')\n",
        "print(f'R2 Score: {r2_ridge:,.4f}\\n')\n",
        "\n",
        "print('<결정 트리>')\n",
        "print(f'Test MAE: {mae_dt_opt:,.0f}')\n",
        "print(f'R2 Score: {r2_dt_opt:,.4f}\\n')\n",
        "\n",
        "print('<랜덤 포레스트>')\n",
        "print(f'Test MAE: {mae_rf_opt:,.0f}')\n",
        "print(f'R2 Score: {r2_rf_opt:,.4f}\\n')"
      ],
      "execution_count": null,
      "outputs": [
        {
          "output_type": "stream",
          "name": "stdout",
          "text": [
            "<선형 회귀>\n",
            "Test MAE: 1,501\n",
            "R2 Score: 0.7527\n",
            "\n",
            "<릿지 회귀>\n",
            "Test MAE: 1,501\n",
            "R2 Score: 0.7527\n",
            "\n",
            "<결정 트리>\n",
            "Test MAE: 1,310\n",
            "R2 Score: 0.8128\n",
            "\n",
            "<랜덤 포레스트>\n",
            "Test MAE: 1,275\n",
            "R2 Score: 0.8246\n",
            "\n"
          ]
        }
      ]
    },
    {
      "cell_type": "code",
      "metadata": {
        "id": "9Esefra1KEUo"
      },
      "source": [
        "# 4) 정보 누수 여부\n",
        "# (1) 타겟과 역할이 겹치는 등의 문제가 있는 특성 없음\n",
        "# (2) 훈련 데이터와 검증 데이터를 완전히 분리하였음\n",
        "# (3) 모든 모델에 과적합 없음(일반화되었음)\n",
        "# 따라서 정보 누수는 없다고 판단함"
      ],
      "execution_count": null,
      "outputs": []
    }
  ]
}