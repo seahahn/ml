{
  "nbformat": 4,
  "nbformat_minor": 0,
  "metadata": {
    "kernelspec": {
      "display_name": "Python 3",
      "language": "python",
      "name": "python3"
    },
    "language_info": {
      "codemirror_mode": {
        "name": "ipython",
        "version": 3
      },
      "file_extension": ".py",
      "mimetype": "text/x-python",
      "name": "python",
      "nbconvert_exporter": "python",
      "pygments_lexer": "ipython3",
      "version": "3.7.7"
    },
    "colab": {
      "name": "n221a-decision-trees",
      "provenance": [],
      "collapsed_sections": []
    }
  },
  "cells": [
    {
      "cell_type": "markdown",
      "metadata": {
        "id": "MFMvqS8sNtC0"
      },
      "source": [
        "<img align=\"right\" src=\"https://ds-cs-images.s3.ap-northeast-2.amazonaws.com/Codestates_Fulllogo_Color.png\" width=100>\n",
        "\n",
        "## *AIB / SECTION 2 / SPRINT 2 / NOTE 1*\n",
        "\n",
        "# 📝 Assignment\n",
        "---"
      ]
    },
    {
      "cell_type": "markdown",
      "metadata": {
        "id": "xtmUWt2ANtC3"
      },
      "source": [
        "# Decision Trees(결정트리)"
      ]
    },
    {
      "cell_type": "markdown",
      "metadata": {
        "id": "bxkLmvbENtC4"
      },
      "source": [
        "## 캐글 인클래스(InClass) Competitions\n",
        "\n",
        "### 1) 대회 참여(Join) 및 데이터셋 준비\n",
        "\n",
        "- [캐글 계정을 만드세요](https://www.kaggle.com/), 공유된 인클래스 대회 url을 통해 이동한 후 대회에 참여하세요.\n",
        "- H1N1 데이터를 훈련/검증/테스트 셋으로 나누어 준비하세요\n",
        "- **(객관식) 훈련데이터셋을 사용해 H1N1 타겟으로 기준모델을 설정하세요. 기준모델의 정확도를 제출하세요.**\n",
        "    1. 0.24\n",
        "    2. 0.50\n",
        "    3. 0.76\n",
        "    4. 1\n"
      ]
    },
    {
      "cell_type": "code",
      "metadata": {
        "id": "0I3sd3sP8QGS"
      },
      "source": [
        "# !mkdir -p ~/.kaggle\n",
        "# !cp kaggle.json ~/.kaggle/\n",
        "# !chmod 600 /root/.kaggle/kaggle.json\n",
        "# !pip install kaggle"
      ],
      "execution_count": null,
      "outputs": []
    },
    {
      "cell_type": "code",
      "metadata": {
        "id": "qkBRjWZUNtC5"
      },
      "source": [
        "import pandas as pd\n",
        "from sklearn.model_selection import train_test_split"
      ],
      "execution_count": 2,
      "outputs": []
    },
    {
      "cell_type": "code",
      "metadata": {
        "id": "Yei2ah5GJS-3"
      },
      "source": [
        "# 데이터 불러오기\n",
        "target = 'vacc_h1n1_f'\n",
        "# target = 'vacc_seas_f'\n",
        "train = pd.merge(pd.read_csv('https://ds-lecture-data.s3.ap-northeast-2.amazonaws.com/vacc_flu/train.csv'), \n",
        "                 pd.read_csv('https://ds-lecture-data.s3.ap-northeast-2.amazonaws.com/vacc_flu/train_labels.csv')[target], left_index=True, right_index=True)\n",
        "test = pd.read_csv('https://ds-lecture-data.s3.ap-northeast-2.amazonaws.com/vacc_flu/test.csv')\n",
        "sample_submission = pd.read_csv('https://ds-lecture-data.s3.ap-northeast-2.amazonaws.com/vacc_flu/submission.csv')"
      ],
      "execution_count": 3,
      "outputs": []
    },
    {
      "cell_type": "code",
      "metadata": {
        "id": "Fd-IAioQ5Tvs",
        "colab": {
          "base_uri": "https://localhost:8080/",
          "height": 203
        },
        "outputId": "2716ca54-1af1-433e-ad23-79ad2efac5a4"
      },
      "source": [
        "sample_submission.head()"
      ],
      "execution_count": 4,
      "outputs": [
        {
          "output_type": "execute_result",
          "data": {
            "text/html": [
              "<div>\n",
              "<style scoped>\n",
              "    .dataframe tbody tr th:only-of-type {\n",
              "        vertical-align: middle;\n",
              "    }\n",
              "\n",
              "    .dataframe tbody tr th {\n",
              "        vertical-align: top;\n",
              "    }\n",
              "\n",
              "    .dataframe thead th {\n",
              "        text-align: right;\n",
              "    }\n",
              "</style>\n",
              "<table border=\"1\" class=\"dataframe\">\n",
              "  <thead>\n",
              "    <tr style=\"text-align: right;\">\n",
              "      <th></th>\n",
              "      <th>Id</th>\n",
              "      <th>vacc_h1n1_f</th>\n",
              "    </tr>\n",
              "  </thead>\n",
              "  <tbody>\n",
              "    <tr>\n",
              "      <th>0</th>\n",
              "      <td>0</td>\n",
              "      <td>0</td>\n",
              "    </tr>\n",
              "    <tr>\n",
              "      <th>1</th>\n",
              "      <td>1</td>\n",
              "      <td>1</td>\n",
              "    </tr>\n",
              "    <tr>\n",
              "      <th>2</th>\n",
              "      <td>2</td>\n",
              "      <td>1</td>\n",
              "    </tr>\n",
              "    <tr>\n",
              "      <th>3</th>\n",
              "      <td>3</td>\n",
              "      <td>1</td>\n",
              "    </tr>\n",
              "    <tr>\n",
              "      <th>4</th>\n",
              "      <td>4</td>\n",
              "      <td>0</td>\n",
              "    </tr>\n",
              "  </tbody>\n",
              "</table>\n",
              "</div>"
            ],
            "text/plain": [
              "   Id  vacc_h1n1_f\n",
              "0   0            0\n",
              "1   1            1\n",
              "2   2            1\n",
              "3   3            1\n",
              "4   4            0"
            ]
          },
          "metadata": {},
          "execution_count": 4
        }
      ]
    },
    {
      "cell_type": "code",
      "metadata": {
        "id": "4SxTD5BjJbBO",
        "colab": {
          "base_uri": "https://localhost:8080/",
          "height": 391
        },
        "outputId": "fb690916-90aa-4c48-cda8-f7d4e92be2e0"
      },
      "source": [
        "train.head()"
      ],
      "execution_count": 5,
      "outputs": [
        {
          "output_type": "execute_result",
          "data": {
            "text/html": [
              "<div>\n",
              "<style scoped>\n",
              "    .dataframe tbody tr th:only-of-type {\n",
              "        vertical-align: middle;\n",
              "    }\n",
              "\n",
              "    .dataframe tbody tr th {\n",
              "        vertical-align: top;\n",
              "    }\n",
              "\n",
              "    .dataframe thead th {\n",
              "        text-align: right;\n",
              "    }\n",
              "</style>\n",
              "<table border=\"1\" class=\"dataframe\">\n",
              "  <thead>\n",
              "    <tr style=\"text-align: right;\">\n",
              "      <th></th>\n",
              "      <th>h1n1_concern</th>\n",
              "      <th>h1n1_knowledge</th>\n",
              "      <th>behavioral_antiviral_meds</th>\n",
              "      <th>behavioral_avoidance</th>\n",
              "      <th>behavioral_face_mask</th>\n",
              "      <th>behavioral_wash_hands</th>\n",
              "      <th>behavioral_large_gatherings</th>\n",
              "      <th>behavioral_outside_home</th>\n",
              "      <th>behavioral_touch_face</th>\n",
              "      <th>doctor_recc_h1n1</th>\n",
              "      <th>doctor_recc_seasonal</th>\n",
              "      <th>chronic_med_condition</th>\n",
              "      <th>child_under_6_months</th>\n",
              "      <th>health_insurance</th>\n",
              "      <th>health_worker</th>\n",
              "      <th>opinion_h1n1_vacc_effective</th>\n",
              "      <th>opinion_h1n1_risk</th>\n",
              "      <th>opinion_h1n1_sick_from_vacc</th>\n",
              "      <th>opinion_seas_vacc_effective</th>\n",
              "      <th>opinion_seas_risk</th>\n",
              "      <th>opinion_seas_sick_from_vacc</th>\n",
              "      <th>agegrp</th>\n",
              "      <th>education_comp</th>\n",
              "      <th>raceeth4_i</th>\n",
              "      <th>sex_i</th>\n",
              "      <th>inc_pov</th>\n",
              "      <th>marital</th>\n",
              "      <th>rent_own_r</th>\n",
              "      <th>employment_status</th>\n",
              "      <th>census_region</th>\n",
              "      <th>census_msa</th>\n",
              "      <th>n_adult_r</th>\n",
              "      <th>household_children</th>\n",
              "      <th>n_people_r</th>\n",
              "      <th>employment_industry</th>\n",
              "      <th>employment_occupation</th>\n",
              "      <th>hhs_region</th>\n",
              "      <th>state</th>\n",
              "      <th>vacc_h1n1_f</th>\n",
              "    </tr>\n",
              "  </thead>\n",
              "  <tbody>\n",
              "    <tr>\n",
              "      <th>0</th>\n",
              "      <td>NaN</td>\n",
              "      <td>NaN</td>\n",
              "      <td>NaN</td>\n",
              "      <td>NaN</td>\n",
              "      <td>NaN</td>\n",
              "      <td>NaN</td>\n",
              "      <td>NaN</td>\n",
              "      <td>NaN</td>\n",
              "      <td>NaN</td>\n",
              "      <td>0.0</td>\n",
              "      <td>0.0</td>\n",
              "      <td>0.0</td>\n",
              "      <td>NaN</td>\n",
              "      <td>1.0</td>\n",
              "      <td>NaN</td>\n",
              "      <td>NaN</td>\n",
              "      <td>NaN</td>\n",
              "      <td>NaN</td>\n",
              "      <td>NaN</td>\n",
              "      <td>NaN</td>\n",
              "      <td>NaN</td>\n",
              "      <td>10 - 17 Years</td>\n",
              "      <td>NaN</td>\n",
              "      <td>3</td>\n",
              "      <td>1</td>\n",
              "      <td>2</td>\n",
              "      <td>NaN</td>\n",
              "      <td>2.0</td>\n",
              "      <td>NaN</td>\n",
              "      <td>4</td>\n",
              "      <td>MSA, Not Principle City</td>\n",
              "      <td>2.0</td>\n",
              "      <td>3.0</td>\n",
              "      <td>5.0</td>\n",
              "      <td>NaN</td>\n",
              "      <td>NaN</td>\n",
              "      <td>9</td>\n",
              "      <td>CALIFORNIA</td>\n",
              "      <td>0</td>\n",
              "    </tr>\n",
              "    <tr>\n",
              "      <th>1</th>\n",
              "      <td>3.0</td>\n",
              "      <td>1.0</td>\n",
              "      <td>0.0</td>\n",
              "      <td>0.0</td>\n",
              "      <td>0.0</td>\n",
              "      <td>1.0</td>\n",
              "      <td>0.0</td>\n",
              "      <td>0.0</td>\n",
              "      <td>1.0</td>\n",
              "      <td>0.0</td>\n",
              "      <td>0.0</td>\n",
              "      <td>0.0</td>\n",
              "      <td>0.0</td>\n",
              "      <td>NaN</td>\n",
              "      <td>0.0</td>\n",
              "      <td>Very Effective</td>\n",
              "      <td>Very Low</td>\n",
              "      <td>Not Very Worried</td>\n",
              "      <td>Very Effective</td>\n",
              "      <td>Somewhat Low</td>\n",
              "      <td>Not At All Worried</td>\n",
              "      <td>45 - 54 Years</td>\n",
              "      <td>3.0</td>\n",
              "      <td>3</td>\n",
              "      <td>1</td>\n",
              "      <td>2</td>\n",
              "      <td>2.0</td>\n",
              "      <td>1.0</td>\n",
              "      <td>Employed</td>\n",
              "      <td>2</td>\n",
              "      <td>MSA, Principle City</td>\n",
              "      <td>1.0</td>\n",
              "      <td>0.0</td>\n",
              "      <td>1.0</td>\n",
              "      <td>Accommodation and Food Services Industries</td>\n",
              "      <td>Food Preparation and Serving Related Occupations</td>\n",
              "      <td>7</td>\n",
              "      <td>NEBRASKA</td>\n",
              "      <td>0</td>\n",
              "    </tr>\n",
              "    <tr>\n",
              "      <th>2</th>\n",
              "      <td>2.0</td>\n",
              "      <td>1.0</td>\n",
              "      <td>0.0</td>\n",
              "      <td>1.0</td>\n",
              "      <td>0.0</td>\n",
              "      <td>1.0</td>\n",
              "      <td>1.0</td>\n",
              "      <td>0.0</td>\n",
              "      <td>1.0</td>\n",
              "      <td>0.0</td>\n",
              "      <td>1.0</td>\n",
              "      <td>0.0</td>\n",
              "      <td>0.0</td>\n",
              "      <td>NaN</td>\n",
              "      <td>0.0</td>\n",
              "      <td>Somewhat Effective</td>\n",
              "      <td>Somewhat Low</td>\n",
              "      <td>Very Worried</td>\n",
              "      <td>Somewhat Effective</td>\n",
              "      <td>Somewhat Low</td>\n",
              "      <td>Very Worried</td>\n",
              "      <td>45 - 54 Years</td>\n",
              "      <td>3.0</td>\n",
              "      <td>3</td>\n",
              "      <td>1</td>\n",
              "      <td>2</td>\n",
              "      <td>2.0</td>\n",
              "      <td>2.0</td>\n",
              "      <td>Employed</td>\n",
              "      <td>1</td>\n",
              "      <td>MSA, Not Principle City</td>\n",
              "      <td>1.0</td>\n",
              "      <td>2.0</td>\n",
              "      <td>3.0</td>\n",
              "      <td>Transportation and Warehousing Industries</td>\n",
              "      <td>Transportation and Material Moving Occupations</td>\n",
              "      <td>1</td>\n",
              "      <td>MASSACHUSETTS</td>\n",
              "      <td>0</td>\n",
              "    </tr>\n",
              "    <tr>\n",
              "      <th>3</th>\n",
              "      <td>2.0</td>\n",
              "      <td>2.0</td>\n",
              "      <td>1.0</td>\n",
              "      <td>1.0</td>\n",
              "      <td>0.0</td>\n",
              "      <td>1.0</td>\n",
              "      <td>0.0</td>\n",
              "      <td>0.0</td>\n",
              "      <td>0.0</td>\n",
              "      <td>0.0</td>\n",
              "      <td>1.0</td>\n",
              "      <td>1.0</td>\n",
              "      <td>0.0</td>\n",
              "      <td>1.0</td>\n",
              "      <td>0.0</td>\n",
              "      <td>Very Effective</td>\n",
              "      <td>Very Low</td>\n",
              "      <td>Not Very Worried</td>\n",
              "      <td>Very Effective</td>\n",
              "      <td>Very High</td>\n",
              "      <td>Not At All Worried</td>\n",
              "      <td>35 - 44 Years</td>\n",
              "      <td>4.0</td>\n",
              "      <td>1</td>\n",
              "      <td>2</td>\n",
              "      <td>1</td>\n",
              "      <td>1.0</td>\n",
              "      <td>1.0</td>\n",
              "      <td>Employed</td>\n",
              "      <td>3</td>\n",
              "      <td>MSA, Not Principle City</td>\n",
              "      <td>2.0</td>\n",
              "      <td>2.0</td>\n",
              "      <td>4.0</td>\n",
              "      <td>Professional, Scientific, and Technical Servic...</td>\n",
              "      <td>Legal Occupations</td>\n",
              "      <td>6</td>\n",
              "      <td>LOUISIANA</td>\n",
              "      <td>0</td>\n",
              "    </tr>\n",
              "    <tr>\n",
              "      <th>4</th>\n",
              "      <td>1.0</td>\n",
              "      <td>2.0</td>\n",
              "      <td>0.0</td>\n",
              "      <td>1.0</td>\n",
              "      <td>0.0</td>\n",
              "      <td>1.0</td>\n",
              "      <td>0.0</td>\n",
              "      <td>0.0</td>\n",
              "      <td>1.0</td>\n",
              "      <td>0.0</td>\n",
              "      <td>0.0</td>\n",
              "      <td>0.0</td>\n",
              "      <td>0.0</td>\n",
              "      <td>1.0</td>\n",
              "      <td>0.0</td>\n",
              "      <td>Very Effective</td>\n",
              "      <td>Very Low</td>\n",
              "      <td>Not At All Worried</td>\n",
              "      <td>Not At All Effective</td>\n",
              "      <td>Very Low</td>\n",
              "      <td>Not At All Worried</td>\n",
              "      <td>55 - 64 Years</td>\n",
              "      <td>3.0</td>\n",
              "      <td>3</td>\n",
              "      <td>2</td>\n",
              "      <td>2</td>\n",
              "      <td>1.0</td>\n",
              "      <td>1.0</td>\n",
              "      <td>Employed</td>\n",
              "      <td>3</td>\n",
              "      <td>MSA, Not Principle City</td>\n",
              "      <td>3.0</td>\n",
              "      <td>0.0</td>\n",
              "      <td>3.0</td>\n",
              "      <td>Education Services Industries</td>\n",
              "      <td>Office and Administrative Support Occupations</td>\n",
              "      <td>4</td>\n",
              "      <td>ALABAMA</td>\n",
              "      <td>1</td>\n",
              "    </tr>\n",
              "  </tbody>\n",
              "</table>\n",
              "</div>"
            ],
            "text/plain": [
              "   h1n1_concern  h1n1_knowledge  ...          state  vacc_h1n1_f\n",
              "0           NaN             NaN  ...     CALIFORNIA            0\n",
              "1           3.0             1.0  ...       NEBRASKA            0\n",
              "2           2.0             1.0  ...  MASSACHUSETTS            0\n",
              "3           2.0             2.0  ...      LOUISIANA            0\n",
              "4           1.0             2.0  ...        ALABAMA            1\n",
              "\n",
              "[5 rows x 39 columns]"
            ]
          },
          "metadata": {},
          "execution_count": 5
        }
      ]
    },
    {
      "cell_type": "code",
      "metadata": {
        "id": "6CHG5qHQJp94",
        "colab": {
          "base_uri": "https://localhost:8080/"
        },
        "outputId": "f2d1cdf0-ae35-4827-96cd-44a992028d1f"
      },
      "source": [
        "# 훈련 / 검증 / 테스트 셋으로 분리\n",
        "train, val = train_test_split(train, train_size=0.80, test_size=0.20, \n",
        "                              stratify=train[target], random_state=2)\n",
        "\n",
        "\n",
        "train.shape, val.shape, test.shape"
      ],
      "execution_count": 6,
      "outputs": [
        {
          "output_type": "execute_result",
          "data": {
            "text/plain": [
              "((33723, 39), (8431, 39), (28104, 38))"
            ]
          },
          "metadata": {},
          "execution_count": 6
        }
      ]
    },
    {
      "cell_type": "code",
      "metadata": {
        "id": "dvgw7xBEKMjx",
        "colab": {
          "base_uri": "https://localhost:8080/"
        },
        "outputId": "551b18ad-5d8b-4c75-84a2-b881733147c0"
      },
      "source": [
        "# 기준 모델 설정\n",
        "train[target].value_counts(normalize=True)\n",
        "# 기준 모델 정확도 : 0.760935"
      ],
      "execution_count": 7,
      "outputs": [
        {
          "output_type": "execute_result",
          "data": {
            "text/plain": [
              "0    0.760935\n",
              "1    0.239065\n",
              "Name: vacc_h1n1_f, dtype: float64"
            ]
          },
          "metadata": {},
          "execution_count": 7
        }
      ]
    },
    {
      "cell_type": "markdown",
      "metadata": {
        "id": "GHoSeso3NtC6"
      },
      "source": [
        "### 2) 데이터 EDA 및 특성공학 수행\n",
        "- profiling을 사용하여 데이터를 살펴보고, missing value, zeros, cardinarity 등을 확인하여 처리하세요.\n",
        "- 본인만의 특성공학을 수행하세요.\n"
      ]
    },
    {
      "cell_type": "code",
      "metadata": {
        "id": "0NheFKIbNtC6"
      },
      "source": [
        "# ! pip install https://github.com/pandas-profiling/pandas-profiling/archive/master.zip\n",
        "from pandas_profiling import ProfileReport"
      ],
      "execution_count": 8,
      "outputs": []
    },
    {
      "cell_type": "code",
      "metadata": {
        "id": "F6FHBwTWKzce"
      },
      "source": [
        "# profile = ProfileReport(train, minimal=True).to_notebook_iframe()"
      ],
      "execution_count": null,
      "outputs": []
    },
    {
      "cell_type": "code",
      "metadata": {
        "id": "9t513ZTjLTnK",
        "colab": {
          "base_uri": "https://localhost:8080/"
        },
        "outputId": "0fbb5033-a531-4b95-b798-fc7f9dc19424"
      },
      "source": [
        "train.T.duplicated()"
      ],
      "execution_count": 10,
      "outputs": [
        {
          "output_type": "execute_result",
          "data": {
            "text/plain": [
              "h1n1_concern                   False\n",
              "h1n1_knowledge                 False\n",
              "behavioral_antiviral_meds      False\n",
              "behavioral_avoidance           False\n",
              "behavioral_face_mask           False\n",
              "behavioral_wash_hands          False\n",
              "behavioral_large_gatherings    False\n",
              "behavioral_outside_home        False\n",
              "behavioral_touch_face          False\n",
              "doctor_recc_h1n1               False\n",
              "doctor_recc_seasonal           False\n",
              "chronic_med_condition          False\n",
              "child_under_6_months           False\n",
              "health_insurance               False\n",
              "health_worker                  False\n",
              "opinion_h1n1_vacc_effective    False\n",
              "opinion_h1n1_risk              False\n",
              "opinion_h1n1_sick_from_vacc    False\n",
              "opinion_seas_vacc_effective    False\n",
              "opinion_seas_risk              False\n",
              "opinion_seas_sick_from_vacc    False\n",
              "agegrp                         False\n",
              "education_comp                 False\n",
              "raceeth4_i                     False\n",
              "sex_i                          False\n",
              "inc_pov                        False\n",
              "marital                        False\n",
              "rent_own_r                     False\n",
              "employment_status              False\n",
              "census_region                  False\n",
              "census_msa                     False\n",
              "n_adult_r                      False\n",
              "household_children             False\n",
              "n_people_r                     False\n",
              "employment_industry            False\n",
              "employment_occupation          False\n",
              "hhs_region                     False\n",
              "state                          False\n",
              "vacc_h1n1_f                    False\n",
              "dtype: bool"
            ]
          },
          "metadata": {},
          "execution_count": 10
        }
      ]
    },
    {
      "cell_type": "code",
      "metadata": {
        "id": "iuhjJXLWLtIu",
        "colab": {
          "base_uri": "https://localhost:8080/",
          "height": 418
        },
        "outputId": "e60745cb-5995-449f-9a91-fc7563c18a34"
      },
      "source": [
        "train.describe(exclude='number').T.sort_values(by='unique')"
      ],
      "execution_count": 11,
      "outputs": [
        {
          "output_type": "execute_result",
          "data": {
            "text/html": [
              "<div>\n",
              "<style scoped>\n",
              "    .dataframe tbody tr th:only-of-type {\n",
              "        vertical-align: middle;\n",
              "    }\n",
              "\n",
              "    .dataframe tbody tr th {\n",
              "        vertical-align: top;\n",
              "    }\n",
              "\n",
              "    .dataframe thead th {\n",
              "        text-align: right;\n",
              "    }\n",
              "</style>\n",
              "<table border=\"1\" class=\"dataframe\">\n",
              "  <thead>\n",
              "    <tr style=\"text-align: right;\">\n",
              "      <th></th>\n",
              "      <th>count</th>\n",
              "      <th>unique</th>\n",
              "      <th>top</th>\n",
              "      <th>freq</th>\n",
              "    </tr>\n",
              "  </thead>\n",
              "  <tbody>\n",
              "    <tr>\n",
              "      <th>employment_status</th>\n",
              "      <td>25466</td>\n",
              "      <td>3</td>\n",
              "      <td>Employed</td>\n",
              "      <td>13722</td>\n",
              "    </tr>\n",
              "    <tr>\n",
              "      <th>census_msa</th>\n",
              "      <td>33723</td>\n",
              "      <td>3</td>\n",
              "      <td>MSA, Not Principle City</td>\n",
              "      <td>15202</td>\n",
              "    </tr>\n",
              "    <tr>\n",
              "      <th>opinion_h1n1_vacc_effective</th>\n",
              "      <td>26637</td>\n",
              "      <td>6</td>\n",
              "      <td>Somewhat Effective</td>\n",
              "      <td>11710</td>\n",
              "    </tr>\n",
              "    <tr>\n",
              "      <th>opinion_h1n1_risk</th>\n",
              "      <td>26602</td>\n",
              "      <td>6</td>\n",
              "      <td>Somewhat Low</td>\n",
              "      <td>9980</td>\n",
              "    </tr>\n",
              "    <tr>\n",
              "      <th>opinion_h1n1_sick_from_vacc</th>\n",
              "      <td>26568</td>\n",
              "      <td>6</td>\n",
              "      <td>Not Very Worried</td>\n",
              "      <td>9229</td>\n",
              "    </tr>\n",
              "    <tr>\n",
              "      <th>opinion_seas_vacc_effective</th>\n",
              "      <td>26519</td>\n",
              "      <td>6</td>\n",
              "      <td>Somewhat Effective</td>\n",
              "      <td>11571</td>\n",
              "    </tr>\n",
              "    <tr>\n",
              "      <th>opinion_seas_risk</th>\n",
              "      <td>26466</td>\n",
              "      <td>6</td>\n",
              "      <td>Somewhat Low</td>\n",
              "      <td>9057</td>\n",
              "    </tr>\n",
              "    <tr>\n",
              "      <th>opinion_seas_sick_from_vacc</th>\n",
              "      <td>26413</td>\n",
              "      <td>6</td>\n",
              "      <td>Not At All Worried</td>\n",
              "      <td>11813</td>\n",
              "    </tr>\n",
              "    <tr>\n",
              "      <th>agegrp</th>\n",
              "      <td>33723</td>\n",
              "      <td>7</td>\n",
              "      <td>65+ Years</td>\n",
              "      <td>6821</td>\n",
              "    </tr>\n",
              "    <tr>\n",
              "      <th>employment_industry</th>\n",
              "      <td>13714</td>\n",
              "      <td>23</td>\n",
              "      <td>Health Care and Social Assistance Industries</td>\n",
              "      <td>2451</td>\n",
              "    </tr>\n",
              "    <tr>\n",
              "      <th>employment_occupation</th>\n",
              "      <td>13714</td>\n",
              "      <td>25</td>\n",
              "      <td>Management Occupations</td>\n",
              "      <td>1769</td>\n",
              "    </tr>\n",
              "    <tr>\n",
              "      <th>state</th>\n",
              "      <td>33723</td>\n",
              "      <td>51</td>\n",
              "      <td>CALIFORNIA</td>\n",
              "      <td>829</td>\n",
              "    </tr>\n",
              "  </tbody>\n",
              "</table>\n",
              "</div>"
            ],
            "text/plain": [
              "                             count  ...   freq\n",
              "employment_status            25466  ...  13722\n",
              "census_msa                   33723  ...  15202\n",
              "opinion_h1n1_vacc_effective  26637  ...  11710\n",
              "opinion_h1n1_risk            26602  ...   9980\n",
              "opinion_h1n1_sick_from_vacc  26568  ...   9229\n",
              "opinion_seas_vacc_effective  26519  ...  11571\n",
              "opinion_seas_risk            26466  ...   9057\n",
              "opinion_seas_sick_from_vacc  26413  ...  11813\n",
              "agegrp                       33723  ...   6821\n",
              "employment_industry          13714  ...   2451\n",
              "employment_occupation        13714  ...   1769\n",
              "state                        33723  ...    829\n",
              "\n",
              "[12 rows x 4 columns]"
            ]
          },
          "metadata": {},
          "execution_count": 11
        }
      ]
    },
    {
      "cell_type": "code",
      "metadata": {
        "id": "qrabAcHWrho2"
      },
      "source": [
        "import numpy as np\n",
        "\n",
        "def engineer(df):\n",
        "    \"\"\"특성을 엔지니어링 하는 함수입니다.\"\"\"\n",
        "    \n",
        "    # 높은 카디널리티를 가지는 특성을 제거합니다.\n",
        "    selected_cols = df.select_dtypes(include=['number', 'object'])\n",
        "    labels = selected_cols.nunique() # 특성별 카디널리티 리스트\n",
        "    selected_features = labels[labels <= 30].index.tolist() # 카디널리티가 30보다 작은 특성만 선택합니다.\n",
        "    df = df[selected_features]\n",
        "    \n",
        "    # 새로운 특성을 생성합니다.\n",
        "    behaviorals = [col for col in df.columns if 'behavioral' in col] \n",
        "    df['behaviorals'] = df[behaviorals].sum(axis=1)\n",
        "    \n",
        "    \n",
        "    dels = [col for col in df.columns if ('employment' in col or 'seas' in col)]\n",
        "    df.drop(columns=dels, inplace=True)\n",
        "        \n",
        "    return df\n",
        "\n",
        "\n",
        "train = engineer(train)\n",
        "val = engineer(val)\n",
        "test = engineer(test)"
      ],
      "execution_count": 12,
      "outputs": []
    },
    {
      "cell_type": "code",
      "metadata": {
        "id": "_p0H39AWrnKA"
      },
      "source": [
        "features = train.drop(columns=[target]).columns"
      ],
      "execution_count": 13,
      "outputs": []
    },
    {
      "cell_type": "code",
      "metadata": {
        "id": "uUiGv6t_rqxj"
      },
      "source": [
        "# 훈련/검증/테스트 데이터를 특성과 타겟으로 분리\n",
        "X_train = train[features]\n",
        "y_train = train[target]\n",
        "X_val = val[features]\n",
        "y_val = val[target]\n",
        "X_test = test[features]"
      ],
      "execution_count": 14,
      "outputs": []
    },
    {
      "cell_type": "markdown",
      "metadata": {
        "id": "SXfChANSOLvp"
      },
      "source": [
        "\n",
        "### 3) 모델링 수행\n",
        "- 결정트리를 학습시킵니다. 하이퍼파라미터를 수정하여 성능을 높여보세요. 과적합을 주의하세요!\n",
        "- 검증세트 스코어를 확인하세요.(평가지표는 F1-score입니다, 수식은 캐글 Overview-Evaluation 페이지를 확인해 주세요. 평가지표에 대한 내용은 다음에 자세히 배우고 활용할 것입니다 지금은 스코어를 올리기 위한 노력을 전혀 기울이지 말고 결정트리의 개념과 코드이해, 사용에 집중하세요!)\n",
        "- 특성중요도를 그래프로 나타내 보세요\n",
        "- **검증세트의 F1-score를 제출하세요. (0.5 이상 통과)**"
      ]
    },
    {
      "cell_type": "code",
      "metadata": {
        "id": "1yZGHb9_tMX2"
      },
      "source": [
        "# ! pip install category_encoders"
      ],
      "execution_count": null,
      "outputs": []
    },
    {
      "cell_type": "code",
      "metadata": {
        "id": "nWw6o4G4ONPz",
        "colab": {
          "base_uri": "https://localhost:8080/"
        },
        "outputId": "ca51e391-f578-4002-cea0-b1f4c5f59fb0"
      },
      "source": [
        "from category_encoders import OneHotEncoder\n",
        "from sklearn.impute import SimpleImputer\n",
        "from sklearn.pipeline import make_pipeline\n",
        "from sklearn.tree import DecisionTreeClassifier\n",
        "from sklearn.metrics import f1_score\n",
        "%matplotlib inline\n",
        "import matplotlib.pyplot as plt"
      ],
      "execution_count": 18,
      "outputs": [
        {
          "output_type": "stream",
          "name": "stderr",
          "text": [
            "/usr/local/lib/python3.7/dist-packages/statsmodels/tools/_testing.py:19: FutureWarning: pandas.util.testing is deprecated. Use the functions in the public API at pandas.testing instead.\n",
            "  import pandas.util.testing as tm\n"
          ]
        }
      ]
    },
    {
      "cell_type": "code",
      "metadata": {
        "id": "Cv16nz8ntVqm",
        "colab": {
          "base_uri": "https://localhost:8080/",
          "height": 269
        },
        "outputId": "c23884e5-e7a0-4032-84c7-bf748a4991c8"
      },
      "source": [
        "train_score = []\n",
        "val_score = []\n",
        "for i in np.arange(1, 10):\n",
        "  pipe = make_pipeline(\n",
        "      OneHotEncoder(use_cat_names=True),  \n",
        "      SimpleImputer(), \n",
        "      DecisionTreeClassifier(max_depth = i, random_state=1)\n",
        "  )\n",
        "\n",
        "  pipe.fit(X_train, y_train)\n",
        "  train_score.append(pipe.score(X_train, y_train))\n",
        "  val_score.append(pipe.score(X_val, y_val))\n",
        "  # print('훈련 정확도: ', pipe.score(X_train, y_train))\n",
        "  # print('검증 정확도: ', pipe.score(X_val, y_val))\n",
        "\n",
        "plt.plot(np.arange(1, 10), train_score, label='train')\n",
        "plt.plot(np.arange(1, 10), val_score, label='val')\n",
        "plt.legend()\n",
        "plt.show()\n",
        "\n",
        "# max_depth = 6"
      ],
      "execution_count": 19,
      "outputs": [
        {
          "output_type": "display_data",
          "data": {
            "image/png": "[encoded data removed]",
            "text/plain": [
              "<Figure size 432x288 with 1 Axes>"
            ]
          },
          "metadata": {
            "needs_background": "light"
          }
        }
      ]
    },
    {
      "cell_type": "code",
      "metadata": {
        "id": "s3vEKetCvGfT",
        "colab": {
          "base_uri": "https://localhost:8080/",
          "height": 269
        },
        "outputId": "cb8655ce-221d-498b-89cb-b8e70a02edab"
      },
      "source": [
        "train_score = []\n",
        "val_score = []\n",
        "count_number = np.arange(60, 70)\n",
        "for i in count_number:\n",
        "  pipe = make_pipeline(\n",
        "      OneHotEncoder(use_cat_names=True),  \n",
        "      SimpleImputer(), \n",
        "      DecisionTreeClassifier(min_samples_split = i, random_state=1)\n",
        "  )\n",
        "\n",
        "  pipe.fit(X_train, y_train)\n",
        "  train_score.append(pipe.score(X_train, y_train))\n",
        "  val_score.append(pipe.score(X_val, y_val))\n",
        "  # print('훈련 정확도: ', pipe.score(X_train, y_train))\n",
        "  # print('검증 정확도: ', pipe.score(X_val, y_val))\n",
        "\n",
        "plt.plot(count_number, train_score, label='train')\n",
        "plt.plot(count_number, val_score, label='val')\n",
        "plt.legend()\n",
        "plt.show()\n",
        "\n",
        "# min_samples_split = 65"
      ],
      "execution_count": 20,
      "outputs": [
        {
          "output_type": "display_data",
          "data": {
            "image/png": "[encoded data removed]",
            "text/plain": [
              "<Figure size 432x288 with 1 Axes>"
            ]
          },
          "metadata": {
            "needs_background": "light"
          }
        }
      ]
    },
    {
      "cell_type": "code",
      "metadata": {
        "id": "wo9_q_VwwrnC",
        "colab": {
          "base_uri": "https://localhost:8080/",
          "height": 272
        },
        "outputId": "a061b767-03ce-46ec-caa3-5bd3a4d1795e"
      },
      "source": [
        "train_score = []\n",
        "val_score = []\n",
        "count_number = np.arange(34, 40)\n",
        "for i in count_number:\n",
        "  pipe = make_pipeline(\n",
        "      OneHotEncoder(use_cat_names=True),  \n",
        "      SimpleImputer(), \n",
        "      DecisionTreeClassifier(min_samples_leaf = i, random_state=1)\n",
        "  )\n",
        "\n",
        "  pipe.fit(X_train, y_train)\n",
        "  train_score.append(pipe.score(X_train, y_train))\n",
        "  val_score.append(pipe.score(X_val, y_val))\n",
        "  # print('훈련 정확도: ', pipe.score(X_train, y_train))\n",
        "  # print('검증 정확도: ', pipe.score(X_val, y_val))\n",
        "\n",
        "plt.plot(count_number, train_score, label='train')\n",
        "plt.plot(count_number, val_score, label='val')\n",
        "plt.legend()\n",
        "plt.show()\n",
        "\n",
        "# min_samples_leaf = 36"
      ],
      "execution_count": 21,
      "outputs": [
        {
          "output_type": "display_data",
          "data": {
            "image/png": "[encoded data removed]",
            "text/plain": [
              "<Figure size 432x288 with 1 Axes>"
            ]
          },
          "metadata": {
            "needs_background": "light"
          }
        }
      ]
    },
    {
      "cell_type": "code",
      "metadata": {
        "id": "mUBuF1jEyHSn",
        "colab": {
          "base_uri": "https://localhost:8080/"
        },
        "outputId": "36f346f0-e866-4a58-a31c-33c005c5a44a"
      },
      "source": [
        "# 결정 트리 학습\n",
        "pipe = make_pipeline(\n",
        "    OneHotEncoder(use_cat_names=True),  \n",
        "    SimpleImputer(), \n",
        "    DecisionTreeClassifier(min_samples_leaf = 36, random_state=1)\n",
        ")\n",
        "\n",
        "pipe.fit(X_train, y_train)\n",
        "print('훈련 정확도: ', pipe.score(X_train, y_train))\n",
        "print('검증 정확도: ', pipe.score(X_val, y_val))"
      ],
      "execution_count": 22,
      "outputs": [
        {
          "output_type": "stream",
          "name": "stdout",
          "text": [
            "훈련 정확도:  0.8348604809773745\n",
            "검증 정확도:  0.8249317993120626\n"
          ]
        }
      ]
    },
    {
      "cell_type": "code",
      "metadata": {
        "id": "W6q6c1771C4s"
      },
      "source": [
        "# 훈련 정확도:  0.8283367434688491\n",
        "# 검증 정확도:  0.8269481674771676\n",
        "# 0.5401827923101167\n",
        "\n",
        "# 훈련 정확도:  0.8452688076387036\n",
        "# 검증 정확도:  0.8197129640612028\n",
        "# 0.5568513119533527\n",
        "\n",
        "# 훈련 정확도:  0.8348604809773745\n",
        "# 검증 정확도:  0.8249317993120626\n",
        "# 0.5651149086623453"
      ],
      "execution_count": 23,
      "outputs": []
    },
    {
      "cell_type": "code",
      "metadata": {
        "id": "51yWXVt81hAR",
        "colab": {
          "base_uri": "https://localhost:8080/"
        },
        "outputId": "59a103d6-92f1-4040-d1ae-510ad11e175d"
      },
      "source": [
        "# F1 Score\n",
        "y_pred = pipe.predict(X_val)\n",
        "\n",
        "f1_score(y_val, y_pred)"
      ],
      "execution_count": 24,
      "outputs": [
        {
          "output_type": "execute_result",
          "data": {
            "text/plain": [
              "0.5651149086623453"
            ]
          },
          "metadata": {},
          "execution_count": 24
        }
      ]
    },
    {
      "cell_type": "code",
      "metadata": {
        "id": "fsZf5ynv3FKY",
        "colab": {
          "base_uri": "https://localhost:8080/",
          "height": 1000
        },
        "outputId": "06b99008-946f-467c-c0b4-de8e021e346c"
      },
      "source": [
        "# 특성 중요도 그래프\n",
        "enc = pipe.named_steps['onehotencoder']\n",
        "encoded_columns = enc.transform(X_val).columns\n",
        "model_dt = pipe.named_steps['decisiontreeclassifier']\n",
        "\n",
        "importances = pd.Series(model_dt.feature_importances_, encoded_columns)\n",
        "plt.figure(figsize=(10,30))\n",
        "importances.sort_values().plot.barh();"
      ],
      "execution_count": 25,
      "outputs": [
        {
          "output_type": "display_data",
          "data": {
            "image/png": "[encoded data removed]",
            "text/plain": [
              "<Figure size 720x2160 with 1 Axes>"
            ]
          },
          "metadata": {
            "needs_background": "light"
          }
        }
      ]
    },
    {
      "cell_type": "markdown",
      "metadata": {
        "id": "mL7YOdyaNtC7"
      },
      "source": [
        "### 4) 테스트셋 예측 결과 제출(Submission)\n",
        "\n",
        "- 테스트셋에 대한 예측 결과를 캐글에 제출 하세요.(스코어가 많이 낮게 나와도 결정트리를 잘 이해하고 결과를 내었다면 충분합니다!)\n",
        "- **캐글 Leaderboard의 본인 Score를 제출하세요.**\n",
        " "
      ]
    },
    {
      "cell_type": "code",
      "metadata": {
        "id": "ZEvnPy0t4Lyo"
      },
      "source": [
        "X_total = pd.concat([X_train, X_val])\n",
        "y_total = pd.concat([y_train, y_val])"
      ],
      "execution_count": 26,
      "outputs": []
    },
    {
      "cell_type": "code",
      "metadata": {
        "id": "Kp_2tj3x4y26",
        "colab": {
          "base_uri": "https://localhost:8080/"
        },
        "outputId": "67324669-be70-40d5-a177-a38be8c15df1"
      },
      "source": [
        "# 최종 모델 학습\n",
        "last_pipe = make_pipeline(\n",
        "    OneHotEncoder(use_cat_names=True),  \n",
        "    SimpleImputer(), \n",
        "    DecisionTreeClassifier(min_samples_leaf = 36, random_state=1)\n",
        ")\n",
        "\n",
        "last_pipe.fit(X_total, y_total)\n",
        "print('최종 정확도: ', last_pipe.score(X_total, y_total))"
      ],
      "execution_count": 27,
      "outputs": [
        {
          "output_type": "stream",
          "name": "stdout",
          "text": [
            "최종 정확도:  0.8355790672296817\n"
          ]
        }
      ]
    },
    {
      "cell_type": "code",
      "metadata": {
        "id": "sfjfx9bw4_Y2"
      },
      "source": [
        "# 최종 모델 학습 후 테스트 셋에 대한 예측 결과\n",
        "y_test_pred = last_pipe.predict(X_test)"
      ],
      "execution_count": 28,
      "outputs": []
    },
    {
      "cell_type": "code",
      "metadata": {
        "id": "9SuBvL6x5Oj4",
        "colab": {
          "base_uri": "https://localhost:8080/",
          "height": 203
        },
        "outputId": "e5a11c4f-ea77-4128-eccd-386246c1b100"
      },
      "source": [
        "# 최종 결과 담은 데이터프레임 생성\n",
        "d = {'Id':X_test.index, 'vacc_h1n1_f': y_test_pred}\n",
        "submission = pd.DataFrame(data = d)\n",
        "submission.head()"
      ],
      "execution_count": 29,
      "outputs": [
        {
          "output_type": "execute_result",
          "data": {
            "text/html": [
              "<div>\n",
              "<style scoped>\n",
              "    .dataframe tbody tr th:only-of-type {\n",
              "        vertical-align: middle;\n",
              "    }\n",
              "\n",
              "    .dataframe tbody tr th {\n",
              "        vertical-align: top;\n",
              "    }\n",
              "\n",
              "    .dataframe thead th {\n",
              "        text-align: right;\n",
              "    }\n",
              "</style>\n",
              "<table border=\"1\" class=\"dataframe\">\n",
              "  <thead>\n",
              "    <tr style=\"text-align: right;\">\n",
              "      <th></th>\n",
              "      <th>Id</th>\n",
              "      <th>vacc_h1n1_f</th>\n",
              "    </tr>\n",
              "  </thead>\n",
              "  <tbody>\n",
              "    <tr>\n",
              "      <th>0</th>\n",
              "      <td>0</td>\n",
              "      <td>0</td>\n",
              "    </tr>\n",
              "    <tr>\n",
              "      <th>1</th>\n",
              "      <td>1</td>\n",
              "      <td>0</td>\n",
              "    </tr>\n",
              "    <tr>\n",
              "      <th>2</th>\n",
              "      <td>2</td>\n",
              "      <td>0</td>\n",
              "    </tr>\n",
              "    <tr>\n",
              "      <th>3</th>\n",
              "      <td>3</td>\n",
              "      <td>0</td>\n",
              "    </tr>\n",
              "    <tr>\n",
              "      <th>4</th>\n",
              "      <td>4</td>\n",
              "      <td>0</td>\n",
              "    </tr>\n",
              "  </tbody>\n",
              "</table>\n",
              "</div>"
            ],
            "text/plain": [
              "   Id  vacc_h1n1_f\n",
              "0   0            0\n",
              "1   1            0\n",
              "2   2            0\n",
              "3   3            0\n",
              "4   4            0"
            ]
          },
          "metadata": {},
          "execution_count": 29
        }
      ]
    },
    {
      "cell_type": "code",
      "metadata": {
        "id": "UoCtu25d7u1m"
      },
      "source": [
        "# 제출용 파일 생성\n",
        "submission.to_csv('submission.csv', index=False)"
      ],
      "execution_count": 30,
      "outputs": []
    },
    {
      "cell_type": "code",
      "metadata": {
        "id": "BIngmCHz84UL"
      },
      "source": [
        "# !kaggle competitions submit -c prediction-of-h1n1-vaccination -f submission.csv -m \"Gyeong ho Ahn, First Submission - fixed\""
      ],
      "execution_count": null,
      "outputs": []
    },
    {
      "cell_type": "markdown",
      "metadata": {
        "id": "0AKCn85yNtC8"
      },
      "source": [
        "## 🔥 도전과제"
      ]
    },
    {
      "cell_type": "markdown",
      "metadata": {
        "id": "OxFu5qVpNtC9"
      },
      "source": [
        "### 4) 다른 종류의 imputer를 사용하고 특성-타겟 관계 그래프를 나타내 보세요.\n",
        "- 다른 종류의 imputer를 사용해 보세요([scikit-learn imputers](https://scikit-learn.org/stable/modules/impute.html))\n",
        "- seaborn plots 사용하여 관심있는 특성들과 target간의 관계를 그래프로 나타내 보세요.\n",
        "- [Seaborn \"Categorical estimate\" plots](https://seaborn.pydata.org/tutorial/categorical.html)\n",
        "- [Seaborn linear model plots](https://seaborn.pydata.org/tutorial/regression.html)"
      ]
    },
    {
      "cell_type": "code",
      "metadata": {
        "id": "R-Si6ZijZslP"
      },
      "source": [
        "from sklearn.experimental import enable_iterative_imputer\n",
        "from sklearn.impute import IterativeImputer\n",
        "import seaborn as sns"
      ],
      "execution_count": 32,
      "outputs": []
    },
    {
      "cell_type": "code",
      "metadata": {
        "id": "z0j9KSsBaueS"
      },
      "source": [
        "# 범주형 특성 변환\n",
        "encoder = OneHotEncoder()\n",
        "X_train_oh = encoder.fit_transform(X_train)\n",
        "X_val_oh = encoder.transform(X_val)\n",
        "X_test_oh = encoder.transform(X_test)"
      ],
      "execution_count": 33,
      "outputs": []
    },
    {
      "cell_type": "code",
      "metadata": {
        "id": "7_HYNeswfAWQ"
      },
      "source": [
        "# 비교 목적\n",
        "imputer = SimpleImputer(strategy='most_frequent') # 수치형이 아닌 범주형이므로 기본값(평균)이 아닌 최빈값으로 대체\n",
        "X_train_imp = imputer.fit_transform(X_train_oh)\n",
        "X_val_imp = imputer.transform(X_val_oh)\n",
        "X_test_imp = imputer.transform(X_test_oh)"
      ],
      "execution_count": 34,
      "outputs": []
    },
    {
      "cell_type": "code",
      "metadata": {
        "id": "uNRIhW3xgCq1",
        "colab": {
          "base_uri": "https://localhost:8080/"
        },
        "outputId": "a36a0b1e-cbd6-4b9b-8e50-74fa0f60b263"
      },
      "source": [
        "X_train_imp"
      ],
      "execution_count": 35,
      "outputs": [
        {
          "output_type": "execute_result",
          "data": {
            "text/plain": [
              "array([[ 1.,  1.,  0., ...,  4.,  2.,  0.],\n",
              "       [ 1.,  1.,  0., ...,  4.,  7.,  5.],\n",
              "       [ 2.,  2.,  0., ...,  1., 10.,  4.],\n",
              "       ...,\n",
              "       [ 2.,  1.,  0., ...,  3.,  4.,  0.],\n",
              "       [ 2.,  1.,  0., ...,  4.,  8.,  0.],\n",
              "       [ 2.,  1.,  0., ...,  2.,  4.,  3.]])"
            ]
          },
          "metadata": {},
          "execution_count": 35
        }
      ]
    },
    {
      "cell_type": "code",
      "metadata": {
        "id": "CkYdYLOe_HRb"
      },
      "source": [
        "X_train_imp = pd.DataFrame(X_train_imp, columns=X_train_oh.columns)\n",
        "X_val_imp = pd.DataFrame(X_val_imp, columns=X_val_oh.columns)\n",
        "X_test_imp = pd.DataFrame(X_test_imp, columns=X_test_oh.columns)"
      ],
      "execution_count": 36,
      "outputs": []
    },
    {
      "cell_type": "code",
      "metadata": {
        "id": "3s-lY-SHe3fs"
      },
      "source": [
        "# 새로운 imputer\n",
        "itr_imputer = IterativeImputer(initial_strategy='most_frequent')\n",
        "X_train_itrimp = itr_imputer.fit_transform(X_train_oh)\n",
        "X_val_itrimp = itr_imputer.transform(X_val_oh)\n",
        "X_test_itrimp = itr_imputer.transform(X_test_oh)"
      ],
      "execution_count": 37,
      "outputs": []
    },
    {
      "cell_type": "code",
      "metadata": {
        "id": "sYPEUUThgIwD",
        "colab": {
          "base_uri": "https://localhost:8080/"
        },
        "outputId": "5287f3b3-a0f6-4d7a-be57-5c9c7f521c71"
      },
      "source": [
        "X_train_itrimp"
      ],
      "execution_count": 38,
      "outputs": [
        {
          "output_type": "execute_result",
          "data": {
            "text/plain": [
              "array([[ 1.        ,  1.        ,  0.        , ...,  4.        ,\n",
              "         2.        ,  0.        ],\n",
              "       [ 1.        ,  1.        ,  0.        , ...,  4.        ,\n",
              "         7.        ,  5.        ],\n",
              "       [ 2.        ,  2.        ,  0.        , ...,  1.        ,\n",
              "        10.        ,  4.        ],\n",
              "       ...,\n",
              "       [ 1.15038918,  0.96142648, -0.03272829, ...,  3.        ,\n",
              "         4.        ,  0.        ],\n",
              "       [ 1.08467064,  1.08072912, -0.03218227, ...,  4.        ,\n",
              "         8.        ,  0.        ],\n",
              "       [ 2.        ,  1.        ,  0.        , ...,  2.        ,\n",
              "         4.        ,  3.        ]])"
            ]
          },
          "metadata": {},
          "execution_count": 38
        }
      ]
    },
    {
      "cell_type": "code",
      "metadata": {
        "id": "GanKRKzB_hUq"
      },
      "source": [
        "X_train_itrimp = pd.DataFrame(X_train_itrimp, columns=X_train_oh.columns)\n",
        "X_val_itrimp = pd.DataFrame(X_val_itrimp, columns=X_val_oh.columns)\n",
        "X_test_itrimp = pd.DataFrame(X_test_itrimp, columns=X_test_oh.columns)"
      ],
      "execution_count": 39,
      "outputs": []
    },
    {
      "cell_type": "code",
      "metadata": {
        "id": "ORouYxI8mcs_",
        "colab": {
          "base_uri": "https://localhost:8080/"
        },
        "outputId": "1eaeec0a-237f-4250-89b3-1455aedb7679"
      },
      "source": [
        "# 보고 싶은 특성 선택\n",
        "cols = ['doctor_recc_h1n1', 'health_insurance', 'health_worker', 'education_comp', 'raceeth4_i', 'inc_pov']\n",
        "\n",
        "# 1. SimpleImputer 사용한 경우\n",
        "df_imp = pd.concat([X_train_imp[cols], y_train], axis=1)\n",
        "df_imp.shape"
      ],
      "execution_count": 40,
      "outputs": [
        {
          "output_type": "execute_result",
          "data": {
            "text/plain": [
              "(40426, 7)"
            ]
          },
          "metadata": {},
          "execution_count": 40
        }
      ]
    },
    {
      "cell_type": "code",
      "metadata": {
        "id": "AB1OtAjRtsB_"
      },
      "source": [
        "hue_title = ['Recommended by a doctor?', 'Have health insurance?', 'Healthcare worker?', 'Edu level', 'Race', 'Income']\n",
        "hue = [['Not Recommended', 'Recommended'], ['No', 'Yes'], ['No', 'Yes'], ['Under 12 Years', '12 Years', 'Some College', 'College Graduate'],\n",
        "      ['Hispanic','Non-Hispanic, Black Only','Non-Hispanic, White Only','Non-Hispanic, Other or Multiple Races'],\n",
        "       ['Over $75,000', '$75,000 or Less', 'Below Poverty', 'Unknown']]\n",
        "\n",
        "def visualize_imp_df(df):\n",
        "  fig, axes = plt.subplots(2, 3, figsize=(20, 10))\n",
        "  axes = axes.flatten()\n",
        "\n",
        "  for i, col in enumerate(cols):\n",
        "    tmp = df.groupby(col)[['vacc_h1n1_f']].count()\n",
        "    tmp = tmp.reset_index()\n",
        "    tmp[hue_title[i]] = hue[i]\n",
        "\n",
        "    sns.barplot(ax = axes[i], data=tmp, x=col, y='vacc_h1n1_f', hue=hue_title[i])"
      ],
      "execution_count": 41,
      "outputs": []
    },
    {
      "cell_type": "code",
      "metadata": {
        "id": "solyActRDA2N",
        "colab": {
          "base_uri": "https://localhost:8080/",
          "height": 609
        },
        "outputId": "2fe1621d-0ce1-49b8-e665-b7964bd43299"
      },
      "source": [
        "visualize_imp_df(df_imp)"
      ],
      "execution_count": 42,
      "outputs": [
        {
          "output_type": "display_data",
          "data": {
            "image/png": "[encoded data removed]",
            "text/plain": [
              "<Figure size 1440x720 with 6 Axes>"
            ]
          },
          "metadata": {
            "needs_background": "light"
          }
        }
      ]
    },
    {
      "cell_type": "code",
      "metadata": {
        "id": "K4X_WYd6BIU9",
        "colab": {
          "base_uri": "https://localhost:8080/",
          "height": 203
        },
        "outputId": "b47c01dd-6f3d-492d-ac33-00f1b48206a9"
      },
      "source": [
        "# 2. IterativeImputer 사용한 경우\n",
        "df_itrimp = pd.concat([X_train_itrimp[cols], y_train], axis=1)\n",
        "df_itrimp.head()"
      ],
      "execution_count": 43,
      "outputs": [
        {
          "output_type": "execute_result",
          "data": {
            "text/html": [
              "<div>\n",
              "<style scoped>\n",
              "    .dataframe tbody tr th:only-of-type {\n",
              "        vertical-align: middle;\n",
              "    }\n",
              "\n",
              "    .dataframe tbody tr th {\n",
              "        vertical-align: top;\n",
              "    }\n",
              "\n",
              "    .dataframe thead th {\n",
              "        text-align: right;\n",
              "    }\n",
              "</style>\n",
              "<table border=\"1\" class=\"dataframe\">\n",
              "  <thead>\n",
              "    <tr style=\"text-align: right;\">\n",
              "      <th></th>\n",
              "      <th>doctor_recc_h1n1</th>\n",
              "      <th>health_insurance</th>\n",
              "      <th>health_worker</th>\n",
              "      <th>education_comp</th>\n",
              "      <th>raceeth4_i</th>\n",
              "      <th>inc_pov</th>\n",
              "      <th>vacc_h1n1_f</th>\n",
              "    </tr>\n",
              "  </thead>\n",
              "  <tbody>\n",
              "    <tr>\n",
              "      <th>0</th>\n",
              "      <td>0.0</td>\n",
              "      <td>0.794106</td>\n",
              "      <td>0.0</td>\n",
              "      <td>4.0</td>\n",
              "      <td>3.0</td>\n",
              "      <td>1.0</td>\n",
              "      <td>0.0</td>\n",
              "    </tr>\n",
              "    <tr>\n",
              "      <th>1</th>\n",
              "      <td>1.0</td>\n",
              "      <td>1.000000</td>\n",
              "      <td>0.0</td>\n",
              "      <td>2.0</td>\n",
              "      <td>3.0</td>\n",
              "      <td>3.0</td>\n",
              "      <td>0.0</td>\n",
              "    </tr>\n",
              "    <tr>\n",
              "      <th>2</th>\n",
              "      <td>0.0</td>\n",
              "      <td>1.000000</td>\n",
              "      <td>0.0</td>\n",
              "      <td>1.0</td>\n",
              "      <td>3.0</td>\n",
              "      <td>2.0</td>\n",
              "      <td>0.0</td>\n",
              "    </tr>\n",
              "    <tr>\n",
              "      <th>3</th>\n",
              "      <td>0.0</td>\n",
              "      <td>1.000000</td>\n",
              "      <td>0.0</td>\n",
              "      <td>4.0</td>\n",
              "      <td>3.0</td>\n",
              "      <td>1.0</td>\n",
              "      <td>0.0</td>\n",
              "    </tr>\n",
              "    <tr>\n",
              "      <th>4</th>\n",
              "      <td>0.0</td>\n",
              "      <td>0.819239</td>\n",
              "      <td>0.0</td>\n",
              "      <td>4.0</td>\n",
              "      <td>3.0</td>\n",
              "      <td>2.0</td>\n",
              "      <td>1.0</td>\n",
              "    </tr>\n",
              "  </tbody>\n",
              "</table>\n",
              "</div>"
            ],
            "text/plain": [
              "   doctor_recc_h1n1  health_insurance  ...  inc_pov  vacc_h1n1_f\n",
              "0               0.0          0.794106  ...      1.0          0.0\n",
              "1               1.0          1.000000  ...      3.0          0.0\n",
              "2               0.0          1.000000  ...      2.0          0.0\n",
              "3               0.0          1.000000  ...      1.0          0.0\n",
              "4               0.0          0.819239  ...      2.0          1.0\n",
              "\n",
              "[5 rows x 7 columns]"
            ]
          },
          "metadata": {},
          "execution_count": 43
        }
      ]
    },
    {
      "cell_type": "code",
      "metadata": {
        "id": "S6HtQufc_-mX"
      },
      "source": [
        "# fig, axes = plt.subplots(2, 3, figsize=(20, 10))\n",
        "# axes = axes.flatten()\n",
        "\n",
        "# for i, col in enumerate(cols):\n",
        "#   tmp = df_itrimp.groupby(col)[['vacc_h1n1_f']].count()\n",
        "#   tmp = tmp.reset_index()\n",
        "#   # tmp[hue_title[i]] = hue[i]\n",
        "\n",
        "#   sns.barplot(ax = axes[i], data=tmp, x=col, y='vacc_h1n1_f', hue=col)\n",
        "\n",
        "# IterativeImputer에서 initial_strategy='most_frequent'로 설정해도 범주형 값이 0 또는 1이 아닌 다른 값으로 대체됨\n",
        "# 이로 인해 위 SimpleImputer와 동일한 방식으로 그래프 출력 불가능..."
      ],
      "execution_count": 44,
      "outputs": []
    }
  ]
}