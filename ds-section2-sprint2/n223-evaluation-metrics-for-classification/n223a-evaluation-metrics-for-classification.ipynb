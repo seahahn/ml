{
  "nbformat": 4,
  "nbformat_minor": 0,
  "metadata": {
    "kernelspec": {
      "display_name": "Python 3",
      "language": "python",
      "name": "python3"
    },
    "language_info": {
      "codemirror_mode": {
        "name": "ipython",
        "version": 3
      },
      "file_extension": ".py",
      "mimetype": "text/x-python",
      "name": "python",
      "nbconvert_exporter": "python",
      "pygments_lexer": "ipython3",
      "version": "3.7.7"
    },
    "colab": {
      "name": "n223a-evaluation-metrics-for-classification.ipynb",
      "provenance": []
    },
    "widgets": {
      "application/vnd.jupyter.widget-state+json": {
        "6bb7d18a4820449a95aa4f40b739c902": {
          "model_module": "@jupyter-widgets/controls",
          "model_name": "VBoxModel",
          "model_module_version": "1.5.0",
          "state": {
            "_view_name": "VBoxView",
            "_dom_classes": [
              "widget-interact"
            ],
            "_model_name": "VBoxModel",
            "_view_module": "@jupyter-widgets/controls",
            "_model_module_version": "1.5.0",
            "_view_count": null,
            "_view_module_version": "1.5.0",
            "box_style": "",
            "layout": "IPY_MODEL_fe7267c9e70b4ccf9fcfda9b91583cca",
            "_model_module": "@jupyter-widgets/controls",
            "children": [
              "IPY_MODEL_87b663fe54314235bf6a55d2d2a4ae2a",
              "IPY_MODEL_af1347ac4e7949199d051cf33199c3e1"
            ]
          }
        },
        "fe7267c9e70b4ccf9fcfda9b91583cca": {
          "model_module": "@jupyter-widgets/base",
          "model_name": "LayoutModel",
          "model_module_version": "1.2.0",
          "state": {
            "_view_name": "LayoutView",
            "grid_template_rows": null,
            "right": null,
            "justify_content": null,
            "_view_module": "@jupyter-widgets/base",
            "overflow": null,
            "_model_module_version": "1.2.0",
            "_view_count": null,
            "flex_flow": null,
            "width": null,
            "min_width": null,
            "border": null,
            "align_items": null,
            "bottom": null,
            "_model_module": "@jupyter-widgets/base",
            "top": null,
            "grid_column": null,
            "overflow_y": null,
            "overflow_x": null,
            "grid_auto_flow": null,
            "grid_area": null,
            "grid_template_columns": null,
            "flex": null,
            "_model_name": "LayoutModel",
            "justify_items": null,
            "grid_row": null,
            "max_height": null,
            "align_content": null,
            "visibility": null,
            "align_self": null,
            "height": null,
            "min_height": null,
            "padding": null,
            "grid_auto_rows": null,
            "grid_gap": null,
            "max_width": null,
            "order": null,
            "_view_module_version": "1.2.0",
            "grid_template_areas": null,
            "object_position": null,
            "object_fit": null,
            "grid_auto_columns": null,
            "margin": null,
            "display": null,
            "left": null
          }
        },
        "87b663fe54314235bf6a55d2d2a4ae2a": {
          "model_module": "@jupyter-widgets/controls",
          "model_name": "FloatSliderModel",
          "model_module_version": "1.5.0",
          "state": {
            "_view_name": "FloatSliderView",
            "style": "IPY_MODEL_e8e8e28779a84c84a635a49999a1db1c",
            "_dom_classes": [],
            "description": "threshold",
            "step": 0.01,
            "_model_name": "FloatSliderModel",
            "orientation": "horizontal",
            "max": 1,
            "_view_module": "@jupyter-widgets/controls",
            "_model_module_version": "1.5.0",
            "value": 0.5,
            "_view_count": null,
            "disabled": false,
            "_view_module_version": "1.5.0",
            "min": 0,
            "continuous_update": true,
            "readout_format": ".2f",
            "description_tooltip": null,
            "readout": true,
            "_model_module": "@jupyter-widgets/controls",
            "layout": "IPY_MODEL_50d35e90b8d741bb9e62e4881b6e894f"
          }
        },
        "af1347ac4e7949199d051cf33199c3e1": {
          "model_module": "@jupyter-widgets/output",
          "model_name": "OutputModel",
          "model_module_version": "1.0.0",
          "state": {
            "_view_name": "OutputView",
            "msg_id": "",
            "_dom_classes": [],
            "_model_name": "OutputModel",
            "outputs": [
              {
                "output_type": "display_data",
                "data": {
                  "image/png": "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\n",
                  "text/plain": "<Figure size 432x288 with 2 Axes>"
                },
                "metadata": {
                  "needs_background": "light"
                }
              },
              {
                "output_type": "stream",
                "name": "stdout",
                "text": [
                  "              precision    recall  f1-score   support\n",
                  "\n",
                  "           0       0.85      0.95      0.89      6416\n",
                  "           1       0.72      0.45      0.55      2015\n",
                  "\n",
                  "    accuracy                           0.83      8431\n",
                  "   macro avg       0.78      0.70      0.72      8431\n",
                  "weighted avg       0.82      0.83      0.81      8431\n",
                  "\n"
                ]
              }
            ],
            "_view_module": "@jupyter-widgets/output",
            "_model_module_version": "1.0.0",
            "_view_count": null,
            "_view_module_version": "1.0.0",
            "layout": "IPY_MODEL_f801209dd0eb48aea1364aa0f8c941a9",
            "_model_module": "@jupyter-widgets/output"
          }
        },
        "e8e8e28779a84c84a635a49999a1db1c": {
          "model_module": "@jupyter-widgets/controls",
          "model_name": "SliderStyleModel",
          "model_module_version": "1.5.0",
          "state": {
            "_view_name": "StyleView",
            "handle_color": null,
            "_model_name": "SliderStyleModel",
            "description_width": "",
            "_view_module": "@jupyter-widgets/base",
            "_model_module_version": "1.5.0",
            "_view_count": null,
            "_view_module_version": "1.2.0",
            "_model_module": "@jupyter-widgets/controls"
          }
        },
        "50d35e90b8d741bb9e62e4881b6e894f": {
          "model_module": "@jupyter-widgets/base",
          "model_name": "LayoutModel",
          "model_module_version": "1.2.0",
          "state": {
            "_view_name": "LayoutView",
            "grid_template_rows": null,
            "right": null,
            "justify_content": null,
            "_view_module": "@jupyter-widgets/base",
            "overflow": null,
            "_model_module_version": "1.2.0",
            "_view_count": null,
            "flex_flow": null,
            "width": null,
            "min_width": null,
            "border": null,
            "align_items": null,
            "bottom": null,
            "_model_module": "@jupyter-widgets/base",
            "top": null,
            "grid_column": null,
            "overflow_y": null,
            "overflow_x": null,
            "grid_auto_flow": null,
            "grid_area": null,
            "grid_template_columns": null,
            "flex": null,
            "_model_name": "LayoutModel",
            "justify_items": null,
            "grid_row": null,
            "max_height": null,
            "align_content": null,
            "visibility": null,
            "align_self": null,
            "height": null,
            "min_height": null,
            "padding": null,
            "grid_auto_rows": null,
            "grid_gap": null,
            "max_width": null,
            "order": null,
            "_view_module_version": "1.2.0",
            "grid_template_areas": null,
            "object_position": null,
            "object_fit": null,
            "grid_auto_columns": null,
            "margin": null,
            "display": null,
            "left": null
          }
        },
        "f801209dd0eb48aea1364aa0f8c941a9": {
          "model_module": "@jupyter-widgets/base",
          "model_name": "LayoutModel",
          "model_module_version": "1.2.0",
          "state": {
            "_view_name": "LayoutView",
            "grid_template_rows": null,
            "right": null,
            "justify_content": null,
            "_view_module": "@jupyter-widgets/base",
            "overflow": null,
            "_model_module_version": "1.2.0",
            "_view_count": null,
            "flex_flow": null,
            "width": null,
            "min_width": null,
            "border": null,
            "align_items": null,
            "bottom": null,
            "_model_module": "@jupyter-widgets/base",
            "top": null,
            "grid_column": null,
            "overflow_y": null,
            "overflow_x": null,
            "grid_auto_flow": null,
            "grid_area": null,
            "grid_template_columns": null,
            "flex": null,
            "_model_name": "LayoutModel",
            "justify_items": null,
            "grid_row": null,
            "max_height": null,
            "align_content": null,
            "visibility": null,
            "align_self": null,
            "height": null,
            "min_height": null,
            "padding": null,
            "grid_auto_rows": null,
            "grid_gap": null,
            "max_width": null,
            "order": null,
            "_view_module_version": "1.2.0",
            "grid_template_areas": null,
            "object_position": null,
            "object_fit": null,
            "grid_auto_columns": null,
            "margin": null,
            "display": null,
            "left": null
          }
        },
        "0573196244d14f17b79180418a6c7ad2": {
          "model_module": "@jupyter-widgets/controls",
          "model_name": "VBoxModel",
          "model_module_version": "1.5.0",
          "state": {
            "_view_name": "VBoxView",
            "_dom_classes": [
              "widget-interact"
            ],
            "_model_name": "VBoxModel",
            "_view_module": "@jupyter-widgets/controls",
            "_model_module_version": "1.5.0",
            "_view_count": null,
            "_view_module_version": "1.5.0",
            "box_style": "",
            "layout": "IPY_MODEL_0db2f81326a2455a9003ea1ffb26b41f",
            "_model_module": "@jupyter-widgets/controls",
            "children": [
              "IPY_MODEL_8ea6a766410549ad99b149f1e5f32612",
              "IPY_MODEL_7a5ecc4167e746148f16029b8c9dc46d"
            ]
          }
        },
        "0db2f81326a2455a9003ea1ffb26b41f": {
          "model_module": "@jupyter-widgets/base",
          "model_name": "LayoutModel",
          "model_module_version": "1.2.0",
          "state": {
            "_view_name": "LayoutView",
            "grid_template_rows": null,
            "right": null,
            "justify_content": null,
            "_view_module": "@jupyter-widgets/base",
            "overflow": null,
            "_model_module_version": "1.2.0",
            "_view_count": null,
            "flex_flow": null,
            "width": null,
            "min_width": null,
            "border": null,
            "align_items": null,
            "bottom": null,
            "_model_module": "@jupyter-widgets/base",
            "top": null,
            "grid_column": null,
            "overflow_y": null,
            "overflow_x": null,
            "grid_auto_flow": null,
            "grid_area": null,
            "grid_template_columns": null,
            "flex": null,
            "_model_name": "LayoutModel",
            "justify_items": null,
            "grid_row": null,
            "max_height": null,
            "align_content": null,
            "visibility": null,
            "align_self": null,
            "height": null,
            "min_height": null,
            "padding": null,
            "grid_auto_rows": null,
            "grid_gap": null,
            "max_width": null,
            "order": null,
            "_view_module_version": "1.2.0",
            "grid_template_areas": null,
            "object_position": null,
            "object_fit": null,
            "grid_auto_columns": null,
            "margin": null,
            "display": null,
            "left": null
          }
        },
        "8ea6a766410549ad99b149f1e5f32612": {
          "model_module": "@jupyter-widgets/controls",
          "model_name": "IntSliderModel",
          "model_module_version": "1.5.0",
          "state": {
            "_view_name": "IntSliderView",
            "style": "IPY_MODEL_28c7db09e07e47c98bab8535b9c8c89a",
            "_dom_classes": [],
            "description": "n_estimators",
            "step": 10,
            "_model_name": "IntSliderModel",
            "orientation": "horizontal",
            "max": 1000,
            "_view_module": "@jupyter-widgets/controls",
            "_model_module_version": "1.5.0",
            "value": 1,
            "_view_count": null,
            "disabled": false,
            "_view_module_version": "1.5.0",
            "min": 1,
            "continuous_update": true,
            "readout_format": "d",
            "description_tooltip": null,
            "readout": true,
            "_model_module": "@jupyter-widgets/controls",
            "layout": "IPY_MODEL_39af63267c49404e9823c9c15758f989"
          }
        },
        "7a5ecc4167e746148f16029b8c9dc46d": {
          "model_module": "@jupyter-widgets/output",
          "model_name": "OutputModel",
          "model_module_version": "1.0.0",
          "state": {
            "_view_name": "OutputView",
            "msg_id": "",
            "_dom_classes": [],
            "_model_name": "OutputModel",
            "outputs": [
              {
                "output_type": "stream",
                "name": "stderr",
                "text": [
                  "/usr/local/lib/python3.7/dist-packages/sklearn/ensemble/_forest.py:523: UserWarning: Some inputs do not have OOB scores. This probably means too few trees were used to compute any reliable oob estimates.\n",
                  "  warn(\"Some inputs do not have OOB scores. \"\n",
                  "/usr/local/lib/python3.7/dist-packages/sklearn/ensemble/_forest.py:528: RuntimeWarning: invalid value encountered in true_divide\n",
                  "  predictions[k].sum(axis=1)[:, np.newaxis])\n"
                ]
              },
              {
                "output_type": "display_data",
                "data": {
                  "image/png": "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\n",
                  "text/plain": "<Figure size 360x360 with 1 Axes>"
                },
                "metadata": {
                  "needs_background": "light"
                }
              }
            ],
            "_view_module": "@jupyter-widgets/output",
            "_model_module_version": "1.0.0",
            "_view_count": null,
            "_view_module_version": "1.0.0",
            "layout": "IPY_MODEL_4279cb170b46437c899b2a41bae6a1cf",
            "_model_module": "@jupyter-widgets/output"
          }
        },
        "28c7db09e07e47c98bab8535b9c8c89a": {
          "model_module": "@jupyter-widgets/controls",
          "model_name": "SliderStyleModel",
          "model_module_version": "1.5.0",
          "state": {
            "_view_name": "StyleView",
            "handle_color": null,
            "_model_name": "SliderStyleModel",
            "description_width": "",
            "_view_module": "@jupyter-widgets/base",
            "_model_module_version": "1.5.0",
            "_view_count": null,
            "_view_module_version": "1.2.0",
            "_model_module": "@jupyter-widgets/controls"
          }
        },
        "39af63267c49404e9823c9c15758f989": {
          "model_module": "@jupyter-widgets/base",
          "model_name": "LayoutModel",
          "model_module_version": "1.2.0",
          "state": {
            "_view_name": "LayoutView",
            "grid_template_rows": null,
            "right": null,
            "justify_content": null,
            "_view_module": "@jupyter-widgets/base",
            "overflow": null,
            "_model_module_version": "1.2.0",
            "_view_count": null,
            "flex_flow": null,
            "width": null,
            "min_width": null,
            "border": null,
            "align_items": null,
            "bottom": null,
            "_model_module": "@jupyter-widgets/base",
            "top": null,
            "grid_column": null,
            "overflow_y": null,
            "overflow_x": null,
            "grid_auto_flow": null,
            "grid_area": null,
            "grid_template_columns": null,
            "flex": null,
            "_model_name": "LayoutModel",
            "justify_items": null,
            "grid_row": null,
            "max_height": null,
            "align_content": null,
            "visibility": null,
            "align_self": null,
            "height": null,
            "min_height": null,
            "padding": null,
            "grid_auto_rows": null,
            "grid_gap": null,
            "max_width": null,
            "order": null,
            "_view_module_version": "1.2.0",
            "grid_template_areas": null,
            "object_position": null,
            "object_fit": null,
            "grid_auto_columns": null,
            "margin": null,
            "display": null,
            "left": null
          }
        },
        "4279cb170b46437c899b2a41bae6a1cf": {
          "model_module": "@jupyter-widgets/base",
          "model_name": "LayoutModel",
          "model_module_version": "1.2.0",
          "state": {
            "_view_name": "LayoutView",
            "grid_template_rows": null,
            "right": null,
            "justify_content": null,
            "_view_module": "@jupyter-widgets/base",
            "overflow": null,
            "_model_module_version": "1.2.0",
            "_view_count": null,
            "flex_flow": null,
            "width": null,
            "min_width": null,
            "border": null,
            "align_items": null,
            "bottom": null,
            "_model_module": "@jupyter-widgets/base",
            "top": null,
            "grid_column": null,
            "overflow_y": null,
            "overflow_x": null,
            "grid_auto_flow": null,
            "grid_area": null,
            "grid_template_columns": null,
            "flex": null,
            "_model_name": "LayoutModel",
            "justify_items": null,
            "grid_row": null,
            "max_height": null,
            "align_content": null,
            "visibility": null,
            "align_self": null,
            "height": null,
            "min_height": null,
            "padding": null,
            "grid_auto_rows": null,
            "grid_gap": null,
            "max_width": null,
            "order": null,
            "_view_module_version": "1.2.0",
            "grid_template_areas": null,
            "object_position": null,
            "object_fit": null,
            "grid_auto_columns": null,
            "margin": null,
            "display": null,
            "left": null
          }
        }
      }
    }
  },
  "cells": [
    {
      "cell_type": "markdown",
      "metadata": {
        "id": "EgVxkV6olMMG"
      },
      "source": [
        "<img align=\"right\" src=\"https://ds-cs-images.s3.ap-northeast-2.amazonaws.com/Codestates_Fulllogo_Color.png\" width=100>\n",
        "\n",
        "## *AIB / SECTION 2 / SPRINT 2 / NOTE 3*\n",
        "\n",
        "# 📝 Assignment\n",
        "---"
      ]
    },
    {
      "cell_type": "markdown",
      "metadata": {
        "id": "nCc3XZEyG3XV"
      },
      "source": [
        "# Evaluation Metrics for Classification\n",
        "\n",
        "### 1) Kaggle 챌린지를 이어서 진행합니다.\n",
        "- **다음 조건에서 F beta score를 구하고 제출하세요.**\n",
        "    - TP = 4442, TN = 6165, FP = 1515, FN = 1930, 재현율에 정밀도의 2배 가중치를 부여합니다."
      ]
    },
    {
      "cell_type": "code",
      "metadata": {
        "id": "GpnuRX-8sUGL"
      },
      "source": [
        "# !mkdir -p ~/.kaggle\n",
        "# !cp kaggle.json ~/.kaggle/\n",
        "# !chmod 600 /root/.kaggle/kaggle.json\n",
        "# !pip install kaggle"
      ],
      "execution_count": 1,
      "outputs": []
    },
    {
      "cell_type": "code",
      "metadata": {
        "id": "5XEj9UzWsZsh"
      },
      "source": [
        "# ! pip install category_encoders"
      ],
      "execution_count": 2,
      "outputs": []
    },
    {
      "cell_type": "code",
      "metadata": {
        "id": "B0opHAaQr71g"
      },
      "source": [
        "import pandas as pd\n",
        "import numpy as np"
      ],
      "execution_count": 3,
      "outputs": []
    },
    {
      "cell_type": "code",
      "metadata": {
        "id": "puMhAZcqlMMK"
      },
      "source": [
        "### EDA 시작\n",
        "target = 'vacc_h1n1_f'\n",
        "# target = 'vacc_seas_f'\n",
        "train = pd.merge(pd.read_csv('https://ds-lecture-data.s3.ap-northeast-2.amazonaws.com/vacc_flu/train.csv'), \n",
        "                 pd.read_csv('https://ds-lecture-data.s3.ap-northeast-2.amazonaws.com/vacc_flu/train_labels.csv')[target], left_index=True, right_index=True)\n",
        "test = pd.read_csv('https://ds-lecture-data.s3.ap-northeast-2.amazonaws.com/vacc_flu/test.csv')\n",
        "sample_submission = pd.read_csv('https://ds-lecture-data.s3.ap-northeast-2.amazonaws.com/vacc_flu/submission.csv')"
      ],
      "execution_count": 4,
      "outputs": []
    },
    {
      "cell_type": "code",
      "metadata": {
        "id": "4U1SEl4hr_cr",
        "outputId": "1d03eb12-e4e3-45de-e463-ea4f175ae1f5",
        "colab": {
          "base_uri": "https://localhost:8080/"
        }
      },
      "source": [
        "# 훈련 / 검증 / 테스트 셋으로 분리\n",
        "from sklearn.model_selection import train_test_split\n",
        "\n",
        "train, val = train_test_split(train, train_size=0.80, test_size=0.20, \n",
        "                              stratify=train[target], random_state=2)\n",
        "\n",
        "\n",
        "train.shape, val.shape, test.shape"
      ],
      "execution_count": 5,
      "outputs": [
        {
          "output_type": "execute_result",
          "data": {
            "text/plain": [
              "((33723, 39), (8431, 39), (28104, 38))"
            ]
          },
          "metadata": {},
          "execution_count": 5
        }
      ]
    },
    {
      "cell_type": "code",
      "metadata": {
        "id": "5invnKbDRIva",
        "outputId": "5d1d8e56-57e4-4c8d-f0f1-1bc21e6eaab4",
        "colab": {
          "base_uri": "https://localhost:8080/"
        }
      },
      "source": [
        "# 기준 모델 설정\n",
        "train[target].value_counts(normalize=True)\n",
        "# 기준 모델 정확도 : 0.760935"
      ],
      "execution_count": 6,
      "outputs": [
        {
          "output_type": "execute_result",
          "data": {
            "text/plain": [
              "0    0.760935\n",
              "1    0.239065\n",
              "Name: vacc_h1n1_f, dtype: float64"
            ]
          },
          "metadata": {},
          "execution_count": 6
        }
      ]
    },
    {
      "cell_type": "code",
      "metadata": {
        "id": "I7aXLqmkr_z8"
      },
      "source": [
        "def engineer(df):\n",
        "    \"\"\"특성을 엔지니어링 하는 함수입니다.\"\"\"\n",
        "    \n",
        "    # 높은 카디널리티를 가지는 특성을 제거합니다.\n",
        "#     selected_cols = df.select_dtypes(include=['number', 'object'])\n",
        "#     colnames = selected_cols.columns.tolist()\n",
        "#     labels = selected_cols.nunique()\n",
        "    \n",
        "#     selected_features = labels[labels <= 30].index.tolist()\n",
        "#     df = df[selected_features]\n",
        "    \n",
        "    # 새로운 특성을 생성합니다.\n",
        "    behaviorals = [col for col in df.columns if 'behavioral' in col] \n",
        "    df['behaviorals'] = df[behaviorals].sum(axis=1)\n",
        "    \n",
        "    \n",
        "    dels = [col for col in df.columns if ('employment' in col or 'seas' in col)]\n",
        "    df.drop(columns=dels, inplace=True)\n",
        "        \n",
        "    return df\n",
        "\n",
        "\n",
        "train = engineer(train)\n",
        "val = engineer(val)\n",
        "test = engineer(test)"
      ],
      "execution_count": 7,
      "outputs": []
    },
    {
      "cell_type": "code",
      "metadata": {
        "id": "iKtQeenfsBTt"
      },
      "source": [
        "features = train.drop(columns=[target]).columns\n",
        "\n",
        "X_train = train[features]\n",
        "y_train = train[target]\n",
        "X_val = val[features]\n",
        "y_val = val[target]\n",
        "X_test = test[features]\n",
        "\n",
        "### EDA 끝"
      ],
      "execution_count": 8,
      "outputs": []
    },
    {
      "cell_type": "code",
      "metadata": {
        "id": "9svIRX4Mstt3"
      },
      "source": [
        "tp = 4442\n",
        "tn = 6165\n",
        "fp = 1515\n",
        "fn = 1930\n",
        "total = tp + tn + fp + fn"
      ],
      "execution_count": 9,
      "outputs": []
    },
    {
      "cell_type": "code",
      "metadata": {
        "id": "-kk9Q4jmtTl-",
        "outputId": "b0c4ce02-8109-4b07-f7c8-17bf460b9692",
        "colab": {
          "base_uri": "https://localhost:8080/"
        }
      },
      "source": [
        "# 정밀도\n",
        "positives = tp + fp\n",
        "precision = tp/positives\n",
        "precision"
      ],
      "execution_count": 10,
      "outputs": [
        {
          "output_type": "execute_result",
          "data": {
            "text/plain": [
              "0.7456773543730065"
            ]
          },
          "metadata": {},
          "execution_count": 10
        }
      ]
    },
    {
      "cell_type": "code",
      "metadata": {
        "id": "i0naEJqdtVca",
        "outputId": "a3f5ea07-fe88-4e1e-85ac-6d74f42b22c5",
        "colab": {
          "base_uri": "https://localhost:8080/"
        }
      },
      "source": [
        "# 재현율\n",
        "real_positives = tp + fn\n",
        "recall = tp / real_positives\n",
        "recall"
      ],
      "execution_count": 11,
      "outputs": [
        {
          "output_type": "execute_result",
          "data": {
            "text/plain": [
              "0.697112366603892"
            ]
          },
          "metadata": {},
          "execution_count": 11
        }
      ]
    },
    {
      "cell_type": "code",
      "metadata": {
        "id": "Ugbn1wTUuKCO",
        "outputId": "4a22b724-e35a-429b-8825-d9624cee83ec",
        "colab": {
          "base_uri": "https://localhost:8080/"
        }
      },
      "source": [
        "# F beta score (beta = 2)\n",
        "def fbeta(beta, precision, recall):\n",
        "  score = (1+beta**2) * (precision * recall)/((beta**2)*precision + recall)\n",
        "  return score\n",
        "\n",
        "fbeta(2, precision, recall)"
      ],
      "execution_count": 12,
      "outputs": [
        {
          "output_type": "execute_result",
          "data": {
            "text/plain": [
              "0.7063126093178566"
            ]
          },
          "metadata": {},
          "execution_count": 12
        }
      ]
    },
    {
      "cell_type": "markdown",
      "metadata": {
        "id": "zwcLZViFlMML"
      },
      "source": [
        "### 2) 모델을 학습한 후 Confusion matrix를 그리고 해석하세요\n",
        "- 임계값을 조정한 후 confusion matrix를 그려보세요\n",
        "- **(객관식) 임계값을 증가시킬때 positive 범주에 대한 재현율의 변화 양상을 제출하세요.**\n",
        "    1. 증가\n",
        "    2. 감소\n",
        "    3. 변화가 없다\n"
      ]
    },
    {
      "cell_type": "code",
      "metadata": {
        "id": "wgLhUPVWlMML",
        "outputId": "bfbbc8fe-0865-4936-b9ad-a5d469c974b1",
        "colab": {
          "base_uri": "https://localhost:8080/"
        }
      },
      "source": [
        "from sklearn.pipeline import make_pipeline\n",
        "from category_encoders import OrdinalEncoder\n",
        "from sklearn.impute import SimpleImputer\n",
        "from sklearn.ensemble import RandomForestClassifier\n",
        "from sklearn.metrics import accuracy_score\n",
        "\n",
        "pipe = make_pipeline(\n",
        "    OrdinalEncoder(), \n",
        "    SimpleImputer(), \n",
        "    RandomForestClassifier(n_estimators=100, random_state=2, n_jobs=-1)\n",
        ")\n",
        "\n",
        "pipe.fit(X_train, y_train)\n",
        "y_pred = pipe.predict(X_val)\n",
        "print('검증 정확도: ', accuracy_score(y_val, y_pred))"
      ],
      "execution_count": 13,
      "outputs": [
        {
          "output_type": "stream",
          "name": "stderr",
          "text": [
            "/usr/local/lib/python3.7/dist-packages/statsmodels/tools/_testing.py:19: FutureWarning: pandas.util.testing is deprecated. Use the functions in the public API at pandas.testing instead.\n",
            "  import pandas.util.testing as tm\n"
          ]
        },
        {
          "output_type": "stream",
          "name": "stdout",
          "text": [
            "검증 정확도:  0.8271853872612976\n"
          ]
        }
      ]
    },
    {
      "cell_type": "code",
      "metadata": {
        "id": "Uf6RQGiUseke",
        "outputId": "c70e5c89-3a3b-4edc-924a-1f38c05e5b27",
        "colab": {
          "base_uri": "https://localhost:8080/",
          "height": 297
        }
      },
      "source": [
        "# 임계값 조정 전 confusion matrix\n",
        "from sklearn.metrics import plot_confusion_matrix\n",
        "import matplotlib.pyplot as plt\n",
        "\n",
        "fig, ax = plt.subplots()\n",
        "pcm = plot_confusion_matrix(pipe, X_val, y_val,\n",
        "                            cmap=plt.cm.Blues,\n",
        "                            ax=ax);\n",
        "plt.title(f'Confusion matrix, n = {len(y_val)}', fontsize=15)\n",
        "plt.show()"
      ],
      "execution_count": 14,
      "outputs": [
        {
          "output_type": "display_data",
          "data": {
            "image/png": "[encoded data removed]",
            "text/plain": [
              "<Figure size 432x288 with 2 Axes>"
            ]
          },
          "metadata": {
            "needs_background": "light"
          }
        }
      ]
    },
    {
      "cell_type": "code",
      "metadata": {
        "id": "2enwJ6fc2OHB",
        "outputId": "f6605e7b-ebb5-44a3-db31-efb3d2382503",
        "colab": {
          "base_uri": "https://localhost:8080/",
          "height": 487,
          "referenced_widgets": [
            "6bb7d18a4820449a95aa4f40b739c902",
            "fe7267c9e70b4ccf9fcfda9b91583cca",
            "87b663fe54314235bf6a55d2d2a4ae2a",
            "af1347ac4e7949199d051cf33199c3e1",
            "e8e8e28779a84c84a635a49999a1db1c",
            "50d35e90b8d741bb9e62e4881b6e894f",
            "f801209dd0eb48aea1364aa0f8c941a9"
          ]
        }
      },
      "source": [
        "# 임계값 조정 후 confusion matrix\n",
        "from ipywidgets import interact, fixed\n",
        "from sklearn.metrics import classification_report\n",
        "\n",
        "y_pred_proba = pipe.predict_proba(X_val)[:, 1] # 타겟이 1(True)일 확률\n",
        "def conf_matrix(y_true, y_pred_proba, threshold=0.5):\n",
        "  y_pred = y_pred_proba > threshold\n",
        "\n",
        "  fig, ax = plt.subplots()\n",
        "  pcm = plot_confusion_matrix(pipe, X_val, y_pred,\n",
        "                              cmap=plt.cm.Blues,\n",
        "                              ax=ax);\n",
        "  plt.title(f'Confusion matrix, n = {len(y_pred)}', fontsize=15)\n",
        "  plt.show()\n",
        "\n",
        "  print(classification_report(y_true, y_pred))\n",
        "\n",
        "\n",
        "interact(conf_matrix, y_true=fixed(y_val), y_pred_proba=fixed(y_pred_proba), threshold=(0, 1, 0.01));\n",
        "\n",
        "# 임계값을 증가시킬때 positive 범주에 대한 재현율의 변화 양상 : 감소"
      ],
      "execution_count": 15,
      "outputs": [
        {
          "output_type": "display_data",
          "data": {
            "application/vnd.jupyter.widget-view+json": {
              "model_id": "6bb7d18a4820449a95aa4f40b739c902",
              "version_minor": 0,
              "version_major": 2
            },
            "text/plain": [
              "interactive(children=(FloatSlider(value=0.5, description='threshold', max=1.0, step=0.01), Output()), _dom_cla…"
            ]
          },
          "metadata": {}
        }
      ]
    },
    {
      "cell_type": "markdown",
      "metadata": {
        "id": "Z58ltNhflMMM"
      },
      "source": [
        "### 3) 랜덤포레스트의 n_estimator를 1, 10, 100, 1000으로 바꾸어 가며 positive 범주의 predict_proba를 비교해 보세요\n",
        "- 하이퍼파라미터는 다음과 같이 설정합니다.\n",
        "    - n_jobs=-1, random_state=10, max_depth=None, oob_score=True\n",
        "- **(객관식) 확률값들의 분포의 변화를 아래 보기 중에서 고르세요**\n",
        "    1. 다양해진다\n",
        "    2. 변화가없다\n"
      ]
    },
    {
      "cell_type": "code",
      "metadata": {
        "id": "oY4mrshhlMMM",
        "outputId": "d6d261be-faa6-43a0-8231-1913c0cdbd01",
        "colab": {
          "base_uri": "https://localhost:8080/",
          "height": 488,
          "referenced_widgets": [
            "0573196244d14f17b79180418a6c7ad2",
            "0db2f81326a2455a9003ea1ffb26b41f",
            "8ea6a766410549ad99b149f1e5f32612",
            "7a5ecc4167e746148f16029b8c9dc46d",
            "28c7db09e07e47c98bab8535b9c8c89a",
            "39af63267c49404e9823c9c15758f989",
            "4279cb170b46437c899b2a41bae6a1cf"
          ]
        }
      },
      "source": [
        "import seaborn as sns\n",
        "\n",
        "def ctrl_estimator(n_estimators=1):\n",
        "  pipe = make_pipeline(\n",
        "    OrdinalEncoder(), \n",
        "    SimpleImputer(), \n",
        "    RandomForestClassifier(n_estimators=n_estimators, n_jobs=-1, random_state=10, max_depth=None, oob_score=True)\n",
        "  )\n",
        "\n",
        "  pipe.fit(X_train, y_train)\n",
        "  \n",
        "  y_pred_proba = pipe.predict_proba(X_val)[:, 1]\n",
        "  sns.displot(y_pred_proba);\n",
        "        \n",
        "interact(ctrl_estimator, n_estimators=(1,1000,10));\n",
        "\n",
        "# n_estimator의 값이 커질 수록 확률값 분포가 다양해진다."
      ],
      "execution_count": 16,
      "outputs": [
        {
          "output_type": "display_data",
          "data": {
            "application/vnd.jupyter.widget-view+json": {
              "model_id": "0573196244d14f17b79180418a6c7ad2",
              "version_minor": 0,
              "version_major": 2
            },
            "text/plain": [
              "interactive(children=(IntSlider(value=1, description='n_estimators', max=1000, min=1, step=10), Output()), _do…"
            ]
          },
          "metadata": {}
        }
      ]
    },
    {
      "cell_type": "markdown",
      "metadata": {
        "id": "W6cy-kkZlMMN"
      },
      "source": [
        "### 4) 두개 이상의 다른 분류 모델을 학습시켜 ROC curve, AUC 점수를 비교하고 설명합니다.\n",
        "- 더 좋은 결과가 나오는 모델을 사용해서 캐글에 제출하세요\n",
        "- **캐글 Leaderboard의 본인 Score를 제출하세요.**"
      ]
    },
    {
      "cell_type": "code",
      "metadata": {
        "id": "iyCdtJA4lMMN",
        "outputId": "efb239a7-79cd-4464-e13d-cc65faeac319",
        "colab": {
          "base_uri": "https://localhost:8080/"
        }
      },
      "source": [
        "### 1. 랜덤 포레스트\n",
        "from sklearn.metrics import f1_score\n",
        "\n",
        "pipe_rf = make_pipeline(\n",
        "    OrdinalEncoder(handle_missing=\"return_nan\"), \n",
        "    SimpleImputer(), \n",
        "    RandomForestClassifier(max_depth=13, n_estimators=120, random_state=10, n_jobs=-1, oob_score=True)\n",
        "  )\n",
        "\n",
        "pipe_rf.fit(X_train, y_train)\n",
        "y_pred_proba = pipe_rf.predict_proba(X_val)[:, 1] # 타겟이 1(True)일 확률 가져오기\n",
        "print('훈련 정확도', pipe_rf.score(X_train, y_train))\n",
        "print('검증 정확도', pipe_rf.score(X_val, y_val))\n",
        "print('f1 score', f1_score(y_val, pipe_rf.predict(X_val)))"
      ],
      "execution_count": 17,
      "outputs": [
        {
          "output_type": "stream",
          "name": "stdout",
          "text": [
            "훈련 정확도 0.8894523025828069\n",
            "검증 정확도 0.8315739532677026\n",
            "f1 score 0.5520504731861199\n"
          ]
        }
      ]
    },
    {
      "cell_type": "code",
      "metadata": {
        "id": "8uOYmMKXBMD2",
        "outputId": "95e74447-e6e8-49a7-ac2a-7427b434387d",
        "colab": {
          "base_uri": "https://localhost:8080/",
          "height": 295
        }
      },
      "source": [
        "# ROC curve 확인하기\n",
        "from sklearn.metrics import roc_curve\n",
        "\n",
        "# roc_curve(타겟값, prob of 1)\n",
        "fpr, tpr, thresholds = roc_curve(y_val, y_pred_proba)\n",
        "\n",
        "roc = pd.DataFrame({\n",
        "    'FPR(Fall-out)': fpr, \n",
        "    'TPRate(Recall)': tpr, \n",
        "    'Threshold': thresholds\n",
        "})\n",
        "\n",
        "plt.scatter(fpr, tpr)\n",
        "plt.title('ROC curve')\n",
        "plt.xlabel('FPR(Fall-out)')\n",
        "plt.ylabel('TPR(Recall)');"
      ],
      "execution_count": 18,
      "outputs": [
        {
          "output_type": "display_data",
          "data": {
            "image/png": "[encoded data removed]",
            "text/plain": [
              "<Figure size 432x288 with 1 Axes>"
            ]
          },
          "metadata": {
            "needs_background": "light"
          }
        }
      ]
    },
    {
      "cell_type": "code",
      "metadata": {
        "id": "0RK3MiVeCgVN",
        "outputId": "b4e24132-8979-442a-df02-6b8984f34bc9",
        "colab": {
          "base_uri": "https://localhost:8080/"
        }
      },
      "source": [
        "# threshold 최대값의 인덱스, np.argmax()\n",
        "optimal_idx = np.argmax(tpr - fpr) # 재현율은 최대로, 위양성률은 최소로 하는 데이터의 인덱스 값 찾기\n",
        "optimal_threshold = thresholds[optimal_idx] # 해당 값의 임계값 가져오기\n",
        "\n",
        "print('idx:', optimal_idx, ', threshold:', optimal_threshold)"
      ],
      "execution_count": 19,
      "outputs": [
        {
          "output_type": "stream",
          "name": "stdout",
          "text": [
            "idx: 1167 , threshold: 0.2625722614592884\n"
          ]
        }
      ]
    },
    {
      "cell_type": "code",
      "metadata": {
        "id": "TK_0QoQKDfk-",
        "outputId": "6ffdc898-080b-4ba0-bf8c-633053c0edd3",
        "colab": {
          "base_uri": "https://localhost:8080/"
        }
      },
      "source": [
        "# AUC score 확인\n",
        "from sklearn.metrics import roc_auc_score\n",
        "auc_score = roc_auc_score(y_val, y_pred_proba)\n",
        "auc_score"
      ],
      "execution_count": 20,
      "outputs": [
        {
          "output_type": "execute_result",
          "data": {
            "text/plain": [
              "0.8428636844613033"
            ]
          },
          "metadata": {},
          "execution_count": 20
        }
      ]
    },
    {
      "cell_type": "code",
      "metadata": {
        "id": "LrItjukGIUsd",
        "outputId": "645890ec-1e90-4537-b36d-799cb7deafb0",
        "colab": {
          "base_uri": "https://localhost:8080/"
        }
      },
      "source": [
        "# 최적 임계값 적용\n",
        "y_pred = y_pred_proba > optimal_threshold\n",
        "print('f1 score', f1_score(y_val, y_pred))"
      ],
      "execution_count": 21,
      "outputs": [
        {
          "output_type": "stream",
          "name": "stdout",
          "text": [
            "f1 score 0.6135669179058871\n"
          ]
        }
      ]
    },
    {
      "cell_type": "code",
      "metadata": {
        "id": "cfPdlwjmNSWH",
        "outputId": "dc0dc22a-3e90-497b-b78d-eabf7775dedc",
        "colab": {
          "base_uri": "https://localhost:8080/"
        }
      },
      "source": [
        "### 2. 결정 트리\n",
        "from sklearn.tree import DecisionTreeClassifier\n",
        "\n",
        "pipe_dt = make_pipeline(\n",
        "    OrdinalEncoder(),  \n",
        "    SimpleImputer(), \n",
        "    DecisionTreeClassifier(min_samples_leaf=36, random_state=1)\n",
        ")\n",
        "\n",
        "pipe_dt.fit(X_train, y_train)\n",
        "y_pred_proba = pipe_dt.predict_proba(X_val)[:, 1] # 타겟이 1(True)일 확률 가져오기\n",
        "print('훈련 정확도: ', pipe_dt.score(X_train, y_train))\n",
        "print('검증 정확도: ', pipe_dt.score(X_val, y_val))\n",
        "print('f1 score', f1_score(y_val, pipe_dt.predict(X_val)))"
      ],
      "execution_count": 22,
      "outputs": [
        {
          "output_type": "stream",
          "name": "stdout",
          "text": [
            "훈련 정확도:  0.8330812798386857\n",
            "검증 정확도:  0.8206618431977227\n",
            "f1 score 0.5630057803468207\n"
          ]
        }
      ]
    },
    {
      "cell_type": "code",
      "metadata": {
        "id": "k9iubHW5PPtZ",
        "outputId": "ec34899c-9fec-4915-8810-04dc691ddda4",
        "colab": {
          "base_uri": "https://localhost:8080/",
          "height": 295
        }
      },
      "source": [
        "# roc_curve(타겟값, prob of 1)\n",
        "fpr, tpr, thresholds = roc_curve(y_val, y_pred_proba)\n",
        "\n",
        "roc = pd.DataFrame({\n",
        "    'FPR(Fall-out)': fpr, \n",
        "    'TPRate(Recall)': tpr, \n",
        "    'Threshold': thresholds\n",
        "})\n",
        "\n",
        "plt.scatter(fpr, tpr)\n",
        "plt.title('ROC curve')\n",
        "plt.xlabel('FPR(Fall-out)')\n",
        "plt.ylabel('TPR(Recall)');"
      ],
      "execution_count": 23,
      "outputs": [
        {
          "output_type": "display_data",
          "data": {
            "image/png": "[encoded data removed]",
            "text/plain": [
              "<Figure size 432x288 with 1 Axes>"
            ]
          },
          "metadata": {
            "needs_background": "light"
          }
        }
      ]
    },
    {
      "cell_type": "code",
      "metadata": {
        "id": "isS9i4kbPV8l",
        "outputId": "b07895ad-ce42-4723-8df3-3134a3454504",
        "colab": {
          "base_uri": "https://localhost:8080/"
        }
      },
      "source": [
        "# threshold 최대값의 인덱스, np.argmax()\n",
        "optimal_idx = np.argmax(tpr - fpr) # 재현율은 최대로, 위양성률은 최소로 하는 데이터의 인덱스 값 찾기\n",
        "optimal_threshold = thresholds[optimal_idx] # 해당 값의 임계값 가져오기\n",
        "\n",
        "print('idx:', optimal_idx, ', threshold:', optimal_threshold)"
      ],
      "execution_count": 24,
      "outputs": [
        {
          "output_type": "stream",
          "name": "stdout",
          "text": [
            "idx: 190 , threshold: 0.27906976744186046\n"
          ]
        }
      ]
    },
    {
      "cell_type": "code",
      "metadata": {
        "id": "p6_0HrU0PY7j",
        "outputId": "ff8ce389-47ae-4fc4-e19d-58c8c52423fc",
        "colab": {
          "base_uri": "https://localhost:8080/"
        }
      },
      "source": [
        "# AUC score 확인\n",
        "from sklearn.metrics import roc_auc_score\n",
        "auc_score = roc_auc_score(y_val, y_pred_proba)\n",
        "auc_score"
      ],
      "execution_count": 25,
      "outputs": [
        {
          "output_type": "execute_result",
          "data": {
            "text/plain": [
              "0.816833845906326"
            ]
          },
          "metadata": {},
          "execution_count": 25
        }
      ]
    },
    {
      "cell_type": "code",
      "metadata": {
        "id": "uGEJORlcPcDZ",
        "outputId": "55f7a0fa-d729-435d-c5f5-44159df9bcce",
        "colab": {
          "base_uri": "https://localhost:8080/"
        }
      },
      "source": [
        "# 최적 임계값 적용\n",
        "y_pred = y_pred_proba > optimal_threshold\n",
        "print('f1 score', f1_score(y_val, y_pred))"
      ],
      "execution_count": 26,
      "outputs": [
        {
          "output_type": "stream",
          "name": "stdout",
          "text": [
            "f1 score 0.5934295877798703\n"
          ]
        }
      ]
    },
    {
      "cell_type": "code",
      "metadata": {
        "id": "cVmT3T7OPkGg",
        "outputId": "b5d4a1d1-ce9c-43d4-b3e0-48876d77dc9c",
        "colab": {
          "base_uri": "https://localhost:8080/"
        }
      },
      "source": [
        "### 최종 모델 : 랜덤 포레스트 (더 높은 AUC score)\n",
        "# AUC score는 각 모델에 대하여 재현율은 최대로, 위양성률은 최소로 한 결과임\n",
        "# 그 결과가 랜덤 포레스트에서 더 우수하게 나왔기 때문에 랜덤 포레스트로 결정\n",
        "X_total = pd.concat([X_train, X_val])\n",
        "y_total = pd.concat([y_train, y_val])\n",
        "\n",
        "last_pipe = make_pipeline(\n",
        "    OrdinalEncoder(handle_missing=\"return_nan\"), \n",
        "    SimpleImputer(), \n",
        "    RandomForestClassifier(max_depth=13, n_estimators=120, random_state=10, n_jobs=-1, oob_score=True)\n",
        ")\n",
        "\n",
        "last_pipe.fit(X_total, y_total)\n",
        "y_pred_proba = last_pipe.predict_proba(X_total)[:, 1] # 타겟이 1(True)일 확률 가져오기\n",
        "print('최종 정확도: ', last_pipe.score(X_total, y_total))"
      ],
      "execution_count": 29,
      "outputs": [
        {
          "output_type": "stream",
          "name": "stdout",
          "text": [
            "최종 정확도:  0.8837832708639749\n"
          ]
        }
      ]
    },
    {
      "cell_type": "code",
      "metadata": {
        "id": "BQiUL8hvQjDo"
      },
      "source": [
        "# roc_curve(타겟값, prob of 1)\n",
        "fpr, tpr, thresholds = roc_curve(y_total, y_pred_proba)"
      ],
      "execution_count": 30,
      "outputs": []
    },
    {
      "cell_type": "code",
      "metadata": {
        "id": "PYBUfA_LQhge",
        "outputId": "c3902213-116f-4eae-8392-e046542d6cb9",
        "colab": {
          "base_uri": "https://localhost:8080/"
        }
      },
      "source": [
        "# threshold 최대값의 인덱스, np.argmax()\n",
        "optimal_idx = np.argmax(tpr - fpr) # 재현율은 최대로, 위양성률은 최소로 하는 데이터의 인덱스 값 찾기\n",
        "optimal_threshold = thresholds[optimal_idx] # 해당 값의 임계값 가져오기\n",
        "\n",
        "print('idx:', optimal_idx, ', threshold:', optimal_threshold)"
      ],
      "execution_count": 31,
      "outputs": [
        {
          "output_type": "stream",
          "name": "stdout",
          "text": [
            "idx: 3850 , threshold: 0.2858698606973499\n"
          ]
        }
      ]
    },
    {
      "cell_type": "code",
      "metadata": {
        "id": "nmjw3uJQQXfh"
      },
      "source": [
        "# 최종 모델 학습 후 테스트 셋에 대한 예측 결과\n",
        "y_pred_proba = last_pipe.predict_proba(X_test)[:, 1] # 타겟이 1(True)일 확률 가져오기\n",
        "y_test_pred = y_pred_proba > optimal_threshold"
      ],
      "execution_count": 32,
      "outputs": []
    },
    {
      "cell_type": "code",
      "metadata": {
        "id": "OpGjyTuEQ4_7",
        "outputId": "09e7ccfc-05e1-49a9-ad4a-3be5f7f80677",
        "colab": {
          "base_uri": "https://localhost:8080/",
          "height": 203
        }
      },
      "source": [
        "# 최종 결과 담은 데이터프레임 생성\n",
        "d = {'Id':X_test.index, 'vacc_h1n1_f': y_test_pred}\n",
        "submission = pd.DataFrame(data = d)\n",
        "submission.head()"
      ],
      "execution_count": 33,
      "outputs": [
        {
          "output_type": "execute_result",
          "data": {
            "text/html": [
              "<div>\n",
              "<style scoped>\n",
              "    .dataframe tbody tr th:only-of-type {\n",
              "        vertical-align: middle;\n",
              "    }\n",
              "\n",
              "    .dataframe tbody tr th {\n",
              "        vertical-align: top;\n",
              "    }\n",
              "\n",
              "    .dataframe thead th {\n",
              "        text-align: right;\n",
              "    }\n",
              "</style>\n",
              "<table border=\"1\" class=\"dataframe\">\n",
              "  <thead>\n",
              "    <tr style=\"text-align: right;\">\n",
              "      <th></th>\n",
              "      <th>Id</th>\n",
              "      <th>vacc_h1n1_f</th>\n",
              "    </tr>\n",
              "  </thead>\n",
              "  <tbody>\n",
              "    <tr>\n",
              "      <th>0</th>\n",
              "      <td>0</td>\n",
              "      <td>False</td>\n",
              "    </tr>\n",
              "    <tr>\n",
              "      <th>1</th>\n",
              "      <td>1</td>\n",
              "      <td>False</td>\n",
              "    </tr>\n",
              "    <tr>\n",
              "      <th>2</th>\n",
              "      <td>2</td>\n",
              "      <td>False</td>\n",
              "    </tr>\n",
              "    <tr>\n",
              "      <th>3</th>\n",
              "      <td>3</td>\n",
              "      <td>False</td>\n",
              "    </tr>\n",
              "    <tr>\n",
              "      <th>4</th>\n",
              "      <td>4</td>\n",
              "      <td>False</td>\n",
              "    </tr>\n",
              "  </tbody>\n",
              "</table>\n",
              "</div>"
            ],
            "text/plain": [
              "   Id  vacc_h1n1_f\n",
              "0   0        False\n",
              "1   1        False\n",
              "2   2        False\n",
              "3   3        False\n",
              "4   4        False"
            ]
          },
          "metadata": {},
          "execution_count": 33
        }
      ]
    },
    {
      "cell_type": "code",
      "metadata": {
        "id": "AP02dGIDSRGH"
      },
      "source": [
        "# 제출용 파일 생성\n",
        "# submission.to_csv('submission.csv', index=False)"
      ],
      "execution_count": 34,
      "outputs": []
    },
    {
      "cell_type": "code",
      "metadata": {
        "id": "P94XRBU8SSUr"
      },
      "source": [
        "# !kaggle competitions submit -c prediction-of-h1n1-vaccination -f submission.csv -m \"Gyeong ho Ahn, Third Submission(using Random Forest) using threshold\""
      ],
      "execution_count": 35,
      "outputs": []
    },
    {
      "cell_type": "markdown",
      "metadata": {
        "id": "ovAp_ie2lMMO"
      },
      "source": [
        "## 🔥 도전과제"
      ]
    },
    {
      "cell_type": "markdown",
      "metadata": {
        "id": "Aqr-XN7clMMO"
      },
      "source": [
        "### 5) 각 평가지표에 대해 결과를 최대한 분석하고 무엇이 부족한지, 어떤 방향으로 성능을 높여야 하는지 논하세요."
      ]
    },
    {
      "cell_type": "code",
      "metadata": {
        "id": "3dKFsLm2lMMO"
      },
      "source": [
        ""
      ],
      "execution_count": 36,
      "outputs": []
    }
  ]
}