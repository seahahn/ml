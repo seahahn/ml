{
  "nbformat": 4,
  "nbformat_minor": 0,
  "metadata": {
    "kernelspec": {
      "display_name": "Python 3",
      "language": "python",
      "name": "python3"
    },
    "language_info": {
      "codemirror_mode": {
        "name": "ipython",
        "version": 3
      },
      "file_extension": ".py",
      "mimetype": "text/x-python",
      "name": "python",
      "nbconvert_exporter": "python",
      "pygments_lexer": "ipython3",
      "version": "3.7.7"
    },
    "colab": {
      "name": "n224a-model-selection.ipynb",
      "provenance": []
    }
  },
  "cells": [
    {
      "cell_type": "markdown",
      "metadata": {
        "id": "TdK3lFnQ-HI3"
      },
      "source": [
        "<img align=\"right\" src=\"https://ds-cs-images.s3.ap-northeast-2.amazonaws.com/Codestates_Fulllogo_Color.png\" width=100>\n",
        "\n",
        "## *AIB / SECTION 2 / SPRINT 2 / NOTE 4*\n",
        "\n",
        "# 📝 Assignment\n",
        "---"
      ]
    },
    {
      "cell_type": "markdown",
      "metadata": {
        "id": "OpQhiQ_Y-HI6"
      },
      "source": [
        "# 모델선택(Model Selection)\n",
        "\n",
        "### 1) 캐글 대회를 이어서 진행합니다. RandomizedSearchCV 를 사용하여 하이퍼파라미터 튜닝을 진행합니다.\n",
        "\n",
        "- [RandomForestClassifier](https://scikit-learn.org/stable/modules/generated/sklearn.ensemble.RandomForestClassifier.html)를 사용하세요.\n",
        "- 분류문제에서 맞는 [scoring parameter](https://scikit-learn.org/stable/modules/model_evaluation.html#common-cases-predefined-values) metric을 사용하세요.\n",
        "- [OrdinalEncoder](https://contrib.scikit-learn.org/categorical-encoding/ordinal.html) 사용을 권합니다.\n",
        "- RandomizedSearchCV 를 사용해서 하이퍼파라미터 튜닝을 진행하고 최고 성능을 보이는 모델로 예측을 진행한 후 캐글에 제출합니다.\n",
        "- **캐글 Leaderboard에서 개선된 본인 Score를 과제 제출폼에 제출하세요.**"
      ]
    },
    {
      "cell_type": "code",
      "metadata": {
        "id": "2n26_gcL-HI7"
      },
      "source": [
        "# !mkdir -p ~/.kaggle\n",
        "# !cp kaggle.json ~/.kaggle/\n",
        "# !chmod 600 /root/.kaggle/kaggle.json\n",
        "# !pip install kaggle\n",
        "\n",
        "# ! pip install category_encoders"
      ],
      "execution_count": null,
      "outputs": []
    },
    {
      "cell_type": "code",
      "metadata": {
        "id": "uG1B0crHBNvw"
      },
      "source": [
        "import pandas as pd\n",
        "import numpy as np"
      ],
      "execution_count": 3,
      "outputs": []
    },
    {
      "cell_type": "code",
      "metadata": {
        "id": "l7opuegYBPGh"
      },
      "source": [
        "### EDA 시작\n",
        "target = 'vacc_h1n1_f'\n",
        "# target = 'vacc_seas_f'\n",
        "train = pd.merge(pd.read_csv('https://ds-lecture-data.s3.ap-northeast-2.amazonaws.com/vacc_flu/train.csv'), \n",
        "                 pd.read_csv('https://ds-lecture-data.s3.ap-northeast-2.amazonaws.com/vacc_flu/train_labels.csv')[target], left_index=True, right_index=True)\n",
        "test = pd.read_csv('https://ds-lecture-data.s3.ap-northeast-2.amazonaws.com/vacc_flu/test.csv')\n",
        "sample_submission = pd.read_csv('https://ds-lecture-data.s3.ap-northeast-2.amazonaws.com/vacc_flu/submission.csv')"
      ],
      "execution_count": 4,
      "outputs": []
    },
    {
      "cell_type": "code",
      "metadata": {
        "id": "X1tHTo-Gg4SW"
      },
      "source": [
        "# 타겟과 관련 없는 특성 제거하기\n",
        "col_seas = ['doctor_recc_seasonal', 'opinion_seas_vacc_effective', 'opinion_seas_risk', 'opinion_seas_sick_from_vacc']\n",
        "\n",
        "train = train.drop(col_seas, axis=1)\n",
        "test = test.drop(col_seas, axis=1)"
      ],
      "execution_count": 6,
      "outputs": []
    },
    {
      "cell_type": "code",
      "metadata": {
        "id": "UhNe74YOjOFm"
      },
      "source": [
        "# 결측치 많은 특성 제거하기\n",
        "col_toomany_nan = ['employment_industry', 'employment_occupation']\n",
        "\n",
        "train = train.drop(col_toomany_nan, axis=1)\n",
        "test = test.drop(col_toomany_nan, axis=1)"
      ],
      "execution_count": 13,
      "outputs": []
    },
    {
      "cell_type": "code",
      "metadata": {
        "id": "j4PpmPnUgmsQ",
        "outputId": "a6b37d70-1065-4cf1-a21a-facd1ea92301",
        "colab": {
          "base_uri": "https://localhost:8080/"
        }
      },
      "source": [
        "print(train.shape)\n",
        "train.isna().sum()"
      ],
      "execution_count": 14,
      "outputs": [
        {
          "output_type": "stream",
          "name": "stdout",
          "text": [
            "(42154, 33)\n"
          ]
        },
        {
          "output_type": "execute_result",
          "data": {
            "text/plain": [
              "h1n1_concern                    8420\n",
              "h1n1_knowledge                  8420\n",
              "behavioral_antiviral_meds       8519\n",
              "behavioral_avoidance            8672\n",
              "behavioral_face_mask            8444\n",
              "behavioral_wash_hands           8471\n",
              "behavioral_large_gatherings     8514\n",
              "behavioral_outside_home         8521\n",
              "behavioral_touch_face           8583\n",
              "doctor_recc_h1n1                1885\n",
              "chronic_med_condition           1317\n",
              "child_under_6_months            9449\n",
              "health_insurance               19421\n",
              "health_worker                   9430\n",
              "opinion_h1n1_vacc_effective     8779\n",
              "opinion_h1n1_risk               8825\n",
              "opinion_h1n1_sick_from_vacc     8869\n",
              "agegrp                             0\n",
              "education_comp                 10166\n",
              "raceeth4_i                         0\n",
              "sex_i                              0\n",
              "inc_pov                            0\n",
              "marital                        10199\n",
              "rent_own_r                      2196\n",
              "employment_status              10278\n",
              "census_region                      0\n",
              "census_msa                         0\n",
              "n_adult_r                        309\n",
              "household_children               309\n",
              "n_people_r                       134\n",
              "hhs_region                         0\n",
              "state                              0\n",
              "vacc_h1n1_f                        0\n",
              "dtype: int64"
            ]
          },
          "metadata": {},
          "execution_count": 14
        }
      ]
    },
    {
      "cell_type": "code",
      "metadata": {
        "id": "2U90irbii4Rj",
        "outputId": "00e24261-f381-4050-9527-a3925b6253cb",
        "colab": {
          "base_uri": "https://localhost:8080/",
          "height": 394
        }
      },
      "source": [
        "train.head()"
      ],
      "execution_count": 15,
      "outputs": [
        {
          "output_type": "execute_result",
          "data": {
            "text/html": [
              "<div>\n",
              "<style scoped>\n",
              "    .dataframe tbody tr th:only-of-type {\n",
              "        vertical-align: middle;\n",
              "    }\n",
              "\n",
              "    .dataframe tbody tr th {\n",
              "        vertical-align: top;\n",
              "    }\n",
              "\n",
              "    .dataframe thead th {\n",
              "        text-align: right;\n",
              "    }\n",
              "</style>\n",
              "<table border=\"1\" class=\"dataframe\">\n",
              "  <thead>\n",
              "    <tr style=\"text-align: right;\">\n",
              "      <th></th>\n",
              "      <th>h1n1_concern</th>\n",
              "      <th>h1n1_knowledge</th>\n",
              "      <th>behavioral_antiviral_meds</th>\n",
              "      <th>behavioral_avoidance</th>\n",
              "      <th>behavioral_face_mask</th>\n",
              "      <th>behavioral_wash_hands</th>\n",
              "      <th>behavioral_large_gatherings</th>\n",
              "      <th>behavioral_outside_home</th>\n",
              "      <th>behavioral_touch_face</th>\n",
              "      <th>doctor_recc_h1n1</th>\n",
              "      <th>chronic_med_condition</th>\n",
              "      <th>child_under_6_months</th>\n",
              "      <th>health_insurance</th>\n",
              "      <th>health_worker</th>\n",
              "      <th>opinion_h1n1_vacc_effective</th>\n",
              "      <th>opinion_h1n1_risk</th>\n",
              "      <th>opinion_h1n1_sick_from_vacc</th>\n",
              "      <th>agegrp</th>\n",
              "      <th>education_comp</th>\n",
              "      <th>raceeth4_i</th>\n",
              "      <th>sex_i</th>\n",
              "      <th>inc_pov</th>\n",
              "      <th>marital</th>\n",
              "      <th>rent_own_r</th>\n",
              "      <th>employment_status</th>\n",
              "      <th>census_region</th>\n",
              "      <th>census_msa</th>\n",
              "      <th>n_adult_r</th>\n",
              "      <th>household_children</th>\n",
              "      <th>n_people_r</th>\n",
              "      <th>hhs_region</th>\n",
              "      <th>state</th>\n",
              "      <th>vacc_h1n1_f</th>\n",
              "    </tr>\n",
              "  </thead>\n",
              "  <tbody>\n",
              "    <tr>\n",
              "      <th>0</th>\n",
              "      <td>NaN</td>\n",
              "      <td>NaN</td>\n",
              "      <td>NaN</td>\n",
              "      <td>NaN</td>\n",
              "      <td>NaN</td>\n",
              "      <td>NaN</td>\n",
              "      <td>NaN</td>\n",
              "      <td>NaN</td>\n",
              "      <td>NaN</td>\n",
              "      <td>0.0</td>\n",
              "      <td>0.0</td>\n",
              "      <td>NaN</td>\n",
              "      <td>1.0</td>\n",
              "      <td>NaN</td>\n",
              "      <td>NaN</td>\n",
              "      <td>NaN</td>\n",
              "      <td>NaN</td>\n",
              "      <td>10 - 17 Years</td>\n",
              "      <td>NaN</td>\n",
              "      <td>3</td>\n",
              "      <td>1</td>\n",
              "      <td>2</td>\n",
              "      <td>NaN</td>\n",
              "      <td>2.0</td>\n",
              "      <td>NaN</td>\n",
              "      <td>4</td>\n",
              "      <td>MSA, Not Principle City</td>\n",
              "      <td>2.0</td>\n",
              "      <td>3.0</td>\n",
              "      <td>5.0</td>\n",
              "      <td>9</td>\n",
              "      <td>CALIFORNIA</td>\n",
              "      <td>0</td>\n",
              "    </tr>\n",
              "    <tr>\n",
              "      <th>1</th>\n",
              "      <td>3.0</td>\n",
              "      <td>1.0</td>\n",
              "      <td>0.0</td>\n",
              "      <td>0.0</td>\n",
              "      <td>0.0</td>\n",
              "      <td>1.0</td>\n",
              "      <td>0.0</td>\n",
              "      <td>0.0</td>\n",
              "      <td>1.0</td>\n",
              "      <td>0.0</td>\n",
              "      <td>0.0</td>\n",
              "      <td>0.0</td>\n",
              "      <td>NaN</td>\n",
              "      <td>0.0</td>\n",
              "      <td>Very Effective</td>\n",
              "      <td>Very Low</td>\n",
              "      <td>Not Very Worried</td>\n",
              "      <td>45 - 54 Years</td>\n",
              "      <td>3.0</td>\n",
              "      <td>3</td>\n",
              "      <td>1</td>\n",
              "      <td>2</td>\n",
              "      <td>2.0</td>\n",
              "      <td>1.0</td>\n",
              "      <td>Employed</td>\n",
              "      <td>2</td>\n",
              "      <td>MSA, Principle City</td>\n",
              "      <td>1.0</td>\n",
              "      <td>0.0</td>\n",
              "      <td>1.0</td>\n",
              "      <td>7</td>\n",
              "      <td>NEBRASKA</td>\n",
              "      <td>0</td>\n",
              "    </tr>\n",
              "    <tr>\n",
              "      <th>2</th>\n",
              "      <td>2.0</td>\n",
              "      <td>1.0</td>\n",
              "      <td>0.0</td>\n",
              "      <td>1.0</td>\n",
              "      <td>0.0</td>\n",
              "      <td>1.0</td>\n",
              "      <td>1.0</td>\n",
              "      <td>0.0</td>\n",
              "      <td>1.0</td>\n",
              "      <td>0.0</td>\n",
              "      <td>0.0</td>\n",
              "      <td>0.0</td>\n",
              "      <td>NaN</td>\n",
              "      <td>0.0</td>\n",
              "      <td>Somewhat Effective</td>\n",
              "      <td>Somewhat Low</td>\n",
              "      <td>Very Worried</td>\n",
              "      <td>45 - 54 Years</td>\n",
              "      <td>3.0</td>\n",
              "      <td>3</td>\n",
              "      <td>1</td>\n",
              "      <td>2</td>\n",
              "      <td>2.0</td>\n",
              "      <td>2.0</td>\n",
              "      <td>Employed</td>\n",
              "      <td>1</td>\n",
              "      <td>MSA, Not Principle City</td>\n",
              "      <td>1.0</td>\n",
              "      <td>2.0</td>\n",
              "      <td>3.0</td>\n",
              "      <td>1</td>\n",
              "      <td>MASSACHUSETTS</td>\n",
              "      <td>0</td>\n",
              "    </tr>\n",
              "    <tr>\n",
              "      <th>3</th>\n",
              "      <td>2.0</td>\n",
              "      <td>2.0</td>\n",
              "      <td>1.0</td>\n",
              "      <td>1.0</td>\n",
              "      <td>0.0</td>\n",
              "      <td>1.0</td>\n",
              "      <td>0.0</td>\n",
              "      <td>0.0</td>\n",
              "      <td>0.0</td>\n",
              "      <td>0.0</td>\n",
              "      <td>1.0</td>\n",
              "      <td>0.0</td>\n",
              "      <td>1.0</td>\n",
              "      <td>0.0</td>\n",
              "      <td>Very Effective</td>\n",
              "      <td>Very Low</td>\n",
              "      <td>Not Very Worried</td>\n",
              "      <td>35 - 44 Years</td>\n",
              "      <td>4.0</td>\n",
              "      <td>1</td>\n",
              "      <td>2</td>\n",
              "      <td>1</td>\n",
              "      <td>1.0</td>\n",
              "      <td>1.0</td>\n",
              "      <td>Employed</td>\n",
              "      <td>3</td>\n",
              "      <td>MSA, Not Principle City</td>\n",
              "      <td>2.0</td>\n",
              "      <td>2.0</td>\n",
              "      <td>4.0</td>\n",
              "      <td>6</td>\n",
              "      <td>LOUISIANA</td>\n",
              "      <td>0</td>\n",
              "    </tr>\n",
              "    <tr>\n",
              "      <th>4</th>\n",
              "      <td>1.0</td>\n",
              "      <td>2.0</td>\n",
              "      <td>0.0</td>\n",
              "      <td>1.0</td>\n",
              "      <td>0.0</td>\n",
              "      <td>1.0</td>\n",
              "      <td>0.0</td>\n",
              "      <td>0.0</td>\n",
              "      <td>1.0</td>\n",
              "      <td>0.0</td>\n",
              "      <td>0.0</td>\n",
              "      <td>0.0</td>\n",
              "      <td>1.0</td>\n",
              "      <td>0.0</td>\n",
              "      <td>Very Effective</td>\n",
              "      <td>Very Low</td>\n",
              "      <td>Not At All Worried</td>\n",
              "      <td>55 - 64 Years</td>\n",
              "      <td>3.0</td>\n",
              "      <td>3</td>\n",
              "      <td>2</td>\n",
              "      <td>2</td>\n",
              "      <td>1.0</td>\n",
              "      <td>1.0</td>\n",
              "      <td>Employed</td>\n",
              "      <td>3</td>\n",
              "      <td>MSA, Not Principle City</td>\n",
              "      <td>3.0</td>\n",
              "      <td>0.0</td>\n",
              "      <td>3.0</td>\n",
              "      <td>4</td>\n",
              "      <td>ALABAMA</td>\n",
              "      <td>1</td>\n",
              "    </tr>\n",
              "  </tbody>\n",
              "</table>\n",
              "</div>"
            ],
            "text/plain": [
              "   h1n1_concern  h1n1_knowledge  ...          state  vacc_h1n1_f\n",
              "0           NaN             NaN  ...     CALIFORNIA            0\n",
              "1           3.0             1.0  ...       NEBRASKA            0\n",
              "2           2.0             1.0  ...  MASSACHUSETTS            0\n",
              "3           2.0             2.0  ...      LOUISIANA            0\n",
              "4           1.0             2.0  ...        ALABAMA            1\n",
              "\n",
              "[5 rows x 33 columns]"
            ]
          },
          "metadata": {},
          "execution_count": 15
        }
      ]
    },
    {
      "cell_type": "code",
      "metadata": {
        "id": "-CpBEoifBPnY"
      },
      "source": [
        "def engineer(df):        \n",
        "    # behavioral_* 통합\n",
        "    behaviorals = [col for col in df.columns if 'behavioral' in col] \n",
        "    df['behaviorals'] = df[behaviorals].sum(axis=1)\n",
        "    \n",
        "    # 범주형의 값을 순서형 수치로 변경\n",
        "    df.opinion_h1n1_vacc_effective = df.opinion_h1n1_vacc_effective.replace({'Not At All Effective':0, 'Not Very Effective':1, \n",
        "         'Dont Know':2, 'Somewhat Effective':3, 'Very Effective':4, \n",
        "         'Refused':np.nan, np.nan:0}\n",
        "    )\n",
        "    df.opinion_h1n1_risk = df.opinion_h1n1_risk.replace({'Very Low':0, 'Somewhat Low':1, 'Dont Know':2, \n",
        "         'Somewhat High':3, 'Very High':4, 'Refused':np.nan, np.nan:0}\n",
        "    )\n",
        "    df.opinion_h1n1_sick_from_vacc = df.opinion_h1n1_sick_from_vacc.replace({'Not At All Worried':0, 'Not Very Worried':1, 'Dont Know':2, \n",
        "         'Somewhat Worried':3, 'Very Worried':4, 'Refused':np.nan, np.nan:0}\n",
        "    )\n",
        "    df.agegrp = df.agegrp.replace({'6 Months - 9 Years':0, '10 - 17 Years':1, '18 - 34 Years':2, \n",
        "         '35 - 44 Years':3, '45 - 54 Years':4, '55 - 64 Years':5, '65+ Years':6}\n",
        "    )\n",
        "    df.census_msa = df.census_msa.replace({'Non-MSA':0, 'MSA, Not Principle City':1, 'MSA, Principle City':2})\n",
        "        \n",
        "    return df\n",
        "\n",
        "\n",
        "train = engineer(train)\n",
        "test = engineer(test)"
      ],
      "execution_count": 16,
      "outputs": []
    },
    {
      "cell_type": "code",
      "metadata": {
        "id": "s5-B8xgCBQ6P"
      },
      "source": [
        "features = train.drop(columns=[target]).columns\n",
        "\n",
        "X_train = train[features]\n",
        "y_train = train[target]\n",
        "X_test = test[features]\n",
        "\n",
        "### EDA 끝"
      ],
      "execution_count": 17,
      "outputs": []
    },
    {
      "cell_type": "code",
      "metadata": {
        "id": "3pi4740ZtUmu",
        "outputId": "c85ad0c6-d8a3-445f-f470-6f3e1affae6b",
        "colab": {
          "base_uri": "https://localhost:8080/"
        }
      },
      "source": [
        "from sklearn.pipeline import make_pipeline\n",
        "from category_encoders import OrdinalEncoder, TargetEncoder\n",
        "from sklearn.impute import SimpleImputer\n",
        "from sklearn.ensemble import RandomForestClassifier\n",
        "from sklearn.model_selection import RandomizedSearchCV, GridSearchCV\n",
        "from scipy.stats import randint, uniform"
      ],
      "execution_count": 18,
      "outputs": [
        {
          "output_type": "stream",
          "name": "stderr",
          "text": [
            "/usr/local/lib/python3.7/dist-packages/statsmodels/tools/_testing.py:19: FutureWarning: pandas.util.testing is deprecated. Use the functions in the public API at pandas.testing instead.\n",
            "  import pandas.util.testing as tm\n"
          ]
        }
      ]
    },
    {
      "cell_type": "code",
      "metadata": {
        "id": "bU_sdh_FBSX1",
        "outputId": "eb5ebd59-2f92-43a4-c94b-ced6052c33c6",
        "colab": {
          "base_uri": "https://localhost:8080/"
        }
      },
      "source": [
        "%%time\n",
        "pipe = make_pipeline(\n",
        "    OrdinalEncoder(handle_missing='return_nan'), \n",
        "    SimpleImputer(), \n",
        "    RandomForestClassifier(random_state=2)\n",
        ")\n",
        "\n",
        "dists = {\n",
        "    'randomforestclassifier__n_estimators': randint(150, 300),\n",
        "    'randomforestclassifier__max_depth': randint(5, 15),\n",
        "    'randomforestclassifier__max_features': uniform(0, 0.5)\n",
        "}\n",
        "\n",
        "clf = RandomizedSearchCV(\n",
        "    pipe, \n",
        "    param_distributions=dists, \n",
        "    n_iter=50, \n",
        "    cv=3, \n",
        "    scoring='roc_auc',  \n",
        "    verbose=1,\n",
        "    n_jobs=-1\n",
        ")\n",
        "\n",
        "clf.fit(X_train, y_train);"
      ],
      "execution_count": 43,
      "outputs": [
        {
          "output_type": "stream",
          "name": "stdout",
          "text": [
            "Fitting 3 folds for each of 50 candidates, totalling 150 fits\n"
          ]
        },
        {
          "output_type": "stream",
          "name": "stderr",
          "text": [
            "[Parallel(n_jobs=-1)]: Using backend LokyBackend with 2 concurrent workers.\n",
            "[Parallel(n_jobs=-1)]: Done  46 tasks      | elapsed:  3.7min\n",
            "[Parallel(n_jobs=-1)]: Done 150 out of 150 | elapsed: 12.8min finished\n"
          ]
        },
        {
          "output_type": "stream",
          "name": "stdout",
          "text": [
            "CPU times: user 17.4 s, sys: 694 ms, total: 18.1 s\n",
            "Wall time: 12min 56s\n"
          ]
        }
      ]
    },
    {
      "cell_type": "code",
      "metadata": {
        "id": "6pIPixAuBn_E",
        "outputId": "dcb4b7e4-9686-42b8-f4cd-5ce79ac9a317",
        "colab": {
          "base_uri": "https://localhost:8080/"
        }
      },
      "source": [
        "print('최적 하이퍼파라미터: ', clf.best_params_)\n",
        "print('roc_auc: ', clf.best_score_)"
      ],
      "execution_count": 46,
      "outputs": [
        {
          "output_type": "stream",
          "name": "stdout",
          "text": [
            "최적 하이퍼파라미터:  {'randomforestclassifier__max_depth': 12, 'randomforestclassifier__max_features': 0.23696472717478695, 'randomforestclassifier__n_estimators': 218}\n",
            "roc_auc:  0.8433190515372058\n"
          ]
        }
      ]
    },
    {
      "cell_type": "code",
      "metadata": {
        "id": "GGcX6Yd9GGTE"
      },
      "source": [
        "# 최적 하이퍼파라미터:  {'randomforestclassifier__max_depth': 10, 'randomforestclassifier__max_features': 0.8485466648445711, 'randomforestclassifier__n_estimators': 166}\n",
        "# F1:  0.569834747536281\n",
        "\n",
        "# 최적 하이퍼파라미터:  {'randomforestclassifier__max_depth': 11, 'randomforestclassifier__max_features': 0.7563127746684387, 'randomforestclassifier__n_estimators': 169}\n",
        "# F1:  0.5699558806251526\n",
        "\n",
        "# 최적 하이퍼파라미터:  {'randomforestclassifier__max_depth': 13, 'randomforestclassifier__max_features': 0.551813562377767, 'randomforestclassifier__n_estimators': 163}\n",
        "# F1:  0.5714311138139805\n",
        "\n",
        "# 최적 하이퍼파라미터:  {'randomforestclassifier__max_depth': 12, 'randomforestclassifier__max_features': 0.5383281712274792, 'randomforestclassifier__n_estimators': 184}\n",
        "# F1:  0.5723167616525429\n",
        "\n",
        "# 최적 하이퍼파라미터:  {'randomforestclassifier__max_depth': 10, 'randomforestclassifier__max_features': 0.18997888246058203, 'randomforestclassifier__n_estimators': 260}\n",
        "# roc_auc:  0.8433578886115308\n",
        "\n",
        "# 최적 하이퍼파라미터:  {'randomforestclassifier__max_depth': 10, 'randomforestclassifier__max_features': 0.24737153855180405, 'randomforestclassifier__n_estimators': 193}\n",
        "# roc_auc:  0.8438301351187466\n",
        "\n",
        "# 최적 하이퍼파라미터:  {'randomforestclassifier__max_depth': 12, 'randomforestclassifier__max_features': 0.23696472717478695, 'randomforestclassifier__n_estimators': 218}\n",
        "# roc_auc:  0.8433190515372058"
      ],
      "execution_count": null,
      "outputs": []
    },
    {
      "cell_type": "code",
      "metadata": {
        "id": "h_Qa93k5BpZb"
      },
      "source": [
        "# 최고 성능 모델 불러오기\n",
        "pipe = clf.best_estimator_\n",
        "\n",
        "# pipe = make_pipeline(\n",
        "#     OrdinalEncoder(handle_missing=\"return_nan\"), \n",
        "#     SimpleImputer(), \n",
        "#     RandomForestClassifier(max_depth=12, max_features=0.5383281712274792, n_estimators=184, random_state=2, n_jobs=-1)\n",
        "# )\n",
        "\n",
        "# pipe.fit(X_train, y_train)"
      ],
      "execution_count": 47,
      "outputs": []
    },
    {
      "cell_type": "code",
      "metadata": {
        "id": "0pvmOFFyBqjQ"
      },
      "source": [
        "# 테스트 셋 예측 확률 얻기\n",
        "y_pred_proba = pipe.predict_proba(X_train)[:, 1] # 타겟이 1(True)일 확률 가져오기"
      ],
      "execution_count": 48,
      "outputs": []
    },
    {
      "cell_type": "code",
      "metadata": {
        "id": "e72uZ3LnBr3G",
        "colab": {
          "base_uri": "https://localhost:8080/"
        },
        "outputId": "a7a4acdc-d1b3-4c01-8090-37ad7d522f3a"
      },
      "source": [
        "# ROC curve 확인하기\n",
        "from sklearn.metrics import roc_curve\n",
        "\n",
        "# roc_curve(타겟값, prob of 1)\n",
        "fpr, tpr, thresholds = roc_curve(y_train, y_pred_proba)\n",
        "\n",
        "# threshold 최대값의 인덱스, np.argmax()\n",
        "optimal_idx = np.argmax(tpr - fpr) # 재현율은 최대로, 위양성률은 최소로 하는 데이터의 인덱스 값 찾기\n",
        "optimal_threshold = thresholds[optimal_idx] # 해당 값의 임계값 가져오기\n",
        "\n",
        "print('idx:', optimal_idx, ', threshold:', optimal_threshold)"
      ],
      "execution_count": 49,
      "outputs": [
        {
          "output_type": "stream",
          "name": "stdout",
          "text": [
            "idx: 4055 , threshold: 0.27828914332889654\n"
          ]
        }
      ]
    },
    {
      "cell_type": "code",
      "metadata": {
        "id": "VunHpKMXBtKm"
      },
      "source": [
        "# 최적 임계값 적용\n",
        "y_test_pred_proba = pipe.predict_proba(X_test)[:, 1] # 타겟이 1(True)일 확률 가져오기\n",
        "y_test_pred = y_test_pred_proba > optimal_threshold"
      ],
      "execution_count": 50,
      "outputs": []
    },
    {
      "cell_type": "code",
      "metadata": {
        "id": "DEiLLh0uBuXm",
        "colab": {
          "base_uri": "https://localhost:8080/",
          "height": 204
        },
        "outputId": "966e878b-9a53-4ff5-ff09-b9d977fd09de"
      },
      "source": [
        "# 최종 결과 담은 데이터프레임 생성\n",
        "d = {'Id':X_test.index, 'vacc_h1n1_f': y_test_pred}\n",
        "submission = pd.DataFrame(data = d)\n",
        "submission.head()"
      ],
      "execution_count": 51,
      "outputs": [
        {
          "output_type": "execute_result",
          "data": {
            "text/html": [
              "<div>\n",
              "<style scoped>\n",
              "    .dataframe tbody tr th:only-of-type {\n",
              "        vertical-align: middle;\n",
              "    }\n",
              "\n",
              "    .dataframe tbody tr th {\n",
              "        vertical-align: top;\n",
              "    }\n",
              "\n",
              "    .dataframe thead th {\n",
              "        text-align: right;\n",
              "    }\n",
              "</style>\n",
              "<table border=\"1\" class=\"dataframe\">\n",
              "  <thead>\n",
              "    <tr style=\"text-align: right;\">\n",
              "      <th></th>\n",
              "      <th>Id</th>\n",
              "      <th>vacc_h1n1_f</th>\n",
              "    </tr>\n",
              "  </thead>\n",
              "  <tbody>\n",
              "    <tr>\n",
              "      <th>0</th>\n",
              "      <td>0</td>\n",
              "      <td>False</td>\n",
              "    </tr>\n",
              "    <tr>\n",
              "      <th>1</th>\n",
              "      <td>1</td>\n",
              "      <td>False</td>\n",
              "    </tr>\n",
              "    <tr>\n",
              "      <th>2</th>\n",
              "      <td>2</td>\n",
              "      <td>False</td>\n",
              "    </tr>\n",
              "    <tr>\n",
              "      <th>3</th>\n",
              "      <td>3</td>\n",
              "      <td>False</td>\n",
              "    </tr>\n",
              "    <tr>\n",
              "      <th>4</th>\n",
              "      <td>4</td>\n",
              "      <td>False</td>\n",
              "    </tr>\n",
              "  </tbody>\n",
              "</table>\n",
              "</div>"
            ],
            "text/plain": [
              "   Id  vacc_h1n1_f\n",
              "0   0        False\n",
              "1   1        False\n",
              "2   2        False\n",
              "3   3        False\n",
              "4   4        False"
            ]
          },
          "metadata": {},
          "execution_count": 51
        }
      ]
    },
    {
      "cell_type": "code",
      "metadata": {
        "id": "GE4vmJyBBvfQ"
      },
      "source": [
        "# 제출용 파일 생성\n",
        "# submission.to_csv('submission.csv', index=False)"
      ],
      "execution_count": 52,
      "outputs": []
    },
    {
      "cell_type": "code",
      "metadata": {
        "id": "Tpum9C0QBwz0"
      },
      "source": [
        "# !kaggle competitions submit -c prediction-of-h1n1-vaccination -f submission.csv -m \"Gyeong ho Ahn, Fifth Submission(using Random Forest) using RandomizedSearchCV & threshold\""
      ],
      "execution_count": null,
      "outputs": []
    },
    {
      "cell_type": "markdown",
      "metadata": {
        "id": "heb6AyjJ-HI8"
      },
      "source": [
        "## 🔥 도전과제"
      ]
    },
    {
      "cell_type": "markdown",
      "metadata": {
        "id": "RIWe4bj5-HI8"
      },
      "source": [
        "\n",
        "### 2) [`GridSearchCV`](https://scikit-learn.org/stable/modules/generated/sklearn.model_selection.GridSearchCV.html) 를 사용하여 하이퍼파라미터 튜닝을 진행합니다.\n",
        "- 모델 성능을 높이기 위해 가능한 시도를 다 해보세요.\n",
        "- 모델 성능에 가장 큰 영향을 준 하이퍼파라미터에 대해서 분석하고 설명해 보세요.\n",
        "\n"
      ]
    },
    {
      "cell_type": "code",
      "metadata": {
        "id": "ZI755tKr-HI9",
        "colab": {
          "base_uri": "https://localhost:8080/"
        },
        "outputId": "cb38525b-4f1b-4283-843e-945ff54519fd"
      },
      "source": [
        "from sklearn.model_selection import GridSearchCV\n",
        "\n",
        "pipe2 = make_pipeline(\n",
        "    OrdinalEncoder(), \n",
        "    SimpleImputer(), \n",
        "    RandomForestClassifier(random_state=2)\n",
        ")\n",
        "\n",
        "params = {\n",
        "    'randomforestclassifier__max_depth': [5, 10, 15, 20, None],\n",
        "    'randomforestclassifier__n_estimators': [50, 100, 150, 200, 250],\n",
        "    'randomforestclassifier__max_features': ['auto', 'sqrt', 'log2']\n",
        "}\n",
        "\n",
        "clf2 = GridSearchCV(\n",
        "    pipe, \n",
        "    param_grid=params, \n",
        "    cv=3, \n",
        "    scoring='roc_auc',  \n",
        "    verbose=1,\n",
        "    n_jobs=-1\n",
        ")\n",
        "\n",
        "clf2.fit(X_train, y_train);"
      ],
      "execution_count": 29,
      "outputs": [
        {
          "output_type": "stream",
          "name": "stdout",
          "text": [
            "Fitting 3 folds for each of 75 candidates, totalling 225 fits\n"
          ]
        },
        {
          "output_type": "stream",
          "name": "stderr",
          "text": [
            "[Parallel(n_jobs=-1)]: Using backend LokyBackend with 2 concurrent workers.\n",
            "[Parallel(n_jobs=-1)]: Done  46 tasks      | elapsed:  1.4min\n",
            "/usr/local/lib/python3.7/dist-packages/joblib/externals/loky/process_executor.py:691: UserWarning: A worker stopped while some jobs were given to the executor. This can be caused by a too short worker timeout or by a memory leak.\n",
            "  \"timeout or by a memory leak.\", UserWarning\n",
            "[Parallel(n_jobs=-1)]: Done 196 tasks      | elapsed: 11.3min\n",
            "[Parallel(n_jobs=-1)]: Done 225 out of 225 | elapsed: 13.7min finished\n"
          ]
        }
      ]
    },
    {
      "cell_type": "code",
      "metadata": {
        "id": "4URsYBXwvyeM",
        "colab": {
          "base_uri": "https://localhost:8080/"
        },
        "outputId": "7163a5a2-6c58-4b76-e8b9-8a5e6dc05e32"
      },
      "source": [
        "print('최적 하이퍼파라미터: ', clf2.best_params_)\n",
        "print('F1: ', clf2.best_score_)"
      ],
      "execution_count": 30,
      "outputs": [
        {
          "output_type": "stream",
          "name": "stdout",
          "text": [
            "최적 하이퍼파라미터:  {'randomforestclassifier__max_depth': 10, 'randomforestclassifier__max_features': 'auto', 'randomforestclassifier__n_estimators': 250}\n",
            "F1:  0.8429052039628533\n"
          ]
        }
      ]
    },
    {
      "cell_type": "code",
      "metadata": {
        "id": "Q15d_u-ov3gR"
      },
      "source": [
        "pipe2 = clf2.best_estimator_"
      ],
      "execution_count": 31,
      "outputs": []
    },
    {
      "cell_type": "code",
      "metadata": {
        "id": "zGcqmYdNvzKK"
      },
      "source": [
        "# 테스트 셋 예측 확률 얻기\n",
        "y_pred_proba = pipe2.predict_proba(X_train)[:, 1] # 타겟이 1(True)일 확률 가져오기"
      ],
      "execution_count": 32,
      "outputs": []
    },
    {
      "cell_type": "code",
      "metadata": {
        "id": "o-dF4hdxwEEz",
        "colab": {
          "base_uri": "https://localhost:8080/"
        },
        "outputId": "75b59d27-7567-496a-8377-d9c9fe141207"
      },
      "source": [
        "# ROC curve 확인하기\n",
        "# roc_curve(타겟값, prob of 1)\n",
        "fpr, tpr, thresholds = roc_curve(y_train, y_pred_proba)\n",
        "\n",
        "# threshold 최대값의 인덱스, np.argmax()\n",
        "optimal_idx = np.argmax(tpr - fpr) # 재현율은 최대로, 위양성률은 최소로 하는 데이터의 인덱스 값 찾기\n",
        "optimal_threshold = thresholds[optimal_idx] # 해당 값의 임계값 가져오기\n",
        "\n",
        "print('idx:', optimal_idx, ', threshold:', optimal_threshold)"
      ],
      "execution_count": 33,
      "outputs": [
        {
          "output_type": "stream",
          "name": "stdout",
          "text": [
            "idx: 5286 , threshold: 0.2643924002598367\n"
          ]
        }
      ]
    },
    {
      "cell_type": "code",
      "metadata": {
        "id": "JbJ_jx2LwI3x"
      },
      "source": [
        "# 최적 임계값 적용\n",
        "y_test_pred_proba = pipe.predict_proba(X_test)[:, 1] # 타겟이 1(True)일 확률 가져오기\n",
        "y_test_pred = y_test_pred_proba > optimal_threshold"
      ],
      "execution_count": 34,
      "outputs": []
    },
    {
      "cell_type": "code",
      "metadata": {
        "id": "1Gc08nWEwLSb",
        "colab": {
          "base_uri": "https://localhost:8080/",
          "height": 204
        },
        "outputId": "17ac07b8-8405-4395-cbfb-8ed0e984e806"
      },
      "source": [
        "# 최종 결과 담은 데이터프레임 생성\n",
        "d = {'Id':X_test.index, 'vacc_h1n1_f': y_test_pred}\n",
        "submission = pd.DataFrame(data = d)\n",
        "submission.head()"
      ],
      "execution_count": 35,
      "outputs": [
        {
          "output_type": "execute_result",
          "data": {
            "text/html": [
              "<div>\n",
              "<style scoped>\n",
              "    .dataframe tbody tr th:only-of-type {\n",
              "        vertical-align: middle;\n",
              "    }\n",
              "\n",
              "    .dataframe tbody tr th {\n",
              "        vertical-align: top;\n",
              "    }\n",
              "\n",
              "    .dataframe thead th {\n",
              "        text-align: right;\n",
              "    }\n",
              "</style>\n",
              "<table border=\"1\" class=\"dataframe\">\n",
              "  <thead>\n",
              "    <tr style=\"text-align: right;\">\n",
              "      <th></th>\n",
              "      <th>Id</th>\n",
              "      <th>vacc_h1n1_f</th>\n",
              "    </tr>\n",
              "  </thead>\n",
              "  <tbody>\n",
              "    <tr>\n",
              "      <th>0</th>\n",
              "      <td>0</td>\n",
              "      <td>False</td>\n",
              "    </tr>\n",
              "    <tr>\n",
              "      <th>1</th>\n",
              "      <td>1</td>\n",
              "      <td>False</td>\n",
              "    </tr>\n",
              "    <tr>\n",
              "      <th>2</th>\n",
              "      <td>2</td>\n",
              "      <td>False</td>\n",
              "    </tr>\n",
              "    <tr>\n",
              "      <th>3</th>\n",
              "      <td>3</td>\n",
              "      <td>False</td>\n",
              "    </tr>\n",
              "    <tr>\n",
              "      <th>4</th>\n",
              "      <td>4</td>\n",
              "      <td>False</td>\n",
              "    </tr>\n",
              "  </tbody>\n",
              "</table>\n",
              "</div>"
            ],
            "text/plain": [
              "   Id  vacc_h1n1_f\n",
              "0   0        False\n",
              "1   1        False\n",
              "2   2        False\n",
              "3   3        False\n",
              "4   4        False"
            ]
          },
          "metadata": {},
          "execution_count": 35
        }
      ]
    },
    {
      "cell_type": "code",
      "metadata": {
        "id": "50xdwCJhwNNu"
      },
      "source": [
        "# 제출용 파일 생성\n",
        "# submission.to_csv('submission.csv', index=False)"
      ],
      "execution_count": 36,
      "outputs": []
    },
    {
      "cell_type": "code",
      "metadata": {
        "id": "CcIBiJiPwNn8",
        "outputId": "21297d73-79e8-44cc-be68-e8d95993e2de",
        "colab": {
          "base_uri": "https://localhost:8080/"
        }
      },
      "source": [
        "# !kaggle competitions submit -c prediction-of-h1n1-vaccination -f submission.csv -m \"Gyeong ho Ahn, Fifth Submission(using Random Forest) using GridSearchCV & threshold\""
      ],
      "execution_count": 37,
      "outputs": [
        {
          "output_type": "stream",
          "name": "stdout",
          "text": [
            "Warning: Looks like you're using an outdated API Version, please consider updating (server 1.5.12 / client 1.5.4)\n",
            "100% 310k/310k [00:00<00:00, 1.47MB/s]\n",
            "Successfully submitted to Prediction of H1N1 vaccination"
          ]
        }
      ]
    }
  ]
}