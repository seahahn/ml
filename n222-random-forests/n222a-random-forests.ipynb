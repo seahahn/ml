{
  "nbformat": 4,
  "nbformat_minor": 0,
  "metadata": {
    "kernelspec": {
      "display_name": "Python 3",
      "language": "python",
      "name": "python3"
    },
    "language_info": {
      "codemirror_mode": {
        "name": "ipython",
        "version": 3
      },
      "file_extension": ".py",
      "mimetype": "text/x-python",
      "name": "python",
      "nbconvert_exporter": "python",
      "pygments_lexer": "ipython3",
      "version": "3.7.7"
    },
    "colab": {
      "name": "n222a-random-forests.ipynb",
      "provenance": []
    },
    "widgets": {
      "application/vnd.jupyter.widget-state+json": {
        "1e27e890f2d747e7a59459131703eeae": {
          "model_module": "@jupyter-widgets/controls",
          "model_name": "VBoxModel",
          "model_module_version": "1.5.0",
          "state": {
            "_view_name": "VBoxView",
            "_dom_classes": [
              "widget-interact"
            ],
            "_model_name": "VBoxModel",
            "_view_module": "@jupyter-widgets/controls",
            "_model_module_version": "1.5.0",
            "_view_count": null,
            "_view_module_version": "1.5.0",
            "box_style": "",
            "layout": "IPY_MODEL_5f0d369c3e3b429899a0f69f31ea0611",
            "_model_module": "@jupyter-widgets/controls",
            "children": [
              "IPY_MODEL_16e633abb2ff4f2d8b0ac0b7f70b9ef3",
              "IPY_MODEL_9ae119f5d91a46ef91fb178e55d50ee5",
              "IPY_MODEL_a620c297404144bbb8c47ec0524e27fe",
              "IPY_MODEL_eccf0df286e04772be254fbc85439833",
              "IPY_MODEL_c109d748909648daa88298b17bb66648"
            ]
          }
        },
        "5f0d369c3e3b429899a0f69f31ea0611": {
          "model_module": "@jupyter-widgets/base",
          "model_name": "LayoutModel",
          "model_module_version": "1.2.0",
          "state": {
            "_view_name": "LayoutView",
            "grid_template_rows": null,
            "right": null,
            "justify_content": null,
            "_view_module": "@jupyter-widgets/base",
            "overflow": null,
            "_model_module_version": "1.2.0",
            "_view_count": null,
            "flex_flow": null,
            "width": null,
            "min_width": null,
            "border": null,
            "align_items": null,
            "bottom": null,
            "_model_module": "@jupyter-widgets/base",
            "top": null,
            "grid_column": null,
            "overflow_y": null,
            "overflow_x": null,
            "grid_auto_flow": null,
            "grid_area": null,
            "grid_template_columns": null,
            "flex": null,
            "_model_name": "LayoutModel",
            "justify_items": null,
            "grid_row": null,
            "max_height": null,
            "align_content": null,
            "visibility": null,
            "align_self": null,
            "height": null,
            "min_height": null,
            "padding": null,
            "grid_auto_rows": null,
            "grid_gap": null,
            "max_width": null,
            "order": null,
            "_view_module_version": "1.2.0",
            "grid_template_areas": null,
            "object_position": null,
            "object_fit": null,
            "grid_auto_columns": null,
            "margin": null,
            "display": null,
            "left": null
          }
        },
        "16e633abb2ff4f2d8b0ac0b7f70b9ef3": {
          "model_module": "@jupyter-widgets/controls",
          "model_name": "IntSliderModel",
          "model_module_version": "1.5.0",
          "state": {
            "_view_name": "IntSliderView",
            "style": "IPY_MODEL_ab64726769f8407c9a2e13e2bf5fbb04",
            "_dom_classes": [],
            "description": "max_depth",
            "step": 1,
            "_model_name": "IntSliderModel",
            "orientation": "horizontal",
            "max": 100,
            "_view_module": "@jupyter-widgets/controls",
            "_model_module_version": "1.5.0",
            "value": 1,
            "_view_count": null,
            "disabled": false,
            "_view_module_version": "1.5.0",
            "min": 1,
            "continuous_update": true,
            "readout_format": "d",
            "description_tooltip": null,
            "readout": true,
            "_model_module": "@jupyter-widgets/controls",
            "layout": "IPY_MODEL_e0cdb73c90ed4a1dbde4cad77fb8ee0a"
          }
        },
        "9ae119f5d91a46ef91fb178e55d50ee5": {
          "model_module": "@jupyter-widgets/controls",
          "model_name": "IntSliderModel",
          "model_module_version": "1.5.0",
          "state": {
            "_view_name": "IntSliderView",
            "style": "IPY_MODEL_859ba814a7bf4b97b7bcb0c0e8f8f507",
            "_dom_classes": [],
            "description": "min_samples_split",
            "step": 10,
            "_model_name": "IntSliderModel",
            "orientation": "horizontal",
            "max": 100,
            "_view_module": "@jupyter-widgets/controls",
            "_model_module_version": "1.5.0",
            "value": 2,
            "_view_count": null,
            "disabled": false,
            "_view_module_version": "1.5.0",
            "min": 2,
            "continuous_update": true,
            "readout_format": "d",
            "description_tooltip": null,
            "readout": true,
            "_model_module": "@jupyter-widgets/controls",
            "layout": "IPY_MODEL_f4687930108c4ce3b4ae1dd4a54342b1"
          }
        },
        "a620c297404144bbb8c47ec0524e27fe": {
          "model_module": "@jupyter-widgets/controls",
          "model_name": "IntSliderModel",
          "model_module_version": "1.5.0",
          "state": {
            "_view_name": "IntSliderView",
            "style": "IPY_MODEL_fa1c4f69a6444b3e9427f05011cbbae5",
            "_dom_classes": [],
            "description": "min_samples_leaf",
            "step": 10,
            "_model_name": "IntSliderModel",
            "orientation": "horizontal",
            "max": 100,
            "_view_module": "@jupyter-widgets/controls",
            "_model_module_version": "1.5.0",
            "value": 1,
            "_view_count": null,
            "disabled": false,
            "_view_module_version": "1.5.0",
            "min": 1,
            "continuous_update": true,
            "readout_format": "d",
            "description_tooltip": null,
            "readout": true,
            "_model_module": "@jupyter-widgets/controls",
            "layout": "IPY_MODEL_d97c63b3fb474d61a964176b1ab9278e"
          }
        },
        "eccf0df286e04772be254fbc85439833": {
          "model_module": "@jupyter-widgets/controls",
          "model_name": "IntSliderModel",
          "model_module_version": "1.5.0",
          "state": {
            "_view_name": "IntSliderView",
            "style": "IPY_MODEL_336e8f18d50542e987ea34dfda37c978",
            "_dom_classes": [],
            "description": "n_estimators",
            "step": 10,
            "_model_name": "IntSliderModel",
            "orientation": "horizontal",
            "max": 200,
            "_view_module": "@jupyter-widgets/controls",
            "_model_module_version": "1.5.0",
            "value": 10,
            "_view_count": null,
            "disabled": false,
            "_view_module_version": "1.5.0",
            "min": 10,
            "continuous_update": true,
            "readout_format": "d",
            "description_tooltip": null,
            "readout": true,
            "_model_module": "@jupyter-widgets/controls",
            "layout": "IPY_MODEL_c50471b07ca94026b51ed8bac0a3abe2"
          }
        },
        "c109d748909648daa88298b17bb66648": {
          "model_module": "@jupyter-widgets/output",
          "model_name": "OutputModel",
          "model_module_version": "1.0.0",
          "state": {
            "_view_name": "OutputView",
            "msg_id": "",
            "_dom_classes": [],
            "_model_name": "OutputModel",
            "outputs": [
              {
                "output_type": "stream",
                "name": "stderr",
                "text": [
                  "/usr/local/lib/python3.7/dist-packages/sklearn/ensemble/_forest.py:523: UserWarning: Some inputs do not have OOB scores. This probably means too few trees were used to compute any reliable oob estimates.\n",
                  "  warn(\"Some inputs do not have OOB scores. \"\n",
                  "/usr/local/lib/python3.7/dist-packages/sklearn/ensemble/_forest.py:528: RuntimeWarning: invalid value encountered in true_divide\n",
                  "  predictions[k].sum(axis=1)[:, np.newaxis])\n"
                ]
              },
              {
                "output_type": "display_data",
                "data": {
                  "image/png": "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\n",
                  "text/plain": "<Figure size 432x288 with 1 Axes>"
                },
                "metadata": {
                  "needs_background": "light"
                }
              }
            ],
            "_view_module": "@jupyter-widgets/output",
            "_model_module_version": "1.0.0",
            "_view_count": null,
            "_view_module_version": "1.0.0",
            "layout": "IPY_MODEL_d2e8736d0c0c4849966d2f5f3ae88142",
            "_model_module": "@jupyter-widgets/output"
          }
        },
        "ab64726769f8407c9a2e13e2bf5fbb04": {
          "model_module": "@jupyter-widgets/controls",
          "model_name": "SliderStyleModel",
          "model_module_version": "1.5.0",
          "state": {
            "_view_name": "StyleView",
            "handle_color": null,
            "_model_name": "SliderStyleModel",
            "description_width": "",
            "_view_module": "@jupyter-widgets/base",
            "_model_module_version": "1.5.0",
            "_view_count": null,
            "_view_module_version": "1.2.0",
            "_model_module": "@jupyter-widgets/controls"
          }
        },
        "e0cdb73c90ed4a1dbde4cad77fb8ee0a": {
          "model_module": "@jupyter-widgets/base",
          "model_name": "LayoutModel",
          "model_module_version": "1.2.0",
          "state": {
            "_view_name": "LayoutView",
            "grid_template_rows": null,
            "right": null,
            "justify_content": null,
            "_view_module": "@jupyter-widgets/base",
            "overflow": null,
            "_model_module_version": "1.2.0",
            "_view_count": null,
            "flex_flow": null,
            "width": null,
            "min_width": null,
            "border": null,
            "align_items": null,
            "bottom": null,
            "_model_module": "@jupyter-widgets/base",
            "top": null,
            "grid_column": null,
            "overflow_y": null,
            "overflow_x": null,
            "grid_auto_flow": null,
            "grid_area": null,
            "grid_template_columns": null,
            "flex": null,
            "_model_name": "LayoutModel",
            "justify_items": null,
            "grid_row": null,
            "max_height": null,
            "align_content": null,
            "visibility": null,
            "align_self": null,
            "height": null,
            "min_height": null,
            "padding": null,
            "grid_auto_rows": null,
            "grid_gap": null,
            "max_width": null,
            "order": null,
            "_view_module_version": "1.2.0",
            "grid_template_areas": null,
            "object_position": null,
            "object_fit": null,
            "grid_auto_columns": null,
            "margin": null,
            "display": null,
            "left": null
          }
        },
        "859ba814a7bf4b97b7bcb0c0e8f8f507": {
          "model_module": "@jupyter-widgets/controls",
          "model_name": "SliderStyleModel",
          "model_module_version": "1.5.0",
          "state": {
            "_view_name": "StyleView",
            "handle_color": null,
            "_model_name": "SliderStyleModel",
            "description_width": "",
            "_view_module": "@jupyter-widgets/base",
            "_model_module_version": "1.5.0",
            "_view_count": null,
            "_view_module_version": "1.2.0",
            "_model_module": "@jupyter-widgets/controls"
          }
        },
        "f4687930108c4ce3b4ae1dd4a54342b1": {
          "model_module": "@jupyter-widgets/base",
          "model_name": "LayoutModel",
          "model_module_version": "1.2.0",
          "state": {
            "_view_name": "LayoutView",
            "grid_template_rows": null,
            "right": null,
            "justify_content": null,
            "_view_module": "@jupyter-widgets/base",
            "overflow": null,
            "_model_module_version": "1.2.0",
            "_view_count": null,
            "flex_flow": null,
            "width": null,
            "min_width": null,
            "border": null,
            "align_items": null,
            "bottom": null,
            "_model_module": "@jupyter-widgets/base",
            "top": null,
            "grid_column": null,
            "overflow_y": null,
            "overflow_x": null,
            "grid_auto_flow": null,
            "grid_area": null,
            "grid_template_columns": null,
            "flex": null,
            "_model_name": "LayoutModel",
            "justify_items": null,
            "grid_row": null,
            "max_height": null,
            "align_content": null,
            "visibility": null,
            "align_self": null,
            "height": null,
            "min_height": null,
            "padding": null,
            "grid_auto_rows": null,
            "grid_gap": null,
            "max_width": null,
            "order": null,
            "_view_module_version": "1.2.0",
            "grid_template_areas": null,
            "object_position": null,
            "object_fit": null,
            "grid_auto_columns": null,
            "margin": null,
            "display": null,
            "left": null
          }
        },
        "fa1c4f69a6444b3e9427f05011cbbae5": {
          "model_module": "@jupyter-widgets/controls",
          "model_name": "SliderStyleModel",
          "model_module_version": "1.5.0",
          "state": {
            "_view_name": "StyleView",
            "handle_color": null,
            "_model_name": "SliderStyleModel",
            "description_width": "",
            "_view_module": "@jupyter-widgets/base",
            "_model_module_version": "1.5.0",
            "_view_count": null,
            "_view_module_version": "1.2.0",
            "_model_module": "@jupyter-widgets/controls"
          }
        },
        "d97c63b3fb474d61a964176b1ab9278e": {
          "model_module": "@jupyter-widgets/base",
          "model_name": "LayoutModel",
          "model_module_version": "1.2.0",
          "state": {
            "_view_name": "LayoutView",
            "grid_template_rows": null,
            "right": null,
            "justify_content": null,
            "_view_module": "@jupyter-widgets/base",
            "overflow": null,
            "_model_module_version": "1.2.0",
            "_view_count": null,
            "flex_flow": null,
            "width": null,
            "min_width": null,
            "border": null,
            "align_items": null,
            "bottom": null,
            "_model_module": "@jupyter-widgets/base",
            "top": null,
            "grid_column": null,
            "overflow_y": null,
            "overflow_x": null,
            "grid_auto_flow": null,
            "grid_area": null,
            "grid_template_columns": null,
            "flex": null,
            "_model_name": "LayoutModel",
            "justify_items": null,
            "grid_row": null,
            "max_height": null,
            "align_content": null,
            "visibility": null,
            "align_self": null,
            "height": null,
            "min_height": null,
            "padding": null,
            "grid_auto_rows": null,
            "grid_gap": null,
            "max_width": null,
            "order": null,
            "_view_module_version": "1.2.0",
            "grid_template_areas": null,
            "object_position": null,
            "object_fit": null,
            "grid_auto_columns": null,
            "margin": null,
            "display": null,
            "left": null
          }
        },
        "336e8f18d50542e987ea34dfda37c978": {
          "model_module": "@jupyter-widgets/controls",
          "model_name": "SliderStyleModel",
          "model_module_version": "1.5.0",
          "state": {
            "_view_name": "StyleView",
            "handle_color": null,
            "_model_name": "SliderStyleModel",
            "description_width": "",
            "_view_module": "@jupyter-widgets/base",
            "_model_module_version": "1.5.0",
            "_view_count": null,
            "_view_module_version": "1.2.0",
            "_model_module": "@jupyter-widgets/controls"
          }
        },
        "c50471b07ca94026b51ed8bac0a3abe2": {
          "model_module": "@jupyter-widgets/base",
          "model_name": "LayoutModel",
          "model_module_version": "1.2.0",
          "state": {
            "_view_name": "LayoutView",
            "grid_template_rows": null,
            "right": null,
            "justify_content": null,
            "_view_module": "@jupyter-widgets/base",
            "overflow": null,
            "_model_module_version": "1.2.0",
            "_view_count": null,
            "flex_flow": null,
            "width": null,
            "min_width": null,
            "border": null,
            "align_items": null,
            "bottom": null,
            "_model_module": "@jupyter-widgets/base",
            "top": null,
            "grid_column": null,
            "overflow_y": null,
            "overflow_x": null,
            "grid_auto_flow": null,
            "grid_area": null,
            "grid_template_columns": null,
            "flex": null,
            "_model_name": "LayoutModel",
            "justify_items": null,
            "grid_row": null,
            "max_height": null,
            "align_content": null,
            "visibility": null,
            "align_self": null,
            "height": null,
            "min_height": null,
            "padding": null,
            "grid_auto_rows": null,
            "grid_gap": null,
            "max_width": null,
            "order": null,
            "_view_module_version": "1.2.0",
            "grid_template_areas": null,
            "object_position": null,
            "object_fit": null,
            "grid_auto_columns": null,
            "margin": null,
            "display": null,
            "left": null
          }
        },
        "d2e8736d0c0c4849966d2f5f3ae88142": {
          "model_module": "@jupyter-widgets/base",
          "model_name": "LayoutModel",
          "model_module_version": "1.2.0",
          "state": {
            "_view_name": "LayoutView",
            "grid_template_rows": null,
            "right": null,
            "justify_content": null,
            "_view_module": "@jupyter-widgets/base",
            "overflow": null,
            "_model_module_version": "1.2.0",
            "_view_count": null,
            "flex_flow": null,
            "width": null,
            "min_width": null,
            "border": null,
            "align_items": null,
            "bottom": null,
            "_model_module": "@jupyter-widgets/base",
            "top": null,
            "grid_column": null,
            "overflow_y": null,
            "overflow_x": null,
            "grid_auto_flow": null,
            "grid_area": null,
            "grid_template_columns": null,
            "flex": null,
            "_model_name": "LayoutModel",
            "justify_items": null,
            "grid_row": null,
            "max_height": null,
            "align_content": null,
            "visibility": null,
            "align_self": null,
            "height": null,
            "min_height": null,
            "padding": null,
            "grid_auto_rows": null,
            "grid_gap": null,
            "max_width": null,
            "order": null,
            "_view_module_version": "1.2.0",
            "grid_template_areas": null,
            "object_position": null,
            "object_fit": null,
            "grid_auto_columns": null,
            "margin": null,
            "display": null,
            "left": null
          }
        }
      }
    }
  },
  "cells": [
    {
      "cell_type": "markdown",
      "metadata": {
        "id": "VJUQLZXQdmmw"
      },
      "source": [
        "<img align=\"right\" src=\"https://ds-cs-images.s3.ap-northeast-2.amazonaws.com/Codestates_Fulllogo_Color.png\" width=100>\n",
        "\n",
        "## *AIB / SECTION 2 / SPRINT 2 / NOTE 2*\n",
        "\n",
        "# 📝 Assignment\n",
        "---"
      ]
    },
    {
      "cell_type": "markdown",
      "metadata": {
        "id": "7IXUfiQ2UKj6"
      },
      "source": [
        "# 랜덤포레스트(Random Forests)\n",
        "\n",
        "### 1) 캐글 대회를 이어서 진행합니다. EDA, 데이터 전처리 부분을 업데이트 하세요.\n",
        "- EDA는 항상 완벽할 수 없지요 한 주간 계속 같은 데이터로 과제를 진행하므로 부족한 부분을 추가하거나 논하세요.\n",
        "- (지금은 feature engineering에 너무 시간을 들이지 마세요!)\n",
        "- Ordinal Encoding을 적용해 보세요.\n",
        "- **(객관식) 다음 특성들 중에 순서를 고려한 Ordinal Encoding이 필요해 보이는 특성을 고르세요.**\n",
        "    1. opinion_h1n1_vacc_effective\n",
        "    2. state\n",
        "    3. marital\n",
        "    4. employment_occupation\n"
      ]
    },
    {
      "cell_type": "code",
      "metadata": {
        "id": "8GgkIMjUjmn2"
      },
      "source": [
        "# !mkdir -p ~/.kaggle\n",
        "# !cp kaggle.json ~/.kaggle/\n",
        "# !chmod 600 /root/.kaggle/kaggle.json\n",
        "# !pip install kaggle"
      ],
      "execution_count": 1,
      "outputs": []
    },
    {
      "cell_type": "code",
      "metadata": {
        "id": "AlIymJ9FkQFI"
      },
      "source": [
        "# ! pip install category_encoders\n",
        "# ! pip install https://github.com/pandas-profiling/pandas-profiling/archive/master.zip"
      ],
      "execution_count": 2,
      "outputs": []
    },
    {
      "cell_type": "code",
      "metadata": {
        "id": "n18USoHCdrWC",
        "outputId": "67598f91-62e3-4f2d-dfd9-711dd88e08a5",
        "colab": {
          "base_uri": "https://localhost:8080/"
        }
      },
      "source": [
        "import pandas as pd\n",
        "from sklearn.model_selection import train_test_split\n",
        "# from category_encoders import OneHotEncoder\n",
        "from category_encoders import OrdinalEncoder\n",
        "from sklearn.ensemble import RandomForestClassifier\n",
        "from sklearn.impute import SimpleImputer \n",
        "from sklearn.pipeline import make_pipeline\n",
        "from ipywidgets import interact\n",
        "from sklearn.ensemble import RandomForestRegressor\n",
        "from sklearn.tree import DecisionTreeRegressor\n",
        "# from sklearn.linear_model import LogisticRegression\n",
        "# from sklearn.preprocessing import StandardScaler\n",
        "%matplotlib inline\n",
        "import matplotlib.pyplot as plt\n",
        "from ipywidgets import interact\n",
        "# from pandas_profiling import ProfileReport\n",
        "import numpy as np\n",
        "from sklearn.metrics import f1_score"
      ],
      "execution_count": 3,
      "outputs": [
        {
          "output_type": "stream",
          "name": "stderr",
          "text": [
            "/usr/local/lib/python3.7/dist-packages/statsmodels/tools/_testing.py:19: FutureWarning: pandas.util.testing is deprecated. Use the functions in the public API at pandas.testing instead.\n",
            "  import pandas.util.testing as tm\n"
          ]
        }
      ]
    },
    {
      "cell_type": "code",
      "metadata": {
        "id": "JdMvv9GXdmm0"
      },
      "source": [
        "### EDA 시작\n",
        "target = 'vacc_h1n1_f'\n",
        "# target = 'vacc_seas_f'\n",
        "train = pd.merge(pd.read_csv('https://ds-lecture-data.s3.ap-northeast-2.amazonaws.com/vacc_flu/train.csv'), \n",
        "                 pd.read_csv('https://ds-lecture-data.s3.ap-northeast-2.amazonaws.com/vacc_flu/train_labels.csv')[target], left_index=True, right_index=True)\n",
        "test = pd.read_csv('https://ds-lecture-data.s3.ap-northeast-2.amazonaws.com/vacc_flu/test.csv')\n",
        "sample_submission = pd.read_csv('https://ds-lecture-data.s3.ap-northeast-2.amazonaws.com/vacc_flu/submission.csv')"
      ],
      "execution_count": 4,
      "outputs": []
    },
    {
      "cell_type": "code",
      "metadata": {
        "id": "LJnDjZIvjpce",
        "outputId": "ef105bd7-e4f5-4377-a1ed-ae7dceda50b6",
        "colab": {
          "base_uri": "https://localhost:8080/"
        }
      },
      "source": [
        "# 훈련 / 검증 / 테스트 셋으로 분리\n",
        "train, val = train_test_split(train, train_size=0.80, test_size=0.20, \n",
        "                              stratify=train[target], random_state=2)\n",
        "\n",
        "\n",
        "train.shape, val.shape, test.shape"
      ],
      "execution_count": 5,
      "outputs": [
        {
          "output_type": "execute_result",
          "data": {
            "text/plain": [
              "((33723, 39), (8431, 39), (28104, 38))"
            ]
          },
          "metadata": {},
          "execution_count": 5
        }
      ]
    },
    {
      "cell_type": "code",
      "metadata": {
        "id": "YrSfuEqqjxTR",
        "outputId": "86ce65c7-f97a-4cc1-fb8a-bf1b5ad0039c",
        "colab": {
          "base_uri": "https://localhost:8080/"
        }
      },
      "source": [
        "# 기준 모델 설정\n",
        "train[target].value_counts(normalize=True)\n",
        "# 기준 모델 정확도 : 0.760935"
      ],
      "execution_count": 6,
      "outputs": [
        {
          "output_type": "execute_result",
          "data": {
            "text/plain": [
              "0    0.760935\n",
              "1    0.239065\n",
              "Name: vacc_h1n1_f, dtype: float64"
            ]
          },
          "metadata": {},
          "execution_count": 6
        }
      ]
    },
    {
      "cell_type": "code",
      "metadata": {
        "id": "q-zLNg6mj3iW"
      },
      "source": [
        "def engineer(df):\n",
        "    \"\"\"특성을 엔지니어링 하는 함수입니다.\"\"\"\n",
        "    \n",
        "    # 높은 카디널리티를 가지는 특성을 제거합니다.\n",
        "#     selected_cols = df.select_dtypes(include=['number', 'object'])\n",
        "#     colnames = selected_cols.columns.tolist()\n",
        "#     labels = selected_cols.nunique()\n",
        "    \n",
        "#     selected_features = labels[labels <= 30].index.tolist()\n",
        "#     df = df[selected_features]\n",
        "    \n",
        "    # 새로운 특성을 생성합니다.\n",
        "    behaviorals = [col for col in df.columns if 'behavioral' in col] \n",
        "    df['behaviorals'] = df[behaviorals].sum(axis=1)\n",
        "    \n",
        "    \n",
        "    dels = [col for col in df.columns if ('employment' in col or 'seas' in col)]\n",
        "    df.drop(columns=dels, inplace=True)\n",
        "        \n",
        "    return df\n",
        "\n",
        "\n",
        "train = engineer(train)\n",
        "val = engineer(val)\n",
        "test = engineer(test)"
      ],
      "execution_count": 7,
      "outputs": []
    },
    {
      "cell_type": "code",
      "metadata": {
        "id": "Yxo9V2xRj5H0"
      },
      "source": [
        "features = train.drop(columns=[target]).columns\n",
        "\n",
        "X_train = train[features]\n",
        "y_train = train[target]\n",
        "X_val = val[features]\n",
        "y_val = val[target]\n",
        "X_test = test[features]\n",
        "\n",
        "### EDA 끝"
      ],
      "execution_count": 8,
      "outputs": []
    },
    {
      "cell_type": "code",
      "metadata": {
        "id": "z-JsQKXNkjGa",
        "outputId": "f8006da7-38f1-4043-d365-15620e3c79df",
        "colab": {
          "base_uri": "https://localhost:8080/"
        }
      },
      "source": [
        "### Ordinal Encoding 적용\n",
        "enc = OrdinalEncoder(handle_missing=\"return_nan\")\n",
        "X_train_ord = enc.fit_transform(X_train)\n",
        "X_val_ord = enc.transform(X_val)\n",
        "X_test_ord = enc.transform(X_test)\n",
        "\n",
        "enc.category_mapping\n",
        "\n",
        "# handle_missing=\"value\"인 경우 opinion_h1n1_vacc_effective와 opinion_h1n1_sick_from_vacc 컬럼에서 NaN 값이 -2가 아닌 순서형 값으로 변환됨\n",
        "# 이를 미리 방지하기 위해서 handle_missing=\"return_nan\"으로 변경하여 NaN 값을 -2로 변환하도록 함"
      ],
      "execution_count": 9,
      "outputs": [
        {
          "output_type": "execute_result",
          "data": {
            "text/plain": [
              "[{'col': 'opinion_h1n1_vacc_effective',\n",
              "  'data_type': dtype('O'),\n",
              "  'mapping': Somewhat Effective      1\n",
              "  Not Very Effective      2\n",
              "  Very Effective          3\n",
              "  Not At All Effective    4\n",
              "  Dont Know               5\n",
              "  NaN                    -2\n",
              "  Refused                 7\n",
              "  dtype: int64},\n",
              " {'col': 'opinion_h1n1_risk',\n",
              "  'data_type': dtype('O'),\n",
              "  'mapping': Somewhat Low     1\n",
              "  Somewhat High    2\n",
              "  Very Low         3\n",
              "  NaN             -2\n",
              "  Very High        5\n",
              "  Dont Know        6\n",
              "  Refused          7\n",
              "  dtype: int64},\n",
              " {'col': 'opinion_h1n1_sick_from_vacc',\n",
              "  'data_type': dtype('O'),\n",
              "  'mapping': Not At All Worried    1\n",
              "  Not Very Worried      2\n",
              "  Dont Know             3\n",
              "  Somewhat Worried      4\n",
              "  Very Worried          5\n",
              "  NaN                  -2\n",
              "  Refused               7\n",
              "  dtype: int64},\n",
              " {'col': 'agegrp', 'data_type': dtype('O'), 'mapping': 18 - 34 Years         1\n",
              "  35 - 44 Years         2\n",
              "  65+ Years             3\n",
              "  55 - 64 Years         4\n",
              "  45 - 54 Years         5\n",
              "  6 Months - 9 Years    6\n",
              "  10 - 17 Years         7\n",
              "  NaN                  -2\n",
              "  dtype: int64},\n",
              " {'col': 'census_msa',\n",
              "  'data_type': dtype('O'),\n",
              "  'mapping': MSA, Not Principle City    1\n",
              "  Non-MSA                    2\n",
              "  MSA, Principle City        3\n",
              "  NaN                       -2\n",
              "  dtype: int64},\n",
              " {'col': 'state', 'data_type': dtype('O'), 'mapping': NEW JERSEY              1\n",
              "  IOWA                    2\n",
              "  OREGON                  3\n",
              "  TEXAS                   4\n",
              "  GEORGIA                 5\n",
              "  CONNECTICUT             6\n",
              "  SOUTH CAROLINA          7\n",
              "  UTAH                    8\n",
              "  NEVADA                  9\n",
              "  PENNSYLVANIA           10\n",
              "  ALABAMA                11\n",
              "  WEST VIRGINIA          12\n",
              "  KENTUCKY               13\n",
              "  MARYLAND               14\n",
              "  DISTRICTOF COLUMBIA    15\n",
              "  MINNESOTA              16\n",
              "  LOUISIANA              17\n",
              "  MISSISSIPPI            18\n",
              "  ARKANSAS               19\n",
              "  DELAWARE               20\n",
              "  MONTANA                21\n",
              "  ILLINOIS               22\n",
              "  RHODE ISLAND           23\n",
              "  VIRGINIA               24\n",
              "  COLORADO               25\n",
              "  SOUTH DAKOTA           26\n",
              "  MICHIGAN               27\n",
              "  VERMONT                28\n",
              "  KANSAS                 29\n",
              "  INDIANA                30\n",
              "  ARIZONA                31\n",
              "  WYOMING                32\n",
              "  NEW YORK               33\n",
              "  NORTH CAROLINA         34\n",
              "  CALIFORNIA             35\n",
              "  MISSOURI               36\n",
              "  NEW MEXICO             37\n",
              "  OHIO                   38\n",
              "  TENNESSEE              39\n",
              "  FLORIDA                40\n",
              "  NEW HAMPSHIRE          41\n",
              "  IDAHO                  42\n",
              "  MAINE                  43\n",
              "  ALASKA                 44\n",
              "  WISCONSIN              45\n",
              "  OKLAHOMA               46\n",
              "  MASSACHUSETTS          47\n",
              "  NORTH DAKOTA           48\n",
              "  WASHINGTON             49\n",
              "  NEBRASKA               50\n",
              "  HAWAII                 51\n",
              "  NaN                    -2\n",
              "  dtype: int64}]"
            ]
          },
          "metadata": {},
          "execution_count": 9
        }
      ]
    },
    {
      "cell_type": "markdown",
      "metadata": {
        "id": "5htVhK7Gdmm1"
      },
      "source": [
        "### 2) 랜덤포레스트 모델을 적용한 후의 결과를 캐글에 제출하세요.\n",
        "- 랜덤포레스트를 적용하고 성능이 오히려 떨어졌을 수도 있습니다! 만약 그렇다면 이유를 본인 논리로 분석해 보세요.\n",
        "- **캐글 Leaderboard의 본인 Score를 제출하세요.**"
      ]
    },
    {
      "cell_type": "code",
      "metadata": {
        "id": "AtUcib6fdmm1",
        "outputId": "b3d99a70-968a-4d66-aa41-2054d8e15fa6",
        "colab": {
          "base_uri": "https://localhost:8080/"
        }
      },
      "source": [
        "pipe_ord = make_pipeline(\n",
        "    OrdinalEncoder(handle_missing=\"return_nan\"), \n",
        "    SimpleImputer(), \n",
        "    RandomForestClassifier(random_state=10, n_jobs=-1, oob_score=True)\n",
        ")\n",
        "\n",
        "pipe_ord.fit(X_train, y_train)\n",
        "print('훈련 정확도', pipe_ord.score(X_train, y_train))\n",
        "print('검증 정확도', pipe_ord.score(X_val, y_val))\n",
        "print('f1 score', f1_score(y_val, pipe_ord.predict(X_val)))\n",
        "\n",
        "# 훈련 정확도가 0.997인데 검증 정확도는 0.824\n",
        "# 과적합으로 판단함. RandomForestClassifier의 하이퍼 파라미터를 조정하여 과적합 줄이기"
      ],
      "execution_count": 10,
      "outputs": [
        {
          "output_type": "stream",
          "name": "stdout",
          "text": [
            "훈련 정확도 0.9971532781780981\n",
            "검증 정확도 0.8245759696358677\n",
            "f1 score 0.5486725663716815\n"
          ]
        }
      ]
    },
    {
      "cell_type": "code",
      "metadata": {
        "id": "cGmEvrIbGSzD",
        "outputId": "537840c4-0e55-4603-97cf-a7283e541175",
        "colab": {
          "base_uri": "https://localhost:8080/",
          "height": 480,
          "referenced_widgets": [
            "1e27e890f2d747e7a59459131703eeae",
            "5f0d369c3e3b429899a0f69f31ea0611",
            "16e633abb2ff4f2d8b0ac0b7f70b9ef3",
            "9ae119f5d91a46ef91fb178e55d50ee5",
            "a620c297404144bbb8c47ec0524e27fe",
            "eccf0df286e04772be254fbc85439833",
            "c109d748909648daa88298b17bb66648",
            "ab64726769f8407c9a2e13e2bf5fbb04",
            "e0cdb73c90ed4a1dbde4cad77fb8ee0a",
            "859ba814a7bf4b97b7bcb0c0e8f8f507",
            "f4687930108c4ce3b4ae1dd4a54342b1",
            "fa1c4f69a6444b3e9427f05011cbbae5",
            "d97c63b3fb474d61a964176b1ab9278e",
            "336e8f18d50542e987ea34dfda37c978",
            "c50471b07ca94026b51ed8bac0a3abe2",
            "d2e8736d0c0c4849966d2f5f3ae88142"
          ]
        }
      },
      "source": [
        "def trees(max_depth=1, min_samples_split=2, min_samples_leaf=1, n_estimators=1):\n",
        "  train_score = 0\n",
        "  val_score = 0\n",
        "\n",
        "  pipe = make_pipeline(\n",
        "    OrdinalEncoder(handle_missing=\"return_nan\"), \n",
        "    SimpleImputer(), \n",
        "    RandomForestClassifier(max_depth=max_depth, \n",
        "                           min_samples_split=min_samples_split, min_samples_leaf=min_samples_leaf, \n",
        "                           n_estimators=n_estimators, random_state=10, n_jobs=-1, oob_score=True)\n",
        "  )\n",
        "\n",
        "  pipe.fit(X_train, y_train)\n",
        "  train_score = pipe.score(X_train, y_train)\n",
        "  val_score = pipe.score(X_val, y_val)\n",
        "  \n",
        "  plt.bar(0, train_score, label='train')\n",
        "  plt.bar(1, val_score, label='val')\n",
        "  plt.text(0, train_score, s=f't:{train_score}')\n",
        "  plt.text(1, val_score, s=f'v:{val_score}')\n",
        "  plt.legend(loc='lower right')\n",
        "  plt.show();\n",
        "        \n",
        "interact(trees, max_depth=(1,100,1), min_samples_split=(2,100,10), min_samples_leaf=(1,100,10),n_estimators=(10,200,10));\n",
        "\n",
        "# max_depth=13, min_samples_split=2(default), min_samples_leaf=1(default), n_estimators=120\n",
        "# 검증 정확도 : 0.8315"
      ],
      "execution_count": 11,
      "outputs": [
        {
          "output_type": "display_data",
          "data": {
            "application/vnd.jupyter.widget-view+json": {
              "model_id": "1e27e890f2d747e7a59459131703eeae",
              "version_minor": 0,
              "version_major": 2
            },
            "text/plain": [
              "interactive(children=(IntSlider(value=1, description='max_depth', min=1), IntSlider(value=2, description='min_…"
            ]
          },
          "metadata": {}
        }
      ]
    },
    {
      "cell_type": "code",
      "metadata": {
        "id": "_ZjNxiyjNrXC",
        "outputId": "e38508f8-2656-4be7-bc48-0a34ef3ecbab",
        "colab": {
          "base_uri": "https://localhost:8080/"
        }
      },
      "source": [
        "pipe_rf = make_pipeline(\n",
        "    OrdinalEncoder(handle_missing=\"return_nan\"), \n",
        "    SimpleImputer(), \n",
        "    RandomForestClassifier(max_depth=13, n_estimators=120, random_state=10, n_jobs=-1, oob_score=True)\n",
        "  )\n",
        "\n",
        "pipe_rf.fit(X_train, y_train)\n",
        "print('훈련 정확도', pipe_rf.score(X_train, y_train))\n",
        "print('검증 정확도', pipe_rf.score(X_val, y_val))\n",
        "print('f1 score', f1_score(y_val, pipe_rf.predict(X_val)))"
      ],
      "execution_count": 12,
      "outputs": [
        {
          "output_type": "stream",
          "name": "stdout",
          "text": [
            "훈련 정확도 0.8894523025828069\n",
            "검증 정확도 0.8315739532677026\n",
            "f1 score 0.5520504731861199\n"
          ]
        }
      ]
    },
    {
      "cell_type": "code",
      "metadata": {
        "id": "TBCzyvqR_ljg"
      },
      "source": [
        "X_total = pd.concat([X_train, X_val])\n",
        "y_total = pd.concat([y_train, y_val])"
      ],
      "execution_count": 13,
      "outputs": []
    },
    {
      "cell_type": "code",
      "metadata": {
        "id": "fpM9Zaz9_mxQ",
        "outputId": "08be2104-9af6-45aa-e25d-cd7cba7f76e5",
        "colab": {
          "base_uri": "https://localhost:8080/"
        }
      },
      "source": [
        "# 최종 모델 학습\n",
        "last_pipe = make_pipeline(\n",
        "    OrdinalEncoder(handle_missing=\"return_nan\"), \n",
        "    SimpleImputer(), \n",
        "    RandomForestClassifier(max_depth=13, n_estimators=120, random_state=10, n_jobs=-1, oob_score=True)\n",
        ")\n",
        "\n",
        "last_pipe.fit(X_total, y_total)\n",
        "print('최종 정확도: ', last_pipe.score(X_total, y_total))"
      ],
      "execution_count": 14,
      "outputs": [
        {
          "output_type": "stream",
          "name": "stdout",
          "text": [
            "최종 정확도:  0.8837832708639749\n"
          ]
        }
      ]
    },
    {
      "cell_type": "code",
      "metadata": {
        "id": "m6reeXoYOVS-"
      },
      "source": [
        "# 최종 모델 학습 후 테스트 셋에 대한 예측 결과\n",
        "y_test_pred = last_pipe.predict(X_test)"
      ],
      "execution_count": 15,
      "outputs": []
    },
    {
      "cell_type": "code",
      "metadata": {
        "id": "EDMVdWThOo4D",
        "outputId": "4fce66c9-55f7-4866-f2a5-42be5ec0aac0",
        "colab": {
          "base_uri": "https://localhost:8080/",
          "height": 203
        }
      },
      "source": [
        "# 최종 결과 담은 데이터프레임 생성\n",
        "d = {'Id':X_test.index, 'vacc_h1n1_f': y_test_pred}\n",
        "submission = pd.DataFrame(data = d)\n",
        "submission.head()"
      ],
      "execution_count": 16,
      "outputs": [
        {
          "output_type": "execute_result",
          "data": {
            "text/html": [
              "<div>\n",
              "<style scoped>\n",
              "    .dataframe tbody tr th:only-of-type {\n",
              "        vertical-align: middle;\n",
              "    }\n",
              "\n",
              "    .dataframe tbody tr th {\n",
              "        vertical-align: top;\n",
              "    }\n",
              "\n",
              "    .dataframe thead th {\n",
              "        text-align: right;\n",
              "    }\n",
              "</style>\n",
              "<table border=\"1\" class=\"dataframe\">\n",
              "  <thead>\n",
              "    <tr style=\"text-align: right;\">\n",
              "      <th></th>\n",
              "      <th>Id</th>\n",
              "      <th>vacc_h1n1_f</th>\n",
              "    </tr>\n",
              "  </thead>\n",
              "  <tbody>\n",
              "    <tr>\n",
              "      <th>0</th>\n",
              "      <td>0</td>\n",
              "      <td>0</td>\n",
              "    </tr>\n",
              "    <tr>\n",
              "      <th>1</th>\n",
              "      <td>1</td>\n",
              "      <td>0</td>\n",
              "    </tr>\n",
              "    <tr>\n",
              "      <th>2</th>\n",
              "      <td>2</td>\n",
              "      <td>0</td>\n",
              "    </tr>\n",
              "    <tr>\n",
              "      <th>3</th>\n",
              "      <td>3</td>\n",
              "      <td>0</td>\n",
              "    </tr>\n",
              "    <tr>\n",
              "      <th>4</th>\n",
              "      <td>4</td>\n",
              "      <td>0</td>\n",
              "    </tr>\n",
              "  </tbody>\n",
              "</table>\n",
              "</div>"
            ],
            "text/plain": [
              "   Id  vacc_h1n1_f\n",
              "0   0            0\n",
              "1   1            0\n",
              "2   2            0\n",
              "3   3            0\n",
              "4   4            0"
            ]
          },
          "metadata": {},
          "execution_count": 16
        }
      ]
    },
    {
      "cell_type": "code",
      "metadata": {
        "id": "A7tcBv8rOst2"
      },
      "source": [
        "# 제출용 파일 생성\n",
        "submission.to_csv('submission.csv', index=False)"
      ],
      "execution_count": 17,
      "outputs": []
    },
    {
      "cell_type": "code",
      "metadata": {
        "id": "MrIROt4xOt8K"
      },
      "source": [
        "# !kaggle competitions submit -c prediction-of-h1n1-vaccination -f submission.csv -m \"Gyeong ho Ahn, Second Submission(using Random Forest) - upgraded\""
      ],
      "execution_count": 18,
      "outputs": []
    },
    {
      "cell_type": "markdown",
      "metadata": {
        "id": "RRiHuBJLdmm2"
      },
      "source": [
        "## 🔥 도전과제"
      ]
    },
    {
      "cell_type": "markdown",
      "metadata": {
        "id": "3lHKY-zjdmm2"
      },
      "source": [
        "### 3) 수업에 사용하지 않은 다른 종류의 [category_encoders](http://contrib.scikit-learn.org/category_encoders/)을 적용해 보고 인코더에 대해 설명하세요\n"
      ]
    },
    {
      "cell_type": "code",
      "metadata": {
        "id": "GhAeJ0Dap1Qe"
      },
      "source": [
        "from category_encoders import CountEncoder, TargetEncoder"
      ],
      "execution_count": 19,
      "outputs": []
    },
    {
      "cell_type": "code",
      "metadata": {
        "id": "dEUO-NEfwj6Q",
        "outputId": "0f539e92-29dc-4dc9-9b41-75f430c90834",
        "colab": {
          "base_uri": "https://localhost:8080/"
        }
      },
      "source": [
        "# 훈련 데이터를 통해 인코더 비교\n",
        "# 1. CountEncoder\n",
        "pipe_count = make_pipeline(\n",
        "    CountEncoder(), \n",
        "    SimpleImputer(), \n",
        "    RandomForestClassifier(max_depth=13, n_estimators=120, random_state=10, n_jobs=-1, oob_score=True)\n",
        "  )\n",
        "\n",
        "pipe_count.fit(X_train, y_train)\n",
        "print('훈련 정확도', pipe_count.score(X_train, y_train))\n",
        "print('검증 정확도', pipe_count.score(X_val, y_val))\n",
        "print('f1 score', f1_score(y_val, pipe_count.predict(X_val)))"
      ],
      "execution_count": 20,
      "outputs": [
        {
          "output_type": "stream",
          "name": "stdout",
          "text": [
            "훈련 정확도 0.8913501171307416\n",
            "검증 정확도 0.8322856126200925\n",
            "f1 score 0.5570175438596491\n"
          ]
        }
      ]
    },
    {
      "cell_type": "code",
      "metadata": {
        "id": "50wz1tgT2JrT",
        "outputId": "f9acfefa-e76c-4fb5-e4c4-c84563495c4d",
        "colab": {
          "base_uri": "https://localhost:8080/"
        }
      },
      "source": [
        "# PolynomialEncoder만 적용 후 데이터 모양 확인해보기\n",
        "enc_count = CountEncoder()\n",
        "X_train_count = enc_count.fit_transform(X_train, y_train)\n",
        "X_train.shape, X_train_count.shape\n",
        "# 특성 수는 변함 없음"
      ],
      "execution_count": 21,
      "outputs": [
        {
          "output_type": "execute_result",
          "data": {
            "text/plain": [
              "((33723, 32), (33723, 32))"
            ]
          },
          "metadata": {},
          "execution_count": 21
        }
      ]
    },
    {
      "cell_type": "code",
      "metadata": {
        "id": "OcMTSZwo2TOv",
        "outputId": "b4a0a1e0-97af-4d78-c604-82fb4d5d3197",
        "colab": {
          "base_uri": "https://localhost:8080/",
          "height": 1000
        }
      },
      "source": [
        "X_train_count.head().T\n",
        "# 범주형 특성 각각에 대하여 범주 종류별 개수로 범주의 값을 대체함"
      ],
      "execution_count": 22,
      "outputs": [
        {
          "output_type": "execute_result",
          "data": {
            "text/html": [
              "<div>\n",
              "<style scoped>\n",
              "    .dataframe tbody tr th:only-of-type {\n",
              "        vertical-align: middle;\n",
              "    }\n",
              "\n",
              "    .dataframe tbody tr th {\n",
              "        vertical-align: top;\n",
              "    }\n",
              "\n",
              "    .dataframe thead th {\n",
              "        text-align: right;\n",
              "    }\n",
              "</style>\n",
              "<table border=\"1\" class=\"dataframe\">\n",
              "  <thead>\n",
              "    <tr style=\"text-align: right;\">\n",
              "      <th></th>\n",
              "      <th>20365</th>\n",
              "      <th>29138</th>\n",
              "      <th>36128</th>\n",
              "      <th>39793</th>\n",
              "      <th>32973</th>\n",
              "    </tr>\n",
              "  </thead>\n",
              "  <tbody>\n",
              "    <tr>\n",
              "      <th>h1n1_concern</th>\n",
              "      <td>1.0</td>\n",
              "      <td>1.0</td>\n",
              "      <td>2.0</td>\n",
              "      <td>2.0</td>\n",
              "      <td>0.0</td>\n",
              "    </tr>\n",
              "    <tr>\n",
              "      <th>h1n1_knowledge</th>\n",
              "      <td>1.0</td>\n",
              "      <td>1.0</td>\n",
              "      <td>2.0</td>\n",
              "      <td>1.0</td>\n",
              "      <td>1.0</td>\n",
              "    </tr>\n",
              "    <tr>\n",
              "      <th>behavioral_antiviral_meds</th>\n",
              "      <td>0.0</td>\n",
              "      <td>0.0</td>\n",
              "      <td>0.0</td>\n",
              "      <td>0.0</td>\n",
              "      <td>0.0</td>\n",
              "    </tr>\n",
              "    <tr>\n",
              "      <th>behavioral_avoidance</th>\n",
              "      <td>0.0</td>\n",
              "      <td>1.0</td>\n",
              "      <td>1.0</td>\n",
              "      <td>1.0</td>\n",
              "      <td>0.0</td>\n",
              "    </tr>\n",
              "    <tr>\n",
              "      <th>behavioral_face_mask</th>\n",
              "      <td>0.0</td>\n",
              "      <td>0.0</td>\n",
              "      <td>0.0</td>\n",
              "      <td>0.0</td>\n",
              "      <td>0.0</td>\n",
              "    </tr>\n",
              "    <tr>\n",
              "      <th>behavioral_wash_hands</th>\n",
              "      <td>0.0</td>\n",
              "      <td>1.0</td>\n",
              "      <td>1.0</td>\n",
              "      <td>1.0</td>\n",
              "      <td>0.0</td>\n",
              "    </tr>\n",
              "    <tr>\n",
              "      <th>behavioral_large_gatherings</th>\n",
              "      <td>0.0</td>\n",
              "      <td>1.0</td>\n",
              "      <td>1.0</td>\n",
              "      <td>0.0</td>\n",
              "      <td>0.0</td>\n",
              "    </tr>\n",
              "    <tr>\n",
              "      <th>behavioral_outside_home</th>\n",
              "      <td>0.0</td>\n",
              "      <td>1.0</td>\n",
              "      <td>1.0</td>\n",
              "      <td>0.0</td>\n",
              "      <td>0.0</td>\n",
              "    </tr>\n",
              "    <tr>\n",
              "      <th>behavioral_touch_face</th>\n",
              "      <td>0.0</td>\n",
              "      <td>1.0</td>\n",
              "      <td>0.0</td>\n",
              "      <td>1.0</td>\n",
              "      <td>0.0</td>\n",
              "    </tr>\n",
              "    <tr>\n",
              "      <th>doctor_recc_h1n1</th>\n",
              "      <td>0.0</td>\n",
              "      <td>1.0</td>\n",
              "      <td>0.0</td>\n",
              "      <td>0.0</td>\n",
              "      <td>0.0</td>\n",
              "    </tr>\n",
              "    <tr>\n",
              "      <th>chronic_med_condition</th>\n",
              "      <td>1.0</td>\n",
              "      <td>0.0</td>\n",
              "      <td>1.0</td>\n",
              "      <td>0.0</td>\n",
              "      <td>0.0</td>\n",
              "    </tr>\n",
              "    <tr>\n",
              "      <th>child_under_6_months</th>\n",
              "      <td>0.0</td>\n",
              "      <td>0.0</td>\n",
              "      <td>0.0</td>\n",
              "      <td>0.0</td>\n",
              "      <td>0.0</td>\n",
              "    </tr>\n",
              "    <tr>\n",
              "      <th>health_insurance</th>\n",
              "      <td>NaN</td>\n",
              "      <td>1.0</td>\n",
              "      <td>1.0</td>\n",
              "      <td>1.0</td>\n",
              "      <td>NaN</td>\n",
              "    </tr>\n",
              "    <tr>\n",
              "      <th>health_worker</th>\n",
              "      <td>0.0</td>\n",
              "      <td>0.0</td>\n",
              "      <td>0.0</td>\n",
              "      <td>0.0</td>\n",
              "      <td>0.0</td>\n",
              "    </tr>\n",
              "    <tr>\n",
              "      <th>opinion_h1n1_vacc_effective</th>\n",
              "      <td>11710.0</td>\n",
              "      <td>11710.0</td>\n",
              "      <td>1846.0</td>\n",
              "      <td>7251.0</td>\n",
              "      <td>908.0</td>\n",
              "    </tr>\n",
              "    <tr>\n",
              "      <th>opinion_h1n1_risk</th>\n",
              "      <td>9980.0</td>\n",
              "      <td>5366.0</td>\n",
              "      <td>8284.0</td>\n",
              "      <td>9980.0</td>\n",
              "      <td>9980.0</td>\n",
              "    </tr>\n",
              "    <tr>\n",
              "      <th>opinion_h1n1_sick_from_vacc</th>\n",
              "      <td>9023.0</td>\n",
              "      <td>9229.0</td>\n",
              "      <td>150.0</td>\n",
              "      <td>9229.0</td>\n",
              "      <td>9023.0</td>\n",
              "    </tr>\n",
              "    <tr>\n",
              "      <th>agegrp</th>\n",
              "      <td>5224.0</td>\n",
              "      <td>3992.0</td>\n",
              "      <td>6821.0</td>\n",
              "      <td>5564.0</td>\n",
              "      <td>5224.0</td>\n",
              "    </tr>\n",
              "    <tr>\n",
              "      <th>education_comp</th>\n",
              "      <td>4.0</td>\n",
              "      <td>2.0</td>\n",
              "      <td>1.0</td>\n",
              "      <td>4.0</td>\n",
              "      <td>4.0</td>\n",
              "    </tr>\n",
              "    <tr>\n",
              "      <th>raceeth4_i</th>\n",
              "      <td>3.0</td>\n",
              "      <td>3.0</td>\n",
              "      <td>3.0</td>\n",
              "      <td>3.0</td>\n",
              "      <td>3.0</td>\n",
              "    </tr>\n",
              "    <tr>\n",
              "      <th>sex_i</th>\n",
              "      <td>1.0</td>\n",
              "      <td>2.0</td>\n",
              "      <td>2.0</td>\n",
              "      <td>1.0</td>\n",
              "      <td>2.0</td>\n",
              "    </tr>\n",
              "    <tr>\n",
              "      <th>inc_pov</th>\n",
              "      <td>1.0</td>\n",
              "      <td>3.0</td>\n",
              "      <td>2.0</td>\n",
              "      <td>1.0</td>\n",
              "      <td>2.0</td>\n",
              "    </tr>\n",
              "    <tr>\n",
              "      <th>marital</th>\n",
              "      <td>2.0</td>\n",
              "      <td>2.0</td>\n",
              "      <td>2.0</td>\n",
              "      <td>1.0</td>\n",
              "      <td>1.0</td>\n",
              "    </tr>\n",
              "    <tr>\n",
              "      <th>rent_own_r</th>\n",
              "      <td>1.0</td>\n",
              "      <td>2.0</td>\n",
              "      <td>1.0</td>\n",
              "      <td>1.0</td>\n",
              "      <td>1.0</td>\n",
              "    </tr>\n",
              "    <tr>\n",
              "      <th>census_region</th>\n",
              "      <td>1.0</td>\n",
              "      <td>2.0</td>\n",
              "      <td>4.0</td>\n",
              "      <td>2.0</td>\n",
              "      <td>2.0</td>\n",
              "    </tr>\n",
              "    <tr>\n",
              "      <th>census_msa</th>\n",
              "      <td>15202.0</td>\n",
              "      <td>8870.0</td>\n",
              "      <td>15202.0</td>\n",
              "      <td>9651.0</td>\n",
              "      <td>8870.0</td>\n",
              "    </tr>\n",
              "    <tr>\n",
              "      <th>n_adult_r</th>\n",
              "      <td>4.0</td>\n",
              "      <td>2.0</td>\n",
              "      <td>1.0</td>\n",
              "      <td>2.0</td>\n",
              "      <td>2.0</td>\n",
              "    </tr>\n",
              "    <tr>\n",
              "      <th>household_children</th>\n",
              "      <td>0.0</td>\n",
              "      <td>2.0</td>\n",
              "      <td>0.0</td>\n",
              "      <td>0.0</td>\n",
              "      <td>3.0</td>\n",
              "    </tr>\n",
              "    <tr>\n",
              "      <th>n_people_r</th>\n",
              "      <td>4.0</td>\n",
              "      <td>4.0</td>\n",
              "      <td>1.0</td>\n",
              "      <td>2.0</td>\n",
              "      <td>5.0</td>\n",
              "    </tr>\n",
              "    <tr>\n",
              "      <th>hhs_region</th>\n",
              "      <td>2.0</td>\n",
              "      <td>7.0</td>\n",
              "      <td>10.0</td>\n",
              "      <td>7.0</td>\n",
              "      <td>7.0</td>\n",
              "    </tr>\n",
              "    <tr>\n",
              "      <th>state</th>\n",
              "      <td>688.0</td>\n",
              "      <td>635.0</td>\n",
              "      <td>650.0</td>\n",
              "      <td>635.0</td>\n",
              "      <td>635.0</td>\n",
              "    </tr>\n",
              "    <tr>\n",
              "      <th>behaviorals</th>\n",
              "      <td>0.0</td>\n",
              "      <td>5.0</td>\n",
              "      <td>4.0</td>\n",
              "      <td>3.0</td>\n",
              "      <td>0.0</td>\n",
              "    </tr>\n",
              "  </tbody>\n",
              "</table>\n",
              "</div>"
            ],
            "text/plain": [
              "                               20365    29138    36128   39793   32973\n",
              "h1n1_concern                     1.0      1.0      2.0     2.0     0.0\n",
              "h1n1_knowledge                   1.0      1.0      2.0     1.0     1.0\n",
              "behavioral_antiviral_meds        0.0      0.0      0.0     0.0     0.0\n",
              "behavioral_avoidance             0.0      1.0      1.0     1.0     0.0\n",
              "behavioral_face_mask             0.0      0.0      0.0     0.0     0.0\n",
              "behavioral_wash_hands            0.0      1.0      1.0     1.0     0.0\n",
              "behavioral_large_gatherings      0.0      1.0      1.0     0.0     0.0\n",
              "behavioral_outside_home          0.0      1.0      1.0     0.0     0.0\n",
              "behavioral_touch_face            0.0      1.0      0.0     1.0     0.0\n",
              "doctor_recc_h1n1                 0.0      1.0      0.0     0.0     0.0\n",
              "chronic_med_condition            1.0      0.0      1.0     0.0     0.0\n",
              "child_under_6_months             0.0      0.0      0.0     0.0     0.0\n",
              "health_insurance                 NaN      1.0      1.0     1.0     NaN\n",
              "health_worker                    0.0      0.0      0.0     0.0     0.0\n",
              "opinion_h1n1_vacc_effective  11710.0  11710.0   1846.0  7251.0   908.0\n",
              "opinion_h1n1_risk             9980.0   5366.0   8284.0  9980.0  9980.0\n",
              "opinion_h1n1_sick_from_vacc   9023.0   9229.0    150.0  9229.0  9023.0\n",
              "agegrp                        5224.0   3992.0   6821.0  5564.0  5224.0\n",
              "education_comp                   4.0      2.0      1.0     4.0     4.0\n",
              "raceeth4_i                       3.0      3.0      3.0     3.0     3.0\n",
              "sex_i                            1.0      2.0      2.0     1.0     2.0\n",
              "inc_pov                          1.0      3.0      2.0     1.0     2.0\n",
              "marital                          2.0      2.0      2.0     1.0     1.0\n",
              "rent_own_r                       1.0      2.0      1.0     1.0     1.0\n",
              "census_region                    1.0      2.0      4.0     2.0     2.0\n",
              "census_msa                   15202.0   8870.0  15202.0  9651.0  8870.0\n",
              "n_adult_r                        4.0      2.0      1.0     2.0     2.0\n",
              "household_children               0.0      2.0      0.0     0.0     3.0\n",
              "n_people_r                       4.0      4.0      1.0     2.0     5.0\n",
              "hhs_region                       2.0      7.0     10.0     7.0     7.0\n",
              "state                          688.0    635.0    650.0   635.0   635.0\n",
              "behaviorals                      0.0      5.0      4.0     3.0     0.0"
            ]
          },
          "metadata": {},
          "execution_count": 22
        }
      ]
    },
    {
      "cell_type": "code",
      "metadata": {
        "id": "zeyvZzdXw_NJ",
        "outputId": "ebfd2363-88ad-4750-f94e-dd1056885e61",
        "colab": {
          "base_uri": "https://localhost:8080/"
        }
      },
      "source": [
        "# 2. TargetEncoder\n",
        "pipe_target = make_pipeline(\n",
        "    TargetEncoder(), \n",
        "    SimpleImputer(), \n",
        "    RandomForestClassifier(max_depth=13, n_estimators=120, random_state=10, n_jobs=-1, oob_score=True)\n",
        "  )\n",
        "\n",
        "pipe_target.fit(X_train, y_train)\n",
        "print('훈련 정확도', pipe_target.score(X_train, y_train))\n",
        "print('검증 정확도', pipe_target.score(X_val, y_val))\n",
        "print('f1 score', f1_score(y_val, pipe_target.predict(X_val)))"
      ],
      "execution_count": 23,
      "outputs": [
        {
          "output_type": "stream",
          "name": "stdout",
          "text": [
            "훈련 정확도 0.8939299587818403\n",
            "검증 정확도 0.8351322500296525\n",
            "f1 score 0.5738810545677498\n"
          ]
        }
      ]
    },
    {
      "cell_type": "code",
      "metadata": {
        "id": "-xNtYMR4ygdS",
        "outputId": "6e04ed7d-5c46-40db-f232-ff029427aa77",
        "colab": {
          "base_uri": "https://localhost:8080/"
        }
      },
      "source": [
        "# TargetEncoder만 적용 후 데이터 모양 확인해보기\n",
        "enc_target = TargetEncoder()\n",
        "X_train_target = enc_target.fit_transform(X_train, y_train)\n",
        "X_train.shape, X_train_target.shape\n",
        "# 특성 수는 변함 없음"
      ],
      "execution_count": 24,
      "outputs": [
        {
          "output_type": "execute_result",
          "data": {
            "text/plain": [
              "((33723, 32), (33723, 32))"
            ]
          },
          "metadata": {},
          "execution_count": 24
        }
      ]
    },
    {
      "cell_type": "code",
      "metadata": {
        "id": "9QcEAgz-zNGl",
        "outputId": "9af8bdaf-357f-4d7a-c602-a344cb628d11",
        "colab": {
          "base_uri": "https://localhost:8080/",
          "height": 1000
        }
      },
      "source": [
        "X_train_target.head().T\n",
        "# 범주형 특성 각각에 대하여 범주 종류에 대한 타겟 값들의 평균으로 범주 값을 대체함"
      ],
      "execution_count": 25,
      "outputs": [
        {
          "output_type": "execute_result",
          "data": {
            "text/html": [
              "<div>\n",
              "<style scoped>\n",
              "    .dataframe tbody tr th:only-of-type {\n",
              "        vertical-align: middle;\n",
              "    }\n",
              "\n",
              "    .dataframe tbody tr th {\n",
              "        vertical-align: top;\n",
              "    }\n",
              "\n",
              "    .dataframe thead th {\n",
              "        text-align: right;\n",
              "    }\n",
              "</style>\n",
              "<table border=\"1\" class=\"dataframe\">\n",
              "  <thead>\n",
              "    <tr style=\"text-align: right;\">\n",
              "      <th></th>\n",
              "      <th>20365</th>\n",
              "      <th>29138</th>\n",
              "      <th>36128</th>\n",
              "      <th>39793</th>\n",
              "      <th>32973</th>\n",
              "    </tr>\n",
              "  </thead>\n",
              "  <tbody>\n",
              "    <tr>\n",
              "      <th>h1n1_concern</th>\n",
              "      <td>1.000000</td>\n",
              "      <td>1.000000</td>\n",
              "      <td>2.000000</td>\n",
              "      <td>2.000000</td>\n",
              "      <td>0.000000</td>\n",
              "    </tr>\n",
              "    <tr>\n",
              "      <th>h1n1_knowledge</th>\n",
              "      <td>1.000000</td>\n",
              "      <td>1.000000</td>\n",
              "      <td>2.000000</td>\n",
              "      <td>1.000000</td>\n",
              "      <td>1.000000</td>\n",
              "    </tr>\n",
              "    <tr>\n",
              "      <th>behavioral_antiviral_meds</th>\n",
              "      <td>0.000000</td>\n",
              "      <td>0.000000</td>\n",
              "      <td>0.000000</td>\n",
              "      <td>0.000000</td>\n",
              "      <td>0.000000</td>\n",
              "    </tr>\n",
              "    <tr>\n",
              "      <th>behavioral_avoidance</th>\n",
              "      <td>0.000000</td>\n",
              "      <td>1.000000</td>\n",
              "      <td>1.000000</td>\n",
              "      <td>1.000000</td>\n",
              "      <td>0.000000</td>\n",
              "    </tr>\n",
              "    <tr>\n",
              "      <th>behavioral_face_mask</th>\n",
              "      <td>0.000000</td>\n",
              "      <td>0.000000</td>\n",
              "      <td>0.000000</td>\n",
              "      <td>0.000000</td>\n",
              "      <td>0.000000</td>\n",
              "    </tr>\n",
              "    <tr>\n",
              "      <th>behavioral_wash_hands</th>\n",
              "      <td>0.000000</td>\n",
              "      <td>1.000000</td>\n",
              "      <td>1.000000</td>\n",
              "      <td>1.000000</td>\n",
              "      <td>0.000000</td>\n",
              "    </tr>\n",
              "    <tr>\n",
              "      <th>behavioral_large_gatherings</th>\n",
              "      <td>0.000000</td>\n",
              "      <td>1.000000</td>\n",
              "      <td>1.000000</td>\n",
              "      <td>0.000000</td>\n",
              "      <td>0.000000</td>\n",
              "    </tr>\n",
              "    <tr>\n",
              "      <th>behavioral_outside_home</th>\n",
              "      <td>0.000000</td>\n",
              "      <td>1.000000</td>\n",
              "      <td>1.000000</td>\n",
              "      <td>0.000000</td>\n",
              "      <td>0.000000</td>\n",
              "    </tr>\n",
              "    <tr>\n",
              "      <th>behavioral_touch_face</th>\n",
              "      <td>0.000000</td>\n",
              "      <td>1.000000</td>\n",
              "      <td>0.000000</td>\n",
              "      <td>1.000000</td>\n",
              "      <td>0.000000</td>\n",
              "    </tr>\n",
              "    <tr>\n",
              "      <th>doctor_recc_h1n1</th>\n",
              "      <td>0.000000</td>\n",
              "      <td>1.000000</td>\n",
              "      <td>0.000000</td>\n",
              "      <td>0.000000</td>\n",
              "      <td>0.000000</td>\n",
              "    </tr>\n",
              "    <tr>\n",
              "      <th>chronic_med_condition</th>\n",
              "      <td>1.000000</td>\n",
              "      <td>0.000000</td>\n",
              "      <td>1.000000</td>\n",
              "      <td>0.000000</td>\n",
              "      <td>0.000000</td>\n",
              "    </tr>\n",
              "    <tr>\n",
              "      <th>child_under_6_months</th>\n",
              "      <td>0.000000</td>\n",
              "      <td>0.000000</td>\n",
              "      <td>0.000000</td>\n",
              "      <td>0.000000</td>\n",
              "      <td>0.000000</td>\n",
              "    </tr>\n",
              "    <tr>\n",
              "      <th>health_insurance</th>\n",
              "      <td>NaN</td>\n",
              "      <td>1.000000</td>\n",
              "      <td>1.000000</td>\n",
              "      <td>1.000000</td>\n",
              "      <td>NaN</td>\n",
              "    </tr>\n",
              "    <tr>\n",
              "      <th>health_worker</th>\n",
              "      <td>0.000000</td>\n",
              "      <td>0.000000</td>\n",
              "      <td>0.000000</td>\n",
              "      <td>0.000000</td>\n",
              "      <td>0.000000</td>\n",
              "    </tr>\n",
              "    <tr>\n",
              "      <th>opinion_h1n1_vacc_effective</th>\n",
              "      <td>0.174466</td>\n",
              "      <td>0.174466</td>\n",
              "      <td>0.048754</td>\n",
              "      <td>0.400221</td>\n",
              "      <td>0.057269</td>\n",
              "    </tr>\n",
              "    <tr>\n",
              "      <th>opinion_h1n1_risk</th>\n",
              "      <td>0.168136</td>\n",
              "      <td>0.393589</td>\n",
              "      <td>0.091743</td>\n",
              "      <td>0.168136</td>\n",
              "      <td>0.168136</td>\n",
              "    </tr>\n",
              "    <tr>\n",
              "      <th>opinion_h1n1_sick_from_vacc</th>\n",
              "      <td>0.202815</td>\n",
              "      <td>0.182252</td>\n",
              "      <td>0.086667</td>\n",
              "      <td>0.182252</td>\n",
              "      <td>0.202815</td>\n",
              "    </tr>\n",
              "    <tr>\n",
              "      <th>agegrp</th>\n",
              "      <td>0.192190</td>\n",
              "      <td>0.207164</td>\n",
              "      <td>0.225480</td>\n",
              "      <td>0.238138</td>\n",
              "      <td>0.192190</td>\n",
              "    </tr>\n",
              "    <tr>\n",
              "      <th>education_comp</th>\n",
              "      <td>4.000000</td>\n",
              "      <td>2.000000</td>\n",
              "      <td>1.000000</td>\n",
              "      <td>4.000000</td>\n",
              "      <td>4.000000</td>\n",
              "    </tr>\n",
              "    <tr>\n",
              "      <th>raceeth4_i</th>\n",
              "      <td>3.000000</td>\n",
              "      <td>3.000000</td>\n",
              "      <td>3.000000</td>\n",
              "      <td>3.000000</td>\n",
              "      <td>3.000000</td>\n",
              "    </tr>\n",
              "    <tr>\n",
              "      <th>sex_i</th>\n",
              "      <td>1.000000</td>\n",
              "      <td>2.000000</td>\n",
              "      <td>2.000000</td>\n",
              "      <td>1.000000</td>\n",
              "      <td>2.000000</td>\n",
              "    </tr>\n",
              "    <tr>\n",
              "      <th>inc_pov</th>\n",
              "      <td>1.000000</td>\n",
              "      <td>3.000000</td>\n",
              "      <td>2.000000</td>\n",
              "      <td>1.000000</td>\n",
              "      <td>2.000000</td>\n",
              "    </tr>\n",
              "    <tr>\n",
              "      <th>marital</th>\n",
              "      <td>2.000000</td>\n",
              "      <td>2.000000</td>\n",
              "      <td>2.000000</td>\n",
              "      <td>1.000000</td>\n",
              "      <td>1.000000</td>\n",
              "    </tr>\n",
              "    <tr>\n",
              "      <th>rent_own_r</th>\n",
              "      <td>1.000000</td>\n",
              "      <td>2.000000</td>\n",
              "      <td>1.000000</td>\n",
              "      <td>1.000000</td>\n",
              "      <td>1.000000</td>\n",
              "    </tr>\n",
              "    <tr>\n",
              "      <th>census_region</th>\n",
              "      <td>1.000000</td>\n",
              "      <td>2.000000</td>\n",
              "      <td>4.000000</td>\n",
              "      <td>2.000000</td>\n",
              "      <td>2.000000</td>\n",
              "    </tr>\n",
              "    <tr>\n",
              "      <th>census_msa</th>\n",
              "      <td>0.239574</td>\n",
              "      <td>0.236302</td>\n",
              "      <td>0.239574</td>\n",
              "      <td>0.240804</td>\n",
              "      <td>0.236302</td>\n",
              "    </tr>\n",
              "    <tr>\n",
              "      <th>n_adult_r</th>\n",
              "      <td>4.000000</td>\n",
              "      <td>2.000000</td>\n",
              "      <td>1.000000</td>\n",
              "      <td>2.000000</td>\n",
              "      <td>2.000000</td>\n",
              "    </tr>\n",
              "    <tr>\n",
              "      <th>household_children</th>\n",
              "      <td>0.000000</td>\n",
              "      <td>2.000000</td>\n",
              "      <td>0.000000</td>\n",
              "      <td>0.000000</td>\n",
              "      <td>3.000000</td>\n",
              "    </tr>\n",
              "    <tr>\n",
              "      <th>n_people_r</th>\n",
              "      <td>4.000000</td>\n",
              "      <td>4.000000</td>\n",
              "      <td>1.000000</td>\n",
              "      <td>2.000000</td>\n",
              "      <td>5.000000</td>\n",
              "    </tr>\n",
              "    <tr>\n",
              "      <th>hhs_region</th>\n",
              "      <td>2.000000</td>\n",
              "      <td>7.000000</td>\n",
              "      <td>10.000000</td>\n",
              "      <td>7.000000</td>\n",
              "      <td>7.000000</td>\n",
              "    </tr>\n",
              "    <tr>\n",
              "      <th>state</th>\n",
              "      <td>0.216570</td>\n",
              "      <td>0.286614</td>\n",
              "      <td>0.232308</td>\n",
              "      <td>0.286614</td>\n",
              "      <td>0.286614</td>\n",
              "    </tr>\n",
              "    <tr>\n",
              "      <th>behaviorals</th>\n",
              "      <td>0.000000</td>\n",
              "      <td>5.000000</td>\n",
              "      <td>4.000000</td>\n",
              "      <td>3.000000</td>\n",
              "      <td>0.000000</td>\n",
              "    </tr>\n",
              "  </tbody>\n",
              "</table>\n",
              "</div>"
            ],
            "text/plain": [
              "                                20365     29138      36128     39793     32973\n",
              "h1n1_concern                 1.000000  1.000000   2.000000  2.000000  0.000000\n",
              "h1n1_knowledge               1.000000  1.000000   2.000000  1.000000  1.000000\n",
              "behavioral_antiviral_meds    0.000000  0.000000   0.000000  0.000000  0.000000\n",
              "behavioral_avoidance         0.000000  1.000000   1.000000  1.000000  0.000000\n",
              "behavioral_face_mask         0.000000  0.000000   0.000000  0.000000  0.000000\n",
              "behavioral_wash_hands        0.000000  1.000000   1.000000  1.000000  0.000000\n",
              "behavioral_large_gatherings  0.000000  1.000000   1.000000  0.000000  0.000000\n",
              "behavioral_outside_home      0.000000  1.000000   1.000000  0.000000  0.000000\n",
              "behavioral_touch_face        0.000000  1.000000   0.000000  1.000000  0.000000\n",
              "doctor_recc_h1n1             0.000000  1.000000   0.000000  0.000000  0.000000\n",
              "chronic_med_condition        1.000000  0.000000   1.000000  0.000000  0.000000\n",
              "child_under_6_months         0.000000  0.000000   0.000000  0.000000  0.000000\n",
              "health_insurance                  NaN  1.000000   1.000000  1.000000       NaN\n",
              "health_worker                0.000000  0.000000   0.000000  0.000000  0.000000\n",
              "opinion_h1n1_vacc_effective  0.174466  0.174466   0.048754  0.400221  0.057269\n",
              "opinion_h1n1_risk            0.168136  0.393589   0.091743  0.168136  0.168136\n",
              "opinion_h1n1_sick_from_vacc  0.202815  0.182252   0.086667  0.182252  0.202815\n",
              "agegrp                       0.192190  0.207164   0.225480  0.238138  0.192190\n",
              "education_comp               4.000000  2.000000   1.000000  4.000000  4.000000\n",
              "raceeth4_i                   3.000000  3.000000   3.000000  3.000000  3.000000\n",
              "sex_i                        1.000000  2.000000   2.000000  1.000000  2.000000\n",
              "inc_pov                      1.000000  3.000000   2.000000  1.000000  2.000000\n",
              "marital                      2.000000  2.000000   2.000000  1.000000  1.000000\n",
              "rent_own_r                   1.000000  2.000000   1.000000  1.000000  1.000000\n",
              "census_region                1.000000  2.000000   4.000000  2.000000  2.000000\n",
              "census_msa                   0.239574  0.236302   0.239574  0.240804  0.236302\n",
              "n_adult_r                    4.000000  2.000000   1.000000  2.000000  2.000000\n",
              "household_children           0.000000  2.000000   0.000000  0.000000  3.000000\n",
              "n_people_r                   4.000000  4.000000   1.000000  2.000000  5.000000\n",
              "hhs_region                   2.000000  7.000000  10.000000  7.000000  7.000000\n",
              "state                        0.216570  0.286614   0.232308  0.286614  0.286614\n",
              "behaviorals                  0.000000  5.000000   4.000000  3.000000  0.000000"
            ]
          },
          "metadata": {},
          "execution_count": 25
        }
      ]
    },
    {
      "cell_type": "markdown",
      "metadata": {
        "id": "xZwj_kjTdmm3"
      },
      "source": [
        "## 참고자료\n",
        "\n",
        "- [Random Forests for Complete Beginners](https://victorzhou.com/blog/intro-to-random-forests/)"
      ]
    }
  ]
}