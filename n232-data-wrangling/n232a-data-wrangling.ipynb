{
  "nbformat": 4,
  "nbformat_minor": 0,
  "metadata": {
    "jupytext": {
      "cell_metadata_filter": "-all",
      "main_language": "python",
      "notebook_metadata_filter": "-all"
    },
    "kernelspec": {
      "display_name": "Python 3",
      "language": "python",
      "name": "python3"
    },
    "language_info": {
      "codemirror_mode": {
        "name": "ipython",
        "version": 3
      },
      "file_extension": ".py",
      "mimetype": "text/x-python",
      "name": "python",
      "nbconvert_exporter": "python",
      "pygments_lexer": "ipython3",
      "version": "3.7.7"
    },
    "colab": {
      "name": "n232a-data-wrangling.ipynb",
      "provenance": []
    }
  },
  "cells": [
    {
      "cell_type": "markdown",
      "metadata": {
        "id": "8AzSZeiBG1DS"
      },
      "source": [
        "<img align=\"right\" src=\"https://ds-cs-images.s3.ap-northeast-2.amazonaws.com/Codestates_Fulllogo_Color.png\" width=100>\n",
        "\n",
        "## *AIB / SECTION 2 / SPRINT 3 / NOTE 2*\n",
        "\n",
        "# 📝 Assignment\n",
        "---\n",
        "# Data Wrangling\n"
      ]
    },
    {
      "cell_type": "markdown",
      "metadata": {
        "id": "Vn1jKcU2G1DV"
      },
      "source": [
        "### 1) 지속적으로 여러분의 포트폴리오 데이터를 랭글링 하세요\n",
        "- 여러분이 선택한 데이터들을 랭글링하여 모델을 만들기 위한 테이블 형태의 데이터로 만들어 보세요.\n",
        "- **다음 함수의 result를 완성시키고 리턴값을 제출하세요.**"
      ]
    },
    {
      "cell_type": "code",
      "metadata": {
        "id": "Jj2RgUFfG1DW"
      },
      "source": [
        "# ### 이곳에서 제출폼 과제를 진행해 주세요 ###\n",
        "# import pandas as pd\n",
        "# df = pd.read_csv(\"https://ds-lecture-data.s3.ap-northeast-2.amazonaws.com/assignments/purchase_data.csv\", sep=\",\",index_col=0)\n",
        "\n",
        "# ## 다음 result 함수 안에 male, female 변수를 계산하세요.(groupby, get_group을 사용하세요.)\n",
        "# ## sum_male: Age = 20, Gender = \"Male\" 그룹의 Price를 합하세요.\n",
        "# ## sum_female: Age = 20, Gender = \"Female\" 그룹의 Price를 합하세요.\n",
        "\n",
        "# def result(df):\n",
        "\n",
        "#     sum_male = df[df.Age == 20].groupby('Gender')['Price'].sum().loc['Male']\n",
        "#     sum_female = df[df.Age == 20].groupby('Gender')['Price'].sum().loc['Female']\n",
        "\n",
        "#     print(\"sum_male: {}, sum_female: {}\".format(sum_male, sum_female))\n",
        "#     return round(sum_male + sum_female)\n",
        "\n",
        "# result(df)"
      ],
      "execution_count": 321,
      "outputs": []
    },
    {
      "cell_type": "code",
      "metadata": {
        "id": "ZSVKTPPB9gYs"
      },
      "source": [
        "# ! pip install category_encoders"
      ],
      "execution_count": 322,
      "outputs": []
    },
    {
      "cell_type": "code",
      "metadata": {
        "id": "ExXRoIvxG1DX"
      },
      "source": [
        "import pandas as pd\n",
        "import numpy as np\n",
        "import seaborn as sns\n",
        "import matplotlib.pyplot as plt\n",
        "\n",
        "from category_encoders import TargetEncoder, OrdinalEncoder\n",
        "from sklearn.preprocessing import StandardScaler\n",
        "from sklearn.compose import TransformedTargetRegressor\n",
        "\n",
        "from sklearn.linear_model import RidgeCV, LogisticRegression\n",
        "from sklearn.tree import DecisionTreeRegressor, DecisionTreeClassifier\n",
        "from sklearn.ensemble import RandomForestRegressor, RandomForestClassifier\n",
        "\n",
        "from sklearn.model_selection import train_test_split, RandomizedSearchCV, GridSearchCV\n",
        "from sklearn.pipeline import make_pipeline\n",
        "from sklearn.metrics import mean_absolute_error, r2_score, f1_score, roc_curve, classification_report, plot_confusion_matrix, roc_auc_score\n",
        "from scipy.stats import randint, uniform"
      ],
      "execution_count": 323,
      "outputs": []
    },
    {
      "cell_type": "code",
      "metadata": {
        "colab": {
          "base_uri": "https://localhost:8080/"
        },
        "id": "fjAqOiBeo2c2",
        "outputId": "19efd4da-637b-46b6-a664-661d2ea9d9fd"
      },
      "source": [
        "# 자료 출처 : 서울 열린데이터 광장 - 서울특별시 부동산 실거래가 정보\n",
        "# https://data.seoul.go.kr/dataList/OA-15548/S/1/datasetView.do\n",
        "\n",
        "df = pd.read_csv('https://docs.google.com/uc?export=download&id=1WyeDe2Ry4ohJobcbnQJXHxFEAtcg-CC_', encoding='cp949')\n",
        "\n",
        "# 서울 부동산 물건금액 예측해보기\n",
        "# 1) 가격 예측\n",
        "# 2) 고가 주택(9억 초과)과 고가 주택 아닌 것으로 분류(물건가격으로 특성 만든 후 물건금액 특성 제거를 통해 정보 누수 예방하기)"
      ],
      "execution_count": 324,
      "outputs": [
        {
          "output_type": "stream",
          "name": "stderr",
          "text": [
            "/usr/local/lib/python3.7/dist-packages/IPython/core/interactiveshell.py:2718: DtypeWarning: Columns (1) have mixed types.Specify dtype option on import or set low_memory=False.\n",
            "  interactivity=interactivity, compiler=compiler, result=result)\n"
          ]
        }
      ]
    },
    {
      "cell_type": "code",
      "metadata": {
        "colab": {
          "base_uri": "https://localhost:8080/",
          "height": 304
        },
        "id": "T-sBjjCseGr-",
        "outputId": "166f2b0c-3c25-4119-a729-d296f471a8c0"
      },
      "source": [
        "# 데이터 내용물 간단하게 확인하기\n",
        "df.head()"
      ],
      "execution_count": 325,
      "outputs": [
        {
          "output_type": "execute_result",
          "data": {
            "text/html": [
              "<div>\n",
              "<style scoped>\n",
              "    .dataframe tbody tr th:only-of-type {\n",
              "        vertical-align: middle;\n",
              "    }\n",
              "\n",
              "    .dataframe tbody tr th {\n",
              "        vertical-align: top;\n",
              "    }\n",
              "\n",
              "    .dataframe thead th {\n",
              "        text-align: right;\n",
              "    }\n",
              "</style>\n",
              "<table border=\"1\" class=\"dataframe\">\n",
              "  <thead>\n",
              "    <tr style=\"text-align: right;\">\n",
              "      <th></th>\n",
              "      <th>실거래가아이디</th>\n",
              "      <th>지번코드</th>\n",
              "      <th>시군구코드</th>\n",
              "      <th>자치구명</th>\n",
              "      <th>법정동코드</th>\n",
              "      <th>법정동명</th>\n",
              "      <th>신고년도</th>\n",
              "      <th>업무구분코드</th>\n",
              "      <th>업무구분</th>\n",
              "      <th>물건번호</th>\n",
              "      <th>대지권면적</th>\n",
              "      <th>건물면적</th>\n",
              "      <th>관리구분코드</th>\n",
              "      <th>층정보</th>\n",
              "      <th>건물주용도코드</th>\n",
              "      <th>건물주용도</th>\n",
              "      <th>물건금액</th>\n",
              "      <th>건축년도</th>\n",
              "      <th>건물명</th>\n",
              "    </tr>\n",
              "  </thead>\n",
              "  <tbody>\n",
              "    <tr>\n",
              "      <th>0</th>\n",
              "      <td>11290-2020-4-0000066-1</td>\n",
              "      <td>1129013800101440024</td>\n",
              "      <td>11290</td>\n",
              "      <td>성북구</td>\n",
              "      <td>1129013800</td>\n",
              "      <td>장위동</td>\n",
              "      <td>2020</td>\n",
              "      <td>4</td>\n",
              "      <td>신고</td>\n",
              "      <td>1</td>\n",
              "      <td>0.0</td>\n",
              "      <td>59.92</td>\n",
              "      <td>2</td>\n",
              "      <td>5.0</td>\n",
              "      <td>2001</td>\n",
              "      <td>아파트</td>\n",
              "      <td>749000000</td>\n",
              "      <td>0.0</td>\n",
              "      <td>래미안 장위포레카운티</td>\n",
              "    </tr>\n",
              "    <tr>\n",
              "      <th>1</th>\n",
              "      <td>11290-2020-4-0000628-1</td>\n",
              "      <td>1129013400105080016</td>\n",
              "      <td>11290</td>\n",
              "      <td>성북구</td>\n",
              "      <td>1129013400</td>\n",
              "      <td>길음동</td>\n",
              "      <td>2020</td>\n",
              "      <td>4</td>\n",
              "      <td>신고</td>\n",
              "      <td>1</td>\n",
              "      <td>0.0</td>\n",
              "      <td>84.77</td>\n",
              "      <td>2</td>\n",
              "      <td>18.0</td>\n",
              "      <td>2001</td>\n",
              "      <td>아파트</td>\n",
              "      <td>1200000000</td>\n",
              "      <td>0.0</td>\n",
              "      <td>롯데캐슬 클라시아</td>\n",
              "    </tr>\n",
              "    <tr>\n",
              "      <th>2</th>\n",
              "      <td>11530-2020-4-0014284-1</td>\n",
              "      <td>1153010200107400029</td>\n",
              "      <td>11530</td>\n",
              "      <td>구로구</td>\n",
              "      <td>1153010200</td>\n",
              "      <td>구로동</td>\n",
              "      <td>2020</td>\n",
              "      <td>4</td>\n",
              "      <td>신고</td>\n",
              "      <td>1</td>\n",
              "      <td>NaN</td>\n",
              "      <td>36.90</td>\n",
              "      <td>0</td>\n",
              "      <td>1.0</td>\n",
              "      <td>2001</td>\n",
              "      <td>아파트</td>\n",
              "      <td>105000000</td>\n",
              "      <td>1994.0</td>\n",
              "      <td>궁전아트빌라</td>\n",
              "    </tr>\n",
              "    <tr>\n",
              "      <th>3</th>\n",
              "      <td>11170-2020-4-0005040-1</td>\n",
              "      <td>1117011500101930000</td>\n",
              "      <td>11170</td>\n",
              "      <td>용산구</td>\n",
              "      <td>1117011500</td>\n",
              "      <td>산천동</td>\n",
              "      <td>2020</td>\n",
              "      <td>4</td>\n",
              "      <td>신고</td>\n",
              "      <td>1</td>\n",
              "      <td>NaN</td>\n",
              "      <td>59.55</td>\n",
              "      <td>0</td>\n",
              "      <td>2.0</td>\n",
              "      <td>2001</td>\n",
              "      <td>아파트</td>\n",
              "      <td>830000000</td>\n",
              "      <td>2001.0</td>\n",
              "      <td>리버힐삼성</td>\n",
              "    </tr>\n",
              "    <tr>\n",
              "      <th>4</th>\n",
              "      <td>11170-2020-4-0001553-1</td>\n",
              "      <td>1117012900101930003</td>\n",
              "      <td>11170</td>\n",
              "      <td>용산구</td>\n",
              "      <td>1117012900</td>\n",
              "      <td>이촌동</td>\n",
              "      <td>2020</td>\n",
              "      <td>4</td>\n",
              "      <td>신고</td>\n",
              "      <td>1</td>\n",
              "      <td>NaN</td>\n",
              "      <td>64.43</td>\n",
              "      <td>0</td>\n",
              "      <td>5.0</td>\n",
              "      <td>2001</td>\n",
              "      <td>아파트</td>\n",
              "      <td>735000000</td>\n",
              "      <td>1971.0</td>\n",
              "      <td>강변</td>\n",
              "    </tr>\n",
              "  </tbody>\n",
              "</table>\n",
              "</div>"
            ],
            "text/plain": [
              "                  실거래가아이디                 지번코드  ...    건축년도          건물명\n",
              "0  11290-2020-4-0000066-1  1129013800101440024  ...     0.0  래미안 장위포레카운티\n",
              "1  11290-2020-4-0000628-1  1129013400105080016  ...     0.0   롯데캐슬 클라시아 \n",
              "2  11530-2020-4-0014284-1  1153010200107400029  ...  1994.0       궁전아트빌라\n",
              "3  11170-2020-4-0005040-1  1117011500101930000  ...  2001.0        리버힐삼성\n",
              "4  11170-2020-4-0001553-1  1117012900101930003  ...  1971.0           강변\n",
              "\n",
              "[5 rows x 19 columns]"
            ]
          },
          "metadata": {},
          "execution_count": 325
        }
      ]
    },
    {
      "cell_type": "code",
      "metadata": {
        "colab": {
          "base_uri": "https://localhost:8080/"
        },
        "id": "9tATiCsreQW2",
        "outputId": "0f5eddf5-ebd1-4460-c011-3b1c9ee6526e"
      },
      "source": [
        "df.columns"
      ],
      "execution_count": 326,
      "outputs": [
        {
          "output_type": "execute_result",
          "data": {
            "text/plain": [
              "Index(['실거래가아이디', '지번코드', '시군구코드', '자치구명', '법정동코드', '법정동명', '신고년도', '업무구분코드',\n",
              "       '업무구분', '물건번호', '대지권면적', '건물면적', '관리구분코드', '층정보', '건물주용도코드', '건물주용도',\n",
              "       '물건금액', '건축년도', '건물명'],\n",
              "      dtype='object')"
            ]
          },
          "metadata": {},
          "execution_count": 326
        }
      ]
    },
    {
      "cell_type": "code",
      "metadata": {
        "colab": {
          "base_uri": "https://localhost:8080/"
        },
        "id": "AyVXEVrRemZS",
        "outputId": "c4cd77d9-9ec5-409c-e334-4e47fe6bb4bd"
      },
      "source": [
        "print(df.shape)\n",
        "df.isna().sum()"
      ],
      "execution_count": 327,
      "outputs": [
        {
          "output_type": "stream",
          "name": "stdout",
          "text": [
            "(176001, 19)\n"
          ]
        },
        {
          "output_type": "execute_result",
          "data": {
            "text/plain": [
              "실거래가아이디        0\n",
              "지번코드           0\n",
              "시군구코드          0\n",
              "자치구명           0\n",
              "법정동코드          0\n",
              "법정동명           0\n",
              "신고년도           0\n",
              "업무구분코드         0\n",
              "업무구분           0\n",
              "물건번호           0\n",
              "대지권면적      86854\n",
              "건물면적           0\n",
              "관리구분코드         0\n",
              "층정보        12163\n",
              "건물주용도코드        0\n",
              "건물주용도          0\n",
              "물건금액           0\n",
              "건축년도         565\n",
              "건물명        12163\n",
              "dtype: int64"
            ]
          },
          "metadata": {},
          "execution_count": 327
        }
      ]
    },
    {
      "cell_type": "code",
      "metadata": {
        "colab": {
          "base_uri": "https://localhost:8080/",
          "height": 304
        },
        "id": "-ALM4fmBrT8V",
        "outputId": "d103bec8-7245-4cee-d24e-2ac82dc0023b"
      },
      "source": [
        "# 지번코드와 법정동코드가 같은 경우가 있음\n",
        "df[df['지번코드'] == df['법정동코드']].head()"
      ],
      "execution_count": 328,
      "outputs": [
        {
          "output_type": "execute_result",
          "data": {
            "text/html": [
              "<div>\n",
              "<style scoped>\n",
              "    .dataframe tbody tr th:only-of-type {\n",
              "        vertical-align: middle;\n",
              "    }\n",
              "\n",
              "    .dataframe tbody tr th {\n",
              "        vertical-align: top;\n",
              "    }\n",
              "\n",
              "    .dataframe thead th {\n",
              "        text-align: right;\n",
              "    }\n",
              "</style>\n",
              "<table border=\"1\" class=\"dataframe\">\n",
              "  <thead>\n",
              "    <tr style=\"text-align: right;\">\n",
              "      <th></th>\n",
              "      <th>실거래가아이디</th>\n",
              "      <th>지번코드</th>\n",
              "      <th>시군구코드</th>\n",
              "      <th>자치구명</th>\n",
              "      <th>법정동코드</th>\n",
              "      <th>법정동명</th>\n",
              "      <th>신고년도</th>\n",
              "      <th>업무구분코드</th>\n",
              "      <th>업무구분</th>\n",
              "      <th>물건번호</th>\n",
              "      <th>대지권면적</th>\n",
              "      <th>건물면적</th>\n",
              "      <th>관리구분코드</th>\n",
              "      <th>층정보</th>\n",
              "      <th>건물주용도코드</th>\n",
              "      <th>건물주용도</th>\n",
              "      <th>물건금액</th>\n",
              "      <th>건축년도</th>\n",
              "      <th>건물명</th>\n",
              "    </tr>\n",
              "  </thead>\n",
              "  <tbody>\n",
              "    <tr>\n",
              "      <th>9</th>\n",
              "      <td>11170-2020-4-0000318-1</td>\n",
              "      <td>1117010100</td>\n",
              "      <td>11170</td>\n",
              "      <td>용산구</td>\n",
              "      <td>1117010100</td>\n",
              "      <td>후암동</td>\n",
              "      <td>2020</td>\n",
              "      <td>4</td>\n",
              "      <td>신고</td>\n",
              "      <td>1</td>\n",
              "      <td>65.30</td>\n",
              "      <td>87.91</td>\n",
              "      <td>0</td>\n",
              "      <td>NaN</td>\n",
              "      <td>1001</td>\n",
              "      <td>단독주택</td>\n",
              "      <td>740000000</td>\n",
              "      <td>2014.0</td>\n",
              "      <td>NaN</td>\n",
              "    </tr>\n",
              "    <tr>\n",
              "      <th>19</th>\n",
              "      <td>11200-2020-4-0000406-1</td>\n",
              "      <td>1120011300</td>\n",
              "      <td>11200</td>\n",
              "      <td>성동구</td>\n",
              "      <td>1120011300</td>\n",
              "      <td>옥수동</td>\n",
              "      <td>2020</td>\n",
              "      <td>4</td>\n",
              "      <td>신고</td>\n",
              "      <td>1</td>\n",
              "      <td>125.00</td>\n",
              "      <td>174.51</td>\n",
              "      <td>0</td>\n",
              "      <td>NaN</td>\n",
              "      <td>1001</td>\n",
              "      <td>단독주택</td>\n",
              "      <td>1730000000</td>\n",
              "      <td>1986.0</td>\n",
              "      <td>NaN</td>\n",
              "    </tr>\n",
              "    <tr>\n",
              "      <th>25</th>\n",
              "      <td>11140-2020-4-0004804-1</td>\n",
              "      <td>1114011800</td>\n",
              "      <td>11140</td>\n",
              "      <td>중구</td>\n",
              "      <td>1114011800</td>\n",
              "      <td>남대문로5가</td>\n",
              "      <td>2020</td>\n",
              "      <td>4</td>\n",
              "      <td>신고</td>\n",
              "      <td>1</td>\n",
              "      <td>98.96</td>\n",
              "      <td>145.46</td>\n",
              "      <td>0</td>\n",
              "      <td>NaN</td>\n",
              "      <td>1001</td>\n",
              "      <td>단독주택</td>\n",
              "      <td>1850000000</td>\n",
              "      <td>1970.0</td>\n",
              "      <td>NaN</td>\n",
              "    </tr>\n",
              "    <tr>\n",
              "      <th>27</th>\n",
              "      <td>11200-2020-4-0000644-1</td>\n",
              "      <td>1120011400</td>\n",
              "      <td>11200</td>\n",
              "      <td>성동구</td>\n",
              "      <td>1120011400</td>\n",
              "      <td>성수동1가</td>\n",
              "      <td>2020</td>\n",
              "      <td>4</td>\n",
              "      <td>신고</td>\n",
              "      <td>1</td>\n",
              "      <td>105.00</td>\n",
              "      <td>149.46</td>\n",
              "      <td>0</td>\n",
              "      <td>NaN</td>\n",
              "      <td>1001</td>\n",
              "      <td>단독주택</td>\n",
              "      <td>1700000000</td>\n",
              "      <td>1993.0</td>\n",
              "      <td>NaN</td>\n",
              "    </tr>\n",
              "    <tr>\n",
              "      <th>31</th>\n",
              "      <td>11215-2020-4-0001845-1</td>\n",
              "      <td>1121510500</td>\n",
              "      <td>11215</td>\n",
              "      <td>광진구</td>\n",
              "      <td>1121510500</td>\n",
              "      <td>자양동</td>\n",
              "      <td>2020</td>\n",
              "      <td>4</td>\n",
              "      <td>신고</td>\n",
              "      <td>1</td>\n",
              "      <td>80.00</td>\n",
              "      <td>146.87</td>\n",
              "      <td>0</td>\n",
              "      <td>NaN</td>\n",
              "      <td>1001</td>\n",
              "      <td>단독주택</td>\n",
              "      <td>630000000</td>\n",
              "      <td>1994.0</td>\n",
              "      <td>NaN</td>\n",
              "    </tr>\n",
              "  </tbody>\n",
              "</table>\n",
              "</div>"
            ],
            "text/plain": [
              "                   실거래가아이디        지번코드  시군구코드  ...        물건금액    건축년도  건물명\n",
              "9   11170-2020-4-0000318-1  1117010100  11170  ...   740000000  2014.0  NaN\n",
              "19  11200-2020-4-0000406-1  1120011300  11200  ...  1730000000  1986.0  NaN\n",
              "25  11140-2020-4-0004804-1  1114011800  11140  ...  1850000000  1970.0  NaN\n",
              "27  11200-2020-4-0000644-1  1120011400  11200  ...  1700000000  1993.0  NaN\n",
              "31  11215-2020-4-0001845-1  1121510500  11215  ...   630000000  1994.0  NaN\n",
              "\n",
              "[5 rows x 19 columns]"
            ]
          },
          "metadata": {},
          "execution_count": 328
        }
      ]
    },
    {
      "cell_type": "code",
      "metadata": {
        "id": "spKkE9Dbn_tC"
      },
      "source": [
        "# 지번 코드를 기준으로 할 것이므로 지번코드 자릿수가 19가 아닌 것을 제거\n",
        "# 제거될 데이터는 전체의 10% 미만임\n",
        "df = df[df['지번코드'].map(str).apply(len) == 19]"
      ],
      "execution_count": 329,
      "outputs": []
    },
    {
      "cell_type": "code",
      "metadata": {
        "colab": {
          "base_uri": "https://localhost:8080/",
          "height": 66
        },
        "id": "4aNZSPrLsyBb",
        "outputId": "14afb8ab-879f-448c-a4a9-5614c67565d7"
      },
      "source": [
        "df[df['지번코드'].map(str).apply(len) != 19]"
      ],
      "execution_count": 330,
      "outputs": [
        {
          "output_type": "execute_result",
          "data": {
            "text/html": [
              "<div>\n",
              "<style scoped>\n",
              "    .dataframe tbody tr th:only-of-type {\n",
              "        vertical-align: middle;\n",
              "    }\n",
              "\n",
              "    .dataframe tbody tr th {\n",
              "        vertical-align: top;\n",
              "    }\n",
              "\n",
              "    .dataframe thead th {\n",
              "        text-align: right;\n",
              "    }\n",
              "</style>\n",
              "<table border=\"1\" class=\"dataframe\">\n",
              "  <thead>\n",
              "    <tr style=\"text-align: right;\">\n",
              "      <th></th>\n",
              "      <th>실거래가아이디</th>\n",
              "      <th>지번코드</th>\n",
              "      <th>시군구코드</th>\n",
              "      <th>자치구명</th>\n",
              "      <th>법정동코드</th>\n",
              "      <th>법정동명</th>\n",
              "      <th>신고년도</th>\n",
              "      <th>업무구분코드</th>\n",
              "      <th>업무구분</th>\n",
              "      <th>물건번호</th>\n",
              "      <th>대지권면적</th>\n",
              "      <th>건물면적</th>\n",
              "      <th>관리구분코드</th>\n",
              "      <th>층정보</th>\n",
              "      <th>건물주용도코드</th>\n",
              "      <th>건물주용도</th>\n",
              "      <th>물건금액</th>\n",
              "      <th>건축년도</th>\n",
              "      <th>건물명</th>\n",
              "    </tr>\n",
              "  </thead>\n",
              "  <tbody>\n",
              "  </tbody>\n",
              "</table>\n",
              "</div>"
            ],
            "text/plain": [
              "Empty DataFrame\n",
              "Columns: [실거래가아이디, 지번코드, 시군구코드, 자치구명, 법정동코드, 법정동명, 신고년도, 업무구분코드, 업무구분, 물건번호, 대지권면적, 건물면적, 관리구분코드, 층정보, 건물주용도코드, 건물주용도, 물건금액, 건축년도, 건물명]\n",
              "Index: []"
            ]
          },
          "metadata": {},
          "execution_count": 330
        }
      ]
    },
    {
      "cell_type": "code",
      "metadata": {
        "id": "iVP1LyqfgiMc"
      },
      "source": [
        "# df[df['층정보'].isna()]['건물주용도'].unique()"
      ],
      "execution_count": 331,
      "outputs": []
    },
    {
      "cell_type": "code",
      "metadata": {
        "id": "uA7ICXXmg2vT"
      },
      "source": [
        "# print(df[df['건물주용도'] == '단독주택']['층정보'].unique())\n",
        "# print(df[df['건물주용도'] == '단독주택']['건물명'].unique())"
      ],
      "execution_count": 332,
      "outputs": []
    },
    {
      "cell_type": "code",
      "metadata": {
        "colab": {
          "base_uri": "https://localhost:8080/"
        },
        "id": "Xz9wiowg9Gyj",
        "outputId": "0358d354-981d-493b-8287-2f5f862aef1d"
      },
      "source": [
        "df['층정보'].unique()\n",
        "# 층정보가 -1, -2, -3인 경우가 있다\n",
        "# -1은 반지하일까? 그럼 -2와 -3은 도대체 무엇인가? 확인이 필요하다"
      ],
      "execution_count": 333,
      "outputs": [
        {
          "output_type": "execute_result",
          "data": {
            "text/plain": [
              "array([ 5., 18.,  1.,  2.,  9.,  3.,  4., 10., 16., 12.,  7., 14., 23.,\n",
              "        8.,  6., 11., 17., 15., 13., -1., 21., 19., 22., 20., 40., 24.,\n",
              "       29., 26., 25., 28., 43., 34., 30., 33., 27., 36., 35., 39., 32.,\n",
              "       31., 37., 38., 42., 45., 41., 44., -3., 54., 47., 61., 51., 48.,\n",
              "       59., 53., 55., 49., 58., 67., 66., 46., 50., 63., -2., 60.])"
            ]
          },
          "metadata": {},
          "execution_count": 333
        }
      ]
    },
    {
      "cell_type": "code",
      "metadata": {
        "colab": {
          "base_uri": "https://localhost:8080/"
        },
        "id": "ENXnomdW_VXz",
        "outputId": "e08ff4c8-e4c5-48d2-c61e-2f2ce6f7e5a3"
      },
      "source": [
        "df[df['층정보'] < 0]['건물주용도'].unique()\n",
        "# 반지하 혹은 그 밑(?)으로 보이는 경우는 연립주택 또는 아파트뿐임"
      ],
      "execution_count": 334,
      "outputs": [
        {
          "output_type": "execute_result",
          "data": {
            "text/plain": [
              "array(['연립주택', '아파트'], dtype=object)"
            ]
          },
          "metadata": {},
          "execution_count": 334
        }
      ]
    },
    {
      "cell_type": "code",
      "metadata": {
        "colab": {
          "base_uri": "https://localhost:8080/",
          "height": 321
        },
        "id": "LmGwa5fL9kHV",
        "outputId": "a7cdb3a3-1fa5-400c-e77d-c236ddd1cfc4"
      },
      "source": [
        "# 반지하일 수도 있는 -1 먼저 살펴보기\n",
        "df[df['층정보'].isin([-1])].head()"
      ],
      "execution_count": 335,
      "outputs": [
        {
          "output_type": "execute_result",
          "data": {
            "text/html": [
              "<div>\n",
              "<style scoped>\n",
              "    .dataframe tbody tr th:only-of-type {\n",
              "        vertical-align: middle;\n",
              "    }\n",
              "\n",
              "    .dataframe tbody tr th {\n",
              "        vertical-align: top;\n",
              "    }\n",
              "\n",
              "    .dataframe thead th {\n",
              "        text-align: right;\n",
              "    }\n",
              "</style>\n",
              "<table border=\"1\" class=\"dataframe\">\n",
              "  <thead>\n",
              "    <tr style=\"text-align: right;\">\n",
              "      <th></th>\n",
              "      <th>실거래가아이디</th>\n",
              "      <th>지번코드</th>\n",
              "      <th>시군구코드</th>\n",
              "      <th>자치구명</th>\n",
              "      <th>법정동코드</th>\n",
              "      <th>법정동명</th>\n",
              "      <th>신고년도</th>\n",
              "      <th>업무구분코드</th>\n",
              "      <th>업무구분</th>\n",
              "      <th>물건번호</th>\n",
              "      <th>대지권면적</th>\n",
              "      <th>건물면적</th>\n",
              "      <th>관리구분코드</th>\n",
              "      <th>층정보</th>\n",
              "      <th>건물주용도코드</th>\n",
              "      <th>건물주용도</th>\n",
              "      <th>물건금액</th>\n",
              "      <th>건축년도</th>\n",
              "      <th>건물명</th>\n",
              "    </tr>\n",
              "  </thead>\n",
              "  <tbody>\n",
              "    <tr>\n",
              "      <th>83</th>\n",
              "      <td>11170-2020-4-0004295-1</td>\n",
              "      <td>1117011900100020038</td>\n",
              "      <td>11170</td>\n",
              "      <td>용산구</td>\n",
              "      <td>1117011900</td>\n",
              "      <td>효창동</td>\n",
              "      <td>2020</td>\n",
              "      <td>4</td>\n",
              "      <td>신고</td>\n",
              "      <td>1</td>\n",
              "      <td>31.27</td>\n",
              "      <td>64.00</td>\n",
              "      <td>0</td>\n",
              "      <td>-1.0</td>\n",
              "      <td>2002</td>\n",
              "      <td>연립주택</td>\n",
              "      <td>405000000</td>\n",
              "      <td>1997.0</td>\n",
              "      <td>중앙그린빌라</td>\n",
              "    </tr>\n",
              "    <tr>\n",
              "      <th>100</th>\n",
              "      <td>11200-2020-4-0004008-1</td>\n",
              "      <td>1120011100113440099</td>\n",
              "      <td>11200</td>\n",
              "      <td>성동구</td>\n",
              "      <td>1120011100</td>\n",
              "      <td>금호동3가</td>\n",
              "      <td>2020</td>\n",
              "      <td>4</td>\n",
              "      <td>신고</td>\n",
              "      <td>1</td>\n",
              "      <td>22.92</td>\n",
              "      <td>47.00</td>\n",
              "      <td>0</td>\n",
              "      <td>-1.0</td>\n",
              "      <td>2002</td>\n",
              "      <td>연립주택</td>\n",
              "      <td>570500000</td>\n",
              "      <td>2000.0</td>\n",
              "      <td>(1344-99)</td>\n",
              "    </tr>\n",
              "    <tr>\n",
              "      <th>106</th>\n",
              "      <td>11200-2020-4-0004821-1</td>\n",
              "      <td>1120011500103020015</td>\n",
              "      <td>11200</td>\n",
              "      <td>성동구</td>\n",
              "      <td>1120011500</td>\n",
              "      <td>성수동2가</td>\n",
              "      <td>2020</td>\n",
              "      <td>4</td>\n",
              "      <td>신고</td>\n",
              "      <td>1</td>\n",
              "      <td>53.29</td>\n",
              "      <td>62.48</td>\n",
              "      <td>0</td>\n",
              "      <td>-1.0</td>\n",
              "      <td>2002</td>\n",
              "      <td>연립주택</td>\n",
              "      <td>402000000</td>\n",
              "      <td>1977.0</td>\n",
              "      <td>(302-15)</td>\n",
              "    </tr>\n",
              "    <tr>\n",
              "      <th>176</th>\n",
              "      <td>11215-2020-4-0003674-1</td>\n",
              "      <td>1121510300100450014</td>\n",
              "      <td>11215</td>\n",
              "      <td>광진구</td>\n",
              "      <td>1121510300</td>\n",
              "      <td>구의동</td>\n",
              "      <td>2020</td>\n",
              "      <td>4</td>\n",
              "      <td>신고</td>\n",
              "      <td>1</td>\n",
              "      <td>33.18</td>\n",
              "      <td>53.53</td>\n",
              "      <td>0</td>\n",
              "      <td>-1.0</td>\n",
              "      <td>2002</td>\n",
              "      <td>연립주택</td>\n",
              "      <td>130000000</td>\n",
              "      <td>2005.0</td>\n",
              "      <td>푸른빌라(45-14)</td>\n",
              "    </tr>\n",
              "    <tr>\n",
              "      <th>205</th>\n",
              "      <td>11170-2020-4-0005678-1</td>\n",
              "      <td>1117013100106160002</td>\n",
              "      <td>11170</td>\n",
              "      <td>용산구</td>\n",
              "      <td>1117013100</td>\n",
              "      <td>한남동</td>\n",
              "      <td>2020</td>\n",
              "      <td>4</td>\n",
              "      <td>신고</td>\n",
              "      <td>1</td>\n",
              "      <td>21.00</td>\n",
              "      <td>25.50</td>\n",
              "      <td>0</td>\n",
              "      <td>-1.0</td>\n",
              "      <td>2002</td>\n",
              "      <td>연립주택</td>\n",
              "      <td>1190000000</td>\n",
              "      <td>1993.0</td>\n",
              "      <td>(616-2)</td>\n",
              "    </tr>\n",
              "  </tbody>\n",
              "</table>\n",
              "</div>"
            ],
            "text/plain": [
              "                    실거래가아이디                 지번코드  ...    건축년도          건물명\n",
              "83   11170-2020-4-0004295-1  1117011900100020038  ...  1997.0       중앙그린빌라\n",
              "100  11200-2020-4-0004008-1  1120011100113440099  ...  2000.0    (1344-99)\n",
              "106  11200-2020-4-0004821-1  1120011500103020015  ...  1977.0     (302-15)\n",
              "176  11215-2020-4-0003674-1  1121510300100450014  ...  2005.0  푸른빌라(45-14)\n",
              "205  11170-2020-4-0005678-1  1117013100106160002  ...  1993.0      (616-2)\n",
              "\n",
              "[5 rows x 19 columns]"
            ]
          },
          "metadata": {},
          "execution_count": 335
        }
      ]
    },
    {
      "cell_type": "code",
      "metadata": {
        "colab": {
          "base_uri": "https://localhost:8080/",
          "height": 321
        },
        "id": "lvSpRKCm9HLn",
        "outputId": "d5e7e122-70a2-4385-f545-e4d460e980e5"
      },
      "source": [
        "# 반지하 밑(?) 데이터 살펴보기\n",
        "df[df['층정보'].isin([-2, -3])].head()"
      ],
      "execution_count": 336,
      "outputs": [
        {
          "output_type": "execute_result",
          "data": {
            "text/html": [
              "<div>\n",
              "<style scoped>\n",
              "    .dataframe tbody tr th:only-of-type {\n",
              "        vertical-align: middle;\n",
              "    }\n",
              "\n",
              "    .dataframe tbody tr th {\n",
              "        vertical-align: top;\n",
              "    }\n",
              "\n",
              "    .dataframe thead th {\n",
              "        text-align: right;\n",
              "    }\n",
              "</style>\n",
              "<table border=\"1\" class=\"dataframe\">\n",
              "  <thead>\n",
              "    <tr style=\"text-align: right;\">\n",
              "      <th></th>\n",
              "      <th>실거래가아이디</th>\n",
              "      <th>지번코드</th>\n",
              "      <th>시군구코드</th>\n",
              "      <th>자치구명</th>\n",
              "      <th>법정동코드</th>\n",
              "      <th>법정동명</th>\n",
              "      <th>신고년도</th>\n",
              "      <th>업무구분코드</th>\n",
              "      <th>업무구분</th>\n",
              "      <th>물건번호</th>\n",
              "      <th>대지권면적</th>\n",
              "      <th>건물면적</th>\n",
              "      <th>관리구분코드</th>\n",
              "      <th>층정보</th>\n",
              "      <th>건물주용도코드</th>\n",
              "      <th>건물주용도</th>\n",
              "      <th>물건금액</th>\n",
              "      <th>건축년도</th>\n",
              "      <th>건물명</th>\n",
              "    </tr>\n",
              "  </thead>\n",
              "  <tbody>\n",
              "    <tr>\n",
              "      <th>24321</th>\n",
              "      <td>11590-2020-4-0013015-1</td>\n",
              "      <td>1159010500103410000</td>\n",
              "      <td>11590</td>\n",
              "      <td>동작구</td>\n",
              "      <td>1159010500</td>\n",
              "      <td>흑석동</td>\n",
              "      <td>2020</td>\n",
              "      <td>4</td>\n",
              "      <td>신고</td>\n",
              "      <td>1</td>\n",
              "      <td>NaN</td>\n",
              "      <td>84.91</td>\n",
              "      <td>0</td>\n",
              "      <td>-3.0</td>\n",
              "      <td>2001</td>\n",
              "      <td>아파트</td>\n",
              "      <td>1700000000</td>\n",
              "      <td>2019.0</td>\n",
              "      <td>아크로리버하임</td>\n",
              "    </tr>\n",
              "    <tr>\n",
              "      <th>62379</th>\n",
              "      <td>11200-2020-4-0007147-1</td>\n",
              "      <td>1120011300105280000</td>\n",
              "      <td>11200</td>\n",
              "      <td>성동구</td>\n",
              "      <td>1120011300</td>\n",
              "      <td>옥수동</td>\n",
              "      <td>2020</td>\n",
              "      <td>4</td>\n",
              "      <td>신고</td>\n",
              "      <td>1</td>\n",
              "      <td>NaN</td>\n",
              "      <td>76.66</td>\n",
              "      <td>0</td>\n",
              "      <td>-2.0</td>\n",
              "      <td>2001</td>\n",
              "      <td>아파트</td>\n",
              "      <td>1675000000</td>\n",
              "      <td>2016.0</td>\n",
              "      <td>옥수파크힐스101동~116동</td>\n",
              "    </tr>\n",
              "    <tr>\n",
              "      <th>62694</th>\n",
              "      <td>11200-2020-4-0007966-1</td>\n",
              "      <td>1120011300105280000</td>\n",
              "      <td>11200</td>\n",
              "      <td>성동구</td>\n",
              "      <td>1120011300</td>\n",
              "      <td>옥수동</td>\n",
              "      <td>2020</td>\n",
              "      <td>4</td>\n",
              "      <td>신고</td>\n",
              "      <td>1</td>\n",
              "      <td>NaN</td>\n",
              "      <td>107.99</td>\n",
              "      <td>0</td>\n",
              "      <td>-2.0</td>\n",
              "      <td>2001</td>\n",
              "      <td>아파트</td>\n",
              "      <td>2200000000</td>\n",
              "      <td>2016.0</td>\n",
              "      <td>옥수파크힐스101동~116동</td>\n",
              "    </tr>\n",
              "    <tr>\n",
              "      <th>69845</th>\n",
              "      <td>11170-2020-4-0009278-1</td>\n",
              "      <td>1117013100107770011</td>\n",
              "      <td>11170</td>\n",
              "      <td>용산구</td>\n",
              "      <td>1117013100</td>\n",
              "      <td>한남동</td>\n",
              "      <td>2020</td>\n",
              "      <td>4</td>\n",
              "      <td>신고</td>\n",
              "      <td>1</td>\n",
              "      <td>110.52</td>\n",
              "      <td>243.69</td>\n",
              "      <td>0</td>\n",
              "      <td>-2.0</td>\n",
              "      <td>2002</td>\n",
              "      <td>연립주택</td>\n",
              "      <td>2400000000</td>\n",
              "      <td>2005.0</td>\n",
              "      <td>(777-11)</td>\n",
              "    </tr>\n",
              "    <tr>\n",
              "      <th>79662</th>\n",
              "      <td>11290-2020-4-0012423-1</td>\n",
              "      <td>1129013400112870001</td>\n",
              "      <td>11290</td>\n",
              "      <td>성북구</td>\n",
              "      <td>1129013400</td>\n",
              "      <td>길음동</td>\n",
              "      <td>2020</td>\n",
              "      <td>4</td>\n",
              "      <td>신고</td>\n",
              "      <td>1</td>\n",
              "      <td>NaN</td>\n",
              "      <td>59.89</td>\n",
              "      <td>0</td>\n",
              "      <td>-2.0</td>\n",
              "      <td>2001</td>\n",
              "      <td>아파트</td>\n",
              "      <td>745000000</td>\n",
              "      <td>2019.0</td>\n",
              "      <td>롯데캐슬골든힐스</td>\n",
              "    </tr>\n",
              "  </tbody>\n",
              "</table>\n",
              "</div>"
            ],
            "text/plain": [
              "                      실거래가아이디                 지번코드  ...    건축년도              건물명\n",
              "24321  11590-2020-4-0013015-1  1159010500103410000  ...  2019.0          아크로리버하임\n",
              "62379  11200-2020-4-0007147-1  1120011300105280000  ...  2016.0  옥수파크힐스101동~116동\n",
              "62694  11200-2020-4-0007966-1  1120011300105280000  ...  2016.0  옥수파크힐스101동~116동\n",
              "69845  11170-2020-4-0009278-1  1117013100107770011  ...  2005.0         (777-11)\n",
              "79662  11290-2020-4-0012423-1  1129013400112870001  ...  2019.0         롯데캐슬골든힐스\n",
              "\n",
              "[5 rows x 19 columns]"
            ]
          },
          "metadata": {},
          "execution_count": 336
        }
      ]
    },
    {
      "cell_type": "code",
      "metadata": {
        "colab": {
          "base_uri": "https://localhost:8080/"
        },
        "id": "edC2wchYBDcB",
        "outputId": "e2d9eb24-824a-4a55-f247-fcb7bda1d512"
      },
      "source": [
        "# 층정보 -1인 경우는 실제로 반지하일 수도 있겠으나, 데이터의 수가 전체의 약 3% 수준이라 영향이 크지 않다고 판단함\n",
        "# 층정보 -2, -3인 경우는 부호 표기가 반대로 된 것으로 판단함\n",
        "# 따라서 음수인 층정보는 양수로 바꾸는 것으로 처리\n",
        "tmp_idx = df[df['층정보'] < 0]['층정보'].index\n",
        "df.loc[tmp_idx, ['층정보']] = df[df['층정보'] < 0]['층정보'].mul(-1)\n",
        "df['층정보'].unique()"
      ],
      "execution_count": 337,
      "outputs": [
        {
          "output_type": "execute_result",
          "data": {
            "text/plain": [
              "array([ 5., 18.,  1.,  2.,  9.,  3.,  4., 10., 16., 12.,  7., 14., 23.,\n",
              "        8.,  6., 11., 17., 15., 13., 21., 19., 22., 20., 40., 24., 29.,\n",
              "       26., 25., 28., 43., 34., 30., 33., 27., 36., 35., 39., 32., 31.,\n",
              "       37., 38., 42., 45., 41., 44., 54., 47., 61., 51., 48., 59., 53.,\n",
              "       55., 49., 58., 67., 66., 46., 50., 63., 60.])"
            ]
          },
          "metadata": {},
          "execution_count": 337
        }
      ]
    },
    {
      "cell_type": "code",
      "metadata": {
        "colab": {
          "base_uri": "https://localhost:8080/"
        },
        "id": "35ad7He6ho4h",
        "outputId": "4d86d760-e965-4652-aa48-843fdd7290f4"
      },
      "source": [
        "df[df['건축년도'].isna()]['건물주용도'].unique()"
      ],
      "execution_count": 338,
      "outputs": [
        {
          "output_type": "execute_result",
          "data": {
            "text/plain": [
              "array(['오피스텔', '연립주택'], dtype=object)"
            ]
          },
          "metadata": {},
          "execution_count": 338
        }
      ]
    },
    {
      "cell_type": "code",
      "metadata": {
        "colab": {
          "base_uri": "https://localhost:8080/"
        },
        "id": "pIWoIwiOh28I",
        "outputId": "a84ab40c-ae36-4ec7-bebe-0595de0a767c"
      },
      "source": [
        "df['건물주용도'].value_counts()"
      ],
      "execution_count": 339,
      "outputs": [
        {
          "output_type": "execute_result",
          "data": {
            "text/plain": [
              "아파트     88542\n",
              "연립주택    60351\n",
              "오피스텔    14934\n",
              "Name: 건물주용도, dtype: int64"
            ]
          },
          "metadata": {},
          "execution_count": 339
        }
      ]
    },
    {
      "cell_type": "code",
      "metadata": {
        "colab": {
          "base_uri": "https://localhost:8080/"
        },
        "id": "bpZewJNlmIin",
        "outputId": "dccdf57c-567e-48fc-fd59-a37fdf88590a"
      },
      "source": [
        "print(df['업무구분'].unique())\n",
        "print(df['업무구분코드'].unique())\n",
        "print(df['물건번호'].unique())"
      ],
      "execution_count": 340,
      "outputs": [
        {
          "output_type": "stream",
          "name": "stdout",
          "text": [
            "['신고']\n",
            "[4]\n",
            "[  1  49  10  12   3   4   5   2 100 101 102 103 104 105 106 107 108  11\n",
            "  13  14  15  16  17  18  19  21  22  23  24  25  26  27  28  29  30  31\n",
            "  32  33  34  35  36  37  38  39  40  41  42  43  44  45  46  47  48  50\n",
            "  51  52  53  54  55  56  57  58  59   6  60  61  62  63  64  65  66  67\n",
            "  68  69   7  70  71  72  73  74  75  76  77  78  79   8  80  81  82  83\n",
            "  84  85  86  87  88   9  90  91  92  93  94  95  96  97  98  99  20  89\n",
            " 109 110 111 112 113 114 115 116 117 118 119 120 121 122 123 124 125 126\n",
            " 127 128 129 130 131 132 133 134 135 136 137 138 139 140 141 142 143 144\n",
            " 145 147 148 149 150 146 151 152 153 154 155 156 157 158 159 160 161 162\n",
            " 163 164 165 166 167 168 169 170 171 172 173 174 175]\n"
          ]
        }
      ]
    },
    {
      "cell_type": "code",
      "metadata": {
        "colab": {
          "base_uri": "https://localhost:8080/"
        },
        "id": "8_F7qwM4pZ_d",
        "outputId": "e6626cb7-3575-430a-fb91-9af9172da6d5"
      },
      "source": [
        "print(df['관리구분코드'].unique())"
      ],
      "execution_count": 341,
      "outputs": [
        {
          "output_type": "stream",
          "name": "stdout",
          "text": [
            "['2' '0' 'B' '1' 'A']\n"
          ]
        }
      ]
    },
    {
      "cell_type": "code",
      "metadata": {
        "colab": {
          "base_uri": "https://localhost:8080/"
        },
        "id": "KRToZoS1nI_M",
        "outputId": "4031edca-cad1-4cd0-a01a-76c46bd3d6cd"
      },
      "source": [
        "print(df['건물주용도코드'].unique())\n",
        "print(df['건물주용도'].unique())"
      ],
      "execution_count": 342,
      "outputs": [
        {
          "output_type": "stream",
          "name": "stdout",
          "text": [
            "[ 2001  2002 14202]\n",
            "['아파트' '연립주택' '오피스텔']\n"
          ]
        }
      ]
    },
    {
      "cell_type": "code",
      "metadata": {
        "colab": {
          "base_uri": "https://localhost:8080/"
        },
        "id": "RBLJeh40s9Fq",
        "outputId": "1611312e-69d0-4ef8-999b-1b861730fa7f"
      },
      "source": [
        "df['건축년도'].unique()\n",
        "# 건축년도가 nan 또는 0인 데이터가 있다"
      ],
      "execution_count": 343,
      "outputs": [
        {
          "output_type": "execute_result",
          "data": {
            "text/plain": [
              "array([   0., 1994., 2001., 1971., 1982., 1993., 2002., 2017., 1998.,\n",
              "       2016., 2000., 2018., 1997., 2003., 1996., 2013., 2019., 1977.,\n",
              "       1986., 1989., 2006., 2014., 1999., 2007., 2004., 2008., 2012.,\n",
              "       1990., 1978., 2015., 1991., 2020., 2009., 1985., 2005., 1992.,\n",
              "       1983., 1987., 1995., 2011., 1984., 2010.,   nan, 1981., 1979.,\n",
              "       1988., 1974., 1980., 1972., 1976., 1969., 1975., 1967., 2021.,\n",
              "       1961., 1970., 1973., 1968., 1959., 1966., 1965., 1964.])"
            ]
          },
          "metadata": {},
          "execution_count": 343
        }
      ]
    },
    {
      "cell_type": "code",
      "metadata": {
        "colab": {
          "base_uri": "https://localhost:8080/"
        },
        "id": "0Hf0tcbjspyE",
        "outputId": "8835bed9-cd7f-4d74-ccd4-48fd4b4d999d"
      },
      "source": [
        "print(df.shape)\n",
        "len(df[(df['건축년도'] == 0) | (df['건축년도'].isna())])"
      ],
      "execution_count": 344,
      "outputs": [
        {
          "output_type": "stream",
          "name": "stdout",
          "text": [
            "(163827, 19)\n"
          ]
        },
        {
          "output_type": "execute_result",
          "data": {
            "text/plain": [
              "1711"
            ]
          },
          "metadata": {},
          "execution_count": 344
        }
      ]
    },
    {
      "cell_type": "code",
      "metadata": {
        "colab": {
          "base_uri": "https://localhost:8080/"
        },
        "id": "emu68meKtKRx",
        "outputId": "ac7caaa6-6d0f-45e3-b575-ae5c0813a165"
      },
      "source": [
        "# 전체 데이터의 약 1% 이므로 제거\n",
        "df = df[(df['건축년도'] != 0) & ~(df['건축년도'].isna())]\n",
        "len(df[(df['건축년도'] == 0) | (df['건축년도'].isna())])"
      ],
      "execution_count": 345,
      "outputs": [
        {
          "output_type": "execute_result",
          "data": {
            "text/plain": [
              "0"
            ]
          },
          "metadata": {},
          "execution_count": 345
        }
      ]
    },
    {
      "cell_type": "code",
      "metadata": {
        "colab": {
          "base_uri": "https://localhost:8080/"
        },
        "id": "5ITUFfSPuw75",
        "outputId": "d9c9416e-127e-493a-8017-7f9436ac2c12"
      },
      "source": [
        "print(df.shape)\n",
        "df.isna().sum()"
      ],
      "execution_count": 346,
      "outputs": [
        {
          "output_type": "stream",
          "name": "stdout",
          "text": [
            "(162116, 19)\n"
          ]
        },
        {
          "output_type": "execute_result",
          "data": {
            "text/plain": [
              "실거래가아이디        0\n",
              "지번코드           0\n",
              "시군구코드          0\n",
              "자치구명           0\n",
              "법정동코드          0\n",
              "법정동명           0\n",
              "신고년도           0\n",
              "업무구분코드         0\n",
              "업무구분           0\n",
              "물건번호           0\n",
              "대지권면적      86843\n",
              "건물면적           0\n",
              "관리구분코드         0\n",
              "층정보            0\n",
              "건물주용도코드        0\n",
              "건물주용도          0\n",
              "물건금액           0\n",
              "건축년도           0\n",
              "건물명            0\n",
              "dtype: int64"
            ]
          },
          "metadata": {},
          "execution_count": 346
        }
      ]
    },
    {
      "cell_type": "code",
      "metadata": {
        "colab": {
          "base_uri": "https://localhost:8080/",
          "height": 304
        },
        "id": "P9fIUZzftEam",
        "outputId": "deadd596-286f-4373-8259-c6ce3dc41d05"
      },
      "source": [
        "df.head()"
      ],
      "execution_count": 347,
      "outputs": [
        {
          "output_type": "execute_result",
          "data": {
            "text/html": [
              "<div>\n",
              "<style scoped>\n",
              "    .dataframe tbody tr th:only-of-type {\n",
              "        vertical-align: middle;\n",
              "    }\n",
              "\n",
              "    .dataframe tbody tr th {\n",
              "        vertical-align: top;\n",
              "    }\n",
              "\n",
              "    .dataframe thead th {\n",
              "        text-align: right;\n",
              "    }\n",
              "</style>\n",
              "<table border=\"1\" class=\"dataframe\">\n",
              "  <thead>\n",
              "    <tr style=\"text-align: right;\">\n",
              "      <th></th>\n",
              "      <th>실거래가아이디</th>\n",
              "      <th>지번코드</th>\n",
              "      <th>시군구코드</th>\n",
              "      <th>자치구명</th>\n",
              "      <th>법정동코드</th>\n",
              "      <th>법정동명</th>\n",
              "      <th>신고년도</th>\n",
              "      <th>업무구분코드</th>\n",
              "      <th>업무구분</th>\n",
              "      <th>물건번호</th>\n",
              "      <th>대지권면적</th>\n",
              "      <th>건물면적</th>\n",
              "      <th>관리구분코드</th>\n",
              "      <th>층정보</th>\n",
              "      <th>건물주용도코드</th>\n",
              "      <th>건물주용도</th>\n",
              "      <th>물건금액</th>\n",
              "      <th>건축년도</th>\n",
              "      <th>건물명</th>\n",
              "    </tr>\n",
              "  </thead>\n",
              "  <tbody>\n",
              "    <tr>\n",
              "      <th>2</th>\n",
              "      <td>11530-2020-4-0014284-1</td>\n",
              "      <td>1153010200107400029</td>\n",
              "      <td>11530</td>\n",
              "      <td>구로구</td>\n",
              "      <td>1153010200</td>\n",
              "      <td>구로동</td>\n",
              "      <td>2020</td>\n",
              "      <td>4</td>\n",
              "      <td>신고</td>\n",
              "      <td>1</td>\n",
              "      <td>NaN</td>\n",
              "      <td>36.90</td>\n",
              "      <td>0</td>\n",
              "      <td>1.0</td>\n",
              "      <td>2001</td>\n",
              "      <td>아파트</td>\n",
              "      <td>105000000</td>\n",
              "      <td>1994.0</td>\n",
              "      <td>궁전아트빌라</td>\n",
              "    </tr>\n",
              "    <tr>\n",
              "      <th>3</th>\n",
              "      <td>11170-2020-4-0005040-1</td>\n",
              "      <td>1117011500101930000</td>\n",
              "      <td>11170</td>\n",
              "      <td>용산구</td>\n",
              "      <td>1117011500</td>\n",
              "      <td>산천동</td>\n",
              "      <td>2020</td>\n",
              "      <td>4</td>\n",
              "      <td>신고</td>\n",
              "      <td>1</td>\n",
              "      <td>NaN</td>\n",
              "      <td>59.55</td>\n",
              "      <td>0</td>\n",
              "      <td>2.0</td>\n",
              "      <td>2001</td>\n",
              "      <td>아파트</td>\n",
              "      <td>830000000</td>\n",
              "      <td>2001.0</td>\n",
              "      <td>리버힐삼성</td>\n",
              "    </tr>\n",
              "    <tr>\n",
              "      <th>4</th>\n",
              "      <td>11170-2020-4-0001553-1</td>\n",
              "      <td>1117012900101930003</td>\n",
              "      <td>11170</td>\n",
              "      <td>용산구</td>\n",
              "      <td>1117012900</td>\n",
              "      <td>이촌동</td>\n",
              "      <td>2020</td>\n",
              "      <td>4</td>\n",
              "      <td>신고</td>\n",
              "      <td>1</td>\n",
              "      <td>NaN</td>\n",
              "      <td>64.43</td>\n",
              "      <td>0</td>\n",
              "      <td>5.0</td>\n",
              "      <td>2001</td>\n",
              "      <td>아파트</td>\n",
              "      <td>735000000</td>\n",
              "      <td>1971.0</td>\n",
              "      <td>강변</td>\n",
              "    </tr>\n",
              "    <tr>\n",
              "      <th>5</th>\n",
              "      <td>11170-2020-4-0001992-1</td>\n",
              "      <td>1117013000100220002</td>\n",
              "      <td>11170</td>\n",
              "      <td>용산구</td>\n",
              "      <td>1117013000</td>\n",
              "      <td>이태원동</td>\n",
              "      <td>2020</td>\n",
              "      <td>4</td>\n",
              "      <td>신고</td>\n",
              "      <td>1</td>\n",
              "      <td>NaN</td>\n",
              "      <td>105.75</td>\n",
              "      <td>0</td>\n",
              "      <td>9.0</td>\n",
              "      <td>2001</td>\n",
              "      <td>아파트</td>\n",
              "      <td>1430000000</td>\n",
              "      <td>1982.0</td>\n",
              "      <td>청화1</td>\n",
              "    </tr>\n",
              "    <tr>\n",
              "      <th>6</th>\n",
              "      <td>11170-2020-4-0003752-1</td>\n",
              "      <td>1117011000100020033</td>\n",
              "      <td>11170</td>\n",
              "      <td>용산구</td>\n",
              "      <td>1117011000</td>\n",
              "      <td>청파동2가</td>\n",
              "      <td>2020</td>\n",
              "      <td>4</td>\n",
              "      <td>신고</td>\n",
              "      <td>1</td>\n",
              "      <td>43.9</td>\n",
              "      <td>73.04</td>\n",
              "      <td>0</td>\n",
              "      <td>3.0</td>\n",
              "      <td>2002</td>\n",
              "      <td>연립주택</td>\n",
              "      <td>400000000</td>\n",
              "      <td>1993.0</td>\n",
              "      <td>(2-33)</td>\n",
              "    </tr>\n",
              "  </tbody>\n",
              "</table>\n",
              "</div>"
            ],
            "text/plain": [
              "                  실거래가아이디                 지번코드  ...    건축년도     건물명\n",
              "2  11530-2020-4-0014284-1  1153010200107400029  ...  1994.0  궁전아트빌라\n",
              "3  11170-2020-4-0005040-1  1117011500101930000  ...  2001.0   리버힐삼성\n",
              "4  11170-2020-4-0001553-1  1117012900101930003  ...  1971.0      강변\n",
              "5  11170-2020-4-0001992-1  1117013000100220002  ...  1982.0     청화1\n",
              "6  11170-2020-4-0003752-1  1117011000100020033  ...  1993.0  (2-33)\n",
              "\n",
              "[5 rows x 19 columns]"
            ]
          },
          "metadata": {},
          "execution_count": 347
        }
      ]
    },
    {
      "cell_type": "code",
      "metadata": {
        "id": "aelbAylYfC8Z"
      },
      "source": [
        "# 층정보와 건물명이 없는 데이터는 모두 단독주택이므로 층정보는 2로 대체\n",
        "# (건축법 상 단독주택(단독주택/다중주택/다가구주택)은 3개 층 이하로 제한되어 있음 -> 1~3의 중간값인 2로 대체)\n",
        "# 참고 : https://justdim.tistory.com/146\n",
        "df['층정보'] = df['층정보'].fillna(2)"
      ],
      "execution_count": 348,
      "outputs": []
    },
    {
      "cell_type": "code",
      "metadata": {
        "id": "GeqvNloUk7F5"
      },
      "source": [
        "# 불필요한 컬럼 제거\n",
        "\n",
        "# # 대지권면적은 결측치가 대다수이므로 제거\n",
        "# # 참고 : https://m.blog.naver.com/PostView.naver?isHttpsRedirect=true&blogId=ctrfindit&logNo=221272287733\n",
        "# df = df.drop('대지권면적', axis=1)\n",
        "\n",
        "# # 실제로 건물명이 가격에 영향을 줄 것이라는 심증이 있으나(브랜드 가치 등의 이유),\n",
        "# # 현재로서는 처리할 방법을 모르기 때문에 건물명 컬럼은 제거\n",
        "# df = df.drop('건물명', axis=1)\n",
        "\n",
        "# # 실거래가아이디는 거래 자체의 고유 번호이므로 가격과 관련없다고 판단하여 컬럼 제거\n",
        "# df = df.drop('실거래가아이디', axis=1)\n",
        "\n",
        "# # 법정동코드는 지번코드에서 '필지구분(1)+본번(4)+부번(4)'을 제외한 것으로서, 지번코드가 법정동코드의 정보를 반영한다고 봄\n",
        "# # 따라서 법정동코드 컬럼 제거. 시군구코드도 지번코드에 포함되므로 컬럼 제거.\n",
        "# # 자치구명, 법정동명 또한 지번코드가 모두 반영하므로 컬럼 제거\n",
        "# # 참고 : https://zelkun.tistory.com/entry/%EB%B2%95%EC%A0%95%EB%8F%99%ED%96%89%EC%A0%95%EB%8F%99-%EC%B0%A8%EC%9D%B4%EC%A0%90-%EB%B0%8F-%EA%B5%AC%EB%B3%84%ED%98%84%ED%99%A9\n",
        "# df = df.drop(['법정동코드', '시군구코드', '자치구명', '법정동명'], axis=1)\n",
        "\n",
        "# # 모든 데이터가 2020년에 신고된 거래 데이터이므로 신고년도는 불필요함. 컬럼 제거\n",
        "# df = df.drop('신고년도', axis=1)\n",
        "\n",
        "# # 업무구분 모두 '신고'이고, 업무구분코드도 모두 이에 해당하는 '4'임\n",
        "# # 그 이전에 컬럼 자체도 불필요하다고 판단함. 따라서 컬럼 제거\n",
        "# df = df.drop(['업무구분', '업무구분코드'], axis=1)\n",
        "\n",
        "# # 물건번호는 경매에서 각 물건에 붙는 번호를 의미함\n",
        "# # 예를 들어 한 사건에 한 개 물건이면 물건번호는 1임.\n",
        "# # 일종의 고유 번호이므로 물건가격과 상관없다고 판단하여 컬럼 제거\n",
        "# # 참고 : https://m.blog.naver.com/maestron1/221534254422\n",
        "# df = df.drop('물건번호', axis=1)\n",
        "\n",
        "# # 관리구분코드는 공공기관 내부적으로 사용하는 것으로 추정\n",
        "# # 자세한 내용은 확인할 수 없었음\n",
        "# # 명칭으로 보아 물건가격과는 관련이 없다고 보고 컬럼 제거\n",
        "# df = df.drop('관리구분코드', axis=1)\n",
        "\n",
        "# # 건물주용도코드가 건물주용도를 반영하고 있으므로 건물주용도 컬럼 제거\n",
        "# df = df.drop('건물주용도', axis=1)\n",
        "\n",
        "# 위 과정 한꺼번에 정리한 결과 가져오기\n",
        "df = df[['지번코드',\t'건물면적',\t'층정보',\t'건물주용도코드',\t'물건금액',\t'건축년도']]"
      ],
      "execution_count": 349,
      "outputs": []
    },
    {
      "cell_type": "code",
      "metadata": {
        "colab": {
          "base_uri": "https://localhost:8080/"
        },
        "id": "FbSbmcpJkFFg",
        "outputId": "e9caa8cd-6dc8-43f2-936b-ae56ed5746a8"
      },
      "source": [
        "df.isna().sum()"
      ],
      "execution_count": 350,
      "outputs": [
        {
          "output_type": "execute_result",
          "data": {
            "text/plain": [
              "지번코드       0\n",
              "건물면적       0\n",
              "층정보        0\n",
              "건물주용도코드    0\n",
              "물건금액       0\n",
              "건축년도       0\n",
              "dtype: int64"
            ]
          },
          "metadata": {},
          "execution_count": 350
        }
      ]
    },
    {
      "cell_type": "markdown",
      "metadata": {
        "id": "eUvEXZA0G1DX"
      },
      "source": [
        "### 2) 새로 특징들을 만들어 보세요\n",
        "- 여러분이 선택한 데이터에서 특징 공학을 수행해 보세요.\n",
        "- **(다중선택) purchase_data를 랭글링하여 다음 조건을 계산하고 결과가 올바른 항목을 세요.**\n",
        "    1. 나이 1-20세 그룹(20세 포함)의 평균 Price는 3.101818이다.\n",
        "    2. 나이 21-50세 그룹의 평균 Price는 3.021559이다.\n",
        "    3. 가장 많이 구입한 아이템의 ID는 178 이다.\n",
        "    4. 두번째로 매출을 많이 낸 아이템 ID는 145이다."
      ]
    },
    {
      "cell_type": "code",
      "metadata": {
        "id": "EqZOn2KXG1DY"
      },
      "source": [
        "# ### 이곳에서 제출폼 과제를 진행해 주세요 ###\n",
        "# # 그룹별 Price 평균\n",
        "# df['Age_group'] = df['Age'].apply(lambda x: 'young' if x <= 20 else 'old')\n",
        "# print(df.groupby('Age_group')['Price'].mean())\n",
        "# # 1-20 = 3.101818 / 21-50 = 3.021559\n",
        "\n",
        "# # 판매수 상위 Item ID\n",
        "# print(df['Item ID'].value_counts())\n",
        "# # 1위 : 178\n",
        "\n",
        "# # 매출 상위 Item IDs\n",
        "# df['Sales'] = df['Item ID'].value_counts()[df['Item ID']].reset_index(drop=True) * df['Price']\n",
        "# df.groupby('Item ID').mean().sort_values(by='Sales', ascending=False)['Sales']\n",
        "# # 두 번째로 매출을 많이 낸 아이템 ID : 82"
      ],
      "execution_count": 351,
      "outputs": []
    },
    {
      "cell_type": "code",
      "metadata": {
        "colab": {
          "base_uri": "https://localhost:8080/",
          "height": 203
        },
        "id": "aGMd5IH40cgp",
        "outputId": "8a0b3e29-554d-4c25-d188-049e02edde91"
      },
      "source": [
        "df.head()"
      ],
      "execution_count": 352,
      "outputs": [
        {
          "output_type": "execute_result",
          "data": {
            "text/html": [
              "<div>\n",
              "<style scoped>\n",
              "    .dataframe tbody tr th:only-of-type {\n",
              "        vertical-align: middle;\n",
              "    }\n",
              "\n",
              "    .dataframe tbody tr th {\n",
              "        vertical-align: top;\n",
              "    }\n",
              "\n",
              "    .dataframe thead th {\n",
              "        text-align: right;\n",
              "    }\n",
              "</style>\n",
              "<table border=\"1\" class=\"dataframe\">\n",
              "  <thead>\n",
              "    <tr style=\"text-align: right;\">\n",
              "      <th></th>\n",
              "      <th>지번코드</th>\n",
              "      <th>건물면적</th>\n",
              "      <th>층정보</th>\n",
              "      <th>건물주용도코드</th>\n",
              "      <th>물건금액</th>\n",
              "      <th>건축년도</th>\n",
              "    </tr>\n",
              "  </thead>\n",
              "  <tbody>\n",
              "    <tr>\n",
              "      <th>2</th>\n",
              "      <td>1153010200107400029</td>\n",
              "      <td>36.90</td>\n",
              "      <td>1.0</td>\n",
              "      <td>2001</td>\n",
              "      <td>105000000</td>\n",
              "      <td>1994.0</td>\n",
              "    </tr>\n",
              "    <tr>\n",
              "      <th>3</th>\n",
              "      <td>1117011500101930000</td>\n",
              "      <td>59.55</td>\n",
              "      <td>2.0</td>\n",
              "      <td>2001</td>\n",
              "      <td>830000000</td>\n",
              "      <td>2001.0</td>\n",
              "    </tr>\n",
              "    <tr>\n",
              "      <th>4</th>\n",
              "      <td>1117012900101930003</td>\n",
              "      <td>64.43</td>\n",
              "      <td>5.0</td>\n",
              "      <td>2001</td>\n",
              "      <td>735000000</td>\n",
              "      <td>1971.0</td>\n",
              "    </tr>\n",
              "    <tr>\n",
              "      <th>5</th>\n",
              "      <td>1117013000100220002</td>\n",
              "      <td>105.75</td>\n",
              "      <td>9.0</td>\n",
              "      <td>2001</td>\n",
              "      <td>1430000000</td>\n",
              "      <td>1982.0</td>\n",
              "    </tr>\n",
              "    <tr>\n",
              "      <th>6</th>\n",
              "      <td>1117011000100020033</td>\n",
              "      <td>73.04</td>\n",
              "      <td>3.0</td>\n",
              "      <td>2002</td>\n",
              "      <td>400000000</td>\n",
              "      <td>1993.0</td>\n",
              "    </tr>\n",
              "  </tbody>\n",
              "</table>\n",
              "</div>"
            ],
            "text/plain": [
              "                  지번코드    건물면적  층정보  건물주용도코드        물건금액    건축년도\n",
              "2  1153010200107400029   36.90  1.0     2001   105000000  1994.0\n",
              "3  1117011500101930000   59.55  2.0     2001   830000000  2001.0\n",
              "4  1117012900101930003   64.43  5.0     2001   735000000  1971.0\n",
              "5  1117013000100220002  105.75  9.0     2001  1430000000  1982.0\n",
              "6  1117011000100020033   73.04  3.0     2002   400000000  1993.0"
            ]
          },
          "metadata": {},
          "execution_count": 352
        }
      ]
    },
    {
      "cell_type": "code",
      "metadata": {
        "colab": {
          "base_uri": "https://localhost:8080/",
          "height": 309
        },
        "id": "7uX6KDq1G1DY",
        "outputId": "e470429e-9aec-47c1-a191-4989ce79528d"
      },
      "source": [
        "# 건축년도를 그대로 사용하기보다는 몇 년이나 오래 되었는지 나타내는 컬럼이 필요하지 않을까?\n",
        "df['연식'] = (2020 - df['건축년도']).astype(int)\n",
        "df.head()"
      ],
      "execution_count": 353,
      "outputs": [
        {
          "output_type": "stream",
          "name": "stderr",
          "text": [
            "/usr/local/lib/python3.7/dist-packages/ipykernel_launcher.py:2: SettingWithCopyWarning: \n",
            "A value is trying to be set on a copy of a slice from a DataFrame.\n",
            "Try using .loc[row_indexer,col_indexer] = value instead\n",
            "\n",
            "See the caveats in the documentation: https://pandas.pydata.org/pandas-docs/stable/user_guide/indexing.html#returning-a-view-versus-a-copy\n",
            "  \n"
          ]
        },
        {
          "output_type": "execute_result",
          "data": {
            "text/html": [
              "<div>\n",
              "<style scoped>\n",
              "    .dataframe tbody tr th:only-of-type {\n",
              "        vertical-align: middle;\n",
              "    }\n",
              "\n",
              "    .dataframe tbody tr th {\n",
              "        vertical-align: top;\n",
              "    }\n",
              "\n",
              "    .dataframe thead th {\n",
              "        text-align: right;\n",
              "    }\n",
              "</style>\n",
              "<table border=\"1\" class=\"dataframe\">\n",
              "  <thead>\n",
              "    <tr style=\"text-align: right;\">\n",
              "      <th></th>\n",
              "      <th>지번코드</th>\n",
              "      <th>건물면적</th>\n",
              "      <th>층정보</th>\n",
              "      <th>건물주용도코드</th>\n",
              "      <th>물건금액</th>\n",
              "      <th>건축년도</th>\n",
              "      <th>연식</th>\n",
              "    </tr>\n",
              "  </thead>\n",
              "  <tbody>\n",
              "    <tr>\n",
              "      <th>2</th>\n",
              "      <td>1153010200107400029</td>\n",
              "      <td>36.90</td>\n",
              "      <td>1.0</td>\n",
              "      <td>2001</td>\n",
              "      <td>105000000</td>\n",
              "      <td>1994.0</td>\n",
              "      <td>26</td>\n",
              "    </tr>\n",
              "    <tr>\n",
              "      <th>3</th>\n",
              "      <td>1117011500101930000</td>\n",
              "      <td>59.55</td>\n",
              "      <td>2.0</td>\n",
              "      <td>2001</td>\n",
              "      <td>830000000</td>\n",
              "      <td>2001.0</td>\n",
              "      <td>19</td>\n",
              "    </tr>\n",
              "    <tr>\n",
              "      <th>4</th>\n",
              "      <td>1117012900101930003</td>\n",
              "      <td>64.43</td>\n",
              "      <td>5.0</td>\n",
              "      <td>2001</td>\n",
              "      <td>735000000</td>\n",
              "      <td>1971.0</td>\n",
              "      <td>49</td>\n",
              "    </tr>\n",
              "    <tr>\n",
              "      <th>5</th>\n",
              "      <td>1117013000100220002</td>\n",
              "      <td>105.75</td>\n",
              "      <td>9.0</td>\n",
              "      <td>2001</td>\n",
              "      <td>1430000000</td>\n",
              "      <td>1982.0</td>\n",
              "      <td>38</td>\n",
              "    </tr>\n",
              "    <tr>\n",
              "      <th>6</th>\n",
              "      <td>1117011000100020033</td>\n",
              "      <td>73.04</td>\n",
              "      <td>3.0</td>\n",
              "      <td>2002</td>\n",
              "      <td>400000000</td>\n",
              "      <td>1993.0</td>\n",
              "      <td>27</td>\n",
              "    </tr>\n",
              "  </tbody>\n",
              "</table>\n",
              "</div>"
            ],
            "text/plain": [
              "                  지번코드    건물면적  층정보  건물주용도코드        물건금액    건축년도  연식\n",
              "2  1153010200107400029   36.90  1.0     2001   105000000  1994.0  26\n",
              "3  1117011500101930000   59.55  2.0     2001   830000000  2001.0  19\n",
              "4  1117012900101930003   64.43  5.0     2001   735000000  1971.0  49\n",
              "5  1117013000100220002  105.75  9.0     2001  1430000000  1982.0  38\n",
              "6  1117011000100020033   73.04  3.0     2002   400000000  1993.0  27"
            ]
          },
          "metadata": {},
          "execution_count": 353
        }
      ]
    },
    {
      "cell_type": "code",
      "metadata": {
        "colab": {
          "base_uri": "https://localhost:8080/",
          "height": 203
        },
        "id": "32RzZNqZ3UIJ",
        "outputId": "be77db87-ec22-493b-ad90-c6fa05b2e183"
      },
      "source": [
        "# 건물면적을 통해 집을 소형/중형/대형으로 구분하면 어떨까?\n",
        "# 기준 : 60㎡ 이하 = 소형 / 60㎡ 초과~85㎡ 이하 = 중형 / 85㎡ 초과 = 대형\n",
        "# 참고 : https://www.hani.co.kr/arti/economy/property/689578.html\n",
        "df['주택규모'] = df['건물면적'].apply(lambda x: 'S' if x <= 60 else 'L' if x > 85 else 'M')\n",
        "df.head()"
      ],
      "execution_count": 354,
      "outputs": [
        {
          "output_type": "execute_result",
          "data": {
            "text/html": [
              "<div>\n",
              "<style scoped>\n",
              "    .dataframe tbody tr th:only-of-type {\n",
              "        vertical-align: middle;\n",
              "    }\n",
              "\n",
              "    .dataframe tbody tr th {\n",
              "        vertical-align: top;\n",
              "    }\n",
              "\n",
              "    .dataframe thead th {\n",
              "        text-align: right;\n",
              "    }\n",
              "</style>\n",
              "<table border=\"1\" class=\"dataframe\">\n",
              "  <thead>\n",
              "    <tr style=\"text-align: right;\">\n",
              "      <th></th>\n",
              "      <th>지번코드</th>\n",
              "      <th>건물면적</th>\n",
              "      <th>층정보</th>\n",
              "      <th>건물주용도코드</th>\n",
              "      <th>물건금액</th>\n",
              "      <th>건축년도</th>\n",
              "      <th>연식</th>\n",
              "      <th>주택규모</th>\n",
              "    </tr>\n",
              "  </thead>\n",
              "  <tbody>\n",
              "    <tr>\n",
              "      <th>2</th>\n",
              "      <td>1153010200107400029</td>\n",
              "      <td>36.90</td>\n",
              "      <td>1.0</td>\n",
              "      <td>2001</td>\n",
              "      <td>105000000</td>\n",
              "      <td>1994.0</td>\n",
              "      <td>26</td>\n",
              "      <td>S</td>\n",
              "    </tr>\n",
              "    <tr>\n",
              "      <th>3</th>\n",
              "      <td>1117011500101930000</td>\n",
              "      <td>59.55</td>\n",
              "      <td>2.0</td>\n",
              "      <td>2001</td>\n",
              "      <td>830000000</td>\n",
              "      <td>2001.0</td>\n",
              "      <td>19</td>\n",
              "      <td>S</td>\n",
              "    </tr>\n",
              "    <tr>\n",
              "      <th>4</th>\n",
              "      <td>1117012900101930003</td>\n",
              "      <td>64.43</td>\n",
              "      <td>5.0</td>\n",
              "      <td>2001</td>\n",
              "      <td>735000000</td>\n",
              "      <td>1971.0</td>\n",
              "      <td>49</td>\n",
              "      <td>M</td>\n",
              "    </tr>\n",
              "    <tr>\n",
              "      <th>5</th>\n",
              "      <td>1117013000100220002</td>\n",
              "      <td>105.75</td>\n",
              "      <td>9.0</td>\n",
              "      <td>2001</td>\n",
              "      <td>1430000000</td>\n",
              "      <td>1982.0</td>\n",
              "      <td>38</td>\n",
              "      <td>L</td>\n",
              "    </tr>\n",
              "    <tr>\n",
              "      <th>6</th>\n",
              "      <td>1117011000100020033</td>\n",
              "      <td>73.04</td>\n",
              "      <td>3.0</td>\n",
              "      <td>2002</td>\n",
              "      <td>400000000</td>\n",
              "      <td>1993.0</td>\n",
              "      <td>27</td>\n",
              "      <td>M</td>\n",
              "    </tr>\n",
              "  </tbody>\n",
              "</table>\n",
              "</div>"
            ],
            "text/plain": [
              "                  지번코드    건물면적  층정보  건물주용도코드        물건금액    건축년도  연식 주택규모\n",
              "2  1153010200107400029   36.90  1.0     2001   105000000  1994.0  26    S\n",
              "3  1117011500101930000   59.55  2.0     2001   830000000  2001.0  19    S\n",
              "4  1117012900101930003   64.43  5.0     2001   735000000  1971.0  49    M\n",
              "5  1117013000100220002  105.75  9.0     2001  1430000000  1982.0  38    L\n",
              "6  1117011000100020033   73.04  3.0     2002   400000000  1993.0  27    M"
            ]
          },
          "metadata": {},
          "execution_count": 354
        }
      ]
    },
    {
      "cell_type": "code",
      "metadata": {
        "colab": {
          "base_uri": "https://localhost:8080/",
          "height": 203
        },
        "id": "Jwpjd0_dcL4k",
        "outputId": "b6d14005-643b-418e-f95c-4b497f281d7b"
      },
      "source": [
        "# 물건금액 9억 초과를 기준으로 고가주택과 고가주택이 아닌 물건으로 분류 예측은 어떨까?\n",
        "# 2020년 기준 고가주택 기준 : 9억\n",
        "# 참고 : https://m.post.naver.com/viewer/postView.nhn?volumeNo=32576102&memberNo=36833282\n",
        "df['고가주택여부'] = df['물건금액'].apply(lambda x: 1 if x > 900000000 else 0)\n",
        "df.head()"
      ],
      "execution_count": 355,
      "outputs": [
        {
          "output_type": "execute_result",
          "data": {
            "text/html": [
              "<div>\n",
              "<style scoped>\n",
              "    .dataframe tbody tr th:only-of-type {\n",
              "        vertical-align: middle;\n",
              "    }\n",
              "\n",
              "    .dataframe tbody tr th {\n",
              "        vertical-align: top;\n",
              "    }\n",
              "\n",
              "    .dataframe thead th {\n",
              "        text-align: right;\n",
              "    }\n",
              "</style>\n",
              "<table border=\"1\" class=\"dataframe\">\n",
              "  <thead>\n",
              "    <tr style=\"text-align: right;\">\n",
              "      <th></th>\n",
              "      <th>지번코드</th>\n",
              "      <th>건물면적</th>\n",
              "      <th>층정보</th>\n",
              "      <th>건물주용도코드</th>\n",
              "      <th>물건금액</th>\n",
              "      <th>건축년도</th>\n",
              "      <th>연식</th>\n",
              "      <th>주택규모</th>\n",
              "      <th>고가주택여부</th>\n",
              "    </tr>\n",
              "  </thead>\n",
              "  <tbody>\n",
              "    <tr>\n",
              "      <th>2</th>\n",
              "      <td>1153010200107400029</td>\n",
              "      <td>36.90</td>\n",
              "      <td>1.0</td>\n",
              "      <td>2001</td>\n",
              "      <td>105000000</td>\n",
              "      <td>1994.0</td>\n",
              "      <td>26</td>\n",
              "      <td>S</td>\n",
              "      <td>0</td>\n",
              "    </tr>\n",
              "    <tr>\n",
              "      <th>3</th>\n",
              "      <td>1117011500101930000</td>\n",
              "      <td>59.55</td>\n",
              "      <td>2.0</td>\n",
              "      <td>2001</td>\n",
              "      <td>830000000</td>\n",
              "      <td>2001.0</td>\n",
              "      <td>19</td>\n",
              "      <td>S</td>\n",
              "      <td>0</td>\n",
              "    </tr>\n",
              "    <tr>\n",
              "      <th>4</th>\n",
              "      <td>1117012900101930003</td>\n",
              "      <td>64.43</td>\n",
              "      <td>5.0</td>\n",
              "      <td>2001</td>\n",
              "      <td>735000000</td>\n",
              "      <td>1971.0</td>\n",
              "      <td>49</td>\n",
              "      <td>M</td>\n",
              "      <td>0</td>\n",
              "    </tr>\n",
              "    <tr>\n",
              "      <th>5</th>\n",
              "      <td>1117013000100220002</td>\n",
              "      <td>105.75</td>\n",
              "      <td>9.0</td>\n",
              "      <td>2001</td>\n",
              "      <td>1430000000</td>\n",
              "      <td>1982.0</td>\n",
              "      <td>38</td>\n",
              "      <td>L</td>\n",
              "      <td>1</td>\n",
              "    </tr>\n",
              "    <tr>\n",
              "      <th>6</th>\n",
              "      <td>1117011000100020033</td>\n",
              "      <td>73.04</td>\n",
              "      <td>3.0</td>\n",
              "      <td>2002</td>\n",
              "      <td>400000000</td>\n",
              "      <td>1993.0</td>\n",
              "      <td>27</td>\n",
              "      <td>M</td>\n",
              "      <td>0</td>\n",
              "    </tr>\n",
              "  </tbody>\n",
              "</table>\n",
              "</div>"
            ],
            "text/plain": [
              "                  지번코드    건물면적  층정보  건물주용도코드  ...    건축년도  연식  주택규모 고가주택여부\n",
              "2  1153010200107400029   36.90  1.0     2001  ...  1994.0  26     S      0\n",
              "3  1117011500101930000   59.55  2.0     2001  ...  2001.0  19     S      0\n",
              "4  1117012900101930003   64.43  5.0     2001  ...  1971.0  49     M      0\n",
              "5  1117013000100220002  105.75  9.0     2001  ...  1982.0  38     L      1\n",
              "6  1117011000100020033   73.04  3.0     2002  ...  1993.0  27     M      0\n",
              "\n",
              "[5 rows x 9 columns]"
            ]
          },
          "metadata": {},
          "execution_count": 355
        }
      ]
    },
    {
      "cell_type": "code",
      "metadata": {
        "colab": {
          "base_uri": "https://localhost:8080/"
        },
        "id": "NlJFAssGtZeU",
        "outputId": "1ac5743d-790c-4d24-ae54-c58308b6e49e"
      },
      "source": [
        "df.dtypes"
      ],
      "execution_count": 356,
      "outputs": [
        {
          "output_type": "execute_result",
          "data": {
            "text/plain": [
              "지번코드        object\n",
              "건물면적       float64\n",
              "층정보        float64\n",
              "건물주용도코드      int64\n",
              "물건금액         int64\n",
              "건축년도       float64\n",
              "연식           int64\n",
              "주택규모        object\n",
              "고가주택여부       int64\n",
              "dtype: object"
            ]
          },
          "metadata": {},
          "execution_count": 356
        }
      ]
    },
    {
      "cell_type": "code",
      "metadata": {
        "colab": {
          "base_uri": "https://localhost:8080/"
        },
        "id": "WzXRi1KMuGBZ",
        "outputId": "de96a50d-b477-4816-b0f0-106580054ac7"
      },
      "source": [
        "# 층정보, 건축년도는 int로 형변환하여 소수점 제거\n",
        "df[['층정보', '건축년도']] = df[['층정보', '건축년도']].astype(int)\n",
        "\n",
        "# 층정보, 건축년도, 건물주용도코드는 연속적인 수치형이 아닌 범주형으로 간주하여 컬럼 형변환\n",
        "df[['층정보', '건축년도', '건물주용도코드']] = df[['층정보', '건축년도', '건물주용도코드']].astype(str)\n",
        "\n",
        "df.dtypes"
      ],
      "execution_count": 357,
      "outputs": [
        {
          "output_type": "execute_result",
          "data": {
            "text/plain": [
              "지번코드        object\n",
              "건물면적       float64\n",
              "층정보         object\n",
              "건물주용도코드     object\n",
              "물건금액         int64\n",
              "건축년도        object\n",
              "연식           int64\n",
              "주택규모        object\n",
              "고가주택여부       int64\n",
              "dtype: object"
            ]
          },
          "metadata": {},
          "execution_count": 357
        }
      ]
    },
    {
      "cell_type": "code",
      "metadata": {
        "colab": {
          "base_uri": "https://localhost:8080/",
          "height": 203
        },
        "id": "7DtFdBmTXWxh",
        "outputId": "7517e248-8522-4df3-c24e-c0c955d54af9"
      },
      "source": [
        "# 컬럼명 변경하기\n",
        "df.columns = ['addr_code', 'size', 'floor', 'type', 'price', 'built_year', 'years', 'size_grade', 'is_high_price']\n",
        "df.head()"
      ],
      "execution_count": 358,
      "outputs": [
        {
          "output_type": "execute_result",
          "data": {
            "text/html": [
              "<div>\n",
              "<style scoped>\n",
              "    .dataframe tbody tr th:only-of-type {\n",
              "        vertical-align: middle;\n",
              "    }\n",
              "\n",
              "    .dataframe tbody tr th {\n",
              "        vertical-align: top;\n",
              "    }\n",
              "\n",
              "    .dataframe thead th {\n",
              "        text-align: right;\n",
              "    }\n",
              "</style>\n",
              "<table border=\"1\" class=\"dataframe\">\n",
              "  <thead>\n",
              "    <tr style=\"text-align: right;\">\n",
              "      <th></th>\n",
              "      <th>addr_code</th>\n",
              "      <th>size</th>\n",
              "      <th>floor</th>\n",
              "      <th>type</th>\n",
              "      <th>price</th>\n",
              "      <th>built_year</th>\n",
              "      <th>years</th>\n",
              "      <th>size_grade</th>\n",
              "      <th>is_high_price</th>\n",
              "    </tr>\n",
              "  </thead>\n",
              "  <tbody>\n",
              "    <tr>\n",
              "      <th>2</th>\n",
              "      <td>1153010200107400029</td>\n",
              "      <td>36.90</td>\n",
              "      <td>1</td>\n",
              "      <td>2001</td>\n",
              "      <td>105000000</td>\n",
              "      <td>1994</td>\n",
              "      <td>26</td>\n",
              "      <td>S</td>\n",
              "      <td>0</td>\n",
              "    </tr>\n",
              "    <tr>\n",
              "      <th>3</th>\n",
              "      <td>1117011500101930000</td>\n",
              "      <td>59.55</td>\n",
              "      <td>2</td>\n",
              "      <td>2001</td>\n",
              "      <td>830000000</td>\n",
              "      <td>2001</td>\n",
              "      <td>19</td>\n",
              "      <td>S</td>\n",
              "      <td>0</td>\n",
              "    </tr>\n",
              "    <tr>\n",
              "      <th>4</th>\n",
              "      <td>1117012900101930003</td>\n",
              "      <td>64.43</td>\n",
              "      <td>5</td>\n",
              "      <td>2001</td>\n",
              "      <td>735000000</td>\n",
              "      <td>1971</td>\n",
              "      <td>49</td>\n",
              "      <td>M</td>\n",
              "      <td>0</td>\n",
              "    </tr>\n",
              "    <tr>\n",
              "      <th>5</th>\n",
              "      <td>1117013000100220002</td>\n",
              "      <td>105.75</td>\n",
              "      <td>9</td>\n",
              "      <td>2001</td>\n",
              "      <td>1430000000</td>\n",
              "      <td>1982</td>\n",
              "      <td>38</td>\n",
              "      <td>L</td>\n",
              "      <td>1</td>\n",
              "    </tr>\n",
              "    <tr>\n",
              "      <th>6</th>\n",
              "      <td>1117011000100020033</td>\n",
              "      <td>73.04</td>\n",
              "      <td>3</td>\n",
              "      <td>2002</td>\n",
              "      <td>400000000</td>\n",
              "      <td>1993</td>\n",
              "      <td>27</td>\n",
              "      <td>M</td>\n",
              "      <td>0</td>\n",
              "    </tr>\n",
              "  </tbody>\n",
              "</table>\n",
              "</div>"
            ],
            "text/plain": [
              "             addr_code    size floor  ... years  size_grade is_high_price\n",
              "2  1153010200107400029   36.90     1  ...    26           S             0\n",
              "3  1117011500101930000   59.55     2  ...    19           S             0\n",
              "4  1117012900101930003   64.43     5  ...    49           M             0\n",
              "5  1117013000100220002  105.75     9  ...    38           L             1\n",
              "6  1117011000100020033   73.04     3  ...    27           M             0\n",
              "\n",
              "[5 rows x 9 columns]"
            ]
          },
          "metadata": {},
          "execution_count": 358
        }
      ]
    },
    {
      "cell_type": "markdown",
      "metadata": {
        "id": "ClEanrdXG1DZ"
      },
      "source": [
        "## 🔥 도전과제"
      ]
    },
    {
      "cell_type": "markdown",
      "metadata": {
        "id": "RpJOLma6G1DZ"
      },
      "source": [
        "### 3) 조금 부족하더라도 최소한의 랭글링으로 데이터를 준비하여 간단한 모델을 학습시켜 보세요\n",
        "- 여러분들이 선택한 데이터를 가지고 간단한 모델을 학습하고 결과를 리포팅 합니다."
      ]
    },
    {
      "cell_type": "code",
      "metadata": {
        "colab": {
          "base_uri": "https://localhost:8080/",
          "height": 295
        },
        "id": "N9K_Zn5wG1DZ",
        "outputId": "b2e61c00-8d57-48fd-d432-d3a7efc8446e"
      },
      "source": [
        "df.describe()"
      ],
      "execution_count": 359,
      "outputs": [
        {
          "output_type": "execute_result",
          "data": {
            "text/html": [
              "<div>\n",
              "<style scoped>\n",
              "    .dataframe tbody tr th:only-of-type {\n",
              "        vertical-align: middle;\n",
              "    }\n",
              "\n",
              "    .dataframe tbody tr th {\n",
              "        vertical-align: top;\n",
              "    }\n",
              "\n",
              "    .dataframe thead th {\n",
              "        text-align: right;\n",
              "    }\n",
              "</style>\n",
              "<table border=\"1\" class=\"dataframe\">\n",
              "  <thead>\n",
              "    <tr style=\"text-align: right;\">\n",
              "      <th></th>\n",
              "      <th>size</th>\n",
              "      <th>price</th>\n",
              "      <th>years</th>\n",
              "      <th>is_high_price</th>\n",
              "    </tr>\n",
              "  </thead>\n",
              "  <tbody>\n",
              "    <tr>\n",
              "      <th>count</th>\n",
              "      <td>162116.000000</td>\n",
              "      <td>1.621160e+05</td>\n",
              "      <td>162116.000000</td>\n",
              "      <td>162116.000000</td>\n",
              "    </tr>\n",
              "    <tr>\n",
              "      <th>mean</th>\n",
              "      <td>62.211978</td>\n",
              "      <td>5.821901e+08</td>\n",
              "      <td>17.171266</td>\n",
              "      <td>0.171754</td>\n",
              "    </tr>\n",
              "    <tr>\n",
              "      <th>std</th>\n",
              "      <td>30.265012</td>\n",
              "      <td>5.120346e+08</td>\n",
              "      <td>10.780318</td>\n",
              "      <td>0.377167</td>\n",
              "    </tr>\n",
              "    <tr>\n",
              "      <th>min</th>\n",
              "      <td>10.290000</td>\n",
              "      <td>2.000000e+07</td>\n",
              "      <td>-1.000000</td>\n",
              "      <td>0.000000</td>\n",
              "    </tr>\n",
              "    <tr>\n",
              "      <th>25%</th>\n",
              "      <td>40.350000</td>\n",
              "      <td>2.420000e+08</td>\n",
              "      <td>8.000000</td>\n",
              "      <td>0.000000</td>\n",
              "    </tr>\n",
              "    <tr>\n",
              "      <th>50%</th>\n",
              "      <td>59.430000</td>\n",
              "      <td>4.150000e+08</td>\n",
              "      <td>17.000000</td>\n",
              "      <td>0.000000</td>\n",
              "    </tr>\n",
              "    <tr>\n",
              "      <th>75%</th>\n",
              "      <td>84.550000</td>\n",
              "      <td>7.560000e+08</td>\n",
              "      <td>25.000000</td>\n",
              "      <td>0.000000</td>\n",
              "    </tr>\n",
              "    <tr>\n",
              "      <th>max</th>\n",
              "      <td>488.540000</td>\n",
              "      <td>7.750000e+09</td>\n",
              "      <td>61.000000</td>\n",
              "      <td>1.000000</td>\n",
              "    </tr>\n",
              "  </tbody>\n",
              "</table>\n",
              "</div>"
            ],
            "text/plain": [
              "                size         price          years  is_high_price\n",
              "count  162116.000000  1.621160e+05  162116.000000  162116.000000\n",
              "mean       62.211978  5.821901e+08      17.171266       0.171754\n",
              "std        30.265012  5.120346e+08      10.780318       0.377167\n",
              "min        10.290000  2.000000e+07      -1.000000       0.000000\n",
              "25%        40.350000  2.420000e+08       8.000000       0.000000\n",
              "50%        59.430000  4.150000e+08      17.000000       0.000000\n",
              "75%        84.550000  7.560000e+08      25.000000       0.000000\n",
              "max       488.540000  7.750000e+09      61.000000       1.000000"
            ]
          },
          "metadata": {},
          "execution_count": 359
        }
      ]
    },
    {
      "cell_type": "code",
      "metadata": {
        "colab": {
          "base_uri": "https://localhost:8080/",
          "height": 388
        },
        "id": "Jj9OV7xDYYU7",
        "outputId": "165812c3-ff43-486e-a969-17d0e7097d3c"
      },
      "source": [
        "col_list = ['size', 'price', 'years']\n",
        "\n",
        "def checkOutlier(df, cols):\n",
        "  fig, axes = plt.subplots(1, 3, figsize=(24, 6))\n",
        "  for i, col in enumerate(col_list):\n",
        "    sns.boxplot(x=col, data=df, ax=axes[i])\n",
        "\n",
        "checkOutlier(df, col_list)"
      ],
      "execution_count": 360,
      "outputs": [
        {
          "output_type": "display_data",
          "data": {
            "image/png": "[encoded data removed]",
            "text/plain": [
              "<Figure size 1728x432 with 3 Axes>"
            ]
          },
          "metadata": {
            "needs_background": "light"
          }
        }
      ]
    },
    {
      "cell_type": "code",
      "metadata": {
        "colab": {
          "base_uri": "https://localhost:8080/",
          "height": 388
        },
        "id": "aXAk8lXdYxx7",
        "outputId": "ed1737ca-87d0-44f2-99c4-906f69b96383"
      },
      "source": [
        "# 수치형 컬럼 전체적으로 이상치로 보이는 값들이 존재함\n",
        "# 각각에 대하여 상위 5%를 제거\n",
        "target = 'price'\n",
        "df = df[df[target] < np.percentile(df[target], 95)]\n",
        "checkOutlier(df, col_list)"
      ],
      "execution_count": 361,
      "outputs": [
        {
          "output_type": "display_data",
          "data": {
            "image/png": "[encoded data removed]",
            "text/plain": [
              "<Figure size 1728x432 with 3 Axes>"
            ]
          },
          "metadata": {
            "needs_background": "light"
          }
        }
      ]
    },
    {
      "cell_type": "code",
      "metadata": {
        "colab": {
          "base_uri": "https://localhost:8080/",
          "height": 388
        },
        "id": "cAWHiDEkbJoy",
        "outputId": "f6fff523-447d-4083-de13-f5bcaf0c2edc"
      },
      "source": [
        "df = df[df['size'] < np.percentile(df['size'], 95)]\n",
        "checkOutlier(df, col_list)"
      ],
      "execution_count": 362,
      "outputs": [
        {
          "output_type": "display_data",
          "data": {
            "image/png": "[encoded data removed]",
            "text/plain": [
              "<Figure size 1728x432 with 3 Axes>"
            ]
          },
          "metadata": {
            "needs_background": "light"
          }
        }
      ]
    },
    {
      "cell_type": "code",
      "metadata": {
        "colab": {
          "base_uri": "https://localhost:8080/",
          "height": 388
        },
        "id": "Iu-caR3wbV7a",
        "outputId": "b108e341-3e23-4be9-9622-0da31940865e"
      },
      "source": [
        "df = df[df['years'] < np.percentile(df['years'], 95)]\n",
        "checkOutlier(df, col_list)"
      ],
      "execution_count": 363,
      "outputs": [
        {
          "output_type": "display_data",
          "data": {
            "image/png": "[encoded data removed]",
            "text/plain": [
              "<Figure size 1728x432 with 3 Axes>"
            ]
          },
          "metadata": {
            "needs_background": "light"
          }
        }
      ]
    },
    {
      "cell_type": "code",
      "metadata": {
        "colab": {
          "base_uri": "https://localhost:8080/",
          "height": 203
        },
        "id": "SM2evsi7ncrh",
        "outputId": "27b66623-3383-4678-aee4-5f72284623d6"
      },
      "source": [
        "# 인덱스 재정렬\n",
        "df = df.reset_index(drop=True)\n",
        "\n",
        "df.head()"
      ],
      "execution_count": 364,
      "outputs": [
        {
          "output_type": "execute_result",
          "data": {
            "text/html": [
              "<div>\n",
              "<style scoped>\n",
              "    .dataframe tbody tr th:only-of-type {\n",
              "        vertical-align: middle;\n",
              "    }\n",
              "\n",
              "    .dataframe tbody tr th {\n",
              "        vertical-align: top;\n",
              "    }\n",
              "\n",
              "    .dataframe thead th {\n",
              "        text-align: right;\n",
              "    }\n",
              "</style>\n",
              "<table border=\"1\" class=\"dataframe\">\n",
              "  <thead>\n",
              "    <tr style=\"text-align: right;\">\n",
              "      <th></th>\n",
              "      <th>addr_code</th>\n",
              "      <th>size</th>\n",
              "      <th>floor</th>\n",
              "      <th>type</th>\n",
              "      <th>price</th>\n",
              "      <th>built_year</th>\n",
              "      <th>years</th>\n",
              "      <th>size_grade</th>\n",
              "      <th>is_high_price</th>\n",
              "    </tr>\n",
              "  </thead>\n",
              "  <tbody>\n",
              "    <tr>\n",
              "      <th>0</th>\n",
              "      <td>1153010200107400029</td>\n",
              "      <td>36.90</td>\n",
              "      <td>1</td>\n",
              "      <td>2001</td>\n",
              "      <td>105000000</td>\n",
              "      <td>1994</td>\n",
              "      <td>26</td>\n",
              "      <td>S</td>\n",
              "      <td>0</td>\n",
              "    </tr>\n",
              "    <tr>\n",
              "      <th>1</th>\n",
              "      <td>1117011500101930000</td>\n",
              "      <td>59.55</td>\n",
              "      <td>2</td>\n",
              "      <td>2001</td>\n",
              "      <td>830000000</td>\n",
              "      <td>2001</td>\n",
              "      <td>19</td>\n",
              "      <td>S</td>\n",
              "      <td>0</td>\n",
              "    </tr>\n",
              "    <tr>\n",
              "      <th>2</th>\n",
              "      <td>1117011000100020033</td>\n",
              "      <td>73.04</td>\n",
              "      <td>3</td>\n",
              "      <td>2002</td>\n",
              "      <td>400000000</td>\n",
              "      <td>1993</td>\n",
              "      <td>27</td>\n",
              "      <td>M</td>\n",
              "      <td>0</td>\n",
              "    </tr>\n",
              "    <tr>\n",
              "      <th>3</th>\n",
              "      <td>1120010400100530000</td>\n",
              "      <td>23.61</td>\n",
              "      <td>10</td>\n",
              "      <td>14202</td>\n",
              "      <td>313000000</td>\n",
              "      <td>2017</td>\n",
              "      <td>3</td>\n",
              "      <td>S</td>\n",
              "      <td>0</td>\n",
              "    </tr>\n",
              "    <tr>\n",
              "      <th>4</th>\n",
              "      <td>1117012900103950000</td>\n",
              "      <td>59.22</td>\n",
              "      <td>4</td>\n",
              "      <td>2001</td>\n",
              "      <td>1050000000</td>\n",
              "      <td>1994</td>\n",
              "      <td>26</td>\n",
              "      <td>S</td>\n",
              "      <td>1</td>\n",
              "    </tr>\n",
              "  </tbody>\n",
              "</table>\n",
              "</div>"
            ],
            "text/plain": [
              "             addr_code   size floor  ... years  size_grade is_high_price\n",
              "0  1153010200107400029  36.90     1  ...    26           S             0\n",
              "1  1117011500101930000  59.55     2  ...    19           S             0\n",
              "2  1117011000100020033  73.04     3  ...    27           M             0\n",
              "3  1120010400100530000  23.61    10  ...     3           S             0\n",
              "4  1117012900103950000  59.22     4  ...    26           S             1\n",
              "\n",
              "[5 rows x 9 columns]"
            ]
          },
          "metadata": {},
          "execution_count": 364
        }
      ]
    },
    {
      "cell_type": "code",
      "metadata": {
        "colab": {
          "base_uri": "https://localhost:8080/"
        },
        "id": "--1djB-UY6Wl",
        "outputId": "30d6c872-4b30-45e5-b9fc-483583d7f6df"
      },
      "source": [
        "df.shape"
      ],
      "execution_count": 365,
      "outputs": [
        {
          "output_type": "execute_result",
          "data": {
            "text/plain": [
              "(136392, 9)"
            ]
          },
          "metadata": {},
          "execution_count": 365
        }
      ]
    },
    {
      "cell_type": "code",
      "metadata": {
        "colab": {
          "base_uri": "https://localhost:8080/",
          "height": 172
        },
        "id": "uTiHu37QY-jB",
        "outputId": "fa24f759-9988-4aad-9782-21542ac8fd83"
      },
      "source": [
        "# 특성과 타겟(price)의 상관관계 보기\n",
        "df.corr()"
      ],
      "execution_count": 366,
      "outputs": [
        {
          "output_type": "execute_result",
          "data": {
            "text/html": [
              "<div>\n",
              "<style scoped>\n",
              "    .dataframe tbody tr th:only-of-type {\n",
              "        vertical-align: middle;\n",
              "    }\n",
              "\n",
              "    .dataframe tbody tr th {\n",
              "        vertical-align: top;\n",
              "    }\n",
              "\n",
              "    .dataframe thead th {\n",
              "        text-align: right;\n",
              "    }\n",
              "</style>\n",
              "<table border=\"1\" class=\"dataframe\">\n",
              "  <thead>\n",
              "    <tr style=\"text-align: right;\">\n",
              "      <th></th>\n",
              "      <th>size</th>\n",
              "      <th>price</th>\n",
              "      <th>years</th>\n",
              "      <th>is_high_price</th>\n",
              "    </tr>\n",
              "  </thead>\n",
              "  <tbody>\n",
              "    <tr>\n",
              "      <th>size</th>\n",
              "      <td>1.000000</td>\n",
              "      <td>0.661793</td>\n",
              "      <td>0.276009</td>\n",
              "      <td>0.343700</td>\n",
              "    </tr>\n",
              "    <tr>\n",
              "      <th>price</th>\n",
              "      <td>0.661793</td>\n",
              "      <td>1.000000</td>\n",
              "      <td>0.048802</td>\n",
              "      <td>0.736738</td>\n",
              "    </tr>\n",
              "    <tr>\n",
              "      <th>years</th>\n",
              "      <td>0.276009</td>\n",
              "      <td>0.048802</td>\n",
              "      <td>1.000000</td>\n",
              "      <td>-0.052729</td>\n",
              "    </tr>\n",
              "    <tr>\n",
              "      <th>is_high_price</th>\n",
              "      <td>0.343700</td>\n",
              "      <td>0.736738</td>\n",
              "      <td>-0.052729</td>\n",
              "      <td>1.000000</td>\n",
              "    </tr>\n",
              "  </tbody>\n",
              "</table>\n",
              "</div>"
            ],
            "text/plain": [
              "                   size     price     years  is_high_price\n",
              "size           1.000000  0.661793  0.276009       0.343700\n",
              "price          0.661793  1.000000  0.048802       0.736738\n",
              "years          0.276009  0.048802  1.000000      -0.052729\n",
              "is_high_price  0.343700  0.736738 -0.052729       1.000000"
            ]
          },
          "metadata": {},
          "execution_count": 366
        }
      ]
    },
    {
      "cell_type": "code",
      "metadata": {
        "colab": {
          "base_uri": "https://localhost:8080/",
          "height": 308
        },
        "id": "IgGG8ukhZFfo",
        "outputId": "063cec62-eb7d-42b5-ff7e-3871568877b3"
      },
      "source": [
        "# 가장 상관관계가 높은 size와 타겟(price)의 관계 시각화해보기\n",
        "baseline = df.price.mean() # 기준 모델 : 타겟(price)의 평균값\n",
        "print(baseline)\n",
        "\n",
        "sns.scatterplot(x='size', y='price', data=df)\n",
        "plt.axhline(baseline, color='red'); # 기준 모델 시각화"
      ],
      "execution_count": 367,
      "outputs": [
        {
          "output_type": "stream",
          "name": "stdout",
          "text": [
            "470946234.08997595\n"
          ]
        },
        {
          "output_type": "display_data",
          "data": {
            "image/png": "[encoded data removed]",
            "text/plain": [
              "<Figure size 432x288 with 1 Axes>"
            ]
          },
          "metadata": {
            "needs_background": "light"
          }
        }
      ]
    },
    {
      "cell_type": "code",
      "metadata": {
        "colab": {
          "base_uri": "https://localhost:8080/",
          "height": 279
        },
        "id": "R2dXPVJD4ONq",
        "outputId": "0d9fcd2a-e38e-4439-fdd1-d972021cc3fd"
      },
      "source": [
        "# 타겟(price)의 분포 확인해보기\n",
        "sns.histplot(df.price, kde=False);\n",
        "plt.axvline(baseline, color='red'); # 기준 모델 시각화\n",
        "# price는 right-skewed이므로 로그 변환이 필요"
      ],
      "execution_count": 368,
      "outputs": [
        {
          "output_type": "display_data",
          "data": {
            "image/png": "[encoded data removed]",
            "text/plain": [
              "<Figure size 432x288 with 1 Axes>"
            ]
          },
          "metadata": {
            "needs_background": "light"
          }
        }
      ]
    },
    {
      "cell_type": "code",
      "metadata": {
        "colab": {
          "base_uri": "https://localhost:8080/"
        },
        "id": "6vRfwh3db7gh",
        "outputId": "61dbc547-a1e6-4807-bcb1-8fb6c903c1bb"
      },
      "source": [
        "# 기준 성능(회귀)\n",
        "errors = baseline - df.price\n",
        "baseline_mae = errors.abs().mean()\n",
        "baseline_mae"
      ],
      "execution_count": 369,
      "outputs": [
        {
          "output_type": "execute_result",
          "data": {
            "text/plain": [
              "254535177.4446938"
            ]
          },
          "metadata": {},
          "execution_count": 369
        }
      ]
    },
    {
      "cell_type": "code",
      "metadata": {
        "colab": {
          "base_uri": "https://localhost:8080/",
          "height": 333
        },
        "id": "THHcsSEI3sfn",
        "outputId": "3a995aa2-bfff-4c2e-8f7b-2b4410d3d1d9"
      },
      "source": [
        "# 타겟(is_high_price)의 클래스 비율 확인해보기 - 기준 성능(분류)\n",
        "sns.countplot(x=df.is_high_price);\n",
        "df.is_high_price.value_counts(normalize=True)\n",
        "# is_high_price는 클래스 비율이 불균형하므로 학습 시 class_weight 관련 설정이 필요"
      ],
      "execution_count": 370,
      "outputs": [
        {
          "output_type": "execute_result",
          "data": {
            "text/plain": [
              "0    0.895478\n",
              "1    0.104522\n",
              "Name: is_high_price, dtype: float64"
            ]
          },
          "metadata": {},
          "execution_count": 370
        },
        {
          "output_type": "display_data",
          "data": {
            "image/png": "[encoded data removed]",
            "text/plain": [
              "<Figure size 432x288 with 1 Axes>"
            ]
          },
          "metadata": {
            "needs_background": "light"
          }
        }
      ]
    },
    {
      "cell_type": "code",
      "metadata": {
        "colab": {
          "base_uri": "https://localhost:8080/"
        },
        "id": "gEqIwTTgmTGx",
        "outputId": "596ebb4f-5b80-4314-d58f-b827646c0b6d"
      },
      "source": [
        "# 물건가격 예측은 회귀, 고가주택여부는 분류\n",
        "# 회귀 : 릿지 회귀, 결정 트리, 랜덤 포레스트\n",
        "# 분류 : 로지스틱 회귀, 결정 트리, 랜덤 포레스트\n",
        "\n",
        "# 훈련 / 검증 / 테스트 셋으로 분리\n",
        "train, test = train_test_split(df, test_size=0.30, random_state=2)\n",
        "train, val = train_test_split(train, test_size=0.30, random_state=2)\n",
        "\n",
        "train.shape, val.shape, test.shape"
      ],
      "execution_count": 371,
      "outputs": [
        {
          "output_type": "execute_result",
          "data": {
            "text/plain": [
              "((66831, 9), (28643, 9), (40918, 9))"
            ]
          },
          "metadata": {},
          "execution_count": 371
        }
      ]
    },
    {
      "cell_type": "code",
      "metadata": {
        "colab": {
          "base_uri": "https://localhost:8080/",
          "height": 203
        },
        "id": "Gn5rHwp-mnZ8",
        "outputId": "f4ce3851-a1a5-4868-bd40-aa2aacd9ef0f"
      },
      "source": [
        "# 특성과 타겟 분리하기\n",
        "target_cl = 'is_high_price' # 분류 문제 타겟\n",
        "targets = [target, target_cl]\n",
        "features = train.drop(columns=targets).columns\n",
        "\n",
        "X_train = train[features]\n",
        "y_train = train[target]\n",
        "y_train_cl = train[target_cl]\n",
        "X_val = val[features]\n",
        "y_val = val[target]\n",
        "y_val_cl = val[target_cl]\n",
        "X_test = test[features]\n",
        "y_test = test[target]\n",
        "y_test_cl = test[target_cl]\n",
        "\n",
        "X_train.head()"
      ],
      "execution_count": 372,
      "outputs": [
        {
          "output_type": "execute_result",
          "data": {
            "text/html": [
              "<div>\n",
              "<style scoped>\n",
              "    .dataframe tbody tr th:only-of-type {\n",
              "        vertical-align: middle;\n",
              "    }\n",
              "\n",
              "    .dataframe tbody tr th {\n",
              "        vertical-align: top;\n",
              "    }\n",
              "\n",
              "    .dataframe thead th {\n",
              "        text-align: right;\n",
              "    }\n",
              "</style>\n",
              "<table border=\"1\" class=\"dataframe\">\n",
              "  <thead>\n",
              "    <tr style=\"text-align: right;\">\n",
              "      <th></th>\n",
              "      <th>addr_code</th>\n",
              "      <th>size</th>\n",
              "      <th>floor</th>\n",
              "      <th>type</th>\n",
              "      <th>built_year</th>\n",
              "      <th>years</th>\n",
              "      <th>size_grade</th>\n",
              "    </tr>\n",
              "  </thead>\n",
              "  <tbody>\n",
              "    <tr>\n",
              "      <th>127762</th>\n",
              "      <td>1121510500107620000</td>\n",
              "      <td>84.60</td>\n",
              "      <td>1</td>\n",
              "      <td>2001</td>\n",
              "      <td>1996</td>\n",
              "      <td>24</td>\n",
              "      <td>M</td>\n",
              "    </tr>\n",
              "    <tr>\n",
              "      <th>44709</th>\n",
              "      <td>1120010700103040007</td>\n",
              "      <td>57.31</td>\n",
              "      <td>4</td>\n",
              "      <td>2002</td>\n",
              "      <td>1994</td>\n",
              "      <td>26</td>\n",
              "      <td>S</td>\n",
              "    </tr>\n",
              "    <tr>\n",
              "      <th>75903</th>\n",
              "      <td>1135010600105120000</td>\n",
              "      <td>59.26</td>\n",
              "      <td>9</td>\n",
              "      <td>2001</td>\n",
              "      <td>1991</td>\n",
              "      <td>29</td>\n",
              "      <td>S</td>\n",
              "    </tr>\n",
              "    <tr>\n",
              "      <th>55311</th>\n",
              "      <td>1129013600100901817</td>\n",
              "      <td>26.25</td>\n",
              "      <td>7</td>\n",
              "      <td>2002</td>\n",
              "      <td>2019</td>\n",
              "      <td>1</td>\n",
              "      <td>S</td>\n",
              "    </tr>\n",
              "    <tr>\n",
              "      <th>88322</th>\n",
              "      <td>1138010700100970003</td>\n",
              "      <td>84.84</td>\n",
              "      <td>4</td>\n",
              "      <td>2001</td>\n",
              "      <td>2004</td>\n",
              "      <td>16</td>\n",
              "      <td>M</td>\n",
              "    </tr>\n",
              "  </tbody>\n",
              "</table>\n",
              "</div>"
            ],
            "text/plain": [
              "                  addr_code   size floor  type built_year  years size_grade\n",
              "127762  1121510500107620000  84.60     1  2001       1996     24          M\n",
              "44709   1120010700103040007  57.31     4  2002       1994     26          S\n",
              "75903   1135010600105120000  59.26     9  2001       1991     29          S\n",
              "55311   1129013600100901817  26.25     7  2002       2019      1          S\n",
              "88322   1138010700100970003  84.84     4  2001       2004     16          M"
            ]
          },
          "metadata": {},
          "execution_count": 372
        }
      ]
    },
    {
      "cell_type": "code",
      "metadata": {
        "id": "5HC11z-F5CTA",
        "outputId": "cc88b30a-b429-4187-90aa-d9d43b430d03",
        "colab": {
          "base_uri": "https://localhost:8080/"
        }
      },
      "source": [
        "# 1. 회귀\n",
        "# 1-1. 릿지 회귀\n",
        "alphas = [0, 0.001, 0.01, 0.1, 1]\n",
        "\n",
        "# addr_code, type, built_year 셋은 TargetEncoder\n",
        "tge_col = ['addr_code', 'type', 'built_year']\n",
        "# floor, size_grade 둘은 OrdinalEncoder\n",
        "ord_col = ['floor', 'size_grade']\n",
        "\n",
        "pipe_ridge = make_pipeline(\n",
        "    TargetEncoder(cols=tge_col),\n",
        "    OrdinalEncoder(cols=ord_col),\n",
        "    StandardScaler(),    # 각 특성별 스케일을 통일시켜줌\n",
        "    RidgeCV(alphas=alphas, cv=5)\n",
        ")\n",
        "\n",
        "tt_ridge = TransformedTargetRegressor(regressor=pipe_ridge,\n",
        "                                func=np.log1p, inverse_func=np.expm1)\n",
        "\n",
        "tt_ridge.fit(X_train, y_train)\n",
        "print('훈련 정확도: ', tt_ridge.score(X_train, y_train))\n",
        "print('검증 정확도: ', tt_ridge.score(X_val, y_val))\n",
        "\n",
        "y_pred_ridge = tt_ridge.predict(X_test)\n",
        "\n",
        "mae_ridge = mean_absolute_error(y_test, y_pred_ridge)\n",
        "r2_ridge = r2_score(y_test, y_pred_ridge)\n",
        "print(f'Test MAE: {mae_ridge:,.0f}')\n",
        "print(f'R2 Score: {r2_ridge:,.4f}\\n')\n",
        "\n",
        "print(f'alpha: {tt_ridge.regressor_.named_steps.ridgecv.alpha_}')"
      ],
      "execution_count": 373,
      "outputs": [
        {
          "output_type": "stream",
          "name": "stdout",
          "text": [
            "훈련 정확도:  0.8348217194248839\n",
            "검증 정확도:  0.7971220220172555\n",
            "Test MAE: 91,176,557\n",
            "R2 Score: 0.8039\n",
            "\n",
            "alpha: 1.0\n"
          ]
        }
      ]
    },
    {
      "cell_type": "code",
      "metadata": {
        "id": "mPJS_3gk-UwG",
        "outputId": "97be04bc-1648-4e90-cee8-5e3c71eaec82",
        "colab": {
          "base_uri": "https://localhost:8080/"
        }
      },
      "source": [
        "# 1-2. 결정 트리\n",
        "pipe_dt = make_pipeline(\n",
        "    TargetEncoder(cols=tge_col),\n",
        "    OrdinalEncoder(cols=ord_col),\n",
        "    DecisionTreeRegressor(random_state=2)\n",
        ")\n",
        "\n",
        "tt_dt = TransformedTargetRegressor(regressor=pipe_dt,\n",
        "                                func=np.log1p, inverse_func=np.expm1)\n",
        "\n",
        "tt_dt.fit(X_train, y_train)\n",
        "print('훈련 정확도: ', tt_dt.score(X_train, y_train))\n",
        "print('검증 정확도: ', tt_dt.score(X_val, y_val))\n",
        "\n",
        "y_pred_dt = tt_dt.predict(X_test)\n",
        "\n",
        "mae_dt = mean_absolute_error(y_test, y_pred_dt)\n",
        "r2_dt = r2_score(y_test, y_pred_dt)\n",
        "print(f'Test MAE: {mae_dt:,.0f}')\n",
        "print(f'R2 Score: {r2_dt:,.4f}\\n')"
      ],
      "execution_count": 374,
      "outputs": [
        {
          "output_type": "stream",
          "name": "stdout",
          "text": [
            "훈련 정확도:  0.9947084133632611\n",
            "검증 정확도:  0.7733708605250275\n",
            "Test MAE: 81,945,267\n",
            "R2 Score: 0.7779\n",
            "\n"
          ]
        }
      ]
    },
    {
      "cell_type": "code",
      "metadata": {
        "id": "5wtm4oIW-dsn",
        "outputId": "650bd470-2e14-4d8e-f615-8e9861e3782a",
        "colab": {
          "base_uri": "https://localhost:8080/"
        }
      },
      "source": [
        "# 과적합 줄이기 및 최적화\n",
        "dists = {\n",
        "    'decisiontreeregressor__splitter': ['best', 'random'],\n",
        "    'decisiontreeregressor__max_depth': [5, 10, 15, 20, None],\n",
        "    'decisiontreeregressor__min_samples_split': randint(2, 50),\n",
        "    'decisiontreeregressor__min_samples_leaf': randint(1, 50),\n",
        "    'decisiontreeregressor__max_features': uniform(0, 1)\n",
        "}\n",
        "\n",
        "clf = RandomizedSearchCV(\n",
        "    pipe_dt, \n",
        "    param_distributions=dists, \n",
        "    n_iter=50, \n",
        "    cv=3, \n",
        "    scoring='r2',  \n",
        "    verbose=1,\n",
        "    n_jobs=-1\n",
        ")\n",
        "\n",
        "clf.fit(X_train, y_train);"
      ],
      "execution_count": 375,
      "outputs": [
        {
          "output_type": "stream",
          "name": "stdout",
          "text": [
            "Fitting 3 folds for each of 50 candidates, totalling 150 fits\n"
          ]
        },
        {
          "output_type": "stream",
          "name": "stderr",
          "text": [
            "[Parallel(n_jobs=-1)]: Using backend LokyBackend with 2 concurrent workers.\n",
            "[Parallel(n_jobs=-1)]: Done  46 tasks      | elapsed:   16.5s\n",
            "[Parallel(n_jobs=-1)]: Done 150 out of 150 | elapsed:   51.3s finished\n"
          ]
        }
      ]
    },
    {
      "cell_type": "code",
      "metadata": {
        "id": "HXzzkT2V-gUn",
        "outputId": "b4d6a8c6-ce37-47bc-c588-de8134907d25",
        "colab": {
          "base_uri": "https://localhost:8080/"
        }
      },
      "source": [
        "tt_dt_opt = TransformedTargetRegressor(regressor=clf.best_estimator_,\n",
        "                                func=np.log1p, inverse_func=np.expm1)\n",
        "\n",
        "tt_dt_opt.fit(X_train, y_train)\n",
        "print('훈련 정확도: ', tt_dt_opt.score(X_train, y_train))\n",
        "print('검증 정확도: ', tt_dt_opt.score(X_val, y_val))\n",
        "\n",
        "y_pred_dt_opt = tt_dt_opt.predict(X_test)\n",
        "\n",
        "mae_dt_opt = mean_absolute_error(y_test, y_pred_dt_opt)\n",
        "r2_dt_opt = r2_score(y_test, y_pred_dt_opt)\n",
        "print(f'Test MAE: {mae_dt_opt:,.0f}')\n",
        "print(f'R2 Score: {r2_dt_opt:,.4f}\\n')"
      ],
      "execution_count": 376,
      "outputs": [
        {
          "output_type": "stream",
          "name": "stdout",
          "text": [
            "훈련 정확도:  0.897963334751598\n",
            "검증 정확도:  0.8532571137838542\n",
            "Test MAE: 70,480,578\n",
            "R2 Score: 0.8565\n",
            "\n"
          ]
        }
      ]
    },
    {
      "cell_type": "code",
      "metadata": {
        "id": "3VEhWNd--08M",
        "outputId": "2059b171-fea5-4b94-9b0f-cd8bde0a766b",
        "colab": {
          "base_uri": "https://localhost:8080/"
        }
      },
      "source": [
        "# 1-3. 랜덤 포레스트\n",
        "pipe_rf = make_pipeline(\n",
        "    TargetEncoder(cols=tge_col),\n",
        "    OrdinalEncoder(cols=ord_col),\n",
        "    RandomForestRegressor(n_jobs=-1, random_state=2)\n",
        ")\n",
        "\n",
        "tt_rf = TransformedTargetRegressor(regressor=pipe_rf,\n",
        "                                func=np.log1p, inverse_func=np.expm1)\n",
        "\n",
        "tt_rf.fit(X_train, y_train)\n",
        "print('훈련 정확도: ', tt_rf.score(X_train, y_train))\n",
        "print('검증 정확도: ', tt_rf.score(X_val, y_val))\n",
        "\n",
        "y_pred_rf = tt_rf.predict(X_test)\n",
        "\n",
        "mae_rf = mean_absolute_error(y_test, y_pred_rf)\n",
        "r2_rf = r2_score(y_test, y_pred_rf)\n",
        "print(f'Test MAE: {mae_rf:,.0f}')\n",
        "print(f'R2 Score: {r2_rf:,.4f}')"
      ],
      "execution_count": 377,
      "outputs": [
        {
          "output_type": "stream",
          "name": "stdout",
          "text": [
            "훈련 정확도:  0.9761256500745134\n",
            "검증 정확도:  0.8723149013016995\n",
            "Test MAE: 64,650,362\n",
            "R2 Score: 0.8737\n"
          ]
        }
      ]
    },
    {
      "cell_type": "code",
      "metadata": {
        "id": "OQnrhkGi-_Od",
        "outputId": "13aea3f7-a4ae-4a9d-9868-93f029281e53",
        "colab": {
          "base_uri": "https://localhost:8080/"
        }
      },
      "source": [
        "# 과적합 줄이기 및 최적화\n",
        "dists_rf = {\n",
        "    'randomforestregressor__n_estimators': randint(50, 500),\n",
        "    'randomforestregressor__max_depth': [5, 10, 15, 20, None],\n",
        "    'randomforestregressor__min_samples_split': randint(2, 50),\n",
        "    'randomforestregressor__min_samples_leaf': randint(1, 50),\n",
        "    'randomforestregressor__max_features': uniform(0, 1)\n",
        "}\n",
        "\n",
        "clf_rf = RandomizedSearchCV(\n",
        "    pipe_rf, \n",
        "    param_distributions=dists_rf, \n",
        "    n_iter=30, \n",
        "    cv=3, \n",
        "    scoring='r2',  \n",
        "    verbose=1,\n",
        "    n_jobs=-1\n",
        ")\n",
        "\n",
        "clf_rf.fit(X_train, y_train);"
      ],
      "execution_count": 378,
      "outputs": [
        {
          "output_type": "stream",
          "name": "stdout",
          "text": [
            "Fitting 3 folds for each of 30 candidates, totalling 90 fits\n"
          ]
        },
        {
          "output_type": "stream",
          "name": "stderr",
          "text": [
            "[Parallel(n_jobs=-1)]: Using backend LokyBackend with 2 concurrent workers.\n",
            "[Parallel(n_jobs=-1)]: Done  46 tasks      | elapsed:  5.4min\n",
            "[Parallel(n_jobs=-1)]: Done  90 out of  90 | elapsed: 12.3min finished\n"
          ]
        }
      ]
    },
    {
      "cell_type": "code",
      "metadata": {
        "id": "TJWBRdad_BuY",
        "outputId": "30085c69-4973-4390-eef1-0ebf3290daa9",
        "colab": {
          "base_uri": "https://localhost:8080/"
        }
      },
      "source": [
        "tt_rf_opt = TransformedTargetRegressor(regressor=clf_rf.best_estimator_,\n",
        "                                func=np.log1p, inverse_func=np.expm1)\n",
        "\n",
        "tt_rf_opt.fit(X_train, y_train)\n",
        "print('훈련 정확도: ', tt_rf_opt.score(X_train, y_train))\n",
        "print('검증 정확도: ', tt_rf_opt.score(X_val, y_val))\n",
        "\n",
        "y_pred_rf_opt = tt_rf_opt.predict(X_test)\n",
        "\n",
        "mae_rf_opt = mean_absolute_error(y_test, y_pred_rf_opt)\n",
        "r2_rf_opt = r2_score(y_test, y_pred_rf_opt)\n",
        "print(f'Test MAE: {mae_rf_opt:,.0f}')\n",
        "print(f'R2 Score: {r2_rf_opt:,.4f}')"
      ],
      "execution_count": 379,
      "outputs": [
        {
          "output_type": "stream",
          "name": "stdout",
          "text": [
            "훈련 정확도:  0.9126343271715758\n",
            "검증 정확도:  0.8693916751147276\n",
            "Test MAE: 65,413,259\n",
            "R2 Score: 0.8716\n"
          ]
        }
      ]
    },
    {
      "cell_type": "code",
      "metadata": {
        "id": "0fSa-vHPATSY",
        "outputId": "b52ff47d-6d67-41a2-a093-d726121a9a12",
        "colab": {
          "base_uri": "https://localhost:8080/"
        }
      },
      "source": [
        "# 2. 분류\n",
        "# 2-1. 로지스틱 회귀\n",
        "\n",
        "# class weights 계산\n",
        "# n_samples / (n_classes * np.bincount(y))\n",
        "custom = len(y_train_cl)/(2*np.bincount(y_train_cl))\n",
        "\n",
        "pipe_logis = make_pipeline(\n",
        "    TargetEncoder(cols=tge_col),\n",
        "    OrdinalEncoder(cols=ord_col),\n",
        "    StandardScaler(),    # 각 특성별 스케일을 통일시켜줌\n",
        "    LogisticRegression(class_weight={False:custom[0],True:custom[1]}, random_state=2)\n",
        ")\n",
        "\n",
        "pipe_logis.fit(X_train, y_train_cl)\n",
        "print('훈련 정확도: ', pipe_logis.score(X_train, y_train_cl))\n",
        "print('검증 정확도: ', pipe_logis.score(X_val, y_val_cl))\n",
        "\n",
        "y_pred_logis = pipe_logis.predict(X_test)\n",
        "\n",
        "f1_logis = f1_score(y_test_cl, y_pred_logis)\n",
        "print(f'Test F1: {f1_logis}')"
      ],
      "execution_count": 380,
      "outputs": [
        {
          "output_type": "stream",
          "name": "stdout",
          "text": [
            "훈련 정확도:  0.9607816731756221\n",
            "검증 정확도:  0.9505289250427679\n",
            "Test F1: 0.7885273972602739\n"
          ]
        }
      ]
    },
    {
      "cell_type": "code",
      "metadata": {
        "id": "UbDwzmY8HInB",
        "outputId": "e12c9ac1-262b-4502-f7e5-c344d75cfe58",
        "colab": {
          "base_uri": "https://localhost:8080/",
          "height": 724
        }
      },
      "source": [
        "### 분류 문제 평가 함수\n",
        "def clf_eval(model):\n",
        "  fig, ax = plt.subplots(1, 2, figsize=(16, 8))\n",
        "  pcm = plot_confusion_matrix(model, X_val, y_val_cl,\n",
        "                              cmap=plt.cm.Blues,\n",
        "                              ax=ax[0]);\n",
        "  plt.title(f'Confusion matrix, n = {len(y_val_cl)}', fontsize=15)\n",
        "\n",
        "  y_val_pred_logis = model.predict(X_val)\n",
        "  print(classification_report(y_val_cl, y_val_pred_logis))\n",
        "\n",
        "  y_val_pred_proba = model.predict_proba(X_val)[:, -1]\n",
        "  print('AUC score: ', roc_auc_score(y_val_cl, y_val_pred_proba))\n",
        "  fpr, tpr, thresholds = roc_curve(y_val_cl, y_val_pred_proba)\n",
        "  plt.scatter(fpr, tpr, color='blue')\n",
        "  plt.plot(fpr, tpr, color='green')\n",
        "  plt.title('ROC curve')\n",
        "  plt.xlabel('FPR')\n",
        "  plt.ylabel('TPR')\n",
        "\n",
        "  # threshold 최대값의 인덱스, np.argmax()\n",
        "  optimal_idx = np.argmax(tpr - fpr) # 재현율은 최대로, 위양성률은 최소로 하는 데이터의 인덱스 값 찾기\n",
        "  optimal_threshold = thresholds[optimal_idx] # 해당 값의 임계값 가져오기\n",
        "\n",
        "  print('idx:', optimal_idx, ', threshold:', optimal_threshold)\n",
        "\n",
        "  # 최적 임계값 적용\n",
        "  y_pred_proba_logis = model.predict_proba(X_test)[:, 1] # 타겟이 1(True)일 확률 가져오기\n",
        "  y_pred_logis = y_pred_proba_logis > optimal_threshold\n",
        "\n",
        "  f1_logis = f1_score(y_test_cl, y_pred_logis)\n",
        "  print(f'Test F1: {f1_logis}')\n",
        "\n",
        "clf_eval(pipe_logis)\n",
        "# 임계값 적용했는데 점수가 떨어졌다?"
      ],
      "execution_count": 385,
      "outputs": [
        {
          "output_type": "stream",
          "name": "stdout",
          "text": [
            "              precision    recall  f1-score   support\n",
            "\n",
            "           0       0.98      0.96      0.97     25743\n",
            "           1       0.72      0.84      0.77      2900\n",
            "\n",
            "    accuracy                           0.95     28643\n",
            "   macro avg       0.85      0.90      0.87     28643\n",
            "weighted avg       0.96      0.95      0.95     28643\n",
            "\n",
            "AUC score:  0.9714693180737448\n",
            "idx: 1548 , threshold: 0.2976434142577524\n",
            "Test F1: 0.7222272603609323\n"
          ]
        },
        {
          "output_type": "display_data",
          "data": {
            "image/png": "[encoded data removed]",
            "text/plain": [
              "<Figure size 1152x576 with 3 Axes>"
            ]
          },
          "metadata": {
            "needs_background": "light"
          }
        }
      ]
    },
    {
      "cell_type": "code",
      "metadata": {
        "id": "UH_jRRQ-KLgq",
        "outputId": "b99d440f-bcf2-42cb-b35f-4855e95ce2ab",
        "colab": {
          "base_uri": "https://localhost:8080/"
        }
      },
      "source": [
        "# 2-2. 결정 트리\n",
        "\n",
        "pipe_dt = make_pipeline(\n",
        "    TargetEncoder(cols=tge_col),\n",
        "    OrdinalEncoder(cols=ord_col),\n",
        "    DecisionTreeClassifier(class_weight={False:custom[0],True:custom[1]}, random_state=2)\n",
        ")\n",
        "\n",
        "pipe_dt.fit(X_train, y_train_cl)\n",
        "print('훈련 정확도: ', pipe_dt.score(X_train, y_train_cl))\n",
        "print('검증 정확도: ', pipe_dt.score(X_val, y_val_cl))\n",
        "\n",
        "y_pred_dt = pipe_dt.predict(X_test)\n",
        "\n",
        "f1_dt = f1_score(y_test_cl, y_pred_dt)\n",
        "print(f'Test F1: {f1_dt}')"
      ],
      "execution_count": 395,
      "outputs": [
        {
          "output_type": "stream",
          "name": "stdout",
          "text": [
            "훈련 정확도:  0.9947030569645823\n",
            "검증 정확도:  0.9555563313898684\n",
            "Test F1: 0.7977736549165121\n"
          ]
        }
      ]
    },
    {
      "cell_type": "code",
      "metadata": {
        "id": "lo6ctK1bKpgi",
        "outputId": "12c86076-0d58-4852-9750-540a7ae70990",
        "colab": {
          "base_uri": "https://localhost:8080/"
        }
      },
      "source": [
        "# 과적합 줄이기 및 최적화\n",
        "dists = {\n",
        "    'decisiontreeclassifier__splitter': ['best', 'random'],\n",
        "    'decisiontreeclassifier__max_depth': [5, 10, 15, 20, None],\n",
        "    'decisiontreeclassifier__min_samples_split': randint(2, 50),\n",
        "    'decisiontreeclassifier__min_samples_leaf': randint(1, 50),\n",
        "    'decisiontreeclassifier__max_features': uniform(0, 1)\n",
        "}\n",
        "\n",
        "clf = RandomizedSearchCV(\n",
        "    pipe_dt, \n",
        "    param_distributions=dists, \n",
        "    n_iter=30, \n",
        "    cv=3, \n",
        "    scoring='f1',  \n",
        "    verbose=1,\n",
        "    n_jobs=-1\n",
        ")\n",
        "\n",
        "clf.fit(X_train, y_train_cl);\n",
        "\n",
        "print('최적 하이퍼파라미터: ', clf.best_params_)\n",
        "print('f1: ', clf.best_score_)\n",
        "\n",
        "pipe_dt = clf.best_estimator_"
      ],
      "execution_count": 396,
      "outputs": [
        {
          "output_type": "stream",
          "name": "stdout",
          "text": [
            "Fitting 3 folds for each of 30 candidates, totalling 90 fits\n"
          ]
        },
        {
          "output_type": "stream",
          "name": "stderr",
          "text": [
            "[Parallel(n_jobs=-1)]: Using backend LokyBackend with 2 concurrent workers.\n",
            "[Parallel(n_jobs=-1)]: Done  46 tasks      | elapsed:   16.0s\n",
            "[Parallel(n_jobs=-1)]: Done  90 out of  90 | elapsed:   30.8s finished\n"
          ]
        },
        {
          "output_type": "stream",
          "name": "stdout",
          "text": [
            "최적 하이퍼파라미터:  {'decisiontreeclassifier__max_depth': 5, 'decisiontreeclassifier__max_features': 0.5881260804829027, 'decisiontreeclassifier__min_samples_leaf': 21, 'decisiontreeclassifier__min_samples_split': 23, 'decisiontreeclassifier__splitter': 'random'}\n",
            "f1:  0.7615540828139863\n"
          ]
        }
      ]
    },
    {
      "cell_type": "code",
      "metadata": {
        "id": "cTzHhDN_K8DC",
        "outputId": "cc24f940-f80f-4a25-ea0a-25c452d1b4ba",
        "colab": {
          "base_uri": "https://localhost:8080/",
          "height": 724
        }
      },
      "source": [
        "clf_eval(pipe_dt)\n",
        "# 임계값 적용하니 점수 향상됨"
      ],
      "execution_count": 389,
      "outputs": [
        {
          "output_type": "stream",
          "name": "stdout",
          "text": [
            "              precision    recall  f1-score   support\n",
            "\n",
            "           0       0.98      0.96      0.97     25743\n",
            "           1       0.70      0.83      0.76      2900\n",
            "\n",
            "    accuracy                           0.95     28643\n",
            "   macro avg       0.84      0.90      0.86     28643\n",
            "weighted avg       0.95      0.95      0.95     28643\n",
            "\n",
            "AUC score:  0.9425901986077233\n",
            "idx: 24 , threshold: 0.4270808346101279\n",
            "Test F1: 0.7739259889408763\n"
          ]
        },
        {
          "output_type": "display_data",
          "data": {
            "image/png": "[encoded data removed]",
            "text/plain": [
              "<Figure size 1152x576 with 3 Axes>"
            ]
          },
          "metadata": {
            "needs_background": "light"
          }
        }
      ]
    },
    {
      "cell_type": "code",
      "metadata": {
        "id": "6vfVoF1MQA89",
        "outputId": "2c585916-a6e9-48a8-a8d5-434ed3f6233e",
        "colab": {
          "base_uri": "https://localhost:8080/"
        }
      },
      "source": [
        "# 2-3. 랜덤 포레스트\n",
        "pipe_rf = make_pipeline(\n",
        "    TargetEncoder(cols=tge_col),\n",
        "    OrdinalEncoder(cols=ord_col),\n",
        "    RandomForestClassifier(n_jobs=-1, random_state=2)\n",
        ")\n",
        "\n",
        "pipe_rf.fit(X_train, y_train_cl)\n",
        "print('훈련 정확도: ', pipe_rf.score(X_train, y_train_cl))\n",
        "print('검증 정확도: ', pipe_rf.score(X_val, y_val_cl))\n",
        "\n",
        "y_pred_rf = pipe_rf.predict(X_test)\n",
        "\n",
        "f1_rf = f1_score(y_test_cl, y_pred_rf)\n",
        "print(f'Test F1: {f1_rf}')"
      ],
      "execution_count": 390,
      "outputs": [
        {
          "output_type": "stream",
          "name": "stdout",
          "text": [
            "훈련 정확도:  0.9956457332674956\n",
            "검증 정확도:  0.9650874559229131\n",
            "Test F1: 0.821795336474568\n"
          ]
        }
      ]
    },
    {
      "cell_type": "code",
      "metadata": {
        "id": "d6dR8a0OQV6b",
        "outputId": "5a8f9367-c4a7-48ab-d481-a695e00709da",
        "colab": {
          "base_uri": "https://localhost:8080/"
        }
      },
      "source": [
        "# 과적합 줄이기 및 최적화\n",
        "dists_rf = {\n",
        "    'randomforestclassifier__n_estimators': randint(50, 500),\n",
        "    'randomforestclassifier__max_depth': [5, 10, 15, 20, None],\n",
        "    'randomforestclassifier__min_samples_split': randint(2, 50),\n",
        "    'randomforestclassifier__min_samples_leaf': randint(1, 50),\n",
        "    'randomforestclassifier__max_features': uniform(0, 1)\n",
        "}\n",
        "\n",
        "clf_rf = RandomizedSearchCV(\n",
        "    pipe_rf, \n",
        "    param_distributions=dists_rf, \n",
        "    n_iter=30, \n",
        "    cv=3, \n",
        "    scoring='f1',  \n",
        "    verbose=1,\n",
        "    n_jobs=-1\n",
        ")\n",
        "\n",
        "clf_rf.fit(X_train, y_train_cl);\n",
        "\n",
        "print('최적 하이퍼파라미터: ', clf_rf.best_params_)\n",
        "print('f1: ', clf_rf.best_score_)\n",
        "\n",
        "pipe_rf = clf_rf.best_estimator_"
      ],
      "execution_count": 394,
      "outputs": [
        {
          "output_type": "stream",
          "name": "stdout",
          "text": [
            "최적 하이퍼파라미터:  {'randomforestclassifier__max_depth': 10, 'randomforestclassifier__max_features': 0.618071527646723, 'randomforestclassifier__min_samples_leaf': 13, 'randomforestclassifier__min_samples_split': 5, 'randomforestclassifier__n_estimators': 377}\n",
            "f1:  0.8029220550813653\n"
          ]
        }
      ]
    },
    {
      "cell_type": "code",
      "metadata": {
        "id": "vPmnJRu-Q0oS",
        "outputId": "9bef2490-55ae-4116-c224-f6cdcce4bae1",
        "colab": {
          "base_uri": "https://localhost:8080/",
          "height": 724
        }
      },
      "source": [
        "clf_eval(pipe_rf)\n",
        "# 임계값 적용했는데 점수가 떨어졌다?"
      ],
      "execution_count": 393,
      "outputs": [
        {
          "output_type": "stream",
          "name": "stdout",
          "text": [
            "              precision    recall  f1-score   support\n",
            "\n",
            "           0       0.97      0.99      0.98     25743\n",
            "           1       0.87      0.77      0.82      2900\n",
            "\n",
            "    accuracy                           0.97     28643\n",
            "   macro avg       0.92      0.88      0.90     28643\n",
            "weighted avg       0.96      0.97      0.96     28643\n",
            "\n",
            "AUC score:  0.9767850182239028\n",
            "idx: 1524 , threshold: 0.09322230929192175\n",
            "Test F1: 0.7414840729147486\n"
          ]
        },
        {
          "output_type": "display_data",
          "data": {
            "image/png": "[encoded data removed]",
            "text/plain": [
              "<Figure size 1152x576 with 3 Axes>"
            ]
          },
          "metadata": {
            "needs_background": "light"
          }
        }
      ]
    }
  ]
}