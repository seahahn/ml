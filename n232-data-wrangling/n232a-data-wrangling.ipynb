{
  "nbformat": 4,
  "nbformat_minor": 0,
  "metadata": {
    "jupytext": {
      "cell_metadata_filter": "-all",
      "main_language": "python",
      "notebook_metadata_filter": "-all"
    },
    "kernelspec": {
      "display_name": "Python 3",
      "language": "python",
      "name": "python3"
    },
    "language_info": {
      "codemirror_mode": {
        "name": "ipython",
        "version": 3
      },
      "file_extension": ".py",
      "mimetype": "text/x-python",
      "name": "python",
      "nbconvert_exporter": "python",
      "pygments_lexer": "ipython3",
      "version": "3.7.7"
    },
    "colab": {
      "name": "n232a-data-wrangling.ipynb",
      "provenance": []
    }
  },
  "cells": [
    {
      "cell_type": "markdown",
      "metadata": {
        "id": "8AzSZeiBG1DS"
      },
      "source": [
        "<img align=\"right\" src=\"https://ds-cs-images.s3.ap-northeast-2.amazonaws.com/Codestates_Fulllogo_Color.png\" width=100>\n",
        "\n",
        "## *AIB / SECTION 2 / SPRINT 3 / NOTE 2*\n",
        "\n",
        "# 📝 Assignment\n",
        "---\n",
        "# Data Wrangling\n"
      ]
    },
    {
      "cell_type": "markdown",
      "metadata": {
        "id": "Vn1jKcU2G1DV"
      },
      "source": [
        "### 1) 지속적으로 여러분의 포트폴리오 데이터를 랭글링 하세요\n",
        "- 여러분이 선택한 데이터들을 랭글링하여 모델을 만들기 위한 테이블 형태의 데이터로 만들어 보세요.\n",
        "- **다음 함수의 result를 완성시키고 리턴값을 제출하세요.**"
      ]
    },
    {
      "cell_type": "code",
      "metadata": {
        "id": "Jj2RgUFfG1DW"
      },
      "source": [
        "# ### 이곳에서 제출폼 과제를 진행해 주세요 ###\n",
        "# import pandas as pd\n",
        "# df = pd.read_csv(\"https://ds-lecture-data.s3.ap-northeast-2.amazonaws.com/assignments/purchase_data.csv\", sep=\",\",index_col=0)\n",
        "\n",
        "# ## 다음 result 함수 안에 male, female 변수를 계산하세요.(groupby, get_group을 사용하세요.)\n",
        "# ## sum_male: Age = 20, Gender = \"Male\" 그룹의 Price를 합하세요.\n",
        "# ## sum_female: Age = 20, Gender = \"Female\" 그룹의 Price를 합하세요.\n",
        "\n",
        "# def result(df):\n",
        "\n",
        "#     sum_male = df[df.Age == 20].groupby('Gender')['Price'].sum().loc['Male']\n",
        "#     sum_female = df[df.Age == 20].groupby('Gender')['Price'].sum().loc['Female']\n",
        "\n",
        "#     print(\"sum_male: {}, sum_female: {}\".format(sum_male, sum_female))\n",
        "#     return round(sum_male + sum_female)\n",
        "\n",
        "# result(df)"
      ],
      "execution_count": 93,
      "outputs": []
    },
    {
      "cell_type": "code",
      "metadata": {
        "id": "ExXRoIvxG1DX"
      },
      "source": [
        "import pandas as pd\n",
        "import numpy as np\n",
        "import seaborn as sns\n",
        "import matplotlib.pyplot as plt\n",
        "\n",
        "from sklearn.preprocessing import StandardScaler\n",
        "from sklearn.compose import TransformedTargetRegressor\n",
        "\n",
        "from sklearn.linear_model import LinearRegression, RidgeCV\n",
        "from sklearn.tree import DecisionTreeRegressor\n",
        "from sklearn.ensemble import RandomForestRegressor\n",
        "\n",
        "from sklearn.model_selection import train_test_split, RandomizedSearchCV, GridSearchCV\n",
        "from sklearn.pipeline import make_pipeline\n",
        "from sklearn.metrics import mean_absolute_error, r2_score\n",
        "from scipy.stats import randint, uniform"
      ],
      "execution_count": 94,
      "outputs": []
    },
    {
      "cell_type": "code",
      "metadata": {
        "colab": {
          "base_uri": "https://localhost:8080/"
        },
        "id": "fjAqOiBeo2c2",
        "outputId": "53e39177-8755-4a23-f352-50f5f188a140"
      },
      "source": [
        "# 자료 출처 : 서울 열린데이터 광장 - 서울특별시 부동산 실거래가 정보\n",
        "# https://data.seoul.go.kr/dataList/OA-15548/S/1/datasetView.do\n",
        "\n",
        "df = pd.read_csv('https://docs.google.com/uc?export=download&id=1WyeDe2Ry4ohJobcbnQJXHxFEAtcg-CC_', encoding='cp949')\n",
        "\n",
        "# 서울 부동산 물건금액 예측해보기\n",
        "# 1) 가격 예측\n",
        "# 2) 고가 주택(9억 초과)과 고가 주택 아닌 것으로 분류(물건가격으로 특성 만든 후 물건금액 특성 제거를 통해 정보 누수 예방하기)"
      ],
      "execution_count": 95,
      "outputs": [
        {
          "output_type": "stream",
          "name": "stderr",
          "text": [
            "/usr/local/lib/python3.7/dist-packages/IPython/core/interactiveshell.py:2718: DtypeWarning: Columns (1) have mixed types.Specify dtype option on import or set low_memory=False.\n",
            "  interactivity=interactivity, compiler=compiler, result=result)\n"
          ]
        }
      ]
    },
    {
      "cell_type": "code",
      "metadata": {
        "colab": {
          "base_uri": "https://localhost:8080/",
          "height": 304
        },
        "id": "T-sBjjCseGr-",
        "outputId": "5e2234cc-ef3a-4ec1-a3b4-02b6ea1f7123"
      },
      "source": [
        "# 데이터 내용물 간단하게 확인하기\n",
        "df.head()"
      ],
      "execution_count": 96,
      "outputs": [
        {
          "output_type": "execute_result",
          "data": {
            "text/html": [
              "<div>\n",
              "<style scoped>\n",
              "    .dataframe tbody tr th:only-of-type {\n",
              "        vertical-align: middle;\n",
              "    }\n",
              "\n",
              "    .dataframe tbody tr th {\n",
              "        vertical-align: top;\n",
              "    }\n",
              "\n",
              "    .dataframe thead th {\n",
              "        text-align: right;\n",
              "    }\n",
              "</style>\n",
              "<table border=\"1\" class=\"dataframe\">\n",
              "  <thead>\n",
              "    <tr style=\"text-align: right;\">\n",
              "      <th></th>\n",
              "      <th>실거래가아이디</th>\n",
              "      <th>지번코드</th>\n",
              "      <th>시군구코드</th>\n",
              "      <th>자치구명</th>\n",
              "      <th>법정동코드</th>\n",
              "      <th>법정동명</th>\n",
              "      <th>신고년도</th>\n",
              "      <th>업무구분코드</th>\n",
              "      <th>업무구분</th>\n",
              "      <th>물건번호</th>\n",
              "      <th>대지권면적</th>\n",
              "      <th>건물면적</th>\n",
              "      <th>관리구분코드</th>\n",
              "      <th>층정보</th>\n",
              "      <th>건물주용도코드</th>\n",
              "      <th>건물주용도</th>\n",
              "      <th>물건금액</th>\n",
              "      <th>건축년도</th>\n",
              "      <th>건물명</th>\n",
              "    </tr>\n",
              "  </thead>\n",
              "  <tbody>\n",
              "    <tr>\n",
              "      <th>0</th>\n",
              "      <td>11290-2020-4-0000066-1</td>\n",
              "      <td>1129013800101440024</td>\n",
              "      <td>11290</td>\n",
              "      <td>성북구</td>\n",
              "      <td>1129013800</td>\n",
              "      <td>장위동</td>\n",
              "      <td>2020</td>\n",
              "      <td>4</td>\n",
              "      <td>신고</td>\n",
              "      <td>1</td>\n",
              "      <td>0.0</td>\n",
              "      <td>59.92</td>\n",
              "      <td>2</td>\n",
              "      <td>5.0</td>\n",
              "      <td>2001</td>\n",
              "      <td>아파트</td>\n",
              "      <td>749000000</td>\n",
              "      <td>0.0</td>\n",
              "      <td>래미안 장위포레카운티</td>\n",
              "    </tr>\n",
              "    <tr>\n",
              "      <th>1</th>\n",
              "      <td>11290-2020-4-0000628-1</td>\n",
              "      <td>1129013400105080016</td>\n",
              "      <td>11290</td>\n",
              "      <td>성북구</td>\n",
              "      <td>1129013400</td>\n",
              "      <td>길음동</td>\n",
              "      <td>2020</td>\n",
              "      <td>4</td>\n",
              "      <td>신고</td>\n",
              "      <td>1</td>\n",
              "      <td>0.0</td>\n",
              "      <td>84.77</td>\n",
              "      <td>2</td>\n",
              "      <td>18.0</td>\n",
              "      <td>2001</td>\n",
              "      <td>아파트</td>\n",
              "      <td>1200000000</td>\n",
              "      <td>0.0</td>\n",
              "      <td>롯데캐슬 클라시아</td>\n",
              "    </tr>\n",
              "    <tr>\n",
              "      <th>2</th>\n",
              "      <td>11530-2020-4-0014284-1</td>\n",
              "      <td>1153010200107400029</td>\n",
              "      <td>11530</td>\n",
              "      <td>구로구</td>\n",
              "      <td>1153010200</td>\n",
              "      <td>구로동</td>\n",
              "      <td>2020</td>\n",
              "      <td>4</td>\n",
              "      <td>신고</td>\n",
              "      <td>1</td>\n",
              "      <td>NaN</td>\n",
              "      <td>36.90</td>\n",
              "      <td>0</td>\n",
              "      <td>1.0</td>\n",
              "      <td>2001</td>\n",
              "      <td>아파트</td>\n",
              "      <td>105000000</td>\n",
              "      <td>1994.0</td>\n",
              "      <td>궁전아트빌라</td>\n",
              "    </tr>\n",
              "    <tr>\n",
              "      <th>3</th>\n",
              "      <td>11170-2020-4-0005040-1</td>\n",
              "      <td>1117011500101930000</td>\n",
              "      <td>11170</td>\n",
              "      <td>용산구</td>\n",
              "      <td>1117011500</td>\n",
              "      <td>산천동</td>\n",
              "      <td>2020</td>\n",
              "      <td>4</td>\n",
              "      <td>신고</td>\n",
              "      <td>1</td>\n",
              "      <td>NaN</td>\n",
              "      <td>59.55</td>\n",
              "      <td>0</td>\n",
              "      <td>2.0</td>\n",
              "      <td>2001</td>\n",
              "      <td>아파트</td>\n",
              "      <td>830000000</td>\n",
              "      <td>2001.0</td>\n",
              "      <td>리버힐삼성</td>\n",
              "    </tr>\n",
              "    <tr>\n",
              "      <th>4</th>\n",
              "      <td>11170-2020-4-0001553-1</td>\n",
              "      <td>1117012900101930003</td>\n",
              "      <td>11170</td>\n",
              "      <td>용산구</td>\n",
              "      <td>1117012900</td>\n",
              "      <td>이촌동</td>\n",
              "      <td>2020</td>\n",
              "      <td>4</td>\n",
              "      <td>신고</td>\n",
              "      <td>1</td>\n",
              "      <td>NaN</td>\n",
              "      <td>64.43</td>\n",
              "      <td>0</td>\n",
              "      <td>5.0</td>\n",
              "      <td>2001</td>\n",
              "      <td>아파트</td>\n",
              "      <td>735000000</td>\n",
              "      <td>1971.0</td>\n",
              "      <td>강변</td>\n",
              "    </tr>\n",
              "  </tbody>\n",
              "</table>\n",
              "</div>"
            ],
            "text/plain": [
              "                  실거래가아이디                 지번코드  ...    건축년도          건물명\n",
              "0  11290-2020-4-0000066-1  1129013800101440024  ...     0.0  래미안 장위포레카운티\n",
              "1  11290-2020-4-0000628-1  1129013400105080016  ...     0.0   롯데캐슬 클라시아 \n",
              "2  11530-2020-4-0014284-1  1153010200107400029  ...  1994.0       궁전아트빌라\n",
              "3  11170-2020-4-0005040-1  1117011500101930000  ...  2001.0        리버힐삼성\n",
              "4  11170-2020-4-0001553-1  1117012900101930003  ...  1971.0           강변\n",
              "\n",
              "[5 rows x 19 columns]"
            ]
          },
          "metadata": {},
          "execution_count": 96
        }
      ]
    },
    {
      "cell_type": "code",
      "metadata": {
        "colab": {
          "base_uri": "https://localhost:8080/"
        },
        "id": "9tATiCsreQW2",
        "outputId": "5e5f1984-91bb-47cd-a82c-6e08cc159f44"
      },
      "source": [
        "df.columns"
      ],
      "execution_count": 97,
      "outputs": [
        {
          "output_type": "execute_result",
          "data": {
            "text/plain": [
              "Index(['실거래가아이디', '지번코드', '시군구코드', '자치구명', '법정동코드', '법정동명', '신고년도', '업무구분코드',\n",
              "       '업무구분', '물건번호', '대지권면적', '건물면적', '관리구분코드', '층정보', '건물주용도코드', '건물주용도',\n",
              "       '물건금액', '건축년도', '건물명'],\n",
              "      dtype='object')"
            ]
          },
          "metadata": {},
          "execution_count": 97
        }
      ]
    },
    {
      "cell_type": "code",
      "metadata": {
        "colab": {
          "base_uri": "https://localhost:8080/"
        },
        "id": "AyVXEVrRemZS",
        "outputId": "d04aca76-8832-43a1-e3dc-001b28b73081"
      },
      "source": [
        "print(df.shape)\n",
        "df.isna().sum()"
      ],
      "execution_count": 98,
      "outputs": [
        {
          "output_type": "stream",
          "name": "stdout",
          "text": [
            "(176001, 19)\n"
          ]
        },
        {
          "output_type": "execute_result",
          "data": {
            "text/plain": [
              "실거래가아이디        0\n",
              "지번코드           0\n",
              "시군구코드          0\n",
              "자치구명           0\n",
              "법정동코드          0\n",
              "법정동명           0\n",
              "신고년도           0\n",
              "업무구분코드         0\n",
              "업무구분           0\n",
              "물건번호           0\n",
              "대지권면적      86854\n",
              "건물면적           0\n",
              "관리구분코드         0\n",
              "층정보        12163\n",
              "건물주용도코드        0\n",
              "건물주용도          0\n",
              "물건금액           0\n",
              "건축년도         565\n",
              "건물명        12163\n",
              "dtype: int64"
            ]
          },
          "metadata": {},
          "execution_count": 98
        }
      ]
    },
    {
      "cell_type": "code",
      "metadata": {
        "colab": {
          "base_uri": "https://localhost:8080/"
        },
        "id": "iVP1LyqfgiMc",
        "outputId": "9c6601ef-38a2-4780-c80c-f2499dde5cbe"
      },
      "source": [
        "df[df['층정보'].isna()]['건물주용도'].unique()"
      ],
      "execution_count": 99,
      "outputs": [
        {
          "output_type": "execute_result",
          "data": {
            "text/plain": [
              "array(['단독주택'], dtype=object)"
            ]
          },
          "metadata": {},
          "execution_count": 99
        }
      ]
    },
    {
      "cell_type": "code",
      "metadata": {
        "colab": {
          "base_uri": "https://localhost:8080/"
        },
        "id": "uA7ICXXmg2vT",
        "outputId": "eee4dd46-aad0-4c63-9012-9c45aef6976c"
      },
      "source": [
        "print(df[df['건물주용도'] == '단독주택']['층정보'].unique())\n",
        "print(df[df['건물주용도'] == '단독주택']['건물명'].unique())"
      ],
      "execution_count": 100,
      "outputs": [
        {
          "output_type": "stream",
          "name": "stdout",
          "text": [
            "[nan]\n",
            "[nan]\n"
          ]
        }
      ]
    },
    {
      "cell_type": "code",
      "metadata": {
        "id": "Xz9wiowg9Gyj",
        "outputId": "a7a42eed-f2ea-4d63-f00f-28b5de3244a1",
        "colab": {
          "base_uri": "https://localhost:8080/"
        }
      },
      "source": [
        "df['층정보'].unique()\n",
        "# 층정보가 -1, -2, -3인 경우가 있다\n",
        "# -1은 반지하일까? 그럼 -2와 -3은 도대체 무엇인가? 확인이 필요하다"
      ],
      "execution_count": 101,
      "outputs": [
        {
          "output_type": "execute_result",
          "data": {
            "text/plain": [
              "array([ 5., 18.,  1.,  2.,  9.,  3.,  4., 10., nan, 16., 12.,  7., 14.,\n",
              "       23.,  8.,  6., 11., 17., 15., 13., -1., 21., 19., 22., 20., 40.,\n",
              "       24., 29., 26., 25., 28., 43., 34., 30., 33., 27., 36., 35., 39.,\n",
              "       32., 31., 37., 38., 42., 45., 41., 44., -3., 54., 47., 61., 51.,\n",
              "       48., 59., 53., 55., 49., 58., 67., 66., 46., 50., 63., -2., 60.])"
            ]
          },
          "metadata": {},
          "execution_count": 101
        }
      ]
    },
    {
      "cell_type": "code",
      "metadata": {
        "id": "ENXnomdW_VXz",
        "outputId": "4df542c6-2e0e-4b50-a4f4-e3fc50ed92f1",
        "colab": {
          "base_uri": "https://localhost:8080/"
        }
      },
      "source": [
        "df[df['층정보'] < 0]['건물주용도'].unique()\n",
        "# 반지하 혹은 그 밑(?)으로 보이는 경우는 연립주택 또는 아파트뿐임"
      ],
      "execution_count": 102,
      "outputs": [
        {
          "output_type": "execute_result",
          "data": {
            "text/plain": [
              "array(['연립주택', '아파트'], dtype=object)"
            ]
          },
          "metadata": {},
          "execution_count": 102
        }
      ]
    },
    {
      "cell_type": "code",
      "metadata": {
        "id": "LmGwa5fL9kHV",
        "outputId": "46ea210b-6742-4c07-ed10-f8bb5fc8360b",
        "colab": {
          "base_uri": "https://localhost:8080/",
          "height": 618
        }
      },
      "source": [
        "# 반지하일 수도 있는 -1 먼저 살펴보기\n",
        "df[df['층정보'].isin([-1])]"
      ],
      "execution_count": 103,
      "outputs": [
        {
          "output_type": "execute_result",
          "data": {
            "text/html": [
              "<div>\n",
              "<style scoped>\n",
              "    .dataframe tbody tr th:only-of-type {\n",
              "        vertical-align: middle;\n",
              "    }\n",
              "\n",
              "    .dataframe tbody tr th {\n",
              "        vertical-align: top;\n",
              "    }\n",
              "\n",
              "    .dataframe thead th {\n",
              "        text-align: right;\n",
              "    }\n",
              "</style>\n",
              "<table border=\"1\" class=\"dataframe\">\n",
              "  <thead>\n",
              "    <tr style=\"text-align: right;\">\n",
              "      <th></th>\n",
              "      <th>실거래가아이디</th>\n",
              "      <th>지번코드</th>\n",
              "      <th>시군구코드</th>\n",
              "      <th>자치구명</th>\n",
              "      <th>법정동코드</th>\n",
              "      <th>법정동명</th>\n",
              "      <th>신고년도</th>\n",
              "      <th>업무구분코드</th>\n",
              "      <th>업무구분</th>\n",
              "      <th>물건번호</th>\n",
              "      <th>대지권면적</th>\n",
              "      <th>건물면적</th>\n",
              "      <th>관리구분코드</th>\n",
              "      <th>층정보</th>\n",
              "      <th>건물주용도코드</th>\n",
              "      <th>건물주용도</th>\n",
              "      <th>물건금액</th>\n",
              "      <th>건축년도</th>\n",
              "      <th>건물명</th>\n",
              "    </tr>\n",
              "  </thead>\n",
              "  <tbody>\n",
              "    <tr>\n",
              "      <th>83</th>\n",
              "      <td>11170-2020-4-0004295-1</td>\n",
              "      <td>1117011900100020038</td>\n",
              "      <td>11170</td>\n",
              "      <td>용산구</td>\n",
              "      <td>1117011900</td>\n",
              "      <td>효창동</td>\n",
              "      <td>2020</td>\n",
              "      <td>4</td>\n",
              "      <td>신고</td>\n",
              "      <td>1</td>\n",
              "      <td>31.27</td>\n",
              "      <td>64.00</td>\n",
              "      <td>0</td>\n",
              "      <td>-1.0</td>\n",
              "      <td>2002</td>\n",
              "      <td>연립주택</td>\n",
              "      <td>405000000</td>\n",
              "      <td>1997.0</td>\n",
              "      <td>중앙그린빌라</td>\n",
              "    </tr>\n",
              "    <tr>\n",
              "      <th>100</th>\n",
              "      <td>11200-2020-4-0004008-1</td>\n",
              "      <td>1120011100113440099</td>\n",
              "      <td>11200</td>\n",
              "      <td>성동구</td>\n",
              "      <td>1120011100</td>\n",
              "      <td>금호동3가</td>\n",
              "      <td>2020</td>\n",
              "      <td>4</td>\n",
              "      <td>신고</td>\n",
              "      <td>1</td>\n",
              "      <td>22.92</td>\n",
              "      <td>47.00</td>\n",
              "      <td>0</td>\n",
              "      <td>-1.0</td>\n",
              "      <td>2002</td>\n",
              "      <td>연립주택</td>\n",
              "      <td>570500000</td>\n",
              "      <td>2000.0</td>\n",
              "      <td>(1344-99)</td>\n",
              "    </tr>\n",
              "    <tr>\n",
              "      <th>106</th>\n",
              "      <td>11200-2020-4-0004821-1</td>\n",
              "      <td>1120011500103020015</td>\n",
              "      <td>11200</td>\n",
              "      <td>성동구</td>\n",
              "      <td>1120011500</td>\n",
              "      <td>성수동2가</td>\n",
              "      <td>2020</td>\n",
              "      <td>4</td>\n",
              "      <td>신고</td>\n",
              "      <td>1</td>\n",
              "      <td>53.29</td>\n",
              "      <td>62.48</td>\n",
              "      <td>0</td>\n",
              "      <td>-1.0</td>\n",
              "      <td>2002</td>\n",
              "      <td>연립주택</td>\n",
              "      <td>402000000</td>\n",
              "      <td>1977.0</td>\n",
              "      <td>(302-15)</td>\n",
              "    </tr>\n",
              "    <tr>\n",
              "      <th>176</th>\n",
              "      <td>11215-2020-4-0003674-1</td>\n",
              "      <td>1121510300100450014</td>\n",
              "      <td>11215</td>\n",
              "      <td>광진구</td>\n",
              "      <td>1121510300</td>\n",
              "      <td>구의동</td>\n",
              "      <td>2020</td>\n",
              "      <td>4</td>\n",
              "      <td>신고</td>\n",
              "      <td>1</td>\n",
              "      <td>33.18</td>\n",
              "      <td>53.53</td>\n",
              "      <td>0</td>\n",
              "      <td>-1.0</td>\n",
              "      <td>2002</td>\n",
              "      <td>연립주택</td>\n",
              "      <td>130000000</td>\n",
              "      <td>2005.0</td>\n",
              "      <td>푸른빌라(45-14)</td>\n",
              "    </tr>\n",
              "    <tr>\n",
              "      <th>205</th>\n",
              "      <td>11170-2020-4-0005678-1</td>\n",
              "      <td>1117013100106160002</td>\n",
              "      <td>11170</td>\n",
              "      <td>용산구</td>\n",
              "      <td>1117013100</td>\n",
              "      <td>한남동</td>\n",
              "      <td>2020</td>\n",
              "      <td>4</td>\n",
              "      <td>신고</td>\n",
              "      <td>1</td>\n",
              "      <td>21.00</td>\n",
              "      <td>25.50</td>\n",
              "      <td>0</td>\n",
              "      <td>-1.0</td>\n",
              "      <td>2002</td>\n",
              "      <td>연립주택</td>\n",
              "      <td>1190000000</td>\n",
              "      <td>1993.0</td>\n",
              "      <td>(616-2)</td>\n",
              "    </tr>\n",
              "    <tr>\n",
              "      <th>...</th>\n",
              "      <td>...</td>\n",
              "      <td>...</td>\n",
              "      <td>...</td>\n",
              "      <td>...</td>\n",
              "      <td>...</td>\n",
              "      <td>...</td>\n",
              "      <td>...</td>\n",
              "      <td>...</td>\n",
              "      <td>...</td>\n",
              "      <td>...</td>\n",
              "      <td>...</td>\n",
              "      <td>...</td>\n",
              "      <td>...</td>\n",
              "      <td>...</td>\n",
              "      <td>...</td>\n",
              "      <td>...</td>\n",
              "      <td>...</td>\n",
              "      <td>...</td>\n",
              "      <td>...</td>\n",
              "    </tr>\n",
              "    <tr>\n",
              "      <th>175819</th>\n",
              "      <td>11440-2020-4-0016232-1</td>\n",
              "      <td>1144012500100490012</td>\n",
              "      <td>11440</td>\n",
              "      <td>마포구</td>\n",
              "      <td>1144012500</td>\n",
              "      <td>성산동</td>\n",
              "      <td>2020</td>\n",
              "      <td>4</td>\n",
              "      <td>신고</td>\n",
              "      <td>1</td>\n",
              "      <td>41.66</td>\n",
              "      <td>74.40</td>\n",
              "      <td>0</td>\n",
              "      <td>-1.0</td>\n",
              "      <td>2002</td>\n",
              "      <td>연립주택</td>\n",
              "      <td>220000000</td>\n",
              "      <td>1991.0</td>\n",
              "      <td>한라빌리지</td>\n",
              "    </tr>\n",
              "    <tr>\n",
              "      <th>175846</th>\n",
              "      <td>11440-2020-4-0016298-1</td>\n",
              "      <td>1144012300104110002</td>\n",
              "      <td>11440</td>\n",
              "      <td>마포구</td>\n",
              "      <td>1144012300</td>\n",
              "      <td>망원동</td>\n",
              "      <td>2020</td>\n",
              "      <td>4</td>\n",
              "      <td>신고</td>\n",
              "      <td>1</td>\n",
              "      <td>50.44</td>\n",
              "      <td>81.24</td>\n",
              "      <td>0</td>\n",
              "      <td>-1.0</td>\n",
              "      <td>2002</td>\n",
              "      <td>연립주택</td>\n",
              "      <td>340000000</td>\n",
              "      <td>1991.0</td>\n",
              "      <td>목화맨션</td>\n",
              "    </tr>\n",
              "    <tr>\n",
              "      <th>175883</th>\n",
              "      <td>11440-2020-4-0016377-1</td>\n",
              "      <td>1144012500106170007</td>\n",
              "      <td>11440</td>\n",
              "      <td>마포구</td>\n",
              "      <td>1144012500</td>\n",
              "      <td>성산동</td>\n",
              "      <td>2020</td>\n",
              "      <td>4</td>\n",
              "      <td>신고</td>\n",
              "      <td>1</td>\n",
              "      <td>21.14</td>\n",
              "      <td>35.10</td>\n",
              "      <td>0</td>\n",
              "      <td>-1.0</td>\n",
              "      <td>2002</td>\n",
              "      <td>연립주택</td>\n",
              "      <td>150000000</td>\n",
              "      <td>1992.0</td>\n",
              "      <td>동우빌라</td>\n",
              "    </tr>\n",
              "    <tr>\n",
              "      <th>175900</th>\n",
              "      <td>11440-2020-4-0016406-1</td>\n",
              "      <td>1144012500102750049</td>\n",
              "      <td>11440</td>\n",
              "      <td>마포구</td>\n",
              "      <td>1144012500</td>\n",
              "      <td>성산동</td>\n",
              "      <td>2020</td>\n",
              "      <td>4</td>\n",
              "      <td>신고</td>\n",
              "      <td>1</td>\n",
              "      <td>27.38</td>\n",
              "      <td>36.57</td>\n",
              "      <td>0</td>\n",
              "      <td>-1.0</td>\n",
              "      <td>2002</td>\n",
              "      <td>연립주택</td>\n",
              "      <td>140000000</td>\n",
              "      <td>1989.0</td>\n",
              "      <td>동삼빌라타운4동</td>\n",
              "    </tr>\n",
              "    <tr>\n",
              "      <th>175949</th>\n",
              "      <td>11440-2020-4-0016513-1</td>\n",
              "      <td>1144012500102000129</td>\n",
              "      <td>11440</td>\n",
              "      <td>마포구</td>\n",
              "      <td>1144012500</td>\n",
              "      <td>성산동</td>\n",
              "      <td>2020</td>\n",
              "      <td>4</td>\n",
              "      <td>신고</td>\n",
              "      <td>1</td>\n",
              "      <td>10.46</td>\n",
              "      <td>22.10</td>\n",
              "      <td>0</td>\n",
              "      <td>-1.0</td>\n",
              "      <td>2002</td>\n",
              "      <td>연립주택</td>\n",
              "      <td>55000000</td>\n",
              "      <td>2001.0</td>\n",
              "      <td>한우리빌라</td>\n",
              "    </tr>\n",
              "  </tbody>\n",
              "</table>\n",
              "<p>4407 rows × 19 columns</p>\n",
              "</div>"
            ],
            "text/plain": [
              "                       실거래가아이디                 지번코드  ...    건축년도          건물명\n",
              "83      11170-2020-4-0004295-1  1117011900100020038  ...  1997.0       중앙그린빌라\n",
              "100     11200-2020-4-0004008-1  1120011100113440099  ...  2000.0    (1344-99)\n",
              "106     11200-2020-4-0004821-1  1120011500103020015  ...  1977.0     (302-15)\n",
              "176     11215-2020-4-0003674-1  1121510300100450014  ...  2005.0  푸른빌라(45-14)\n",
              "205     11170-2020-4-0005678-1  1117013100106160002  ...  1993.0      (616-2)\n",
              "...                        ...                  ...  ...     ...          ...\n",
              "175819  11440-2020-4-0016232-1  1144012500100490012  ...  1991.0        한라빌리지\n",
              "175846  11440-2020-4-0016298-1  1144012300104110002  ...  1991.0         목화맨션\n",
              "175883  11440-2020-4-0016377-1  1144012500106170007  ...  1992.0         동우빌라\n",
              "175900  11440-2020-4-0016406-1  1144012500102750049  ...  1989.0     동삼빌라타운4동\n",
              "175949  11440-2020-4-0016513-1  1144012500102000129  ...  2001.0        한우리빌라\n",
              "\n",
              "[4407 rows x 19 columns]"
            ]
          },
          "metadata": {},
          "execution_count": 103
        }
      ]
    },
    {
      "cell_type": "code",
      "metadata": {
        "id": "lvSpRKCm9HLn",
        "outputId": "b0dd0346-8704-4d86-c924-99e1a53bf785",
        "colab": {
          "base_uri": "https://localhost:8080/",
          "height": 657
        }
      },
      "source": [
        "df[df['층정보'].isin([-2, -3])]"
      ],
      "execution_count": 104,
      "outputs": [
        {
          "output_type": "execute_result",
          "data": {
            "text/html": [
              "<div>\n",
              "<style scoped>\n",
              "    .dataframe tbody tr th:only-of-type {\n",
              "        vertical-align: middle;\n",
              "    }\n",
              "\n",
              "    .dataframe tbody tr th {\n",
              "        vertical-align: top;\n",
              "    }\n",
              "\n",
              "    .dataframe thead th {\n",
              "        text-align: right;\n",
              "    }\n",
              "</style>\n",
              "<table border=\"1\" class=\"dataframe\">\n",
              "  <thead>\n",
              "    <tr style=\"text-align: right;\">\n",
              "      <th></th>\n",
              "      <th>실거래가아이디</th>\n",
              "      <th>지번코드</th>\n",
              "      <th>시군구코드</th>\n",
              "      <th>자치구명</th>\n",
              "      <th>법정동코드</th>\n",
              "      <th>법정동명</th>\n",
              "      <th>신고년도</th>\n",
              "      <th>업무구분코드</th>\n",
              "      <th>업무구분</th>\n",
              "      <th>물건번호</th>\n",
              "      <th>대지권면적</th>\n",
              "      <th>건물면적</th>\n",
              "      <th>관리구분코드</th>\n",
              "      <th>층정보</th>\n",
              "      <th>건물주용도코드</th>\n",
              "      <th>건물주용도</th>\n",
              "      <th>물건금액</th>\n",
              "      <th>건축년도</th>\n",
              "      <th>건물명</th>\n",
              "    </tr>\n",
              "  </thead>\n",
              "  <tbody>\n",
              "    <tr>\n",
              "      <th>24321</th>\n",
              "      <td>11590-2020-4-0013015-1</td>\n",
              "      <td>1159010500103410000</td>\n",
              "      <td>11590</td>\n",
              "      <td>동작구</td>\n",
              "      <td>1159010500</td>\n",
              "      <td>흑석동</td>\n",
              "      <td>2020</td>\n",
              "      <td>4</td>\n",
              "      <td>신고</td>\n",
              "      <td>1</td>\n",
              "      <td>NaN</td>\n",
              "      <td>84.91</td>\n",
              "      <td>0</td>\n",
              "      <td>-3.0</td>\n",
              "      <td>2001</td>\n",
              "      <td>아파트</td>\n",
              "      <td>1700000000</td>\n",
              "      <td>2019.0</td>\n",
              "      <td>아크로리버하임</td>\n",
              "    </tr>\n",
              "    <tr>\n",
              "      <th>62379</th>\n",
              "      <td>11200-2020-4-0007147-1</td>\n",
              "      <td>1120011300105280000</td>\n",
              "      <td>11200</td>\n",
              "      <td>성동구</td>\n",
              "      <td>1120011300</td>\n",
              "      <td>옥수동</td>\n",
              "      <td>2020</td>\n",
              "      <td>4</td>\n",
              "      <td>신고</td>\n",
              "      <td>1</td>\n",
              "      <td>NaN</td>\n",
              "      <td>76.66</td>\n",
              "      <td>0</td>\n",
              "      <td>-2.0</td>\n",
              "      <td>2001</td>\n",
              "      <td>아파트</td>\n",
              "      <td>1675000000</td>\n",
              "      <td>2016.0</td>\n",
              "      <td>옥수파크힐스101동~116동</td>\n",
              "    </tr>\n",
              "    <tr>\n",
              "      <th>62694</th>\n",
              "      <td>11200-2020-4-0007966-1</td>\n",
              "      <td>1120011300105280000</td>\n",
              "      <td>11200</td>\n",
              "      <td>성동구</td>\n",
              "      <td>1120011300</td>\n",
              "      <td>옥수동</td>\n",
              "      <td>2020</td>\n",
              "      <td>4</td>\n",
              "      <td>신고</td>\n",
              "      <td>1</td>\n",
              "      <td>NaN</td>\n",
              "      <td>107.99</td>\n",
              "      <td>0</td>\n",
              "      <td>-2.0</td>\n",
              "      <td>2001</td>\n",
              "      <td>아파트</td>\n",
              "      <td>2200000000</td>\n",
              "      <td>2016.0</td>\n",
              "      <td>옥수파크힐스101동~116동</td>\n",
              "    </tr>\n",
              "    <tr>\n",
              "      <th>69845</th>\n",
              "      <td>11170-2020-4-0009278-1</td>\n",
              "      <td>1117013100107770011</td>\n",
              "      <td>11170</td>\n",
              "      <td>용산구</td>\n",
              "      <td>1117013100</td>\n",
              "      <td>한남동</td>\n",
              "      <td>2020</td>\n",
              "      <td>4</td>\n",
              "      <td>신고</td>\n",
              "      <td>1</td>\n",
              "      <td>110.52</td>\n",
              "      <td>243.69</td>\n",
              "      <td>0</td>\n",
              "      <td>-2.0</td>\n",
              "      <td>2002</td>\n",
              "      <td>연립주택</td>\n",
              "      <td>2400000000</td>\n",
              "      <td>2005.0</td>\n",
              "      <td>(777-11)</td>\n",
              "    </tr>\n",
              "    <tr>\n",
              "      <th>79662</th>\n",
              "      <td>11290-2020-4-0012423-1</td>\n",
              "      <td>1129013400112870001</td>\n",
              "      <td>11290</td>\n",
              "      <td>성북구</td>\n",
              "      <td>1129013400</td>\n",
              "      <td>길음동</td>\n",
              "      <td>2020</td>\n",
              "      <td>4</td>\n",
              "      <td>신고</td>\n",
              "      <td>1</td>\n",
              "      <td>NaN</td>\n",
              "      <td>59.89</td>\n",
              "      <td>0</td>\n",
              "      <td>-2.0</td>\n",
              "      <td>2001</td>\n",
              "      <td>아파트</td>\n",
              "      <td>745000000</td>\n",
              "      <td>2019.0</td>\n",
              "      <td>롯데캐슬골든힐스</td>\n",
              "    </tr>\n",
              "    <tr>\n",
              "      <th>110462</th>\n",
              "      <td>11380-2020-4-0005912-1</td>\n",
              "      <td>1138011400100840000</td>\n",
              "      <td>11380</td>\n",
              "      <td>은평구</td>\n",
              "      <td>1138011400</td>\n",
              "      <td>진관동</td>\n",
              "      <td>2020</td>\n",
              "      <td>4</td>\n",
              "      <td>신고</td>\n",
              "      <td>1</td>\n",
              "      <td>NaN</td>\n",
              "      <td>134.51</td>\n",
              "      <td>0</td>\n",
              "      <td>-3.0</td>\n",
              "      <td>2001</td>\n",
              "      <td>아파트</td>\n",
              "      <td>820000000</td>\n",
              "      <td>2010.0</td>\n",
              "      <td>은평뉴타운 우물골(두산위브7단지)</td>\n",
              "    </tr>\n",
              "    <tr>\n",
              "      <th>113377</th>\n",
              "      <td>11380-2020-4-0010993-1</td>\n",
              "      <td>1138011400100840000</td>\n",
              "      <td>11380</td>\n",
              "      <td>은평구</td>\n",
              "      <td>1138011400</td>\n",
              "      <td>진관동</td>\n",
              "      <td>2020</td>\n",
              "      <td>4</td>\n",
              "      <td>신고</td>\n",
              "      <td>1</td>\n",
              "      <td>NaN</td>\n",
              "      <td>101.99</td>\n",
              "      <td>0</td>\n",
              "      <td>-2.0</td>\n",
              "      <td>2001</td>\n",
              "      <td>아파트</td>\n",
              "      <td>947000000</td>\n",
              "      <td>2010.0</td>\n",
              "      <td>은평뉴타운 우물골(두산위브7단지)</td>\n",
              "    </tr>\n",
              "    <tr>\n",
              "      <th>114614</th>\n",
              "      <td>11380-2020-4-0013291-1</td>\n",
              "      <td>1138011400100840000</td>\n",
              "      <td>11380</td>\n",
              "      <td>은평구</td>\n",
              "      <td>1138011400</td>\n",
              "      <td>진관동</td>\n",
              "      <td>2020</td>\n",
              "      <td>4</td>\n",
              "      <td>신고</td>\n",
              "      <td>1</td>\n",
              "      <td>NaN</td>\n",
              "      <td>134.51</td>\n",
              "      <td>0</td>\n",
              "      <td>-3.0</td>\n",
              "      <td>2001</td>\n",
              "      <td>아파트</td>\n",
              "      <td>1040000000</td>\n",
              "      <td>2010.0</td>\n",
              "      <td>은평뉴타운 우물골(두산위브7단지)</td>\n",
              "    </tr>\n",
              "    <tr>\n",
              "      <th>138205</th>\n",
              "      <td>11500-2020-4-0009071-1</td>\n",
              "      <td>1150010300101540009</td>\n",
              "      <td>11500</td>\n",
              "      <td>강서구</td>\n",
              "      <td>1150010300</td>\n",
              "      <td>화곡동</td>\n",
              "      <td>2020</td>\n",
              "      <td>4</td>\n",
              "      <td>신고</td>\n",
              "      <td>1</td>\n",
              "      <td>22.10</td>\n",
              "      <td>41.04</td>\n",
              "      <td>0</td>\n",
              "      <td>-2.0</td>\n",
              "      <td>2002</td>\n",
              "      <td>연립주택</td>\n",
              "      <td>95000000</td>\n",
              "      <td>1995.0</td>\n",
              "      <td>홍익빌라</td>\n",
              "    </tr>\n",
              "    <tr>\n",
              "      <th>139297</th>\n",
              "      <td>11500-2020-4-0010968-1</td>\n",
              "      <td>1150010300101540009</td>\n",
              "      <td>11500</td>\n",
              "      <td>강서구</td>\n",
              "      <td>1150010300</td>\n",
              "      <td>화곡동</td>\n",
              "      <td>2020</td>\n",
              "      <td>4</td>\n",
              "      <td>신고</td>\n",
              "      <td>1</td>\n",
              "      <td>22.50</td>\n",
              "      <td>41.94</td>\n",
              "      <td>0</td>\n",
              "      <td>-2.0</td>\n",
              "      <td>2002</td>\n",
              "      <td>연립주택</td>\n",
              "      <td>90000000</td>\n",
              "      <td>1995.0</td>\n",
              "      <td>홍익빌라</td>\n",
              "    </tr>\n",
              "    <tr>\n",
              "      <th>150826</th>\n",
              "      <td>11530-2020-4-0008791-1</td>\n",
              "      <td>1153011100102810000</td>\n",
              "      <td>11530</td>\n",
              "      <td>구로구</td>\n",
              "      <td>1153011100</td>\n",
              "      <td>천왕동</td>\n",
              "      <td>2020</td>\n",
              "      <td>4</td>\n",
              "      <td>신고</td>\n",
              "      <td>1</td>\n",
              "      <td>NaN</td>\n",
              "      <td>84.78</td>\n",
              "      <td>0</td>\n",
              "      <td>-2.0</td>\n",
              "      <td>2001</td>\n",
              "      <td>아파트</td>\n",
              "      <td>677000000</td>\n",
              "      <td>2014.0</td>\n",
              "      <td>천왕연지타운2단지</td>\n",
              "    </tr>\n",
              "  </tbody>\n",
              "</table>\n",
              "</div>"
            ],
            "text/plain": [
              "                       실거래가아이디                 지번코드  ...    건축년도                 건물명\n",
              "24321   11590-2020-4-0013015-1  1159010500103410000  ...  2019.0             아크로리버하임\n",
              "62379   11200-2020-4-0007147-1  1120011300105280000  ...  2016.0     옥수파크힐스101동~116동\n",
              "62694   11200-2020-4-0007966-1  1120011300105280000  ...  2016.0     옥수파크힐스101동~116동\n",
              "69845   11170-2020-4-0009278-1  1117013100107770011  ...  2005.0            (777-11)\n",
              "79662   11290-2020-4-0012423-1  1129013400112870001  ...  2019.0            롯데캐슬골든힐스\n",
              "110462  11380-2020-4-0005912-1  1138011400100840000  ...  2010.0  은평뉴타운 우물골(두산위브7단지)\n",
              "113377  11380-2020-4-0010993-1  1138011400100840000  ...  2010.0  은평뉴타운 우물골(두산위브7단지)\n",
              "114614  11380-2020-4-0013291-1  1138011400100840000  ...  2010.0  은평뉴타운 우물골(두산위브7단지)\n",
              "138205  11500-2020-4-0009071-1  1150010300101540009  ...  1995.0                홍익빌라\n",
              "139297  11500-2020-4-0010968-1  1150010300101540009  ...  1995.0                홍익빌라\n",
              "150826  11530-2020-4-0008791-1  1153011100102810000  ...  2014.0           천왕연지타운2단지\n",
              "\n",
              "[11 rows x 19 columns]"
            ]
          },
          "metadata": {},
          "execution_count": 104
        }
      ]
    },
    {
      "cell_type": "code",
      "metadata": {
        "id": "edC2wchYBDcB",
        "outputId": "c74af109-df49-4f68-8ba3-820be4e80774",
        "colab": {
          "base_uri": "https://localhost:8080/"
        }
      },
      "source": [
        "# 층정보 -1인 경우는 실제로 반지하일 수도 있겠으나, 데이터의 수가 전체의 약 3% 수준이라 영향이 크지 않다고 판단함\n",
        "# 층정보 -2, -3인 경우는 부호 표기가 반대로 된 것으로 판단함\n",
        "# 따라서 음수인 층정보는 양수로 바꾸는 것으로 처리\n",
        "tmp_idx = df[df['층정보'] < 0]['층정보'].index\n",
        "df.loc[tmp_idx, ['층정보']] = df[df['층정보'] < 0]['층정보'].mul(-1)\n",
        "df['층정보'].unique()"
      ],
      "execution_count": 105,
      "outputs": [
        {
          "output_type": "execute_result",
          "data": {
            "text/plain": [
              "array([ 5., 18.,  1.,  2.,  9.,  3.,  4., 10., nan, 16., 12.,  7., 14.,\n",
              "       23.,  8.,  6., 11., 17., 15., 13., 21., 19., 22., 20., 40., 24.,\n",
              "       29., 26., 25., 28., 43., 34., 30., 33., 27., 36., 35., 39., 32.,\n",
              "       31., 37., 38., 42., 45., 41., 44., 54., 47., 61., 51., 48., 59.,\n",
              "       53., 55., 49., 58., 67., 66., 46., 50., 63., 60.])"
            ]
          },
          "metadata": {},
          "execution_count": 105
        }
      ]
    },
    {
      "cell_type": "code",
      "metadata": {
        "colab": {
          "base_uri": "https://localhost:8080/"
        },
        "id": "35ad7He6ho4h",
        "outputId": "15f36dd0-f48c-4d3a-92b1-697b35cadf61"
      },
      "source": [
        "df[df['건축년도'].isna()]['건물주용도'].unique()"
      ],
      "execution_count": 106,
      "outputs": [
        {
          "output_type": "execute_result",
          "data": {
            "text/plain": [
              "array(['오피스텔', '단독주택', '연립주택'], dtype=object)"
            ]
          },
          "metadata": {},
          "execution_count": 106
        }
      ]
    },
    {
      "cell_type": "code",
      "metadata": {
        "colab": {
          "base_uri": "https://localhost:8080/"
        },
        "id": "pIWoIwiOh28I",
        "outputId": "ec4f874c-e8d6-4e07-874f-a54b8e022848"
      },
      "source": [
        "df['건물주용도'].value_counts()"
      ],
      "execution_count": 107,
      "outputs": [
        {
          "output_type": "execute_result",
          "data": {
            "text/plain": [
              "아파트     88553\n",
              "연립주택    60351\n",
              "오피스텔    14934\n",
              "단독주택    12163\n",
              "Name: 건물주용도, dtype: int64"
            ]
          },
          "metadata": {},
          "execution_count": 107
        }
      ]
    },
    {
      "cell_type": "code",
      "metadata": {
        "colab": {
          "base_uri": "https://localhost:8080/"
        },
        "id": "bpZewJNlmIin",
        "outputId": "952cfec7-2156-4ed0-96e9-737b348c49ba"
      },
      "source": [
        "print(df['업무구분'].unique())\n",
        "print(df['업무구분코드'].unique())\n",
        "print(df['물건번호'].unique())"
      ],
      "execution_count": 108,
      "outputs": [
        {
          "output_type": "stream",
          "name": "stdout",
          "text": [
            "['신고']\n",
            "[4]\n",
            "[  1  49  10  12   3   4   5   2 100 101 102 103 104 105 106 107 108  11\n",
            "  13  14  15  16  17  18  19  21  22  23  24  25  26  27  28  29  30  31\n",
            "  32  33  34  35  36  37  38  39  40  41  42  43  44  45  46  47  48  50\n",
            "  51  52  53  54  55  56  57  58  59   6  60  61  62  63  64  65  66  67\n",
            "  68  69   7  70  71  72  73  74  75  76  77  78  79   8  80  81  82  83\n",
            "  84  85  86  87  88   9  90  91  92  93  94  95  96  97  98  99  20  89\n",
            " 109 110 111 112 113 114 115 116 117 118 119 120 121 122 123 124 125 126\n",
            " 127 128 129 130 131 132 133 134 135 136 137 138 139 140 141 142 143 144\n",
            " 145 147 148 149 150 146 151 152 153 154 155 156 157 158 159 160 161 162\n",
            " 163 164 165 166 167 168 169 170 171 172 173 174 175]\n"
          ]
        }
      ]
    },
    {
      "cell_type": "code",
      "metadata": {
        "colab": {
          "base_uri": "https://localhost:8080/"
        },
        "id": "8_F7qwM4pZ_d",
        "outputId": "48ac6927-7d6d-4fda-f376-b79af0196adf"
      },
      "source": [
        "print(df['관리구분코드'].unique())"
      ],
      "execution_count": 109,
      "outputs": [
        {
          "output_type": "stream",
          "name": "stdout",
          "text": [
            "['2' '0' 'B' '1' 'A']\n"
          ]
        }
      ]
    },
    {
      "cell_type": "code",
      "metadata": {
        "colab": {
          "base_uri": "https://localhost:8080/"
        },
        "id": "KRToZoS1nI_M",
        "outputId": "c6467fd2-ec7c-4806-c68e-d9b278835c77"
      },
      "source": [
        "print(df['건물주용도코드'].unique())\n",
        "print(df['건물주용도'].unique())"
      ],
      "execution_count": 110,
      "outputs": [
        {
          "output_type": "stream",
          "name": "stdout",
          "text": [
            "[ 2001  2002 14202  1001]\n",
            "['아파트' '연립주택' '오피스텔' '단독주택']\n"
          ]
        }
      ]
    },
    {
      "cell_type": "code",
      "metadata": {
        "id": "aelbAylYfC8Z"
      },
      "source": [
        "# 결측치 처리 및 불필요한 컬럼 제거하기\n",
        "\n",
        "# 층정보와 건물명이 없는 데이터는 모두 단독주택이므로 층정보는 2로 대체\n",
        "# (건축법 상 단독주택(단독주택/다중주택/다가구주택)은 3개 층 이하로 제한되어 있음 -> 1~3의 중간값인 2로 대체)\n",
        "# 참고 : https://justdim.tistory.com/146\n",
        "df['층정보'] = df['층정보'].fillna(2)\n",
        "\n",
        "# 건축년도가 없는 데이터는 수가 적으므로 제거\n",
        "df = df[~df['건축년도'].isna()]"
      ],
      "execution_count": 111,
      "outputs": []
    },
    {
      "cell_type": "code",
      "metadata": {
        "id": "GeqvNloUk7F5"
      },
      "source": [
        "# # 대지권면적은 결측치가 대다수이므로 제거\n",
        "# # 참고 : https://m.blog.naver.com/PostView.naver?isHttpsRedirect=true&blogId=ctrfindit&logNo=221272287733\n",
        "# df = df.drop('대지권면적', axis=1)\n",
        "\n",
        "# # 실제로 건물명이 가격에 영향을 줄 것이라는 심증이 있으나(브랜드 가치 등의 이유),\n",
        "# # 현재로서는 처리할 방법을 모르기 때문에 건물명 컬럼은 제거\n",
        "# df = df.drop('건물명', axis=1)\n",
        "\n",
        "# # 실거래가아이디는 거래 자체의 고유 번호이므로 가격과 관련없다고 판단하여 컬럼 제거\n",
        "# df = df.drop('실거래가아이디', axis=1)\n",
        "\n",
        "# # 법정동코드는 지번코드에서 '필지구분(1)+본번(4)+부번(4)'을 제외한 것으로서, 지번코드가 내용 반영 가능하다고 봄\n",
        "# # 따라서 법정동코드 컬럼 제거. 시군구코드도 지번코드에 포함되므로 컬럼 제거.\n",
        "# # 자치구명, 법정동명 또한 지번코드가 모두 반영하므로 컬럼 제거\n",
        "# # 참고 : https://zelkun.tistory.com/entry/%EB%B2%95%EC%A0%95%EB%8F%99%ED%96%89%EC%A0%95%EB%8F%99-%EC%B0%A8%EC%9D%B4%EC%A0%90-%EB%B0%8F-%EA%B5%AC%EB%B3%84%ED%98%84%ED%99%A9\n",
        "# df = df.drop(['법정동코드', '시군구코드', '자치구명', '법정동명'], axis=1)\n",
        "\n",
        "# # 모든 데이터가 2020년에 신고된 거래 데이터이므로 신고년도는 불필요함. 컬럼 제거\n",
        "# df = df.drop('신고년도', axis=1)\n",
        "\n",
        "# # 업무구분 모두 '신고'이고, 업무구분코드도 모두 이에 해당하는 '4'임\n",
        "# # 그 이전에 컬럼 자체도 불필요하다고 판단함. 따라서 컬럼 제거\n",
        "# df = df.drop(['업무구분', '업무구분코드'], axis=1)\n",
        "\n",
        "# # 물건번호는 경매에서 각 물건에 붙는 번호를 의미함\n",
        "# # 예를 들어 한 사건에 한 개 물건이면 물건번호는 1임.\n",
        "# # 일종의 고유 번호이므로 물건가격과 상관없다고 판단하여 컬럼 제거\n",
        "# # 참고 : https://m.blog.naver.com/maestron1/221534254422\n",
        "# df = df.drop('물건번호', axis=1)\n",
        "\n",
        "# # 관리구분코드는 공공기관 내부적으로 사용하는 것으로 추정\n",
        "# # 자세한 내용은 확인할 수 없었음\n",
        "# # 명칭으로 보아 물건가격과는 관련이 없다고 보고 컬럼 제거\n",
        "# df = df.drop('관리구분코드', axis=1)\n",
        "\n",
        "# # 건물주용도코드가 건물주용도를 반영하고 있으므로 건물주용도 컬럼 제거\n",
        "# df = df.drop('건물주용도', axis=1)\n",
        "\n",
        "# 위 과정 한꺼번에 정리한 결과 가져오기\n",
        "df = df[['지번코드',\t'건물면적',\t'층정보',\t'건물주용도코드',\t'물건금액',\t'건축년도']]"
      ],
      "execution_count": 112,
      "outputs": []
    },
    {
      "cell_type": "code",
      "metadata": {
        "colab": {
          "base_uri": "https://localhost:8080/"
        },
        "id": "FbSbmcpJkFFg",
        "outputId": "6e78fe1b-d5ff-4f6d-8018-e0b0a1531611"
      },
      "source": [
        "df.isna().sum()"
      ],
      "execution_count": 113,
      "outputs": [
        {
          "output_type": "execute_result",
          "data": {
            "text/plain": [
              "지번코드       0\n",
              "건물면적       0\n",
              "층정보        0\n",
              "건물주용도코드    0\n",
              "물건금액       0\n",
              "건축년도       0\n",
              "dtype: int64"
            ]
          },
          "metadata": {},
          "execution_count": 113
        }
      ]
    },
    {
      "cell_type": "code",
      "metadata": {
        "id": "RBLJeh40s9Fq",
        "outputId": "297f17ca-670e-447c-fbee-dd28440c3088",
        "colab": {
          "base_uri": "https://localhost:8080/"
        }
      },
      "source": [
        "df['건축년도'].unique()\n",
        "# 건축년도가 0인 데이터가 있다"
      ],
      "execution_count": 114,
      "outputs": [
        {
          "output_type": "execute_result",
          "data": {
            "text/plain": [
              "array([   0., 1994., 2001., 1971., 1982., 1993., 2002., 2017., 2014.,\n",
              "       1998., 2016., 2000., 2018., 1997., 1986., 2003., 1996., 2013.,\n",
              "       1970., 2019., 1977., 1989., 2006., 1999., 2007., 1973., 2004.,\n",
              "       1978., 2008., 1991., 2012., 1990., 1985., 2009., 2015., 1992.,\n",
              "       2020., 1976., 1995., 1967., 2005., 1983., 1965., 1984., 1987.,\n",
              "       1958., 2011., 1939., 1980., 2010., 1975., 1961., 1964., 1968.,\n",
              "       1988., 1981., 1966., 1969., 1948., 1960., 1959., 1974., 1956.,\n",
              "       1972., 1979., 1957., 1947., 1940., 1955., 1949., 1963., 1962.,\n",
              "       1954., 1936., 1943., 1944., 2021., 1937., 1935., 1933., 1900.,\n",
              "       1950., 1941., 1928., 1930., 1929., 1931., 1953., 1932., 1934.,\n",
              "       1946., 1938., 1901., 1909., 1920., 1923., 1921., 1922., 1952.])"
            ]
          },
          "metadata": {},
          "execution_count": 114
        }
      ]
    },
    {
      "cell_type": "code",
      "metadata": {
        "id": "0Hf0tcbjspyE",
        "outputId": "b32ade86-0709-4990-8013-1b81b0fdcdbc",
        "colab": {
          "base_uri": "https://localhost:8080/"
        }
      },
      "source": [
        "print(df.shape)\n",
        "len(df[df['건축년도'] == 0])"
      ],
      "execution_count": 115,
      "outputs": [
        {
          "output_type": "stream",
          "name": "stdout",
          "text": [
            "(175436, 6)\n"
          ]
        },
        {
          "output_type": "execute_result",
          "data": {
            "text/plain": [
              "1152"
            ]
          },
          "metadata": {},
          "execution_count": 115
        }
      ]
    },
    {
      "cell_type": "code",
      "metadata": {
        "id": "emu68meKtKRx",
        "outputId": "82a22c15-dbe4-4b83-b208-528836ced769",
        "colab": {
          "base_uri": "https://localhost:8080/"
        }
      },
      "source": [
        "# 전체 데이터의 1% 미만이므로 제거\n",
        "df = df[df['건축년도'] != 0]\n",
        "len(df[df['건축년도'] == 0])"
      ],
      "execution_count": 116,
      "outputs": [
        {
          "output_type": "execute_result",
          "data": {
            "text/plain": [
              "0"
            ]
          },
          "metadata": {},
          "execution_count": 116
        }
      ]
    },
    {
      "cell_type": "code",
      "metadata": {
        "id": "yWxSCwYHr56k",
        "outputId": "42da4dd5-7b8a-4b8b-ffec-a33e36493fe1",
        "colab": {
          "base_uri": "https://localhost:8080/",
          "height": 203
        }
      },
      "source": [
        "# 인덱스 재정렬\n",
        "df = df.reset_index(drop=True)\n",
        "\n",
        "df.head()"
      ],
      "execution_count": 117,
      "outputs": [
        {
          "output_type": "execute_result",
          "data": {
            "text/html": [
              "<div>\n",
              "<style scoped>\n",
              "    .dataframe tbody tr th:only-of-type {\n",
              "        vertical-align: middle;\n",
              "    }\n",
              "\n",
              "    .dataframe tbody tr th {\n",
              "        vertical-align: top;\n",
              "    }\n",
              "\n",
              "    .dataframe thead th {\n",
              "        text-align: right;\n",
              "    }\n",
              "</style>\n",
              "<table border=\"1\" class=\"dataframe\">\n",
              "  <thead>\n",
              "    <tr style=\"text-align: right;\">\n",
              "      <th></th>\n",
              "      <th>지번코드</th>\n",
              "      <th>건물면적</th>\n",
              "      <th>층정보</th>\n",
              "      <th>건물주용도코드</th>\n",
              "      <th>물건금액</th>\n",
              "      <th>건축년도</th>\n",
              "    </tr>\n",
              "  </thead>\n",
              "  <tbody>\n",
              "    <tr>\n",
              "      <th>0</th>\n",
              "      <td>1153010200107400029</td>\n",
              "      <td>36.90</td>\n",
              "      <td>1.0</td>\n",
              "      <td>2001</td>\n",
              "      <td>105000000</td>\n",
              "      <td>1994.0</td>\n",
              "    </tr>\n",
              "    <tr>\n",
              "      <th>1</th>\n",
              "      <td>1117011500101930000</td>\n",
              "      <td>59.55</td>\n",
              "      <td>2.0</td>\n",
              "      <td>2001</td>\n",
              "      <td>830000000</td>\n",
              "      <td>2001.0</td>\n",
              "    </tr>\n",
              "    <tr>\n",
              "      <th>2</th>\n",
              "      <td>1117012900101930003</td>\n",
              "      <td>64.43</td>\n",
              "      <td>5.0</td>\n",
              "      <td>2001</td>\n",
              "      <td>735000000</td>\n",
              "      <td>1971.0</td>\n",
              "    </tr>\n",
              "    <tr>\n",
              "      <th>3</th>\n",
              "      <td>1117013000100220002</td>\n",
              "      <td>105.75</td>\n",
              "      <td>9.0</td>\n",
              "      <td>2001</td>\n",
              "      <td>1430000000</td>\n",
              "      <td>1982.0</td>\n",
              "    </tr>\n",
              "    <tr>\n",
              "      <th>4</th>\n",
              "      <td>1117011000100020033</td>\n",
              "      <td>73.04</td>\n",
              "      <td>3.0</td>\n",
              "      <td>2002</td>\n",
              "      <td>400000000</td>\n",
              "      <td>1993.0</td>\n",
              "    </tr>\n",
              "  </tbody>\n",
              "</table>\n",
              "</div>"
            ],
            "text/plain": [
              "                  지번코드    건물면적  층정보  건물주용도코드        물건금액    건축년도\n",
              "0  1153010200107400029   36.90  1.0     2001   105000000  1994.0\n",
              "1  1117011500101930000   59.55  2.0     2001   830000000  2001.0\n",
              "2  1117012900101930003   64.43  5.0     2001   735000000  1971.0\n",
              "3  1117013000100220002  105.75  9.0     2001  1430000000  1982.0\n",
              "4  1117011000100020033   73.04  3.0     2002   400000000  1993.0"
            ]
          },
          "metadata": {},
          "execution_count": 117
        }
      ]
    },
    {
      "cell_type": "markdown",
      "metadata": {
        "id": "eUvEXZA0G1DX"
      },
      "source": [
        "### 2) 새로 특징들을 만들어 보세요\n",
        "- 여러분이 선택한 데이터에서 특징 공학을 수행해 보세요.\n",
        "- **(다중선택) purchase_data를 랭글링하여 다음 조건을 계산하고 결과가 올바른 항목을 세요.**\n",
        "    1. 나이 1-20세 그룹(20세 포함)의 평균 Price는 3.101818이다.\n",
        "    2. 나이 21-50세 그룹의 평균 Price는 3.021559이다.\n",
        "    3. 가장 많이 구입한 아이템의 ID는 178 이다.\n",
        "    4. 두번째로 매출을 많이 낸 아이템 ID는 145이다."
      ]
    },
    {
      "cell_type": "code",
      "metadata": {
        "id": "EqZOn2KXG1DY"
      },
      "source": [
        "# ### 이곳에서 제출폼 과제를 진행해 주세요 ###\n",
        "# # 그룹별 Price 평균\n",
        "# df['Age_group'] = df['Age'].apply(lambda x: 'young' if x <= 20 else 'old')\n",
        "# print(df.groupby('Age_group')['Price'].mean())\n",
        "# # 1-20 = 3.101818 / 21-50 = 3.021559\n",
        "\n",
        "# # 판매수 상위 Item ID\n",
        "# print(df['Item ID'].value_counts())\n",
        "# # 1위 : 178\n",
        "\n",
        "# # 매출 상위 Item IDs\n",
        "# df['Sales'] = df['Item ID'].value_counts()[df['Item ID']].reset_index(drop=True) * df['Price']\n",
        "# df.groupby('Item ID').mean().sort_values(by='Sales', ascending=False)['Sales']\n",
        "# # 두 번째로 매출을 많이 낸 아이템 ID : 82"
      ],
      "execution_count": 118,
      "outputs": []
    },
    {
      "cell_type": "code",
      "metadata": {
        "id": "aGMd5IH40cgp",
        "outputId": "36aa2c53-59ff-4c71-ee22-b3916cfffd2f",
        "colab": {
          "base_uri": "https://localhost:8080/",
          "height": 203
        }
      },
      "source": [
        "df.head()"
      ],
      "execution_count": 119,
      "outputs": [
        {
          "output_type": "execute_result",
          "data": {
            "text/html": [
              "<div>\n",
              "<style scoped>\n",
              "    .dataframe tbody tr th:only-of-type {\n",
              "        vertical-align: middle;\n",
              "    }\n",
              "\n",
              "    .dataframe tbody tr th {\n",
              "        vertical-align: top;\n",
              "    }\n",
              "\n",
              "    .dataframe thead th {\n",
              "        text-align: right;\n",
              "    }\n",
              "</style>\n",
              "<table border=\"1\" class=\"dataframe\">\n",
              "  <thead>\n",
              "    <tr style=\"text-align: right;\">\n",
              "      <th></th>\n",
              "      <th>지번코드</th>\n",
              "      <th>건물면적</th>\n",
              "      <th>층정보</th>\n",
              "      <th>건물주용도코드</th>\n",
              "      <th>물건금액</th>\n",
              "      <th>건축년도</th>\n",
              "    </tr>\n",
              "  </thead>\n",
              "  <tbody>\n",
              "    <tr>\n",
              "      <th>0</th>\n",
              "      <td>1153010200107400029</td>\n",
              "      <td>36.90</td>\n",
              "      <td>1.0</td>\n",
              "      <td>2001</td>\n",
              "      <td>105000000</td>\n",
              "      <td>1994.0</td>\n",
              "    </tr>\n",
              "    <tr>\n",
              "      <th>1</th>\n",
              "      <td>1117011500101930000</td>\n",
              "      <td>59.55</td>\n",
              "      <td>2.0</td>\n",
              "      <td>2001</td>\n",
              "      <td>830000000</td>\n",
              "      <td>2001.0</td>\n",
              "    </tr>\n",
              "    <tr>\n",
              "      <th>2</th>\n",
              "      <td>1117012900101930003</td>\n",
              "      <td>64.43</td>\n",
              "      <td>5.0</td>\n",
              "      <td>2001</td>\n",
              "      <td>735000000</td>\n",
              "      <td>1971.0</td>\n",
              "    </tr>\n",
              "    <tr>\n",
              "      <th>3</th>\n",
              "      <td>1117013000100220002</td>\n",
              "      <td>105.75</td>\n",
              "      <td>9.0</td>\n",
              "      <td>2001</td>\n",
              "      <td>1430000000</td>\n",
              "      <td>1982.0</td>\n",
              "    </tr>\n",
              "    <tr>\n",
              "      <th>4</th>\n",
              "      <td>1117011000100020033</td>\n",
              "      <td>73.04</td>\n",
              "      <td>3.0</td>\n",
              "      <td>2002</td>\n",
              "      <td>400000000</td>\n",
              "      <td>1993.0</td>\n",
              "    </tr>\n",
              "  </tbody>\n",
              "</table>\n",
              "</div>"
            ],
            "text/plain": [
              "                  지번코드    건물면적  층정보  건물주용도코드        물건금액    건축년도\n",
              "0  1153010200107400029   36.90  1.0     2001   105000000  1994.0\n",
              "1  1117011500101930000   59.55  2.0     2001   830000000  2001.0\n",
              "2  1117012900101930003   64.43  5.0     2001   735000000  1971.0\n",
              "3  1117013000100220002  105.75  9.0     2001  1430000000  1982.0\n",
              "4  1117011000100020033   73.04  3.0     2002   400000000  1993.0"
            ]
          },
          "metadata": {},
          "execution_count": 119
        }
      ]
    },
    {
      "cell_type": "code",
      "metadata": {
        "colab": {
          "base_uri": "https://localhost:8080/",
          "height": 203
        },
        "id": "7uX6KDq1G1DY",
        "outputId": "126b8d9b-9d97-45f4-fdff-8c40d8c0361e"
      },
      "source": [
        "# 건축년도를 그대로 사용하기보다는 몇 년이나 오래 되었는지 나타내는 컬럼이 필요하지 않을까?\n",
        "df['연식'] = (2020 - df['건축년도']).astype(int)\n",
        "df.head()"
      ],
      "execution_count": 120,
      "outputs": [
        {
          "output_type": "execute_result",
          "data": {
            "text/html": [
              "<div>\n",
              "<style scoped>\n",
              "    .dataframe tbody tr th:only-of-type {\n",
              "        vertical-align: middle;\n",
              "    }\n",
              "\n",
              "    .dataframe tbody tr th {\n",
              "        vertical-align: top;\n",
              "    }\n",
              "\n",
              "    .dataframe thead th {\n",
              "        text-align: right;\n",
              "    }\n",
              "</style>\n",
              "<table border=\"1\" class=\"dataframe\">\n",
              "  <thead>\n",
              "    <tr style=\"text-align: right;\">\n",
              "      <th></th>\n",
              "      <th>지번코드</th>\n",
              "      <th>건물면적</th>\n",
              "      <th>층정보</th>\n",
              "      <th>건물주용도코드</th>\n",
              "      <th>물건금액</th>\n",
              "      <th>건축년도</th>\n",
              "      <th>연식</th>\n",
              "    </tr>\n",
              "  </thead>\n",
              "  <tbody>\n",
              "    <tr>\n",
              "      <th>0</th>\n",
              "      <td>1153010200107400029</td>\n",
              "      <td>36.90</td>\n",
              "      <td>1.0</td>\n",
              "      <td>2001</td>\n",
              "      <td>105000000</td>\n",
              "      <td>1994.0</td>\n",
              "      <td>26</td>\n",
              "    </tr>\n",
              "    <tr>\n",
              "      <th>1</th>\n",
              "      <td>1117011500101930000</td>\n",
              "      <td>59.55</td>\n",
              "      <td>2.0</td>\n",
              "      <td>2001</td>\n",
              "      <td>830000000</td>\n",
              "      <td>2001.0</td>\n",
              "      <td>19</td>\n",
              "    </tr>\n",
              "    <tr>\n",
              "      <th>2</th>\n",
              "      <td>1117012900101930003</td>\n",
              "      <td>64.43</td>\n",
              "      <td>5.0</td>\n",
              "      <td>2001</td>\n",
              "      <td>735000000</td>\n",
              "      <td>1971.0</td>\n",
              "      <td>49</td>\n",
              "    </tr>\n",
              "    <tr>\n",
              "      <th>3</th>\n",
              "      <td>1117013000100220002</td>\n",
              "      <td>105.75</td>\n",
              "      <td>9.0</td>\n",
              "      <td>2001</td>\n",
              "      <td>1430000000</td>\n",
              "      <td>1982.0</td>\n",
              "      <td>38</td>\n",
              "    </tr>\n",
              "    <tr>\n",
              "      <th>4</th>\n",
              "      <td>1117011000100020033</td>\n",
              "      <td>73.04</td>\n",
              "      <td>3.0</td>\n",
              "      <td>2002</td>\n",
              "      <td>400000000</td>\n",
              "      <td>1993.0</td>\n",
              "      <td>27</td>\n",
              "    </tr>\n",
              "  </tbody>\n",
              "</table>\n",
              "</div>"
            ],
            "text/plain": [
              "                  지번코드    건물면적  층정보  건물주용도코드        물건금액    건축년도  연식\n",
              "0  1153010200107400029   36.90  1.0     2001   105000000  1994.0  26\n",
              "1  1117011500101930000   59.55  2.0     2001   830000000  2001.0  19\n",
              "2  1117012900101930003   64.43  5.0     2001   735000000  1971.0  49\n",
              "3  1117013000100220002  105.75  9.0     2001  1430000000  1982.0  38\n",
              "4  1117011000100020033   73.04  3.0     2002   400000000  1993.0  27"
            ]
          },
          "metadata": {},
          "execution_count": 120
        }
      ]
    },
    {
      "cell_type": "code",
      "metadata": {
        "id": "32RzZNqZ3UIJ",
        "outputId": "06e6eaf0-c55f-4e2f-df23-4b6658c795f5",
        "colab": {
          "base_uri": "https://localhost:8080/",
          "height": 203
        }
      },
      "source": [
        "# 건물면적을 통해 집을 소형/중형/대형으로 구분하면 어떨까?\n",
        "# 기준 : 60㎡ 이하 = 소형 / 60㎡ 초과~85㎡ 이하 = 중형 / 85㎡ 초과 = 대형\n",
        "# 참고 : https://www.hani.co.kr/arti/economy/property/689578.html\n",
        "df['주택규모'] = df['건물면적'].apply(lambda x: 'S' if x <= 60 else 'L' if x > 85 else 'M')\n",
        "df.head()"
      ],
      "execution_count": 121,
      "outputs": [
        {
          "output_type": "execute_result",
          "data": {
            "text/html": [
              "<div>\n",
              "<style scoped>\n",
              "    .dataframe tbody tr th:only-of-type {\n",
              "        vertical-align: middle;\n",
              "    }\n",
              "\n",
              "    .dataframe tbody tr th {\n",
              "        vertical-align: top;\n",
              "    }\n",
              "\n",
              "    .dataframe thead th {\n",
              "        text-align: right;\n",
              "    }\n",
              "</style>\n",
              "<table border=\"1\" class=\"dataframe\">\n",
              "  <thead>\n",
              "    <tr style=\"text-align: right;\">\n",
              "      <th></th>\n",
              "      <th>지번코드</th>\n",
              "      <th>건물면적</th>\n",
              "      <th>층정보</th>\n",
              "      <th>건물주용도코드</th>\n",
              "      <th>물건금액</th>\n",
              "      <th>건축년도</th>\n",
              "      <th>연식</th>\n",
              "      <th>주택규모</th>\n",
              "    </tr>\n",
              "  </thead>\n",
              "  <tbody>\n",
              "    <tr>\n",
              "      <th>0</th>\n",
              "      <td>1153010200107400029</td>\n",
              "      <td>36.90</td>\n",
              "      <td>1.0</td>\n",
              "      <td>2001</td>\n",
              "      <td>105000000</td>\n",
              "      <td>1994.0</td>\n",
              "      <td>26</td>\n",
              "      <td>S</td>\n",
              "    </tr>\n",
              "    <tr>\n",
              "      <th>1</th>\n",
              "      <td>1117011500101930000</td>\n",
              "      <td>59.55</td>\n",
              "      <td>2.0</td>\n",
              "      <td>2001</td>\n",
              "      <td>830000000</td>\n",
              "      <td>2001.0</td>\n",
              "      <td>19</td>\n",
              "      <td>S</td>\n",
              "    </tr>\n",
              "    <tr>\n",
              "      <th>2</th>\n",
              "      <td>1117012900101930003</td>\n",
              "      <td>64.43</td>\n",
              "      <td>5.0</td>\n",
              "      <td>2001</td>\n",
              "      <td>735000000</td>\n",
              "      <td>1971.0</td>\n",
              "      <td>49</td>\n",
              "      <td>M</td>\n",
              "    </tr>\n",
              "    <tr>\n",
              "      <th>3</th>\n",
              "      <td>1117013000100220002</td>\n",
              "      <td>105.75</td>\n",
              "      <td>9.0</td>\n",
              "      <td>2001</td>\n",
              "      <td>1430000000</td>\n",
              "      <td>1982.0</td>\n",
              "      <td>38</td>\n",
              "      <td>L</td>\n",
              "    </tr>\n",
              "    <tr>\n",
              "      <th>4</th>\n",
              "      <td>1117011000100020033</td>\n",
              "      <td>73.04</td>\n",
              "      <td>3.0</td>\n",
              "      <td>2002</td>\n",
              "      <td>400000000</td>\n",
              "      <td>1993.0</td>\n",
              "      <td>27</td>\n",
              "      <td>M</td>\n",
              "    </tr>\n",
              "  </tbody>\n",
              "</table>\n",
              "</div>"
            ],
            "text/plain": [
              "                  지번코드    건물면적  층정보  건물주용도코드        물건금액    건축년도  연식 주택규모\n",
              "0  1153010200107400029   36.90  1.0     2001   105000000  1994.0  26    S\n",
              "1  1117011500101930000   59.55  2.0     2001   830000000  2001.0  19    S\n",
              "2  1117012900101930003   64.43  5.0     2001   735000000  1971.0  49    M\n",
              "3  1117013000100220002  105.75  9.0     2001  1430000000  1982.0  38    L\n",
              "4  1117011000100020033   73.04  3.0     2002   400000000  1993.0  27    M"
            ]
          },
          "metadata": {},
          "execution_count": 121
        }
      ]
    },
    {
      "cell_type": "code",
      "metadata": {
        "id": "Jwpjd0_dcL4k"
      },
      "source": [
        "# 물건금액 9억 초과를 기준으로 고가주택과 고가주택이 아닌 물건으로 분류 예측은 어떨까?\n",
        "# 참고 : https://m.post.naver.com/viewer/postView.nhn?volumeNo=32576102&memberNo=36833282\n",
        "df['고가주택여부'] = df['물건금액'].apply(lambda x: 'Y' if x > 900000000)"
      ],
      "execution_count": null,
      "outputs": []
    },
    {
      "cell_type": "code",
      "metadata": {
        "id": "NlJFAssGtZeU",
        "outputId": "83f51647-b255-4952-ac45-f90cc65cefcd",
        "colab": {
          "base_uri": "https://localhost:8080/"
        }
      },
      "source": [
        "df.dtypes"
      ],
      "execution_count": 122,
      "outputs": [
        {
          "output_type": "execute_result",
          "data": {
            "text/plain": [
              "지번코드        object\n",
              "건물면적       float64\n",
              "층정보        float64\n",
              "건물주용도코드      int64\n",
              "물건금액         int64\n",
              "건축년도       float64\n",
              "연식           int64\n",
              "주택규모        object\n",
              "dtype: object"
            ]
          },
          "metadata": {},
          "execution_count": 122
        }
      ]
    },
    {
      "cell_type": "code",
      "metadata": {
        "id": "WzXRi1KMuGBZ",
        "outputId": "5cb9f3ff-a564-47f6-c406-d2265d507170",
        "colab": {
          "base_uri": "https://localhost:8080/"
        }
      },
      "source": [
        "# 층정보, 건물주용도코드, 건축년도는 연속적인 수치형이 아닌 범주형으로 간주하여 컬럼 형변환\n",
        "df[['층정보', '건물주용도코드', '건축년도']] = df[['층정보', '건물주용도코드', '건축년도']].astype(str)\n",
        "\n",
        "df.dtypes"
      ],
      "execution_count": 123,
      "outputs": [
        {
          "output_type": "execute_result",
          "data": {
            "text/plain": [
              "지번코드        object\n",
              "건물면적       float64\n",
              "층정보         object\n",
              "건물주용도코드     object\n",
              "물건금액         int64\n",
              "건축년도        object\n",
              "연식           int64\n",
              "주택규모        object\n",
              "dtype: object"
            ]
          },
          "metadata": {},
          "execution_count": 123
        }
      ]
    },
    {
      "cell_type": "code",
      "metadata": {
        "id": "7DtFdBmTXWxh",
        "outputId": "45cfb26c-62ab-4697-eb0b-73eb81ec1fb4",
        "colab": {
          "base_uri": "https://localhost:8080/",
          "height": 203
        }
      },
      "source": [
        "# 컬럼명 변경하기\n",
        "df.columns = ['addr_code', 'size', 'floor', 'type', 'price', 'built_year', 'years', 'size_grade']\n",
        "df.head()"
      ],
      "execution_count": 124,
      "outputs": [
        {
          "output_type": "execute_result",
          "data": {
            "text/html": [
              "<div>\n",
              "<style scoped>\n",
              "    .dataframe tbody tr th:only-of-type {\n",
              "        vertical-align: middle;\n",
              "    }\n",
              "\n",
              "    .dataframe tbody tr th {\n",
              "        vertical-align: top;\n",
              "    }\n",
              "\n",
              "    .dataframe thead th {\n",
              "        text-align: right;\n",
              "    }\n",
              "</style>\n",
              "<table border=\"1\" class=\"dataframe\">\n",
              "  <thead>\n",
              "    <tr style=\"text-align: right;\">\n",
              "      <th></th>\n",
              "      <th>addr_code</th>\n",
              "      <th>size</th>\n",
              "      <th>floor</th>\n",
              "      <th>type</th>\n",
              "      <th>price</th>\n",
              "      <th>built_year</th>\n",
              "      <th>years</th>\n",
              "      <th>size_grade</th>\n",
              "    </tr>\n",
              "  </thead>\n",
              "  <tbody>\n",
              "    <tr>\n",
              "      <th>0</th>\n",
              "      <td>1153010200107400029</td>\n",
              "      <td>36.90</td>\n",
              "      <td>1.0</td>\n",
              "      <td>2001</td>\n",
              "      <td>105000000</td>\n",
              "      <td>1994.0</td>\n",
              "      <td>26</td>\n",
              "      <td>S</td>\n",
              "    </tr>\n",
              "    <tr>\n",
              "      <th>1</th>\n",
              "      <td>1117011500101930000</td>\n",
              "      <td>59.55</td>\n",
              "      <td>2.0</td>\n",
              "      <td>2001</td>\n",
              "      <td>830000000</td>\n",
              "      <td>2001.0</td>\n",
              "      <td>19</td>\n",
              "      <td>S</td>\n",
              "    </tr>\n",
              "    <tr>\n",
              "      <th>2</th>\n",
              "      <td>1117012900101930003</td>\n",
              "      <td>64.43</td>\n",
              "      <td>5.0</td>\n",
              "      <td>2001</td>\n",
              "      <td>735000000</td>\n",
              "      <td>1971.0</td>\n",
              "      <td>49</td>\n",
              "      <td>M</td>\n",
              "    </tr>\n",
              "    <tr>\n",
              "      <th>3</th>\n",
              "      <td>1117013000100220002</td>\n",
              "      <td>105.75</td>\n",
              "      <td>9.0</td>\n",
              "      <td>2001</td>\n",
              "      <td>1430000000</td>\n",
              "      <td>1982.0</td>\n",
              "      <td>38</td>\n",
              "      <td>L</td>\n",
              "    </tr>\n",
              "    <tr>\n",
              "      <th>4</th>\n",
              "      <td>1117011000100020033</td>\n",
              "      <td>73.04</td>\n",
              "      <td>3.0</td>\n",
              "      <td>2002</td>\n",
              "      <td>400000000</td>\n",
              "      <td>1993.0</td>\n",
              "      <td>27</td>\n",
              "      <td>M</td>\n",
              "    </tr>\n",
              "  </tbody>\n",
              "</table>\n",
              "</div>"
            ],
            "text/plain": [
              "             addr_code    size floor  ... built_year  years size_grade\n",
              "0  1153010200107400029   36.90   1.0  ...     1994.0     26          S\n",
              "1  1117011500101930000   59.55   2.0  ...     2001.0     19          S\n",
              "2  1117012900101930003   64.43   5.0  ...     1971.0     49          M\n",
              "3  1117013000100220002  105.75   9.0  ...     1982.0     38          L\n",
              "4  1117011000100020033   73.04   3.0  ...     1993.0     27          M\n",
              "\n",
              "[5 rows x 8 columns]"
            ]
          },
          "metadata": {},
          "execution_count": 124
        }
      ]
    },
    {
      "cell_type": "markdown",
      "metadata": {
        "id": "ClEanrdXG1DZ"
      },
      "source": [
        "## 🔥 도전과제"
      ]
    },
    {
      "cell_type": "markdown",
      "metadata": {
        "id": "RpJOLma6G1DZ"
      },
      "source": [
        "### 3) 조금 부족하더라도 최소한의 랭글링으로 데이터를 준비하여 간단한 모델을 학습시켜 보세요\n",
        "- 여러분들이 선택한 데이터를 가지고 간단한 모델을 학습하고 결과를 리포팅 합니다."
      ]
    },
    {
      "cell_type": "code",
      "metadata": {
        "colab": {
          "base_uri": "https://localhost:8080/",
          "height": 295
        },
        "id": "N9K_Zn5wG1DZ",
        "outputId": "7410c2b9-2431-4e1e-f2ee-3f165ec8ef84"
      },
      "source": [
        "df.describe()"
      ],
      "execution_count": 125,
      "outputs": [
        {
          "output_type": "execute_result",
          "data": {
            "text/html": [
              "<div>\n",
              "<style scoped>\n",
              "    .dataframe tbody tr th:only-of-type {\n",
              "        vertical-align: middle;\n",
              "    }\n",
              "\n",
              "    .dataframe tbody tr th {\n",
              "        vertical-align: top;\n",
              "    }\n",
              "\n",
              "    .dataframe thead th {\n",
              "        text-align: right;\n",
              "    }\n",
              "</style>\n",
              "<table border=\"1\" class=\"dataframe\">\n",
              "  <thead>\n",
              "    <tr style=\"text-align: right;\">\n",
              "      <th></th>\n",
              "      <th>size</th>\n",
              "      <th>price</th>\n",
              "      <th>years</th>\n",
              "    </tr>\n",
              "  </thead>\n",
              "  <tbody>\n",
              "    <tr>\n",
              "      <th>count</th>\n",
              "      <td>174284.000000</td>\n",
              "      <td>1.742840e+05</td>\n",
              "      <td>174284.000000</td>\n",
              "    </tr>\n",
              "    <tr>\n",
              "      <th>mean</th>\n",
              "      <td>71.593930</td>\n",
              "      <td>6.253840e+08</td>\n",
              "      <td>18.514918</td>\n",
              "    </tr>\n",
              "    <tr>\n",
              "      <th>std</th>\n",
              "      <td>66.307145</td>\n",
              "      <td>6.240576e+08</td>\n",
              "      <td>12.133741</td>\n",
              "    </tr>\n",
              "    <tr>\n",
              "      <th>min</th>\n",
              "      <td>5.070000</td>\n",
              "      <td>1.700000e+07</td>\n",
              "      <td>-1.000000</td>\n",
              "    </tr>\n",
              "    <tr>\n",
              "      <th>25%</th>\n",
              "      <td>41.220000</td>\n",
              "      <td>2.500000e+08</td>\n",
              "      <td>9.000000</td>\n",
              "    </tr>\n",
              "    <tr>\n",
              "      <th>50%</th>\n",
              "      <td>59.760000</td>\n",
              "      <td>4.450000e+08</td>\n",
              "      <td>18.000000</td>\n",
              "    </tr>\n",
              "    <tr>\n",
              "      <th>75%</th>\n",
              "      <td>84.820000</td>\n",
              "      <td>8.000000e+08</td>\n",
              "      <td>27.000000</td>\n",
              "    </tr>\n",
              "    <tr>\n",
              "      <th>max</th>\n",
              "      <td>2804.970000</td>\n",
              "      <td>2.900000e+10</td>\n",
              "      <td>120.000000</td>\n",
              "    </tr>\n",
              "  </tbody>\n",
              "</table>\n",
              "</div>"
            ],
            "text/plain": [
              "                size         price          years\n",
              "count  174284.000000  1.742840e+05  174284.000000\n",
              "mean       71.593930  6.253840e+08      18.514918\n",
              "std        66.307145  6.240576e+08      12.133741\n",
              "min         5.070000  1.700000e+07      -1.000000\n",
              "25%        41.220000  2.500000e+08       9.000000\n",
              "50%        59.760000  4.450000e+08      18.000000\n",
              "75%        84.820000  8.000000e+08      27.000000\n",
              "max      2804.970000  2.900000e+10     120.000000"
            ]
          },
          "metadata": {},
          "execution_count": 125
        }
      ]
    },
    {
      "cell_type": "code",
      "metadata": {
        "id": "Jj9OV7xDYYU7",
        "outputId": "1d6c6040-d916-4861-bc2a-4db839b6048c",
        "colab": {
          "base_uri": "https://localhost:8080/",
          "height": 388
        }
      },
      "source": [
        "col_list = ['size', 'price', 'years']\n",
        "\n",
        "def checkOutlier(df, cols):\n",
        "  fig, axes = plt.subplots(1, 3, figsize=(24, 6))\n",
        "  for i, col in enumerate(col_list):\n",
        "    sns.boxplot(x=col, data=df, ax=axes[i])\n",
        "\n",
        "checkOutlier(df, col_list)"
      ],
      "execution_count": 126,
      "outputs": [
        {
          "output_type": "display_data",
          "data": {
            "image/png": "[encoded data removed]",
            "text/plain": [
              "<Figure size 1728x432 with 3 Axes>"
            ]
          },
          "metadata": {
            "needs_background": "light"
          }
        }
      ]
    },
    {
      "cell_type": "code",
      "metadata": {
        "id": "aXAk8lXdYxx7",
        "outputId": "f8fc7eea-f5e6-42de-c75c-eb7242dd30af",
        "colab": {
          "base_uri": "https://localhost:8080/",
          "height": 388
        }
      },
      "source": [
        "# 수치형 컬럼 전체적으로 이상치로 보이는 값들이 존재함\n",
        "# 각각에 대하여 상위 5%를 제거\n",
        "target = 'price'\n",
        "df = df[df[target] < np.percentile(df[target], 95)]\n",
        "checkOutlier(df, col_list)"
      ],
      "execution_count": 127,
      "outputs": [
        {
          "output_type": "display_data",
          "data": {
            "image/png": "[encoded data removed]",
            "text/plain": [
              "<Figure size 1728x432 with 3 Axes>"
            ]
          },
          "metadata": {
            "needs_background": "light"
          }
        }
      ]
    },
    {
      "cell_type": "code",
      "metadata": {
        "id": "cAWHiDEkbJoy",
        "outputId": "2ed99601-500d-452f-85bc-8673ef332582",
        "colab": {
          "base_uri": "https://localhost:8080/",
          "height": 388
        }
      },
      "source": [
        "df = df[df['size'] < np.percentile(df['size'], 95)]\n",
        "checkOutlier(df, col_list)"
      ],
      "execution_count": 128,
      "outputs": [
        {
          "output_type": "display_data",
          "data": {
            "image/png": "[encoded data removed]",
            "text/plain": [
              "<Figure size 1728x432 with 3 Axes>"
            ]
          },
          "metadata": {
            "needs_background": "light"
          }
        }
      ]
    },
    {
      "cell_type": "code",
      "metadata": {
        "id": "Iu-caR3wbV7a",
        "outputId": "feb5511e-3d91-4a1d-8dc9-dcdf25bb298d",
        "colab": {
          "base_uri": "https://localhost:8080/",
          "height": 388
        }
      },
      "source": [
        "df = df[df['years'] < np.percentile(df['years'], 95)]\n",
        "checkOutlier(df, col_list)"
      ],
      "execution_count": 130,
      "outputs": [
        {
          "output_type": "display_data",
          "data": {
            "image/png": "[encoded data removed]",
            "text/plain": [
              "<Figure size 1728x432 with 3 Axes>"
            ]
          },
          "metadata": {
            "needs_background": "light"
          }
        }
      ]
    },
    {
      "cell_type": "code",
      "metadata": {
        "id": "--1djB-UY6Wl",
        "outputId": "1551374d-7afa-4046-aba2-e71eb066b543",
        "colab": {
          "base_uri": "https://localhost:8080/"
        }
      },
      "source": [
        "df.shape"
      ],
      "execution_count": 131,
      "outputs": [
        {
          "output_type": "execute_result",
          "data": {
            "text/plain": [
              "(149177, 8)"
            ]
          },
          "metadata": {},
          "execution_count": 131
        }
      ]
    },
    {
      "cell_type": "code",
      "metadata": {
        "id": "uTiHu37QY-jB",
        "outputId": "17ab78a0-893f-4731-c465-da8b2575fac0",
        "colab": {
          "base_uri": "https://localhost:8080/",
          "height": 142
        }
      },
      "source": [
        "# 특성과 타겟의 상관관계 보기\n",
        "df.corr()"
      ],
      "execution_count": 132,
      "outputs": [
        {
          "output_type": "execute_result",
          "data": {
            "text/html": [
              "<div>\n",
              "<style scoped>\n",
              "    .dataframe tbody tr th:only-of-type {\n",
              "        vertical-align: middle;\n",
              "    }\n",
              "\n",
              "    .dataframe tbody tr th {\n",
              "        vertical-align: top;\n",
              "    }\n",
              "\n",
              "    .dataframe thead th {\n",
              "        text-align: right;\n",
              "    }\n",
              "</style>\n",
              "<table border=\"1\" class=\"dataframe\">\n",
              "  <thead>\n",
              "    <tr style=\"text-align: right;\">\n",
              "      <th></th>\n",
              "      <th>size</th>\n",
              "      <th>price</th>\n",
              "      <th>years</th>\n",
              "    </tr>\n",
              "  </thead>\n",
              "  <tbody>\n",
              "    <tr>\n",
              "      <th>size</th>\n",
              "      <td>1.000000</td>\n",
              "      <td>0.669845</td>\n",
              "      <td>0.227158</td>\n",
              "    </tr>\n",
              "    <tr>\n",
              "      <th>price</th>\n",
              "      <td>0.669845</td>\n",
              "      <td>1.000000</td>\n",
              "      <td>0.039608</td>\n",
              "    </tr>\n",
              "    <tr>\n",
              "      <th>years</th>\n",
              "      <td>0.227158</td>\n",
              "      <td>0.039608</td>\n",
              "      <td>1.000000</td>\n",
              "    </tr>\n",
              "  </tbody>\n",
              "</table>\n",
              "</div>"
            ],
            "text/plain": [
              "           size     price     years\n",
              "size   1.000000  0.669845  0.227158\n",
              "price  0.669845  1.000000  0.039608\n",
              "years  0.227158  0.039608  1.000000"
            ]
          },
          "metadata": {},
          "execution_count": 132
        }
      ]
    },
    {
      "cell_type": "code",
      "metadata": {
        "id": "IgGG8ukhZFfo",
        "outputId": "698b0812-784f-4483-d215-4d7dcca6e360",
        "colab": {
          "base_uri": "https://localhost:8080/",
          "height": 308
        }
      },
      "source": [
        "# 가장 상관관계가 높은 온도와 타겟의 관계 시각화해보기\n",
        "baseline = df.price.mean() # 기준 모델 : 타겟(gas_supply)의 평균값\n",
        "print(baseline)\n",
        "\n",
        "sns.scatterplot(x='size', y='price', data=df)\n",
        "plt.axhline(baseline, color='red'); # 기준 모델 시각화"
      ],
      "execution_count": 136,
      "outputs": [
        {
          "output_type": "stream",
          "name": "stdout",
          "text": [
            "496022625.40472054\n"
          ]
        },
        {
          "output_type": "display_data",
          "data": {
            "image/png": "[encoded data removed]",
            "text/plain": [
              "<Figure size 432x288 with 1 Axes>"
            ]
          },
          "metadata": {
            "needs_background": "light"
          }
        }
      ]
    },
    {
      "cell_type": "code",
      "metadata": {
        "id": "6vRfwh3db7gh",
        "outputId": "008c01a0-27f0-42ae-be21-f8f8ea975065",
        "colab": {
          "base_uri": "https://localhost:8080/"
        }
      },
      "source": [
        "# 기준 성능\n",
        "errors = baseline - df.price\n",
        "baseline_mae = errors.abs().mean()\n",
        "baseline_mae"
      ],
      "execution_count": 137,
      "outputs": [
        {
          "output_type": "execute_result",
          "data": {
            "text/plain": [
              "274068243.68311477"
            ]
          },
          "metadata": {},
          "execution_count": 137
        }
      ]
    }
  ]
}