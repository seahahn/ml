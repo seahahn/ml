{
  "nbformat": 4,
  "nbformat_minor": 0,
  "metadata": {
    "kernelspec": {
      "display_name": "Python 3",
      "language": "python",
      "name": "python3"
    },
    "language_info": {
      "codemirror_mode": {
        "name": "ipython",
        "version": 3
      },
      "file_extension": ".py",
      "mimetype": "text/x-python",
      "name": "python",
      "nbconvert_exporter": "python",
      "pygments_lexer": "ipython3",
      "version": "3.7.7"
    },
    "colab": {
      "name": "n233a-feature-importances.ipynb",
      "provenance": []
    }
  },
  "cells": [
    {
      "cell_type": "markdown",
      "metadata": {
        "id": "nCc3XZEyG3XV"
      },
      "source": [
        "<img align=\"right\" src=\"https://ds-cs-images.s3.ap-northeast-2.amazonaws.com/Codestates_Fulllogo_Color.png\" width=100>\n",
        "\n",
        "## *AIB / SECTION 2 / SPRINT 3 / NOTE 3*\n",
        "\n",
        "# 📝 Assignment\n",
        "---\n",
        "# Feature Importances"
      ]
    },
    {
      "cell_type": "markdown",
      "metadata": {
        "id": "7xyrEu_YSUFm"
      },
      "source": [
        "### 1) 지속적으로 포트폴리오 프로젝트를 수행하세요\n",
        "- 지속적으로 데이터를 랭글링 하고 추가적인 시각화 결과를 만드세요\n",
        "- 작성한 코드마다 적절한 코멘트를 추가하세요\n",
        "- 모델을 학습시키고 베이스라인 모델과 비교해 보세요\n",
        "- **포트폴리오 프로젝트의 베이스라인 모델이 무엇인지 한 문장으로 설명하세요.** "
      ]
    },
    {
      "cell_type": "code",
      "metadata": {
        "id": "LvgV5KbvSUFn",
        "outputId": "ad0bdb05-6dbb-45d9-c877-80504fbc6308",
        "colab": {
          "base_uri": "https://localhost:8080/"
        }
      },
      "source": [
        "# ! pip install category_encoders\n",
        "\n",
        "import pandas as pd\n",
        "import numpy as np\n",
        "import seaborn as sns\n",
        "import matplotlib.pyplot as plt\n",
        "\n",
        "from category_encoders import TargetEncoder, OrdinalEncoder\n",
        "from sklearn.preprocessing import StandardScaler\n",
        "from sklearn.compose import TransformedTargetRegressor\n",
        "\n",
        "from sklearn.linear_model import RidgeCV, LogisticRegression\n",
        "from sklearn.tree import DecisionTreeRegressor, DecisionTreeClassifier\n",
        "from sklearn.ensemble import RandomForestRegressor, RandomForestClassifier\n",
        "\n",
        "from sklearn.model_selection import train_test_split, RandomizedSearchCV, GridSearchCV\n",
        "from sklearn.pipeline import make_pipeline, Pipeline\n",
        "from sklearn.metrics import mean_absolute_error, r2_score, f1_score, roc_curve, classification_report, plot_confusion_matrix, roc_auc_score\n",
        "from scipy.stats import randint, uniform"
      ],
      "execution_count": 1,
      "outputs": [
        {
          "output_type": "stream",
          "name": "stderr",
          "text": [
            "/usr/local/lib/python3.7/dist-packages/statsmodels/tools/_testing.py:19: FutureWarning: pandas.util.testing is deprecated. Use the functions in the public API at pandas.testing instead.\n",
            "  import pandas.util.testing as tm\n"
          ]
        }
      ]
    },
    {
      "cell_type": "code",
      "metadata": {
        "id": "XgCrIWmkSUFo",
        "outputId": "776d8601-d006-429a-9bbf-ae8954613b79",
        "colab": {
          "base_uri": "https://localhost:8080/"
        }
      },
      "source": [
        "# 자료 출처 : 서울 열린데이터 광장 - 서울특별시 부동산 실거래가 정보\n",
        "# https://data.seoul.go.kr/dataList/OA-15548/S/1/datasetView.do\n",
        "\n",
        "df = pd.read_csv('https://docs.google.com/uc?export=download&id=1WyeDe2Ry4ohJobcbnQJXHxFEAtcg-CC_', encoding='cp949')\n",
        "\n",
        "# 서울 부동산 물건금액 예측해보기\n",
        "# 1) 가격 예측\n",
        "# 2) 고가 주택(9억 초과)과 고가 주택 아닌 것으로 분류(물건가격으로 특성 만든 후 물건금액 특성 제거를 통해 정보 누수 예방하기)"
      ],
      "execution_count": 2,
      "outputs": [
        {
          "output_type": "stream",
          "name": "stderr",
          "text": [
            "/usr/local/lib/python3.7/dist-packages/IPython/core/interactiveshell.py:2718: DtypeWarning: Columns (1) have mixed types.Specify dtype option on import or set low_memory=False.\n",
            "  interactivity=interactivity, compiler=compiler, result=result)\n"
          ]
        }
      ]
    },
    {
      "cell_type": "code",
      "metadata": {
        "id": "Ee2_in8nSgsB",
        "outputId": "a09cf165-81b8-47fb-e621-62439b32af32",
        "colab": {
          "base_uri": "https://localhost:8080/"
        }
      },
      "source": [
        "# 지번 코드를 기준으로 할 것이므로 지번코드 자릿수가 19가 아닌 것을 제거\n",
        "# 제거될 데이터는 전체의 10% 미만임\n",
        "df = df[df['지번코드'].map(str).apply(len) == 19]\n",
        "\n",
        "# 층정보 -1인 경우는 실제로 반지하일 수도 있겠으나, 데이터의 수가 전체의 약 3% 수준이라 영향이 크지 않다고 판단함\n",
        "# 층정보 -2, -3인 경우는 부호 표기가 반대로 된 것으로 판단함\n",
        "# 따라서 음수인 층정보는 양수로 바꾸는 것으로 처리\n",
        "tmp_idx = df[df['층정보'] < 0]['층정보'].index\n",
        "df.loc[tmp_idx, ['층정보']] = df[df['층정보'] < 0]['층정보'].mul(-1)\n",
        "\n",
        "# 건축년도가 nan 또는 0인 데이터가 있다\n",
        "# 전체 데이터의 약 1% 이므로 제거\n",
        "df = df[(df['건축년도'] != 0) & ~(df['건축년도'].isna())]\n",
        "len(df[(df['건축년도'] == 0) | (df['건축년도'].isna())])\n",
        "\n",
        "# 층정보와 건물명이 없는 데이터는 모두 단독주택이므로 층정보는 2로 대체\n",
        "# (건축법 상 단독주택(단독주택/다중주택/다가구주택)은 3개 층 이하로 제한되어 있음 -> 1~3의 중간값인 2로 대체)\n",
        "# 참고 : https://justdim.tistory.com/146\n",
        "df['층정보'] = df['층정보'].fillna(2)"
      ],
      "execution_count": 3,
      "outputs": [
        {
          "output_type": "stream",
          "name": "stderr",
          "text": [
            "/usr/local/lib/python3.7/dist-packages/pandas/core/indexing.py:1734: SettingWithCopyWarning: \n",
            "A value is trying to be set on a copy of a slice from a DataFrame.\n",
            "Try using .loc[row_indexer,col_indexer] = value instead\n",
            "\n",
            "See the caveats in the documentation: https://pandas.pydata.org/pandas-docs/stable/user_guide/indexing.html#returning-a-view-versus-a-copy\n",
            "  isetter(loc, value[:, i].tolist())\n"
          ]
        }
      ]
    },
    {
      "cell_type": "code",
      "metadata": {
        "id": "vB7bVZFZS0CZ"
      },
      "source": [
        "# 불필요한 컬럼 제거\n",
        "\n",
        "# # 대지권면적은 결측치가 대다수이므로 제거\n",
        "# # 참고 : https://m.blog.naver.com/PostView.naver?isHttpsRedirect=true&blogId=ctrfindit&logNo=221272287733\n",
        "# df = df.drop('대지권면적', axis=1)\n",
        "\n",
        "# # 실제로 건물명이 가격에 영향을 줄 것이라는 심증이 있으나(브랜드 가치 등의 이유),\n",
        "# # 현재로서는 처리할 방법을 모르기 때문에 건물명 컬럼은 제거\n",
        "# df = df.drop('건물명', axis=1)\n",
        "\n",
        "# # 실거래가아이디는 거래 자체의 고유 번호이므로 가격과 관련없다고 판단하여 컬럼 제거\n",
        "# df = df.drop('실거래가아이디', axis=1)\n",
        "\n",
        "# # 법정동코드는 지번코드에서 '필지구분(1)+본번(4)+부번(4)'을 제외한 것으로서, 지번코드가 법정동코드의 정보를 반영한다고 봄\n",
        "# # 따라서 법정동코드 컬럼 제거. 시군구코드도 지번코드에 포함되므로 컬럼 제거.\n",
        "# # 자치구명, 법정동명 또한 지번코드가 모두 반영하므로 컬럼 제거\n",
        "# # 참고 : https://zelkun.tistory.com/entry/%EB%B2%95%EC%A0%95%EB%8F%99%ED%96%89%EC%A0%95%EB%8F%99-%EC%B0%A8%EC%9D%B4%EC%A0%90-%EB%B0%8F-%EA%B5%AC%EB%B3%84%ED%98%84%ED%99%A9\n",
        "# df = df.drop(['법정동코드', '시군구코드', '자치구명', '법정동명'], axis=1)\n",
        "\n",
        "# # 모든 데이터가 2020년에 신고된 거래 데이터이므로 신고년도는 불필요함. 컬럼 제거\n",
        "# df = df.drop('신고년도', axis=1)\n",
        "\n",
        "# # 업무구분 모두 '신고'이고, 업무구분코드도 모두 이에 해당하는 '4'임\n",
        "# # 그 이전에 컬럼 자체도 불필요하다고 판단함. 따라서 컬럼 제거\n",
        "# df = df.drop(['업무구분', '업무구분코드'], axis=1)\n",
        "\n",
        "# # 물건번호는 경매에서 각 물건에 붙는 번호를 의미함\n",
        "# # 예를 들어 한 사건에 한 개 물건이면 물건번호는 1임.\n",
        "# # 일종의 고유 번호이므로 물건가격과 상관없다고 판단하여 컬럼 제거\n",
        "# # 참고 : https://m.blog.naver.com/maestron1/221534254422\n",
        "# df = df.drop('물건번호', axis=1)\n",
        "\n",
        "# # 관리구분코드는 공공기관 내부적으로 사용하는 것으로 추정\n",
        "# # 자세한 내용은 확인할 수 없었음\n",
        "# # 명칭으로 보아 물건가격과는 관련이 없다고 보고 컬럼 제거\n",
        "# df = df.drop('관리구분코드', axis=1)\n",
        "\n",
        "# # 건물주용도코드가 건물주용도를 반영하고 있으므로 건물주용도 컬럼 제거\n",
        "# df = df.drop('건물주용도', axis=1)\n",
        "\n",
        "# 위 과정 한꺼번에 정리한 결과 가져오기\n",
        "df = df[['지번코드',\t'건물면적',\t'층정보',\t'건물주용도코드',\t'물건금액',\t'건축년도']]"
      ],
      "execution_count": 4,
      "outputs": []
    },
    {
      "cell_type": "code",
      "metadata": {
        "id": "WCLw_KgUS4mo"
      },
      "source": [
        "# 건축년도를 그대로 사용하기보다는 몇 년이나 오래 되었는지 나타내는 컬럼이 필요하지 않을까?\n",
        "df['연식'] = (2020 - df['건축년도']).astype(int)\n",
        "\n",
        "# 건물면적을 통해 집을 소형/중형/대형으로 구분하면 어떨까?\n",
        "# 기준 : 60㎡ 이하 = 소형 / 60㎡ 초과~85㎡ 이하 = 중형 / 85㎡ 초과 = 대형\n",
        "# 참고 : https://www.hani.co.kr/arti/economy/property/689578.html\n",
        "df['주택규모'] = df['건물면적'].apply(lambda x: 'S' if x <= 60 else 'L' if x > 85 else 'M')\n",
        "\n",
        "# 물건금액 9억 초과를 기준으로 고가주택과 고가주택이 아닌 물건으로 분류 예측은 어떨까?\n",
        "# 2020년 기준 고가주택 기준 : 9억\n",
        "# 참고 : https://m.post.naver.com/viewer/postView.nhn?volumeNo=32576102&memberNo=36833282\n",
        "df['고가주택여부'] = df['물건금액'].apply(lambda x: 1 if x > 900000000 else 0)\n",
        "\n",
        "# 층정보, 건축년도는 int로 형변환하여 소수점 제거\n",
        "df[['층정보', '건축년도']] = df[['층정보', '건축년도']].astype(int)\n",
        "\n",
        "# 층정보, 건축년도, 건물주용도코드는 연속적인 수치형이 아닌 범주형으로 간주하여 컬럼 형변환\n",
        "df[['층정보', '건축년도', '건물주용도코드']] = df[['층정보', '건축년도', '건물주용도코드']].astype(str)\n",
        "\n",
        "# 컬럼명 변경하기\n",
        "df.columns = ['addr_code', 'size', 'floor', 'type', 'price', 'built_year', 'years', 'size_grade', 'is_high_price']"
      ],
      "execution_count": 5,
      "outputs": []
    },
    {
      "cell_type": "code",
      "metadata": {
        "id": "5Adgi4WnTIsd",
        "outputId": "ab077e07-1ed5-41b7-a17a-c65fa7cf5771",
        "colab": {
          "base_uri": "https://localhost:8080/",
          "height": 388
        }
      },
      "source": [
        "# 수치형 컬럼(타겟 포함)의 이상치 확인하기\n",
        "col_list = ['size', 'price', 'years']\n",
        "\n",
        "def checkOutlier(df, cols):\n",
        "  fig, axes = plt.subplots(1, 3, figsize=(24, 6))\n",
        "  for i, col in enumerate(col_list):\n",
        "    sns.boxplot(x=col, data=df, ax=axes[i])\n",
        "\n",
        "checkOutlier(df, col_list)"
      ],
      "execution_count": 6,
      "outputs": [
        {
          "output_type": "display_data",
          "data": {
            "image/png": "[encoded data removed]",
            "text/plain": [
              "<Figure size 1728x432 with 3 Axes>"
            ]
          },
          "metadata": {
            "needs_background": "light"
          }
        }
      ]
    },
    {
      "cell_type": "code",
      "metadata": {
        "id": "fmDphapnTOmz",
        "outputId": "7917ae4b-7f2a-4b60-f580-0681decdfa04",
        "colab": {
          "base_uri": "https://localhost:8080/",
          "height": 388
        }
      },
      "source": [
        "# 수치형 컬럼 전체적으로 이상치로 보이는 값들이 존재함\n",
        "# 각각에 대하여 상위 5%를 제거\n",
        "target = 'price'\n",
        "df = df[df[target] < np.percentile(df[target], 95)]\n",
        "df = df[df['size'] < np.percentile(df['size'], 95)]\n",
        "df = df[df['years'] < np.percentile(df['years'], 95)]\n",
        "checkOutlier(df, col_list)\n",
        "\n",
        "# 인덱스 재정렬\n",
        "df = df.reset_index(drop=True)"
      ],
      "execution_count": 7,
      "outputs": [
        {
          "output_type": "display_data",
          "data": {
            "image/png": "[encoded data removed]",
            "text/plain": [
              "<Figure size 1728x432 with 3 Axes>"
            ]
          },
          "metadata": {
            "needs_background": "light"
          }
        }
      ]
    },
    {
      "cell_type": "code",
      "metadata": {
        "id": "FnDemSqgTWX_",
        "outputId": "8838177a-eabd-47c9-962c-bede70568f7c",
        "colab": {
          "base_uri": "https://localhost:8080/",
          "height": 308
        }
      },
      "source": [
        "# 가장 상관관계가 높은 size와 타겟(price)의 관계 시각화해보기\n",
        "baseline = df.price.mean() # 기준 모델 : 타겟(price)의 평균값\n",
        "print(baseline)\n",
        "\n",
        "sns.scatterplot(x='size', y='price', data=df)\n",
        "plt.axhline(baseline, color='red'); # 기준 모델 시각화\n",
        "\n",
        "# 기준 모델의 의미 : 2020년 서울 부동산 물건가격(실거래가)의 평균"
      ],
      "execution_count": 8,
      "outputs": [
        {
          "output_type": "stream",
          "name": "stdout",
          "text": [
            "470946234.08997595\n"
          ]
        },
        {
          "output_type": "display_data",
          "data": {
            "image/png": "[encoded data removed]",
            "text/plain": [
              "<Figure size 432x288 with 1 Axes>"
            ]
          },
          "metadata": {
            "needs_background": "light"
          }
        }
      ]
    },
    {
      "cell_type": "code",
      "metadata": {
        "id": "djqmifSITde1",
        "outputId": "df4aa887-c52f-4273-c564-df472c5930c4",
        "colab": {
          "base_uri": "https://localhost:8080/",
          "height": 279
        }
      },
      "source": [
        "# 타겟(price)의 분포 확인해보기\n",
        "sns.histplot(df.price, kde=False);\n",
        "plt.axvline(baseline, color='red'); # 기준 모델 시각화\n",
        "# price는 right-skewed이므로 로그 변환이 필요"
      ],
      "execution_count": 9,
      "outputs": [
        {
          "output_type": "display_data",
          "data": {
            "image/png": "[encoded data removed]",
            "text/plain": [
              "<Figure size 432x288 with 1 Axes>"
            ]
          },
          "metadata": {
            "needs_background": "light"
          }
        }
      ]
    },
    {
      "cell_type": "code",
      "metadata": {
        "id": "Q1i7rXGuTen2",
        "outputId": "147f551d-46a5-4c9c-83be-1567478ae321",
        "colab": {
          "base_uri": "https://localhost:8080/"
        }
      },
      "source": [
        "# 기준 성능(회귀)\n",
        "errors = baseline - df.price\n",
        "baseline_mae = errors.abs().mean()\n",
        "baseline_mae"
      ],
      "execution_count": 10,
      "outputs": [
        {
          "output_type": "execute_result",
          "data": {
            "text/plain": [
              "254535177.4446938"
            ]
          },
          "metadata": {},
          "execution_count": 10
        }
      ]
    },
    {
      "cell_type": "code",
      "metadata": {
        "id": "Qy2WWlJ2Tf-c",
        "outputId": "05ca9309-ef9a-4434-aa7d-95e9c980e915",
        "colab": {
          "base_uri": "https://localhost:8080/",
          "height": 333
        }
      },
      "source": [
        "# 타겟(is_high_price)의 클래스 비율 확인해보기 - 기준 성능(분류)\n",
        "sns.countplot(x=df.is_high_price);\n",
        "df.is_high_price.value_counts(normalize=True)\n",
        "# is_high_price는 클래스 비율이 불균형하므로 학습 시 class_weight 관련 설정이 필요"
      ],
      "execution_count": 11,
      "outputs": [
        {
          "output_type": "execute_result",
          "data": {
            "text/plain": [
              "0    0.895478\n",
              "1    0.104522\n",
              "Name: is_high_price, dtype: float64"
            ]
          },
          "metadata": {},
          "execution_count": 11
        },
        {
          "output_type": "display_data",
          "data": {
            "image/png": "[encoded data removed]",
            "text/plain": [
              "<Figure size 432x288 with 1 Axes>"
            ]
          },
          "metadata": {
            "needs_background": "light"
          }
        }
      ]
    },
    {
      "cell_type": "code",
      "metadata": {
        "id": "Yie3ocjfThRI",
        "outputId": "890f6646-0abb-407a-9016-b8cceef0e007",
        "colab": {
          "base_uri": "https://localhost:8080/"
        }
      },
      "source": [
        "# 물건가격 예측은 회귀, 고가주택여부는 분류\n",
        "# 회귀 : 릿지 회귀, 결정 트리, 랜덤 포레스트\n",
        "# 분류 : 로지스틱 회귀, 결정 트리, 랜덤 포레스트\n",
        "\n",
        "# 훈련 / 검증 / 테스트 셋으로 분리\n",
        "train, test = train_test_split(df, test_size=0.30, random_state=2)\n",
        "train, val = train_test_split(train, test_size=0.30, random_state=2)\n",
        "\n",
        "train.shape, val.shape, test.shape"
      ],
      "execution_count": 12,
      "outputs": [
        {
          "output_type": "execute_result",
          "data": {
            "text/plain": [
              "((66831, 9), (28643, 9), (40918, 9))"
            ]
          },
          "metadata": {},
          "execution_count": 12
        }
      ]
    },
    {
      "cell_type": "code",
      "metadata": {
        "id": "1Z4soCqwTib5",
        "outputId": "56f59fc7-b780-4c64-cb9d-9c3bb50b07c3",
        "colab": {
          "base_uri": "https://localhost:8080/",
          "height": 203
        }
      },
      "source": [
        "# 특성과 타겟 분리하기\n",
        "target_cl = 'is_high_price' # 분류 문제 타겟\n",
        "targets = [target, target_cl]\n",
        "features = train.drop(columns=targets).columns\n",
        "\n",
        "X_train = train[features]\n",
        "y_train = train[target]\n",
        "y_train_cl = train[target_cl]\n",
        "X_val = val[features]\n",
        "y_val = val[target]\n",
        "y_val_cl = val[target_cl]\n",
        "X_test = test[features]\n",
        "y_test = test[target]\n",
        "y_test_cl = test[target_cl]\n",
        "\n",
        "X_train.head()"
      ],
      "execution_count": 13,
      "outputs": [
        {
          "output_type": "execute_result",
          "data": {
            "text/html": [
              "<div>\n",
              "<style scoped>\n",
              "    .dataframe tbody tr th:only-of-type {\n",
              "        vertical-align: middle;\n",
              "    }\n",
              "\n",
              "    .dataframe tbody tr th {\n",
              "        vertical-align: top;\n",
              "    }\n",
              "\n",
              "    .dataframe thead th {\n",
              "        text-align: right;\n",
              "    }\n",
              "</style>\n",
              "<table border=\"1\" class=\"dataframe\">\n",
              "  <thead>\n",
              "    <tr style=\"text-align: right;\">\n",
              "      <th></th>\n",
              "      <th>addr_code</th>\n",
              "      <th>size</th>\n",
              "      <th>floor</th>\n",
              "      <th>type</th>\n",
              "      <th>built_year</th>\n",
              "      <th>years</th>\n",
              "      <th>size_grade</th>\n",
              "    </tr>\n",
              "  </thead>\n",
              "  <tbody>\n",
              "    <tr>\n",
              "      <th>127762</th>\n",
              "      <td>1121510500107620000</td>\n",
              "      <td>84.60</td>\n",
              "      <td>1</td>\n",
              "      <td>2001</td>\n",
              "      <td>1996</td>\n",
              "      <td>24</td>\n",
              "      <td>M</td>\n",
              "    </tr>\n",
              "    <tr>\n",
              "      <th>44709</th>\n",
              "      <td>1120010700103040007</td>\n",
              "      <td>57.31</td>\n",
              "      <td>4</td>\n",
              "      <td>2002</td>\n",
              "      <td>1994</td>\n",
              "      <td>26</td>\n",
              "      <td>S</td>\n",
              "    </tr>\n",
              "    <tr>\n",
              "      <th>75903</th>\n",
              "      <td>1135010600105120000</td>\n",
              "      <td>59.26</td>\n",
              "      <td>9</td>\n",
              "      <td>2001</td>\n",
              "      <td>1991</td>\n",
              "      <td>29</td>\n",
              "      <td>S</td>\n",
              "    </tr>\n",
              "    <tr>\n",
              "      <th>55311</th>\n",
              "      <td>1129013600100901817</td>\n",
              "      <td>26.25</td>\n",
              "      <td>7</td>\n",
              "      <td>2002</td>\n",
              "      <td>2019</td>\n",
              "      <td>1</td>\n",
              "      <td>S</td>\n",
              "    </tr>\n",
              "    <tr>\n",
              "      <th>88322</th>\n",
              "      <td>1138010700100970003</td>\n",
              "      <td>84.84</td>\n",
              "      <td>4</td>\n",
              "      <td>2001</td>\n",
              "      <td>2004</td>\n",
              "      <td>16</td>\n",
              "      <td>M</td>\n",
              "    </tr>\n",
              "  </tbody>\n",
              "</table>\n",
              "</div>"
            ],
            "text/plain": [
              "                  addr_code   size floor  type built_year  years size_grade\n",
              "127762  1121510500107620000  84.60     1  2001       1996     24          M\n",
              "44709   1120010700103040007  57.31     4  2002       1994     26          S\n",
              "75903   1135010600105120000  59.26     9  2001       1991     29          S\n",
              "55311   1129013600100901817  26.25     7  2002       2019      1          S\n",
              "88322   1138010700100970003  84.84     4  2001       2004     16          M"
            ]
          },
          "metadata": {},
          "execution_count": 13
        }
      ]
    },
    {
      "cell_type": "code",
      "metadata": {
        "id": "g_2V4Woxii6q"
      },
      "source": [
        "# addr_code, type, built_year 셋은 TargetEncoder\n",
        "tge_col = ['addr_code', 'type', 'built_year']\n",
        "# floor, size_grade 둘은 OrdinalEncoder\n",
        "ord_col = ['floor', 'size_grade']"
      ],
      "execution_count": 15,
      "outputs": []
    },
    {
      "cell_type": "code",
      "metadata": {
        "id": "xntsAhAETn0T",
        "outputId": "3cb2f3f6-8d49-4bcf-ed7d-09dedb303073",
        "colab": {
          "base_uri": "https://localhost:8080/"
        }
      },
      "source": [
        "# 1. 랜덤 포레스트 - 회귀\n",
        "pipe_rf = make_pipeline(\n",
        "    TargetEncoder(cols=tge_col),\n",
        "    OrdinalEncoder(cols=ord_col),\n",
        "    RandomForestRegressor(n_jobs=-1, random_state=2)\n",
        ")\n",
        "\n",
        "# 과적합 줄이기 및 최적화\n",
        "dists_rf = {\n",
        "    'randomforestregressor__n_estimators': randint(50, 500),\n",
        "    'randomforestregressor__max_depth': [5, 10, 15, 20, None],\n",
        "    'randomforestregressor__min_samples_split': randint(2, 50),\n",
        "    'randomforestregressor__min_samples_leaf': randint(1, 50),\n",
        "    'randomforestregressor__max_features': uniform(0, 1)\n",
        "}\n",
        "\n",
        "clf_rf = RandomizedSearchCV(\n",
        "    pipe_rf, \n",
        "    param_distributions=dists_rf, \n",
        "    n_iter=30, \n",
        "    cv=3, \n",
        "    scoring='r2',  \n",
        "    verbose=1,\n",
        "    n_jobs=-1\n",
        ")\n",
        "\n",
        "clf_rf.fit(X_train, y_train);"
      ],
      "execution_count": 62,
      "outputs": [
        {
          "output_type": "stream",
          "name": "stdout",
          "text": [
            "Fitting 3 folds for each of 30 candidates, totalling 90 fits\n"
          ]
        },
        {
          "output_type": "stream",
          "name": "stderr",
          "text": [
            "[Parallel(n_jobs=-1)]: Using backend LokyBackend with 2 concurrent workers.\n",
            "[Parallel(n_jobs=-1)]: Done  46 tasks      | elapsed:  5.8min\n",
            "[Parallel(n_jobs=-1)]: Done  90 out of  90 | elapsed: 14.6min finished\n"
          ]
        }
      ]
    },
    {
      "cell_type": "code",
      "metadata": {
        "id": "a6-3LYqhZeUZ",
        "outputId": "b1aa550e-74a8-4a0e-816a-60d44e6d10fb",
        "colab": {
          "base_uri": "https://localhost:8080/"
        }
      },
      "source": [
        "tt_rf = TransformedTargetRegressor(regressor=clf_rf.best_estimator_,\n",
        "                                func=np.log1p, inverse_func=np.expm1)\n",
        "\n",
        "tt_rf.fit(X_train, y_train);\n",
        "print('훈련 정확도: ', tt_rf.score(X_train, y_train))\n",
        "print('검증 정확도: ', tt_rf.score(X_val, y_val))\n",
        "\n",
        "y_pred_rf = tt_rf.predict(X_test)\n",
        "\n",
        "mae_rf = mean_absolute_error(y_test, y_pred_rf)\n",
        "r2_rf = r2_score(y_test, y_pred_rf)\n",
        "print(f'Test MAE: {mae_rf:,.0f}')\n",
        "print(f'R2 Score: {r2_rf:,.4f}')"
      ],
      "execution_count": 63,
      "outputs": [
        {
          "output_type": "stream",
          "name": "stdout",
          "text": [
            "훈련 정확도:  0.913290292143382\n",
            "검증 정확도:  0.8694794348823224\n",
            "Test MAE: 65,353,052\n",
            "R2 Score: 0.8715\n"
          ]
        }
      ]
    },
    {
      "cell_type": "code",
      "metadata": {
        "id": "c0D4jjzKUB_Q",
        "outputId": "586d08b9-05cf-4c8e-e2a6-b37b48cbc91a",
        "colab": {
          "base_uri": "https://localhost:8080/"
        }
      },
      "source": [
        "# 2. 랜덤 포레스트 - 분류\n",
        "pipe_rf_cl = make_pipeline(\n",
        "    TargetEncoder(cols=tge_col),\n",
        "    OrdinalEncoder(cols=ord_col),\n",
        "    RandomForestClassifier(n_jobs=-1, random_state=2)\n",
        ")\n",
        "\n",
        "dists_rf_cl = {\n",
        "    'randomforestclassifier__n_estimators': randint(50, 500),\n",
        "    'randomforestclassifier__max_depth': [5, 10, 15, 20, None],\n",
        "    'randomforestclassifier__min_samples_split': randint(2, 50),\n",
        "    'randomforestclassifier__min_samples_leaf': randint(1, 50),\n",
        "    'randomforestclassifier__max_features': uniform(0, 1)\n",
        "}\n",
        "\n",
        "# 과적합 줄이기 및 최적화\n",
        "clf_rf_cl = RandomizedSearchCV(\n",
        "    pipe_rf_cl, \n",
        "    param_distributions=dists_rf_cl, \n",
        "    n_iter=30, \n",
        "    cv=3, \n",
        "    scoring='f1',  \n",
        "    verbose=1,\n",
        "    n_jobs=-1\n",
        ")\n",
        "\n",
        "clf_rf_cl.fit(X_train, y_train_cl);"
      ],
      "execution_count": 65,
      "outputs": [
        {
          "output_type": "stream",
          "name": "stdout",
          "text": [
            "Fitting 3 folds for each of 30 candidates, totalling 90 fits\n"
          ]
        },
        {
          "output_type": "stream",
          "name": "stderr",
          "text": [
            "[Parallel(n_jobs=-1)]: Using backend LokyBackend with 2 concurrent workers.\n",
            "[Parallel(n_jobs=-1)]: Done  46 tasks      | elapsed:  6.7min\n",
            "[Parallel(n_jobs=-1)]: Done  90 out of  90 | elapsed: 11.4min finished\n"
          ]
        }
      ]
    },
    {
      "cell_type": "code",
      "metadata": {
        "id": "HPf-acAPdYSc",
        "outputId": "a5a422e7-6e71-47f3-80da-69c243b2ba46",
        "colab": {
          "base_uri": "https://localhost:8080/"
        }
      },
      "source": [
        "print('최적 하이퍼파라미터: ', clf_rf_cl.best_params_)\n",
        "print('f1: ', clf_rf_cl.best_score_)\n",
        "\n",
        "pipe_rf_cl = clf_rf_cl.best_estimator_\n",
        "print('훈련 정확도: ', pipe_rf_cl.score(X_train, y_train_cl))\n",
        "print('검증 정확도: ', pipe_rf_cl.score(X_val, y_val_cl))\n",
        "\n",
        "y_pred_rf_cl = pipe_rf_cl.predict(X_test)\n",
        "\n",
        "f1_rf_cl = f1_score(y_test_cl, y_pred_rf_cl)\n",
        "print(f'Test F1: {f1_rf_cl}')"
      ],
      "execution_count": 66,
      "outputs": [
        {
          "output_type": "stream",
          "name": "stdout",
          "text": [
            "최적 하이퍼파라미터:  {'randomforestclassifier__max_depth': 20, 'randomforestclassifier__max_features': 0.5200093169920873, 'randomforestclassifier__min_samples_leaf': 1, 'randomforestclassifier__min_samples_split': 22, 'randomforestclassifier__n_estimators': 254}\n",
            "f1:  0.8121307801383247\n",
            "훈련 정확도:  0.9791264532926337\n",
            "검증 정확도:  0.9661697447893028\n",
            "Test F1: 0.8384161337924251\n"
          ]
        }
      ]
    },
    {
      "cell_type": "markdown",
      "metadata": {
        "id": "cc9Dtv2KSUFo"
      },
      "source": [
        "### 2) Xgboost를 사용해 학습하고 기존 모델과 비교해 보세요.\n",
        "- 본인 포트폴리오 데이터를 Xgboost로 학습하여 기존에 만들었던 모델과 비교합니다.\n",
        "- **breast cancer 데이터를 Xgboost로 학습하고 f1 score를 제출하세요.(test 데이터에서 0.95이상)**"
      ]
    },
    {
      "cell_type": "code",
      "metadata": {
        "id": "AFT5f7ydU4-c"
      },
      "source": [
        "from xgboost import XGBRegressor, XGBClassifier\n",
        "from sklearn.impute import SimpleImputer"
      ],
      "execution_count": 17,
      "outputs": []
    },
    {
      "cell_type": "code",
      "metadata": {
        "id": "2LJyYQO8iqUH"
      },
      "source": [
        "eval_set = [(X_train, y_train), \n",
        "            (X_val, y_val)]"
      ],
      "execution_count": 19,
      "outputs": []
    },
    {
      "cell_type": "code",
      "metadata": {
        "id": "hr6j9rW_SUFp",
        "outputId": "fae65f86-4751-468f-f423-58e60de8da15",
        "colab": {
          "base_uri": "https://localhost:8080/"
        }
      },
      "source": [
        "# 1. 회귀\n",
        "pipe_xgb = make_pipeline(\n",
        "    TargetEncoder(cols=tge_col),\n",
        "    OrdinalEncoder(cols=ord_col),\n",
        "    XGBRegressor(n_estimators=1000\n",
        "              , random_state=2\n",
        "              , n_jobs=-1\n",
        "              , learning_rate=0.2\n",
        "              , eval_set=eval_set\n",
        "              , eval_metric='error' # #(wrong cases)/#(all cases)\n",
        "              , early_stopping_rounds=50) # 50 rounds 동안 스코어의 개선이 없으면 멈춤\n",
        ")\n",
        "\n",
        "pipe_xgb.fit(X_train, y_train);"
      ],
      "execution_count": 69,
      "outputs": [
        {
          "output_type": "stream",
          "name": "stdout",
          "text": [
            "[11:17:16] WARNING: /workspace/src/objective/regression_obj.cu:152: reg:linear is now deprecated in favor of reg:squarederror.\n"
          ]
        }
      ]
    },
    {
      "cell_type": "code",
      "metadata": {
        "id": "jR4SIAerhGdm",
        "outputId": "6aa87b3e-2bd8-4a54-b6bc-d6ea3ce8baed",
        "colab": {
          "base_uri": "https://localhost:8080/"
        }
      },
      "source": [
        "y_pred_xgb_train = pipe_xgb.predict(X_train)\n",
        "mae_xgb_train = mean_absolute_error(y_train, y_pred_xgb_train)\n",
        "r2_xgb_train = r2_score(y_train, y_pred_xgb_train)\n",
        "print(f'Train MAE: {mae_xgb_train:,.0f}')\n",
        "print(f'R2 Score: {r2_xgb_train:,.4f}\\n')\n",
        "\n",
        "y_pred_xgb_val = pipe_xgb.predict(X_val)\n",
        "mae_xgb_val = mean_absolute_error(y_val, y_pred_xgb_val)\n",
        "r2_xgb_val = r2_score(y_val, y_pred_xgb_val)\n",
        "print(f'Val MAE: {mae_xgb_val:,.0f}')\n",
        "print(f'R2 Score: {r2_xgb_val:,.4f}\\n')\n",
        "\n",
        "y_pred_xgb = pipe_xgb.predict(X_test)\n",
        "mae_xgb = mean_absolute_error(y_test, y_pred_xgb)\n",
        "r2_xgb = r2_score(y_test, y_pred_xgb)\n",
        "print(f'Test MAE: {mae_xgb:,.0f}')\n",
        "print(f'R2 Score: {r2_xgb:,.4f}')"
      ],
      "execution_count": 70,
      "outputs": [
        {
          "output_type": "stream",
          "name": "stdout",
          "text": [
            "Train MAE: 56,976,240\n",
            "R2 Score: 0.9141\n",
            "\n",
            "Val MAE: 68,776,836\n",
            "R2 Score: 0.8723\n",
            "\n",
            "Test MAE: 68,810,077\n",
            "R2 Score: 0.8765\n"
          ]
        }
      ]
    },
    {
      "cell_type": "code",
      "metadata": {
        "id": "7mHU2c0LhKJf"
      },
      "source": [
        "# 2. 분류\n",
        "pipe_xgb_cl = make_pipeline(\n",
        "    TargetEncoder(cols=tge_col),\n",
        "    OrdinalEncoder(cols=ord_col),\n",
        "    XGBClassifier(n_estimators=1000\n",
        "              , random_state=2\n",
        "              , n_jobs=-1\n",
        "              , learning_rate=0.2\n",
        "              , eval_set=eval_set\n",
        "              , eval_metric='error' # #(wrong cases)/#(all cases)\n",
        "              , early_stopping_rounds=50) # 50 rounds 동안 스코어의 개선이 없으면 멈춤\n",
        ")\n",
        "\n",
        "pipe_xgb_cl.fit(X_train, y_train_cl);"
      ],
      "execution_count": 20,
      "outputs": []
    },
    {
      "cell_type": "code",
      "metadata": {
        "id": "q5WJ42w8hS2f",
        "outputId": "97993686-5030-4211-c3da-5820003fc02e",
        "colab": {
          "base_uri": "https://localhost:8080/"
        }
      },
      "source": [
        "y_pred_xgb_cl_train = pipe_xgb_cl.predict(X_train)\n",
        "f1_rf_cl = f1_score(y_train_cl, y_pred_xgb_cl_train)\n",
        "print(f'Test F1: {f1_rf_cl}')\n",
        "\n",
        "y_pred_xgb_cl_val = pipe_xgb_cl.predict(X_val)\n",
        "f1_rf_cl = f1_score(y_val_cl, y_pred_xgb_cl_val)\n",
        "print(f'Test F1: {f1_rf_cl}')\n",
        "\n",
        "y_pred_xgb_cl = pipe_xgb_cl.predict(X_test)\n",
        "f1_rf_cl = f1_score(y_test_cl, y_pred_xgb_cl)\n",
        "print(f'Test F1: {f1_rf_cl}')"
      ],
      "execution_count": 21,
      "outputs": [
        {
          "output_type": "stream",
          "name": "stdout",
          "text": [
            "Test F1: 0.9014598540145985\n",
            "Test F1: 0.8281730943327901\n",
            "Test F1: 0.8399122807017544\n"
          ]
        }
      ]
    },
    {
      "cell_type": "code",
      "metadata": {
        "id": "kRVC4YkUSUFp"
      },
      "source": [
        "# ### 이곳에서 과제를 진행해 주세요 ###\n",
        "\n",
        "# import pandas as pd\n",
        "# import numpy as np\n",
        "# from sklearn.model_selection import train_test_split\n",
        "# from sklearn.datasets import load_breast_cancer \n",
        "\n",
        "# cancer_dataset = load_breast_cancer()\n",
        "\n",
        "# features = cancer_dataset.data\n",
        "# target = cancer_dataset.target\n",
        "# df = pd.DataFrame(data=features, columns=cancer_dataset.feature_names)\n",
        "# df['target'] = target\n",
        "\n",
        "# X_train, X_test, y_train, y_test = train_test_split(features, target, test_size=0.2, random_state=2)\n",
        "# print(X_train.shape, X_test.shape)\n",
        "\n",
        "# pipe = make_pipeline(\n",
        "#     OrdinalEncoder(),\n",
        "#     SimpleImputer(strategy='median'),\n",
        "#     XGBClassifier(n_estimators=200\n",
        "#                   , random_state=2\n",
        "#                   , n_jobs=-1\n",
        "#                   , max_depth=7\n",
        "#                   , learning_rate=0.2\n",
        "#                  )\n",
        "# )\n",
        "\n",
        "# pipe.fit(X_train, y_train);\n",
        "\n",
        "# y_pred = pipe.predict(X_test)\n",
        "# print(classification_report(y_pred, y_test))"
      ],
      "execution_count": null,
      "outputs": []
    },
    {
      "cell_type": "markdown",
      "metadata": {
        "id": "o2bdwP2-SUFq"
      },
      "source": [
        "### 3) Permutation importances를 계산하고 다른 중요도 결과와 비교해 보세요\n",
        "- 본인 포트폴리오 데이터를 사용해 만든 모델의 Permutation importances를 계산하세요.\n",
        "- **breast cancer 데이터를 사용해 만든 모델의 Permutation importances를 계산하고 가장 높은 값을 가지는 특성의 이름을 제출하세요.**\n",
        "    - eli5 PermutationImportance 사용\n",
        "    - scoring = 'accuracy'\n",
        "    - n_iter = 5\n",
        "    - random_state = 2"
      ]
    },
    {
      "cell_type": "code",
      "metadata": {
        "id": "oTQcyxyCSUFq"
      },
      "source": [
        "import eli5\n",
        "from eli5.sklearn import PermutationImportance\n",
        "\n",
        "# permuter 정의\n",
        "permuter = PermutationImportance(\n",
        "    pipe_xgb_cl.named_steps['xgbclassifier'], # model\n",
        "    scoring='accuracy', # metric\n",
        "    n_iter=5, # 다른 random seed를 사용하여 5번 반복\n",
        "    random_state=2\n",
        ")\n",
        "\n",
        "# permuter 계산은 preprocessing 된 X_val을 사용합니다.\n",
        "X_val_transformed = pipe_xgb_cl.named_steps['ordinalencoder'].transform(X_val)\n",
        "\n",
        "# 실제로 fit 의미보다는 스코어를 다시 계산하는 작업입니다\n",
        "permuter.fit(X_val_transformed, y_val);"
      ],
      "execution_count": 24,
      "outputs": []
    },
    {
      "cell_type": "code",
      "metadata": {
        "id": "KGn3L9hTehic",
        "outputId": "81429d5e-ba75-4691-e4ca-ceb93b694c89",
        "colab": {
          "base_uri": "https://localhost:8080/"
        }
      },
      "source": [
        "feature_names = X_val.columns.tolist()\n",
        "pd.Series(permuter.feature_importances_, feature_names).sort_values(ascending=False)"
      ],
      "execution_count": 25,
      "outputs": [
        {
          "output_type": "execute_result",
          "data": {
            "text/plain": [
              "size_grade    0.0\n",
              "years         0.0\n",
              "built_year    0.0\n",
              "type          0.0\n",
              "floor         0.0\n",
              "size          0.0\n",
              "addr_code     0.0\n",
              "dtype: float64"
            ]
          },
          "metadata": {},
          "execution_count": 25
        }
      ]
    },
    {
      "cell_type": "code",
      "metadata": {
        "id": "UGhpa7wlVsrE"
      },
      "source": [
        "# pipe.named_steps"
      ],
      "execution_count": null,
      "outputs": []
    },
    {
      "cell_type": "code",
      "metadata": {
        "id": "8eXepBgjWIcs"
      },
      "source": [
        "# pip install eli5"
      ],
      "execution_count": null,
      "outputs": []
    },
    {
      "cell_type": "code",
      "metadata": {
        "id": "G9dkyMW5SUFr"
      },
      "source": [
        "# ### 이곳에서 과제를 진행해 주세요 ###\n",
        "\n",
        "# import eli5\n",
        "# from eli5.sklearn import PermutationImportance\n",
        "\n",
        "# # permuter 정의\n",
        "# permuter = PermutationImportance(\n",
        "#     pipe.named_steps['xgbclassifier'], # model\n",
        "#     scoring='accuracy', # metric\n",
        "#     n_iter=5, # 다른 random seed를 사용하여 5번 반복\n",
        "#     random_state=2\n",
        "# )\n",
        "\n",
        "# # permuter 계산은 preprocessing 된 X_val을 사용합니다.\n",
        "# X_test_transformed = pipe.named_steps['simpleimputer'].transform(X_test)\n",
        "\n",
        "# # 실제로 fit 의미보다는 스코어를 다시 계산하는 작업입니다\n",
        "# permuter.fit(X_test_transformed, y_test);"
      ],
      "execution_count": 40,
      "outputs": []
    },
    {
      "cell_type": "code",
      "metadata": {
        "id": "J9RK5sXjV-0J"
      },
      "source": [
        "# feature_names = df.drop('target', axis=1).columns.tolist()\n",
        "# pd.Series(permuter.feature_importances_, feature_names).sort_values(ascending=False)"
      ],
      "execution_count": null,
      "outputs": []
    },
    {
      "cell_type": "markdown",
      "metadata": {
        "id": "bTBwvfIoSUFr"
      },
      "source": [
        "## 🔥 도전과제"
      ]
    },
    {
      "cell_type": "markdown",
      "metadata": {
        "id": "5oLQYTBYSUFr"
      },
      "source": [
        "### 4) Xgboost 외에 다른 부스팅 라이브러리로 모델을 학습시켜 Xgboost와 비교해 보세요."
      ]
    },
    {
      "cell_type": "code",
      "metadata": {
        "id": "I9NXQEdpSUFs"
      },
      "source": [
        "### 이곳에서 과제를 진행해 주세요 ### "
      ],
      "execution_count": null,
      "outputs": []
    }
  ]
}