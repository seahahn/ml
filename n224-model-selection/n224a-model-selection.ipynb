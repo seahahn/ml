{
  "nbformat": 4,
  "nbformat_minor": 0,
  "metadata": {
    "kernelspec": {
      "display_name": "Python 3",
      "language": "python",
      "name": "python3"
    },
    "language_info": {
      "codemirror_mode": {
        "name": "ipython",
        "version": 3
      },
      "file_extension": ".py",
      "mimetype": "text/x-python",
      "name": "python",
      "nbconvert_exporter": "python",
      "pygments_lexer": "ipython3",
      "version": "3.7.7"
    },
    "colab": {
      "name": "n224a-model-selection.ipynb",
      "provenance": []
    }
  },
  "cells": [
    {
      "cell_type": "markdown",
      "metadata": {
        "id": "TdK3lFnQ-HI3"
      },
      "source": [
        "<img align=\"right\" src=\"https://ds-cs-images.s3.ap-northeast-2.amazonaws.com/Codestates_Fulllogo_Color.png\" width=100>\n",
        "\n",
        "## *AIB / SECTION 2 / SPRINT 2 / NOTE 4*\n",
        "\n",
        "# 📝 Assignment\n",
        "---"
      ]
    },
    {
      "cell_type": "markdown",
      "metadata": {
        "id": "OpQhiQ_Y-HI6"
      },
      "source": [
        "# 모델선택(Model Selection)\n",
        "\n",
        "### 1) 캐글 대회를 이어서 진행합니다. RandomizedSearchCV 를 사용하여 하이퍼파라미터 튜닝을 진행합니다.\n",
        "\n",
        "- [RandomForestClassifier](https://scikit-learn.org/stable/modules/generated/sklearn.ensemble.RandomForestClassifier.html)를 사용하세요.\n",
        "- 분류문제에서 맞는 [scoring parameter](https://scikit-learn.org/stable/modules/model_evaluation.html#common-cases-predefined-values) metric을 사용하세요.\n",
        "- [OrdinalEncoder](https://contrib.scikit-learn.org/categorical-encoding/ordinal.html) 사용을 권합니다.\n",
        "- RandomizedSearchCV 를 사용해서 하이퍼파라미터 튜닝을 진행하고 최고 성능을 보이는 모델로 예측을 진행한 후 캐글에 제출합니다.\n",
        "- **캐글 Leaderboard에서 개선된 본인 Score를 과제 제출폼에 제출하세요.**"
      ]
    },
    {
      "cell_type": "code",
      "metadata": {
        "id": "2n26_gcL-HI7"
      },
      "source": [
        "# !mkdir -p ~/.kaggle\n",
        "# !cp kaggle.json ~/.kaggle/\n",
        "# !chmod 600 /root/.kaggle/kaggle.json\n",
        "# !pip install kaggle\n",
        "\n",
        "# ! pip install category_encoders"
      ],
      "execution_count": null,
      "outputs": []
    },
    {
      "cell_type": "code",
      "metadata": {
        "id": "uG1B0crHBNvw"
      },
      "source": [
        "import pandas as pd\n",
        "import numpy as np"
      ],
      "execution_count": 3,
      "outputs": []
    },
    {
      "cell_type": "code",
      "metadata": {
        "id": "l7opuegYBPGh"
      },
      "source": [
        "### EDA 시작\n",
        "target = 'vacc_h1n1_f'\n",
        "# target = 'vacc_seas_f'\n",
        "train = pd.merge(pd.read_csv('https://ds-lecture-data.s3.ap-northeast-2.amazonaws.com/vacc_flu/train.csv'), \n",
        "                 pd.read_csv('https://ds-lecture-data.s3.ap-northeast-2.amazonaws.com/vacc_flu/train_labels.csv')[target], left_index=True, right_index=True)\n",
        "test = pd.read_csv('https://ds-lecture-data.s3.ap-northeast-2.amazonaws.com/vacc_flu/test.csv')\n",
        "sample_submission = pd.read_csv('https://ds-lecture-data.s3.ap-northeast-2.amazonaws.com/vacc_flu/submission.csv')"
      ],
      "execution_count": 4,
      "outputs": []
    },
    {
      "cell_type": "code",
      "metadata": {
        "id": "-CpBEoifBPnY"
      },
      "source": [
        "def engineer(df):\n",
        "    \"\"\"특성을 엔지니어링 하는 함수입니다.\"\"\"\n",
        "    \n",
        "    # 높은 카디널리티를 가지는 특성을 제거합니다.\n",
        "#     selected_cols = df.select_dtypes(include=['number', 'object'])\n",
        "#     colnames = selected_cols.columns.tolist()\n",
        "#     labels = selected_cols.nunique()\n",
        "    \n",
        "#     selected_features = labels[labels <= 30].index.tolist()\n",
        "#     df = df[selected_features]\n",
        "    \n",
        "    # 새로운 특성을 생성합니다.\n",
        "    behaviorals = [col for col in df.columns if 'behavioral' in col] \n",
        "    df['behaviorals'] = df[behaviorals].sum(axis=1)\n",
        "    \n",
        "    \n",
        "    # dels = [col for col in df.columns if ('employment' in col or 'seas' in col)]\n",
        "    # df.drop(columns=dels, inplace=True)\n",
        "        \n",
        "    return df\n",
        "\n",
        "\n",
        "train = engineer(train)\n",
        "test = engineer(test)"
      ],
      "execution_count": 5,
      "outputs": []
    },
    {
      "cell_type": "code",
      "metadata": {
        "id": "s5-B8xgCBQ6P"
      },
      "source": [
        "features = train.drop(columns=[target]).columns\n",
        "\n",
        "X_train = train[features]\n",
        "y_train = train[target]\n",
        "X_test = test[features]\n",
        "\n",
        "### EDA 끝"
      ],
      "execution_count": 6,
      "outputs": []
    },
    {
      "cell_type": "code",
      "metadata": {
        "id": "3pi4740ZtUmu"
      },
      "source": [
        "from sklearn.pipeline import make_pipeline\n",
        "from category_encoders import OrdinalEncoder, TargetEncoder\n",
        "from sklearn.impute import SimpleImputer\n",
        "from sklearn.ensemble import RandomForestClassifier\n",
        "from sklearn.model_selection import RandomizedSearchCV, GridSearchCV\n",
        "from scipy.stats import randint, uniform"
      ],
      "execution_count": null,
      "outputs": []
    },
    {
      "cell_type": "code",
      "metadata": {
        "id": "bU_sdh_FBSX1"
      },
      "source": [
        "%%time\n",
        "pipe = make_pipeline(\n",
        "    OrdinalEncoder(handle_missing=\"return_nan\"), \n",
        "    SimpleImputer(), \n",
        "    RandomForestClassifier(random_state=2)\n",
        ")\n",
        "\n",
        "dists = {\n",
        "    'randomforestclassifier__n_estimators': randint(160, 200),\n",
        "    'randomforestclassifier__max_depth': randint(11, 14),\n",
        "    'randomforestclassifier__max_features': uniform(0.5, 1)\n",
        "}\n",
        "\n",
        "clf = RandomizedSearchCV(\n",
        "    pipe, \n",
        "    param_distributions=dists, \n",
        "    n_iter=60, \n",
        "    cv=10, \n",
        "    scoring='f1',  \n",
        "    verbose=1,\n",
        "    n_jobs=-1\n",
        ")\n",
        "\n",
        "clf.fit(X_train, y_train);"
      ],
      "execution_count": null,
      "outputs": []
    },
    {
      "cell_type": "code",
      "metadata": {
        "id": "6pIPixAuBn_E"
      },
      "source": [
        "print('최적 하이퍼파라미터: ', clf.best_params_)\n",
        "print('F1: ', clf.best_score_)"
      ],
      "execution_count": null,
      "outputs": []
    },
    {
      "cell_type": "code",
      "metadata": {
        "id": "GGcX6Yd9GGTE"
      },
      "source": [
        "# 최적 하이퍼파라미터:  {'randomforestclassifier__max_depth': 10, 'randomforestclassifier__max_features': 0.8485466648445711, 'randomforestclassifier__n_estimators': 166}\n",
        "# F1:  0.569834747536281\n",
        "\n",
        "# 최적 하이퍼파라미터:  {'randomforestclassifier__max_depth': 11, 'randomforestclassifier__max_features': 0.7563127746684387, 'randomforestclassifier__n_estimators': 169}\n",
        "# F1:  0.5699558806251526\n",
        "\n",
        "# 최적 하이퍼파라미터:  {'randomforestclassifier__max_depth': 13, 'randomforestclassifier__max_features': 0.551813562377767, 'randomforestclassifier__n_estimators': 163}\n",
        "# F1:  0.5714311138139805\n",
        "\n",
        "# 최적 하이퍼파라미터:  {'randomforestclassifier__max_depth': 12, 'randomforestclassifier__max_features': 0.5383281712274792, 'randomforestclassifier__n_estimators': 184}\n",
        "# F1:  0.5723167616525429"
      ],
      "execution_count": null,
      "outputs": []
    },
    {
      "cell_type": "code",
      "metadata": {
        "id": "h_Qa93k5BpZb",
        "outputId": "45677ec2-3d5a-48bd-97a0-7c128edf6c09",
        "colab": {
          "base_uri": "https://localhost:8080/"
        }
      },
      "source": [
        "# 최고 성능 모델 불러오기\n",
        "# pipe = clf.best_estimator_\n",
        "pipe = make_pipeline(\n",
        "    OrdinalEncoder(handle_missing=\"return_nan\"), \n",
        "    SimpleImputer(), \n",
        "    RandomForestClassifier(max_depth=12, max_features=0.5383281712274792, n_estimators=184, random_state=2, n_jobs=-1)\n",
        ")\n",
        "\n",
        "pipe.fit(X_train, y_train)"
      ],
      "execution_count": 8,
      "outputs": [
        {
          "output_type": "execute_result",
          "data": {
            "text/plain": [
              "Pipeline(memory=None,\n",
              "         steps=[('ordinalencoder',\n",
              "                 OrdinalEncoder(cols=['opinion_h1n1_vacc_effective',\n",
              "                                      'opinion_h1n1_risk',\n",
              "                                      'opinion_h1n1_sick_from_vacc',\n",
              "                                      'opinion_seas_vacc_effective',\n",
              "                                      'opinion_seas_risk',\n",
              "                                      'opinion_seas_sick_from_vacc', 'agegrp',\n",
              "                                      'employment_status', 'census_msa',\n",
              "                                      'employment_industry',\n",
              "                                      'employment_occupation', 'state'],\n",
              "                                drop_invariant=False,\n",
              "                                handl...\n",
              "                 RandomForestClassifier(bootstrap=True, ccp_alpha=0.0,\n",
              "                                        class_weight=None, criterion='gini',\n",
              "                                        max_depth=12,\n",
              "                                        max_features=0.5383281712274792,\n",
              "                                        max_leaf_nodes=None, max_samples=None,\n",
              "                                        min_impurity_decrease=0.0,\n",
              "                                        min_impurity_split=None,\n",
              "                                        min_samples_leaf=1, min_samples_split=2,\n",
              "                                        min_weight_fraction_leaf=0.0,\n",
              "                                        n_estimators=184, n_jobs=-1,\n",
              "                                        oob_score=False, random_state=2,\n",
              "                                        verbose=0, warm_start=False))],\n",
              "         verbose=False)"
            ]
          },
          "metadata": {},
          "execution_count": 8
        }
      ]
    },
    {
      "cell_type": "code",
      "metadata": {
        "id": "0pvmOFFyBqjQ"
      },
      "source": [
        "# 테스트 셋 예측 확률 얻기\n",
        "y_pred_proba = pipe.predict_proba(X_train)[:, 1] # 타겟이 1(True)일 확률 가져오기"
      ],
      "execution_count": 9,
      "outputs": []
    },
    {
      "cell_type": "code",
      "metadata": {
        "id": "e72uZ3LnBr3G",
        "outputId": "967cede7-b18d-4b2f-efa9-2db5de9f9e62",
        "colab": {
          "base_uri": "https://localhost:8080/"
        }
      },
      "source": [
        "# ROC curve 확인하기\n",
        "from sklearn.metrics import roc_curve\n",
        "\n",
        "# roc_curve(타겟값, prob of 1)\n",
        "fpr, tpr, thresholds = roc_curve(y_train, y_pred_proba)\n",
        "\n",
        "# threshold 최대값의 인덱스, np.argmax()\n",
        "optimal_idx = np.argmax(tpr - fpr) # 재현율은 최대로, 위양성률은 최소로 하는 데이터의 인덱스 값 찾기\n",
        "optimal_threshold = thresholds[optimal_idx] # 해당 값의 임계값 가져오기\n",
        "\n",
        "print('idx:', optimal_idx, ', threshold:', optimal_threshold)"
      ],
      "execution_count": 10,
      "outputs": [
        {
          "output_type": "stream",
          "name": "stdout",
          "text": [
            "idx: 3811 , threshold: 0.2727484419916789\n"
          ]
        }
      ]
    },
    {
      "cell_type": "code",
      "metadata": {
        "id": "VunHpKMXBtKm"
      },
      "source": [
        "# 최적 임계값 적용\n",
        "y_test_pred_proba = pipe.predict_proba(X_test)[:, 1] # 타겟이 1(True)일 확률 가져오기\n",
        "y_test_pred = y_test_pred_proba > optimal_threshold"
      ],
      "execution_count": 11,
      "outputs": []
    },
    {
      "cell_type": "code",
      "metadata": {
        "id": "DEiLLh0uBuXm",
        "outputId": "9882960b-350e-4590-a6ea-a67d2b864a0d",
        "colab": {
          "base_uri": "https://localhost:8080/",
          "height": 203
        }
      },
      "source": [
        "# 최종 결과 담은 데이터프레임 생성\n",
        "d = {'Id':X_test.index, 'vacc_h1n1_f': y_test_pred}\n",
        "submission = pd.DataFrame(data = d)\n",
        "submission.head()"
      ],
      "execution_count": 12,
      "outputs": [
        {
          "output_type": "execute_result",
          "data": {
            "text/html": [
              "<div>\n",
              "<style scoped>\n",
              "    .dataframe tbody tr th:only-of-type {\n",
              "        vertical-align: middle;\n",
              "    }\n",
              "\n",
              "    .dataframe tbody tr th {\n",
              "        vertical-align: top;\n",
              "    }\n",
              "\n",
              "    .dataframe thead th {\n",
              "        text-align: right;\n",
              "    }\n",
              "</style>\n",
              "<table border=\"1\" class=\"dataframe\">\n",
              "  <thead>\n",
              "    <tr style=\"text-align: right;\">\n",
              "      <th></th>\n",
              "      <th>Id</th>\n",
              "      <th>vacc_h1n1_f</th>\n",
              "    </tr>\n",
              "  </thead>\n",
              "  <tbody>\n",
              "    <tr>\n",
              "      <th>0</th>\n",
              "      <td>0</td>\n",
              "      <td>False</td>\n",
              "    </tr>\n",
              "    <tr>\n",
              "      <th>1</th>\n",
              "      <td>1</td>\n",
              "      <td>False</td>\n",
              "    </tr>\n",
              "    <tr>\n",
              "      <th>2</th>\n",
              "      <td>2</td>\n",
              "      <td>False</td>\n",
              "    </tr>\n",
              "    <tr>\n",
              "      <th>3</th>\n",
              "      <td>3</td>\n",
              "      <td>False</td>\n",
              "    </tr>\n",
              "    <tr>\n",
              "      <th>4</th>\n",
              "      <td>4</td>\n",
              "      <td>False</td>\n",
              "    </tr>\n",
              "  </tbody>\n",
              "</table>\n",
              "</div>"
            ],
            "text/plain": [
              "   Id  vacc_h1n1_f\n",
              "0   0        False\n",
              "1   1        False\n",
              "2   2        False\n",
              "3   3        False\n",
              "4   4        False"
            ]
          },
          "metadata": {},
          "execution_count": 12
        }
      ]
    },
    {
      "cell_type": "code",
      "metadata": {
        "id": "GE4vmJyBBvfQ"
      },
      "source": [
        "# 제출용 파일 생성\n",
        "# submission.to_csv('submission.csv', index=False)"
      ],
      "execution_count": 16,
      "outputs": []
    },
    {
      "cell_type": "code",
      "metadata": {
        "id": "Tpum9C0QBwz0"
      },
      "source": [
        "# !kaggle competitions submit -c prediction-of-h1n1-vaccination -f submission.csv -m \"Gyeong ho Ahn, Fourth Submission(using Random Forest) using RandomizedSearchCV & threshold - upgraded\""
      ],
      "execution_count": null,
      "outputs": []
    },
    {
      "cell_type": "markdown",
      "metadata": {
        "id": "heb6AyjJ-HI8"
      },
      "source": [
        "## 🔥 도전과제"
      ]
    },
    {
      "cell_type": "markdown",
      "metadata": {
        "id": "RIWe4bj5-HI8"
      },
      "source": [
        "\n",
        "### 2) [`GridSearchCV`](https://scikit-learn.org/stable/modules/generated/sklearn.model_selection.GridSearchCV.html) 를 사용하여 하이퍼파라미터 튜닝을 진행합니다.\n",
        "- 모델 성능을 높이기 위해 가능한 시도를 다 해보세요.\n",
        "- 모델 성능에 가장 큰 영향을 준 하이퍼파라미터에 대해서 분석하고 설명해 보세요.\n",
        "\n"
      ]
    },
    {
      "cell_type": "code",
      "metadata": {
        "id": "ZI755tKr-HI9",
        "outputId": "d8b820b3-48a9-4c72-9923-2c553a9e7c1b",
        "colab": {
          "base_uri": "https://localhost:8080/"
        }
      },
      "source": [
        "from sklearn.model_selection import GridSearchCV\n",
        "\n",
        "pipe2 = make_pipeline(\n",
        "    OrdinalEncoder(handle_missing=\"return_nan\"), \n",
        "    SimpleImputer(), \n",
        "    RandomForestClassifier(random_state=2)\n",
        ")\n",
        "\n",
        "params = {\n",
        "    'randomforestclassifier__max_depth': [5, 10, 15, 20, None],\n",
        "    'randomforestclassifier__n_estimators': [50, 100, 150, 200, 250]\n",
        "}\n",
        "\n",
        "clf2 = GridSearchCV(\n",
        "    pipe, \n",
        "    param_grid=params, \n",
        "    cv=3, \n",
        "    scoring='f1',  \n",
        "    verbose=1,\n",
        "    n_jobs=-1\n",
        ")\n",
        "\n",
        "clf2.fit(X_train, y_train);"
      ],
      "execution_count": 14,
      "outputs": [
        {
          "output_type": "stream",
          "name": "stdout",
          "text": [
            "Fitting 3 folds for each of 25 candidates, totalling 75 fits\n"
          ]
        },
        {
          "output_type": "stream",
          "name": "stderr",
          "text": [
            "[Parallel(n_jobs=-1)]: Using backend LokyBackend with 2 concurrent workers.\n",
            "[Parallel(n_jobs=-1)]: Done  46 tasks      | elapsed:  6.8min\n",
            "[Parallel(n_jobs=-1)]: Done  75 out of  75 | elapsed: 13.4min finished\n"
          ]
        }
      ]
    },
    {
      "cell_type": "code",
      "metadata": {
        "id": "4URsYBXwvyeM",
        "outputId": "ee94bc64-e8f4-4290-eb57-bd8e0cb91eb4",
        "colab": {
          "base_uri": "https://localhost:8080/"
        }
      },
      "source": [
        "print('최적 하이퍼파라미터: ', clf2.best_params_)\n",
        "print('F1: ', clf2.best_score_)"
      ],
      "execution_count": 15,
      "outputs": [
        {
          "output_type": "stream",
          "name": "stdout",
          "text": [
            "최적 하이퍼파라미터:  {'randomforestclassifier__max_depth': 20, 'randomforestclassifier__n_estimators': 150}\n",
            "F1:  0.5731928383772006\n"
          ]
        }
      ]
    },
    {
      "cell_type": "code",
      "metadata": {
        "id": "Q15d_u-ov3gR"
      },
      "source": [
        "pipe2 = clf2.best_estimator_"
      ],
      "execution_count": 23,
      "outputs": []
    },
    {
      "cell_type": "code",
      "metadata": {
        "id": "zGcqmYdNvzKK"
      },
      "source": [
        "# 테스트 셋 예측 확률 얻기\n",
        "y_pred_proba = pipe2.predict_proba(X_train)[:, 1] # 타겟이 1(True)일 확률 가져오기"
      ],
      "execution_count": 24,
      "outputs": []
    },
    {
      "cell_type": "code",
      "metadata": {
        "id": "o-dF4hdxwEEz",
        "outputId": "a0d62fc6-3bbe-46b2-c730-17b6295956f7",
        "colab": {
          "base_uri": "https://localhost:8080/"
        }
      },
      "source": [
        "# ROC curve 확인하기\n",
        "# roc_curve(타겟값, prob of 1)\n",
        "fpr, tpr, thresholds = roc_curve(y_train, y_pred_proba)\n",
        "\n",
        "# threshold 최대값의 인덱스, np.argmax()\n",
        "optimal_idx = np.argmax(tpr - fpr) # 재현율은 최대로, 위양성률은 최소로 하는 데이터의 인덱스 값 찾기\n",
        "optimal_threshold = thresholds[optimal_idx] # 해당 값의 임계값 가져오기\n",
        "\n",
        "print('idx:', optimal_idx, ', threshold:', optimal_threshold)"
      ],
      "execution_count": 25,
      "outputs": [
        {
          "output_type": "stream",
          "name": "stdout",
          "text": [
            "idx: 1306 , threshold: 0.31715270837494086\n"
          ]
        }
      ]
    },
    {
      "cell_type": "code",
      "metadata": {
        "id": "JbJ_jx2LwI3x"
      },
      "source": [
        "# 최적 임계값 적용\n",
        "y_test_pred_proba = pipe.predict_proba(X_test)[:, 1] # 타겟이 1(True)일 확률 가져오기\n",
        "y_test_pred = y_test_pred_proba > optimal_threshold"
      ],
      "execution_count": 26,
      "outputs": []
    },
    {
      "cell_type": "code",
      "metadata": {
        "id": "1Gc08nWEwLSb",
        "outputId": "2ecfb716-e479-4e1a-cb48-e61e73cd8a80",
        "colab": {
          "base_uri": "https://localhost:8080/",
          "height": 203
        }
      },
      "source": [
        "# 최종 결과 담은 데이터프레임 생성\n",
        "d = {'Id':X_test.index, 'vacc_h1n1_f': y_test_pred}\n",
        "submission = pd.DataFrame(data = d)\n",
        "submission.head()"
      ],
      "execution_count": 27,
      "outputs": [
        {
          "output_type": "execute_result",
          "data": {
            "text/html": [
              "<div>\n",
              "<style scoped>\n",
              "    .dataframe tbody tr th:only-of-type {\n",
              "        vertical-align: middle;\n",
              "    }\n",
              "\n",
              "    .dataframe tbody tr th {\n",
              "        vertical-align: top;\n",
              "    }\n",
              "\n",
              "    .dataframe thead th {\n",
              "        text-align: right;\n",
              "    }\n",
              "</style>\n",
              "<table border=\"1\" class=\"dataframe\">\n",
              "  <thead>\n",
              "    <tr style=\"text-align: right;\">\n",
              "      <th></th>\n",
              "      <th>Id</th>\n",
              "      <th>vacc_h1n1_f</th>\n",
              "    </tr>\n",
              "  </thead>\n",
              "  <tbody>\n",
              "    <tr>\n",
              "      <th>0</th>\n",
              "      <td>0</td>\n",
              "      <td>False</td>\n",
              "    </tr>\n",
              "    <tr>\n",
              "      <th>1</th>\n",
              "      <td>1</td>\n",
              "      <td>False</td>\n",
              "    </tr>\n",
              "    <tr>\n",
              "      <th>2</th>\n",
              "      <td>2</td>\n",
              "      <td>False</td>\n",
              "    </tr>\n",
              "    <tr>\n",
              "      <th>3</th>\n",
              "      <td>3</td>\n",
              "      <td>False</td>\n",
              "    </tr>\n",
              "    <tr>\n",
              "      <th>4</th>\n",
              "      <td>4</td>\n",
              "      <td>False</td>\n",
              "    </tr>\n",
              "  </tbody>\n",
              "</table>\n",
              "</div>"
            ],
            "text/plain": [
              "   Id  vacc_h1n1_f\n",
              "0   0        False\n",
              "1   1        False\n",
              "2   2        False\n",
              "3   3        False\n",
              "4   4        False"
            ]
          },
          "metadata": {},
          "execution_count": 27
        }
      ]
    },
    {
      "cell_type": "code",
      "metadata": {
        "id": "50xdwCJhwNNu"
      },
      "source": [
        "# 제출용 파일 생성\n",
        "# submission.to_csv('submission.csv', index=False)"
      ],
      "execution_count": 31,
      "outputs": []
    },
    {
      "cell_type": "code",
      "metadata": {
        "id": "CcIBiJiPwNn8"
      },
      "source": [
        "# !kaggle competitions submit -c prediction-of-h1n1-vaccination -f submission.csv -m \"Gyeong ho Ahn, Fourth Submission(using Random Forest) using GridSearchCV & threshold\""
      ],
      "execution_count": null,
      "outputs": []
    }
  ]
}